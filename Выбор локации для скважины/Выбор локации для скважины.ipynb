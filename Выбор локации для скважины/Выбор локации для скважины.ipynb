{
 "cells": [
  {
   "cell_type": "markdown",
   "metadata": {},
   "source": [
    "## Описание данных"
   ]
  },
  {
   "cell_type": "markdown",
   "metadata": {},
   "source": [
    "### Выбор локации для скважины"
   ]
  },
  {
   "cell_type": "markdown",
   "metadata": {},
   "source": [
    "Допустим, вы работаете в добывающей компании «ГлавРосГосНефть». Нужно решить, где бурить новую скважину.\n",
    "\n",
    "Вам предоставлены пробы нефти в трёх регионах: в каждом 10 000 месторождений, где измерили качество нефти и объём её запасов. Постройте модель машинного обучения, которая поможет определить регион, где добыча принесёт наибольшую прибыль. Проанализируйте возможную прибыль и риски техникой *Bootstrap.*\n",
    "\n",
    "Шаги для выбора локации:\n",
    "\n",
    "- В избранном регионе ищут месторождения, для каждого определяют значения признаков;\n",
    "- Строят модель и оценивают объём запасов;\n",
    "- Выбирают месторождения с самым высокими оценками значений. Количество месторождений зависит от бюджета компании и стоимости разработки одной скважины;\n",
    "- Прибыль равна суммарной прибыли отобранных месторождений."
   ]
  },
  {
   "cell_type": "markdown",
   "metadata": {},
   "source": [
    "### Данные которые нам известны:\n",
    "\n",
    "*ID — уникальный идентификатор скважины;*\n",
    "\n",
    "*f0, f1, f2 — три признака точек (неважно, что они означают, но сами признаки значимы);*\n",
    "\n",
    "*product — объём запасов в скважине (тыс. баррелей).*"
   ]
  },
  {
   "cell_type": "markdown",
   "metadata": {},
   "source": [
    "### Условия задачи:\n",
    "Для обучения модели подходит только линейная регрессия (остальные — недостаточно предсказуемые).\n",
    "\n",
    "При разведке региона исследуют 500 точек, из которых с помощью машинного обучения выбирают 200 лучших для разработки.\n",
    "\n",
    "Бюджет на разработку скважин в регионе — 10 млрд рублей.\n",
    "\n",
    "При нынешних ценах один баррель сырья приносит 450 рублей дохода. Доход с каждой единицы продукта составляет 450 тыс. рублей, поскольку объём указан в тысячах баррелей.\n",
    "\n",
    "После оценки рисков нужно оставить лишь те регионы, в которых вероятность убытков меньше 2.5%. Среди них выбирают регион с наибольшей средней прибылью.\n",
    "\n",
    "Данные синтетические: детали контрактов и характеристики месторождений не разглашаются."
   ]
  },
  {
   "cell_type": "markdown",
   "metadata": {},
   "source": [
    "## Загрузка и подготовка данных"
   ]
  },
  {
   "cell_type": "markdown",
   "metadata": {},
   "source": [
    "****Импортируем библиотеки которые нам понадобятся.****"
   ]
  },
  {
   "cell_type": "code",
   "execution_count": 1,
   "metadata": {},
   "outputs": [],
   "source": [
    "import pandas as pd\n",
    "import numpy as np\n",
    "import seaborn as sns\n",
    "import matplotlib.pyplot as plt\n",
    "from sklearn.linear_model import LinearRegression\n",
    "from sklearn.model_selection import train_test_split\n",
    "from sklearn.metrics import mean_squared_error\n",
    "from sklearn.preprocessing import OrdinalEncoder,StandardScaler\n",
    "from scipy import stats as st"
   ]
  },
  {
   "cell_type": "code",
   "execution_count": 2,
   "metadata": {},
   "outputs": [],
   "source": [
    "pd.options.mode.chained_assignment = None"
   ]
  },
  {
   "cell_type": "code",
   "execution_count": 3,
   "metadata": {},
   "outputs": [],
   "source": [
    "geo_0 = pd.read_csv('/datasets/geo_data_0.csv')\n",
    "geo_1 = pd.read_csv('/datasets/geo_data_1.csv')\n",
    "geo_2 = pd.read_csv('/datasets/geo_data_2.csv')"
   ]
  },
  {
   "cell_type": "code",
   "execution_count": 4,
   "metadata": {},
   "outputs": [],
   "source": [
    "def func(x):\n",
    "    display(x.info())\n",
    "    display(x.head(5))\n",
    "    display(x.describe())\n",
    "    print('Дубликаты:',x.duplicated().sum())\n",
    "    print('Пропущеные значения:',x.isna().sum())\n",
    "    return x"
   ]
  },
  {
   "cell_type": "markdown",
   "metadata": {},
   "source": [
    "***Далее изучим наши признаки.***"
   ]
  },
  {
   "cell_type": "code",
   "execution_count": 5,
   "metadata": {
    "scrolled": true
   },
   "outputs": [
    {
     "data": {
      "text/plain": [
       "'Изучим первый регион'"
      ]
     },
     "metadata": {},
     "output_type": "display_data"
    },
    {
     "data": {
      "text/plain": [
       "'------------------------------------------'"
      ]
     },
     "metadata": {},
     "output_type": "display_data"
    },
    {
     "name": "stdout",
     "output_type": "stream",
     "text": [
      "<class 'pandas.core.frame.DataFrame'>\n",
      "RangeIndex: 100000 entries, 0 to 99999\n",
      "Data columns (total 5 columns):\n",
      " #   Column   Non-Null Count   Dtype  \n",
      "---  ------   --------------   -----  \n",
      " 0   id       100000 non-null  object \n",
      " 1   f0       100000 non-null  float64\n",
      " 2   f1       100000 non-null  float64\n",
      " 3   f2       100000 non-null  float64\n",
      " 4   product  100000 non-null  float64\n",
      "dtypes: float64(4), object(1)\n",
      "memory usage: 3.8+ MB\n"
     ]
    },
    {
     "data": {
      "text/plain": [
       "None"
      ]
     },
     "metadata": {},
     "output_type": "display_data"
    },
    {
     "data": {
      "text/html": [
       "<div>\n",
       "<style scoped>\n",
       "    .dataframe tbody tr th:only-of-type {\n",
       "        vertical-align: middle;\n",
       "    }\n",
       "\n",
       "    .dataframe tbody tr th {\n",
       "        vertical-align: top;\n",
       "    }\n",
       "\n",
       "    .dataframe thead th {\n",
       "        text-align: right;\n",
       "    }\n",
       "</style>\n",
       "<table border=\"1\" class=\"dataframe\">\n",
       "  <thead>\n",
       "    <tr style=\"text-align: right;\">\n",
       "      <th></th>\n",
       "      <th>id</th>\n",
       "      <th>f0</th>\n",
       "      <th>f1</th>\n",
       "      <th>f2</th>\n",
       "      <th>product</th>\n",
       "    </tr>\n",
       "  </thead>\n",
       "  <tbody>\n",
       "    <tr>\n",
       "      <th>0</th>\n",
       "      <td>txEyH</td>\n",
       "      <td>0.705745</td>\n",
       "      <td>-0.497823</td>\n",
       "      <td>1.221170</td>\n",
       "      <td>105.280062</td>\n",
       "    </tr>\n",
       "    <tr>\n",
       "      <th>1</th>\n",
       "      <td>2acmU</td>\n",
       "      <td>1.334711</td>\n",
       "      <td>-0.340164</td>\n",
       "      <td>4.365080</td>\n",
       "      <td>73.037750</td>\n",
       "    </tr>\n",
       "    <tr>\n",
       "      <th>2</th>\n",
       "      <td>409Wp</td>\n",
       "      <td>1.022732</td>\n",
       "      <td>0.151990</td>\n",
       "      <td>1.419926</td>\n",
       "      <td>85.265647</td>\n",
       "    </tr>\n",
       "    <tr>\n",
       "      <th>3</th>\n",
       "      <td>iJLyR</td>\n",
       "      <td>-0.032172</td>\n",
       "      <td>0.139033</td>\n",
       "      <td>2.978566</td>\n",
       "      <td>168.620776</td>\n",
       "    </tr>\n",
       "    <tr>\n",
       "      <th>4</th>\n",
       "      <td>Xdl7t</td>\n",
       "      <td>1.988431</td>\n",
       "      <td>0.155413</td>\n",
       "      <td>4.751769</td>\n",
       "      <td>154.036647</td>\n",
       "    </tr>\n",
       "  </tbody>\n",
       "</table>\n",
       "</div>"
      ],
      "text/plain": [
       "      id        f0        f1        f2     product\n",
       "0  txEyH  0.705745 -0.497823  1.221170  105.280062\n",
       "1  2acmU  1.334711 -0.340164  4.365080   73.037750\n",
       "2  409Wp  1.022732  0.151990  1.419926   85.265647\n",
       "3  iJLyR -0.032172  0.139033  2.978566  168.620776\n",
       "4  Xdl7t  1.988431  0.155413  4.751769  154.036647"
      ]
     },
     "metadata": {},
     "output_type": "display_data"
    },
    {
     "data": {
      "text/html": [
       "<div>\n",
       "<style scoped>\n",
       "    .dataframe tbody tr th:only-of-type {\n",
       "        vertical-align: middle;\n",
       "    }\n",
       "\n",
       "    .dataframe tbody tr th {\n",
       "        vertical-align: top;\n",
       "    }\n",
       "\n",
       "    .dataframe thead th {\n",
       "        text-align: right;\n",
       "    }\n",
       "</style>\n",
       "<table border=\"1\" class=\"dataframe\">\n",
       "  <thead>\n",
       "    <tr style=\"text-align: right;\">\n",
       "      <th></th>\n",
       "      <th>f0</th>\n",
       "      <th>f1</th>\n",
       "      <th>f2</th>\n",
       "      <th>product</th>\n",
       "    </tr>\n",
       "  </thead>\n",
       "  <tbody>\n",
       "    <tr>\n",
       "      <th>count</th>\n",
       "      <td>100000.000000</td>\n",
       "      <td>100000.000000</td>\n",
       "      <td>100000.000000</td>\n",
       "      <td>100000.000000</td>\n",
       "    </tr>\n",
       "    <tr>\n",
       "      <th>mean</th>\n",
       "      <td>0.500419</td>\n",
       "      <td>0.250143</td>\n",
       "      <td>2.502647</td>\n",
       "      <td>92.500000</td>\n",
       "    </tr>\n",
       "    <tr>\n",
       "      <th>std</th>\n",
       "      <td>0.871832</td>\n",
       "      <td>0.504433</td>\n",
       "      <td>3.248248</td>\n",
       "      <td>44.288691</td>\n",
       "    </tr>\n",
       "    <tr>\n",
       "      <th>min</th>\n",
       "      <td>-1.408605</td>\n",
       "      <td>-0.848218</td>\n",
       "      <td>-12.088328</td>\n",
       "      <td>0.000000</td>\n",
       "    </tr>\n",
       "    <tr>\n",
       "      <th>25%</th>\n",
       "      <td>-0.072580</td>\n",
       "      <td>-0.200881</td>\n",
       "      <td>0.287748</td>\n",
       "      <td>56.497507</td>\n",
       "    </tr>\n",
       "    <tr>\n",
       "      <th>50%</th>\n",
       "      <td>0.502360</td>\n",
       "      <td>0.250252</td>\n",
       "      <td>2.515969</td>\n",
       "      <td>91.849972</td>\n",
       "    </tr>\n",
       "    <tr>\n",
       "      <th>75%</th>\n",
       "      <td>1.073581</td>\n",
       "      <td>0.700646</td>\n",
       "      <td>4.715088</td>\n",
       "      <td>128.564089</td>\n",
       "    </tr>\n",
       "    <tr>\n",
       "      <th>max</th>\n",
       "      <td>2.362331</td>\n",
       "      <td>1.343769</td>\n",
       "      <td>16.003790</td>\n",
       "      <td>185.364347</td>\n",
       "    </tr>\n",
       "  </tbody>\n",
       "</table>\n",
       "</div>"
      ],
      "text/plain": [
       "                  f0             f1             f2        product\n",
       "count  100000.000000  100000.000000  100000.000000  100000.000000\n",
       "mean        0.500419       0.250143       2.502647      92.500000\n",
       "std         0.871832       0.504433       3.248248      44.288691\n",
       "min        -1.408605      -0.848218     -12.088328       0.000000\n",
       "25%        -0.072580      -0.200881       0.287748      56.497507\n",
       "50%         0.502360       0.250252       2.515969      91.849972\n",
       "75%         1.073581       0.700646       4.715088     128.564089\n",
       "max         2.362331       1.343769      16.003790     185.364347"
      ]
     },
     "metadata": {},
     "output_type": "display_data"
    },
    {
     "name": "stdout",
     "output_type": "stream",
     "text": [
      "Дубликаты: 0\n",
      "Пропущеные значения: id         0\n",
      "f0         0\n",
      "f1         0\n",
      "f2         0\n",
      "product    0\n",
      "dtype: int64\n"
     ]
    },
    {
     "data": {
      "text/html": [
       "<div>\n",
       "<style scoped>\n",
       "    .dataframe tbody tr th:only-of-type {\n",
       "        vertical-align: middle;\n",
       "    }\n",
       "\n",
       "    .dataframe tbody tr th {\n",
       "        vertical-align: top;\n",
       "    }\n",
       "\n",
       "    .dataframe thead th {\n",
       "        text-align: right;\n",
       "    }\n",
       "</style>\n",
       "<table border=\"1\" class=\"dataframe\">\n",
       "  <thead>\n",
       "    <tr style=\"text-align: right;\">\n",
       "      <th></th>\n",
       "      <th>id</th>\n",
       "      <th>f0</th>\n",
       "      <th>f1</th>\n",
       "      <th>f2</th>\n",
       "      <th>product</th>\n",
       "    </tr>\n",
       "  </thead>\n",
       "  <tbody>\n",
       "    <tr>\n",
       "      <th>0</th>\n",
       "      <td>txEyH</td>\n",
       "      <td>0.705745</td>\n",
       "      <td>-0.497823</td>\n",
       "      <td>1.221170</td>\n",
       "      <td>105.280062</td>\n",
       "    </tr>\n",
       "    <tr>\n",
       "      <th>1</th>\n",
       "      <td>2acmU</td>\n",
       "      <td>1.334711</td>\n",
       "      <td>-0.340164</td>\n",
       "      <td>4.365080</td>\n",
       "      <td>73.037750</td>\n",
       "    </tr>\n",
       "    <tr>\n",
       "      <th>2</th>\n",
       "      <td>409Wp</td>\n",
       "      <td>1.022732</td>\n",
       "      <td>0.151990</td>\n",
       "      <td>1.419926</td>\n",
       "      <td>85.265647</td>\n",
       "    </tr>\n",
       "    <tr>\n",
       "      <th>3</th>\n",
       "      <td>iJLyR</td>\n",
       "      <td>-0.032172</td>\n",
       "      <td>0.139033</td>\n",
       "      <td>2.978566</td>\n",
       "      <td>168.620776</td>\n",
       "    </tr>\n",
       "    <tr>\n",
       "      <th>4</th>\n",
       "      <td>Xdl7t</td>\n",
       "      <td>1.988431</td>\n",
       "      <td>0.155413</td>\n",
       "      <td>4.751769</td>\n",
       "      <td>154.036647</td>\n",
       "    </tr>\n",
       "    <tr>\n",
       "      <th>...</th>\n",
       "      <td>...</td>\n",
       "      <td>...</td>\n",
       "      <td>...</td>\n",
       "      <td>...</td>\n",
       "      <td>...</td>\n",
       "    </tr>\n",
       "    <tr>\n",
       "      <th>99995</th>\n",
       "      <td>DLsed</td>\n",
       "      <td>0.971957</td>\n",
       "      <td>0.370953</td>\n",
       "      <td>6.075346</td>\n",
       "      <td>110.744026</td>\n",
       "    </tr>\n",
       "    <tr>\n",
       "      <th>99996</th>\n",
       "      <td>QKivN</td>\n",
       "      <td>1.392429</td>\n",
       "      <td>-0.382606</td>\n",
       "      <td>1.273912</td>\n",
       "      <td>122.346843</td>\n",
       "    </tr>\n",
       "    <tr>\n",
       "      <th>99997</th>\n",
       "      <td>3rnvd</td>\n",
       "      <td>1.029585</td>\n",
       "      <td>0.018787</td>\n",
       "      <td>-1.348308</td>\n",
       "      <td>64.375443</td>\n",
       "    </tr>\n",
       "    <tr>\n",
       "      <th>99998</th>\n",
       "      <td>7kl59</td>\n",
       "      <td>0.998163</td>\n",
       "      <td>-0.528582</td>\n",
       "      <td>1.583869</td>\n",
       "      <td>74.040764</td>\n",
       "    </tr>\n",
       "    <tr>\n",
       "      <th>99999</th>\n",
       "      <td>1CWhH</td>\n",
       "      <td>1.764754</td>\n",
       "      <td>-0.266417</td>\n",
       "      <td>5.722849</td>\n",
       "      <td>149.633246</td>\n",
       "    </tr>\n",
       "  </tbody>\n",
       "</table>\n",
       "<p>100000 rows × 5 columns</p>\n",
       "</div>"
      ],
      "text/plain": [
       "          id        f0        f1        f2     product\n",
       "0      txEyH  0.705745 -0.497823  1.221170  105.280062\n",
       "1      2acmU  1.334711 -0.340164  4.365080   73.037750\n",
       "2      409Wp  1.022732  0.151990  1.419926   85.265647\n",
       "3      iJLyR -0.032172  0.139033  2.978566  168.620776\n",
       "4      Xdl7t  1.988431  0.155413  4.751769  154.036647\n",
       "...      ...       ...       ...       ...         ...\n",
       "99995  DLsed  0.971957  0.370953  6.075346  110.744026\n",
       "99996  QKivN  1.392429 -0.382606  1.273912  122.346843\n",
       "99997  3rnvd  1.029585  0.018787 -1.348308   64.375443\n",
       "99998  7kl59  0.998163 -0.528582  1.583869   74.040764\n",
       "99999  1CWhH  1.764754 -0.266417  5.722849  149.633246\n",
       "\n",
       "[100000 rows x 5 columns]"
      ]
     },
     "metadata": {},
     "output_type": "display_data"
    }
   ],
   "source": [
    "display('Изучим первый регион')\n",
    "display('------------------------------------------')\n",
    "display(func(geo_0))"
   ]
  },
  {
   "cell_type": "code",
   "execution_count": 6,
   "metadata": {
    "scrolled": true
   },
   "outputs": [
    {
     "name": "stdout",
     "output_type": "stream",
     "text": [
      "Изучим второй регион\n",
      "------------------------------------------\n",
      "<class 'pandas.core.frame.DataFrame'>\n",
      "RangeIndex: 100000 entries, 0 to 99999\n",
      "Data columns (total 5 columns):\n",
      " #   Column   Non-Null Count   Dtype  \n",
      "---  ------   --------------   -----  \n",
      " 0   id       100000 non-null  object \n",
      " 1   f0       100000 non-null  float64\n",
      " 2   f1       100000 non-null  float64\n",
      " 3   f2       100000 non-null  float64\n",
      " 4   product  100000 non-null  float64\n",
      "dtypes: float64(4), object(1)\n",
      "memory usage: 3.8+ MB\n"
     ]
    },
    {
     "data": {
      "text/plain": [
       "None"
      ]
     },
     "metadata": {},
     "output_type": "display_data"
    },
    {
     "data": {
      "text/html": [
       "<div>\n",
       "<style scoped>\n",
       "    .dataframe tbody tr th:only-of-type {\n",
       "        vertical-align: middle;\n",
       "    }\n",
       "\n",
       "    .dataframe tbody tr th {\n",
       "        vertical-align: top;\n",
       "    }\n",
       "\n",
       "    .dataframe thead th {\n",
       "        text-align: right;\n",
       "    }\n",
       "</style>\n",
       "<table border=\"1\" class=\"dataframe\">\n",
       "  <thead>\n",
       "    <tr style=\"text-align: right;\">\n",
       "      <th></th>\n",
       "      <th>id</th>\n",
       "      <th>f0</th>\n",
       "      <th>f1</th>\n",
       "      <th>f2</th>\n",
       "      <th>product</th>\n",
       "    </tr>\n",
       "  </thead>\n",
       "  <tbody>\n",
       "    <tr>\n",
       "      <th>0</th>\n",
       "      <td>kBEdx</td>\n",
       "      <td>-15.001348</td>\n",
       "      <td>-8.276000</td>\n",
       "      <td>-0.005876</td>\n",
       "      <td>3.179103</td>\n",
       "    </tr>\n",
       "    <tr>\n",
       "      <th>1</th>\n",
       "      <td>62mP7</td>\n",
       "      <td>14.272088</td>\n",
       "      <td>-3.475083</td>\n",
       "      <td>0.999183</td>\n",
       "      <td>26.953261</td>\n",
       "    </tr>\n",
       "    <tr>\n",
       "      <th>2</th>\n",
       "      <td>vyE1P</td>\n",
       "      <td>6.263187</td>\n",
       "      <td>-5.948386</td>\n",
       "      <td>5.001160</td>\n",
       "      <td>134.766305</td>\n",
       "    </tr>\n",
       "    <tr>\n",
       "      <th>3</th>\n",
       "      <td>KcrkZ</td>\n",
       "      <td>-13.081196</td>\n",
       "      <td>-11.506057</td>\n",
       "      <td>4.999415</td>\n",
       "      <td>137.945408</td>\n",
       "    </tr>\n",
       "    <tr>\n",
       "      <th>4</th>\n",
       "      <td>AHL4O</td>\n",
       "      <td>12.702195</td>\n",
       "      <td>-8.147433</td>\n",
       "      <td>5.004363</td>\n",
       "      <td>134.766305</td>\n",
       "    </tr>\n",
       "  </tbody>\n",
       "</table>\n",
       "</div>"
      ],
      "text/plain": [
       "      id         f0         f1        f2     product\n",
       "0  kBEdx -15.001348  -8.276000 -0.005876    3.179103\n",
       "1  62mP7  14.272088  -3.475083  0.999183   26.953261\n",
       "2  vyE1P   6.263187  -5.948386  5.001160  134.766305\n",
       "3  KcrkZ -13.081196 -11.506057  4.999415  137.945408\n",
       "4  AHL4O  12.702195  -8.147433  5.004363  134.766305"
      ]
     },
     "metadata": {},
     "output_type": "display_data"
    },
    {
     "data": {
      "text/html": [
       "<div>\n",
       "<style scoped>\n",
       "    .dataframe tbody tr th:only-of-type {\n",
       "        vertical-align: middle;\n",
       "    }\n",
       "\n",
       "    .dataframe tbody tr th {\n",
       "        vertical-align: top;\n",
       "    }\n",
       "\n",
       "    .dataframe thead th {\n",
       "        text-align: right;\n",
       "    }\n",
       "</style>\n",
       "<table border=\"1\" class=\"dataframe\">\n",
       "  <thead>\n",
       "    <tr style=\"text-align: right;\">\n",
       "      <th></th>\n",
       "      <th>f0</th>\n",
       "      <th>f1</th>\n",
       "      <th>f2</th>\n",
       "      <th>product</th>\n",
       "    </tr>\n",
       "  </thead>\n",
       "  <tbody>\n",
       "    <tr>\n",
       "      <th>count</th>\n",
       "      <td>100000.000000</td>\n",
       "      <td>100000.000000</td>\n",
       "      <td>100000.000000</td>\n",
       "      <td>100000.000000</td>\n",
       "    </tr>\n",
       "    <tr>\n",
       "      <th>mean</th>\n",
       "      <td>1.141296</td>\n",
       "      <td>-4.796579</td>\n",
       "      <td>2.494541</td>\n",
       "      <td>68.825000</td>\n",
       "    </tr>\n",
       "    <tr>\n",
       "      <th>std</th>\n",
       "      <td>8.965932</td>\n",
       "      <td>5.119872</td>\n",
       "      <td>1.703572</td>\n",
       "      <td>45.944423</td>\n",
       "    </tr>\n",
       "    <tr>\n",
       "      <th>min</th>\n",
       "      <td>-31.609576</td>\n",
       "      <td>-26.358598</td>\n",
       "      <td>-0.018144</td>\n",
       "      <td>0.000000</td>\n",
       "    </tr>\n",
       "    <tr>\n",
       "      <th>25%</th>\n",
       "      <td>-6.298551</td>\n",
       "      <td>-8.267985</td>\n",
       "      <td>1.000021</td>\n",
       "      <td>26.953261</td>\n",
       "    </tr>\n",
       "    <tr>\n",
       "      <th>50%</th>\n",
       "      <td>1.153055</td>\n",
       "      <td>-4.813172</td>\n",
       "      <td>2.011479</td>\n",
       "      <td>57.085625</td>\n",
       "    </tr>\n",
       "    <tr>\n",
       "      <th>75%</th>\n",
       "      <td>8.621015</td>\n",
       "      <td>-1.332816</td>\n",
       "      <td>3.999904</td>\n",
       "      <td>107.813044</td>\n",
       "    </tr>\n",
       "    <tr>\n",
       "      <th>max</th>\n",
       "      <td>29.421755</td>\n",
       "      <td>18.734063</td>\n",
       "      <td>5.019721</td>\n",
       "      <td>137.945408</td>\n",
       "    </tr>\n",
       "  </tbody>\n",
       "</table>\n",
       "</div>"
      ],
      "text/plain": [
       "                  f0             f1             f2        product\n",
       "count  100000.000000  100000.000000  100000.000000  100000.000000\n",
       "mean        1.141296      -4.796579       2.494541      68.825000\n",
       "std         8.965932       5.119872       1.703572      45.944423\n",
       "min       -31.609576     -26.358598      -0.018144       0.000000\n",
       "25%        -6.298551      -8.267985       1.000021      26.953261\n",
       "50%         1.153055      -4.813172       2.011479      57.085625\n",
       "75%         8.621015      -1.332816       3.999904     107.813044\n",
       "max        29.421755      18.734063       5.019721     137.945408"
      ]
     },
     "metadata": {},
     "output_type": "display_data"
    },
    {
     "name": "stdout",
     "output_type": "stream",
     "text": [
      "Дубликаты: 0\n",
      "Пропущеные значения: id         0\n",
      "f0         0\n",
      "f1         0\n",
      "f2         0\n",
      "product    0\n",
      "dtype: int64\n"
     ]
    },
    {
     "data": {
      "text/html": [
       "<div>\n",
       "<style scoped>\n",
       "    .dataframe tbody tr th:only-of-type {\n",
       "        vertical-align: middle;\n",
       "    }\n",
       "\n",
       "    .dataframe tbody tr th {\n",
       "        vertical-align: top;\n",
       "    }\n",
       "\n",
       "    .dataframe thead th {\n",
       "        text-align: right;\n",
       "    }\n",
       "</style>\n",
       "<table border=\"1\" class=\"dataframe\">\n",
       "  <thead>\n",
       "    <tr style=\"text-align: right;\">\n",
       "      <th></th>\n",
       "      <th>id</th>\n",
       "      <th>f0</th>\n",
       "      <th>f1</th>\n",
       "      <th>f2</th>\n",
       "      <th>product</th>\n",
       "    </tr>\n",
       "  </thead>\n",
       "  <tbody>\n",
       "    <tr>\n",
       "      <th>0</th>\n",
       "      <td>kBEdx</td>\n",
       "      <td>-15.001348</td>\n",
       "      <td>-8.276000</td>\n",
       "      <td>-0.005876</td>\n",
       "      <td>3.179103</td>\n",
       "    </tr>\n",
       "    <tr>\n",
       "      <th>1</th>\n",
       "      <td>62mP7</td>\n",
       "      <td>14.272088</td>\n",
       "      <td>-3.475083</td>\n",
       "      <td>0.999183</td>\n",
       "      <td>26.953261</td>\n",
       "    </tr>\n",
       "    <tr>\n",
       "      <th>2</th>\n",
       "      <td>vyE1P</td>\n",
       "      <td>6.263187</td>\n",
       "      <td>-5.948386</td>\n",
       "      <td>5.001160</td>\n",
       "      <td>134.766305</td>\n",
       "    </tr>\n",
       "    <tr>\n",
       "      <th>3</th>\n",
       "      <td>KcrkZ</td>\n",
       "      <td>-13.081196</td>\n",
       "      <td>-11.506057</td>\n",
       "      <td>4.999415</td>\n",
       "      <td>137.945408</td>\n",
       "    </tr>\n",
       "    <tr>\n",
       "      <th>4</th>\n",
       "      <td>AHL4O</td>\n",
       "      <td>12.702195</td>\n",
       "      <td>-8.147433</td>\n",
       "      <td>5.004363</td>\n",
       "      <td>134.766305</td>\n",
       "    </tr>\n",
       "    <tr>\n",
       "      <th>...</th>\n",
       "      <td>...</td>\n",
       "      <td>...</td>\n",
       "      <td>...</td>\n",
       "      <td>...</td>\n",
       "      <td>...</td>\n",
       "    </tr>\n",
       "    <tr>\n",
       "      <th>99995</th>\n",
       "      <td>QywKC</td>\n",
       "      <td>9.535637</td>\n",
       "      <td>-6.878139</td>\n",
       "      <td>1.998296</td>\n",
       "      <td>53.906522</td>\n",
       "    </tr>\n",
       "    <tr>\n",
       "      <th>99996</th>\n",
       "      <td>ptvty</td>\n",
       "      <td>-10.160631</td>\n",
       "      <td>-12.558096</td>\n",
       "      <td>5.005581</td>\n",
       "      <td>137.945408</td>\n",
       "    </tr>\n",
       "    <tr>\n",
       "      <th>99997</th>\n",
       "      <td>09gWa</td>\n",
       "      <td>-7.378891</td>\n",
       "      <td>-3.084104</td>\n",
       "      <td>4.998651</td>\n",
       "      <td>137.945408</td>\n",
       "    </tr>\n",
       "    <tr>\n",
       "      <th>99998</th>\n",
       "      <td>rqwUm</td>\n",
       "      <td>0.665714</td>\n",
       "      <td>-6.152593</td>\n",
       "      <td>1.000146</td>\n",
       "      <td>30.132364</td>\n",
       "    </tr>\n",
       "    <tr>\n",
       "      <th>99999</th>\n",
       "      <td>relB0</td>\n",
       "      <td>-3.426139</td>\n",
       "      <td>-7.794274</td>\n",
       "      <td>-0.003299</td>\n",
       "      <td>3.179103</td>\n",
       "    </tr>\n",
       "  </tbody>\n",
       "</table>\n",
       "<p>100000 rows × 5 columns</p>\n",
       "</div>"
      ],
      "text/plain": [
       "          id         f0         f1        f2     product\n",
       "0      kBEdx -15.001348  -8.276000 -0.005876    3.179103\n",
       "1      62mP7  14.272088  -3.475083  0.999183   26.953261\n",
       "2      vyE1P   6.263187  -5.948386  5.001160  134.766305\n",
       "3      KcrkZ -13.081196 -11.506057  4.999415  137.945408\n",
       "4      AHL4O  12.702195  -8.147433  5.004363  134.766305\n",
       "...      ...        ...        ...       ...         ...\n",
       "99995  QywKC   9.535637  -6.878139  1.998296   53.906522\n",
       "99996  ptvty -10.160631 -12.558096  5.005581  137.945408\n",
       "99997  09gWa  -7.378891  -3.084104  4.998651  137.945408\n",
       "99998  rqwUm   0.665714  -6.152593  1.000146   30.132364\n",
       "99999  relB0  -3.426139  -7.794274 -0.003299    3.179103\n",
       "\n",
       "[100000 rows x 5 columns]"
      ]
     },
     "metadata": {},
     "output_type": "display_data"
    }
   ],
   "source": [
    "print('Изучим второй регион')\n",
    "print('------------------------------------------')\n",
    "display(func(geo_1))"
   ]
  },
  {
   "cell_type": "code",
   "execution_count": 7,
   "metadata": {
    "scrolled": true
   },
   "outputs": [
    {
     "name": "stdout",
     "output_type": "stream",
     "text": [
      "Изучим третий регион\n",
      "-------------------------------------------\n",
      "<class 'pandas.core.frame.DataFrame'>\n",
      "RangeIndex: 100000 entries, 0 to 99999\n",
      "Data columns (total 5 columns):\n",
      " #   Column   Non-Null Count   Dtype  \n",
      "---  ------   --------------   -----  \n",
      " 0   id       100000 non-null  object \n",
      " 1   f0       100000 non-null  float64\n",
      " 2   f1       100000 non-null  float64\n",
      " 3   f2       100000 non-null  float64\n",
      " 4   product  100000 non-null  float64\n",
      "dtypes: float64(4), object(1)\n",
      "memory usage: 3.8+ MB\n"
     ]
    },
    {
     "data": {
      "text/plain": [
       "None"
      ]
     },
     "metadata": {},
     "output_type": "display_data"
    },
    {
     "data": {
      "text/html": [
       "<div>\n",
       "<style scoped>\n",
       "    .dataframe tbody tr th:only-of-type {\n",
       "        vertical-align: middle;\n",
       "    }\n",
       "\n",
       "    .dataframe tbody tr th {\n",
       "        vertical-align: top;\n",
       "    }\n",
       "\n",
       "    .dataframe thead th {\n",
       "        text-align: right;\n",
       "    }\n",
       "</style>\n",
       "<table border=\"1\" class=\"dataframe\">\n",
       "  <thead>\n",
       "    <tr style=\"text-align: right;\">\n",
       "      <th></th>\n",
       "      <th>id</th>\n",
       "      <th>f0</th>\n",
       "      <th>f1</th>\n",
       "      <th>f2</th>\n",
       "      <th>product</th>\n",
       "    </tr>\n",
       "  </thead>\n",
       "  <tbody>\n",
       "    <tr>\n",
       "      <th>0</th>\n",
       "      <td>fwXo0</td>\n",
       "      <td>-1.146987</td>\n",
       "      <td>0.963328</td>\n",
       "      <td>-0.828965</td>\n",
       "      <td>27.758673</td>\n",
       "    </tr>\n",
       "    <tr>\n",
       "      <th>1</th>\n",
       "      <td>WJtFt</td>\n",
       "      <td>0.262778</td>\n",
       "      <td>0.269839</td>\n",
       "      <td>-2.530187</td>\n",
       "      <td>56.069697</td>\n",
       "    </tr>\n",
       "    <tr>\n",
       "      <th>2</th>\n",
       "      <td>ovLUW</td>\n",
       "      <td>0.194587</td>\n",
       "      <td>0.289035</td>\n",
       "      <td>-5.586433</td>\n",
       "      <td>62.871910</td>\n",
       "    </tr>\n",
       "    <tr>\n",
       "      <th>3</th>\n",
       "      <td>q6cA6</td>\n",
       "      <td>2.236060</td>\n",
       "      <td>-0.553760</td>\n",
       "      <td>0.930038</td>\n",
       "      <td>114.572842</td>\n",
       "    </tr>\n",
       "    <tr>\n",
       "      <th>4</th>\n",
       "      <td>WPMUX</td>\n",
       "      <td>-0.515993</td>\n",
       "      <td>1.716266</td>\n",
       "      <td>5.899011</td>\n",
       "      <td>149.600746</td>\n",
       "    </tr>\n",
       "  </tbody>\n",
       "</table>\n",
       "</div>"
      ],
      "text/plain": [
       "      id        f0        f1        f2     product\n",
       "0  fwXo0 -1.146987  0.963328 -0.828965   27.758673\n",
       "1  WJtFt  0.262778  0.269839 -2.530187   56.069697\n",
       "2  ovLUW  0.194587  0.289035 -5.586433   62.871910\n",
       "3  q6cA6  2.236060 -0.553760  0.930038  114.572842\n",
       "4  WPMUX -0.515993  1.716266  5.899011  149.600746"
      ]
     },
     "metadata": {},
     "output_type": "display_data"
    },
    {
     "data": {
      "text/html": [
       "<div>\n",
       "<style scoped>\n",
       "    .dataframe tbody tr th:only-of-type {\n",
       "        vertical-align: middle;\n",
       "    }\n",
       "\n",
       "    .dataframe tbody tr th {\n",
       "        vertical-align: top;\n",
       "    }\n",
       "\n",
       "    .dataframe thead th {\n",
       "        text-align: right;\n",
       "    }\n",
       "</style>\n",
       "<table border=\"1\" class=\"dataframe\">\n",
       "  <thead>\n",
       "    <tr style=\"text-align: right;\">\n",
       "      <th></th>\n",
       "      <th>f0</th>\n",
       "      <th>f1</th>\n",
       "      <th>f2</th>\n",
       "      <th>product</th>\n",
       "    </tr>\n",
       "  </thead>\n",
       "  <tbody>\n",
       "    <tr>\n",
       "      <th>count</th>\n",
       "      <td>100000.000000</td>\n",
       "      <td>100000.000000</td>\n",
       "      <td>100000.000000</td>\n",
       "      <td>100000.000000</td>\n",
       "    </tr>\n",
       "    <tr>\n",
       "      <th>mean</th>\n",
       "      <td>0.002023</td>\n",
       "      <td>-0.002081</td>\n",
       "      <td>2.495128</td>\n",
       "      <td>95.000000</td>\n",
       "    </tr>\n",
       "    <tr>\n",
       "      <th>std</th>\n",
       "      <td>1.732045</td>\n",
       "      <td>1.730417</td>\n",
       "      <td>3.473445</td>\n",
       "      <td>44.749921</td>\n",
       "    </tr>\n",
       "    <tr>\n",
       "      <th>min</th>\n",
       "      <td>-8.760004</td>\n",
       "      <td>-7.084020</td>\n",
       "      <td>-11.970335</td>\n",
       "      <td>0.000000</td>\n",
       "    </tr>\n",
       "    <tr>\n",
       "      <th>25%</th>\n",
       "      <td>-1.162288</td>\n",
       "      <td>-1.174820</td>\n",
       "      <td>0.130359</td>\n",
       "      <td>59.450441</td>\n",
       "    </tr>\n",
       "    <tr>\n",
       "      <th>50%</th>\n",
       "      <td>0.009424</td>\n",
       "      <td>-0.009482</td>\n",
       "      <td>2.484236</td>\n",
       "      <td>94.925613</td>\n",
       "    </tr>\n",
       "    <tr>\n",
       "      <th>75%</th>\n",
       "      <td>1.158535</td>\n",
       "      <td>1.163678</td>\n",
       "      <td>4.858794</td>\n",
       "      <td>130.595027</td>\n",
       "    </tr>\n",
       "    <tr>\n",
       "      <th>max</th>\n",
       "      <td>7.238262</td>\n",
       "      <td>7.844801</td>\n",
       "      <td>16.739402</td>\n",
       "      <td>190.029838</td>\n",
       "    </tr>\n",
       "  </tbody>\n",
       "</table>\n",
       "</div>"
      ],
      "text/plain": [
       "                  f0             f1             f2        product\n",
       "count  100000.000000  100000.000000  100000.000000  100000.000000\n",
       "mean        0.002023      -0.002081       2.495128      95.000000\n",
       "std         1.732045       1.730417       3.473445      44.749921\n",
       "min        -8.760004      -7.084020     -11.970335       0.000000\n",
       "25%        -1.162288      -1.174820       0.130359      59.450441\n",
       "50%         0.009424      -0.009482       2.484236      94.925613\n",
       "75%         1.158535       1.163678       4.858794     130.595027\n",
       "max         7.238262       7.844801      16.739402     190.029838"
      ]
     },
     "metadata": {},
     "output_type": "display_data"
    },
    {
     "name": "stdout",
     "output_type": "stream",
     "text": [
      "Дубликаты: 0\n",
      "Пропущеные значения: id         0\n",
      "f0         0\n",
      "f1         0\n",
      "f2         0\n",
      "product    0\n",
      "dtype: int64\n"
     ]
    },
    {
     "data": {
      "text/html": [
       "<div>\n",
       "<style scoped>\n",
       "    .dataframe tbody tr th:only-of-type {\n",
       "        vertical-align: middle;\n",
       "    }\n",
       "\n",
       "    .dataframe tbody tr th {\n",
       "        vertical-align: top;\n",
       "    }\n",
       "\n",
       "    .dataframe thead th {\n",
       "        text-align: right;\n",
       "    }\n",
       "</style>\n",
       "<table border=\"1\" class=\"dataframe\">\n",
       "  <thead>\n",
       "    <tr style=\"text-align: right;\">\n",
       "      <th></th>\n",
       "      <th>id</th>\n",
       "      <th>f0</th>\n",
       "      <th>f1</th>\n",
       "      <th>f2</th>\n",
       "      <th>product</th>\n",
       "    </tr>\n",
       "  </thead>\n",
       "  <tbody>\n",
       "    <tr>\n",
       "      <th>0</th>\n",
       "      <td>fwXo0</td>\n",
       "      <td>-1.146987</td>\n",
       "      <td>0.963328</td>\n",
       "      <td>-0.828965</td>\n",
       "      <td>27.758673</td>\n",
       "    </tr>\n",
       "    <tr>\n",
       "      <th>1</th>\n",
       "      <td>WJtFt</td>\n",
       "      <td>0.262778</td>\n",
       "      <td>0.269839</td>\n",
       "      <td>-2.530187</td>\n",
       "      <td>56.069697</td>\n",
       "    </tr>\n",
       "    <tr>\n",
       "      <th>2</th>\n",
       "      <td>ovLUW</td>\n",
       "      <td>0.194587</td>\n",
       "      <td>0.289035</td>\n",
       "      <td>-5.586433</td>\n",
       "      <td>62.871910</td>\n",
       "    </tr>\n",
       "    <tr>\n",
       "      <th>3</th>\n",
       "      <td>q6cA6</td>\n",
       "      <td>2.236060</td>\n",
       "      <td>-0.553760</td>\n",
       "      <td>0.930038</td>\n",
       "      <td>114.572842</td>\n",
       "    </tr>\n",
       "    <tr>\n",
       "      <th>4</th>\n",
       "      <td>WPMUX</td>\n",
       "      <td>-0.515993</td>\n",
       "      <td>1.716266</td>\n",
       "      <td>5.899011</td>\n",
       "      <td>149.600746</td>\n",
       "    </tr>\n",
       "    <tr>\n",
       "      <th>...</th>\n",
       "      <td>...</td>\n",
       "      <td>...</td>\n",
       "      <td>...</td>\n",
       "      <td>...</td>\n",
       "      <td>...</td>\n",
       "    </tr>\n",
       "    <tr>\n",
       "      <th>99995</th>\n",
       "      <td>4GxBu</td>\n",
       "      <td>-1.777037</td>\n",
       "      <td>1.125220</td>\n",
       "      <td>6.263374</td>\n",
       "      <td>172.327046</td>\n",
       "    </tr>\n",
       "    <tr>\n",
       "      <th>99996</th>\n",
       "      <td>YKFjq</td>\n",
       "      <td>-1.261523</td>\n",
       "      <td>-0.894828</td>\n",
       "      <td>2.524545</td>\n",
       "      <td>138.748846</td>\n",
       "    </tr>\n",
       "    <tr>\n",
       "      <th>99997</th>\n",
       "      <td>tKPY3</td>\n",
       "      <td>-1.199934</td>\n",
       "      <td>-2.957637</td>\n",
       "      <td>5.219411</td>\n",
       "      <td>157.080080</td>\n",
       "    </tr>\n",
       "    <tr>\n",
       "      <th>99998</th>\n",
       "      <td>nmxp2</td>\n",
       "      <td>-2.419896</td>\n",
       "      <td>2.417221</td>\n",
       "      <td>-5.548444</td>\n",
       "      <td>51.795253</td>\n",
       "    </tr>\n",
       "    <tr>\n",
       "      <th>99999</th>\n",
       "      <td>V9kWn</td>\n",
       "      <td>-2.551421</td>\n",
       "      <td>-2.025625</td>\n",
       "      <td>6.090891</td>\n",
       "      <td>102.775767</td>\n",
       "    </tr>\n",
       "  </tbody>\n",
       "</table>\n",
       "<p>100000 rows × 5 columns</p>\n",
       "</div>"
      ],
      "text/plain": [
       "          id        f0        f1        f2     product\n",
       "0      fwXo0 -1.146987  0.963328 -0.828965   27.758673\n",
       "1      WJtFt  0.262778  0.269839 -2.530187   56.069697\n",
       "2      ovLUW  0.194587  0.289035 -5.586433   62.871910\n",
       "3      q6cA6  2.236060 -0.553760  0.930038  114.572842\n",
       "4      WPMUX -0.515993  1.716266  5.899011  149.600746\n",
       "...      ...       ...       ...       ...         ...\n",
       "99995  4GxBu -1.777037  1.125220  6.263374  172.327046\n",
       "99996  YKFjq -1.261523 -0.894828  2.524545  138.748846\n",
       "99997  tKPY3 -1.199934 -2.957637  5.219411  157.080080\n",
       "99998  nmxp2 -2.419896  2.417221 -5.548444   51.795253\n",
       "99999  V9kWn -2.551421 -2.025625  6.090891  102.775767\n",
       "\n",
       "[100000 rows x 5 columns]"
      ]
     },
     "metadata": {},
     "output_type": "display_data"
    }
   ],
   "source": [
    "print('Изучим третий регион')\n",
    "print('-------------------------------------------')\n",
    "display(func(geo_2))"
   ]
  },
  {
   "cell_type": "markdown",
   "metadata": {},
   "source": [
    "***Вывод***\n",
    "* Данных достаточно для выполнения задания.\n",
    "* Нету пропущенных значений и дубликатов.\n",
    "** f0,f1,f2 - на данном этапе можно заметить:\n",
    "** минимальные показатели минусовые - догадываюсь,что очень убыточные.\n",
    "** медианное значение не отрицательное только у первого региона.Остальные зачастую убыточные.Думаю при выборе правильное точке повысим существенно статистику."
   ]
  },
  {
   "cell_type": "code",
   "execution_count": 8,
   "metadata": {
    "scrolled": true
   },
   "outputs": [
    {
     "data": {
      "image/png": "[encoded data removed]",
      "text/plain": [
       "<Figure size 432x288 with 2 Axes>"
      ]
     },
     "metadata": {
      "needs_background": "light"
     },
     "output_type": "display_data"
    },
    {
     "data": {
      "text/plain": [
       "<Figure size 1152x432 with 0 Axes>"
      ]
     },
     "metadata": {},
     "output_type": "display_data"
    },
    {
     "name": "stdout",
     "output_type": "stream",
     "text": [
      "               f0        f1        f2   product\n",
      "f0       1.000000 -0.440723 -0.003153  0.143536\n",
      "f1      -0.440723  1.000000  0.001724 -0.192356\n",
      "f2      -0.003153  0.001724  1.000000  0.483663\n",
      "product  0.143536 -0.192356  0.483663  1.000000\n"
     ]
    },
    {
     "data": {
      "image/png": "[encoded data removed]",
      "text/plain": [
       "<Figure size 432x288 with 2 Axes>"
      ]
     },
     "metadata": {
      "needs_background": "light"
     },
     "output_type": "display_data"
    },
    {
     "data": {
      "text/plain": [
       "<Figure size 1152x432 with 0 Axes>"
      ]
     },
     "metadata": {},
     "output_type": "display_data"
    },
    {
     "name": "stdout",
     "output_type": "stream",
     "text": [
      "               f0        f1        f2   product\n",
      "f0       1.000000  0.182287 -0.001777 -0.030491\n",
      "f1       0.182287  1.000000 -0.002595 -0.010155\n",
      "f2      -0.001777 -0.002595  1.000000  0.999397\n",
      "product -0.030491 -0.010155  0.999397  1.000000\n"
     ]
    },
    {
     "data": {
      "image/png": "[encoded data removed]",
      "text/plain": [
       "<Figure size 432x288 with 2 Axes>"
      ]
     },
     "metadata": {
      "needs_background": "light"
     },
     "output_type": "display_data"
    },
    {
     "data": {
      "text/plain": [
       "<Figure size 1152x432 with 0 Axes>"
      ]
     },
     "metadata": {},
     "output_type": "display_data"
    },
    {
     "name": "stdout",
     "output_type": "stream",
     "text": [
      "               f0        f1        f2   product\n",
      "f0       1.000000  0.000528 -0.000448 -0.001987\n",
      "f1       0.000528  1.000000  0.000779 -0.001012\n",
      "f2      -0.000448  0.000779  1.000000  0.445871\n",
      "product -0.001987 -0.001012  0.445871  1.000000\n"
     ]
    }
   ],
   "source": [
    "def fun(x):\n",
    "    sns.heatmap(x.corr(),cmap='summer',annot=True)\n",
    "    plt.figure(figsize=(16, 6))\n",
    "    plt.show()\n",
    "    return x.corr()\n",
    "print(fun(geo_0))\n",
    "print(fun(geo_1))\n",
    "print(fun(geo_2))"
   ]
  },
  {
   "cell_type": "markdown",
   "metadata": {},
   "source": [
    "**Вывод:**\n",
    "* Заметил сильную зависимость признака f2 к объему скважины во всех регионах.\n",
    "* Выделяется 2 регион там присутствует сильная зависимость f2 к объему скважин. Удалить данные будет не коректно потеряем большую часть,но будем иметь это ввиду.\n",
    "* Так же я понимаю столбец id нам не как не понадобиться в данном иследовании."
   ]
  },
  {
   "cell_type": "markdown",
   "metadata": {},
   "source": [
    "## Обучение и проверка модели"
   ]
  },
  {
   "cell_type": "markdown",
   "metadata": {},
   "source": [
    "### Geo 0"
   ]
  },
  {
   "cell_type": "code",
   "execution_count": 9,
   "metadata": {
    "scrolled": true
   },
   "outputs": [
    {
     "name": "stdout",
     "output_type": "stream",
     "text": [
      "Среднее модели линейной регрессии на валидационной выборке: 92.59256778438035\n",
      "RMSE модели линейной регрессии на валидационной выборке: 37.5794217150813\n"
     ]
    }
   ],
   "source": [
    "features = geo_0.drop(['product','id'],axis=1)\n",
    "target = geo_0['product']\n",
    "\n",
    "features_train, features_valid, target_train, target_valid = train_test_split(\n",
    "features, target, test_size=0.25, random_state=12345)\n",
    "\n",
    "numeric = ['f0', 'f1', 'f2']\n",
    "scaler = StandardScaler()\n",
    "scaler.fit(features_train[numeric])\n",
    "\n",
    "features_train[numeric] = scaler.transform(features_train[numeric])\n",
    "features_valid[numeric] = scaler.transform(features_valid[numeric])\n",
    "\n",
    "\n",
    "\n",
    "\n",
    "model = LinearRegression().fit(features_train,target_train)\n",
    "predictions_valid = pd.Series(model.predict(features_valid))\n",
    "\n",
    "pv = predictions_valid.mean()\n",
    "    \n",
    "rmse = mean_squared_error(target_valid, predictions_valid,squared=False)\n",
    "print(\"Среднее модели линейной регрессии на валидационной выборке:\", pv)\n",
    "print(\"RMSE модели линейной регрессии на валидационной выборке:\", rmse)"
   ]
  },
  {
   "cell_type": "markdown",
   "metadata": {},
   "source": [
    "### Geo 1"
   ]
  },
  {
   "cell_type": "code",
   "execution_count": 10,
   "metadata": {},
   "outputs": [
    {
     "name": "stdout",
     "output_type": "stream",
     "text": [
      "Среднее модели линейной регрессии на валидационной выборке: 68.728546895446\n",
      "RMSE модели линейной регрессии на валидационной выборке: 0.893099286775617\n"
     ]
    }
   ],
   "source": [
    "features_1 = geo_1.drop(['product','id'],axis=1)\n",
    "target_1 = geo_1['product']\n",
    "\n",
    "features_train_1, features_valid_1, target_train_1, target_valid_1 = train_test_split(\n",
    "features_1, target_1, test_size=0.25, random_state=12345)\n",
    "\n",
    "numeric_1 = ['f0', 'f1', 'f2']\n",
    "scaler_1 = StandardScaler()\n",
    "scaler_1.fit(features_train_1[numeric_1])\n",
    "\n",
    "features_train_1[numeric_1] = scaler_1.transform(features_train_1[numeric_1])\n",
    "features_valid_1[numeric_1] = scaler_1.transform(features_valid_1[numeric_1])\n",
    "\n",
    "\n",
    "\n",
    "\n",
    "model_1 = LinearRegression().fit(features_train_1,target_train_1)\n",
    "predictions_valid_1 = pd.Series(model_1.predict(features_valid_1))\n",
    "\n",
    "pv_1 = predictions_valid_1.mean()\n",
    "\n",
    "rmse_1 = mean_squared_error(target_valid_1, predictions_valid_1,squared=False)\n",
    "print(\"Среднее модели линейной регрессии на валидационной выборке:\", pv_1)\n",
    "print(\"RMSE модели линейной регрессии на валидационной выборке:\", rmse_1)"
   ]
  },
  {
   "cell_type": "markdown",
   "metadata": {},
   "source": [
    "### Geo 2"
   ]
  },
  {
   "cell_type": "code",
   "execution_count": 11,
   "metadata": {
    "scrolled": true
   },
   "outputs": [
    {
     "name": "stdout",
     "output_type": "stream",
     "text": [
      "Среднее модели линейной регрессии на валидационной выборке: 94.96504596800489\n",
      "RMSE модели линейной регрессии на валидационной выборке: 40.02970873393434\n"
     ]
    }
   ],
   "source": [
    "features_2 = geo_2.drop(['product','id'],axis=1)\n",
    "target_2 = geo_2['product']\n",
    "\n",
    "features_train_2, features_valid_2, target_train_2, target_valid_2 = train_test_split(\n",
    "features_2, target_2, test_size=0.25, random_state=12345)\n",
    "\n",
    "numeric_2 = ['f0', 'f1', 'f2']\n",
    "scaler_2 = StandardScaler()\n",
    "scaler_2.fit(features_train_2[numeric_2])\n",
    "\n",
    "features_train_2[numeric_2] = scaler_2.transform(features_train_2[numeric_2])\n",
    "features_valid_2[numeric_2] = scaler_2.transform(features_valid_2[numeric_2])\n",
    "\n",
    "\n",
    "\n",
    "\n",
    "model_2 = LinearRegression().fit(features_train_2,target_train_2)\n",
    "predictions_valid_2 = pd.Series(model_2.predict(features_valid_2))\n",
    "\n",
    "pv_2 = predictions_valid_2.mean()\n",
    "    \n",
    "rmse_2 = mean_squared_error(target_valid_2, predictions_valid_2,squared=False)\n",
    "print(\"Среднее модели линейной регрессии на валидационной выборке:\", pv_2)\n",
    "print(\"RMSE модели линейной регрессии на валидационной выборке:\", rmse_2)"
   ]
  },
  {
   "cell_type": "markdown",
   "metadata": {},
   "source": [
    "`Посмотрим на  данные которые у нас получились по предсказанию нашей модели по регионам:`"
   ]
  },
  {
   "cell_type": "code",
   "execution_count": 12,
   "metadata": {},
   "outputs": [
    {
     "name": "stdout",
     "output_type": "stream",
     "text": [
      "Предсказания 1 региона запаса сырья составил 92.59, а RMSE модели 37.58\n",
      "Предсказания 2 региона запаса сырья составил 68.73, а RMSE модели 0.89\n",
      "Предсказания 3 региона запаса сырья составил 94.97, а RMSE модели 40.03\n"
     ]
    }
   ],
   "source": [
    "print('Предсказания 1 региона запаса сырья составил {:.2f}, а RMSE модели {:.2f}'.format(pv, rmse))\n",
    "print('Предсказания 2 региона запаса сырья составил {:.2f}, а RMSE модели {:.2f}'.format(pv_1, rmse_1))\n",
    "print('Предсказания 3 региона запаса сырья составил {:.2f}, а RMSE модели {:.2f}'.format(pv_2, rmse_2))"
   ]
  },
  {
   "cell_type": "markdown",
   "metadata": {},
   "source": [
    "`Так же посмотрим на данные реальные не предсказаные. И сравним нашу модель на сколько она отработала:`"
   ]
  },
  {
   "cell_type": "code",
   "execution_count": 13,
   "metadata": {},
   "outputs": [
    {
     "name": "stdout",
     "output_type": "stream",
     "text": [
      "1 регион средний запас сырья: 92.08\n",
      "2 регион средний запас сырья: 68.72\n",
      "3 регион средний запас сырья: 94.88\n"
     ]
    }
   ],
   "source": [
    "print('1 регион средний запас сырья: {:.2f}'.format(target_valid.mean()))\n",
    "print('2 регион средний запас сырья: {:.2f}'.format(target_valid_1.mean()))\n",
    "print('3 регион средний запас сырья: {:.2f}'.format(target_valid_2.mean()))"
   ]
  },
  {
   "cell_type": "markdown",
   "metadata": {},
   "source": [
    "***Вывод***\n",
    "\n",
    "* Наша модель отработала хорошо , результаты близки реальным!\n",
    "\n",
    "* Выделяется второй регион. Скорее из-за сильной зависимости f2 к product.\n",
    "\n",
    "* Лучше всего модель отработала во втором регионе. Первый и третий в целом одинаково отработала."
   ]
  },
  {
   "cell_type": "markdown",
   "metadata": {},
   "source": [
    "## Подготовка к расчёту прибыли"
   ]
  },
  {
   "cell_type": "markdown",
   "metadata": {},
   "source": [
    "Бюджет на разработку скважин в регионе — 10 млрд рублей.\n",
    "\n",
    "При нынешних ценах один баррель сырья приносит 450 рублей дохода. Доход с каждой единицы продукта составляет 450 тыс. рублей, поскольку объём указан в тысячах баррелей.\n",
    "\n",
    "После оценки рисков нужно оставить лишь те регионы, в которых вероятность убытков меньше 2.5%. Среди них выбирают регион с наибольшей средней прибылью.\n",
    "\n",
    "**Константы ключевых значений**"
   ]
  },
  {
   "cell_type": "code",
   "execution_count": 14,
   "metadata": {},
   "outputs": [],
   "source": [
    "EXPLORE_COUNT = 500 # количество точек для исследования\n",
    "MINING_POINT = 200 # количество точек для разработки\n",
    "BARREL_REVENUE = 0.45 # доход с 1 тыс бар в млн. руб\n",
    "COAST_BOREHOLE = 10000 # бюджет на разработку скважин в регионе в млн. руб.\n",
    "STATE = np.random.RandomState(12345)\n",
    "BOOTSTRAP_SAMPLE = 1000\n",
    "LOSS = 0.02 # максимальная вероятность убытков"
   ]
  },
  {
   "cell_type": "markdown",
   "metadata": {},
   "source": [
    "**Расчёт скважины**"
   ]
  },
  {
   "cell_type": "code",
   "execution_count": 15,
   "metadata": {},
   "outputs": [
    {
     "name": "stdout",
     "output_type": "stream",
     "text": [
      "Идеальный расклад на 1 скважину в тыс. бар.: 111.11111111111111\n"
     ]
    }
   ],
   "source": [
    "per_borehole = COAST_BOREHOLE / MINING_POINT# сколько потраченно на 1 скважину\n",
    "\n",
    "# количество сырья потраченного на идеальную скважину\n",
    "top_per = (per_borehole / BARREL_REVENUE)\n",
    "print('Идеальный расклад на 1 скважину в тыс. бар.:',top_per)"
   ]
  },
  {
   "cell_type": "markdown",
   "metadata": {},
   "source": [
    "**Вывод**\n",
    "\n",
    "* наша идеальный расклад на 1 скважину в тысячу барралей должен составлять не менее 111.1111тыс. за бар.\n",
    "* это расклад при выборе 200 точек"
   ]
  },
  {
   "cell_type": "markdown",
   "metadata": {},
   "source": [
    "вычеслим из топ 200 скважин дохододность по регионам.\n",
    "\n",
    "**Певый регион**"
   ]
  },
  {
   "cell_type": "code",
   "execution_count": 16,
   "metadata": {},
   "outputs": [
    {
     "name": "stdout",
     "output_type": "stream",
     "text": [
      "Доход с 1 региона составляет: 3320.8260431398503\n"
     ]
    }
   ],
   "source": [
    "pred_geo_0 = predictions_valid.sort_values(ascending=False).head(200) # выбирем 200 скважин\n",
    "target_geo_0 = target_valid.reset_index(drop=True)[pred_geo_0.index]\n",
    "geo_0_income = (target_geo_0.sum() * BARREL_REVENUE) - COAST_BOREHOLE # доход в млн. рублей с 200 скважин\n",
    "print('Доход с 1 региона составляет:',geo_0_income)"
   ]
  },
  {
   "cell_type": "markdown",
   "metadata": {},
   "source": [
    "**Второй регион**"
   ]
  },
  {
   "cell_type": "code",
   "execution_count": 17,
   "metadata": {},
   "outputs": [
    {
     "name": "stdout",
     "output_type": "stream",
     "text": [
      "Доход с 2 региона составляет: 2415.086696681512\n"
     ]
    }
   ],
   "source": [
    "pred_geo_1 = predictions_valid_1.sort_values(ascending=False).head(200) # выбирем 200 скважин\n",
    "target_geo_1= target_valid_1.reset_index(drop=True)[pred_geo_1.index]\n",
    "geo_1_income = (target_geo_1.sum() * BARREL_REVENUE) - COAST_BOREHOLE # доход в млн. рублей с 200 скважин\n",
    "print('Доход с 2 региона составляет:',geo_1_income)"
   ]
  },
  {
   "cell_type": "markdown",
   "metadata": {},
   "source": [
    "**Третий регион**"
   ]
  },
  {
   "cell_type": "code",
   "execution_count": 18,
   "metadata": {},
   "outputs": [
    {
     "name": "stdout",
     "output_type": "stream",
     "text": [
      "Доход с 3 региона составляет: 2710.3499635998323\n"
     ]
    }
   ],
   "source": [
    "pred_geo_2 = predictions_valid_2.sort_values(ascending=False).head(200) # выбирем 200 скважин\n",
    "target_geo_2= target_valid_2.reset_index(drop=True)[pred_geo_2.index]\n",
    "geo_2_income = (target_geo_2.sum() * BARREL_REVENUE) - COAST_BOREHOLE # доход в млн. рублей с 200 скважин\n",
    "print('Доход с 3 региона составляет:',geo_2_income)"
   ]
  },
  {
   "cell_type": "code",
   "execution_count": 19,
   "metadata": {},
   "outputs": [
    {
     "name": "stdout",
     "output_type": "stream",
     "text": [
      "Прибыль с 200 топовых скважин по предсказанной модели:\n",
      "регион 1 - 3320.826 млн. руб.\n",
      "регион 2 - 2415.087 млн. руб.\n",
      "регион 3 - 2710.350 млн. руб.\n"
     ]
    }
   ],
   "source": [
    "print('Прибыль с 200 топовых скважин по предсказанной модели:')\n",
    "print('регион 1 - {:.3f} млн. руб.'.format(geo_0_income))\n",
    "print('регион 2 - {:.3f} млн. руб.'.format(geo_1_income))\n",
    "print('регион 3 - {:.3f} млн. руб.'.format(geo_2_income))"
   ]
  },
  {
   "cell_type": "markdown",
   "metadata": {},
   "source": [
    "**Вывод**\n",
    "\n",
    "Мы видим что наша модель отработала отлично и по ней заметно,что будет высокая доходность.\n",
    "\n",
    "Но опять же мы сделали это расчёт на 200 топовых скважинах. \n",
    "\n",
    "Часть работы выполнена,наш заказчик хочет,чтобы мы провери разведданные на 500 точках и уже определили топ с минимальными убытками.\n",
    "\n",
    "\n",
    "* Идеальный расклад на 1 скважину в тыс. бар.: 111.111\n",
    "\n",
    "`Прибыль с 200 топовых скважин по предсказанной модели:`\n",
    "\n",
    "`регион 1 - 3320.826 млн. руб.`\n",
    "\n",
    "`регион 2 - 2415.087 млн. руб.`\n",
    "\n",
    "`регион 3 - 2710.350 млн. руб.`\n",
    "\n"
   ]
  },
  {
   "cell_type": "markdown",
   "metadata": {},
   "source": [
    "## Расчёт прибыли и рисков "
   ]
  },
  {
   "cell_type": "markdown",
   "metadata": {},
   "source": [
    "функция для расчёта выручки + кол-во скважин в значение "
   ]
  },
  {
   "cell_type": "code",
   "execution_count": 20,
   "metadata": {},
   "outputs": [],
   "source": [
    "def revenue (target_valid, predictions_valid, MINING_POINT):\n",
    "    pred_choice = predictions_valid.sort_values(ascending=False)\n",
    "    \n",
    "    target_choice = target_valid[pred_choice.index][:MINING_POINT]\n",
    "    income = target_choice.sum() * BARREL_REVENUE # доход в млн. рублей\n",
    "    return income"
   ]
  },
  {
   "cell_type": "markdown",
   "metadata": {},
   "source": [
    "функция для расчёт прибыли и рисков при помощи метода bootstrap "
   ]
  },
  {
   "cell_type": "code",
   "execution_count": 21,
   "metadata": {},
   "outputs": [],
   "source": [
    "def income_all (predictions_valid, target_valid, BOOTSTRAP_SAMPLE, EXPLORE_COUNT):\n",
    "\n",
    "    count = 0\n",
    "\n",
    "    values = []\n",
    "    for i in range(BOOTSTRAP_SAMPLE):\n",
    "         target_sam = target_valid.reset_index(drop=True).sample(EXPLORE_COUNT, replace=True, random_state=STATE)\n",
    "         probs_sam = predictions_valid[target_sam.index]\n",
    "         rev = revenue(target_sam, probs_sam, MINING_POINT) - COAST_BOREHOLE \n",
    "         values.append(rev)\n",
    "        \n",
    "        # тут смотрим на убыточн. скважины\n",
    "         if rev<0:\n",
    "            count +=1\n",
    "\n",
    "    values = pd.Series(values)\n",
    "    \n",
    "    mean = values.mean()\n",
    "    print(\"Средняя выручка:\",mean)\n",
    "    print('------------------------------------------------------------------')\n",
    "    print('Нижняя граница доверительного интервала: {}, верхняя граница: {}'.format(values.quantile(0.025),values.quantile(0.975)))\n",
    "    print('-------------------------------------------------------------------')\n",
    "    print(\"Вероятность убытков равна {:.2%}\".format((values < 0).mean()))\n",
    "    plt.figure(figsize=(10,6))\n",
    "    hist = plt.hist(values,  bins=50)\n",
    "    \n",
    "    one_com, one_con = [values.quantile(0.975),values.quantile(0.975)], [0, 50]\n",
    "    two_com, two_con = [values.quantile(0.025),values.quantile(0.025)], [0, 50]\n",
    "    plt.title('распределение прибыли')\n",
    "    plt.xlabel('Прибыль в млн. рублей')\n",
    "    plt.plot(one_com, one_con, two_com, two_con,linewidth=3, linestyle='-.')\n",
    "    sns.lineplot(data = values[:10],x=values[:5],y=values[5:], marker='o', sort = False)"
   ]
  },
  {
   "cell_type": "code",
   "execution_count": 22,
   "metadata": {},
   "outputs": [
    {
     "name": "stdout",
     "output_type": "stream",
     "text": [
      "1 регион 500 скважин результат:\n",
      "------------------------------------------\n",
      "Средняя выручка: 425.9385269105927\n",
      "------------------------------------------------------------------\n",
      "Нижняя граница доверительного интервала: -102.09009483793592, верхняя граница: 947.976353358369\n",
      "-------------------------------------------------------------------\n",
      "Вероятность убытков равна 6.00%\n"
     ]
    },
    {
     "data": {
      "image/png": "[encoded data removed]",
      "text/plain": [
       "<Figure size 720x432 with 1 Axes>"
      ]
     },
     "metadata": {
      "needs_background": "light"
     },
     "output_type": "display_data"
    }
   ],
   "source": [
    "print('1 регион 500 скважин результат:')\n",
    "print('------------------------------------------')\n",
    "income_all(predictions_valid, target_valid, BOOTSTRAP_SAMPLE, EXPLORE_COUNT)"
   ]
  },
  {
   "cell_type": "code",
   "execution_count": 23,
   "metadata": {},
   "outputs": [
    {
     "name": "stdout",
     "output_type": "stream",
     "text": [
      "2 регион 500 скважин результат:\n",
      "Средняя выручка: 518.2594936973252\n",
      "------------------------------------------------------------------\n",
      "Нижняя граница доверительного интервала: 128.12323143308453, верхняя граница: 953.6129820669079\n",
      "-------------------------------------------------------------------\n",
      "Вероятность убытков равна 0.30%\n"
     ]
    },
    {
     "data": {
      "image/png": "[encoded data removed]",
      "text/plain": [
       "<Figure size 720x432 with 1 Axes>"
      ]
     },
     "metadata": {
      "needs_background": "light"
     },
     "output_type": "display_data"
    }
   ],
   "source": [
    "print('2 регион 500 скважин результат:')\n",
    "income_all(predictions_valid_1, target_valid_1, BOOTSTRAP_SAMPLE, EXPLORE_COUNT)"
   ]
  },
  {
   "cell_type": "code",
   "execution_count": 24,
   "metadata": {
    "scrolled": true
   },
   "outputs": [
    {
     "name": "stdout",
     "output_type": "stream",
     "text": [
      "3 регион 500 скважин результат:\n",
      "Средняя выручка: 420.19400534405037\n",
      "------------------------------------------------------------------\n",
      "Нижняя граница доверительного интервала: -115.85260916001138, верхняя граница: 989.6299398445756\n",
      "-------------------------------------------------------------------\n",
      "Вероятность убытков равна 6.20%\n"
     ]
    },
    {
     "data": {
      "image/png": "[encoded data removed]",
      "text/plain": [
       "<Figure size 720x432 with 1 Axes>"
      ]
     },
     "metadata": {
      "needs_background": "light"
     },
     "output_type": "display_data"
    }
   ],
   "source": [
    "print('3 регион 500 скважин результат:')\n",
    "income_all(predictions_valid_2, target_valid_2, BOOTSTRAP_SAMPLE, EXPLORE_COUNT)"
   ]
  },
  {
   "cell_type": "markdown",
   "metadata": {},
   "source": [
    "## вывод"
   ]
  },
  {
   "cell_type": "markdown",
   "metadata": {},
   "source": [
    "**Прибыль с 200 топовых скважин по предсказанной модели: Итог выбираем первый региона , но когда будем уже проверять на 500 скважинах соответственно результаты у нас меняются.**\n",
    "\n",
    "* регион 1 - 3320.826 млн. руб.\n",
    "\n",
    "* регион 2 - 2415.087 млн. руб.\n",
    "\n",
    "* регион 3 - 2710.350 млн. руб.\n",
    "\n",
    "**Резултаты на 500 скважинах и в итоге выбираем 2 регион он показал наилучший результат**\n",
    "\n",
    "*1 Регион*\n",
    "\n",
    "`1 регион 500 скважин результат:\n",
    "Средняя выручка: 425.9385269105927\n",
    "95%-ый доверительный интервал: (408.7322070686989, 443.1448467524865)\n",
    "Вероятность убытков равна 6.00%`\n",
    "\n",
    "*2 Регион*\n",
    "\n",
    "`2 регион 500 скважин результат:\n",
    "Средняя выручка: 518.2594936973252\n",
    "95%-ый доверительный интервал: (505.249881576622, 531.2691058180284)\n",
    "Вероятность убытков равна 0.30%` <--------- вошёл в 2.5%\n",
    "\n",
    "*3 регион*\n",
    "\n",
    "`3 регион 500 скважин результат:\n",
    "Средняя выручка: 420.19400534405037\n",
    "95%-ый доверительный интервал: (402.52870365036176, 437.859307037739)\n",
    "Вероятность убытков равна 6.20%`"
   ]
  }
 ],
 "metadata": {
  "ExecuteTimeLog": [
   {
    "duration": 74,
    "start_time": "2022-05-12T17:10:48.583Z"
   },
   {
    "duration": 4,
    "start_time": "2022-05-12T17:11:25.582Z"
   },
   {
    "duration": 12,
    "start_time": "2022-05-12T17:11:30.804Z"
   },
   {
    "duration": 10,
    "start_time": "2022-05-12T17:11:38.451Z"
   },
   {
    "duration": 8,
    "start_time": "2022-05-12T17:12:07.118Z"
   },
   {
    "duration": 10,
    "start_time": "2022-05-12T17:12:14.727Z"
   },
   {
    "duration": 12,
    "start_time": "2022-05-12T17:12:20.567Z"
   },
   {
    "duration": 1912,
    "start_time": "2022-05-12T17:13:03.908Z"
   },
   {
    "duration": 91,
    "start_time": "2022-05-12T17:13:17.282Z"
   },
   {
    "duration": 13,
    "start_time": "2022-05-12T17:13:24.293Z"
   },
   {
    "duration": 432,
    "start_time": "2022-05-12T17:16:08.600Z"
   },
   {
    "duration": 5,
    "start_time": "2022-05-12T17:17:07.246Z"
   },
   {
    "duration": 621,
    "start_time": "2022-05-12T17:18:09.230Z"
   },
   {
    "duration": 572,
    "start_time": "2022-05-12T17:20:26.234Z"
   },
   {
    "duration": 564,
    "start_time": "2022-05-12T17:21:11.490Z"
   },
   {
    "duration": 177,
    "start_time": "2022-05-12T17:21:55.774Z"
   },
   {
    "duration": 193,
    "start_time": "2022-05-12T17:22:20.214Z"
   },
   {
    "duration": 242,
    "start_time": "2022-05-12T17:22:25.177Z"
   },
   {
    "duration": 4,
    "start_time": "2022-05-12T17:22:45.630Z"
   },
   {
    "duration": 215,
    "start_time": "2022-05-12T17:27:20.588Z"
   },
   {
    "duration": 5,
    "start_time": "2022-05-12T17:27:33.507Z"
   },
   {
    "duration": 173,
    "start_time": "2022-05-12T17:27:34.884Z"
   },
   {
    "duration": 5,
    "start_time": "2022-05-12T17:30:07.735Z"
   },
   {
    "duration": 200,
    "start_time": "2022-05-12T17:30:09.400Z"
   },
   {
    "duration": 206,
    "start_time": "2022-05-12T17:30:11.789Z"
   },
   {
    "duration": 191,
    "start_time": "2022-05-12T17:30:12.407Z"
   },
   {
    "duration": 243,
    "start_time": "2022-05-12T17:30:39.564Z"
   },
   {
    "duration": 272,
    "start_time": "2022-05-12T17:30:54.068Z"
   },
   {
    "duration": 203,
    "start_time": "2022-05-12T17:31:41.658Z"
   },
   {
    "duration": 5,
    "start_time": "2022-05-12T17:32:05.730Z"
   },
   {
    "duration": 187,
    "start_time": "2022-05-12T17:32:08.484Z"
   },
   {
    "duration": 163,
    "start_time": "2022-05-12T17:32:54.823Z"
   },
   {
    "duration": 167,
    "start_time": "2022-05-12T17:33:03.735Z"
   },
   {
    "duration": 243,
    "start_time": "2022-05-12T17:39:42.866Z"
   },
   {
    "duration": 233,
    "start_time": "2022-05-12T17:39:56.565Z"
   },
   {
    "duration": 263,
    "start_time": "2022-05-12T17:40:07.207Z"
   },
   {
    "duration": 446,
    "start_time": "2022-05-12T17:49:52.663Z"
   },
   {
    "duration": 5,
    "start_time": "2022-05-12T17:49:53.851Z"
   },
   {
    "duration": 178,
    "start_time": "2022-05-12T17:49:54.936Z"
   },
   {
    "duration": 156,
    "start_time": "2022-05-12T17:49:56.551Z"
   },
   {
    "duration": 164,
    "start_time": "2022-05-12T17:49:58.417Z"
   },
   {
    "duration": 18,
    "start_time": "2022-05-12T17:57:47.570Z"
   },
   {
    "duration": 3,
    "start_time": "2022-05-12T17:59:57.839Z"
   },
   {
    "duration": 5,
    "start_time": "2022-05-12T18:00:16.298Z"
   },
   {
    "duration": 157,
    "start_time": "2022-05-12T18:00:17.537Z"
   },
   {
    "duration": 5,
    "start_time": "2022-05-12T18:07:34.654Z"
   },
   {
    "duration": 4989,
    "start_time": "2022-05-12T18:07:59.015Z"
   },
   {
    "duration": 4,
    "start_time": "2022-05-12T18:09:14.148Z"
   },
   {
    "duration": 5169,
    "start_time": "2022-05-12T18:09:21.112Z"
   },
   {
    "duration": 5,
    "start_time": "2022-05-12T18:11:22.042Z"
   },
   {
    "duration": 41,
    "start_time": "2022-05-12T18:11:23.981Z"
   },
   {
    "duration": 5,
    "start_time": "2022-05-12T18:11:38.070Z"
   },
   {
    "duration": 4799,
    "start_time": "2022-05-12T18:11:39.966Z"
   },
   {
    "duration": 5,
    "start_time": "2022-05-12T18:12:34.695Z"
   },
   {
    "duration": 967539,
    "start_time": "2022-05-12T18:12:35.231Z"
   },
   {
    "duration": 4,
    "start_time": "2022-05-12T19:47:02.243Z"
   },
   {
    "duration": 170,
    "start_time": "2022-05-12T19:47:18.292Z"
   },
   {
    "duration": 42955,
    "start_time": "2022-05-12T19:47:28.130Z"
   },
   {
    "duration": 4,
    "start_time": "2022-05-12T19:50:48.916Z"
   },
   {
    "duration": 5338,
    "start_time": "2022-05-12T19:50:49.446Z"
   },
   {
    "duration": 5,
    "start_time": "2022-05-12T19:52:14.659Z"
   },
   {
    "duration": 357,
    "start_time": "2022-05-12T19:52:15.528Z"
   },
   {
    "duration": 349,
    "start_time": "2022-05-12T19:53:06.907Z"
   },
   {
    "duration": 5,
    "start_time": "2022-05-12T19:53:59.844Z"
   },
   {
    "duration": 22,
    "start_time": "2022-05-12T19:54:00.625Z"
   },
   {
    "duration": 4,
    "start_time": "2022-05-12T19:54:03.047Z"
   },
   {
    "duration": 362,
    "start_time": "2022-05-12T19:54:04.023Z"
   },
   {
    "duration": 5,
    "start_time": "2022-05-12T19:55:17.743Z"
   },
   {
    "duration": 401,
    "start_time": "2022-05-12T19:55:17.973Z"
   },
   {
    "duration": 790,
    "start_time": "2022-05-12T19:56:06.996Z"
   },
   {
    "duration": 1304,
    "start_time": "2022-05-12T19:56:28.440Z"
   },
   {
    "duration": 1159,
    "start_time": "2022-05-12T19:56:52.708Z"
   },
   {
    "duration": 1181,
    "start_time": "2022-05-12T19:57:36.765Z"
   },
   {
    "duration": 1315,
    "start_time": "2022-05-12T19:57:46.253Z"
   },
   {
    "duration": 272,
    "start_time": "2022-05-12T20:00:21.024Z"
   },
   {
    "duration": 208,
    "start_time": "2022-05-12T20:00:37.949Z"
   },
   {
    "duration": 587,
    "start_time": "2022-05-12T20:00:55.716Z"
   },
   {
    "duration": 439,
    "start_time": "2022-05-12T20:01:23.969Z"
   },
   {
    "duration": 1230,
    "start_time": "2022-05-12T20:01:37.588Z"
   },
   {
    "duration": 1347,
    "start_time": "2022-05-12T20:01:45.536Z"
   },
   {
    "duration": 1210,
    "start_time": "2022-05-12T20:06:15.115Z"
   },
   {
    "duration": 436,
    "start_time": "2022-05-12T20:06:27.124Z"
   },
   {
    "duration": 195,
    "start_time": "2022-05-12T20:06:38.745Z"
   },
   {
    "duration": 219,
    "start_time": "2022-05-12T20:06:42.440Z"
   },
   {
    "duration": 1252,
    "start_time": "2022-05-12T20:06:55.134Z"
   },
   {
    "duration": 1288,
    "start_time": "2022-05-12T20:07:19.037Z"
   },
   {
    "duration": 8,
    "start_time": "2022-05-13T16:58:56.448Z"
   },
   {
    "duration": 54,
    "start_time": "2022-05-13T16:59:17.818Z"
   },
   {
    "duration": 9,
    "start_time": "2022-05-13T16:59:22.555Z"
   },
   {
    "duration": 1240,
    "start_time": "2022-05-13T16:59:27.634Z"
   },
   {
    "duration": 489,
    "start_time": "2022-05-13T16:59:28.876Z"
   },
   {
    "duration": 5,
    "start_time": "2022-05-13T16:59:29.368Z"
   },
   {
    "duration": 146,
    "start_time": "2022-05-13T16:59:30.096Z"
   },
   {
    "duration": 132,
    "start_time": "2022-05-13T16:59:30.545Z"
   },
   {
    "duration": 136,
    "start_time": "2022-05-13T16:59:31.008Z"
   },
   {
    "duration": 1010,
    "start_time": "2022-05-13T16:59:31.945Z"
   },
   {
    "duration": 4,
    "start_time": "2022-05-13T16:59:33.624Z"
   },
   {
    "duration": 7,
    "start_time": "2022-05-13T16:59:34.268Z"
   },
   {
    "duration": 7,
    "start_time": "2022-05-13T16:59:52.852Z"
   },
   {
    "duration": 4,
    "start_time": "2022-05-13T16:59:58.228Z"
   },
   {
    "duration": 12,
    "start_time": "2022-05-13T16:59:59.336Z"
   },
   {
    "duration": 5,
    "start_time": "2022-05-13T17:00:39.200Z"
   },
   {
    "duration": 14,
    "start_time": "2022-05-13T17:00:47.382Z"
   },
   {
    "duration": 4,
    "start_time": "2022-05-13T17:01:03.658Z"
   },
   {
    "duration": 7,
    "start_time": "2022-05-13T17:01:05.176Z"
   },
   {
    "duration": 465,
    "start_time": "2022-05-13T17:02:48.530Z"
   },
   {
    "duration": 99,
    "start_time": "2022-05-13T17:02:54.229Z"
   },
   {
    "duration": 36,
    "start_time": "2022-05-13T17:02:57.643Z"
   },
   {
    "duration": 53,
    "start_time": "2022-05-13T17:02:58.575Z"
   },
   {
    "duration": 4,
    "start_time": "2022-05-13T17:04:50.122Z"
   },
   {
    "duration": 503,
    "start_time": "2022-05-13T17:06:15.628Z"
   },
   {
    "duration": 20,
    "start_time": "2022-05-13T17:06:19.130Z"
   },
   {
    "duration": 33,
    "start_time": "2022-05-13T17:07:18.888Z"
   },
   {
    "duration": 455,
    "start_time": "2022-05-13T17:09:15.532Z"
   },
   {
    "duration": 22,
    "start_time": "2022-05-13T17:09:16.597Z"
   },
   {
    "duration": 819,
    "start_time": "2022-05-13T17:12:50.374Z"
   },
   {
    "duration": 7,
    "start_time": "2022-05-13T17:12:56.978Z"
   },
   {
    "duration": 698,
    "start_time": "2022-05-13T17:13:14.806Z"
   },
   {
    "duration": 5,
    "start_time": "2022-05-13T17:13:34.037Z"
   },
   {
    "duration": 191,
    "start_time": "2022-05-13T17:13:49.872Z"
   },
   {
    "duration": 5,
    "start_time": "2022-05-13T17:23:01.817Z"
   },
   {
    "duration": 647,
    "start_time": "2022-05-13T17:23:08.954Z"
   },
   {
    "duration": 4,
    "start_time": "2022-05-13T17:23:48.080Z"
   },
   {
    "duration": 585,
    "start_time": "2022-05-13T17:23:49.115Z"
   },
   {
    "duration": 1923,
    "start_time": "2022-05-13T17:24:37.378Z"
   },
   {
    "duration": 1927,
    "start_time": "2022-05-13T17:33:35.282Z"
   },
   {
    "duration": 1954,
    "start_time": "2022-05-13T17:33:50.267Z"
   },
   {
    "duration": 520,
    "start_time": "2022-05-13T17:49:33.069Z"
   },
   {
    "duration": 3,
    "start_time": "2022-05-13T17:50:02.719Z"
   },
   {
    "duration": 5,
    "start_time": "2022-05-13T17:50:17.400Z"
   },
   {
    "duration": 2441,
    "start_time": "2022-05-13T17:50:21.565Z"
   },
   {
    "duration": 1989,
    "start_time": "2022-05-13T17:50:35.013Z"
   },
   {
    "duration": 451,
    "start_time": "2022-05-13T17:51:53.912Z"
   },
   {
    "duration": 3,
    "start_time": "2022-05-13T17:52:09.651Z"
   },
   {
    "duration": 2118,
    "start_time": "2022-05-13T17:52:15.899Z"
   },
   {
    "duration": 113,
    "start_time": "2022-05-13T17:54:57.845Z"
   },
   {
    "duration": 198,
    "start_time": "2022-05-15T08:07:52.867Z"
   },
   {
    "duration": 187,
    "start_time": "2022-05-15T08:08:09.420Z"
   },
   {
    "duration": 175,
    "start_time": "2022-05-15T08:08:54.369Z"
   },
   {
    "duration": 41,
    "start_time": "2022-05-15T08:09:40.522Z"
   },
   {
    "duration": 8,
    "start_time": "2022-05-15T08:10:09.007Z"
   },
   {
    "duration": 1604,
    "start_time": "2022-05-15T08:11:12.445Z"
   },
   {
    "duration": 4159,
    "start_time": "2022-05-15T08:11:14.051Z"
   },
   {
    "duration": 3,
    "start_time": "2022-05-15T08:11:18.212Z"
   },
   {
    "duration": 121,
    "start_time": "2022-05-15T08:11:18.217Z"
   },
   {
    "duration": 107,
    "start_time": "2022-05-15T08:11:18.340Z"
   },
   {
    "duration": 109,
    "start_time": "2022-05-15T08:11:18.448Z"
   },
   {
    "duration": 930,
    "start_time": "2022-05-15T08:11:18.558Z"
   },
   {
    "duration": 79,
    "start_time": "2022-05-15T08:11:19.489Z"
   },
   {
    "duration": 29,
    "start_time": "2022-05-15T08:11:46.226Z"
   },
   {
    "duration": 30,
    "start_time": "2022-05-15T08:12:11.221Z"
   },
   {
    "duration": 100,
    "start_time": "2022-05-15T08:12:20.695Z"
   },
   {
    "duration": 717,
    "start_time": "2022-05-15T08:15:34.087Z"
   },
   {
    "duration": 614,
    "start_time": "2022-05-15T08:16:01.808Z"
   },
   {
    "duration": 560,
    "start_time": "2022-05-15T08:16:12.087Z"
   },
   {
    "duration": 956,
    "start_time": "2022-05-15T08:16:19.946Z"
   },
   {
    "duration": 3,
    "start_time": "2022-05-15T08:17:31.107Z"
   },
   {
    "duration": 597,
    "start_time": "2022-05-15T08:17:35.606Z"
   },
   {
    "duration": 525,
    "start_time": "2022-05-15T08:20:33.276Z"
   },
   {
    "duration": 92,
    "start_time": "2022-05-15T08:22:54.410Z"
   },
   {
    "duration": 51,
    "start_time": "2022-05-15T08:23:08.767Z"
   },
   {
    "duration": 49,
    "start_time": "2022-05-15T08:23:16.118Z"
   },
   {
    "duration": 52,
    "start_time": "2022-05-15T08:25:52.952Z"
   },
   {
    "duration": 46,
    "start_time": "2022-05-15T09:04:14.047Z"
   },
   {
    "duration": 48,
    "start_time": "2022-05-15T09:04:40.078Z"
   },
   {
    "duration": 45,
    "start_time": "2022-05-15T09:05:48.371Z"
   },
   {
    "duration": 47,
    "start_time": "2022-05-15T09:06:13.343Z"
   },
   {
    "duration": 47,
    "start_time": "2022-05-17T12:02:19.065Z"
   },
   {
    "duration": 1653,
    "start_time": "2022-05-17T12:02:25.109Z"
   },
   {
    "duration": 3,
    "start_time": "2022-05-17T12:02:26.764Z"
   },
   {
    "duration": 361,
    "start_time": "2022-05-17T12:02:26.768Z"
   },
   {
    "duration": 3,
    "start_time": "2022-05-17T12:02:27.130Z"
   },
   {
    "duration": 133,
    "start_time": "2022-05-17T12:02:27.135Z"
   },
   {
    "duration": 124,
    "start_time": "2022-05-17T12:02:27.269Z"
   },
   {
    "duration": 126,
    "start_time": "2022-05-17T12:02:27.394Z"
   },
   {
    "duration": 991,
    "start_time": "2022-05-17T12:02:27.521Z"
   },
   {
    "duration": 84,
    "start_time": "2022-05-17T12:02:28.514Z"
   },
   {
    "duration": 0,
    "start_time": "2022-05-17T12:02:28.600Z"
   },
   {
    "duration": 0,
    "start_time": "2022-05-17T12:02:28.601Z"
   },
   {
    "duration": 101,
    "start_time": "2022-05-17T12:02:54.406Z"
   },
   {
    "duration": 85,
    "start_time": "2022-05-17T12:06:07.504Z"
   },
   {
    "duration": 85,
    "start_time": "2022-05-17T12:06:32.303Z"
   },
   {
    "duration": 36,
    "start_time": "2022-05-17T12:06:36.036Z"
   },
   {
    "duration": 39,
    "start_time": "2022-05-17T12:06:48.308Z"
   },
   {
    "duration": 44,
    "start_time": "2022-05-17T12:08:09.255Z"
   },
   {
    "duration": 38,
    "start_time": "2022-05-17T12:09:20.281Z"
   },
   {
    "duration": 12,
    "start_time": "2022-05-17T12:10:28.877Z"
   },
   {
    "duration": 1797,
    "start_time": "2022-05-17T12:10:56.204Z"
   },
   {
    "duration": 38,
    "start_time": "2022-05-17T12:11:22.137Z"
   },
   {
    "duration": 37,
    "start_time": "2022-05-17T12:11:35.267Z"
   },
   {
    "duration": 38,
    "start_time": "2022-05-17T12:11:44.799Z"
   },
   {
    "duration": 75,
    "start_time": "2022-05-17T12:12:24.120Z"
   },
   {
    "duration": 40,
    "start_time": "2022-05-17T12:12:26.357Z"
   },
   {
    "duration": 39,
    "start_time": "2022-05-17T12:13:57.658Z"
   },
   {
    "duration": 40,
    "start_time": "2022-05-17T12:14:36.982Z"
   },
   {
    "duration": 1957,
    "start_time": "2022-05-17T12:15:51.604Z"
   },
   {
    "duration": 37,
    "start_time": "2022-05-17T12:16:12.712Z"
   },
   {
    "duration": 38,
    "start_time": "2022-05-17T12:16:22.589Z"
   },
   {
    "duration": 9,
    "start_time": "2022-05-17T12:16:42.355Z"
   },
   {
    "duration": 43,
    "start_time": "2022-05-17T12:16:57.679Z"
   },
   {
    "duration": 40,
    "start_time": "2022-05-17T12:19:17.321Z"
   },
   {
    "duration": 39,
    "start_time": "2022-05-17T12:19:27.707Z"
   },
   {
    "duration": 55,
    "start_time": "2022-05-17T12:19:33.333Z"
   },
   {
    "duration": 3,
    "start_time": "2022-05-17T12:20:49.382Z"
   },
   {
    "duration": 9,
    "start_time": "2022-05-17T12:20:49.387Z"
   },
   {
    "duration": 382,
    "start_time": "2022-05-17T12:20:49.398Z"
   },
   {
    "duration": 4,
    "start_time": "2022-05-17T12:20:49.782Z"
   },
   {
    "duration": 134,
    "start_time": "2022-05-17T12:20:49.788Z"
   },
   {
    "duration": 130,
    "start_time": "2022-05-17T12:20:49.924Z"
   },
   {
    "duration": 119,
    "start_time": "2022-05-17T12:20:50.056Z"
   },
   {
    "duration": 1010,
    "start_time": "2022-05-17T12:20:50.189Z"
   },
   {
    "duration": 88,
    "start_time": "2022-05-17T12:20:51.201Z"
   },
   {
    "duration": 125,
    "start_time": "2022-05-17T12:20:51.293Z"
   },
   {
    "duration": 132,
    "start_time": "2022-05-17T12:20:51.490Z"
   },
   {
    "duration": 36,
    "start_time": "2022-05-17T12:21:28.447Z"
   },
   {
    "duration": 37,
    "start_time": "2022-05-17T12:21:55.376Z"
   },
   {
    "duration": 4,
    "start_time": "2022-05-17T12:24:55.711Z"
   },
   {
    "duration": 4,
    "start_time": "2022-05-17T12:25:09.516Z"
   },
   {
    "duration": 4,
    "start_time": "2022-05-17T12:27:20.547Z"
   },
   {
    "duration": 6,
    "start_time": "2022-05-17T12:31:38.404Z"
   },
   {
    "duration": 3,
    "start_time": "2022-05-17T12:31:46.689Z"
   },
   {
    "duration": 126,
    "start_time": "2022-05-17T12:32:00.509Z"
   },
   {
    "duration": 10,
    "start_time": "2022-05-17T12:32:05.214Z"
   },
   {
    "duration": 118,
    "start_time": "2022-05-17T12:32:11.410Z"
   },
   {
    "duration": 137,
    "start_time": "2022-05-17T12:32:27.488Z"
   },
   {
    "duration": 5,
    "start_time": "2022-05-17T12:32:31.326Z"
   },
   {
    "duration": 10,
    "start_time": "2022-05-17T12:32:37.694Z"
   },
   {
    "duration": 5,
    "start_time": "2022-05-17T12:32:41.768Z"
   },
   {
    "duration": 40,
    "start_time": "2022-05-17T12:33:42.753Z"
   },
   {
    "duration": 53,
    "start_time": "2022-05-17T12:34:12.035Z"
   },
   {
    "duration": 36,
    "start_time": "2022-05-17T12:34:58.357Z"
   },
   {
    "duration": 43,
    "start_time": "2022-05-17T12:35:02.641Z"
   },
   {
    "duration": 42,
    "start_time": "2022-05-17T12:35:17.189Z"
   },
   {
    "duration": 35,
    "start_time": "2022-05-17T12:35:27.045Z"
   },
   {
    "duration": 5,
    "start_time": "2022-05-17T12:35:30.016Z"
   },
   {
    "duration": 6,
    "start_time": "2022-05-17T12:35:32.352Z"
   },
   {
    "duration": 1503,
    "start_time": "2022-05-19T04:55:39.770Z"
   },
   {
    "duration": 3,
    "start_time": "2022-05-19T04:55:41.275Z"
   },
   {
    "duration": 769,
    "start_time": "2022-05-19T04:55:41.280Z"
   },
   {
    "duration": 3,
    "start_time": "2022-05-19T04:55:42.051Z"
   },
   {
    "duration": 144,
    "start_time": "2022-05-19T04:55:42.056Z"
   },
   {
    "duration": 161,
    "start_time": "2022-05-19T04:55:42.203Z"
   },
   {
    "duration": 135,
    "start_time": "2022-05-19T04:55:42.367Z"
   },
   {
    "duration": 1175,
    "start_time": "2022-05-19T04:55:42.504Z"
   },
   {
    "duration": 184,
    "start_time": "2022-05-19T04:55:43.681Z"
   },
   {
    "duration": 196,
    "start_time": "2022-05-19T04:55:43.869Z"
   },
   {
    "duration": 131,
    "start_time": "2022-05-19T04:55:44.068Z"
   },
   {
    "duration": 65,
    "start_time": "2022-05-19T04:55:44.201Z"
   },
   {
    "duration": 103,
    "start_time": "2022-05-19T04:55:44.268Z"
   },
   {
    "duration": 4,
    "start_time": "2022-05-19T04:55:44.373Z"
   },
   {
    "duration": 8,
    "start_time": "2022-05-19T04:55:44.378Z"
   },
   {
    "duration": 10,
    "start_time": "2022-05-19T04:55:44.388Z"
   },
   {
    "duration": 9,
    "start_time": "2022-05-19T04:55:44.401Z"
   },
   {
    "duration": 8,
    "start_time": "2022-05-19T04:55:44.412Z"
   },
   {
    "duration": 43,
    "start_time": "2022-05-19T04:55:44.423Z"
   },
   {
    "duration": 8,
    "start_time": "2022-05-19T04:55:44.468Z"
   },
   {
    "duration": 11,
    "start_time": "2022-05-19T04:55:44.478Z"
   },
   {
    "duration": 1632,
    "start_time": "2022-05-19T04:55:44.491Z"
   },
   {
    "duration": 1593,
    "start_time": "2022-05-19T04:55:46.125Z"
   },
   {
    "duration": 1603,
    "start_time": "2022-05-19T04:55:47.719Z"
   },
   {
    "duration": 120,
    "start_time": "2022-05-19T04:58:40.171Z"
   },
   {
    "duration": 5,
    "start_time": "2022-05-19T04:59:00.823Z"
   },
   {
    "duration": 26,
    "start_time": "2022-05-19T04:59:00.831Z"
   },
   {
    "duration": 422,
    "start_time": "2022-05-19T04:59:00.860Z"
   },
   {
    "duration": 4,
    "start_time": "2022-05-19T04:59:01.284Z"
   },
   {
    "duration": 139,
    "start_time": "2022-05-19T04:59:01.290Z"
   },
   {
    "duration": 135,
    "start_time": "2022-05-19T04:59:01.431Z"
   },
   {
    "duration": 150,
    "start_time": "2022-05-19T04:59:01.568Z"
   },
   {
    "duration": 1050,
    "start_time": "2022-05-19T04:59:01.720Z"
   },
   {
    "duration": 40,
    "start_time": "2022-05-19T04:59:02.772Z"
   },
   {
    "duration": 196,
    "start_time": "2022-05-19T04:59:02.870Z"
   },
   {
    "duration": 127,
    "start_time": "2022-05-19T04:59:03.070Z"
   },
   {
    "duration": 67,
    "start_time": "2022-05-19T04:59:03.199Z"
   },
   {
    "duration": 98,
    "start_time": "2022-05-19T04:59:03.269Z"
   },
   {
    "duration": 7,
    "start_time": "2022-05-19T04:59:03.369Z"
   },
   {
    "duration": 14,
    "start_time": "2022-05-19T04:59:03.378Z"
   },
   {
    "duration": 17,
    "start_time": "2022-05-19T04:59:03.394Z"
   },
   {
    "duration": 26,
    "start_time": "2022-05-19T04:59:03.412Z"
   },
   {
    "duration": 8,
    "start_time": "2022-05-19T04:59:03.440Z"
   },
   {
    "duration": 4,
    "start_time": "2022-05-19T04:59:03.450Z"
   },
   {
    "duration": 3,
    "start_time": "2022-05-19T04:59:03.465Z"
   },
   {
    "duration": 5,
    "start_time": "2022-05-19T04:59:03.470Z"
   },
   {
    "duration": 1606,
    "start_time": "2022-05-19T04:59:03.477Z"
   },
   {
    "duration": 1574,
    "start_time": "2022-05-19T04:59:05.085Z"
   },
   {
    "duration": 1588,
    "start_time": "2022-05-19T04:59:06.664Z"
   },
   {
    "duration": 5,
    "start_time": "2022-05-19T05:00:17.495Z"
   },
   {
    "duration": 1650,
    "start_time": "2022-05-19T05:00:18.544Z"
   },
   {
    "duration": 8,
    "start_time": "2022-05-19T05:03:47.180Z"
   },
   {
    "duration": 1556,
    "start_time": "2022-05-19T05:03:50.814Z"
   },
   {
    "duration": 6,
    "start_time": "2022-05-19T05:04:25.271Z"
   },
   {
    "duration": 19,
    "start_time": "2022-05-19T05:04:26.602Z"
   },
   {
    "duration": 7,
    "start_time": "2022-05-19T05:04:38.781Z"
   },
   {
    "duration": 2059,
    "start_time": "2022-05-19T05:04:40.009Z"
   },
   {
    "duration": 1752,
    "start_time": "2022-05-19T05:04:47.567Z"
   },
   {
    "duration": 1641,
    "start_time": "2022-05-19T05:04:50.660Z"
   },
   {
    "duration": 6,
    "start_time": "2022-05-19T05:05:12.203Z"
   },
   {
    "duration": 25,
    "start_time": "2022-05-19T05:05:13.150Z"
   },
   {
    "duration": 6,
    "start_time": "2022-05-19T05:05:24.077Z"
   },
   {
    "duration": 1674,
    "start_time": "2022-05-19T05:05:25.045Z"
   },
   {
    "duration": 1614,
    "start_time": "2022-05-19T05:05:26.722Z"
   },
   {
    "duration": 1687,
    "start_time": "2022-05-19T05:05:28.338Z"
   },
   {
    "duration": 14,
    "start_time": "2022-05-19T05:08:12.465Z"
   },
   {
    "duration": 1363,
    "start_time": "2022-05-19T09:21:19.398Z"
   },
   {
    "duration": 6,
    "start_time": "2022-05-19T09:21:20.762Z"
   },
   {
    "duration": 1597,
    "start_time": "2022-05-19T09:21:20.769Z"
   },
   {
    "duration": 3,
    "start_time": "2022-05-19T09:21:22.368Z"
   },
   {
    "duration": 170,
    "start_time": "2022-05-19T09:21:22.373Z"
   },
   {
    "duration": 123,
    "start_time": "2022-05-19T09:21:22.545Z"
   },
   {
    "duration": 128,
    "start_time": "2022-05-19T09:21:22.670Z"
   },
   {
    "duration": 1064,
    "start_time": "2022-05-19T09:21:22.799Z"
   },
   {
    "duration": 196,
    "start_time": "2022-05-19T09:21:23.865Z"
   },
   {
    "duration": 129,
    "start_time": "2022-05-19T09:21:24.064Z"
   },
   {
    "duration": 267,
    "start_time": "2022-05-19T09:21:24.195Z"
   },
   {
    "duration": 9,
    "start_time": "2022-05-19T09:21:24.464Z"
   },
   {
    "duration": 8,
    "start_time": "2022-05-19T09:21:24.561Z"
   },
   {
    "duration": 7,
    "start_time": "2022-05-19T09:21:24.570Z"
   },
   {
    "duration": 11,
    "start_time": "2022-05-19T09:21:24.578Z"
   },
   {
    "duration": 11,
    "start_time": "2022-05-19T09:21:24.590Z"
   },
   {
    "duration": 10,
    "start_time": "2022-05-19T09:21:24.603Z"
   },
   {
    "duration": 7,
    "start_time": "2022-05-19T09:21:24.615Z"
   },
   {
    "duration": 4,
    "start_time": "2022-05-19T09:21:24.624Z"
   },
   {
    "duration": 8,
    "start_time": "2022-05-19T09:21:24.629Z"
   },
   {
    "duration": 23,
    "start_time": "2022-05-19T09:21:24.639Z"
   },
   {
    "duration": 7,
    "start_time": "2022-05-19T09:21:24.664Z"
   },
   {
    "duration": 1205,
    "start_time": "2022-05-19T09:23:13.364Z"
   },
   {
    "duration": 2,
    "start_time": "2022-05-19T09:23:14.571Z"
   },
   {
    "duration": 380,
    "start_time": "2022-05-19T09:23:14.575Z"
   },
   {
    "duration": 4,
    "start_time": "2022-05-19T09:23:14.958Z"
   },
   {
    "duration": 132,
    "start_time": "2022-05-19T09:23:14.963Z"
   },
   {
    "duration": 122,
    "start_time": "2022-05-19T09:23:15.097Z"
   },
   {
    "duration": 117,
    "start_time": "2022-05-19T09:23:15.221Z"
   },
   {
    "duration": 952,
    "start_time": "2022-05-19T09:23:15.339Z"
   },
   {
    "duration": 68,
    "start_time": "2022-05-19T09:23:16.292Z"
   },
   {
    "duration": 129,
    "start_time": "2022-05-19T09:23:16.363Z"
   },
   {
    "duration": 193,
    "start_time": "2022-05-19T09:23:16.494Z"
   },
   {
    "duration": 71,
    "start_time": "2022-05-19T09:23:16.691Z"
   },
   {
    "duration": 101,
    "start_time": "2022-05-19T09:23:16.764Z"
   },
   {
    "duration": 6,
    "start_time": "2022-05-19T09:23:16.867Z"
   },
   {
    "duration": 7,
    "start_time": "2022-05-19T09:23:16.874Z"
   },
   {
    "duration": 25,
    "start_time": "2022-05-19T09:23:16.882Z"
   },
   {
    "duration": 8,
    "start_time": "2022-05-19T09:23:16.908Z"
   },
   {
    "duration": 15,
    "start_time": "2022-05-19T09:23:16.918Z"
   },
   {
    "duration": 7,
    "start_time": "2022-05-19T09:23:16.934Z"
   },
   {
    "duration": 4,
    "start_time": "2022-05-19T09:23:16.943Z"
   },
   {
    "duration": 10,
    "start_time": "2022-05-19T09:23:16.949Z"
   },
   {
    "duration": 11,
    "start_time": "2022-05-19T09:23:16.960Z"
   },
   {
    "duration": 1205,
    "start_time": "2022-05-19T09:25:11.651Z"
   },
   {
    "duration": 11,
    "start_time": "2022-05-19T09:25:12.859Z"
   },
   {
    "duration": 349,
    "start_time": "2022-05-19T09:25:12.871Z"
   },
   {
    "duration": 3,
    "start_time": "2022-05-19T09:25:13.222Z"
   },
   {
    "duration": 123,
    "start_time": "2022-05-19T09:25:13.226Z"
   },
   {
    "duration": 133,
    "start_time": "2022-05-19T09:25:13.351Z"
   },
   {
    "duration": 126,
    "start_time": "2022-05-19T09:25:13.485Z"
   },
   {
    "duration": 960,
    "start_time": "2022-05-19T09:25:13.613Z"
   },
   {
    "duration": 85,
    "start_time": "2022-05-19T09:25:14.575Z"
   },
   {
    "duration": 125,
    "start_time": "2022-05-19T09:25:14.666Z"
   },
   {
    "duration": 183,
    "start_time": "2022-05-19T09:25:14.793Z"
   },
   {
    "duration": 80,
    "start_time": "2022-05-19T09:25:14.980Z"
   },
   {
    "duration": 119,
    "start_time": "2022-05-19T09:25:15.062Z"
   },
   {
    "duration": 3,
    "start_time": "2022-05-19T09:25:15.183Z"
   },
   {
    "duration": 7,
    "start_time": "2022-05-19T09:25:15.187Z"
   },
   {
    "duration": 9,
    "start_time": "2022-05-19T09:25:15.195Z"
   },
   {
    "duration": 6,
    "start_time": "2022-05-19T09:25:15.205Z"
   },
   {
    "duration": 9,
    "start_time": "2022-05-19T09:25:15.212Z"
   },
   {
    "duration": 3,
    "start_time": "2022-05-19T09:25:15.222Z"
   },
   {
    "duration": 8,
    "start_time": "2022-05-19T09:25:15.226Z"
   },
   {
    "duration": 8,
    "start_time": "2022-05-19T09:25:15.235Z"
   },
   {
    "duration": 114,
    "start_time": "2022-05-19T09:25:15.244Z"
   },
   {
    "duration": 0,
    "start_time": "2022-05-19T09:25:15.360Z"
   },
   {
    "duration": 0,
    "start_time": "2022-05-19T09:25:15.361Z"
   },
   {
    "duration": 5,
    "start_time": "2022-05-19T09:26:39.592Z"
   },
   {
    "duration": 1211,
    "start_time": "2022-05-19T10:11:49.095Z"
   },
   {
    "duration": 3,
    "start_time": "2022-05-19T10:11:50.308Z"
   },
   {
    "duration": 369,
    "start_time": "2022-05-19T10:11:50.312Z"
   },
   {
    "duration": 3,
    "start_time": "2022-05-19T10:11:50.683Z"
   },
   {
    "duration": 137,
    "start_time": "2022-05-19T10:11:50.688Z"
   },
   {
    "duration": 112,
    "start_time": "2022-05-19T10:11:50.826Z"
   },
   {
    "duration": 135,
    "start_time": "2022-05-19T10:11:50.939Z"
   },
   {
    "duration": 1116,
    "start_time": "2022-05-19T10:11:51.076Z"
   },
   {
    "duration": 75,
    "start_time": "2022-05-19T10:11:52.194Z"
   },
   {
    "duration": 45,
    "start_time": "2022-05-19T10:11:52.363Z"
   },
   {
    "duration": 134,
    "start_time": "2022-05-19T10:11:52.461Z"
   },
   {
    "duration": 65,
    "start_time": "2022-05-19T10:11:52.597Z"
   },
   {
    "duration": 117,
    "start_time": "2022-05-19T10:11:52.664Z"
   },
   {
    "duration": 4,
    "start_time": "2022-05-19T10:11:52.782Z"
   },
   {
    "duration": 6,
    "start_time": "2022-05-19T10:11:52.788Z"
   },
   {
    "duration": 11,
    "start_time": "2022-05-19T10:11:52.796Z"
   },
   {
    "duration": 8,
    "start_time": "2022-05-19T10:11:52.808Z"
   },
   {
    "duration": 8,
    "start_time": "2022-05-19T10:11:52.817Z"
   },
   {
    "duration": 5,
    "start_time": "2022-05-19T10:11:52.826Z"
   },
   {
    "duration": 5,
    "start_time": "2022-05-19T10:11:52.832Z"
   },
   {
    "duration": 14,
    "start_time": "2022-05-19T10:11:52.860Z"
   },
   {
    "duration": 1252,
    "start_time": "2022-05-19T10:50:31.814Z"
   },
   {
    "duration": 4,
    "start_time": "2022-05-19T10:50:33.077Z"
   },
   {
    "duration": 416,
    "start_time": "2022-05-19T10:50:33.085Z"
   },
   {
    "duration": 3,
    "start_time": "2022-05-19T10:50:33.503Z"
   },
   {
    "duration": 142,
    "start_time": "2022-05-19T10:50:33.508Z"
   },
   {
    "duration": 123,
    "start_time": "2022-05-19T10:50:33.651Z"
   },
   {
    "duration": 131,
    "start_time": "2022-05-19T10:50:33.776Z"
   },
   {
    "duration": 990,
    "start_time": "2022-05-19T10:50:33.909Z"
   },
   {
    "duration": 67,
    "start_time": "2022-05-19T10:50:34.900Z"
   },
   {
    "duration": 127,
    "start_time": "2022-05-19T10:50:34.975Z"
   },
   {
    "duration": 270,
    "start_time": "2022-05-19T10:50:35.104Z"
   },
   {
    "duration": 17,
    "start_time": "2022-05-19T10:50:35.376Z"
   },
   {
    "duration": 107,
    "start_time": "2022-05-19T10:50:35.404Z"
   },
   {
    "duration": 22,
    "start_time": "2022-05-19T10:50:35.512Z"
   },
   {
    "duration": 56,
    "start_time": "2022-05-19T10:50:35.535Z"
   },
   {
    "duration": 28,
    "start_time": "2022-05-19T10:50:35.593Z"
   },
   {
    "duration": 177,
    "start_time": "2022-05-19T10:50:35.622Z"
   },
   {
    "duration": 0,
    "start_time": "2022-05-19T10:50:35.802Z"
   },
   {
    "duration": 0,
    "start_time": "2022-05-19T10:50:35.803Z"
   },
   {
    "duration": 0,
    "start_time": "2022-05-19T10:50:35.804Z"
   },
   {
    "duration": 0,
    "start_time": "2022-05-19T10:50:35.805Z"
   },
   {
    "duration": 0,
    "start_time": "2022-05-19T10:50:35.806Z"
   },
   {
    "duration": 0,
    "start_time": "2022-05-19T10:50:35.808Z"
   },
   {
    "duration": 1257,
    "start_time": "2022-05-19T10:51:06.917Z"
   },
   {
    "duration": 15,
    "start_time": "2022-05-19T10:51:08.181Z"
   },
   {
    "duration": 455,
    "start_time": "2022-05-19T10:51:08.200Z"
   },
   {
    "duration": 7,
    "start_time": "2022-05-19T10:51:08.660Z"
   },
   {
    "duration": 167,
    "start_time": "2022-05-19T10:51:08.669Z"
   },
   {
    "duration": 114,
    "start_time": "2022-05-19T10:51:08.837Z"
   },
   {
    "duration": 141,
    "start_time": "2022-05-19T10:51:08.952Z"
   },
   {
    "duration": 872,
    "start_time": "2022-05-19T10:51:09.096Z"
   },
   {
    "duration": 90,
    "start_time": "2022-05-19T10:51:09.975Z"
   },
   {
    "duration": 200,
    "start_time": "2022-05-19T10:51:10.068Z"
   },
   {
    "duration": 290,
    "start_time": "2022-05-19T10:51:10.270Z"
   },
   {
    "duration": 48,
    "start_time": "2022-05-19T10:51:10.564Z"
   },
   {
    "duration": 40,
    "start_time": "2022-05-19T10:51:10.614Z"
   },
   {
    "duration": 22,
    "start_time": "2022-05-19T10:51:10.656Z"
   },
   {
    "duration": 42,
    "start_time": "2022-05-19T10:51:10.682Z"
   },
   {
    "duration": 30,
    "start_time": "2022-05-19T10:51:10.726Z"
   },
   {
    "duration": 189,
    "start_time": "2022-05-19T10:51:10.758Z"
   },
   {
    "duration": 0,
    "start_time": "2022-05-19T10:51:10.949Z"
   },
   {
    "duration": 0,
    "start_time": "2022-05-19T10:51:10.950Z"
   },
   {
    "duration": 1,
    "start_time": "2022-05-19T10:51:10.952Z"
   },
   {
    "duration": 0,
    "start_time": "2022-05-19T10:51:10.954Z"
   },
   {
    "duration": 0,
    "start_time": "2022-05-19T10:51:10.955Z"
   },
   {
    "duration": 0,
    "start_time": "2022-05-19T10:51:10.956Z"
   },
   {
    "duration": 9,
    "start_time": "2022-05-19T10:51:27.817Z"
   },
   {
    "duration": 8,
    "start_time": "2022-05-19T10:51:30.237Z"
   },
   {
    "duration": 8,
    "start_time": "2022-05-19T10:51:31.726Z"
   },
   {
    "duration": 3,
    "start_time": "2022-05-19T10:51:45.413Z"
   },
   {
    "duration": 59,
    "start_time": "2022-05-19T10:54:25.940Z"
   },
   {
    "duration": 97,
    "start_time": "2022-05-19T10:54:41.657Z"
   },
   {
    "duration": 5,
    "start_time": "2022-05-19T10:54:53.129Z"
   },
   {
    "duration": 61,
    "start_time": "2022-05-19T10:54:56.304Z"
   },
   {
    "duration": 45,
    "start_time": "2022-05-19T10:56:11.309Z"
   },
   {
    "duration": 7,
    "start_time": "2022-05-19T10:56:16.030Z"
   },
   {
    "duration": 5,
    "start_time": "2022-05-19T10:57:23.425Z"
   },
   {
    "duration": 1658,
    "start_time": "2022-05-19T10:57:26.410Z"
   },
   {
    "duration": 5,
    "start_time": "2022-05-19T10:57:50.984Z"
   },
   {
    "duration": 1524,
    "start_time": "2022-05-19T10:57:52.094Z"
   },
   {
    "duration": 5,
    "start_time": "2022-05-19T10:58:27.813Z"
   },
   {
    "duration": 1545,
    "start_time": "2022-05-19T10:58:31.883Z"
   },
   {
    "duration": 6,
    "start_time": "2022-05-19T10:59:26.238Z"
   },
   {
    "duration": 1832,
    "start_time": "2022-05-19T10:59:27.283Z"
   },
   {
    "duration": 1556,
    "start_time": "2022-05-19T10:59:35.985Z"
   },
   {
    "duration": 1546,
    "start_time": "2022-05-19T10:59:47.218Z"
   },
   {
    "duration": 1459,
    "start_time": "2022-05-19T10:59:48.767Z"
   },
   {
    "duration": 7,
    "start_time": "2022-05-19T11:00:34.490Z"
   },
   {
    "duration": 1529,
    "start_time": "2022-05-19T11:00:36.487Z"
   },
   {
    "duration": 1492,
    "start_time": "2022-05-19T11:00:40.224Z"
   },
   {
    "duration": 1556,
    "start_time": "2022-05-19T11:00:42.780Z"
   },
   {
    "duration": 6,
    "start_time": "2022-05-19T11:01:04.714Z"
   },
   {
    "duration": 1626,
    "start_time": "2022-05-19T11:01:05.494Z"
   },
   {
    "duration": 6,
    "start_time": "2022-05-19T11:01:27.973Z"
   },
   {
    "duration": 1531,
    "start_time": "2022-05-19T11:01:30.511Z"
   },
   {
    "duration": 5,
    "start_time": "2022-05-19T11:02:02.528Z"
   },
   {
    "duration": 1587,
    "start_time": "2022-05-19T11:02:03.632Z"
   },
   {
    "duration": 5,
    "start_time": "2022-05-19T11:02:20.195Z"
   },
   {
    "duration": 1578,
    "start_time": "2022-05-19T11:02:21.088Z"
   },
   {
    "duration": 1547,
    "start_time": "2022-05-19T11:02:22.674Z"
   },
   {
    "duration": 1561,
    "start_time": "2022-05-19T11:02:24.223Z"
   },
   {
    "duration": 1590,
    "start_time": "2022-05-19T11:02:36.088Z"
   },
   {
    "duration": 9,
    "start_time": "2022-05-19T11:06:26.042Z"
   },
   {
    "duration": 2030,
    "start_time": "2022-05-19T11:06:26.736Z"
   },
   {
    "duration": 8,
    "start_time": "2022-05-19T11:07:33.399Z"
   },
   {
    "duration": 2038,
    "start_time": "2022-05-19T11:07:34.310Z"
   },
   {
    "duration": 10,
    "start_time": "2022-05-19T11:07:52.140Z"
   },
   {
    "duration": 2124,
    "start_time": "2022-05-19T11:07:53.095Z"
   },
   {
    "duration": 110,
    "start_time": "2022-05-19T11:08:28.392Z"
   },
   {
    "duration": 2236,
    "start_time": "2022-05-19T11:08:28.899Z"
   },
   {
    "duration": 10,
    "start_time": "2022-05-19T11:08:38.287Z"
   },
   {
    "duration": 1954,
    "start_time": "2022-05-19T11:08:38.825Z"
   },
   {
    "duration": 9,
    "start_time": "2022-05-19T11:16:51.482Z"
   },
   {
    "duration": 42,
    "start_time": "2022-05-19T11:17:05.918Z"
   },
   {
    "duration": 7,
    "start_time": "2022-05-19T11:17:15.113Z"
   },
   {
    "duration": 1886,
    "start_time": "2022-05-19T11:17:16.201Z"
   },
   {
    "duration": 0,
    "start_time": "2022-05-19T11:17:18.089Z"
   },
   {
    "duration": 0,
    "start_time": "2022-05-19T11:17:18.090Z"
   },
   {
    "duration": 7,
    "start_time": "2022-05-19T11:18:03.381Z"
   },
   {
    "duration": 1832,
    "start_time": "2022-05-19T11:18:04.322Z"
   },
   {
    "duration": 1846,
    "start_time": "2022-05-19T11:18:06.156Z"
   },
   {
    "duration": 1925,
    "start_time": "2022-05-19T11:18:08.005Z"
   },
   {
    "duration": 7,
    "start_time": "2022-05-19T11:18:45.511Z"
   },
   {
    "duration": 1831,
    "start_time": "2022-05-19T11:18:46.876Z"
   },
   {
    "duration": 1789,
    "start_time": "2022-05-19T11:18:48.709Z"
   },
   {
    "duration": 1834,
    "start_time": "2022-05-19T11:18:50.500Z"
   },
   {
    "duration": 10,
    "start_time": "2022-05-19T11:19:44.293Z"
   },
   {
    "duration": 1863,
    "start_time": "2022-05-19T11:19:45.754Z"
   },
   {
    "duration": 2157,
    "start_time": "2022-05-19T11:19:47.619Z"
   },
   {
    "duration": 1963,
    "start_time": "2022-05-19T11:19:49.782Z"
   },
   {
    "duration": 18,
    "start_time": "2022-05-19T11:19:58.061Z"
   },
   {
    "duration": 1837,
    "start_time": "2022-05-19T11:19:59.453Z"
   },
   {
    "duration": 1855,
    "start_time": "2022-05-19T11:20:01.292Z"
   },
   {
    "duration": 1757,
    "start_time": "2022-05-19T11:20:03.149Z"
   },
   {
    "duration": 9,
    "start_time": "2022-05-19T11:20:24.592Z"
   },
   {
    "duration": 1819,
    "start_time": "2022-05-19T11:20:25.360Z"
   },
   {
    "duration": 1947,
    "start_time": "2022-05-19T11:20:27.181Z"
   },
   {
    "duration": 2274,
    "start_time": "2022-05-19T11:20:29.129Z"
   },
   {
    "duration": 1223,
    "start_time": "2022-05-19T11:21:48.812Z"
   },
   {
    "duration": 3,
    "start_time": "2022-05-19T11:21:50.037Z"
   },
   {
    "duration": 427,
    "start_time": "2022-05-19T11:21:50.041Z"
   },
   {
    "duration": 4,
    "start_time": "2022-05-19T11:21:50.477Z"
   },
   {
    "duration": 133,
    "start_time": "2022-05-19T11:21:50.483Z"
   },
   {
    "duration": 154,
    "start_time": "2022-05-19T11:21:50.618Z"
   },
   {
    "duration": 147,
    "start_time": "2022-05-19T11:21:50.779Z"
   },
   {
    "duration": 1002,
    "start_time": "2022-05-19T11:21:50.928Z"
   },
   {
    "duration": 141,
    "start_time": "2022-05-19T11:21:51.931Z"
   },
   {
    "duration": 182,
    "start_time": "2022-05-19T11:21:52.080Z"
   },
   {
    "duration": 210,
    "start_time": "2022-05-19T11:21:52.264Z"
   },
   {
    "duration": 9,
    "start_time": "2022-05-19T11:21:52.478Z"
   },
   {
    "duration": 33,
    "start_time": "2022-05-19T11:21:52.558Z"
   },
   {
    "duration": 4,
    "start_time": "2022-05-19T11:21:52.593Z"
   },
   {
    "duration": 14,
    "start_time": "2022-05-19T11:21:52.598Z"
   },
   {
    "duration": 12,
    "start_time": "2022-05-19T11:21:52.614Z"
   },
   {
    "duration": 9,
    "start_time": "2022-05-19T11:21:52.628Z"
   },
   {
    "duration": 11,
    "start_time": "2022-05-19T11:21:52.665Z"
   },
   {
    "duration": 10,
    "start_time": "2022-05-19T11:21:52.677Z"
   },
   {
    "duration": 7,
    "start_time": "2022-05-19T11:21:52.689Z"
   },
   {
    "duration": 8,
    "start_time": "2022-05-19T11:21:52.698Z"
   },
   {
    "duration": 1842,
    "start_time": "2022-05-19T11:21:52.707Z"
   },
   {
    "duration": 1895,
    "start_time": "2022-05-19T11:21:54.551Z"
   },
   {
    "duration": 1999,
    "start_time": "2022-05-19T11:21:56.448Z"
   },
   {
    "duration": 10,
    "start_time": "2022-05-19T11:22:25.061Z"
   },
   {
    "duration": 1965,
    "start_time": "2022-05-19T11:22:25.871Z"
   },
   {
    "duration": 0,
    "start_time": "2022-05-19T11:22:27.839Z"
   },
   {
    "duration": 0,
    "start_time": "2022-05-19T11:22:27.841Z"
   },
   {
    "duration": 7,
    "start_time": "2022-05-19T11:22:41.517Z"
   },
   {
    "duration": 1741,
    "start_time": "2022-05-19T11:22:42.083Z"
   },
   {
    "duration": 0,
    "start_time": "2022-05-19T11:22:43.827Z"
   },
   {
    "duration": 6,
    "start_time": "2022-05-19T11:22:53.221Z"
   },
   {
    "duration": 1691,
    "start_time": "2022-05-19T11:22:54.004Z"
   },
   {
    "duration": 2082,
    "start_time": "2022-05-19T11:22:55.697Z"
   },
   {
    "duration": 1849,
    "start_time": "2022-05-19T11:22:57.783Z"
   },
   {
    "duration": 1826,
    "start_time": "2022-05-19T11:23:21.416Z"
   },
   {
    "duration": 1758,
    "start_time": "2022-05-19T11:23:23.244Z"
   },
   {
    "duration": 1775,
    "start_time": "2022-05-19T11:23:25.004Z"
   },
   {
    "duration": 1449,
    "start_time": "2022-05-19T11:27:57.698Z"
   },
   {
    "duration": 3,
    "start_time": "2022-05-19T11:27:59.149Z"
   },
   {
    "duration": 475,
    "start_time": "2022-05-19T11:27:59.153Z"
   },
   {
    "duration": 4,
    "start_time": "2022-05-19T11:27:59.630Z"
   },
   {
    "duration": 152,
    "start_time": "2022-05-19T11:27:59.635Z"
   },
   {
    "duration": 144,
    "start_time": "2022-05-19T11:27:59.789Z"
   },
   {
    "duration": 147,
    "start_time": "2022-05-19T11:27:59.935Z"
   },
   {
    "duration": 1035,
    "start_time": "2022-05-19T11:28:00.087Z"
   },
   {
    "duration": 166,
    "start_time": "2022-05-19T11:28:01.124Z"
   },
   {
    "duration": 140,
    "start_time": "2022-05-19T11:28:01.303Z"
   },
   {
    "duration": 148,
    "start_time": "2022-05-19T11:28:01.447Z"
   },
   {
    "duration": 124,
    "start_time": "2022-05-19T11:28:01.597Z"
   },
   {
    "duration": 92,
    "start_time": "2022-05-19T11:28:01.723Z"
   },
   {
    "duration": 14,
    "start_time": "2022-05-19T11:28:01.818Z"
   },
   {
    "duration": 24,
    "start_time": "2022-05-19T11:28:01.834Z"
   },
   {
    "duration": 169,
    "start_time": "2022-05-19T11:28:01.865Z"
   },
   {
    "duration": 26,
    "start_time": "2022-05-19T11:28:02.036Z"
   },
   {
    "duration": 42,
    "start_time": "2022-05-19T11:28:02.070Z"
   },
   {
    "duration": 10,
    "start_time": "2022-05-19T11:28:02.113Z"
   },
   {
    "duration": 23,
    "start_time": "2022-05-19T11:28:02.125Z"
   },
   {
    "duration": 68,
    "start_time": "2022-05-19T11:28:02.150Z"
   },
   {
    "duration": 1870,
    "start_time": "2022-05-19T11:28:02.220Z"
   },
   {
    "duration": 1755,
    "start_time": "2022-05-19T11:28:04.094Z"
   },
   {
    "duration": 1853,
    "start_time": "2022-05-19T11:28:05.851Z"
   },
   {
    "duration": 1766,
    "start_time": "2022-05-20T09:44:03.478Z"
   },
   {
    "duration": 6,
    "start_time": "2022-05-20T09:44:05.246Z"
   },
   {
    "duration": 2685,
    "start_time": "2022-05-20T09:44:05.254Z"
   },
   {
    "duration": 5,
    "start_time": "2022-05-20T09:44:07.945Z"
   },
   {
    "duration": 235,
    "start_time": "2022-05-20T09:44:07.954Z"
   },
   {
    "duration": 199,
    "start_time": "2022-05-20T09:44:08.192Z"
   },
   {
    "duration": 197,
    "start_time": "2022-05-20T09:44:08.396Z"
   },
   {
    "duration": 1194,
    "start_time": "2022-05-20T09:44:08.596Z"
   },
   {
    "duration": 255,
    "start_time": "2022-05-20T09:44:09.792Z"
   },
   {
    "duration": 131,
    "start_time": "2022-05-20T09:44:10.058Z"
   },
   {
    "duration": 197,
    "start_time": "2022-05-20T09:44:10.191Z"
   },
   {
    "duration": 9,
    "start_time": "2022-05-20T09:44:10.453Z"
   },
   {
    "duration": 114,
    "start_time": "2022-05-20T09:44:10.466Z"
   },
   {
    "duration": 6,
    "start_time": "2022-05-20T09:44:10.584Z"
   },
   {
    "duration": 12,
    "start_time": "2022-05-20T09:44:10.593Z"
   },
   {
    "duration": 12,
    "start_time": "2022-05-20T09:44:10.607Z"
   },
   {
    "duration": 9,
    "start_time": "2022-05-20T09:44:10.622Z"
   },
   {
    "duration": 17,
    "start_time": "2022-05-20T09:44:10.634Z"
   },
   {
    "duration": 41,
    "start_time": "2022-05-20T09:44:10.653Z"
   },
   {
    "duration": 11,
    "start_time": "2022-05-20T09:44:10.697Z"
   },
   {
    "duration": 12,
    "start_time": "2022-05-20T09:44:10.710Z"
   },
   {
    "duration": 2158,
    "start_time": "2022-05-20T09:44:10.724Z"
   },
   {
    "duration": 2262,
    "start_time": "2022-05-20T09:44:12.883Z"
   },
   {
    "duration": 2313,
    "start_time": "2022-05-20T09:44:15.156Z"
   },
   {
    "duration": 10,
    "start_time": "2022-05-20T09:49:34.365Z"
   },
   {
    "duration": 2043,
    "start_time": "2022-05-20T09:49:36.680Z"
   },
   {
    "duration": 1922,
    "start_time": "2022-05-20T09:49:38.795Z"
   },
   {
    "duration": 1860,
    "start_time": "2022-05-20T09:49:40.719Z"
   },
   {
    "duration": 113,
    "start_time": "2022-05-20T09:53:22.800Z"
   },
   {
    "duration": 2019,
    "start_time": "2022-05-20T09:53:23.224Z"
   },
   {
    "duration": 2165,
    "start_time": "2022-05-20T09:53:25.245Z"
   },
   {
    "duration": 2095,
    "start_time": "2022-05-20T09:53:27.413Z"
   },
   {
    "duration": 1389,
    "start_time": "2022-05-20T09:55:14.298Z"
   },
   {
    "duration": 4,
    "start_time": "2022-05-20T09:55:15.689Z"
   },
   {
    "duration": 427,
    "start_time": "2022-05-20T09:55:15.694Z"
   },
   {
    "duration": 3,
    "start_time": "2022-05-20T09:55:16.124Z"
   },
   {
    "duration": 169,
    "start_time": "2022-05-20T09:55:16.129Z"
   },
   {
    "duration": 153,
    "start_time": "2022-05-20T09:55:16.300Z"
   },
   {
    "duration": 143,
    "start_time": "2022-05-20T09:55:16.455Z"
   },
   {
    "duration": 1181,
    "start_time": "2022-05-20T09:55:16.599Z"
   },
   {
    "duration": 68,
    "start_time": "2022-05-20T09:55:17.782Z"
   },
   {
    "duration": 186,
    "start_time": "2022-05-20T09:55:17.856Z"
   },
   {
    "duration": 199,
    "start_time": "2022-05-20T09:55:18.044Z"
   },
   {
    "duration": 6,
    "start_time": "2022-05-20T09:55:18.246Z"
   },
   {
    "duration": 119,
    "start_time": "2022-05-20T09:55:18.254Z"
   },
   {
    "duration": 11,
    "start_time": "2022-05-20T09:55:18.375Z"
   },
   {
    "duration": 10,
    "start_time": "2022-05-20T09:55:18.388Z"
   },
   {
    "duration": 18,
    "start_time": "2022-05-20T09:55:18.400Z"
   },
   {
    "duration": 15,
    "start_time": "2022-05-20T09:55:18.421Z"
   },
   {
    "duration": 22,
    "start_time": "2022-05-20T09:55:18.438Z"
   },
   {
    "duration": 8,
    "start_time": "2022-05-20T09:55:18.462Z"
   },
   {
    "duration": 14,
    "start_time": "2022-05-20T09:55:18.473Z"
   },
   {
    "duration": 11,
    "start_time": "2022-05-20T09:55:18.489Z"
   },
   {
    "duration": 1963,
    "start_time": "2022-05-20T09:55:18.502Z"
   },
   {
    "duration": 1934,
    "start_time": "2022-05-20T09:55:20.467Z"
   },
   {
    "duration": 1894,
    "start_time": "2022-05-20T09:55:22.403Z"
   },
   {
    "duration": 1384,
    "start_time": "2022-07-02T17:11:25.804Z"
   },
   {
    "duration": 3,
    "start_time": "2022-07-02T17:11:27.190Z"
   },
   {
    "duration": 1690,
    "start_time": "2022-07-02T17:11:27.195Z"
   },
   {
    "duration": 4,
    "start_time": "2022-07-02T17:11:28.887Z"
   },
   {
    "duration": 120,
    "start_time": "2022-07-02T17:11:28.893Z"
   },
   {
    "duration": 115,
    "start_time": "2022-07-02T17:11:29.015Z"
   },
   {
    "duration": 112,
    "start_time": "2022-07-02T17:11:29.131Z"
   },
   {
    "duration": 898,
    "start_time": "2022-07-02T17:11:29.245Z"
   },
   {
    "duration": 87,
    "start_time": "2022-07-02T17:11:30.145Z"
   },
   {
    "duration": 196,
    "start_time": "2022-07-02T17:11:30.235Z"
   },
   {
    "duration": 124,
    "start_time": "2022-07-02T17:11:30.433Z"
   },
   {
    "duration": 4,
    "start_time": "2022-07-02T17:11:30.559Z"
   },
   {
    "duration": 14,
    "start_time": "2022-07-02T17:11:30.628Z"
   },
   {
    "duration": 93,
    "start_time": "2022-07-02T17:11:30.643Z"
   },
   {
    "duration": 4,
    "start_time": "2022-07-02T17:11:32.753Z"
   },
   {
    "duration": 8,
    "start_time": "2022-07-02T17:11:37.714Z"
   },
   {
    "duration": 7,
    "start_time": "2022-07-02T17:11:39.359Z"
   },
   {
    "duration": 7,
    "start_time": "2022-07-02T17:11:40.950Z"
   },
   {
    "duration": 3,
    "start_time": "2022-07-02T17:11:42.495Z"
   },
   {
    "duration": 4,
    "start_time": "2022-07-02T17:11:45.980Z"
   },
   {
    "duration": 6,
    "start_time": "2022-07-02T17:11:54.142Z"
   },
   {
    "duration": 1573,
    "start_time": "2022-07-02T17:12:00.172Z"
   },
   {
    "duration": 1629,
    "start_time": "2022-07-02T17:12:01.746Z"
   },
   {
    "duration": 1601,
    "start_time": "2022-07-02T17:12:03.377Z"
   },
   {
    "duration": 6,
    "start_time": "2022-07-02T17:17:05.084Z"
   },
   {
    "duration": 1832,
    "start_time": "2022-07-02T17:17:06.340Z"
   },
   {
    "duration": 1662,
    "start_time": "2022-07-02T17:17:08.174Z"
   },
   {
    "duration": 1628,
    "start_time": "2022-07-02T17:17:09.837Z"
   },
   {
    "duration": 6,
    "start_time": "2022-07-02T17:17:28.219Z"
   },
   {
    "duration": 1615,
    "start_time": "2022-07-02T17:17:29.333Z"
   },
   {
    "duration": 1622,
    "start_time": "2022-07-02T17:17:30.950Z"
   },
   {
    "duration": 1914,
    "start_time": "2022-07-02T17:17:32.574Z"
   },
   {
    "duration": 6,
    "start_time": "2022-07-02T17:18:04.987Z"
   },
   {
    "duration": 1889,
    "start_time": "2022-07-02T17:18:05.784Z"
   },
   {
    "duration": 1843,
    "start_time": "2022-07-02T17:18:07.675Z"
   },
   {
    "duration": 1683,
    "start_time": "2022-07-02T17:18:09.520Z"
   },
   {
    "duration": 7,
    "start_time": "2022-07-02T17:18:34.254Z"
   },
   {
    "duration": 1748,
    "start_time": "2022-07-02T17:18:35.207Z"
   },
   {
    "duration": 1700,
    "start_time": "2022-07-02T17:18:36.956Z"
   },
   {
    "duration": 1814,
    "start_time": "2022-07-02T17:18:38.657Z"
   },
   {
    "duration": 7,
    "start_time": "2022-07-02T17:19:06.317Z"
   },
   {
    "duration": 1834,
    "start_time": "2022-07-02T17:19:07.085Z"
   },
   {
    "duration": 1,
    "start_time": "2022-07-02T17:19:08.921Z"
   },
   {
    "duration": 5,
    "start_time": "2022-07-02T17:19:16.442Z"
   },
   {
    "duration": 1557,
    "start_time": "2022-07-02T17:19:17.084Z"
   },
   {
    "duration": 1654,
    "start_time": "2022-07-02T17:19:18.643Z"
   },
   {
    "duration": 1642,
    "start_time": "2022-07-02T17:19:20.299Z"
   },
   {
    "duration": 7,
    "start_time": "2022-07-02T17:46:21.440Z"
   },
   {
    "duration": 1615,
    "start_time": "2022-07-02T17:46:22.313Z"
   },
   {
    "duration": 0,
    "start_time": "2022-07-02T17:46:23.930Z"
   },
   {
    "duration": 0,
    "start_time": "2022-07-02T17:46:23.932Z"
   },
   {
    "duration": 6,
    "start_time": "2022-07-02T17:47:51.993Z"
   },
   {
    "duration": 1610,
    "start_time": "2022-07-02T17:47:52.854Z"
   },
   {
    "duration": 1636,
    "start_time": "2022-07-02T17:47:54.465Z"
   },
   {
    "duration": 1712,
    "start_time": "2022-07-02T17:47:56.102Z"
   },
   {
    "duration": 103,
    "start_time": "2022-07-02T17:50:25.562Z"
   },
   {
    "duration": 1658,
    "start_time": "2022-07-02T17:50:26.399Z"
   },
   {
    "duration": 0,
    "start_time": "2022-07-02T17:50:28.059Z"
   },
   {
    "duration": 0,
    "start_time": "2022-07-02T17:50:28.060Z"
   },
   {
    "duration": 6,
    "start_time": "2022-07-02T17:50:34.864Z"
   },
   {
    "duration": 1807,
    "start_time": "2022-07-02T17:50:35.456Z"
   },
   {
    "duration": 1688,
    "start_time": "2022-07-02T17:50:37.265Z"
   },
   {
    "duration": 1669,
    "start_time": "2022-07-02T17:50:38.955Z"
   },
   {
    "duration": 7,
    "start_time": "2022-07-02T17:51:10.670Z"
   },
   {
    "duration": 1706,
    "start_time": "2022-07-02T17:51:11.192Z"
   },
   {
    "duration": 1784,
    "start_time": "2022-07-02T17:51:12.900Z"
   },
   {
    "duration": 1750,
    "start_time": "2022-07-02T17:51:14.686Z"
   },
   {
    "duration": 9,
    "start_time": "2022-07-02T17:51:36.899Z"
   },
   {
    "duration": 1587,
    "start_time": "2022-07-02T17:51:37.466Z"
   },
   {
    "duration": 0,
    "start_time": "2022-07-02T17:51:39.055Z"
   },
   {
    "duration": 0,
    "start_time": "2022-07-02T17:51:39.056Z"
   },
   {
    "duration": 8,
    "start_time": "2022-07-02T17:52:36.609Z"
   },
   {
    "duration": 7,
    "start_time": "2022-07-02T17:52:47.858Z"
   },
   {
    "duration": 1723,
    "start_time": "2022-07-02T17:52:55.854Z"
   },
   {
    "duration": 1774,
    "start_time": "2022-07-02T17:52:57.579Z"
   },
   {
    "duration": 1700,
    "start_time": "2022-07-02T17:52:59.355Z"
   },
   {
    "duration": 6,
    "start_time": "2022-07-02T17:53:36.560Z"
   },
   {
    "duration": 1580,
    "start_time": "2022-07-02T17:53:38.749Z"
   },
   {
    "duration": 0,
    "start_time": "2022-07-02T17:53:40.330Z"
   },
   {
    "duration": 0,
    "start_time": "2022-07-02T17:53:40.331Z"
   },
   {
    "duration": 93,
    "start_time": "2022-07-02T17:54:15.763Z"
   },
   {
    "duration": 1734,
    "start_time": "2022-07-02T17:54:16.287Z"
   },
   {
    "duration": 1657,
    "start_time": "2022-07-02T17:54:18.023Z"
   },
   {
    "duration": 1675,
    "start_time": "2022-07-02T17:54:19.682Z"
   },
   {
    "duration": 7,
    "start_time": "2022-07-02T17:54:37.008Z"
   },
   {
    "duration": 1638,
    "start_time": "2022-07-02T17:54:37.469Z"
   },
   {
    "duration": 1648,
    "start_time": "2022-07-02T17:54:39.109Z"
   },
   {
    "duration": 1600,
    "start_time": "2022-07-02T17:54:40.758Z"
   },
   {
    "duration": 7,
    "start_time": "2022-07-02T17:55:55.466Z"
   },
   {
    "duration": 1654,
    "start_time": "2022-07-02T17:55:55.847Z"
   },
   {
    "duration": 0,
    "start_time": "2022-07-02T17:55:57.502Z"
   },
   {
    "duration": 0,
    "start_time": "2022-07-02T17:55:57.503Z"
   },
   {
    "duration": 100,
    "start_time": "2022-07-02T17:56:08.078Z"
   },
   {
    "duration": 1614,
    "start_time": "2022-07-02T17:56:08.491Z"
   },
   {
    "duration": 1543,
    "start_time": "2022-07-02T17:56:10.107Z"
   },
   {
    "duration": 1536,
    "start_time": "2022-07-02T17:56:11.651Z"
   },
   {
    "duration": 7,
    "start_time": "2022-07-02T17:56:45.288Z"
   },
   {
    "duration": 1769,
    "start_time": "2022-07-02T17:56:45.795Z"
   },
   {
    "duration": 1705,
    "start_time": "2022-07-02T17:56:47.566Z"
   },
   {
    "duration": 1711,
    "start_time": "2022-07-02T17:56:49.273Z"
   },
   {
    "duration": 7,
    "start_time": "2022-07-02T17:56:53.828Z"
   },
   {
    "duration": 1610,
    "start_time": "2022-07-02T17:56:54.305Z"
   },
   {
    "duration": 1802,
    "start_time": "2022-07-02T17:56:55.917Z"
   },
   {
    "duration": 1597,
    "start_time": "2022-07-02T17:56:57.721Z"
   },
   {
    "duration": 109,
    "start_time": "2022-07-02T17:57:28.830Z"
   },
   {
    "duration": 1563,
    "start_time": "2022-07-02T17:57:29.201Z"
   },
   {
    "duration": 1592,
    "start_time": "2022-07-02T17:57:30.766Z"
   },
   {
    "duration": 1625,
    "start_time": "2022-07-02T17:57:32.359Z"
   },
   {
    "duration": 79,
    "start_time": "2022-07-02T17:57:49.483Z"
   },
   {
    "duration": 1564,
    "start_time": "2022-07-02T17:57:50.435Z"
   },
   {
    "duration": 1587,
    "start_time": "2022-07-02T17:57:52.001Z"
   },
   {
    "duration": 1739,
    "start_time": "2022-07-02T17:57:53.590Z"
   },
   {
    "duration": 7,
    "start_time": "2022-07-02T17:58:00.106Z"
   },
   {
    "duration": 1583,
    "start_time": "2022-07-02T17:58:00.478Z"
   },
   {
    "duration": 0,
    "start_time": "2022-07-02T17:58:02.063Z"
   },
   {
    "duration": 0,
    "start_time": "2022-07-02T17:58:02.064Z"
   },
   {
    "duration": 7,
    "start_time": "2022-07-02T17:58:44.465Z"
   },
   {
    "duration": 1719,
    "start_time": "2022-07-02T17:58:45.056Z"
   },
   {
    "duration": 1694,
    "start_time": "2022-07-02T17:58:46.777Z"
   },
   {
    "duration": 1721,
    "start_time": "2022-07-02T17:58:48.472Z"
   },
   {
    "duration": 7,
    "start_time": "2022-07-02T17:59:06.859Z"
   },
   {
    "duration": 1674,
    "start_time": "2022-07-02T17:59:07.455Z"
   },
   {
    "duration": 1531,
    "start_time": "2022-07-02T17:59:09.131Z"
   },
   {
    "duration": 1554,
    "start_time": "2022-07-02T17:59:10.664Z"
   },
   {
    "duration": 120,
    "start_time": "2022-07-02T18:00:31.653Z"
   },
   {
    "duration": 1461,
    "start_time": "2022-07-02T18:00:40.764Z"
   },
   {
    "duration": 15073,
    "start_time": "2022-07-02T18:00:46.929Z"
   },
   {
    "duration": 3809,
    "start_time": "2022-07-02T18:01:33.467Z"
   },
   {
    "duration": 1624,
    "start_time": "2022-07-02T18:01:37.278Z"
   },
   {
    "duration": 1583,
    "start_time": "2022-07-02T18:01:38.904Z"
   },
   {
    "duration": 114,
    "start_time": "2022-07-02T18:02:33.983Z"
   },
   {
    "duration": 88,
    "start_time": "2022-07-02T18:02:44.017Z"
   },
   {
    "duration": 1849,
    "start_time": "2022-07-02T18:02:44.795Z"
   },
   {
    "duration": 1762,
    "start_time": "2022-07-02T18:02:46.646Z"
   },
   {
    "duration": 1791,
    "start_time": "2022-07-02T18:02:48.410Z"
   },
   {
    "duration": 7,
    "start_time": "2022-07-02T18:03:09.164Z"
   },
   {
    "duration": 1841,
    "start_time": "2022-07-02T18:03:09.870Z"
   },
   {
    "duration": 2013,
    "start_time": "2022-07-02T18:03:11.712Z"
   },
   {
    "duration": 1942,
    "start_time": "2022-07-02T18:03:13.728Z"
   },
   {
    "duration": 6,
    "start_time": "2022-07-02T18:03:43.615Z"
   },
   {
    "duration": 1949,
    "start_time": "2022-07-02T18:03:44.516Z"
   },
   {
    "duration": 1852,
    "start_time": "2022-07-02T18:03:46.467Z"
   },
   {
    "duration": 1851,
    "start_time": "2022-07-02T18:03:48.321Z"
   },
   {
    "duration": 6,
    "start_time": "2022-07-02T18:03:55.427Z"
   },
   {
    "duration": 1688,
    "start_time": "2022-07-02T18:03:56.168Z"
   },
   {
    "duration": 1818,
    "start_time": "2022-07-02T18:03:57.858Z"
   },
   {
    "duration": 1652,
    "start_time": "2022-07-02T18:03:59.677Z"
   },
   {
    "duration": 7,
    "start_time": "2022-07-02T18:07:10.951Z"
   },
   {
    "duration": 1637,
    "start_time": "2022-07-02T18:07:13.001Z"
   },
   {
    "duration": 1684,
    "start_time": "2022-07-02T18:07:14.640Z"
   },
   {
    "duration": 1635,
    "start_time": "2022-07-02T18:07:16.329Z"
   },
   {
    "duration": 7,
    "start_time": "2022-07-02T18:07:39.916Z"
   },
   {
    "duration": 1603,
    "start_time": "2022-07-02T18:07:40.281Z"
   },
   {
    "duration": 1647,
    "start_time": "2022-07-02T18:07:41.886Z"
   },
   {
    "duration": 1695,
    "start_time": "2022-07-02T18:07:43.534Z"
   },
   {
    "duration": 1529,
    "start_time": "2022-07-02T18:07:56.884Z"
   },
   {
    "duration": 3,
    "start_time": "2022-07-02T18:07:58.415Z"
   },
   {
    "duration": 368,
    "start_time": "2022-07-02T18:07:58.419Z"
   },
   {
    "duration": 4,
    "start_time": "2022-07-02T18:07:58.789Z"
   },
   {
    "duration": 147,
    "start_time": "2022-07-02T18:07:58.796Z"
   },
   {
    "duration": 115,
    "start_time": "2022-07-02T18:07:58.944Z"
   },
   {
    "duration": 126,
    "start_time": "2022-07-02T18:07:59.060Z"
   },
   {
    "duration": 1086,
    "start_time": "2022-07-02T18:07:59.187Z"
   },
   {
    "duration": 58,
    "start_time": "2022-07-02T18:08:00.275Z"
   },
   {
    "duration": 207,
    "start_time": "2022-07-02T18:08:00.343Z"
   },
   {
    "duration": 211,
    "start_time": "2022-07-02T18:08:00.552Z"
   },
   {
    "duration": 5,
    "start_time": "2022-07-02T18:08:00.765Z"
   },
   {
    "duration": 161,
    "start_time": "2022-07-02T18:08:00.771Z"
   },
   {
    "duration": 17,
    "start_time": "2022-07-02T18:08:00.935Z"
   },
   {
    "duration": 9,
    "start_time": "2022-07-02T18:08:00.953Z"
   },
   {
    "duration": 13,
    "start_time": "2022-07-02T18:08:00.964Z"
   },
   {
    "duration": 16,
    "start_time": "2022-07-02T18:08:00.979Z"
   },
   {
    "duration": 9,
    "start_time": "2022-07-02T18:08:00.997Z"
   },
   {
    "duration": 16,
    "start_time": "2022-07-02T18:08:01.008Z"
   },
   {
    "duration": 17,
    "start_time": "2022-07-02T18:08:01.026Z"
   },
   {
    "duration": 8,
    "start_time": "2022-07-02T18:08:01.045Z"
   },
   {
    "duration": 1738,
    "start_time": "2022-07-02T18:08:01.055Z"
   },
   {
    "duration": 1793,
    "start_time": "2022-07-02T18:08:02.795Z"
   },
   {
    "duration": 1761,
    "start_time": "2022-07-02T18:08:04.590Z"
   }
  ],
  "kernelspec": {
   "display_name": "Python 3 (ipykernel)",
   "language": "python",
   "name": "python3"
  },
  "language_info": {
   "codemirror_mode": {
    "name": "ipython",
    "version": 3
   },
   "file_extension": ".py",
   "mimetype": "text/x-python",
   "name": "python",
   "nbconvert_exporter": "python",
   "pygments_lexer": "ipython3",
   "version": "3.9.5"
  },
  "toc": {
   "base_numbering": 1,
   "nav_menu": {},
   "number_sections": true,
   "sideBar": true,
   "skip_h1_title": true,
   "title_cell": "Table of Contents",
   "title_sidebar": "Contents",
   "toc_cell": false,
   "toc_position": {},
   "toc_section_display": true,
   "toc_window_display": true
  }
 },
 "nbformat": 4,
 "nbformat_minor": 2
}
