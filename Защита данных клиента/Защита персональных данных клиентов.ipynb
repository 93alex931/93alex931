{
 "cells": [
  {
   "cell_type": "markdown",
   "metadata": {
    "toc": true
   },
   "source": [
    "<h1>Содержание<span class=\"tocSkip\"></span></h1>\n",
    "<div class=\"toc\"><ul class=\"toc-item\"><li><span><a href=\"#Загрузка-данных\" data-toc-modified-id=\"Загрузка-данных-1\"><span class=\"toc-item-num\">1&nbsp;&nbsp;</span>Загрузка данных</a></span></li><li><span><a href=\"#Умножение-матриц\" data-toc-modified-id=\"Умножение-матриц-2\"><span class=\"toc-item-num\">2&nbsp;&nbsp;</span>Умножение матриц</a></span></li><li><span><a href=\"#Алгоритм-преобразования\" data-toc-modified-id=\"Алгоритм-преобразования-3\"><span class=\"toc-item-num\">3&nbsp;&nbsp;</span>Алгоритм преобразования</a></span></li><li><span><a href=\"#Проверка-алгоритма\" data-toc-modified-id=\"Проверка-алгоритма-4\"><span class=\"toc-item-num\">4&nbsp;&nbsp;</span>Проверка алгоритма</a></span></li></ul></div>"
   ]
  },
  {
   "cell_type": "markdown",
   "metadata": {},
   "source": [
    "# Защита персональных данных клиентов"
   ]
  },
  {
   "cell_type": "markdown",
   "metadata": {},
   "source": [
    "Вам нужно защитить данные клиентов страховой компании «Хоть потоп». Разработайте такой метод преобразования данных, чтобы по ним было сложно восстановить персональную информацию. Обоснуйте корректность его работы.\n",
    "\n",
    "Нужно защитить данные, чтобы при преобразовании качество моделей машинного обучения не ухудшилось. Подбирать наилучшую модель не требуется."
   ]
  },
  {
   "cell_type": "markdown",
   "metadata": {},
   "source": [
    "## Загрузка данных"
   ]
  },
  {
   "cell_type": "code",
   "execution_count": 1,
   "metadata": {},
   "outputs": [],
   "source": [
    "import pandas as pd\n",
    "import seaborn as sns\n",
    "import numpy as np\n",
    "import matplotlib.pyplot as plt\n",
    "\n",
    "from sklearn.preprocessing import StandardScaler\n",
    "from sklearn.metrics import r2_score\n",
    "from sklearn.pipeline import Pipeline"
   ]
  },
  {
   "cell_type": "code",
   "execution_count": 2,
   "metadata": {},
   "outputs": [],
   "source": [
    "df = pd.read_csv('/datasets/insurance.csv')"
   ]
  },
  {
   "cell_type": "code",
   "execution_count": 3,
   "metadata": {},
   "outputs": [
    {
     "name": "stdout",
     "output_type": "stream",
     "text": [
      "<class 'pandas.core.frame.DataFrame'>\n",
      "RangeIndex: 5000 entries, 0 to 4999\n",
      "Data columns (total 5 columns):\n",
      " #   Column             Non-Null Count  Dtype  \n",
      "---  ------             --------------  -----  \n",
      " 0   Пол                5000 non-null   int64  \n",
      " 1   Возраст            5000 non-null   float64\n",
      " 2   Зарплата           5000 non-null   float64\n",
      " 3   Члены семьи        5000 non-null   int64  \n",
      " 4   Страховые выплаты  5000 non-null   int64  \n",
      "dtypes: float64(2), int64(3)\n",
      "memory usage: 195.4 KB\n"
     ]
    }
   ],
   "source": [
    "df.info()"
   ]
  },
  {
   "cell_type": "code",
   "execution_count": 4,
   "metadata": {},
   "outputs": [
    {
     "data": {
      "text/html": [
       "<div>\n",
       "<style scoped>\n",
       "    .dataframe tbody tr th:only-of-type {\n",
       "        vertical-align: middle;\n",
       "    }\n",
       "\n",
       "    .dataframe tbody tr th {\n",
       "        vertical-align: top;\n",
       "    }\n",
       "\n",
       "    .dataframe thead th {\n",
       "        text-align: right;\n",
       "    }\n",
       "</style>\n",
       "<table border=\"1\" class=\"dataframe\">\n",
       "  <thead>\n",
       "    <tr style=\"text-align: right;\">\n",
       "      <th></th>\n",
       "      <th>Пол</th>\n",
       "      <th>Возраст</th>\n",
       "      <th>Зарплата</th>\n",
       "      <th>Члены семьи</th>\n",
       "      <th>Страховые выплаты</th>\n",
       "    </tr>\n",
       "  </thead>\n",
       "  <tbody>\n",
       "    <tr>\n",
       "      <th>0</th>\n",
       "      <td>1</td>\n",
       "      <td>41.0</td>\n",
       "      <td>49600.0</td>\n",
       "      <td>1</td>\n",
       "      <td>0</td>\n",
       "    </tr>\n",
       "    <tr>\n",
       "      <th>1</th>\n",
       "      <td>0</td>\n",
       "      <td>46.0</td>\n",
       "      <td>38000.0</td>\n",
       "      <td>1</td>\n",
       "      <td>1</td>\n",
       "    </tr>\n",
       "    <tr>\n",
       "      <th>2</th>\n",
       "      <td>0</td>\n",
       "      <td>29.0</td>\n",
       "      <td>21000.0</td>\n",
       "      <td>0</td>\n",
       "      <td>0</td>\n",
       "    </tr>\n",
       "    <tr>\n",
       "      <th>3</th>\n",
       "      <td>0</td>\n",
       "      <td>21.0</td>\n",
       "      <td>41700.0</td>\n",
       "      <td>2</td>\n",
       "      <td>0</td>\n",
       "    </tr>\n",
       "    <tr>\n",
       "      <th>4</th>\n",
       "      <td>1</td>\n",
       "      <td>28.0</td>\n",
       "      <td>26100.0</td>\n",
       "      <td>0</td>\n",
       "      <td>0</td>\n",
       "    </tr>\n",
       "    <tr>\n",
       "      <th>5</th>\n",
       "      <td>1</td>\n",
       "      <td>43.0</td>\n",
       "      <td>41000.0</td>\n",
       "      <td>2</td>\n",
       "      <td>1</td>\n",
       "    </tr>\n",
       "    <tr>\n",
       "      <th>6</th>\n",
       "      <td>1</td>\n",
       "      <td>39.0</td>\n",
       "      <td>39700.0</td>\n",
       "      <td>2</td>\n",
       "      <td>0</td>\n",
       "    </tr>\n",
       "    <tr>\n",
       "      <th>7</th>\n",
       "      <td>1</td>\n",
       "      <td>25.0</td>\n",
       "      <td>38600.0</td>\n",
       "      <td>4</td>\n",
       "      <td>0</td>\n",
       "    </tr>\n",
       "    <tr>\n",
       "      <th>8</th>\n",
       "      <td>1</td>\n",
       "      <td>36.0</td>\n",
       "      <td>49700.0</td>\n",
       "      <td>1</td>\n",
       "      <td>0</td>\n",
       "    </tr>\n",
       "    <tr>\n",
       "      <th>9</th>\n",
       "      <td>1</td>\n",
       "      <td>32.0</td>\n",
       "      <td>51700.0</td>\n",
       "      <td>1</td>\n",
       "      <td>0</td>\n",
       "    </tr>\n",
       "  </tbody>\n",
       "</table>\n",
       "</div>"
      ],
      "text/plain": [
       "   Пол  Возраст  Зарплата  Члены семьи  Страховые выплаты\n",
       "0    1     41.0   49600.0            1                  0\n",
       "1    0     46.0   38000.0            1                  1\n",
       "2    0     29.0   21000.0            0                  0\n",
       "3    0     21.0   41700.0            2                  0\n",
       "4    1     28.0   26100.0            0                  0\n",
       "5    1     43.0   41000.0            2                  1\n",
       "6    1     39.0   39700.0            2                  0\n",
       "7    1     25.0   38600.0            4                  0\n",
       "8    1     36.0   49700.0            1                  0\n",
       "9    1     32.0   51700.0            1                  0"
      ]
     },
     "execution_count": 4,
     "metadata": {},
     "output_type": "execute_result"
    }
   ],
   "source": [
    "df.head(10)"
   ]
  },
  {
   "cell_type": "code",
   "execution_count": 5,
   "metadata": {
    "scrolled": true
   },
   "outputs": [
    {
     "data": {
      "text/html": [
       "<div>\n",
       "<style scoped>\n",
       "    .dataframe tbody tr th:only-of-type {\n",
       "        vertical-align: middle;\n",
       "    }\n",
       "\n",
       "    .dataframe tbody tr th {\n",
       "        vertical-align: top;\n",
       "    }\n",
       "\n",
       "    .dataframe thead th {\n",
       "        text-align: right;\n",
       "    }\n",
       "</style>\n",
       "<table border=\"1\" class=\"dataframe\">\n",
       "  <thead>\n",
       "    <tr style=\"text-align: right;\">\n",
       "      <th></th>\n",
       "      <th>Пол</th>\n",
       "      <th>Возраст</th>\n",
       "      <th>Зарплата</th>\n",
       "      <th>Члены семьи</th>\n",
       "      <th>Страховые выплаты</th>\n",
       "    </tr>\n",
       "  </thead>\n",
       "  <tbody>\n",
       "    <tr>\n",
       "      <th>count</th>\n",
       "      <td>5000.000000</td>\n",
       "      <td>5000.000000</td>\n",
       "      <td>5000.000000</td>\n",
       "      <td>5000.000000</td>\n",
       "      <td>5000.000000</td>\n",
       "    </tr>\n",
       "    <tr>\n",
       "      <th>mean</th>\n",
       "      <td>0.499000</td>\n",
       "      <td>30.952800</td>\n",
       "      <td>39916.360000</td>\n",
       "      <td>1.194200</td>\n",
       "      <td>0.148000</td>\n",
       "    </tr>\n",
       "    <tr>\n",
       "      <th>std</th>\n",
       "      <td>0.500049</td>\n",
       "      <td>8.440807</td>\n",
       "      <td>9900.083569</td>\n",
       "      <td>1.091387</td>\n",
       "      <td>0.463183</td>\n",
       "    </tr>\n",
       "    <tr>\n",
       "      <th>min</th>\n",
       "      <td>0.000000</td>\n",
       "      <td>18.000000</td>\n",
       "      <td>5300.000000</td>\n",
       "      <td>0.000000</td>\n",
       "      <td>0.000000</td>\n",
       "    </tr>\n",
       "    <tr>\n",
       "      <th>25%</th>\n",
       "      <td>0.000000</td>\n",
       "      <td>24.000000</td>\n",
       "      <td>33300.000000</td>\n",
       "      <td>0.000000</td>\n",
       "      <td>0.000000</td>\n",
       "    </tr>\n",
       "    <tr>\n",
       "      <th>50%</th>\n",
       "      <td>0.000000</td>\n",
       "      <td>30.000000</td>\n",
       "      <td>40200.000000</td>\n",
       "      <td>1.000000</td>\n",
       "      <td>0.000000</td>\n",
       "    </tr>\n",
       "    <tr>\n",
       "      <th>75%</th>\n",
       "      <td>1.000000</td>\n",
       "      <td>37.000000</td>\n",
       "      <td>46600.000000</td>\n",
       "      <td>2.000000</td>\n",
       "      <td>0.000000</td>\n",
       "    </tr>\n",
       "    <tr>\n",
       "      <th>max</th>\n",
       "      <td>1.000000</td>\n",
       "      <td>65.000000</td>\n",
       "      <td>79000.000000</td>\n",
       "      <td>6.000000</td>\n",
       "      <td>5.000000</td>\n",
       "    </tr>\n",
       "  </tbody>\n",
       "</table>\n",
       "</div>"
      ],
      "text/plain": [
       "               Пол      Возраст      Зарплата  Члены семьи  Страховые выплаты\n",
       "count  5000.000000  5000.000000   5000.000000  5000.000000        5000.000000\n",
       "mean      0.499000    30.952800  39916.360000     1.194200           0.148000\n",
       "std       0.500049     8.440807   9900.083569     1.091387           0.463183\n",
       "min       0.000000    18.000000   5300.000000     0.000000           0.000000\n",
       "25%       0.000000    24.000000  33300.000000     0.000000           0.000000\n",
       "50%       0.000000    30.000000  40200.000000     1.000000           0.000000\n",
       "75%       1.000000    37.000000  46600.000000     2.000000           0.000000\n",
       "max       1.000000    65.000000  79000.000000     6.000000           5.000000"
      ]
     },
     "execution_count": 5,
     "metadata": {},
     "output_type": "execute_result"
    }
   ],
   "source": [
    "df.describe()"
   ]
  },
  {
   "cell_type": "code",
   "execution_count": 6,
   "metadata": {},
   "outputs": [
    {
     "data": {
      "text/plain": [
       "153"
      ]
     },
     "execution_count": 6,
     "metadata": {},
     "output_type": "execute_result"
    }
   ],
   "source": [
    "df.duplicated().sum()"
   ]
  },
  {
   "cell_type": "code",
   "execution_count": 7,
   "metadata": {},
   "outputs": [],
   "source": [
    "df.drop_duplicates(inplace=True)"
   ]
  },
  {
   "cell_type": "code",
   "execution_count": 8,
   "metadata": {},
   "outputs": [
    {
     "data": {
      "text/plain": [
       "0"
      ]
     },
     "execution_count": 8,
     "metadata": {},
     "output_type": "execute_result"
    }
   ],
   "source": [
    "df.duplicated().sum()"
   ]
  },
  {
   "cell_type": "code",
   "execution_count": 9,
   "metadata": {
    "scrolled": false
   },
   "outputs": [
    {
     "data": {
      "image/png": "[encoded data removed]",
      "text/plain": [
       "<Figure size 960x800 with 2 Axes>"
      ]
     },
     "metadata": {
      "needs_background": "light"
     },
     "output_type": "display_data"
    }
   ],
   "source": [
    "plt.figure(figsize=(12,10), dpi= 80)\n",
    "sns.heatmap(df.corr(), xticklabels=df.corr().columns, yticklabels=df.corr().columns, cmap='YlOrRd', center=0, annot=True)\n",
    "\n",
    "# Decorations\n",
    "plt.title('Corr', fontsize=22)\n",
    "plt.xticks(fontsize=12)\n",
    "plt.yticks(fontsize=12)\n",
    "plt.show()\n"
   ]
  },
  {
   "cell_type": "markdown",
   "metadata": {},
   "source": [
    "**Вывод:**\n",
    "\n",
    "* каких то выбивающихся значений по describe мы не видим.\n",
    "* данных достаточно для выполнения задания.\n",
    "* Нашли дубликаты - удалили их.\n",
    "* Так же обнаружили корреляцию между признаками и возрастом. "
   ]
  },
  {
   "cell_type": "markdown",
   "metadata": {},
   "source": [
    "## Умножение матриц"
   ]
  },
  {
   "cell_type": "markdown",
   "metadata": {},
   "source": [
    "Обозначения:\n",
    "\n",
    "- $X$ — матрица признаков (нулевой столбец состоит из единиц)\n",
    "\n",
    "- $y$ — вектор целевого признака\n",
    "\n",
    "- $P$ — матрица, на которую умножаются признаки\n",
    "\n",
    "- $w$ — вектор весов линейной регрессии (нулевой элемент равен сдвигу)"
   ]
  },
  {
   "cell_type": "markdown",
   "metadata": {},
   "source": [
    "Предсказания:\n",
    "\n",
    "$$\n",
    "a = Xw\n",
    "$$\n",
    "\n",
    "Задача обучения:\n",
    "\n",
    "$$\n",
    "w = \\arg\\min_w MSE(Xw, y)\n",
    "$$\n",
    "\n",
    "Формула обучения:\n",
    "\n",
    "$$\n",
    "w = (X^T X)^{-1} X^T y\n",
    "$$"
   ]
  },
  {
   "cell_type": "markdown",
   "metadata": {},
   "source": [
    "**Ответ:** `не изменяет`\n",
    "\n",
    "**Обоснование:** \n",
    "\n",
    "1. Для обоснования данного вопроса нам следует параметр 𝑃  — матрица, на которую умножаются признаки умножить на параметр 𝑋  — матрица признаков и на вектор весов линейной регрессии. Тогда наша формула предсказание будет выглядеть так:\n",
    "$$\n",
    "a = XPw\n",
    "$$\n",
    "------------------------------------\n",
    "2. Далее подставим наше предсказания под формулу обучения:\n",
    "$$\n",
    "a = XP((XP^T) XP)^{-1} XP^T y\n",
    "$$\n",
    "-----------------------------\n",
    "3. Далее мы будем использовать формулы транспортировки матрицы они выглядят так:\n",
    "$$\n",
    "1. (AB)^{-1} = B^{-1}A^{-1}\n",
    "$$\n",
    "$$\n",
    "2. (AB)^T = B^T A^T\n",
    "$$\n",
    "$$\n",
    "3. AA^{-1} = A^{-1}A = E\n",
    "$$\n",
    "$$\n",
    "4. AE = EA = A\n",
    "$$\n",
    "-------------------\n",
    "4. Далее при помощи формул выше мы можем раскрыть наши скобки и получится следующее уравнение:\n",
    "$$\n",
    "a = XP(X^T P^T XP)^{-1}P^T X^T y\n",
    "$$\n",
    "-----------------\n",
    "5. Далее у на есть Свойства операции умножения матриц, где есть `C(A*B)=A(B*C)` – ассоциативность умножения. При помощи её мы сможем сгруппировать наши матрицы внутри произведения. Сперва выделим 2 множителя произведения и раскроем скобки:\n",
    "$\n",
    "P^T X^T X и P\n",
    "$\n",
    "\n",
    "`получаем данный вид:`\n",
    "$$\n",
    "a = XPP^{-1}(P^T X^T X)^{-1}P^TX^Ty\n",
    "$$\n",
    "___________________________________\n",
    "6. Выделим внутри оставшихся скобок множители и так же раскроем скобки:\n",
    "$\n",
    "P^T и X^T X \n",
    "$\n",
    "\n",
    "`И будет такой вид:`\n",
    "$$\n",
    "a = XPP^{-1}(X^T X)^{-1}(P^T)^{-1}P^T X^Ty\n",
    "$$\n",
    "____________________________________\n",
    "7. Далее сократим нашу матрицу на:\n",
    "$\n",
    "PP^{-1} и (P^T)^{-1} P^T\n",
    "$\n",
    "    так как дают единичные матрицы, которые можно исключить из уровнения.\n",
    "`И получим такой вид:`\n",
    "$$\n",
    "a = X(X^T X)^{-1} X^Ty\n",
    "$$\n",
    "___________________________________\n",
    "8. Мы пришли к нашей формуле предсказания. Тем самым обосновали наш вопрос о том что признаки умножающие на обратимую матрицу не изменяют качество линейной регрессии."
   ]
  },
  {
   "cell_type": "markdown",
   "metadata": {},
   "source": [
    "## Алгоритм преобразования"
   ]
  },
  {
   "cell_type": "markdown",
   "metadata": {},
   "source": [
    "**Алгоритм**\n",
    "\n",
    "В качестве алгоритма преобразования  используем  домножение признаков `X` на случайную обратимую матрицу `P`. Далее создадим модель и проверим метрику `R2` до преобразования. Далее умножим исходные признаки на обратимую матрицу и проверим какая получилась метрика `R2` на основе полученных значений."
   ]
  },
  {
   "cell_type": "markdown",
   "metadata": {},
   "source": [
    "**Обоснование**\n",
    "\n",
    "Данный манёвр должен нам показать,что метрика R2 До и после преобразования должна быть равна. Тогда алгоритм будет рабочий."
   ]
  },
  {
   "cell_type": "markdown",
   "metadata": {},
   "source": [
    "## Проверка алгоритма"
   ]
  },
  {
   "cell_type": "code",
   "execution_count": 10,
   "metadata": {},
   "outputs": [],
   "source": [
    "features = df.drop(['Страховые выплаты'],axis=1)\n",
    "target = df['Страховые выплаты']"
   ]
  },
  {
   "cell_type": "code",
   "execution_count": 11,
   "metadata": {},
   "outputs": [
    {
     "name": "stdout",
     "output_type": "stream",
     "text": [
      "R2 линейной регрессии ровна:  0.4302010044852068\n"
     ]
    }
   ],
   "source": [
    "class LinearRegression:\n",
    "    def fit(self, train_features, train_target):\n",
    "        X = np.concatenate((np.ones((train_features.shape[0], 1)), train_features), axis=1)\n",
    "        y = train_target\n",
    "        w = np.linalg.inv(X.T.dot(X)).dot(X.T).dot(y)\n",
    "        self.w = w[1:]\n",
    "        self.w0 = w[0]\n",
    "\n",
    "    def predict(self, test_features):\n",
    "        return test_features.dot(self.w) + self.w0\n",
    "    \n",
    "model = LinearRegression()\n",
    "model.fit(features, target)\n",
    "R2_df = r2_score(target, model.predict(features))\n",
    "print(\"R2 линейной регрессии ровна: \", R2_df)"
   ]
  },
  {
   "cell_type": "code",
   "execution_count": 12,
   "metadata": {},
   "outputs": [
    {
     "name": "stdout",
     "output_type": "stream",
     "text": [
      "R2 при масштабировании признаков равна: 0.4302010044852068\n"
     ]
    }
   ],
   "source": [
    "LR = LinearRegression()\n",
    "scaler = StandardScaler()\n",
    "pipeline = Pipeline([(\"standard_scaler\", scaler),(\"linear_regression\", LR)])\n",
    "pipeline.fit(features, target)\n",
    "R2_scaler = r2_score(target, pipeline.predict(features))\n",
    "print(\"R2 при масштабировании признаков равна:\", R2_scaler)"
   ]
  },
  {
   "cell_type": "code",
   "execution_count": 13,
   "metadata": {},
   "outputs": [
    {
     "name": "stdout",
     "output_type": "stream",
     "text": [
      "[[-1.12053403  0.18137544  0.89987258  1.04755673]\n",
      " [-0.60345171  0.97969477  0.11676568 -2.22665201]\n",
      " [ 0.30546379  0.7365744   0.23107489  1.64215334]\n",
      " [ 1.15578385  0.63286424  0.7791453  -1.14470625]]\n"
     ]
    }
   ],
   "source": [
    "distrib = 0 \n",
    "Rand = 0\n",
    "while distrib == 0:\n",
    "    Rand = np.random.normal(size=(4, 4))\n",
    "    distrib = np.linalg.det(Rand)\n",
    "new_df_features = features @ Rand\n",
    "print(Rand)"
   ]
  },
  {
   "cell_type": "code",
   "execution_count": 14,
   "metadata": {},
   "outputs": [
    {
     "data": {
      "text/html": [
       "<div>\n",
       "<style scoped>\n",
       "    .dataframe tbody tr th:only-of-type {\n",
       "        vertical-align: middle;\n",
       "    }\n",
       "\n",
       "    .dataframe tbody tr th {\n",
       "        vertical-align: top;\n",
       "    }\n",
       "\n",
       "    .dataframe thead th {\n",
       "        text-align: right;\n",
       "    }\n",
       "</style>\n",
       "<table border=\"1\" class=\"dataframe\">\n",
       "  <thead>\n",
       "    <tr style=\"text-align: right;\">\n",
       "      <th></th>\n",
       "      <th>0</th>\n",
       "      <th>1</th>\n",
       "      <th>2</th>\n",
       "      <th>3</th>\n",
       "    </tr>\n",
       "  </thead>\n",
       "  <tbody>\n",
       "    <tr>\n",
       "      <th>0</th>\n",
       "      <td>15126.297877</td>\n",
       "      <td>36575.071721</td>\n",
       "      <td>11467.780752</td>\n",
       "      <td>81359.415848</td>\n",
       "    </tr>\n",
       "    <tr>\n",
       "      <th>1</th>\n",
       "      <td>11581.021150</td>\n",
       "      <td>28035.525836</td>\n",
       "      <td>8786.996031</td>\n",
       "      <td>62298.256272</td>\n",
       "    </tr>\n",
       "    <tr>\n",
       "      <th>2</th>\n",
       "      <td>6397.239560</td>\n",
       "      <td>15496.473445</td>\n",
       "      <td>4855.958809</td>\n",
       "      <td>34420.647260</td>\n",
       "    </tr>\n",
       "    <tr>\n",
       "      <th>3</th>\n",
       "      <td>12727.479262</td>\n",
       "      <td>30736.991593</td>\n",
       "      <td>9639.833112</td>\n",
       "      <td>68428.745229</td>\n",
       "    </tr>\n",
       "    <tr>\n",
       "      <th>4</th>\n",
       "      <td>7954.587823</td>\n",
       "      <td>19252.204540</td>\n",
       "      <td>6035.223834</td>\n",
       "      <td>42798.903509</td>\n",
       "    </tr>\n",
       "  </tbody>\n",
       "</table>\n",
       "</div>"
      ],
      "text/plain": [
       "              0             1             2             3\n",
       "0  15126.297877  36575.071721  11467.780752  81359.415848\n",
       "1  11581.021150  28035.525836   8786.996031  62298.256272\n",
       "2   6397.239560  15496.473445   4855.958809  34420.647260\n",
       "3  12727.479262  30736.991593   9639.833112  68428.745229\n",
       "4   7954.587823  19252.204540   6035.223834  42798.903509"
      ]
     },
     "metadata": {},
     "output_type": "display_data"
    },
    {
     "name": "stdout",
     "output_type": "stream",
     "text": [
      "<class 'pandas.core.frame.DataFrame'>\n",
      "Int64Index: 4847 entries, 0 to 4999\n",
      "Data columns (total 4 columns):\n",
      " #   Column  Non-Null Count  Dtype  \n",
      "---  ------  --------------  -----  \n",
      " 0   0       4847 non-null   float64\n",
      " 1   1       4847 non-null   float64\n",
      " 2   2       4847 non-null   float64\n",
      " 3   3       4847 non-null   float64\n",
      "dtypes: float64(4)\n",
      "memory usage: 189.3 KB\n"
     ]
    },
    {
     "data": {
      "text/plain": [
       "None"
      ]
     },
     "metadata": {},
     "output_type": "display_data"
    }
   ],
   "source": [
    "display(new_df_features.head(5))\n",
    "display(new_df_features.info())"
   ]
  },
  {
   "cell_type": "code",
   "execution_count": 15,
   "metadata": {},
   "outputs": [
    {
     "data": {
      "text/plain": [
       "(4847,)"
      ]
     },
     "execution_count": 15,
     "metadata": {},
     "output_type": "execute_result"
    }
   ],
   "source": [
    "target.shape"
   ]
  },
  {
   "cell_type": "code",
   "execution_count": 16,
   "metadata": {},
   "outputs": [
    {
     "data": {
      "text/plain": [
       "(4847, 4)"
      ]
     },
     "execution_count": 16,
     "metadata": {},
     "output_type": "execute_result"
    }
   ],
   "source": [
    "new_df_features.shape"
   ]
  },
  {
   "cell_type": "code",
   "execution_count": 17,
   "metadata": {},
   "outputs": [
    {
     "name": "stdout",
     "output_type": "stream",
     "text": [
      "R2 для признаков в умноженном состоянии равняется 0.4302010044852079\n"
     ]
    }
   ],
   "source": [
    "model_2 = LinearRegression()\n",
    "model_2.fit(new_df_features, target)\n",
    "predictions = model_2.predict(new_df_features)\n",
    "r2_df_code = r2_score(target, predictions)\n",
    "print('R2 для признаков в умноженном состоянии равняется',r2_df_code)"
   ]
  },
  {
   "cell_type": "code",
   "execution_count": 18,
   "metadata": {},
   "outputs": [
    {
     "name": "stdout",
     "output_type": "stream",
     "text": [
      "Линейная регрессия на преобразованных признаках в умноженном состоянии ------> 0.4302010044852079\n",
      "Линейная регрессия c масштабированием ------> 0.4302010044852068\n",
      "Линейная регрессия ------> 0.4302010044852068\n"
     ]
    }
   ],
   "source": [
    "print(f'Линейная регрессия на преобразованных признаках в умноженном состоянии ------> {r2_df_code}')\n",
    "print(f'Линейная регрессия c масштабированием ------> {R2_scaler}')\n",
    "print(f'Линейная регрессия ------> {R2_df}')"
   ]
  },
  {
   "cell_type": "markdown",
   "metadata": {},
   "source": [
    "# Вывод"
   ]
  },
  {
   "cell_type": "markdown",
   "metadata": {},
   "source": [
    "\n",
    "*Знакомство с данными*\n",
    "\n",
    "* каких то выбивающихся значений по describe мы не нашли.\n",
    "* данных достаточно для выполнения задания.\n",
    "* Нашли дубликаты - удалили их.\n",
    "* Так же обнаружили корреляцию между признаками и возрастом.\n",
    "\n",
    "*1 обоснование*\n",
    "\n",
    "* Мы пришли к нашей формуле предсказания умножения матрицы. Тем самым обосновали наш вопрос о том что признаки умножающие на обратимую матрицу не изменяют качество линейной регрессии.\n",
    "\n",
    "*2 обоснование*\n",
    "\n",
    "* В качестве алгоритма преобразования  используем  домножение признаков `X` на случайную обратимую матрицу `P`. Далее создадили модель и проверили метрику `R2` до преобразования. Далее умножим исходные признаки на обратимую матрицу и проверили метрику `R2` на основе полученных значений пришли к выводу:\n",
    "\n",
    "\n",
    " *  Линейная регрессия на преобразованных признаках в умноженном состоянии ------> 0.4302010044610194\n",
    " *  Линейная регрессия c масштабированием ------> 0.4302010044852068\n",
    " *  Линейная регрессия ------> 0.4302010044852068\n",
    " \n",
    "***Метрика R2 до и после преобразования не менялась,а значит мы нашли алгоритм шифрования данных и выполнили поставленную задачу .***"
   ]
  }
 ],
 "metadata": {
  "ExecuteTimeLog": [
   {
    "duration": 428,
    "start_time": "2022-06-10T11:45:02.596Z"
   },
   {
    "duration": 74,
    "start_time": "2022-06-10T11:45:22.153Z"
   },
   {
    "duration": 14,
    "start_time": "2022-06-10T11:45:28.827Z"
   },
   {
    "duration": 9,
    "start_time": "2022-06-10T11:46:29.457Z"
   },
   {
    "duration": 16,
    "start_time": "2022-06-10T11:46:39.687Z"
   },
   {
    "duration": 12,
    "start_time": "2022-06-10T11:47:23.162Z"
   },
   {
    "duration": 21,
    "start_time": "2022-06-10T11:48:50.813Z"
   },
   {
    "duration": 68,
    "start_time": "2022-06-10T11:50:13.225Z"
   },
   {
    "duration": 866,
    "start_time": "2022-06-10T11:50:40.356Z"
   },
   {
    "duration": 28,
    "start_time": "2022-06-10T11:50:42.667Z"
   },
   {
    "duration": 11,
    "start_time": "2022-06-10T11:50:43.114Z"
   },
   {
    "duration": 10,
    "start_time": "2022-06-10T11:50:44.700Z"
   },
   {
    "duration": 30,
    "start_time": "2022-06-10T11:50:46.536Z"
   },
   {
    "duration": 1590,
    "start_time": "2022-06-10T11:50:48.438Z"
   },
   {
    "duration": 1576,
    "start_time": "2022-06-10T11:51:05.362Z"
   },
   {
    "duration": 1603,
    "start_time": "2022-06-10T11:51:23.352Z"
   },
   {
    "duration": 4,
    "start_time": "2022-06-10T11:51:40.647Z"
   },
   {
    "duration": 1976,
    "start_time": "2022-06-10T11:51:49.368Z"
   },
   {
    "duration": 1781,
    "start_time": "2022-06-10T11:52:16.624Z"
   },
   {
    "duration": 656,
    "start_time": "2022-06-10T11:54:40.165Z"
   },
   {
    "duration": 2102,
    "start_time": "2022-06-10T11:54:50.193Z"
   },
   {
    "duration": 1847,
    "start_time": "2022-06-10T11:55:28.747Z"
   },
   {
    "duration": 3460,
    "start_time": "2022-06-10T11:55:34.106Z"
   },
   {
    "duration": 1674,
    "start_time": "2022-06-10T11:56:47.321Z"
   },
   {
    "duration": 1790,
    "start_time": "2022-06-10T11:57:56.738Z"
   },
   {
    "duration": 1959,
    "start_time": "2022-06-10T12:01:55.978Z"
   },
   {
    "duration": 1738,
    "start_time": "2022-06-10T12:33:11.363Z"
   },
   {
    "duration": 1860,
    "start_time": "2022-06-10T12:35:07.545Z"
   },
   {
    "duration": 3,
    "start_time": "2022-06-10T12:35:23.310Z"
   },
   {
    "duration": 27,
    "start_time": "2022-06-10T12:35:23.710Z"
   },
   {
    "duration": 11,
    "start_time": "2022-06-10T12:35:24.210Z"
   },
   {
    "duration": 14,
    "start_time": "2022-06-10T12:35:24.900Z"
   },
   {
    "duration": 24,
    "start_time": "2022-06-10T12:35:27.302Z"
   },
   {
    "duration": 1684,
    "start_time": "2022-06-10T12:35:27.874Z"
   },
   {
    "duration": 975,
    "start_time": "2022-06-10T12:37:29.462Z"
   },
   {
    "duration": 1007,
    "start_time": "2022-06-10T12:37:45.160Z"
   },
   {
    "duration": 468,
    "start_time": "2022-06-10T12:46:35.529Z"
   },
   {
    "duration": 276,
    "start_time": "2022-06-10T12:47:12.929Z"
   },
   {
    "duration": 272,
    "start_time": "2022-06-10T12:47:36.487Z"
   },
   {
    "duration": 24,
    "start_time": "2022-06-10T12:49:05.585Z"
   },
   {
    "duration": 279,
    "start_time": "2022-06-10T12:49:17.560Z"
   },
   {
    "duration": 276,
    "start_time": "2022-06-10T12:49:38.387Z"
   },
   {
    "duration": 256,
    "start_time": "2022-06-10T12:49:54.188Z"
   },
   {
    "duration": 277,
    "start_time": "2022-06-10T12:50:32.301Z"
   },
   {
    "duration": 268,
    "start_time": "2022-06-10T12:50:38.544Z"
   },
   {
    "duration": 5,
    "start_time": "2022-06-10T12:51:27.186Z"
   },
   {
    "duration": 4,
    "start_time": "2022-06-10T12:51:33.702Z"
   },
   {
    "duration": 5,
    "start_time": "2022-06-10T12:53:42.403Z"
   },
   {
    "duration": 57,
    "start_time": "2022-06-10T16:49:29.006Z"
   },
   {
    "duration": 1250,
    "start_time": "2022-06-10T16:49:36.053Z"
   },
   {
    "duration": 70,
    "start_time": "2022-06-10T16:49:37.305Z"
   },
   {
    "duration": 11,
    "start_time": "2022-06-10T16:49:37.377Z"
   },
   {
    "duration": 13,
    "start_time": "2022-06-10T16:49:37.390Z"
   },
   {
    "duration": 21,
    "start_time": "2022-06-10T16:49:37.404Z"
   },
   {
    "duration": 291,
    "start_time": "2022-06-10T16:49:37.446Z"
   },
   {
    "duration": 78,
    "start_time": "2022-06-10T16:50:03.710Z"
   },
   {
    "duration": 23,
    "start_time": "2022-06-10T16:50:10.484Z"
   },
   {
    "duration": 296,
    "start_time": "2022-06-10T16:52:08.406Z"
   },
   {
    "duration": 6,
    "start_time": "2022-06-10T16:52:44.747Z"
   },
   {
    "duration": 13,
    "start_time": "2022-06-10T16:53:21.052Z"
   },
   {
    "duration": 6,
    "start_time": "2022-06-10T16:53:29.651Z"
   },
   {
    "duration": 8,
    "start_time": "2022-06-10T16:53:41.014Z"
   },
   {
    "duration": 103515,
    "start_time": "2022-06-10T17:01:03.023Z"
   },
   {
    "duration": 1271,
    "start_time": "2022-06-11T15:24:54.774Z"
   },
   {
    "duration": 86,
    "start_time": "2022-06-11T15:24:58.576Z"
   },
   {
    "duration": 12,
    "start_time": "2022-06-11T15:24:58.735Z"
   },
   {
    "duration": 12,
    "start_time": "2022-06-11T15:24:58.873Z"
   },
   {
    "duration": 22,
    "start_time": "2022-06-11T15:24:58.995Z"
   },
   {
    "duration": 4,
    "start_time": "2022-06-11T15:24:59.112Z"
   },
   {
    "duration": 4,
    "start_time": "2022-06-11T15:24:59.232Z"
   },
   {
    "duration": 6,
    "start_time": "2022-06-11T15:24:59.370Z"
   },
   {
    "duration": 294,
    "start_time": "2022-06-11T15:24:59.505Z"
   },
   {
    "duration": 4,
    "start_time": "2022-06-11T15:29:39.434Z"
   },
   {
    "duration": 13,
    "start_time": "2022-06-11T15:29:49.056Z"
   },
   {
    "duration": 5,
    "start_time": "2022-06-11T15:29:56.817Z"
   },
   {
    "duration": 3,
    "start_time": "2022-06-11T15:31:34.743Z"
   },
   {
    "duration": 40,
    "start_time": "2022-06-11T15:32:00.343Z"
   },
   {
    "duration": 10,
    "start_time": "2022-06-11T15:32:59.470Z"
   },
   {
    "duration": 79,
    "start_time": "2022-06-12T13:46:01.504Z"
   },
   {
    "duration": 1517,
    "start_time": "2022-06-12T13:46:20.490Z"
   },
   {
    "duration": 3,
    "start_time": "2022-06-12T13:46:27.062Z"
   },
   {
    "duration": 67,
    "start_time": "2022-06-12T13:46:31.537Z"
   },
   {
    "duration": 9,
    "start_time": "2022-06-12T13:46:32.485Z"
   },
   {
    "duration": 1238,
    "start_time": "2022-06-12T13:46:43.570Z"
   },
   {
    "duration": 106,
    "start_time": "2022-06-12T13:46:44.810Z"
   },
   {
    "duration": 20,
    "start_time": "2022-06-12T13:46:44.917Z"
   },
   {
    "duration": 20,
    "start_time": "2022-06-12T13:46:44.939Z"
   },
   {
    "duration": 20,
    "start_time": "2022-06-12T13:46:44.961Z"
   },
   {
    "duration": 6,
    "start_time": "2022-06-12T13:46:44.982Z"
   },
   {
    "duration": 4,
    "start_time": "2022-06-12T13:46:44.990Z"
   },
   {
    "duration": 6,
    "start_time": "2022-06-12T13:46:44.996Z"
   },
   {
    "duration": 351,
    "start_time": "2022-06-12T13:46:45.004Z"
   },
   {
    "duration": 4,
    "start_time": "2022-06-12T13:46:45.356Z"
   },
   {
    "duration": 13,
    "start_time": "2022-06-12T13:46:45.362Z"
   },
   {
    "duration": 58,
    "start_time": "2022-06-12T13:46:45.376Z"
   },
   {
    "duration": 9,
    "start_time": "2022-06-12T13:48:36.404Z"
   },
   {
    "duration": 257,
    "start_time": "2022-06-12T14:04:31.653Z"
   },
   {
    "duration": 10,
    "start_time": "2022-06-12T14:04:45.265Z"
   },
   {
    "duration": 9,
    "start_time": "2022-06-12T14:05:23.982Z"
   },
   {
    "duration": 5,
    "start_time": "2022-06-12T14:06:00.351Z"
   },
   {
    "duration": 4,
    "start_time": "2022-06-12T14:08:57.066Z"
   },
   {
    "duration": 10,
    "start_time": "2022-06-12T14:10:37.243Z"
   },
   {
    "duration": 16,
    "start_time": "2022-06-12T14:10:39.490Z"
   },
   {
    "duration": 15,
    "start_time": "2022-06-12T14:10:44.889Z"
   },
   {
    "duration": 5,
    "start_time": "2022-06-12T14:11:11.683Z"
   },
   {
    "duration": 4,
    "start_time": "2022-06-12T14:11:18.536Z"
   },
   {
    "duration": 4,
    "start_time": "2022-06-12T14:11:26.880Z"
   },
   {
    "duration": 14,
    "start_time": "2022-06-12T14:14:26.886Z"
   },
   {
    "duration": 18,
    "start_time": "2022-06-12T14:16:30.823Z"
   },
   {
    "duration": 30,
    "start_time": "2022-06-12T14:16:40.816Z"
   },
   {
    "duration": 11,
    "start_time": "2022-06-12T14:18:01.969Z"
   },
   {
    "duration": 43,
    "start_time": "2022-06-12T14:18:21.169Z"
   },
   {
    "duration": 10,
    "start_time": "2022-06-12T14:18:34.570Z"
   },
   {
    "duration": 1288,
    "start_time": "2022-06-12T14:20:40.210Z"
   },
   {
    "duration": 29,
    "start_time": "2022-06-12T14:20:41.500Z"
   },
   {
    "duration": 11,
    "start_time": "2022-06-12T14:20:41.530Z"
   },
   {
    "duration": 14,
    "start_time": "2022-06-12T14:20:41.543Z"
   },
   {
    "duration": 21,
    "start_time": "2022-06-12T14:20:41.559Z"
   },
   {
    "duration": 4,
    "start_time": "2022-06-12T14:20:41.582Z"
   },
   {
    "duration": 4,
    "start_time": "2022-06-12T14:20:41.588Z"
   },
   {
    "duration": 31,
    "start_time": "2022-06-12T14:20:41.594Z"
   },
   {
    "duration": 306,
    "start_time": "2022-06-12T14:20:41.626Z"
   },
   {
    "duration": 4,
    "start_time": "2022-06-12T14:20:41.934Z"
   },
   {
    "duration": 15,
    "start_time": "2022-06-12T14:20:41.940Z"
   },
   {
    "duration": 12,
    "start_time": "2022-06-12T14:20:41.957Z"
   },
   {
    "duration": 100,
    "start_time": "2022-06-12T14:20:42.024Z"
   },
   {
    "duration": 7,
    "start_time": "2022-06-12T14:20:42.129Z"
   },
   {
    "duration": 194,
    "start_time": "2022-06-12T14:20:42.138Z"
   },
   {
    "duration": 10,
    "start_time": "2022-06-12T14:30:41.354Z"
   },
   {
    "duration": 4,
    "start_time": "2022-06-12T14:31:15.171Z"
   },
   {
    "duration": 10,
    "start_time": "2022-06-12T14:31:24.303Z"
   },
   {
    "duration": 9,
    "start_time": "2022-06-12T14:31:32.381Z"
   },
   {
    "duration": 4,
    "start_time": "2022-06-12T14:31:35.170Z"
   },
   {
    "duration": 9,
    "start_time": "2022-06-12T14:31:48.390Z"
   },
   {
    "duration": 11,
    "start_time": "2022-06-12T14:32:58.886Z"
   },
   {
    "duration": 11,
    "start_time": "2022-06-12T14:34:11.512Z"
   },
   {
    "duration": 4,
    "start_time": "2022-06-12T14:34:20.944Z"
   },
   {
    "duration": 17,
    "start_time": "2022-06-12T14:34:43.752Z"
   },
   {
    "duration": 4,
    "start_time": "2022-06-12T14:36:01.972Z"
   },
   {
    "duration": 17,
    "start_time": "2022-06-12T14:36:02.179Z"
   },
   {
    "duration": 21,
    "start_time": "2022-06-12T14:36:27.199Z"
   },
   {
    "duration": 89,
    "start_time": "2022-06-12T14:36:43.039Z"
   },
   {
    "duration": 9,
    "start_time": "2022-06-12T14:37:04.754Z"
   },
   {
    "duration": 5,
    "start_time": "2022-06-12T14:37:07.939Z"
   },
   {
    "duration": 11,
    "start_time": "2022-06-12T14:37:22.707Z"
   },
   {
    "duration": 4,
    "start_time": "2022-06-12T14:37:26.539Z"
   },
   {
    "duration": 13,
    "start_time": "2022-06-12T14:37:48.654Z"
   },
   {
    "duration": 5,
    "start_time": "2022-06-12T14:38:08.547Z"
   },
   {
    "duration": 12,
    "start_time": "2022-06-12T14:39:26.479Z"
   },
   {
    "duration": 15,
    "start_time": "2022-06-12T14:40:05.808Z"
   },
   {
    "duration": 4,
    "start_time": "2022-06-12T14:40:10.695Z"
   },
   {
    "duration": 5,
    "start_time": "2022-06-12T14:40:14.602Z"
   },
   {
    "duration": 19,
    "start_time": "2022-06-12T14:40:14.917Z"
   },
   {
    "duration": 12,
    "start_time": "2022-06-12T14:40:48.191Z"
   },
   {
    "duration": 5,
    "start_time": "2022-06-12T14:40:58.973Z"
   },
   {
    "duration": 20,
    "start_time": "2022-06-12T14:40:59.957Z"
   },
   {
    "duration": 4,
    "start_time": "2022-06-12T14:41:20.251Z"
   },
   {
    "duration": 6,
    "start_time": "2022-06-12T14:41:23.105Z"
   },
   {
    "duration": 15,
    "start_time": "2022-06-12T14:41:23.533Z"
   },
   {
    "duration": 7,
    "start_time": "2022-06-12T14:42:41.405Z"
   },
   {
    "duration": 5,
    "start_time": "2022-06-12T14:44:05.843Z"
   },
   {
    "duration": 79,
    "start_time": "2022-06-12T14:44:39.050Z"
   },
   {
    "duration": 31,
    "start_time": "2022-06-12T14:44:49.904Z"
   },
   {
    "duration": 5,
    "start_time": "2022-06-12T14:45:02.669Z"
   },
   {
    "duration": 24,
    "start_time": "2022-06-12T14:45:03.202Z"
   },
   {
    "duration": 1298,
    "start_time": "2022-06-12T14:45:13.620Z"
   },
   {
    "duration": 28,
    "start_time": "2022-06-12T14:45:14.920Z"
   },
   {
    "duration": 12,
    "start_time": "2022-06-12T14:45:14.951Z"
   },
   {
    "duration": 20,
    "start_time": "2022-06-12T14:45:14.965Z"
   },
   {
    "duration": 22,
    "start_time": "2022-06-12T14:45:14.986Z"
   },
   {
    "duration": 5,
    "start_time": "2022-06-12T14:45:15.010Z"
   },
   {
    "duration": 26,
    "start_time": "2022-06-12T14:45:15.016Z"
   },
   {
    "duration": 14,
    "start_time": "2022-06-12T14:45:15.044Z"
   },
   {
    "duration": 309,
    "start_time": "2022-06-12T14:45:15.060Z"
   },
   {
    "duration": 4,
    "start_time": "2022-06-12T14:45:15.371Z"
   },
   {
    "duration": 235,
    "start_time": "2022-06-12T14:45:15.376Z"
   },
   {
    "duration": 0,
    "start_time": "2022-06-12T14:45:15.613Z"
   },
   {
    "duration": 0,
    "start_time": "2022-06-12T14:45:15.614Z"
   },
   {
    "duration": 0,
    "start_time": "2022-06-12T14:45:15.622Z"
   },
   {
    "duration": 0,
    "start_time": "2022-06-12T14:45:15.624Z"
   },
   {
    "duration": 0,
    "start_time": "2022-06-12T14:45:15.625Z"
   },
   {
    "duration": 0,
    "start_time": "2022-06-12T14:45:15.627Z"
   },
   {
    "duration": 12,
    "start_time": "2022-06-12T14:45:26.249Z"
   },
   {
    "duration": 12,
    "start_time": "2022-06-12T14:45:40.382Z"
   },
   {
    "duration": 5,
    "start_time": "2022-06-12T14:45:43.587Z"
   },
   {
    "duration": 17,
    "start_time": "2022-06-12T14:45:44.281Z"
   },
   {
    "duration": 4,
    "start_time": "2022-06-12T14:45:46.214Z"
   },
   {
    "duration": 3,
    "start_time": "2022-06-12T14:45:46.593Z"
   },
   {
    "duration": 10,
    "start_time": "2022-06-12T14:45:47.599Z"
   },
   {
    "duration": 14,
    "start_time": "2022-06-12T14:46:00.992Z"
   },
   {
    "duration": 47,
    "start_time": "2022-06-12T14:47:22.778Z"
   },
   {
    "duration": 18,
    "start_time": "2022-06-12T14:51:35.656Z"
   },
   {
    "duration": 18,
    "start_time": "2022-06-12T14:51:47.516Z"
   },
   {
    "duration": 26,
    "start_time": "2022-06-12T14:54:10.882Z"
   },
   {
    "duration": 18,
    "start_time": "2022-06-12T14:54:16.343Z"
   },
   {
    "duration": 63,
    "start_time": "2022-06-12T14:54:19.287Z"
   },
   {
    "duration": 23,
    "start_time": "2022-06-12T14:54:26.357Z"
   },
   {
    "duration": 18,
    "start_time": "2022-06-12T14:54:36.617Z"
   },
   {
    "duration": 18,
    "start_time": "2022-06-12T14:54:38.406Z"
   },
   {
    "duration": 3,
    "start_time": "2022-06-12T14:54:41.847Z"
   },
   {
    "duration": 26,
    "start_time": "2022-06-12T14:54:46.641Z"
   },
   {
    "duration": 20,
    "start_time": "2022-06-12T14:54:50.955Z"
   },
   {
    "duration": 20,
    "start_time": "2022-06-12T14:54:55.687Z"
   },
   {
    "duration": 4,
    "start_time": "2022-06-12T14:54:59.605Z"
   },
   {
    "duration": 3,
    "start_time": "2022-06-12T14:55:40.930Z"
   },
   {
    "duration": 3,
    "start_time": "2022-06-12T14:55:44.799Z"
   },
   {
    "duration": 9,
    "start_time": "2022-06-12T14:55:56.183Z"
   },
   {
    "duration": 22,
    "start_time": "2022-06-12T14:56:21.293Z"
   },
   {
    "duration": 22,
    "start_time": "2022-06-12T14:57:17.161Z"
   },
   {
    "duration": 14,
    "start_time": "2022-06-12T14:57:22.471Z"
   },
   {
    "duration": 12,
    "start_time": "2022-06-12T14:57:35.019Z"
   },
   {
    "duration": 10,
    "start_time": "2022-06-12T14:57:46.604Z"
   },
   {
    "duration": 11,
    "start_time": "2022-06-12T14:58:47.450Z"
   },
   {
    "duration": 14,
    "start_time": "2022-06-12T14:58:52.762Z"
   },
   {
    "duration": 11,
    "start_time": "2022-06-12T14:59:34.232Z"
   },
   {
    "duration": 10,
    "start_time": "2022-06-12T14:59:40.947Z"
   },
   {
    "duration": 4,
    "start_time": "2022-06-12T15:01:44.003Z"
   },
   {
    "duration": 4,
    "start_time": "2022-06-12T15:01:52.549Z"
   },
   {
    "duration": 13,
    "start_time": "2022-06-12T15:02:48.339Z"
   },
   {
    "duration": 5,
    "start_time": "2022-06-12T15:03:02.228Z"
   },
   {
    "duration": 9,
    "start_time": "2022-06-12T15:03:06.240Z"
   },
   {
    "duration": 14,
    "start_time": "2022-06-12T15:03:16.254Z"
   },
   {
    "duration": 13,
    "start_time": "2022-06-12T15:03:27.515Z"
   },
   {
    "duration": 12,
    "start_time": "2022-06-12T15:03:52.621Z"
   },
   {
    "duration": 7,
    "start_time": "2022-06-12T15:04:06.531Z"
   },
   {
    "duration": 28,
    "start_time": "2022-06-12T15:04:16.260Z"
   },
   {
    "duration": 26,
    "start_time": "2022-06-12T15:04:26.912Z"
   },
   {
    "duration": 22,
    "start_time": "2022-06-12T15:04:31.883Z"
   },
   {
    "duration": 6,
    "start_time": "2022-06-12T15:04:35.277Z"
   },
   {
    "duration": 6,
    "start_time": "2022-06-12T15:04:44.232Z"
   },
   {
    "duration": 79,
    "start_time": "2022-06-12T15:05:34.248Z"
   },
   {
    "duration": 7,
    "start_time": "2022-06-12T15:05:34.886Z"
   },
   {
    "duration": 6,
    "start_time": "2022-06-12T15:05:51.058Z"
   },
   {
    "duration": 11,
    "start_time": "2022-06-12T15:06:21.991Z"
   },
   {
    "duration": 13,
    "start_time": "2022-06-12T15:06:22.445Z"
   },
   {
    "duration": 4,
    "start_time": "2022-06-12T15:06:23.303Z"
   },
   {
    "duration": 15,
    "start_time": "2022-06-12T15:06:24.170Z"
   },
   {
    "duration": 5,
    "start_time": "2022-06-12T15:06:24.851Z"
   },
   {
    "duration": 3,
    "start_time": "2022-06-12T15:06:25.847Z"
   },
   {
    "duration": 8,
    "start_time": "2022-06-12T15:06:26.715Z"
   },
   {
    "duration": 4,
    "start_time": "2022-06-12T15:08:23.494Z"
   },
   {
    "duration": 4,
    "start_time": "2022-06-12T15:08:43.483Z"
   },
   {
    "duration": 4,
    "start_time": "2022-06-12T15:08:49.126Z"
   },
   {
    "duration": 5,
    "start_time": "2022-06-12T15:09:32.559Z"
   },
   {
    "duration": 4,
    "start_time": "2022-06-12T15:17:58.772Z"
   },
   {
    "duration": 1263,
    "start_time": "2022-06-12T15:18:04.740Z"
   },
   {
    "duration": 28,
    "start_time": "2022-06-12T15:18:06.005Z"
   },
   {
    "duration": 13,
    "start_time": "2022-06-12T15:18:06.035Z"
   },
   {
    "duration": 13,
    "start_time": "2022-06-12T15:18:06.049Z"
   },
   {
    "duration": 27,
    "start_time": "2022-06-12T15:18:06.064Z"
   },
   {
    "duration": 5,
    "start_time": "2022-06-12T15:18:06.093Z"
   },
   {
    "duration": 25,
    "start_time": "2022-06-12T15:18:06.100Z"
   },
   {
    "duration": 13,
    "start_time": "2022-06-12T15:18:06.127Z"
   },
   {
    "duration": 325,
    "start_time": "2022-06-12T15:18:06.142Z"
   },
   {
    "duration": 4,
    "start_time": "2022-06-12T15:18:06.470Z"
   },
   {
    "duration": 50,
    "start_time": "2022-06-12T15:18:06.476Z"
   },
   {
    "duration": 115,
    "start_time": "2022-06-12T15:18:06.527Z"
   },
   {
    "duration": 179,
    "start_time": "2022-06-12T15:18:06.644Z"
   },
   {
    "duration": 17,
    "start_time": "2022-06-12T15:18:06.826Z"
   },
   {
    "duration": 4,
    "start_time": "2022-06-12T15:18:06.845Z"
   },
   {
    "duration": 6,
    "start_time": "2022-06-12T15:18:06.850Z"
   },
   {
    "duration": 67,
    "start_time": "2022-06-12T15:18:06.858Z"
   },
   {
    "duration": 100,
    "start_time": "2022-06-12T15:18:06.928Z"
   },
   {
    "duration": 6,
    "start_time": "2022-06-12T17:48:17.227Z"
   },
   {
    "duration": 30,
    "start_time": "2022-06-12T17:48:17.235Z"
   },
   {
    "duration": 13,
    "start_time": "2022-06-12T17:48:17.267Z"
   },
   {
    "duration": 15,
    "start_time": "2022-06-12T17:48:17.282Z"
   },
   {
    "duration": 36,
    "start_time": "2022-06-12T17:48:17.299Z"
   },
   {
    "duration": 7,
    "start_time": "2022-06-12T17:48:17.338Z"
   },
   {
    "duration": 24,
    "start_time": "2022-06-12T17:48:17.347Z"
   },
   {
    "duration": 7,
    "start_time": "2022-06-12T17:48:17.373Z"
   },
   {
    "duration": 312,
    "start_time": "2022-06-12T17:48:17.382Z"
   },
   {
    "duration": 4,
    "start_time": "2022-06-12T17:48:17.697Z"
   },
   {
    "duration": 23,
    "start_time": "2022-06-12T17:48:17.703Z"
   },
   {
    "duration": 214,
    "start_time": "2022-06-12T17:48:17.728Z"
   },
   {
    "duration": 107,
    "start_time": "2022-06-12T17:48:17.945Z"
   },
   {
    "duration": 96,
    "start_time": "2022-06-12T17:48:18.054Z"
   },
   {
    "duration": 4,
    "start_time": "2022-06-12T17:48:18.152Z"
   },
   {
    "duration": 5,
    "start_time": "2022-06-12T17:48:18.158Z"
   },
   {
    "duration": 9,
    "start_time": "2022-06-12T17:48:18.165Z"
   },
   {
    "duration": 102,
    "start_time": "2022-06-12T17:48:18.224Z"
   },
   {
    "duration": 48,
    "start_time": "2022-06-13T08:28:56.865Z"
   },
   {
    "duration": 1478,
    "start_time": "2022-06-20T18:59:00.039Z"
   },
   {
    "duration": 83,
    "start_time": "2022-06-20T18:59:01.519Z"
   },
   {
    "duration": 12,
    "start_time": "2022-06-20T18:59:01.605Z"
   },
   {
    "duration": 15,
    "start_time": "2022-06-20T18:59:01.619Z"
   },
   {
    "duration": 31,
    "start_time": "2022-06-20T18:59:01.636Z"
   },
   {
    "duration": 6,
    "start_time": "2022-06-20T18:59:01.668Z"
   },
   {
    "duration": 6,
    "start_time": "2022-06-20T18:59:01.675Z"
   },
   {
    "duration": 13,
    "start_time": "2022-06-20T18:59:01.683Z"
   },
   {
    "duration": 308,
    "start_time": "2022-06-20T18:59:01.698Z"
   },
   {
    "duration": 4,
    "start_time": "2022-06-20T18:59:02.007Z"
   },
   {
    "duration": 51,
    "start_time": "2022-06-20T18:59:02.013Z"
   },
   {
    "duration": 113,
    "start_time": "2022-06-20T18:59:02.066Z"
   },
   {
    "duration": 87,
    "start_time": "2022-06-20T18:59:02.181Z"
   },
   {
    "duration": 17,
    "start_time": "2022-06-20T18:59:02.361Z"
   },
   {
    "duration": 7,
    "start_time": "2022-06-20T18:59:02.379Z"
   },
   {
    "duration": 6,
    "start_time": "2022-06-20T18:59:02.387Z"
   },
   {
    "duration": 14,
    "start_time": "2022-06-20T18:59:02.395Z"
   },
   {
    "duration": 5,
    "start_time": "2022-06-20T18:59:02.460Z"
   }
  ],
  "kernelspec": {
   "display_name": "Python 3 (ipykernel)",
   "language": "python",
   "name": "python3"
  },
  "language_info": {
   "codemirror_mode": {
    "name": "ipython",
    "version": 3
   },
   "file_extension": ".py",
   "mimetype": "text/x-python",
   "name": "python",
   "nbconvert_exporter": "python",
   "pygments_lexer": "ipython3",
   "version": "3.9.5"
  },
  "toc": {
   "base_numbering": 1,
   "nav_menu": {},
   "number_sections": true,
   "sideBar": true,
   "skip_h1_title": true,
   "title_cell": "Содержание",
   "title_sidebar": "Contents",
   "toc_cell": true,
   "toc_position": {
    "height": "calc(100% - 180px)",
    "left": "10px",
    "top": "150px",
    "width": "165px"
   },
   "toc_section_display": true,
   "toc_window_display": true
  }
 },
 "nbformat": 4,
 "nbformat_minor": 2
}
