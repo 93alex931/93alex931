{
 "cells": [
  {
   "cell_type": "markdown",
   "metadata": {},
   "source": [
    "## Описание проекта\n",
    "Вы аналитик компании «Мегалайн» — федерального оператора сотовой связи. Клиентам предлагают два тарифных плана: «Смарт» и «Ультра». Чтобы скорректировать рекламный бюджет, коммерческий департамент хочет понять, какой тариф приносит больше денег.\n",
    "Вам предстоит сделать предварительный анализ тарифов на небольшой выборке клиентов. В вашем распоряжении данные 500 пользователей «Мегалайна»: кто они, откуда, каким тарифом пользуются, сколько звонков и сообщений каждый отправил за 2018 год. Нужно проанализировать поведение клиентов и сделать вывод — какой тариф лучше.\n",
    "\n",
    "***Описание тарифов***\n",
    "\n",
    "**Тариф «Смарт»**\n",
    "1. Ежемесячная плата: 550 рублей\n",
    "2. Включено 500 минут разговора, 50 сообщений и 15 Гб интернет-трафика\n",
    "3. Стоимость услуг сверх тарифного пакета:\n",
    "* минута разговора: 3 рубля\n",
    "* сообщение: 3 рубля\n",
    "* 1 Гб интернет-трафика: 200 рублей\n",
    "\n",
    "**Тариф «Ультра»**\n",
    "1. Ежемесячная плата: 1950 рублей\n",
    "2. Включено 3000 минут разговора, 1000 сообщений и 30 Гб интернет-трафика\n",
    "3. Стоимость услуг сверх тарифного пакета:\n",
    "* минута разговора: 1 рубль\n",
    "* сообщение: 1 рубль\n",
    "* 1 Гб интернет-трафика: 150 рублей"
   ]
  },
  {
   "cell_type": "markdown",
   "metadata": {},
   "source": [
    "##  Описание данных\n",
    "Таблица `users` (информация о пользователях):\n",
    "* **user_id** — уникальный идентификатор пользователя\n",
    "* **first_name** — имя пользователя\n",
    "* **last_name** — фамилия пользователя\n",
    "* **age** — возраст пользователя (годы)\n",
    "* **reg_date** — дата подключения тарифа (день, месяц, год)\n",
    "* **churn_date** — дата прекращения пользования тарифом (если значение пропущено, то тариф ещё действовал на момент выгрузки данных)\n",
    "* **city** — город проживания пользователя\n",
    "* **tariff** — название тарифного плана\n",
    "\n",
    "Таблица `calls` (информация о звонках):\n",
    "* **id** — уникальный номер звонка\n",
    "* **call_date** — дата звонка\n",
    "* **duration** — длительность звонка в минутах\n",
    "* **user_id** — идентификатор пользователя, сделавшего звонок\n",
    "\n",
    "Таблица `messages` (информация о сообщениях):\n",
    "* **id** — уникальный номер сообщения\n",
    "* **message_date** — дата сообщения\n",
    "* **user_id** — идентификатор пользователя, отправившего сообщение\n",
    "\n",
    "Таблица `internet` (информация об интернет-сессиях):\n",
    "* **id** — уникальный номер сессии\n",
    "* **mb_used** — объём потраченного за сессию интернет-трафика (в мегабайтах)\n",
    "* **session_date** — дата интернет-сессии\n",
    "* **user_id** — идентификатор пользователя\n",
    "\n",
    "Таблица `tariffs` (информация о тарифах):\n",
    "* **tariff_name** — название тарифа\n",
    "* **rub_monthly_fee** — ежемесячная абонентская плата в рублях\n",
    "* **minutes_included** — количество минут разговора в месяц, включённых в абонентскую плату\n",
    "* **messages_included** — количество сообщений в месяц, включённых в абонентскую плату\n",
    "* **mb_per_month_included** — объём интернет-трафика, включённого в абонентскую плату (в мегабайтах)\n",
    "* **rub_per_minute** — стоимость минуты разговора сверх тарифного пакета (например, если в тарифе 100 минут разговора в месяц, то со 101 минуты будет взиматься плата)\n",
    "* **rub_per_message** — стоимость отправки сообщения сверх тарифного пакета\n",
    "* **rub_per_gb** — стоимость дополнительного гигабайта интернет-трафика сверх тарифного пакета (1 гигабайт = 1024 мегабайта)"
   ]
  },
  {
   "cell_type": "markdown",
   "metadata": {},
   "source": [
    "## Обзор данных"
   ]
  },
  {
   "cell_type": "markdown",
   "metadata": {},
   "source": [
    "Импортируем библиотеки которые нам скорее всего понадобятся."
   ]
  },
  {
   "cell_type": "code",
   "execution_count": 2,
   "metadata": {},
   "outputs": [],
   "source": [
    "import pandas as pd\n",
    "import numpy as np\n",
    "import math\n",
    "import matplotlib.pyplot as plt\n",
    "import statistics\n",
    "from scipy import stats as st\n",
    "import seaborn as sns"
   ]
  },
  {
   "cell_type": "code",
   "execution_count": 3,
   "metadata": {},
   "outputs": [],
   "source": [
    "calls = pd.read_csv('/datasets/calls.csv')\n",
    "internet = pd.read_csv('/datasets/internet.csv', index_col=0)\n",
    "messages = pd.read_csv('/datasets/messages.csv')\n",
    "tariff = pd.read_csv('/datasets/tariffs.csv')\n",
    "users = pd.read_csv('/datasets/users.csv')"
   ]
  },
  {
   "cell_type": "markdown",
   "metadata": {},
   "source": [
    "Далее изучим все файла методом инфо и дескрайб"
   ]
  },
  {
   "cell_type": "code",
   "execution_count": 4,
   "metadata": {},
   "outputs": [],
   "source": [
    "def func(x):\n",
    "    display(x.head(5))\n",
    "    display(x.info())\n",
    "    display(x.describe())\n",
    "    display(x.duplicated().sum())\n",
    "    display(x.isnull().sum())\n",
    "    return x"
   ]
  },
  {
   "cell_type": "code",
   "execution_count": 5,
   "metadata": {
    "scrolled": false
   },
   "outputs": [
    {
     "name": "stdout",
     "output_type": "stream",
     "text": [
      "Изучим данные о звонках\n",
      "___________________________\n"
     ]
    },
    {
     "data": {
      "text/html": [
       "<div>\n",
       "<style scoped>\n",
       "    .dataframe tbody tr th:only-of-type {\n",
       "        vertical-align: middle;\n",
       "    }\n",
       "\n",
       "    .dataframe tbody tr th {\n",
       "        vertical-align: top;\n",
       "    }\n",
       "\n",
       "    .dataframe thead th {\n",
       "        text-align: right;\n",
       "    }\n",
       "</style>\n",
       "<table border=\"1\" class=\"dataframe\">\n",
       "  <thead>\n",
       "    <tr style=\"text-align: right;\">\n",
       "      <th></th>\n",
       "      <th>id</th>\n",
       "      <th>call_date</th>\n",
       "      <th>duration</th>\n",
       "      <th>user_id</th>\n",
       "    </tr>\n",
       "  </thead>\n",
       "  <tbody>\n",
       "    <tr>\n",
       "      <th>0</th>\n",
       "      <td>1000_0</td>\n",
       "      <td>2018-07-25</td>\n",
       "      <td>0.00</td>\n",
       "      <td>1000</td>\n",
       "    </tr>\n",
       "    <tr>\n",
       "      <th>1</th>\n",
       "      <td>1000_1</td>\n",
       "      <td>2018-08-17</td>\n",
       "      <td>0.00</td>\n",
       "      <td>1000</td>\n",
       "    </tr>\n",
       "    <tr>\n",
       "      <th>2</th>\n",
       "      <td>1000_2</td>\n",
       "      <td>2018-06-11</td>\n",
       "      <td>2.85</td>\n",
       "      <td>1000</td>\n",
       "    </tr>\n",
       "    <tr>\n",
       "      <th>3</th>\n",
       "      <td>1000_3</td>\n",
       "      <td>2018-09-21</td>\n",
       "      <td>13.80</td>\n",
       "      <td>1000</td>\n",
       "    </tr>\n",
       "    <tr>\n",
       "      <th>4</th>\n",
       "      <td>1000_4</td>\n",
       "      <td>2018-12-15</td>\n",
       "      <td>5.18</td>\n",
       "      <td>1000</td>\n",
       "    </tr>\n",
       "  </tbody>\n",
       "</table>\n",
       "</div>"
      ],
      "text/plain": [
       "       id   call_date  duration  user_id\n",
       "0  1000_0  2018-07-25      0.00     1000\n",
       "1  1000_1  2018-08-17      0.00     1000\n",
       "2  1000_2  2018-06-11      2.85     1000\n",
       "3  1000_3  2018-09-21     13.80     1000\n",
       "4  1000_4  2018-12-15      5.18     1000"
      ]
     },
     "metadata": {},
     "output_type": "display_data"
    },
    {
     "name": "stdout",
     "output_type": "stream",
     "text": [
      "<class 'pandas.core.frame.DataFrame'>\n",
      "RangeIndex: 202607 entries, 0 to 202606\n",
      "Data columns (total 4 columns):\n",
      " #   Column     Non-Null Count   Dtype  \n",
      "---  ------     --------------   -----  \n",
      " 0   id         202607 non-null  object \n",
      " 1   call_date  202607 non-null  object \n",
      " 2   duration   202607 non-null  float64\n",
      " 3   user_id    202607 non-null  int64  \n",
      "dtypes: float64(1), int64(1), object(2)\n",
      "memory usage: 6.2+ MB\n"
     ]
    },
    {
     "data": {
      "text/plain": [
       "None"
      ]
     },
     "metadata": {},
     "output_type": "display_data"
    },
    {
     "data": {
      "text/html": [
       "<div>\n",
       "<style scoped>\n",
       "    .dataframe tbody tr th:only-of-type {\n",
       "        vertical-align: middle;\n",
       "    }\n",
       "\n",
       "    .dataframe tbody tr th {\n",
       "        vertical-align: top;\n",
       "    }\n",
       "\n",
       "    .dataframe thead th {\n",
       "        text-align: right;\n",
       "    }\n",
       "</style>\n",
       "<table border=\"1\" class=\"dataframe\">\n",
       "  <thead>\n",
       "    <tr style=\"text-align: right;\">\n",
       "      <th></th>\n",
       "      <th>duration</th>\n",
       "      <th>user_id</th>\n",
       "    </tr>\n",
       "  </thead>\n",
       "  <tbody>\n",
       "    <tr>\n",
       "      <th>count</th>\n",
       "      <td>202607.000000</td>\n",
       "      <td>202607.000000</td>\n",
       "    </tr>\n",
       "    <tr>\n",
       "      <th>mean</th>\n",
       "      <td>6.755887</td>\n",
       "      <td>1253.940619</td>\n",
       "    </tr>\n",
       "    <tr>\n",
       "      <th>std</th>\n",
       "      <td>5.843365</td>\n",
       "      <td>144.722751</td>\n",
       "    </tr>\n",
       "    <tr>\n",
       "      <th>min</th>\n",
       "      <td>0.000000</td>\n",
       "      <td>1000.000000</td>\n",
       "    </tr>\n",
       "    <tr>\n",
       "      <th>25%</th>\n",
       "      <td>1.300000</td>\n",
       "      <td>1126.000000</td>\n",
       "    </tr>\n",
       "    <tr>\n",
       "      <th>50%</th>\n",
       "      <td>6.000000</td>\n",
       "      <td>1260.000000</td>\n",
       "    </tr>\n",
       "    <tr>\n",
       "      <th>75%</th>\n",
       "      <td>10.700000</td>\n",
       "      <td>1379.000000</td>\n",
       "    </tr>\n",
       "    <tr>\n",
       "      <th>max</th>\n",
       "      <td>38.000000</td>\n",
       "      <td>1499.000000</td>\n",
       "    </tr>\n",
       "  </tbody>\n",
       "</table>\n",
       "</div>"
      ],
      "text/plain": [
       "            duration        user_id\n",
       "count  202607.000000  202607.000000\n",
       "mean        6.755887    1253.940619\n",
       "std         5.843365     144.722751\n",
       "min         0.000000    1000.000000\n",
       "25%         1.300000    1126.000000\n",
       "50%         6.000000    1260.000000\n",
       "75%        10.700000    1379.000000\n",
       "max        38.000000    1499.000000"
      ]
     },
     "metadata": {},
     "output_type": "display_data"
    },
    {
     "data": {
      "text/plain": [
       "0"
      ]
     },
     "metadata": {},
     "output_type": "display_data"
    },
    {
     "data": {
      "text/plain": [
       "id           0\n",
       "call_date    0\n",
       "duration     0\n",
       "user_id      0\n",
       "dtype: int64"
      ]
     },
     "metadata": {},
     "output_type": "display_data"
    },
    {
     "name": "stdout",
     "output_type": "stream",
     "text": [
      "Изучим данные об интернете\n",
      "___________________________\n"
     ]
    },
    {
     "data": {
      "text/html": [
       "<div>\n",
       "<style scoped>\n",
       "    .dataframe tbody tr th:only-of-type {\n",
       "        vertical-align: middle;\n",
       "    }\n",
       "\n",
       "    .dataframe tbody tr th {\n",
       "        vertical-align: top;\n",
       "    }\n",
       "\n",
       "    .dataframe thead th {\n",
       "        text-align: right;\n",
       "    }\n",
       "</style>\n",
       "<table border=\"1\" class=\"dataframe\">\n",
       "  <thead>\n",
       "    <tr style=\"text-align: right;\">\n",
       "      <th></th>\n",
       "      <th>id</th>\n",
       "      <th>mb_used</th>\n",
       "      <th>session_date</th>\n",
       "      <th>user_id</th>\n",
       "    </tr>\n",
       "  </thead>\n",
       "  <tbody>\n",
       "    <tr>\n",
       "      <th>0</th>\n",
       "      <td>1000_0</td>\n",
       "      <td>112.95</td>\n",
       "      <td>2018-11-25</td>\n",
       "      <td>1000</td>\n",
       "    </tr>\n",
       "    <tr>\n",
       "      <th>1</th>\n",
       "      <td>1000_1</td>\n",
       "      <td>1052.81</td>\n",
       "      <td>2018-09-07</td>\n",
       "      <td>1000</td>\n",
       "    </tr>\n",
       "    <tr>\n",
       "      <th>2</th>\n",
       "      <td>1000_2</td>\n",
       "      <td>1197.26</td>\n",
       "      <td>2018-06-25</td>\n",
       "      <td>1000</td>\n",
       "    </tr>\n",
       "    <tr>\n",
       "      <th>3</th>\n",
       "      <td>1000_3</td>\n",
       "      <td>550.27</td>\n",
       "      <td>2018-08-22</td>\n",
       "      <td>1000</td>\n",
       "    </tr>\n",
       "    <tr>\n",
       "      <th>4</th>\n",
       "      <td>1000_4</td>\n",
       "      <td>302.56</td>\n",
       "      <td>2018-09-24</td>\n",
       "      <td>1000</td>\n",
       "    </tr>\n",
       "  </tbody>\n",
       "</table>\n",
       "</div>"
      ],
      "text/plain": [
       "       id  mb_used session_date  user_id\n",
       "0  1000_0   112.95   2018-11-25     1000\n",
       "1  1000_1  1052.81   2018-09-07     1000\n",
       "2  1000_2  1197.26   2018-06-25     1000\n",
       "3  1000_3   550.27   2018-08-22     1000\n",
       "4  1000_4   302.56   2018-09-24     1000"
      ]
     },
     "metadata": {},
     "output_type": "display_data"
    },
    {
     "name": "stdout",
     "output_type": "stream",
     "text": [
      "<class 'pandas.core.frame.DataFrame'>\n",
      "Int64Index: 149396 entries, 0 to 149395\n",
      "Data columns (total 4 columns):\n",
      " #   Column        Non-Null Count   Dtype  \n",
      "---  ------        --------------   -----  \n",
      " 0   id            149396 non-null  object \n",
      " 1   mb_used       149396 non-null  float64\n",
      " 2   session_date  149396 non-null  object \n",
      " 3   user_id       149396 non-null  int64  \n",
      "dtypes: float64(1), int64(1), object(2)\n",
      "memory usage: 5.7+ MB\n"
     ]
    },
    {
     "data": {
      "text/plain": [
       "None"
      ]
     },
     "metadata": {},
     "output_type": "display_data"
    },
    {
     "data": {
      "text/html": [
       "<div>\n",
       "<style scoped>\n",
       "    .dataframe tbody tr th:only-of-type {\n",
       "        vertical-align: middle;\n",
       "    }\n",
       "\n",
       "    .dataframe tbody tr th {\n",
       "        vertical-align: top;\n",
       "    }\n",
       "\n",
       "    .dataframe thead th {\n",
       "        text-align: right;\n",
       "    }\n",
       "</style>\n",
       "<table border=\"1\" class=\"dataframe\">\n",
       "  <thead>\n",
       "    <tr style=\"text-align: right;\">\n",
       "      <th></th>\n",
       "      <th>mb_used</th>\n",
       "      <th>user_id</th>\n",
       "    </tr>\n",
       "  </thead>\n",
       "  <tbody>\n",
       "    <tr>\n",
       "      <th>count</th>\n",
       "      <td>149396.000000</td>\n",
       "      <td>149396.000000</td>\n",
       "    </tr>\n",
       "    <tr>\n",
       "      <th>mean</th>\n",
       "      <td>370.192426</td>\n",
       "      <td>1252.099842</td>\n",
       "    </tr>\n",
       "    <tr>\n",
       "      <th>std</th>\n",
       "      <td>278.300951</td>\n",
       "      <td>144.050823</td>\n",
       "    </tr>\n",
       "    <tr>\n",
       "      <th>min</th>\n",
       "      <td>0.000000</td>\n",
       "      <td>1000.000000</td>\n",
       "    </tr>\n",
       "    <tr>\n",
       "      <th>25%</th>\n",
       "      <td>138.187500</td>\n",
       "      <td>1130.000000</td>\n",
       "    </tr>\n",
       "    <tr>\n",
       "      <th>50%</th>\n",
       "      <td>348.015000</td>\n",
       "      <td>1251.000000</td>\n",
       "    </tr>\n",
       "    <tr>\n",
       "      <th>75%</th>\n",
       "      <td>559.552500</td>\n",
       "      <td>1380.000000</td>\n",
       "    </tr>\n",
       "    <tr>\n",
       "      <th>max</th>\n",
       "      <td>1724.830000</td>\n",
       "      <td>1499.000000</td>\n",
       "    </tr>\n",
       "  </tbody>\n",
       "</table>\n",
       "</div>"
      ],
      "text/plain": [
       "             mb_used        user_id\n",
       "count  149396.000000  149396.000000\n",
       "mean      370.192426    1252.099842\n",
       "std       278.300951     144.050823\n",
       "min         0.000000    1000.000000\n",
       "25%       138.187500    1130.000000\n",
       "50%       348.015000    1251.000000\n",
       "75%       559.552500    1380.000000\n",
       "max      1724.830000    1499.000000"
      ]
     },
     "metadata": {},
     "output_type": "display_data"
    },
    {
     "data": {
      "text/plain": [
       "0"
      ]
     },
     "metadata": {},
     "output_type": "display_data"
    },
    {
     "data": {
      "text/plain": [
       "id              0\n",
       "mb_used         0\n",
       "session_date    0\n",
       "user_id         0\n",
       "dtype: int64"
      ]
     },
     "metadata": {},
     "output_type": "display_data"
    },
    {
     "name": "stdout",
     "output_type": "stream",
     "text": [
      "Изучим данные о сообщениях\n",
      "___________________________\n"
     ]
    },
    {
     "data": {
      "text/html": [
       "<div>\n",
       "<style scoped>\n",
       "    .dataframe tbody tr th:only-of-type {\n",
       "        vertical-align: middle;\n",
       "    }\n",
       "\n",
       "    .dataframe tbody tr th {\n",
       "        vertical-align: top;\n",
       "    }\n",
       "\n",
       "    .dataframe thead th {\n",
       "        text-align: right;\n",
       "    }\n",
       "</style>\n",
       "<table border=\"1\" class=\"dataframe\">\n",
       "  <thead>\n",
       "    <tr style=\"text-align: right;\">\n",
       "      <th></th>\n",
       "      <th>id</th>\n",
       "      <th>message_date</th>\n",
       "      <th>user_id</th>\n",
       "    </tr>\n",
       "  </thead>\n",
       "  <tbody>\n",
       "    <tr>\n",
       "      <th>0</th>\n",
       "      <td>1000_0</td>\n",
       "      <td>2018-06-27</td>\n",
       "      <td>1000</td>\n",
       "    </tr>\n",
       "    <tr>\n",
       "      <th>1</th>\n",
       "      <td>1000_1</td>\n",
       "      <td>2018-10-08</td>\n",
       "      <td>1000</td>\n",
       "    </tr>\n",
       "    <tr>\n",
       "      <th>2</th>\n",
       "      <td>1000_2</td>\n",
       "      <td>2018-08-04</td>\n",
       "      <td>1000</td>\n",
       "    </tr>\n",
       "    <tr>\n",
       "      <th>3</th>\n",
       "      <td>1000_3</td>\n",
       "      <td>2018-06-16</td>\n",
       "      <td>1000</td>\n",
       "    </tr>\n",
       "    <tr>\n",
       "      <th>4</th>\n",
       "      <td>1000_4</td>\n",
       "      <td>2018-12-05</td>\n",
       "      <td>1000</td>\n",
       "    </tr>\n",
       "  </tbody>\n",
       "</table>\n",
       "</div>"
      ],
      "text/plain": [
       "       id message_date  user_id\n",
       "0  1000_0   2018-06-27     1000\n",
       "1  1000_1   2018-10-08     1000\n",
       "2  1000_2   2018-08-04     1000\n",
       "3  1000_3   2018-06-16     1000\n",
       "4  1000_4   2018-12-05     1000"
      ]
     },
     "metadata": {},
     "output_type": "display_data"
    },
    {
     "name": "stdout",
     "output_type": "stream",
     "text": [
      "<class 'pandas.core.frame.DataFrame'>\n",
      "RangeIndex: 123036 entries, 0 to 123035\n",
      "Data columns (total 3 columns):\n",
      " #   Column        Non-Null Count   Dtype \n",
      "---  ------        --------------   ----- \n",
      " 0   id            123036 non-null  object\n",
      " 1   message_date  123036 non-null  object\n",
      " 2   user_id       123036 non-null  int64 \n",
      "dtypes: int64(1), object(2)\n",
      "memory usage: 2.8+ MB\n"
     ]
    },
    {
     "data": {
      "text/plain": [
       "None"
      ]
     },
     "metadata": {},
     "output_type": "display_data"
    },
    {
     "data": {
      "text/html": [
       "<div>\n",
       "<style scoped>\n",
       "    .dataframe tbody tr th:only-of-type {\n",
       "        vertical-align: middle;\n",
       "    }\n",
       "\n",
       "    .dataframe tbody tr th {\n",
       "        vertical-align: top;\n",
       "    }\n",
       "\n",
       "    .dataframe thead th {\n",
       "        text-align: right;\n",
       "    }\n",
       "</style>\n",
       "<table border=\"1\" class=\"dataframe\">\n",
       "  <thead>\n",
       "    <tr style=\"text-align: right;\">\n",
       "      <th></th>\n",
       "      <th>user_id</th>\n",
       "    </tr>\n",
       "  </thead>\n",
       "  <tbody>\n",
       "    <tr>\n",
       "      <th>count</th>\n",
       "      <td>123036.000000</td>\n",
       "    </tr>\n",
       "    <tr>\n",
       "      <th>mean</th>\n",
       "      <td>1256.989410</td>\n",
       "    </tr>\n",
       "    <tr>\n",
       "      <th>std</th>\n",
       "      <td>143.523967</td>\n",
       "    </tr>\n",
       "    <tr>\n",
       "      <th>min</th>\n",
       "      <td>1000.000000</td>\n",
       "    </tr>\n",
       "    <tr>\n",
       "      <th>25%</th>\n",
       "      <td>1134.000000</td>\n",
       "    </tr>\n",
       "    <tr>\n",
       "      <th>50%</th>\n",
       "      <td>1271.000000</td>\n",
       "    </tr>\n",
       "    <tr>\n",
       "      <th>75%</th>\n",
       "      <td>1381.000000</td>\n",
       "    </tr>\n",
       "    <tr>\n",
       "      <th>max</th>\n",
       "      <td>1499.000000</td>\n",
       "    </tr>\n",
       "  </tbody>\n",
       "</table>\n",
       "</div>"
      ],
      "text/plain": [
       "             user_id\n",
       "count  123036.000000\n",
       "mean     1256.989410\n",
       "std       143.523967\n",
       "min      1000.000000\n",
       "25%      1134.000000\n",
       "50%      1271.000000\n",
       "75%      1381.000000\n",
       "max      1499.000000"
      ]
     },
     "metadata": {},
     "output_type": "display_data"
    },
    {
     "data": {
      "text/plain": [
       "0"
      ]
     },
     "metadata": {},
     "output_type": "display_data"
    },
    {
     "data": {
      "text/plain": [
       "id              0\n",
       "message_date    0\n",
       "user_id         0\n",
       "dtype: int64"
      ]
     },
     "metadata": {},
     "output_type": "display_data"
    },
    {
     "name": "stdout",
     "output_type": "stream",
     "text": [
      "Изучим данные о тарифах\n",
      "___________________________\n"
     ]
    },
    {
     "data": {
      "text/html": [
       "<div>\n",
       "<style scoped>\n",
       "    .dataframe tbody tr th:only-of-type {\n",
       "        vertical-align: middle;\n",
       "    }\n",
       "\n",
       "    .dataframe tbody tr th {\n",
       "        vertical-align: top;\n",
       "    }\n",
       "\n",
       "    .dataframe thead th {\n",
       "        text-align: right;\n",
       "    }\n",
       "</style>\n",
       "<table border=\"1\" class=\"dataframe\">\n",
       "  <thead>\n",
       "    <tr style=\"text-align: right;\">\n",
       "      <th></th>\n",
       "      <th>messages_included</th>\n",
       "      <th>mb_per_month_included</th>\n",
       "      <th>minutes_included</th>\n",
       "      <th>rub_monthly_fee</th>\n",
       "      <th>rub_per_gb</th>\n",
       "      <th>rub_per_message</th>\n",
       "      <th>rub_per_minute</th>\n",
       "      <th>tariff_name</th>\n",
       "    </tr>\n",
       "  </thead>\n",
       "  <tbody>\n",
       "    <tr>\n",
       "      <th>0</th>\n",
       "      <td>50</td>\n",
       "      <td>15360</td>\n",
       "      <td>500</td>\n",
       "      <td>550</td>\n",
       "      <td>200</td>\n",
       "      <td>3</td>\n",
       "      <td>3</td>\n",
       "      <td>smart</td>\n",
       "    </tr>\n",
       "    <tr>\n",
       "      <th>1</th>\n",
       "      <td>1000</td>\n",
       "      <td>30720</td>\n",
       "      <td>3000</td>\n",
       "      <td>1950</td>\n",
       "      <td>150</td>\n",
       "      <td>1</td>\n",
       "      <td>1</td>\n",
       "      <td>ultra</td>\n",
       "    </tr>\n",
       "  </tbody>\n",
       "</table>\n",
       "</div>"
      ],
      "text/plain": [
       "   messages_included  mb_per_month_included  minutes_included  \\\n",
       "0                 50                  15360               500   \n",
       "1               1000                  30720              3000   \n",
       "\n",
       "   rub_monthly_fee  rub_per_gb  rub_per_message  rub_per_minute tariff_name  \n",
       "0              550         200                3               3       smart  \n",
       "1             1950         150                1               1       ultra  "
      ]
     },
     "metadata": {},
     "output_type": "display_data"
    },
    {
     "name": "stdout",
     "output_type": "stream",
     "text": [
      "<class 'pandas.core.frame.DataFrame'>\n",
      "RangeIndex: 2 entries, 0 to 1\n",
      "Data columns (total 8 columns):\n",
      " #   Column                 Non-Null Count  Dtype \n",
      "---  ------                 --------------  ----- \n",
      " 0   messages_included      2 non-null      int64 \n",
      " 1   mb_per_month_included  2 non-null      int64 \n",
      " 2   minutes_included       2 non-null      int64 \n",
      " 3   rub_monthly_fee        2 non-null      int64 \n",
      " 4   rub_per_gb             2 non-null      int64 \n",
      " 5   rub_per_message        2 non-null      int64 \n",
      " 6   rub_per_minute         2 non-null      int64 \n",
      " 7   tariff_name            2 non-null      object\n",
      "dtypes: int64(7), object(1)\n",
      "memory usage: 256.0+ bytes\n"
     ]
    },
    {
     "data": {
      "text/plain": [
       "None"
      ]
     },
     "metadata": {},
     "output_type": "display_data"
    },
    {
     "data": {
      "text/html": [
       "<div>\n",
       "<style scoped>\n",
       "    .dataframe tbody tr th:only-of-type {\n",
       "        vertical-align: middle;\n",
       "    }\n",
       "\n",
       "    .dataframe tbody tr th {\n",
       "        vertical-align: top;\n",
       "    }\n",
       "\n",
       "    .dataframe thead th {\n",
       "        text-align: right;\n",
       "    }\n",
       "</style>\n",
       "<table border=\"1\" class=\"dataframe\">\n",
       "  <thead>\n",
       "    <tr style=\"text-align: right;\">\n",
       "      <th></th>\n",
       "      <th>messages_included</th>\n",
       "      <th>mb_per_month_included</th>\n",
       "      <th>minutes_included</th>\n",
       "      <th>rub_monthly_fee</th>\n",
       "      <th>rub_per_gb</th>\n",
       "      <th>rub_per_message</th>\n",
       "      <th>rub_per_minute</th>\n",
       "    </tr>\n",
       "  </thead>\n",
       "  <tbody>\n",
       "    <tr>\n",
       "      <th>count</th>\n",
       "      <td>2.000000</td>\n",
       "      <td>2.000000</td>\n",
       "      <td>2.000000</td>\n",
       "      <td>2.000000</td>\n",
       "      <td>2.000000</td>\n",
       "      <td>2.000000</td>\n",
       "      <td>2.000000</td>\n",
       "    </tr>\n",
       "    <tr>\n",
       "      <th>mean</th>\n",
       "      <td>525.000000</td>\n",
       "      <td>23040.000000</td>\n",
       "      <td>1750.000000</td>\n",
       "      <td>1250.000000</td>\n",
       "      <td>175.000000</td>\n",
       "      <td>2.000000</td>\n",
       "      <td>2.000000</td>\n",
       "    </tr>\n",
       "    <tr>\n",
       "      <th>std</th>\n",
       "      <td>671.751442</td>\n",
       "      <td>10861.160159</td>\n",
       "      <td>1767.766953</td>\n",
       "      <td>989.949494</td>\n",
       "      <td>35.355339</td>\n",
       "      <td>1.414214</td>\n",
       "      <td>1.414214</td>\n",
       "    </tr>\n",
       "    <tr>\n",
       "      <th>min</th>\n",
       "      <td>50.000000</td>\n",
       "      <td>15360.000000</td>\n",
       "      <td>500.000000</td>\n",
       "      <td>550.000000</td>\n",
       "      <td>150.000000</td>\n",
       "      <td>1.000000</td>\n",
       "      <td>1.000000</td>\n",
       "    </tr>\n",
       "    <tr>\n",
       "      <th>25%</th>\n",
       "      <td>287.500000</td>\n",
       "      <td>19200.000000</td>\n",
       "      <td>1125.000000</td>\n",
       "      <td>900.000000</td>\n",
       "      <td>162.500000</td>\n",
       "      <td>1.500000</td>\n",
       "      <td>1.500000</td>\n",
       "    </tr>\n",
       "    <tr>\n",
       "      <th>50%</th>\n",
       "      <td>525.000000</td>\n",
       "      <td>23040.000000</td>\n",
       "      <td>1750.000000</td>\n",
       "      <td>1250.000000</td>\n",
       "      <td>175.000000</td>\n",
       "      <td>2.000000</td>\n",
       "      <td>2.000000</td>\n",
       "    </tr>\n",
       "    <tr>\n",
       "      <th>75%</th>\n",
       "      <td>762.500000</td>\n",
       "      <td>26880.000000</td>\n",
       "      <td>2375.000000</td>\n",
       "      <td>1600.000000</td>\n",
       "      <td>187.500000</td>\n",
       "      <td>2.500000</td>\n",
       "      <td>2.500000</td>\n",
       "    </tr>\n",
       "    <tr>\n",
       "      <th>max</th>\n",
       "      <td>1000.000000</td>\n",
       "      <td>30720.000000</td>\n",
       "      <td>3000.000000</td>\n",
       "      <td>1950.000000</td>\n",
       "      <td>200.000000</td>\n",
       "      <td>3.000000</td>\n",
       "      <td>3.000000</td>\n",
       "    </tr>\n",
       "  </tbody>\n",
       "</table>\n",
       "</div>"
      ],
      "text/plain": [
       "       messages_included  mb_per_month_included  minutes_included  \\\n",
       "count           2.000000               2.000000          2.000000   \n",
       "mean          525.000000           23040.000000       1750.000000   \n",
       "std           671.751442           10861.160159       1767.766953   \n",
       "min            50.000000           15360.000000        500.000000   \n",
       "25%           287.500000           19200.000000       1125.000000   \n",
       "50%           525.000000           23040.000000       1750.000000   \n",
       "75%           762.500000           26880.000000       2375.000000   \n",
       "max          1000.000000           30720.000000       3000.000000   \n",
       "\n",
       "       rub_monthly_fee  rub_per_gb  rub_per_message  rub_per_minute  \n",
       "count         2.000000    2.000000         2.000000        2.000000  \n",
       "mean       1250.000000  175.000000         2.000000        2.000000  \n",
       "std         989.949494   35.355339         1.414214        1.414214  \n",
       "min         550.000000  150.000000         1.000000        1.000000  \n",
       "25%         900.000000  162.500000         1.500000        1.500000  \n",
       "50%        1250.000000  175.000000         2.000000        2.000000  \n",
       "75%        1600.000000  187.500000         2.500000        2.500000  \n",
       "max        1950.000000  200.000000         3.000000        3.000000  "
      ]
     },
     "metadata": {},
     "output_type": "display_data"
    },
    {
     "data": {
      "text/plain": [
       "0"
      ]
     },
     "metadata": {},
     "output_type": "display_data"
    },
    {
     "data": {
      "text/plain": [
       "messages_included        0\n",
       "mb_per_month_included    0\n",
       "minutes_included         0\n",
       "rub_monthly_fee          0\n",
       "rub_per_gb               0\n",
       "rub_per_message          0\n",
       "rub_per_minute           0\n",
       "tariff_name              0\n",
       "dtype: int64"
      ]
     },
     "metadata": {},
     "output_type": "display_data"
    },
    {
     "name": "stdout",
     "output_type": "stream",
     "text": [
      "Изучим данные о пользователях\n",
      "___________________________\n"
     ]
    },
    {
     "data": {
      "text/html": [
       "<div>\n",
       "<style scoped>\n",
       "    .dataframe tbody tr th:only-of-type {\n",
       "        vertical-align: middle;\n",
       "    }\n",
       "\n",
       "    .dataframe tbody tr th {\n",
       "        vertical-align: top;\n",
       "    }\n",
       "\n",
       "    .dataframe thead th {\n",
       "        text-align: right;\n",
       "    }\n",
       "</style>\n",
       "<table border=\"1\" class=\"dataframe\">\n",
       "  <thead>\n",
       "    <tr style=\"text-align: right;\">\n",
       "      <th></th>\n",
       "      <th>user_id</th>\n",
       "      <th>age</th>\n",
       "      <th>churn_date</th>\n",
       "      <th>city</th>\n",
       "      <th>first_name</th>\n",
       "      <th>last_name</th>\n",
       "      <th>reg_date</th>\n",
       "      <th>tariff</th>\n",
       "    </tr>\n",
       "  </thead>\n",
       "  <tbody>\n",
       "    <tr>\n",
       "      <th>0</th>\n",
       "      <td>1000</td>\n",
       "      <td>52</td>\n",
       "      <td>NaN</td>\n",
       "      <td>Краснодар</td>\n",
       "      <td>Рафаил</td>\n",
       "      <td>Верещагин</td>\n",
       "      <td>2018-05-25</td>\n",
       "      <td>ultra</td>\n",
       "    </tr>\n",
       "    <tr>\n",
       "      <th>1</th>\n",
       "      <td>1001</td>\n",
       "      <td>41</td>\n",
       "      <td>NaN</td>\n",
       "      <td>Москва</td>\n",
       "      <td>Иван</td>\n",
       "      <td>Ежов</td>\n",
       "      <td>2018-11-01</td>\n",
       "      <td>smart</td>\n",
       "    </tr>\n",
       "    <tr>\n",
       "      <th>2</th>\n",
       "      <td>1002</td>\n",
       "      <td>59</td>\n",
       "      <td>NaN</td>\n",
       "      <td>Стерлитамак</td>\n",
       "      <td>Евгений</td>\n",
       "      <td>Абрамович</td>\n",
       "      <td>2018-06-17</td>\n",
       "      <td>smart</td>\n",
       "    </tr>\n",
       "    <tr>\n",
       "      <th>3</th>\n",
       "      <td>1003</td>\n",
       "      <td>23</td>\n",
       "      <td>NaN</td>\n",
       "      <td>Москва</td>\n",
       "      <td>Белла</td>\n",
       "      <td>Белякова</td>\n",
       "      <td>2018-08-17</td>\n",
       "      <td>ultra</td>\n",
       "    </tr>\n",
       "    <tr>\n",
       "      <th>4</th>\n",
       "      <td>1004</td>\n",
       "      <td>68</td>\n",
       "      <td>NaN</td>\n",
       "      <td>Новокузнецк</td>\n",
       "      <td>Татьяна</td>\n",
       "      <td>Авдеенко</td>\n",
       "      <td>2018-05-14</td>\n",
       "      <td>ultra</td>\n",
       "    </tr>\n",
       "  </tbody>\n",
       "</table>\n",
       "</div>"
      ],
      "text/plain": [
       "   user_id  age churn_date         city first_name  last_name    reg_date  \\\n",
       "0     1000   52        NaN    Краснодар     Рафаил  Верещагин  2018-05-25   \n",
       "1     1001   41        NaN       Москва       Иван       Ежов  2018-11-01   \n",
       "2     1002   59        NaN  Стерлитамак    Евгений  Абрамович  2018-06-17   \n",
       "3     1003   23        NaN       Москва      Белла   Белякова  2018-08-17   \n",
       "4     1004   68        NaN  Новокузнецк    Татьяна   Авдеенко  2018-05-14   \n",
       "\n",
       "  tariff  \n",
       "0  ultra  \n",
       "1  smart  \n",
       "2  smart  \n",
       "3  ultra  \n",
       "4  ultra  "
      ]
     },
     "metadata": {},
     "output_type": "display_data"
    },
    {
     "name": "stdout",
     "output_type": "stream",
     "text": [
      "<class 'pandas.core.frame.DataFrame'>\n",
      "RangeIndex: 500 entries, 0 to 499\n",
      "Data columns (total 8 columns):\n",
      " #   Column      Non-Null Count  Dtype \n",
      "---  ------      --------------  ----- \n",
      " 0   user_id     500 non-null    int64 \n",
      " 1   age         500 non-null    int64 \n",
      " 2   churn_date  38 non-null     object\n",
      " 3   city        500 non-null    object\n",
      " 4   first_name  500 non-null    object\n",
      " 5   last_name   500 non-null    object\n",
      " 6   reg_date    500 non-null    object\n",
      " 7   tariff      500 non-null    object\n",
      "dtypes: int64(2), object(6)\n",
      "memory usage: 31.4+ KB\n"
     ]
    },
    {
     "data": {
      "text/plain": [
       "None"
      ]
     },
     "metadata": {},
     "output_type": "display_data"
    },
    {
     "data": {
      "text/html": [
       "<div>\n",
       "<style scoped>\n",
       "    .dataframe tbody tr th:only-of-type {\n",
       "        vertical-align: middle;\n",
       "    }\n",
       "\n",
       "    .dataframe tbody tr th {\n",
       "        vertical-align: top;\n",
       "    }\n",
       "\n",
       "    .dataframe thead th {\n",
       "        text-align: right;\n",
       "    }\n",
       "</style>\n",
       "<table border=\"1\" class=\"dataframe\">\n",
       "  <thead>\n",
       "    <tr style=\"text-align: right;\">\n",
       "      <th></th>\n",
       "      <th>user_id</th>\n",
       "      <th>age</th>\n",
       "    </tr>\n",
       "  </thead>\n",
       "  <tbody>\n",
       "    <tr>\n",
       "      <th>count</th>\n",
       "      <td>500.000000</td>\n",
       "      <td>500.00000</td>\n",
       "    </tr>\n",
       "    <tr>\n",
       "      <th>mean</th>\n",
       "      <td>1249.500000</td>\n",
       "      <td>46.58800</td>\n",
       "    </tr>\n",
       "    <tr>\n",
       "      <th>std</th>\n",
       "      <td>144.481833</td>\n",
       "      <td>16.66763</td>\n",
       "    </tr>\n",
       "    <tr>\n",
       "      <th>min</th>\n",
       "      <td>1000.000000</td>\n",
       "      <td>18.00000</td>\n",
       "    </tr>\n",
       "    <tr>\n",
       "      <th>25%</th>\n",
       "      <td>1124.750000</td>\n",
       "      <td>32.00000</td>\n",
       "    </tr>\n",
       "    <tr>\n",
       "      <th>50%</th>\n",
       "      <td>1249.500000</td>\n",
       "      <td>46.00000</td>\n",
       "    </tr>\n",
       "    <tr>\n",
       "      <th>75%</th>\n",
       "      <td>1374.250000</td>\n",
       "      <td>62.00000</td>\n",
       "    </tr>\n",
       "    <tr>\n",
       "      <th>max</th>\n",
       "      <td>1499.000000</td>\n",
       "      <td>75.00000</td>\n",
       "    </tr>\n",
       "  </tbody>\n",
       "</table>\n",
       "</div>"
      ],
      "text/plain": [
       "           user_id        age\n",
       "count   500.000000  500.00000\n",
       "mean   1249.500000   46.58800\n",
       "std     144.481833   16.66763\n",
       "min    1000.000000   18.00000\n",
       "25%    1124.750000   32.00000\n",
       "50%    1249.500000   46.00000\n",
       "75%    1374.250000   62.00000\n",
       "max    1499.000000   75.00000"
      ]
     },
     "metadata": {},
     "output_type": "display_data"
    },
    {
     "data": {
      "text/plain": [
       "0"
      ]
     },
     "metadata": {},
     "output_type": "display_data"
    },
    {
     "data": {
      "text/plain": [
       "user_id         0\n",
       "age             0\n",
       "churn_date    462\n",
       "city            0\n",
       "first_name      0\n",
       "last_name       0\n",
       "reg_date        0\n",
       "tariff          0\n",
       "dtype: int64"
      ]
     },
     "metadata": {},
     "output_type": "display_data"
    },
    {
     "data": {
      "text/html": [
       "<div>\n",
       "<style scoped>\n",
       "    .dataframe tbody tr th:only-of-type {\n",
       "        vertical-align: middle;\n",
       "    }\n",
       "\n",
       "    .dataframe tbody tr th {\n",
       "        vertical-align: top;\n",
       "    }\n",
       "\n",
       "    .dataframe thead th {\n",
       "        text-align: right;\n",
       "    }\n",
       "</style>\n",
       "<table border=\"1\" class=\"dataframe\">\n",
       "  <thead>\n",
       "    <tr style=\"text-align: right;\">\n",
       "      <th></th>\n",
       "      <th>user_id</th>\n",
       "      <th>age</th>\n",
       "      <th>churn_date</th>\n",
       "      <th>city</th>\n",
       "      <th>first_name</th>\n",
       "      <th>last_name</th>\n",
       "      <th>reg_date</th>\n",
       "      <th>tariff</th>\n",
       "    </tr>\n",
       "  </thead>\n",
       "  <tbody>\n",
       "    <tr>\n",
       "      <th>0</th>\n",
       "      <td>1000</td>\n",
       "      <td>52</td>\n",
       "      <td>NaN</td>\n",
       "      <td>Краснодар</td>\n",
       "      <td>Рафаил</td>\n",
       "      <td>Верещагин</td>\n",
       "      <td>2018-05-25</td>\n",
       "      <td>ultra</td>\n",
       "    </tr>\n",
       "    <tr>\n",
       "      <th>1</th>\n",
       "      <td>1001</td>\n",
       "      <td>41</td>\n",
       "      <td>NaN</td>\n",
       "      <td>Москва</td>\n",
       "      <td>Иван</td>\n",
       "      <td>Ежов</td>\n",
       "      <td>2018-11-01</td>\n",
       "      <td>smart</td>\n",
       "    </tr>\n",
       "    <tr>\n",
       "      <th>2</th>\n",
       "      <td>1002</td>\n",
       "      <td>59</td>\n",
       "      <td>NaN</td>\n",
       "      <td>Стерлитамак</td>\n",
       "      <td>Евгений</td>\n",
       "      <td>Абрамович</td>\n",
       "      <td>2018-06-17</td>\n",
       "      <td>smart</td>\n",
       "    </tr>\n",
       "    <tr>\n",
       "      <th>3</th>\n",
       "      <td>1003</td>\n",
       "      <td>23</td>\n",
       "      <td>NaN</td>\n",
       "      <td>Москва</td>\n",
       "      <td>Белла</td>\n",
       "      <td>Белякова</td>\n",
       "      <td>2018-08-17</td>\n",
       "      <td>ultra</td>\n",
       "    </tr>\n",
       "    <tr>\n",
       "      <th>4</th>\n",
       "      <td>1004</td>\n",
       "      <td>68</td>\n",
       "      <td>NaN</td>\n",
       "      <td>Новокузнецк</td>\n",
       "      <td>Татьяна</td>\n",
       "      <td>Авдеенко</td>\n",
       "      <td>2018-05-14</td>\n",
       "      <td>ultra</td>\n",
       "    </tr>\n",
       "    <tr>\n",
       "      <th>...</th>\n",
       "      <td>...</td>\n",
       "      <td>...</td>\n",
       "      <td>...</td>\n",
       "      <td>...</td>\n",
       "      <td>...</td>\n",
       "      <td>...</td>\n",
       "      <td>...</td>\n",
       "      <td>...</td>\n",
       "    </tr>\n",
       "    <tr>\n",
       "      <th>495</th>\n",
       "      <td>1495</td>\n",
       "      <td>65</td>\n",
       "      <td>NaN</td>\n",
       "      <td>Иркутск</td>\n",
       "      <td>Авксентий</td>\n",
       "      <td>Фокин</td>\n",
       "      <td>2018-08-28</td>\n",
       "      <td>ultra</td>\n",
       "    </tr>\n",
       "    <tr>\n",
       "      <th>496</th>\n",
       "      <td>1496</td>\n",
       "      <td>36</td>\n",
       "      <td>NaN</td>\n",
       "      <td>Вологда</td>\n",
       "      <td>Трифон</td>\n",
       "      <td>Блохин</td>\n",
       "      <td>2018-01-27</td>\n",
       "      <td>smart</td>\n",
       "    </tr>\n",
       "    <tr>\n",
       "      <th>497</th>\n",
       "      <td>1497</td>\n",
       "      <td>32</td>\n",
       "      <td>NaN</td>\n",
       "      <td>Челябинск</td>\n",
       "      <td>Каролина</td>\n",
       "      <td>Агеева</td>\n",
       "      <td>2018-10-09</td>\n",
       "      <td>smart</td>\n",
       "    </tr>\n",
       "    <tr>\n",
       "      <th>498</th>\n",
       "      <td>1498</td>\n",
       "      <td>68</td>\n",
       "      <td>2018-10-25</td>\n",
       "      <td>Владикавказ</td>\n",
       "      <td>Всеволод</td>\n",
       "      <td>Акимчин</td>\n",
       "      <td>2018-07-19</td>\n",
       "      <td>smart</td>\n",
       "    </tr>\n",
       "    <tr>\n",
       "      <th>499</th>\n",
       "      <td>1499</td>\n",
       "      <td>35</td>\n",
       "      <td>NaN</td>\n",
       "      <td>Пермь</td>\n",
       "      <td>Гектор</td>\n",
       "      <td>Корнилов</td>\n",
       "      <td>2018-09-27</td>\n",
       "      <td>smart</td>\n",
       "    </tr>\n",
       "  </tbody>\n",
       "</table>\n",
       "<p>500 rows × 8 columns</p>\n",
       "</div>"
      ],
      "text/plain": [
       "     user_id  age  churn_date         city first_name  last_name    reg_date  \\\n",
       "0       1000   52         NaN    Краснодар     Рафаил  Верещагин  2018-05-25   \n",
       "1       1001   41         NaN       Москва       Иван       Ежов  2018-11-01   \n",
       "2       1002   59         NaN  Стерлитамак    Евгений  Абрамович  2018-06-17   \n",
       "3       1003   23         NaN       Москва      Белла   Белякова  2018-08-17   \n",
       "4       1004   68         NaN  Новокузнецк    Татьяна   Авдеенко  2018-05-14   \n",
       "..       ...  ...         ...          ...        ...        ...         ...   \n",
       "495     1495   65         NaN      Иркутск  Авксентий      Фокин  2018-08-28   \n",
       "496     1496   36         NaN      Вологда     Трифон     Блохин  2018-01-27   \n",
       "497     1497   32         NaN    Челябинск   Каролина     Агеева  2018-10-09   \n",
       "498     1498   68  2018-10-25  Владикавказ   Всеволод    Акимчин  2018-07-19   \n",
       "499     1499   35         NaN        Пермь     Гектор   Корнилов  2018-09-27   \n",
       "\n",
       "    tariff  \n",
       "0    ultra  \n",
       "1    smart  \n",
       "2    smart  \n",
       "3    ultra  \n",
       "4    ultra  \n",
       "..     ...  \n",
       "495  ultra  \n",
       "496  smart  \n",
       "497  smart  \n",
       "498  smart  \n",
       "499  smart  \n",
       "\n",
       "[500 rows x 8 columns]"
      ]
     },
     "execution_count": 5,
     "metadata": {},
     "output_type": "execute_result"
    }
   ],
   "source": [
    "print('Изучим данные о звонках')\n",
    "print('___________________________')\n",
    "func(calls)\n",
    "print('Изучим данные об интернете')\n",
    "print('___________________________')\n",
    "func(internet)\n",
    "print('Изучим данные о сообщениях')\n",
    "print('___________________________')\n",
    "func(messages)\n",
    "print('Изучим данные о тарифах')\n",
    "print('___________________________')\n",
    "func(tariff)\n",
    "print('Изучим данные о пользователях')\n",
    "print('___________________________')\n",
    "func(users)"
   ]
  },
  {
   "cell_type": "markdown",
   "metadata": {},
   "source": [
    "***вывод***:\n",
    "\n",
    "Есть NaNы в churn_date но они нам не помешают поэтому не будем их трогать. Так же я заметил что даты указаны в типах объект,нам стоит их перевести в дататайм. В остальном в целом данные хорошие,их достаточно чтобы проверить гипотезы которые нам поставили в задаче,но для начала перейдет в предобработку данных."
   ]
  },
  {
   "cell_type": "markdown",
   "metadata": {},
   "source": [
    "## Предобработка данных"
   ]
  },
  {
   "cell_type": "markdown",
   "metadata": {},
   "source": [
    "Переведём значения в дататайм и выделим от туда месяца,это нам пригодится в дальнейшем"
   ]
  },
  {
   "cell_type": "markdown",
   "metadata": {},
   "source": [
    "### Звонки (calls)"
   ]
  },
  {
   "cell_type": "code",
   "execution_count": 6,
   "metadata": {},
   "outputs": [],
   "source": [
    "calls['call_date'] = pd.to_datetime(calls['call_date']).astype('datetime64[D]')\n",
    "calls['month'] = pd.to_datetime(calls['call_date']).dt.month"
   ]
  },
  {
   "cell_type": "markdown",
   "metadata": {},
   "source": [
    "### Интернет (internet)"
   ]
  },
  {
   "cell_type": "code",
   "execution_count": 7,
   "metadata": {},
   "outputs": [],
   "source": [
    "internet['session_date'] = pd.to_datetime(internet['session_date']).astype('datetime64[D]')\n",
    "internet['month'] = pd.to_datetime(internet['session_date']).dt.month"
   ]
  },
  {
   "cell_type": "markdown",
   "metadata": {},
   "source": [
    "###  Сообщения  (messages)"
   ]
  },
  {
   "cell_type": "code",
   "execution_count": 8,
   "metadata": {},
   "outputs": [],
   "source": [
    "messages['message_date'] = pd.to_datetime(messages['message_date']).astype('datetime64[D]')\n",
    "messages['month'] = pd.to_datetime(messages['message_date']).dt.month"
   ]
  },
  {
   "cell_type": "markdown",
   "metadata": {},
   "source": [
    "###  Тариф  (tariffs)"
   ]
  },
  {
   "cell_type": "code",
   "execution_count": 9,
   "metadata": {},
   "outputs": [
    {
     "data": {
      "text/html": [
       "<div>\n",
       "<style scoped>\n",
       "    .dataframe tbody tr th:only-of-type {\n",
       "        vertical-align: middle;\n",
       "    }\n",
       "\n",
       "    .dataframe tbody tr th {\n",
       "        vertical-align: top;\n",
       "    }\n",
       "\n",
       "    .dataframe thead th {\n",
       "        text-align: right;\n",
       "    }\n",
       "</style>\n",
       "<table border=\"1\" class=\"dataframe\">\n",
       "  <thead>\n",
       "    <tr style=\"text-align: right;\">\n",
       "      <th></th>\n",
       "      <th>messages_included</th>\n",
       "      <th>mb_per_month_included</th>\n",
       "      <th>minutes_included</th>\n",
       "      <th>rub_monthly_fee</th>\n",
       "      <th>rub_per_gb</th>\n",
       "      <th>rub_per_message</th>\n",
       "      <th>rub_per_minute</th>\n",
       "      <th>tariff_name</th>\n",
       "    </tr>\n",
       "  </thead>\n",
       "  <tbody>\n",
       "    <tr>\n",
       "      <th>0</th>\n",
       "      <td>50</td>\n",
       "      <td>15360</td>\n",
       "      <td>500</td>\n",
       "      <td>550</td>\n",
       "      <td>200</td>\n",
       "      <td>3</td>\n",
       "      <td>3</td>\n",
       "      <td>smart</td>\n",
       "    </tr>\n",
       "    <tr>\n",
       "      <th>1</th>\n",
       "      <td>1000</td>\n",
       "      <td>30720</td>\n",
       "      <td>3000</td>\n",
       "      <td>1950</td>\n",
       "      <td>150</td>\n",
       "      <td>1</td>\n",
       "      <td>1</td>\n",
       "      <td>ultra</td>\n",
       "    </tr>\n",
       "  </tbody>\n",
       "</table>\n",
       "</div>"
      ],
      "text/plain": [
       "   messages_included  mb_per_month_included  minutes_included  \\\n",
       "0                 50                  15360               500   \n",
       "1               1000                  30720              3000   \n",
       "\n",
       "   rub_monthly_fee  rub_per_gb  rub_per_message  rub_per_minute tariff_name  \n",
       "0              550         200                3               3       smart  \n",
       "1             1950         150                1               1       ultra  "
      ]
     },
     "execution_count": 9,
     "metadata": {},
     "output_type": "execute_result"
    }
   ],
   "source": [
    "tariff"
   ]
  },
  {
   "cell_type": "markdown",
   "metadata": {},
   "source": [
    "###  Клиенты  (users)"
   ]
  },
  {
   "cell_type": "code",
   "execution_count": 10,
   "metadata": {},
   "outputs": [],
   "source": [
    "users['reg_date'] = pd.to_datetime(users['reg_date']).astype('datetime64[D]')\n",
    "users['month'] = pd.to_datetime(users['reg_date']).dt.month"
   ]
  },
  {
   "cell_type": "markdown",
   "metadata": {},
   "source": [
    "Готово передвинемся к дальнейшим расчётам."
   ]
  },
  {
   "cell_type": "markdown",
   "metadata": {},
   "source": [
    "## Расчёты и добавление результатов в таблицу"
   ]
  },
  {
   "cell_type": "markdown",
   "metadata": {},
   "source": [
    "На данном этапе я хочу создать отдельные таблицы для высчитывания нужных результатов для звонков,интернета,сообщения. Также в данном разделе буду переводить некоторые данные в другой тип данных."
   ]
  },
  {
   "cell_type": "code",
   "execution_count": 11,
   "metadata": {
    "scrolled": true
   },
   "outputs": [],
   "source": [
    "calls['duration'] = np.ceil(calls['duration']).astype(int)\n",
    "calls_all = calls.pivot_table(index=['user_id','month'],values='duration', aggfunc=['sum','count'])\n",
    "calls_all.columns = ['duration_sum', 'duration_count']"
   ]
  },
  {
   "cell_type": "code",
   "execution_count": 31,
   "metadata": {
    "scrolled": false
   },
   "outputs": [],
   "source": [
    "internet_all = internet.pivot_table(index=['user_id','month'],values='mb_used', aggfunc=['sum'])\n",
    "internet_all.columns = ['gb']\n",
    "internet_all['gb'] = (internet_all['gb']/1024)\n",
    "internet_all['gb'] = np.ceil(internet_all['gb']).astype(int)"
   ]
  },
  {
   "cell_type": "code",
   "execution_count": 32,
   "metadata": {},
   "outputs": [],
   "source": [
    "messages_all = messages.pivot_table(index=['user_id','month'],values='message_date',aggfunc='count')\n",
    "messages_all.columns = ['messages_count']\n",
    "messages_all['messages_count'] = np.ceil(messages_all['messages_count']).astype(int)"
   ]
  },
  {
   "cell_type": "markdown",
   "metadata": {},
   "source": [
    "1. Посчитали количество звонков и их сумму в минутах за месяц на каждого пользователя.\n",
    "2. Посчитали количество гигабайт потраченых за месяц на каждого пользователя.\n",
    "3. Посчитали количество сообщений отправленых за месяц на каждого пользователя."
   ]
  },
  {
   "cell_type": "markdown",
   "metadata": {},
   "source": [
    "Захотелось для удобства объеденить имя и фамилию"
   ]
  },
  {
   "cell_type": "code",
   "execution_count": 33,
   "metadata": {},
   "outputs": [],
   "source": [
    "users['full_name'] = users['first_name'] + ' ' + users['last_name']\n",
    "#users['full_name'] = users[['first_name', 'last_name']].agg(' '.join, axis=1)\n",
    "users = users.drop([\"first_name\", \"last_name\"], axis=1)"
   ]
  },
  {
   "cell_type": "markdown",
   "metadata": {},
   "source": [
    "В данном этапе буду соединять полученые результаты."
   ]
  },
  {
   "cell_type": "code",
   "execution_count": 34,
   "metadata": {},
   "outputs": [
    {
     "data": {
      "text/html": [
       "<div>\n",
       "<style scoped>\n",
       "    .dataframe tbody tr th:only-of-type {\n",
       "        vertical-align: middle;\n",
       "    }\n",
       "\n",
       "    .dataframe tbody tr th {\n",
       "        vertical-align: top;\n",
       "    }\n",
       "\n",
       "    .dataframe thead th {\n",
       "        text-align: right;\n",
       "    }\n",
       "</style>\n",
       "<table border=\"1\" class=\"dataframe\">\n",
       "  <thead>\n",
       "    <tr style=\"text-align: right;\">\n",
       "      <th></th>\n",
       "      <th>index</th>\n",
       "      <th>user_id</th>\n",
       "      <th>duration_sum</th>\n",
       "      <th>duration_count</th>\n",
       "      <th>messages_count</th>\n",
       "      <th>gb</th>\n",
       "      <th>age</th>\n",
       "      <th>churn_date</th>\n",
       "      <th>city</th>\n",
       "      <th>reg_date</th>\n",
       "      <th>tariff</th>\n",
       "      <th>month</th>\n",
       "      <th>full_name</th>\n",
       "    </tr>\n",
       "  </thead>\n",
       "  <tbody>\n",
       "    <tr>\n",
       "      <th>0</th>\n",
       "      <td>0</td>\n",
       "      <td>1000</td>\n",
       "      <td>159.0</td>\n",
       "      <td>22.0</td>\n",
       "      <td>22.0</td>\n",
       "      <td>3.0</td>\n",
       "      <td>52</td>\n",
       "      <td>NaN</td>\n",
       "      <td>Краснодар</td>\n",
       "      <td>2018-05-25</td>\n",
       "      <td>ultra</td>\n",
       "      <td>5</td>\n",
       "      <td>Рафаил Верещагин</td>\n",
       "    </tr>\n",
       "    <tr>\n",
       "      <th>1</th>\n",
       "      <td>1</td>\n",
       "      <td>1000</td>\n",
       "      <td>172.0</td>\n",
       "      <td>43.0</td>\n",
       "      <td>60.0</td>\n",
       "      <td>23.0</td>\n",
       "      <td>52</td>\n",
       "      <td>NaN</td>\n",
       "      <td>Краснодар</td>\n",
       "      <td>2018-05-25</td>\n",
       "      <td>ultra</td>\n",
       "      <td>5</td>\n",
       "      <td>Рафаил Верещагин</td>\n",
       "    </tr>\n",
       "    <tr>\n",
       "      <th>2</th>\n",
       "      <td>2</td>\n",
       "      <td>1000</td>\n",
       "      <td>340.0</td>\n",
       "      <td>47.0</td>\n",
       "      <td>75.0</td>\n",
       "      <td>14.0</td>\n",
       "      <td>52</td>\n",
       "      <td>NaN</td>\n",
       "      <td>Краснодар</td>\n",
       "      <td>2018-05-25</td>\n",
       "      <td>ultra</td>\n",
       "      <td>5</td>\n",
       "      <td>Рафаил Верещагин</td>\n",
       "    </tr>\n",
       "    <tr>\n",
       "      <th>3</th>\n",
       "      <td>3</td>\n",
       "      <td>1000</td>\n",
       "      <td>408.0</td>\n",
       "      <td>52.0</td>\n",
       "      <td>81.0</td>\n",
       "      <td>14.0</td>\n",
       "      <td>52</td>\n",
       "      <td>NaN</td>\n",
       "      <td>Краснодар</td>\n",
       "      <td>2018-05-25</td>\n",
       "      <td>ultra</td>\n",
       "      <td>5</td>\n",
       "      <td>Рафаил Верещагин</td>\n",
       "    </tr>\n",
       "    <tr>\n",
       "      <th>4</th>\n",
       "      <td>4</td>\n",
       "      <td>1000</td>\n",
       "      <td>466.0</td>\n",
       "      <td>58.0</td>\n",
       "      <td>57.0</td>\n",
       "      <td>15.0</td>\n",
       "      <td>52</td>\n",
       "      <td>NaN</td>\n",
       "      <td>Краснодар</td>\n",
       "      <td>2018-05-25</td>\n",
       "      <td>ultra</td>\n",
       "      <td>5</td>\n",
       "      <td>Рафаил Верещагин</td>\n",
       "    </tr>\n",
       "    <tr>\n",
       "      <th>...</th>\n",
       "      <td>...</td>\n",
       "      <td>...</td>\n",
       "      <td>...</td>\n",
       "      <td>...</td>\n",
       "      <td>...</td>\n",
       "      <td>...</td>\n",
       "      <td>...</td>\n",
       "      <td>...</td>\n",
       "      <td>...</td>\n",
       "      <td>...</td>\n",
       "      <td>...</td>\n",
       "      <td>...</td>\n",
       "      <td>...</td>\n",
       "    </tr>\n",
       "    <tr>\n",
       "      <th>3211</th>\n",
       "      <td>3211</td>\n",
       "      <td>1489</td>\n",
       "      <td>NaN</td>\n",
       "      <td>NaN</td>\n",
       "      <td>21.0</td>\n",
       "      <td>20.0</td>\n",
       "      <td>35</td>\n",
       "      <td>NaN</td>\n",
       "      <td>Санкт-Петербург</td>\n",
       "      <td>2018-08-15</td>\n",
       "      <td>smart</td>\n",
       "      <td>8</td>\n",
       "      <td>Павел Гончаров</td>\n",
       "    </tr>\n",
       "    <tr>\n",
       "      <th>3212</th>\n",
       "      <td>3212</td>\n",
       "      <td>1489</td>\n",
       "      <td>NaN</td>\n",
       "      <td>NaN</td>\n",
       "      <td>20.0</td>\n",
       "      <td>18.0</td>\n",
       "      <td>35</td>\n",
       "      <td>NaN</td>\n",
       "      <td>Санкт-Петербург</td>\n",
       "      <td>2018-08-15</td>\n",
       "      <td>smart</td>\n",
       "      <td>8</td>\n",
       "      <td>Павел Гончаров</td>\n",
       "    </tr>\n",
       "    <tr>\n",
       "      <th>3213</th>\n",
       "      <td>3213</td>\n",
       "      <td>1489</td>\n",
       "      <td>NaN</td>\n",
       "      <td>NaN</td>\n",
       "      <td>35.0</td>\n",
       "      <td>17.0</td>\n",
       "      <td>35</td>\n",
       "      <td>NaN</td>\n",
       "      <td>Санкт-Петербург</td>\n",
       "      <td>2018-08-15</td>\n",
       "      <td>smart</td>\n",
       "      <td>8</td>\n",
       "      <td>Павел Гончаров</td>\n",
       "    </tr>\n",
       "    <tr>\n",
       "      <th>3214</th>\n",
       "      <td>3214</td>\n",
       "      <td>1128</td>\n",
       "      <td>NaN</td>\n",
       "      <td>NaN</td>\n",
       "      <td>NaN</td>\n",
       "      <td>NaN</td>\n",
       "      <td>51</td>\n",
       "      <td>2018-12-23</td>\n",
       "      <td>Волжский</td>\n",
       "      <td>2018-12-15</td>\n",
       "      <td>ultra</td>\n",
       "      <td>12</td>\n",
       "      <td>Ксения Агаева</td>\n",
       "    </tr>\n",
       "    <tr>\n",
       "      <th>3215</th>\n",
       "      <td>3215</td>\n",
       "      <td>1371</td>\n",
       "      <td>NaN</td>\n",
       "      <td>NaN</td>\n",
       "      <td>NaN</td>\n",
       "      <td>NaN</td>\n",
       "      <td>50</td>\n",
       "      <td>2018-12-30</td>\n",
       "      <td>Омск</td>\n",
       "      <td>2018-12-25</td>\n",
       "      <td>smart</td>\n",
       "      <td>12</td>\n",
       "      <td>Ириней Трофимов</td>\n",
       "    </tr>\n",
       "  </tbody>\n",
       "</table>\n",
       "<p>3216 rows × 13 columns</p>\n",
       "</div>"
      ],
      "text/plain": [
       "      index  user_id  duration_sum  duration_count  messages_count    gb  age  \\\n",
       "0         0     1000         159.0            22.0            22.0   3.0   52   \n",
       "1         1     1000         172.0            43.0            60.0  23.0   52   \n",
       "2         2     1000         340.0            47.0            75.0  14.0   52   \n",
       "3         3     1000         408.0            52.0            81.0  14.0   52   \n",
       "4         4     1000         466.0            58.0            57.0  15.0   52   \n",
       "...     ...      ...           ...             ...             ...   ...  ...   \n",
       "3211   3211     1489           NaN             NaN            21.0  20.0   35   \n",
       "3212   3212     1489           NaN             NaN            20.0  18.0   35   \n",
       "3213   3213     1489           NaN             NaN            35.0  17.0   35   \n",
       "3214   3214     1128           NaN             NaN             NaN   NaN   51   \n",
       "3215   3215     1371           NaN             NaN             NaN   NaN   50   \n",
       "\n",
       "      churn_date             city   reg_date tariff  month         full_name  \n",
       "0            NaN        Краснодар 2018-05-25  ultra      5  Рафаил Верещагин  \n",
       "1            NaN        Краснодар 2018-05-25  ultra      5  Рафаил Верещагин  \n",
       "2            NaN        Краснодар 2018-05-25  ultra      5  Рафаил Верещагин  \n",
       "3            NaN        Краснодар 2018-05-25  ultra      5  Рафаил Верещагин  \n",
       "4            NaN        Краснодар 2018-05-25  ultra      5  Рафаил Верещагин  \n",
       "...          ...              ...        ...    ...    ...               ...  \n",
       "3211         NaN  Санкт-Петербург 2018-08-15  smart      8    Павел Гончаров  \n",
       "3212         NaN  Санкт-Петербург 2018-08-15  smart      8    Павел Гончаров  \n",
       "3213         NaN  Санкт-Петербург 2018-08-15  smart      8    Павел Гончаров  \n",
       "3214  2018-12-23         Волжский 2018-12-15  ultra     12     Ксения Агаева  \n",
       "3215  2018-12-30             Омск 2018-12-25  smart     12   Ириней Трофимов  \n",
       "\n",
       "[3216 rows x 13 columns]"
      ]
     },
     "execution_count": 34,
     "metadata": {},
     "output_type": "execute_result"
    }
   ],
   "source": [
    "df = pd.merge(calls_all,messages_all,how='outer',on=['user_id','month'])\n",
    "df = pd.merge(df,internet_all,how='outer',on=['user_id','month'])\n",
    "df = pd.merge(df,users,how='outer',on=['user_id']).reset_index()\n",
    "df"
   ]
  },
  {
   "cell_type": "markdown",
   "metadata": {},
   "source": [
    "Появились пропущеные значения в сообщения и в других, видимо в связи с тем что не все пользуются или интернетом или не все отправляют сообщения. Это моё предположение. Заполним 0 значением. Пригодится для дальнейших вычеслений."
   ]
  },
  {
   "cell_type": "code",
   "execution_count": 35,
   "metadata": {},
   "outputs": [
    {
     "data": {
      "text/html": [
       "<div>\n",
       "<style scoped>\n",
       "    .dataframe tbody tr th:only-of-type {\n",
       "        vertical-align: middle;\n",
       "    }\n",
       "\n",
       "    .dataframe tbody tr th {\n",
       "        vertical-align: top;\n",
       "    }\n",
       "\n",
       "    .dataframe thead th {\n",
       "        text-align: right;\n",
       "    }\n",
       "</style>\n",
       "<table border=\"1\" class=\"dataframe\">\n",
       "  <thead>\n",
       "    <tr style=\"text-align: right;\">\n",
       "      <th></th>\n",
       "      <th>index</th>\n",
       "      <th>user_id</th>\n",
       "      <th>duration_sum</th>\n",
       "      <th>duration_count</th>\n",
       "      <th>messages_count</th>\n",
       "      <th>gb</th>\n",
       "      <th>age</th>\n",
       "      <th>churn_date</th>\n",
       "      <th>city</th>\n",
       "      <th>reg_date</th>\n",
       "      <th>tariff</th>\n",
       "      <th>month</th>\n",
       "      <th>full_name</th>\n",
       "    </tr>\n",
       "  </thead>\n",
       "  <tbody>\n",
       "    <tr>\n",
       "      <th>0</th>\n",
       "      <td>0</td>\n",
       "      <td>1000</td>\n",
       "      <td>159</td>\n",
       "      <td>22</td>\n",
       "      <td>22.0</td>\n",
       "      <td>3.0</td>\n",
       "      <td>52</td>\n",
       "      <td>NaN</td>\n",
       "      <td>Краснодар</td>\n",
       "      <td>2018-05-25</td>\n",
       "      <td>ultra</td>\n",
       "      <td>5</td>\n",
       "      <td>Рафаил Верещагин</td>\n",
       "    </tr>\n",
       "    <tr>\n",
       "      <th>1</th>\n",
       "      <td>1</td>\n",
       "      <td>1000</td>\n",
       "      <td>172</td>\n",
       "      <td>43</td>\n",
       "      <td>60.0</td>\n",
       "      <td>23.0</td>\n",
       "      <td>52</td>\n",
       "      <td>NaN</td>\n",
       "      <td>Краснодар</td>\n",
       "      <td>2018-05-25</td>\n",
       "      <td>ultra</td>\n",
       "      <td>5</td>\n",
       "      <td>Рафаил Верещагин</td>\n",
       "    </tr>\n",
       "    <tr>\n",
       "      <th>2</th>\n",
       "      <td>2</td>\n",
       "      <td>1000</td>\n",
       "      <td>340</td>\n",
       "      <td>47</td>\n",
       "      <td>75.0</td>\n",
       "      <td>14.0</td>\n",
       "      <td>52</td>\n",
       "      <td>NaN</td>\n",
       "      <td>Краснодар</td>\n",
       "      <td>2018-05-25</td>\n",
       "      <td>ultra</td>\n",
       "      <td>5</td>\n",
       "      <td>Рафаил Верещагин</td>\n",
       "    </tr>\n",
       "    <tr>\n",
       "      <th>3</th>\n",
       "      <td>3</td>\n",
       "      <td>1000</td>\n",
       "      <td>408</td>\n",
       "      <td>52</td>\n",
       "      <td>81.0</td>\n",
       "      <td>14.0</td>\n",
       "      <td>52</td>\n",
       "      <td>NaN</td>\n",
       "      <td>Краснодар</td>\n",
       "      <td>2018-05-25</td>\n",
       "      <td>ultra</td>\n",
       "      <td>5</td>\n",
       "      <td>Рафаил Верещагин</td>\n",
       "    </tr>\n",
       "    <tr>\n",
       "      <th>4</th>\n",
       "      <td>4</td>\n",
       "      <td>1000</td>\n",
       "      <td>466</td>\n",
       "      <td>58</td>\n",
       "      <td>57.0</td>\n",
       "      <td>15.0</td>\n",
       "      <td>52</td>\n",
       "      <td>NaN</td>\n",
       "      <td>Краснодар</td>\n",
       "      <td>2018-05-25</td>\n",
       "      <td>ultra</td>\n",
       "      <td>5</td>\n",
       "      <td>Рафаил Верещагин</td>\n",
       "    </tr>\n",
       "    <tr>\n",
       "      <th>...</th>\n",
       "      <td>...</td>\n",
       "      <td>...</td>\n",
       "      <td>...</td>\n",
       "      <td>...</td>\n",
       "      <td>...</td>\n",
       "      <td>...</td>\n",
       "      <td>...</td>\n",
       "      <td>...</td>\n",
       "      <td>...</td>\n",
       "      <td>...</td>\n",
       "      <td>...</td>\n",
       "      <td>...</td>\n",
       "      <td>...</td>\n",
       "    </tr>\n",
       "    <tr>\n",
       "      <th>3211</th>\n",
       "      <td>3211</td>\n",
       "      <td>1489</td>\n",
       "      <td>0</td>\n",
       "      <td>0</td>\n",
       "      <td>21.0</td>\n",
       "      <td>20.0</td>\n",
       "      <td>35</td>\n",
       "      <td>NaN</td>\n",
       "      <td>Санкт-Петербург</td>\n",
       "      <td>2018-08-15</td>\n",
       "      <td>smart</td>\n",
       "      <td>8</td>\n",
       "      <td>Павел Гончаров</td>\n",
       "    </tr>\n",
       "    <tr>\n",
       "      <th>3212</th>\n",
       "      <td>3212</td>\n",
       "      <td>1489</td>\n",
       "      <td>0</td>\n",
       "      <td>0</td>\n",
       "      <td>20.0</td>\n",
       "      <td>18.0</td>\n",
       "      <td>35</td>\n",
       "      <td>NaN</td>\n",
       "      <td>Санкт-Петербург</td>\n",
       "      <td>2018-08-15</td>\n",
       "      <td>smart</td>\n",
       "      <td>8</td>\n",
       "      <td>Павел Гончаров</td>\n",
       "    </tr>\n",
       "    <tr>\n",
       "      <th>3213</th>\n",
       "      <td>3213</td>\n",
       "      <td>1489</td>\n",
       "      <td>0</td>\n",
       "      <td>0</td>\n",
       "      <td>35.0</td>\n",
       "      <td>17.0</td>\n",
       "      <td>35</td>\n",
       "      <td>NaN</td>\n",
       "      <td>Санкт-Петербург</td>\n",
       "      <td>2018-08-15</td>\n",
       "      <td>smart</td>\n",
       "      <td>8</td>\n",
       "      <td>Павел Гончаров</td>\n",
       "    </tr>\n",
       "    <tr>\n",
       "      <th>3214</th>\n",
       "      <td>3214</td>\n",
       "      <td>1128</td>\n",
       "      <td>0</td>\n",
       "      <td>0</td>\n",
       "      <td>0.0</td>\n",
       "      <td>0.0</td>\n",
       "      <td>51</td>\n",
       "      <td>2018-12-23</td>\n",
       "      <td>Волжский</td>\n",
       "      <td>2018-12-15</td>\n",
       "      <td>ultra</td>\n",
       "      <td>12</td>\n",
       "      <td>Ксения Агаева</td>\n",
       "    </tr>\n",
       "    <tr>\n",
       "      <th>3215</th>\n",
       "      <td>3215</td>\n",
       "      <td>1371</td>\n",
       "      <td>0</td>\n",
       "      <td>0</td>\n",
       "      <td>0.0</td>\n",
       "      <td>0.0</td>\n",
       "      <td>50</td>\n",
       "      <td>2018-12-30</td>\n",
       "      <td>Омск</td>\n",
       "      <td>2018-12-25</td>\n",
       "      <td>smart</td>\n",
       "      <td>12</td>\n",
       "      <td>Ириней Трофимов</td>\n",
       "    </tr>\n",
       "  </tbody>\n",
       "</table>\n",
       "<p>3216 rows × 13 columns</p>\n",
       "</div>"
      ],
      "text/plain": [
       "      index  user_id  duration_sum  duration_count  messages_count    gb  age  \\\n",
       "0         0     1000           159              22            22.0   3.0   52   \n",
       "1         1     1000           172              43            60.0  23.0   52   \n",
       "2         2     1000           340              47            75.0  14.0   52   \n",
       "3         3     1000           408              52            81.0  14.0   52   \n",
       "4         4     1000           466              58            57.0  15.0   52   \n",
       "...     ...      ...           ...             ...             ...   ...  ...   \n",
       "3211   3211     1489             0               0            21.0  20.0   35   \n",
       "3212   3212     1489             0               0            20.0  18.0   35   \n",
       "3213   3213     1489             0               0            35.0  17.0   35   \n",
       "3214   3214     1128             0               0             0.0   0.0   51   \n",
       "3215   3215     1371             0               0             0.0   0.0   50   \n",
       "\n",
       "      churn_date             city   reg_date tariff  month         full_name  \n",
       "0            NaN        Краснодар 2018-05-25  ultra      5  Рафаил Верещагин  \n",
       "1            NaN        Краснодар 2018-05-25  ultra      5  Рафаил Верещагин  \n",
       "2            NaN        Краснодар 2018-05-25  ultra      5  Рафаил Верещагин  \n",
       "3            NaN        Краснодар 2018-05-25  ultra      5  Рафаил Верещагин  \n",
       "4            NaN        Краснодар 2018-05-25  ultra      5  Рафаил Верещагин  \n",
       "...          ...              ...        ...    ...    ...               ...  \n",
       "3211         NaN  Санкт-Петербург 2018-08-15  smart      8    Павел Гончаров  \n",
       "3212         NaN  Санкт-Петербург 2018-08-15  smart      8    Павел Гончаров  \n",
       "3213         NaN  Санкт-Петербург 2018-08-15  smart      8    Павел Гончаров  \n",
       "3214  2018-12-23         Волжский 2018-12-15  ultra     12     Ксения Агаева  \n",
       "3215  2018-12-30             Омск 2018-12-25  smart     12   Ириней Трофимов  \n",
       "\n",
       "[3216 rows x 13 columns]"
      ]
     },
     "execution_count": 35,
     "metadata": {},
     "output_type": "execute_result"
    }
   ],
   "source": [
    "df['duration_sum'] = df['duration_sum'].fillna(0).astype(int)\n",
    "df['duration_count'] = df['duration_count'].fillna(0).astype(int)\n",
    "df['messages_count'] = df['messages_count'].fillna(0)\n",
    "df['gb'] = df['gb'].fillna(0).round(0)\n",
    "df"
   ]
  },
  {
   "cell_type": "markdown",
   "metadata": {},
   "source": [
    "**Формула для выручки компании «Мегалайн»**"
   ]
  },
  {
   "cell_type": "code",
   "execution_count": 36,
   "metadata": {},
   "outputs": [],
   "source": [
    "def profit_calc(row):\n",
    "    if row['tariff'] == 'ultra':\n",
    "        tariff = ultra\n",
    "    elif row['tariff'] == 'smart':\n",
    "        tariff = smart\n",
    "    profit = (tariff['rub_monthly_fee'] + tariff['rub_per_minute'] * np.maximum(0, (row['duration_sum'] - tariff['minutes_included']))\n",
    "              + tariff['rub_per_message'] * np.maximum(0, (row['messages_count'] - tariff['messages_included']))\n",
    "              + tariff['rub_per_gb'] * np.maximum(0, (row['gb'] - tariff['mb_per_month_included'] / 1024))\n",
    "             )\n",
    "    return profit\n",
    "ultra = tariff[tariff['tariff_name'] == 'ultra'].reset_index()\n",
    "smart = tariff[tariff['tariff_name'] == 'smart'].reset_index()"
   ]
  },
  {
   "cell_type": "code",
   "execution_count": 37,
   "metadata": {},
   "outputs": [],
   "source": [
    "df['profit'] = df.apply(profit_calc, axis=1)"
   ]
  },
  {
   "cell_type": "markdown",
   "metadata": {},
   "source": [
    "так же удалю столбец churn_date не пригодится в расчётах"
   ]
  },
  {
   "cell_type": "code",
   "execution_count": 38,
   "metadata": {
    "scrolled": true
   },
   "outputs": [],
   "source": [
    "df = df.drop([\"churn_date\"],axis=1)"
   ]
  },
  {
   "cell_type": "markdown",
   "metadata": {},
   "source": [
    "## Проанализируйте данные\n",
    "Опишите поведение клиентов оператора, исходя из выборки. Сколько минут разговора, сколько сообщений и какой объём интернет-трафика требуется пользователям каждого тарифа в месяц? Посчитайте среднее количество, дисперсию и стандартное отклонение. Постройте гистограммы. Опишите распределения."
   ]
  },
  {
   "cell_type": "markdown",
   "metadata": {},
   "source": [
    "создам отдельно ДФку для отдельных тарифных планов"
   ]
  },
  {
   "cell_type": "code",
   "execution_count": 39,
   "metadata": {},
   "outputs": [],
   "source": [
    "df_tariff_ultra = df[df['tariff'] == 'ultra']\n",
    "df_tariff_smart = df[df['tariff'] == 'smart']"
   ]
  },
  {
   "cell_type": "code",
   "execution_count": 40,
   "metadata": {},
   "outputs": [
    {
     "data": {
      "text/html": [
       "<div>\n",
       "<style scoped>\n",
       "    .dataframe tbody tr th:only-of-type {\n",
       "        vertical-align: middle;\n",
       "    }\n",
       "\n",
       "    .dataframe tbody tr th {\n",
       "        vertical-align: top;\n",
       "    }\n",
       "\n",
       "    .dataframe thead th {\n",
       "        text-align: right;\n",
       "    }\n",
       "</style>\n",
       "<table border=\"1\" class=\"dataframe\">\n",
       "  <thead>\n",
       "    <tr style=\"text-align: right;\">\n",
       "      <th></th>\n",
       "      <th>index</th>\n",
       "      <th>user_id</th>\n",
       "      <th>duration_sum</th>\n",
       "      <th>duration_count</th>\n",
       "      <th>messages_count</th>\n",
       "      <th>gb</th>\n",
       "      <th>age</th>\n",
       "      <th>city</th>\n",
       "      <th>reg_date</th>\n",
       "      <th>tariff</th>\n",
       "      <th>month</th>\n",
       "      <th>full_name</th>\n",
       "      <th>profit</th>\n",
       "    </tr>\n",
       "  </thead>\n",
       "  <tbody>\n",
       "    <tr>\n",
       "      <th>0</th>\n",
       "      <td>0</td>\n",
       "      <td>1000</td>\n",
       "      <td>159</td>\n",
       "      <td>22</td>\n",
       "      <td>22.0</td>\n",
       "      <td>3.0</td>\n",
       "      <td>52</td>\n",
       "      <td>Краснодар</td>\n",
       "      <td>2018-05-25</td>\n",
       "      <td>ultra</td>\n",
       "      <td>5</td>\n",
       "      <td>Рафаил Верещагин</td>\n",
       "      <td>1950.0</td>\n",
       "    </tr>\n",
       "    <tr>\n",
       "      <th>1</th>\n",
       "      <td>1</td>\n",
       "      <td>1000</td>\n",
       "      <td>172</td>\n",
       "      <td>43</td>\n",
       "      <td>60.0</td>\n",
       "      <td>23.0</td>\n",
       "      <td>52</td>\n",
       "      <td>Краснодар</td>\n",
       "      <td>2018-05-25</td>\n",
       "      <td>ultra</td>\n",
       "      <td>5</td>\n",
       "      <td>Рафаил Верещагин</td>\n",
       "      <td>1950.0</td>\n",
       "    </tr>\n",
       "    <tr>\n",
       "      <th>2</th>\n",
       "      <td>2</td>\n",
       "      <td>1000</td>\n",
       "      <td>340</td>\n",
       "      <td>47</td>\n",
       "      <td>75.0</td>\n",
       "      <td>14.0</td>\n",
       "      <td>52</td>\n",
       "      <td>Краснодар</td>\n",
       "      <td>2018-05-25</td>\n",
       "      <td>ultra</td>\n",
       "      <td>5</td>\n",
       "      <td>Рафаил Верещагин</td>\n",
       "      <td>1950.0</td>\n",
       "    </tr>\n",
       "    <tr>\n",
       "      <th>3</th>\n",
       "      <td>3</td>\n",
       "      <td>1000</td>\n",
       "      <td>408</td>\n",
       "      <td>52</td>\n",
       "      <td>81.0</td>\n",
       "      <td>14.0</td>\n",
       "      <td>52</td>\n",
       "      <td>Краснодар</td>\n",
       "      <td>2018-05-25</td>\n",
       "      <td>ultra</td>\n",
       "      <td>5</td>\n",
       "      <td>Рафаил Верещагин</td>\n",
       "      <td>1950.0</td>\n",
       "    </tr>\n",
       "    <tr>\n",
       "      <th>4</th>\n",
       "      <td>4</td>\n",
       "      <td>1000</td>\n",
       "      <td>466</td>\n",
       "      <td>58</td>\n",
       "      <td>57.0</td>\n",
       "      <td>15.0</td>\n",
       "      <td>52</td>\n",
       "      <td>Краснодар</td>\n",
       "      <td>2018-05-25</td>\n",
       "      <td>ultra</td>\n",
       "      <td>5</td>\n",
       "      <td>Рафаил Верещагин</td>\n",
       "      <td>1950.0</td>\n",
       "    </tr>\n",
       "  </tbody>\n",
       "</table>\n",
       "</div>"
      ],
      "text/plain": [
       "   index  user_id  duration_sum  duration_count  messages_count    gb  age  \\\n",
       "0      0     1000           159              22            22.0   3.0   52   \n",
       "1      1     1000           172              43            60.0  23.0   52   \n",
       "2      2     1000           340              47            75.0  14.0   52   \n",
       "3      3     1000           408              52            81.0  14.0   52   \n",
       "4      4     1000           466              58            57.0  15.0   52   \n",
       "\n",
       "        city   reg_date tariff  month         full_name  profit  \n",
       "0  Краснодар 2018-05-25  ultra      5  Рафаил Верещагин  1950.0  \n",
       "1  Краснодар 2018-05-25  ultra      5  Рафаил Верещагин  1950.0  \n",
       "2  Краснодар 2018-05-25  ultra      5  Рафаил Верещагин  1950.0  \n",
       "3  Краснодар 2018-05-25  ultra      5  Рафаил Верещагин  1950.0  \n",
       "4  Краснодар 2018-05-25  ultra      5  Рафаил Верещагин  1950.0  "
      ]
     },
     "execution_count": 40,
     "metadata": {},
     "output_type": "execute_result"
    }
   ],
   "source": [
    "df.head(5)"
   ]
  },
  {
   "cell_type": "code",
   "execution_count": 41,
   "metadata": {
    "scrolled": true
   },
   "outputs": [
    {
     "data": {
      "text/plain": [
       "Text(0.5, 1.0, 'Сравнение звонков тарифов')"
      ]
     },
     "execution_count": 41,
     "metadata": {},
     "output_type": "execute_result"
    },
    {
     "data": {
      "image/png": "[encoded data removed]",
      "text/plain": [
       "<Figure size 432x288 with 1 Axes>"
      ]
     },
     "metadata": {
      "needs_background": "light"
     },
     "output_type": "display_data"
    }
   ],
   "source": [
    "df_tariff_ultra['duration_count'].hist(bins=10, alpha=0.5)\n",
    "df_tariff_smart['duration_count'].hist(bins=10, alpha=0.7).set_title('Сравнение звонков тарифов')"
   ]
  },
  {
   "cell_type": "markdown",
   "metadata": {},
   "source": [
    "**Тут мы можем заметить что в тарифе смарт меньше звонят чем тарифе в ультра.**"
   ]
  },
  {
   "cell_type": "code",
   "execution_count": 42,
   "metadata": {},
   "outputs": [
    {
     "data": {
      "text/plain": [
       "Text(0.5, 1.0, 'Сравнение Гигов тарифов')"
      ]
     },
     "execution_count": 42,
     "metadata": {},
     "output_type": "execute_result"
    },
    {
     "data": {
      "image/png": "[encoded data removed]",
      "text/plain": [
       "<Figure size 432x288 with 1 Axes>"
      ]
     },
     "metadata": {
      "needs_background": "light"
     },
     "output_type": "display_data"
    }
   ],
   "source": [
    "df_tariff_ultra['gb'].hist(bins=10, alpha=0.5)\n",
    "df_tariff_smart['gb'].hist(bins=10, alpha=0.7).set_title('Сравнение Гигов тарифов')"
   ]
  },
  {
   "cell_type": "markdown",
   "metadata": {},
   "source": [
    "**Гигабайт использует соответственно больше так же люди с тарифом ультра.**"
   ]
  },
  {
   "cell_type": "code",
   "execution_count": 43,
   "metadata": {
    "scrolled": true
   },
   "outputs": [
    {
     "data": {
      "text/plain": [
       "Text(0.5, 1.0, 'Сравнение сообщений тарифов')"
      ]
     },
     "execution_count": 43,
     "metadata": {},
     "output_type": "execute_result"
    },
    {
     "data": {
      "image/png": "[encoded data removed]",
      "text/plain": [
       "<Figure size 432x288 with 1 Axes>"
      ]
     },
     "metadata": {
      "needs_background": "light"
     },
     "output_type": "display_data"
    }
   ],
   "source": [
    "df_tariff_ultra['messages_count'].hist(bins=10, alpha=0.5)\n",
    "df_tariff_smart['messages_count'].hist(bins=10,histtype='bar', alpha=0.7).set_title('Сравнение сообщений тарифов')"
   ]
  },
  {
   "cell_type": "markdown",
   "metadata": {},
   "source": [
    "**Проанализиров данные мы видим что данный тарифный план ультра превосходит тарифный план смарт по количеству звонков/интернет трафика/сообщений.**"
   ]
  },
  {
   "cell_type": "code",
   "execution_count": 44,
   "metadata": {
    "scrolled": false
   },
   "outputs": [
    {
     "name": "stdout",
     "output_type": "stream",
     "text": [
      "Количество переплат по тарифу смарт: 1662\n",
      "Сумма переплат по тарифу смарт: 2563501.0\n"
     ]
    },
    {
     "data": {
      "text/plain": [
       "Text(0.5, 1.0, 'Переплата по тарифу смарт')"
      ]
     },
     "execution_count": 44,
     "metadata": {},
     "output_type": "execute_result"
    },
    {
     "data": {
      "image/png": "[encoded data removed]",
      "text/plain": [
       "<Figure size 432x288 with 1 Axes>"
      ]
     },
     "metadata": {
      "needs_background": "light"
     },
     "output_type": "display_data"
    }
   ],
   "source": [
    "print('Количество переплат по тарифу смарт:',df_tariff_smart['profit'][df_tariff_smart['profit'] > 550].count())\n",
    "print('Сумма переплат по тарифу смарт:',df_tariff_smart['profit'][df_tariff_smart['profit'] > 550].sum())\n",
    "df_tariff_smart['profit'][df_tariff_smart['profit'] > 550].hist(bins=10).set_title('Переплата по тарифу смарт')"
   ]
  },
  {
   "cell_type": "code",
   "execution_count": 45,
   "metadata": {},
   "outputs": [
    {
     "name": "stdout",
     "output_type": "stream",
     "text": [
      "Количество  переплат по тарифу ультра: 134\n",
      "Сумма переплат по тарифу ультра: 379650.0\n"
     ]
    },
    {
     "data": {
      "text/plain": [
       "Text(0.5, 1.0, 'Переплата по тарифу смарт')"
      ]
     },
     "execution_count": 45,
     "metadata": {},
     "output_type": "execute_result"
    },
    {
     "data": {
      "image/png": "[encoded data removed]",
      "text/plain": [
       "<Figure size 432x288 with 1 Axes>"
      ]
     },
     "metadata": {
      "needs_background": "light"
     },
     "output_type": "display_data"
    }
   ],
   "source": [
    "print('Количество  переплат по тарифу ультра:',df_tariff_ultra['profit'][df_tariff_ultra['profit'] > 1950].count())\n",
    "print('Сумма переплат по тарифу ультра:',df_tariff_ultra['profit'][df_tariff_ultra['profit'] > 1950].sum())\n",
    "df_tariff_ultra['profit'][df_tariff_ultra['profit'] > 1950].hist(bins=15).set_title('Переплата по тарифу смарт')"
   ]
  },
  {
   "cell_type": "code",
   "execution_count": 46,
   "metadata": {},
   "outputs": [
    {
     "data": {
      "text/plain": [
       "2183851.0"
      ]
     },
     "execution_count": 46,
     "metadata": {},
     "output_type": "execute_result"
    }
   ],
   "source": [
    "df_diffrent = (df_tariff_smart['profit'][df_tariff_smart['profit'] > 550].sum()) - (df_tariff_ultra['profit'][df_tariff_ultra['profit'] > 1950].sum())\n",
    "df_diffrent"
   ]
  },
  {
   "cell_type": "markdown",
   "metadata": {},
   "source": [
    "**Мы видим что чаще переплачивают по тарифу смарт чем ультра! Разница переплат составляет аж 2183851 р.**"
   ]
  },
  {
   "cell_type": "code",
   "execution_count": 47,
   "metadata": {},
   "outputs": [
    {
     "name": "stdout",
     "output_type": "stream",
     "text": [
      "Дисперсия по звонкам тарифа смарт: 673.8048030324358\n",
      "Дисперсия по звонкам тарифа ультра: 1930.2352982320435\n",
      " \n",
      "Дисперсия по интернет трафику тарифа смарт: 33.11859498481772\n",
      "Дисперсия по интернет трафику тарифа ультра: 97.27978308900676\n",
      " \n",
      "Дисперсия по сообщениям тарифа смарт: 796.5978766916688\n",
      "Дисперсия по сообщениям тарифа ультра: 2283.0995570851965\n"
     ]
    }
   ],
   "source": [
    "print(f'Дисперсия по звонкам тарифа смарт: {np.var(df_tariff_smart.duration_count)}')\n",
    "print(f'Дисперсия по звонкам тарифа ультра: {np.var(df_tariff_ultra.duration_count)}')\n",
    "print(' ')\n",
    "print(f'Дисперсия по интернет трафику тарифа смарт: {np.var(df_tariff_smart.gb)}')\n",
    "print(f'Дисперсия по интернет трафику тарифа ультра: {np.var(df_tariff_ultra.gb)}')\n",
    "\n",
    "print(' ')\n",
    "print(f'Дисперсия по сообщениям тарифа смарт: {np.var(df_tariff_smart.messages_count)}')\n",
    "print(f'Дисперсия по сообщениям тарифа ультра: {np.var(df_tariff_ultra.messages_count)}')"
   ]
  },
  {
   "cell_type": "markdown",
   "metadata": {},
   "source": [
    "По дисперсию можно сказать что наша выборка имеет большой разброс от  среднего значения. Помотрим на среднее отклонение."
   ]
  },
  {
   "cell_type": "code",
   "execution_count": 48,
   "metadata": {},
   "outputs": [
    {
     "name": "stdout",
     "output_type": "stream",
     "text": [
      "Тариф ультра\n",
      " \n",
      "Стандартное отклонение по звонкам тарифа ультра: 43.934443187914006\n",
      "Стандартное отклонение по звонкам тарифа смарт: 25.95775034613816\n",
      " \n",
      "Стандартное отклонение по интернет трафику тарифа ультра: 9.863051408616238\n",
      "Cтандартное отклонение по интернет трафику тарифа смарт: 5.754875757548352\n",
      " \n",
      "Стандартное отклонение по сообщениям тарифа ультра: 47.781791061922284\n",
      "Стандартное отклонение по сообщениям тарифа смарт: 28.224065559229217\n"
     ]
    }
   ],
   "source": [
    "print('Тариф ультра')\n",
    "print(' ')\n",
    "print(f'Стандартное отклонение по звонкам тарифа ультра: {np.std(df_tariff_ultra.duration_count)}')\n",
    "print(f'Стандартное отклонение по звонкам тарифа смарт: {np.std(df_tariff_smart.duration_count)}')\n",
    "print(' ')\n",
    "print(f'Стандартное отклонение по интернет трафику тарифа ультра: {np.std(df_tariff_ultra.gb)}')\n",
    "print(f'Cтандартное отклонение по интернет трафику тарифа смарт: {np.std(df_tariff_smart.gb)}')\n",
    "print(' ')\n",
    "print(f'Стандартное отклонение по сообщениям тарифа ультра: {np.std(df_tariff_ultra.messages_count)}')\n",
    "print(f'Стандартное отклонение по сообщениям тарифа смарт: {np.std(df_tariff_smart.messages_count)}')"
   ]
  },
  {
   "cell_type": "markdown",
   "metadata": {},
   "source": [
    "Стандартное отклонение лучше ,но также высока. И так же посмотрим на среднее значение"
   ]
  },
  {
   "cell_type": "code",
   "execution_count": 49,
   "metadata": {
    "scrolled": true
   },
   "outputs": [
    {
     "name": "stdout",
     "output_type": "stream",
     "text": [
      "Среднее значение по звонкам тарифа ультра: 73.3184584178499\n",
      "Среднее значение по звонкам тарифа смарт: 58.437219730941706\n",
      " \n",
      "Среднее значение по интернет трафику тарифа ультра: 19.474645030425965\n",
      "Среднее значение по интернет трафику тарифа смарт: 16.32152466367713\n",
      " \n",
      "Среднее значение по сообщениям тарифа ультра: 49.31338742393509\n",
      "Среднее значение по сообщениям тарифа смарт: 33.36905829596412\n"
     ]
    }
   ],
   "source": [
    "print(f'Среднее значение по звонкам тарифа ультра: {np.mean(df_tariff_ultra.duration_count)}')\n",
    "print(f'Среднее значение по звонкам тарифа смарт: {np.mean(df_tariff_smart.duration_count)}')\n",
    "print(' ')\n",
    "print(f'Среднее значение по интернет трафику тарифа ультра: {np.mean(df_tariff_ultra.gb)}')\n",
    "print(f'Среднее значение по интернет трафику тарифа смарт: {np.mean(df_tariff_smart.gb)}')\n",
    "print(' ')\n",
    "print(f'Среднее значение по сообщениям тарифа ультра: {np.mean(df_tariff_ultra.messages_count)}')\n",
    "print(f'Среднее значение по сообщениям тарифа смарт: {np.mean(df_tariff_smart.messages_count)}')"
   ]
  },
  {
   "cell_type": "markdown",
   "metadata": {},
   "source": [
    "## Проверьте гипотезы\n",
    "* средняя выручка пользователей тарифов «Ультра» и «Смарт» не различаются;\n",
    "* средняя выручка пользователей из Москвы отличается от выручки пользователей из других регионов.\n",
    "\n",
    "Поясните:\n",
    "как вы формулировали нулевую и альтернативную гипотезы;\n",
    "какой критерий использовали для проверки гипотез и почему."
   ]
  },
  {
   "cell_type": "code",
   "execution_count": 50,
   "metadata": {
    "scrolled": true
   },
   "outputs": [
    {
     "data": {
      "text/plain": [
       "Text(0.5, 1.0, 'Выручка тарифов')"
      ]
     },
     "execution_count": 50,
     "metadata": {},
     "output_type": "execute_result"
    },
    {
     "data": {
      "image/png": "[encoded data removed]",
      "text/plain": [
       "<Figure size 432x288 with 1 Axes>"
      ]
     },
     "metadata": {
      "needs_background": "light"
     },
     "output_type": "display_data"
    }
   ],
   "source": [
    "df_tariff_smart['profit'].hist(bins=15,alpha=0.8,grid=True)\n",
    "df_tariff_ultra['profit'].hist(bins=15,alpha=0.6,color='green',grid=True).set_title('Выручка тарифов')"
   ]
  },
  {
   "cell_type": "markdown",
   "metadata": {},
   "source": [
    "График особой информативности не даёт,единственное показывает что тариф за 550 выбирают больше людей чем ультра. Так же посмотрим выручку по отдельным тарифам и приступим к проверке гипотезы\n",
    "* средняя выручка пользователей тарифов «Ультра» и «Смарт» не различаются;"
   ]
  },
  {
   "cell_type": "code",
   "execution_count": 51,
   "metadata": {
    "scrolled": true
   },
   "outputs": [
    {
     "name": "stdout",
     "output_type": "stream",
     "text": [
      "Выручка тарифа смарт составляет: 2875901.0\n",
      "Выручка тарифа ультра составляет: 2041050.0\n"
     ]
    }
   ],
   "source": [
    "print(f'Выручка тарифа смарт составляет: {df_tariff_smart.profit.sum()}')\n",
    "print(f'Выручка тарифа ультра составляет: {df_tariff_ultra.profit.sum()}')"
   ]
  },
  {
   "cell_type": "code",
   "execution_count": 52,
   "metadata": {},
   "outputs": [
    {
     "name": "stdout",
     "output_type": "stream",
     "text": [
      "1289.6417040358745\n",
      "2070.030425963489\n"
     ]
    }
   ],
   "source": [
    "print(df_tariff_smart.profit.mean())\n",
    "print(df_tariff_ultra.profit.mean())"
   ]
  },
  {
   "cell_type": "markdown",
   "metadata": {},
   "source": [
    "**Проверим гипотезы о равенстве среднего двух генеральных совокупностей по взятым выборкам тарифа смарт и ультра.**\n",
    "\n",
    "Тарифы разные по ценнообразованию,поэтому нам стоит проверить важную гипотезу о выручке данных тарифов.\n",
    "\n",
    "Нулевая гипотеза: средняя выручка по тарифам Смарт и Ультра не различаются;\n",
    "\n",
    "Альтернативная гипотеза: средняя выручка по тарифам Смарт и Ультра различаются."
   ]
  },
  {
   "cell_type": "code",
   "execution_count": 53,
   "metadata": {},
   "outputs": [
    {
     "name": "stdout",
     "output_type": "stream",
     "text": [
      "p-значение: 1.927011394420941e-250\n",
      "Отвергаем нулевую гипотезу о том что выручка тарифов не отличается\n"
     ]
    }
   ],
   "source": [
    "alpha = .01 # критический уровень статистической значимости\n",
    "# если p-value окажется меньше него - отвегнем гипотезу\n",
    "\n",
    "results = st.ttest_ind(\n",
    "    df_tariff_smart['profit'], \n",
    "    df_tariff_ultra['profit'],equal_var = False) # разные по объему выборки правильно ли использовать equal_var?\n",
    "\n",
    "print('p-значение:', results.pvalue)\n",
    "\n",
    "if results.pvalue < alpha:\n",
    "    print(\"Отвергаем нулевую гипотезу о том что выручка тарифов не отличается\")\n",
    "else:\n",
    "    print(\"Не получилось отвергнуть нулевую гипотезу о том что выручка тарифов отличается\") "
   ]
  },
  {
   "cell_type": "markdown",
   "metadata": {},
   "source": [
    "Выручка тарифов отличается! Принимаем альтернативную гипотезу."
   ]
  },
  {
   "cell_type": "markdown",
   "metadata": {},
   "source": [
    "Сейчас будем проверять гипотезу по отдельным городам. И для начала разделим Москву и другие города."
   ]
  },
  {
   "cell_type": "code",
   "execution_count": 54,
   "metadata": {},
   "outputs": [
    {
     "data": {
      "text/plain": [
       "array(['Краснодар', 'Стерлитамак', 'Новокузнецк', 'Набережные Челны',\n",
       "       'Ульяновск', 'Челябинск', 'Пермь', 'Тюмень', 'Самара',\n",
       "       'Санкт-Петербург', 'Иваново', 'Чебоксары', 'Омск', 'Уфа', 'Томск',\n",
       "       'Чита', 'Мурманск', 'Петрозаводск', 'Тверь', 'Екатеринбург',\n",
       "       'Махачкала', 'Вологда', 'Череповец', 'Ярославль', 'Сочи',\n",
       "       'Хабаровск', 'Ставрополь', 'Рязань', 'Улан-Удэ', 'Тула', 'Саратов',\n",
       "       'Ростов-на-Дону', 'Казань', 'Иркутск', 'Курск', 'Калуга', 'Якутск',\n",
       "       'Астрахань', 'Химки', 'Владикавказ', 'Волгоград', 'Саранск',\n",
       "       'Ижевск', 'Новосибирск', 'Брянск', 'Тольятти', 'Нижний Тагил',\n",
       "       'Орёл', 'Белгород', 'Воронеж', 'Курган', 'Барнаул', 'Красноярск',\n",
       "       'Архангельск', 'Липецк', 'Кемерово', 'Киров', 'Сургут', 'Пенза',\n",
       "       'Волжский', 'Магнитогорск', 'Нижний Новгород', 'Кострома',\n",
       "       'Владивосток', 'Тамбов', 'Балашиха', 'Севастополь', 'Калининград',\n",
       "       'Оренбург', 'Смоленск', 'Нижневартовск', 'Владимир',\n",
       "       'Новороссийск', 'Грозный', 'Подольск'], dtype=object)"
      ]
     },
     "execution_count": 54,
     "metadata": {},
     "output_type": "execute_result"
    }
   ],
   "source": [
    "df_moscow_profit = df[df['city'] == 'Москва']\n",
    "df_another_profit = df[df['city'] != 'Москва']\n",
    "df_another_profit['city'].unique()"
   ]
  },
  {
   "cell_type": "code",
   "execution_count": 55,
   "metadata": {
    "scrolled": true
   },
   "outputs": [
    {
     "data": {
      "text/plain": [
       "<AxesSubplot:>"
      ]
     },
     "execution_count": 55,
     "metadata": {},
     "output_type": "execute_result"
    },
    {
     "data": {
      "image/png": "[encoded data removed]",
      "text/plain": [
       "<Figure size 432x288 with 1 Axes>"
      ]
     },
     "metadata": {
      "needs_background": "light"
     },
     "output_type": "display_data"
    }
   ],
   "source": [
    "df_moscow_profit['profit'].hist(bins=15,alpha=0.6)\n",
    "df_another_profit['profit'].hist(bins=20,alpha=0.7)"
   ]
  },
  {
   "cell_type": "markdown",
   "metadata": {},
   "source": [
    "По графику видно что другие города опережают Москву. Так ли это? Давайте разделим количество городов на общую выручку и проверим сколько в среднем приносит доход город."
   ]
  },
  {
   "cell_type": "code",
   "execution_count": 56,
   "metadata": {
    "scrolled": false
   },
   "outputs": [
    {
     "name": "stdout",
     "output_type": "stream",
     "text": [
      "Выручка в Москве составляет: 945042.0\n",
      "Выручка каждого города средняя: 52958.78666666667\n"
     ]
    }
   ],
   "source": [
    "df_moscow_profit_sum = df_moscow_profit['profit'].sum()\n",
    "df_another_profit_sum = (df_another_profit['profit'].sum()/ 75)\n",
    "print(f'Выручка в Москве составляет: {df_moscow_profit_sum}')\n",
    "print(f'Выручка каждого города средняя: {df_another_profit_sum}')"
   ]
  },
  {
   "cell_type": "markdown",
   "metadata": {},
   "source": [
    "**Проверим гипотезы о равенстве среднего двух генеральных совокупностей по взятым выборкам тарифа смарт и ультра.**\n",
    "\n",
    "Моё предположение,что в Москве живёт больше людей,а значит чаще покупают данные тарифы чем в других регионах. На основе этой догадки сформируем гипотезы так.\n",
    "\n",
    "Нулевая гипотеза: Средняя выручка в Москве и регионах не различаются;\n",
    "\n",
    "Альтернативная гипотеза: Средняя выручка в Москве и регионах отличаются."
   ]
  },
  {
   "cell_type": "code",
   "execution_count": 57,
   "metadata": {},
   "outputs": [
    {
     "name": "stdout",
     "output_type": "stream",
     "text": [
      "p-значение: 0.5400751614511182\n",
      "принимаем нулевую гипотезу о том что средняя выручка в Москве и регионах не различаются\n"
     ]
    }
   ],
   "source": [
    "alpha = .01 # критический уровень статистической значимости\n",
    "# если p-value окажется меньше него - отвегнем гипотезу\n",
    "\n",
    "results = st.ttest_ind(\n",
    "    df_moscow_profit['profit'], \n",
    "    df_another_profit['profit'])\n",
    "\n",
    "print('p-значение:', results.pvalue)\n",
    "\n",
    "if results.pvalue < alpha:\n",
    "    print(\"принимаем альтернативную гипотезу о том что cредняя выручка в Москве и регионах отличаются\")\n",
    "else:\n",
    "    print(\"принимаем нулевую гипотезу о том что средняя выручка в Москве и регионах не различаются\") "
   ]
  },
  {
   "cell_type": "markdown",
   "metadata": {},
   "source": [
    "Данный тест нам показал что мы принимаем нулевую гипотезу: о том что, средняя выручка Москвы не различаются от других регионов."
   ]
  },
  {
   "cell_type": "markdown",
   "metadata": {},
   "source": [
    "### Итоговый вывод:\n",
    "\n",
    "1. Тарифный план Ультра.\n",
    "\n",
    "**Меньше людей Используют данный тариф. Данный тарифный план приносит меньше выручки с переплаты. Его меньше используют. По данному тарифу отправляют также меньше смс/звонят/используют интернет трафик. Общий доход с данного тарифа составляет - `2041050` рублей за год**\n",
    "\n",
    "2. Тарифный план Смарт.\n",
    "\n",
    "**Данный тарифный план используют люди чаще чем ультра. Так же по данному тарифу могу сказать что люди чаще звонят/отправляют смс/используют интернет трафик. Особенность данного тарифа является что люди переплачивают примерно на 2183851 больше чем на тарифе смарт. Тем самым подтверждая что доходность с данного тарифа выше. Выручка данного тарифа за год составляет - `2875901` р. за год**\n",
    "\n",
    "3. Гипотезы.\n",
    "\n",
    "**Мы проверили две гипотезы о равенстве среднего двух генеральных совокупностей по взятым нами выборкам.**\n",
    "\n",
    "* В первом вопросе подтвердилась Альтернативная гипотеза: средняя выручка по тарифам Смарт и Ультра различаются. По анализу выше мы видим что тариф смарт принёс нам больше прибыли.\n",
    "\n",
    "* Во втором вопросе подтвердилась Нулевая гипотеза: средняя выручка пользователей из Москвы не различаются от выручки пользователей из других регионов.\n",
    "\n",
    "4. Лучшим показателем является тариф Смарт для компании 'Мегалайн '."
   ]
  }
 ],
 "metadata": {
  "ExecuteTimeLog": [
   {
    "duration": 685,
    "start_time": "2022-04-01T07:48:06.006Z"
   },
   {
    "duration": 212,
    "start_time": "2022-04-01T07:48:06.694Z"
   },
   {
    "duration": 28,
    "start_time": "2022-04-01T07:48:06.909Z"
   },
   {
    "duration": 90,
    "start_time": "2022-04-01T07:48:52.146Z"
   },
   {
    "duration": 194,
    "start_time": "2022-04-01T07:48:54.818Z"
   },
   {
    "duration": 16,
    "start_time": "2022-04-01T07:48:55.633Z"
   },
   {
    "duration": 357,
    "start_time": "2022-04-01T07:51:17.023Z"
   },
   {
    "duration": 473,
    "start_time": "2022-04-01T07:51:56.658Z"
   },
   {
    "duration": 482,
    "start_time": "2022-04-01T07:52:53.992Z"
   },
   {
    "duration": 17,
    "start_time": "2022-04-01T07:52:59.549Z"
   },
   {
    "duration": 11,
    "start_time": "2022-04-01T07:53:05.615Z"
   },
   {
    "duration": 34,
    "start_time": "2022-04-01T07:53:09.101Z"
   },
   {
    "duration": 13,
    "start_time": "2022-04-01T07:53:42.052Z"
   },
   {
    "duration": 47,
    "start_time": "2022-04-01T07:54:58.563Z"
   },
   {
    "duration": 13,
    "start_time": "2022-04-01T07:55:08.032Z"
   },
   {
    "duration": 40,
    "start_time": "2022-04-01T07:56:01.567Z"
   },
   {
    "duration": 15,
    "start_time": "2022-04-01T07:56:10.640Z"
   },
   {
    "duration": 56,
    "start_time": "2022-04-01T14:37:13.292Z"
   },
   {
    "duration": 364,
    "start_time": "2022-04-01T14:37:16.882Z"
   },
   {
    "duration": 31,
    "start_time": "2022-04-01T14:37:17.383Z"
   },
   {
    "duration": 8,
    "start_time": "2022-04-01T14:37:23.300Z"
   },
   {
    "duration": 363,
    "start_time": "2022-04-01T14:37:29.199Z"
   },
   {
    "duration": 410,
    "start_time": "2022-04-01T14:47:50.280Z"
   },
   {
    "duration": 17,
    "start_time": "2022-04-01T14:47:56.462Z"
   },
   {
    "duration": 11,
    "start_time": "2022-04-01T14:54:54.944Z"
   },
   {
    "duration": 48,
    "start_time": "2022-04-01T17:08:57.337Z"
   },
   {
    "duration": 348,
    "start_time": "2022-04-01T17:08:59.496Z"
   },
   {
    "duration": 412,
    "start_time": "2022-04-01T17:09:00.257Z"
   },
   {
    "duration": 14,
    "start_time": "2022-04-01T17:09:09.170Z"
   },
   {
    "duration": 402,
    "start_time": "2022-04-01T17:09:25.026Z"
   },
   {
    "duration": 20,
    "start_time": "2022-04-01T17:09:25.996Z"
   },
   {
    "duration": 7,
    "start_time": "2022-04-01T17:09:26.501Z"
   },
   {
    "duration": 386,
    "start_time": "2022-04-01T17:09:36.107Z"
   },
   {
    "duration": 19,
    "start_time": "2022-04-01T17:09:36.717Z"
   },
   {
    "duration": 10,
    "start_time": "2022-04-01T17:09:37.149Z"
   },
   {
    "duration": 391,
    "start_time": "2022-04-01T17:10:02.777Z"
   },
   {
    "duration": 26,
    "start_time": "2022-04-01T17:10:10.497Z"
   },
   {
    "duration": 31,
    "start_time": "2022-04-01T17:18:43.966Z"
   },
   {
    "duration": 10,
    "start_time": "2022-04-01T17:21:05.865Z"
   },
   {
    "duration": 9,
    "start_time": "2022-04-01T17:21:08.065Z"
   },
   {
    "duration": 8,
    "start_time": "2022-04-01T17:21:08.609Z"
   },
   {
    "duration": 8,
    "start_time": "2022-04-01T17:21:08.947Z"
   },
   {
    "duration": 9,
    "start_time": "2022-04-01T17:21:18.176Z"
   },
   {
    "duration": 6,
    "start_time": "2022-04-01T17:21:40.217Z"
   },
   {
    "duration": 8,
    "start_time": "2022-04-01T17:21:50.624Z"
   },
   {
    "duration": 13,
    "start_time": "2022-04-01T17:22:34.967Z"
   },
   {
    "duration": 10,
    "start_time": "2022-04-01T17:23:11.162Z"
   },
   {
    "duration": 9,
    "start_time": "2022-04-01T17:23:30.423Z"
   },
   {
    "duration": 21,
    "start_time": "2022-04-01T17:23:42.500Z"
   },
   {
    "duration": 20,
    "start_time": "2022-04-01T17:24:13.959Z"
   },
   {
    "duration": 11,
    "start_time": "2022-04-01T17:24:26.486Z"
   },
   {
    "duration": 11,
    "start_time": "2022-04-01T17:24:54.365Z"
   },
   {
    "duration": 28,
    "start_time": "2022-04-01T17:25:37.825Z"
   },
   {
    "duration": 32,
    "start_time": "2022-04-01T17:26:18.545Z"
   },
   {
    "duration": 51,
    "start_time": "2022-04-01T17:26:40.852Z"
   },
   {
    "duration": 51,
    "start_time": "2022-04-01T17:27:19.393Z"
   },
   {
    "duration": 35,
    "start_time": "2022-04-01T17:28:06.925Z"
   },
   {
    "duration": 40,
    "start_time": "2022-04-01T17:28:51.435Z"
   },
   {
    "duration": 30,
    "start_time": "2022-04-01T17:29:43.386Z"
   },
   {
    "duration": 53,
    "start_time": "2022-04-01T20:47:40.342Z"
   },
   {
    "duration": 403,
    "start_time": "2022-04-01T20:47:43.806Z"
   },
   {
    "duration": 380,
    "start_time": "2022-04-01T20:47:44.794Z"
   },
   {
    "duration": 64,
    "start_time": "2022-04-01T20:47:46.330Z"
   },
   {
    "duration": 48,
    "start_time": "2022-04-01T20:47:46.902Z"
   },
   {
    "duration": 35,
    "start_time": "2022-04-01T20:47:47.366Z"
   },
   {
    "duration": 40,
    "start_time": "2022-04-01T20:47:47.794Z"
   },
   {
    "duration": 26,
    "start_time": "2022-04-01T20:47:48.282Z"
   },
   {
    "duration": 2,
    "start_time": "2022-04-01T20:49:33.823Z"
   },
   {
    "duration": 8,
    "start_time": "2022-04-01T20:54:54.752Z"
   },
   {
    "duration": 12,
    "start_time": "2022-04-01T20:55:12.073Z"
   },
   {
    "duration": 12,
    "start_time": "2022-04-01T20:56:38.939Z"
   },
   {
    "duration": 12,
    "start_time": "2022-04-01T20:56:43.572Z"
   },
   {
    "duration": 12,
    "start_time": "2022-04-01T20:58:12.706Z"
   },
   {
    "duration": 11,
    "start_time": "2022-04-01T20:58:50.913Z"
   },
   {
    "duration": 10,
    "start_time": "2022-04-01T20:58:54.639Z"
   },
   {
    "duration": 11,
    "start_time": "2022-04-01T20:59:07.308Z"
   },
   {
    "duration": 12,
    "start_time": "2022-04-01T20:59:10.795Z"
   },
   {
    "duration": 13,
    "start_time": "2022-04-01T20:59:15.556Z"
   },
   {
    "duration": 3,
    "start_time": "2022-04-01T20:59:22.237Z"
   },
   {
    "duration": 375,
    "start_time": "2022-04-01T20:59:22.242Z"
   },
   {
    "duration": 50,
    "start_time": "2022-04-01T20:59:22.619Z"
   },
   {
    "duration": 51,
    "start_time": "2022-04-01T20:59:22.671Z"
   },
   {
    "duration": 32,
    "start_time": "2022-04-01T20:59:22.725Z"
   },
   {
    "duration": 62,
    "start_time": "2022-04-01T20:59:22.758Z"
   },
   {
    "duration": 26,
    "start_time": "2022-04-01T20:59:22.821Z"
   },
   {
    "duration": 12,
    "start_time": "2022-04-01T20:59:22.848Z"
   },
   {
    "duration": 11,
    "start_time": "2022-04-01T20:59:34.457Z"
   },
   {
    "duration": 11,
    "start_time": "2022-04-01T20:59:38.593Z"
   },
   {
    "duration": 52,
    "start_time": "2022-04-01T20:59:56.429Z"
   },
   {
    "duration": 2,
    "start_time": "2022-04-01T21:00:22.674Z"
   },
   {
    "duration": 62,
    "start_time": "2022-04-01T21:00:30.411Z"
   },
   {
    "duration": 13,
    "start_time": "2022-04-01T21:03:00.080Z"
   },
   {
    "duration": 400,
    "start_time": "2022-04-02T06:14:43.947Z"
   },
   {
    "duration": 359,
    "start_time": "2022-04-02T06:14:45.127Z"
   },
   {
    "duration": 60,
    "start_time": "2022-04-02T06:14:45.700Z"
   },
   {
    "duration": 46,
    "start_time": "2022-04-02T06:14:46.224Z"
   },
   {
    "duration": 32,
    "start_time": "2022-04-02T06:14:46.622Z"
   },
   {
    "duration": 34,
    "start_time": "2022-04-02T06:14:47.073Z"
   },
   {
    "duration": 25,
    "start_time": "2022-04-02T06:14:47.678Z"
   },
   {
    "duration": 10,
    "start_time": "2022-04-02T06:14:51.425Z"
   },
   {
    "duration": 58,
    "start_time": "2022-04-02T06:16:37.652Z"
   },
   {
    "duration": 10,
    "start_time": "2022-04-02T06:16:52.449Z"
   },
   {
    "duration": 512,
    "start_time": "2022-04-02T06:20:54.448Z"
   },
   {
    "duration": 46,
    "start_time": "2022-04-02T06:21:43.840Z"
   },
   {
    "duration": 355,
    "start_time": "2022-04-02T06:21:49.400Z"
   },
   {
    "duration": 357,
    "start_time": "2022-04-02T06:21:49.756Z"
   },
   {
    "duration": 57,
    "start_time": "2022-04-02T06:21:50.114Z"
   },
   {
    "duration": 42,
    "start_time": "2022-04-02T06:21:50.173Z"
   },
   {
    "duration": 48,
    "start_time": "2022-04-02T06:21:50.216Z"
   },
   {
    "duration": 35,
    "start_time": "2022-04-02T06:21:50.265Z"
   },
   {
    "duration": 25,
    "start_time": "2022-04-02T06:21:50.301Z"
   },
   {
    "duration": 43,
    "start_time": "2022-04-02T06:22:55.258Z"
   },
   {
    "duration": 6,
    "start_time": "2022-04-02T06:23:46.709Z"
   },
   {
    "duration": 6,
    "start_time": "2022-04-02T06:23:52.712Z"
   },
   {
    "duration": 6,
    "start_time": "2022-04-02T06:24:00.278Z"
   },
   {
    "duration": 368,
    "start_time": "2022-04-02T06:24:08.091Z"
   },
   {
    "duration": 364,
    "start_time": "2022-04-02T06:24:08.462Z"
   },
   {
    "duration": 58,
    "start_time": "2022-04-02T06:24:08.827Z"
   },
   {
    "duration": 40,
    "start_time": "2022-04-02T06:24:08.887Z"
   },
   {
    "duration": 48,
    "start_time": "2022-04-02T06:24:08.928Z"
   },
   {
    "duration": 31,
    "start_time": "2022-04-02T06:24:08.978Z"
   },
   {
    "duration": 24,
    "start_time": "2022-04-02T06:24:09.010Z"
   },
   {
    "duration": 34,
    "start_time": "2022-04-02T06:24:09.035Z"
   },
   {
    "duration": 11,
    "start_time": "2022-04-02T06:24:43.814Z"
   },
   {
    "duration": 4,
    "start_time": "2022-04-02T06:24:55.650Z"
   },
   {
    "duration": 381,
    "start_time": "2022-04-02T07:44:44.590Z"
   },
   {
    "duration": 240,
    "start_time": "2022-04-02T07:44:49.413Z"
   },
   {
    "duration": 661,
    "start_time": "2022-04-02T07:44:59.078Z"
   },
   {
    "duration": 607,
    "start_time": "2022-04-02T07:45:04.248Z"
   },
   {
    "duration": 355,
    "start_time": "2022-04-02T07:45:07.314Z"
   },
   {
    "duration": 216,
    "start_time": "2022-04-02T07:45:08.782Z"
   },
   {
    "duration": 329,
    "start_time": "2022-04-02T07:45:17.104Z"
   },
   {
    "duration": 49,
    "start_time": "2022-04-02T07:45:17.553Z"
   },
   {
    "duration": 4,
    "start_time": "2022-04-02T07:45:25.665Z"
   },
   {
    "duration": 393,
    "start_time": "2022-04-02T07:50:01.037Z"
   },
   {
    "duration": 265,
    "start_time": "2022-04-02T07:50:01.864Z"
   },
   {
    "duration": 372,
    "start_time": "2022-04-02T07:50:10.823Z"
   },
   {
    "duration": 48,
    "start_time": "2022-04-02T07:52:26.924Z"
   },
   {
    "duration": 28,
    "start_time": "2022-04-02T07:54:42.079Z"
   },
   {
    "duration": 1012,
    "start_time": "2022-04-02T07:54:55.855Z"
   },
   {
    "duration": 3,
    "start_time": "2022-04-02T07:55:04.451Z"
   },
   {
    "duration": 359,
    "start_time": "2022-04-02T07:55:04.455Z"
   },
   {
    "duration": 48,
    "start_time": "2022-04-02T07:55:04.816Z"
   },
   {
    "duration": 41,
    "start_time": "2022-04-02T07:55:04.865Z"
   },
   {
    "duration": 29,
    "start_time": "2022-04-02T07:55:04.908Z"
   },
   {
    "duration": 51,
    "start_time": "2022-04-02T07:55:04.938Z"
   },
   {
    "duration": 27,
    "start_time": "2022-04-02T07:55:04.990Z"
   },
   {
    "duration": 65,
    "start_time": "2022-04-02T07:55:05.018Z"
   },
   {
    "duration": 28,
    "start_time": "2022-04-02T07:55:19.248Z"
   },
   {
    "duration": 22,
    "start_time": "2022-04-02T07:55:33.824Z"
   },
   {
    "duration": 40,
    "start_time": "2022-04-02T07:55:47.622Z"
   },
   {
    "duration": 17,
    "start_time": "2022-04-02T07:56:46.949Z"
   },
   {
    "duration": 14,
    "start_time": "2022-04-02T07:57:02.266Z"
   },
   {
    "duration": 49,
    "start_time": "2022-04-02T13:09:56.822Z"
   },
   {
    "duration": 397,
    "start_time": "2022-04-02T13:10:01.420Z"
   },
   {
    "duration": 402,
    "start_time": "2022-04-02T13:10:01.819Z"
   },
   {
    "duration": 64,
    "start_time": "2022-04-02T13:10:02.223Z"
   },
   {
    "duration": 58,
    "start_time": "2022-04-02T13:10:02.289Z"
   },
   {
    "duration": 35,
    "start_time": "2022-04-02T13:10:02.350Z"
   },
   {
    "duration": 60,
    "start_time": "2022-04-02T13:10:02.386Z"
   },
   {
    "duration": 29,
    "start_time": "2022-04-02T13:10:02.447Z"
   },
   {
    "duration": 90,
    "start_time": "2022-04-02T13:10:02.478Z"
   },
   {
    "duration": 56,
    "start_time": "2022-04-02T13:10:26.798Z"
   },
   {
    "duration": 269,
    "start_time": "2022-04-02T13:10:35.036Z"
   },
   {
    "duration": 20,
    "start_time": "2022-04-02T13:11:08.540Z"
   },
   {
    "duration": 23,
    "start_time": "2022-04-02T13:11:26.176Z"
   },
   {
    "duration": 25,
    "start_time": "2022-04-02T13:11:53.911Z"
   },
   {
    "duration": 22,
    "start_time": "2022-04-02T13:12:04.029Z"
   },
   {
    "duration": 16,
    "start_time": "2022-04-02T13:13:09.173Z"
   },
   {
    "duration": 2,
    "start_time": "2022-04-02T13:14:17.292Z"
   },
   {
    "duration": 12,
    "start_time": "2022-04-02T13:14:34.174Z"
   },
   {
    "duration": 4,
    "start_time": "2022-04-02T13:16:04.728Z"
   },
   {
    "duration": 24,
    "start_time": "2022-04-02T13:17:33.393Z"
   },
   {
    "duration": 10,
    "start_time": "2022-04-02T13:18:26.495Z"
   },
   {
    "duration": 19,
    "start_time": "2022-04-02T13:18:41.107Z"
   },
   {
    "duration": 10,
    "start_time": "2022-04-02T13:19:17.105Z"
   },
   {
    "duration": 20,
    "start_time": "2022-04-02T13:19:54.819Z"
   },
   {
    "duration": 8,
    "start_time": "2022-04-02T13:22:19.805Z"
   },
   {
    "duration": 2,
    "start_time": "2022-04-02T13:23:29.888Z"
   },
   {
    "duration": 4,
    "start_time": "2022-04-02T13:25:35.856Z"
   },
   {
    "duration": 14,
    "start_time": "2022-04-02T13:25:42.004Z"
   },
   {
    "duration": 6,
    "start_time": "2022-04-02T13:27:08.745Z"
   },
   {
    "duration": 7,
    "start_time": "2022-04-02T13:29:01.581Z"
   },
   {
    "duration": 8,
    "start_time": "2022-04-02T13:53:02.680Z"
   },
   {
    "duration": 237,
    "start_time": "2022-04-02T13:54:04.958Z"
   },
   {
    "duration": 22,
    "start_time": "2022-04-02T13:54:23.495Z"
   },
   {
    "duration": 210,
    "start_time": "2022-04-02T13:54:49.464Z"
   },
   {
    "duration": 208,
    "start_time": "2022-04-02T13:55:04.818Z"
   },
   {
    "duration": 15,
    "start_time": "2022-04-02T13:55:14.305Z"
   },
   {
    "duration": 31,
    "start_time": "2022-04-02T13:55:20.870Z"
   },
   {
    "duration": 9,
    "start_time": "2022-04-02T13:56:15.261Z"
   },
   {
    "duration": 20,
    "start_time": "2022-04-02T13:56:48.772Z"
   },
   {
    "duration": 36,
    "start_time": "2022-04-02T13:56:54.085Z"
   },
   {
    "duration": 151,
    "start_time": "2022-04-02T13:57:47.422Z"
   },
   {
    "duration": 45,
    "start_time": "2022-04-02T13:58:00.863Z"
   },
   {
    "duration": 31,
    "start_time": "2022-04-02T13:58:10.272Z"
   },
   {
    "duration": 33,
    "start_time": "2022-04-02T13:59:29.406Z"
   },
   {
    "duration": 38,
    "start_time": "2022-04-02T13:59:37.927Z"
   },
   {
    "duration": 40,
    "start_time": "2022-04-02T13:59:45.693Z"
   },
   {
    "duration": 42,
    "start_time": "2022-04-02T14:00:02.503Z"
   },
   {
    "duration": 62,
    "start_time": "2022-04-02T14:02:24.208Z"
   },
   {
    "duration": 35,
    "start_time": "2022-04-02T14:04:14.810Z"
   },
   {
    "duration": 7,
    "start_time": "2022-04-02T14:05:19.000Z"
   },
   {
    "duration": 7,
    "start_time": "2022-04-02T14:05:24.857Z"
   },
   {
    "duration": 12,
    "start_time": "2022-04-02T14:09:07.142Z"
   },
   {
    "duration": 11,
    "start_time": "2022-04-02T14:09:10.767Z"
   },
   {
    "duration": 12,
    "start_time": "2022-04-02T14:09:28.459Z"
   },
   {
    "duration": 10,
    "start_time": "2022-04-02T14:09:36.556Z"
   },
   {
    "duration": 6,
    "start_time": "2022-04-02T14:09:54.364Z"
   },
   {
    "duration": 12,
    "start_time": "2022-04-02T14:10:03.193Z"
   },
   {
    "duration": 11,
    "start_time": "2022-04-02T14:10:15.834Z"
   },
   {
    "duration": 36,
    "start_time": "2022-04-02T14:10:51.417Z"
   },
   {
    "duration": 41,
    "start_time": "2022-04-02T14:10:59.535Z"
   },
   {
    "duration": 32,
    "start_time": "2022-04-02T14:11:18.610Z"
   },
   {
    "duration": 38,
    "start_time": "2022-04-02T14:11:24.195Z"
   },
   {
    "duration": 10,
    "start_time": "2022-04-02T14:12:36.747Z"
   },
   {
    "duration": 34,
    "start_time": "2022-04-02T14:13:54.391Z"
   },
   {
    "duration": 8,
    "start_time": "2022-04-02T14:15:28.150Z"
   },
   {
    "duration": 15,
    "start_time": "2022-04-02T14:15:40.611Z"
   },
   {
    "duration": 7,
    "start_time": "2022-04-02T14:15:45.334Z"
   },
   {
    "duration": 12,
    "start_time": "2022-04-02T14:15:58.992Z"
   },
   {
    "duration": 8,
    "start_time": "2022-04-02T14:16:15.544Z"
   },
   {
    "duration": 5,
    "start_time": "2022-04-02T14:16:40.519Z"
   },
   {
    "duration": 15,
    "start_time": "2022-04-02T14:16:44.753Z"
   },
   {
    "duration": 12,
    "start_time": "2022-04-02T14:17:07.216Z"
   },
   {
    "duration": 13,
    "start_time": "2022-04-02T14:17:12.851Z"
   },
   {
    "duration": 12,
    "start_time": "2022-04-02T14:17:16.861Z"
   },
   {
    "duration": 16,
    "start_time": "2022-04-02T14:17:23.148Z"
   },
   {
    "duration": 12,
    "start_time": "2022-04-02T14:17:38.585Z"
   },
   {
    "duration": 3,
    "start_time": "2022-04-02T14:17:42.668Z"
   },
   {
    "duration": 346,
    "start_time": "2022-04-02T14:17:42.673Z"
   },
   {
    "duration": 57,
    "start_time": "2022-04-02T14:17:43.020Z"
   },
   {
    "duration": 62,
    "start_time": "2022-04-02T14:17:43.079Z"
   },
   {
    "duration": 33,
    "start_time": "2022-04-02T14:17:43.143Z"
   },
   {
    "duration": 55,
    "start_time": "2022-04-02T14:17:43.177Z"
   },
   {
    "duration": 25,
    "start_time": "2022-04-02T14:17:43.233Z"
   },
   {
    "duration": 56,
    "start_time": "2022-04-02T14:17:43.259Z"
   },
   {
    "duration": 23,
    "start_time": "2022-04-02T14:17:43.317Z"
   },
   {
    "duration": 18,
    "start_time": "2022-04-02T14:17:43.342Z"
   },
   {
    "duration": 6,
    "start_time": "2022-04-02T14:17:43.362Z"
   },
   {
    "duration": 5,
    "start_time": "2022-04-02T14:17:43.370Z"
   },
   {
    "duration": 37,
    "start_time": "2022-04-02T14:17:43.376Z"
   },
   {
    "duration": 7,
    "start_time": "2022-04-02T14:17:43.415Z"
   },
   {
    "duration": 37,
    "start_time": "2022-04-02T14:17:43.423Z"
   },
   {
    "duration": 4,
    "start_time": "2022-04-02T14:17:43.462Z"
   },
   {
    "duration": 17,
    "start_time": "2022-04-02T14:17:43.468Z"
   },
   {
    "duration": 37,
    "start_time": "2022-04-02T14:17:58.346Z"
   },
   {
    "duration": 33,
    "start_time": "2022-04-02T14:18:41.737Z"
   },
   {
    "duration": 12,
    "start_time": "2022-04-02T14:24:38.154Z"
   },
   {
    "duration": 68,
    "start_time": "2022-04-02T14:27:20.745Z"
   },
   {
    "duration": 66,
    "start_time": "2022-04-02T14:27:54.924Z"
   },
   {
    "duration": 37,
    "start_time": "2022-04-02T14:29:16.114Z"
   },
   {
    "duration": 25,
    "start_time": "2022-04-02T14:29:25.368Z"
   },
   {
    "duration": 1368,
    "start_time": "2022-04-02T14:29:39.874Z"
   },
   {
    "duration": 15,
    "start_time": "2022-04-02T14:29:57.145Z"
   },
   {
    "duration": 13,
    "start_time": "2022-04-02T14:30:17.036Z"
   },
   {
    "duration": 19,
    "start_time": "2022-04-02T14:34:31.864Z"
   },
   {
    "duration": 17,
    "start_time": "2022-04-02T14:37:35.552Z"
   },
   {
    "duration": 14,
    "start_time": "2022-04-02T14:39:30.864Z"
   },
   {
    "duration": 1210,
    "start_time": "2022-04-02T14:40:22.431Z"
   },
   {
    "duration": 20,
    "start_time": "2022-04-02T14:41:29.652Z"
   },
   {
    "duration": 21,
    "start_time": "2022-04-02T14:41:31.691Z"
   },
   {
    "duration": 1136,
    "start_time": "2022-04-02T14:41:51.485Z"
   },
   {
    "duration": 13,
    "start_time": "2022-04-02T14:44:16.136Z"
   },
   {
    "duration": 3,
    "start_time": "2022-04-02T14:44:20.583Z"
   },
   {
    "duration": 17,
    "start_time": "2022-04-02T14:44:26.087Z"
   },
   {
    "duration": 17,
    "start_time": "2022-04-02T14:45:07.483Z"
   },
   {
    "duration": 23,
    "start_time": "2022-04-02T14:45:27.764Z"
   },
   {
    "duration": 21,
    "start_time": "2022-04-02T14:45:51.117Z"
   },
   {
    "duration": 17,
    "start_time": "2022-04-02T14:46:26.972Z"
   },
   {
    "duration": 31,
    "start_time": "2022-04-02T14:47:45.229Z"
   },
   {
    "duration": 44,
    "start_time": "2022-04-02T14:47:54.548Z"
   },
   {
    "duration": 50,
    "start_time": "2022-04-02T14:48:04.700Z"
   },
   {
    "duration": 54,
    "start_time": "2022-04-02T14:48:21.938Z"
   },
   {
    "duration": 78,
    "start_time": "2022-04-02T14:48:44.076Z"
   },
   {
    "duration": 50,
    "start_time": "2022-04-02T14:49:15.146Z"
   },
   {
    "duration": 7,
    "start_time": "2022-04-02T14:50:36.070Z"
   },
   {
    "duration": 69,
    "start_time": "2022-04-02T14:50:55.908Z"
   },
   {
    "duration": 25,
    "start_time": "2022-04-02T14:51:07.325Z"
   },
   {
    "duration": 13,
    "start_time": "2022-04-02T14:52:18.307Z"
   },
   {
    "duration": 7,
    "start_time": "2022-04-02T14:55:06.760Z"
   },
   {
    "duration": 10,
    "start_time": "2022-04-02T14:55:15.908Z"
   },
   {
    "duration": 14,
    "start_time": "2022-04-02T14:56:12.212Z"
   },
   {
    "duration": 10,
    "start_time": "2022-04-02T14:57:58.325Z"
   },
   {
    "duration": 30,
    "start_time": "2022-04-02T15:15:49.996Z"
   },
   {
    "duration": 3,
    "start_time": "2022-04-02T15:16:05.252Z"
   },
   {
    "duration": 423,
    "start_time": "2022-04-02T15:16:05.257Z"
   },
   {
    "duration": 64,
    "start_time": "2022-04-02T15:16:05.682Z"
   },
   {
    "duration": 46,
    "start_time": "2022-04-02T15:16:05.747Z"
   },
   {
    "duration": 45,
    "start_time": "2022-04-02T15:16:05.810Z"
   },
   {
    "duration": 67,
    "start_time": "2022-04-02T15:16:05.857Z"
   },
   {
    "duration": 36,
    "start_time": "2022-04-02T15:16:05.926Z"
   },
   {
    "duration": 67,
    "start_time": "2022-04-02T15:16:05.964Z"
   },
   {
    "duration": 26,
    "start_time": "2022-04-02T15:16:06.033Z"
   },
   {
    "duration": 21,
    "start_time": "2022-04-02T15:16:06.061Z"
   },
   {
    "duration": 27,
    "start_time": "2022-04-02T15:16:06.084Z"
   },
   {
    "duration": 6,
    "start_time": "2022-04-02T15:16:06.114Z"
   },
   {
    "duration": 20,
    "start_time": "2022-04-02T15:16:06.123Z"
   },
   {
    "duration": 7,
    "start_time": "2022-04-02T15:16:06.147Z"
   },
   {
    "duration": 82,
    "start_time": "2022-04-02T15:16:06.156Z"
   },
   {
    "duration": 28,
    "start_time": "2022-04-02T15:16:06.239Z"
   },
   {
    "duration": 3,
    "start_time": "2022-04-02T15:16:06.268Z"
   },
   {
    "duration": 8,
    "start_time": "2022-04-02T15:16:06.272Z"
   },
   {
    "duration": 4,
    "start_time": "2022-04-02T15:16:06.281Z"
   },
   {
    "duration": 14,
    "start_time": "2022-04-02T15:20:24.905Z"
   },
   {
    "duration": 27,
    "start_time": "2022-04-02T15:21:05.551Z"
   },
   {
    "duration": 40,
    "start_time": "2022-04-02T15:21:06.103Z"
   },
   {
    "duration": 8,
    "start_time": "2022-04-02T15:21:16.353Z"
   },
   {
    "duration": 18,
    "start_time": "2022-04-02T15:30:43.051Z"
   },
   {
    "duration": 19,
    "start_time": "2022-04-02T15:30:58.314Z"
   },
   {
    "duration": 18,
    "start_time": "2022-04-02T15:31:04.236Z"
   },
   {
    "duration": 19,
    "start_time": "2022-04-02T15:31:07.580Z"
   },
   {
    "duration": 35,
    "start_time": "2022-04-02T15:36:44.420Z"
   },
   {
    "duration": 12,
    "start_time": "2022-04-02T15:37:03.904Z"
   },
   {
    "duration": 48,
    "start_time": "2022-04-02T15:37:19.618Z"
   },
   {
    "duration": 13,
    "start_time": "2022-04-02T15:37:23.168Z"
   },
   {
    "duration": 32,
    "start_time": "2022-04-02T15:38:26.573Z"
   },
   {
    "duration": 31,
    "start_time": "2022-04-02T15:38:44.612Z"
   },
   {
    "duration": 11,
    "start_time": "2022-04-02T15:38:47.409Z"
   },
   {
    "duration": 8,
    "start_time": "2022-04-02T15:38:52.791Z"
   },
   {
    "duration": 24,
    "start_time": "2022-04-02T15:40:05.441Z"
   },
   {
    "duration": 15,
    "start_time": "2022-04-02T15:41:26.014Z"
   },
   {
    "duration": 20,
    "start_time": "2022-04-02T15:42:08.511Z"
   },
   {
    "duration": 23,
    "start_time": "2022-04-02T15:42:13.637Z"
   },
   {
    "duration": 2,
    "start_time": "2022-04-02T15:43:24.946Z"
   },
   {
    "duration": 12,
    "start_time": "2022-04-02T15:44:35.053Z"
   },
   {
    "duration": 43,
    "start_time": "2022-04-02T15:44:46.481Z"
   },
   {
    "duration": 13,
    "start_time": "2022-04-02T15:44:54.976Z"
   },
   {
    "duration": 10,
    "start_time": "2022-04-02T15:45:52.799Z"
   },
   {
    "duration": 28,
    "start_time": "2022-04-02T15:49:29.526Z"
   },
   {
    "duration": 13,
    "start_time": "2022-04-02T15:49:34.974Z"
   },
   {
    "duration": 1039,
    "start_time": "2022-04-02T16:06:24.303Z"
   },
   {
    "duration": 14,
    "start_time": "2022-04-02T16:06:28.819Z"
   },
   {
    "duration": 16,
    "start_time": "2022-04-02T16:06:44.702Z"
   },
   {
    "duration": 11,
    "start_time": "2022-04-02T16:06:47.844Z"
   },
   {
    "duration": 1098,
    "start_time": "2022-04-02T16:07:21.951Z"
   },
   {
    "duration": 18,
    "start_time": "2022-04-02T16:07:29.980Z"
   },
   {
    "duration": 12,
    "start_time": "2022-04-02T16:07:31.177Z"
   },
   {
    "duration": 12,
    "start_time": "2022-04-02T17:08:03.075Z"
   },
   {
    "duration": 8,
    "start_time": "2022-04-02T17:08:11.821Z"
   },
   {
    "duration": 8,
    "start_time": "2022-04-02T17:08:16.027Z"
   },
   {
    "duration": 48,
    "start_time": "2022-04-02T17:09:40.898Z"
   },
   {
    "duration": 9,
    "start_time": "2022-04-02T17:11:17.157Z"
   },
   {
    "duration": 9,
    "start_time": "2022-04-02T17:11:28.508Z"
   },
   {
    "duration": 9,
    "start_time": "2022-04-02T17:11:32.358Z"
   },
   {
    "duration": 45,
    "start_time": "2022-04-02T17:11:45.095Z"
   },
   {
    "duration": 16,
    "start_time": "2022-04-02T17:11:58.250Z"
   },
   {
    "duration": 16,
    "start_time": "2022-04-02T17:12:12.385Z"
   },
   {
    "duration": 44,
    "start_time": "2022-04-02T17:12:15.468Z"
   },
   {
    "duration": 63,
    "start_time": "2022-04-02T17:12:21.244Z"
   },
   {
    "duration": 10,
    "start_time": "2022-04-02T17:12:33.671Z"
   },
   {
    "duration": 42,
    "start_time": "2022-04-02T17:12:36.517Z"
   },
   {
    "duration": 43,
    "start_time": "2022-04-02T17:13:12.049Z"
   },
   {
    "duration": 5,
    "start_time": "2022-04-02T17:13:31.328Z"
   },
   {
    "duration": 25,
    "start_time": "2022-04-02T17:13:46.801Z"
   },
   {
    "duration": 58,
    "start_time": "2022-04-02T17:13:57.917Z"
   },
   {
    "duration": 45,
    "start_time": "2022-04-02T17:14:01.032Z"
   },
   {
    "duration": 9,
    "start_time": "2022-04-02T17:14:06.076Z"
   },
   {
    "duration": 9,
    "start_time": "2022-04-02T17:14:30.447Z"
   },
   {
    "duration": 8,
    "start_time": "2022-04-02T17:14:39.232Z"
   },
   {
    "duration": 2,
    "start_time": "2022-04-02T17:14:57.310Z"
   },
   {
    "duration": 373,
    "start_time": "2022-04-02T17:14:57.314Z"
   },
   {
    "duration": 53,
    "start_time": "2022-04-02T17:14:57.689Z"
   },
   {
    "duration": 44,
    "start_time": "2022-04-02T17:14:57.743Z"
   },
   {
    "duration": 44,
    "start_time": "2022-04-02T17:14:57.789Z"
   },
   {
    "duration": 35,
    "start_time": "2022-04-02T17:14:57.835Z"
   },
   {
    "duration": 51,
    "start_time": "2022-04-02T17:14:57.872Z"
   },
   {
    "duration": 32,
    "start_time": "2022-04-02T17:14:57.925Z"
   },
   {
    "duration": 26,
    "start_time": "2022-04-02T17:14:57.958Z"
   },
   {
    "duration": 21,
    "start_time": "2022-04-02T17:14:58.008Z"
   },
   {
    "duration": 7,
    "start_time": "2022-04-02T17:14:58.032Z"
   },
   {
    "duration": 15,
    "start_time": "2022-04-02T17:14:58.040Z"
   },
   {
    "duration": 18,
    "start_time": "2022-04-02T17:14:58.057Z"
   },
   {
    "duration": 65,
    "start_time": "2022-04-02T17:14:58.077Z"
   },
   {
    "duration": 39,
    "start_time": "2022-04-02T17:14:58.144Z"
   },
   {
    "duration": 24,
    "start_time": "2022-04-02T17:14:58.185Z"
   },
   {
    "duration": 7,
    "start_time": "2022-04-02T17:14:58.210Z"
   },
   {
    "duration": 4,
    "start_time": "2022-04-02T17:14:58.219Z"
   },
   {
    "duration": 18,
    "start_time": "2022-04-02T17:14:58.224Z"
   },
   {
    "duration": 43,
    "start_time": "2022-04-02T17:15:22.339Z"
   },
   {
    "duration": 2,
    "start_time": "2022-04-02T17:15:28.283Z"
   },
   {
    "duration": 374,
    "start_time": "2022-04-02T17:15:28.287Z"
   },
   {
    "duration": 52,
    "start_time": "2022-04-02T17:15:28.662Z"
   },
   {
    "duration": 44,
    "start_time": "2022-04-02T17:15:28.715Z"
   },
   {
    "duration": 52,
    "start_time": "2022-04-02T17:15:28.761Z"
   },
   {
    "duration": 33,
    "start_time": "2022-04-02T17:15:28.815Z"
   },
   {
    "duration": 25,
    "start_time": "2022-04-02T17:15:28.849Z"
   },
   {
    "duration": 61,
    "start_time": "2022-04-02T17:15:28.875Z"
   },
   {
    "duration": 24,
    "start_time": "2022-04-02T17:15:28.938Z"
   },
   {
    "duration": 19,
    "start_time": "2022-04-02T17:15:28.964Z"
   },
   {
    "duration": 24,
    "start_time": "2022-04-02T17:15:28.985Z"
   },
   {
    "duration": 4,
    "start_time": "2022-04-02T17:15:29.010Z"
   },
   {
    "duration": 16,
    "start_time": "2022-04-02T17:15:29.015Z"
   },
   {
    "duration": 49,
    "start_time": "2022-04-02T17:15:29.034Z"
   },
   {
    "duration": 57,
    "start_time": "2022-04-02T17:15:29.084Z"
   },
   {
    "duration": 17,
    "start_time": "2022-04-02T17:15:29.142Z"
   },
   {
    "duration": 8,
    "start_time": "2022-04-02T17:15:29.161Z"
   },
   {
    "duration": 4,
    "start_time": "2022-04-02T17:15:29.170Z"
   },
   {
    "duration": 37,
    "start_time": "2022-04-02T17:15:29.175Z"
   },
   {
    "duration": 10,
    "start_time": "2022-04-02T17:15:41.089Z"
   },
   {
    "duration": 18,
    "start_time": "2022-04-02T17:16:04.769Z"
   },
   {
    "duration": 14,
    "start_time": "2022-04-02T17:16:27.549Z"
   },
   {
    "duration": 7,
    "start_time": "2022-04-02T17:20:52.787Z"
   },
   {
    "duration": 14,
    "start_time": "2022-04-02T17:22:51.980Z"
   },
   {
    "duration": 13,
    "start_time": "2022-04-02T17:23:10.237Z"
   },
   {
    "duration": 13,
    "start_time": "2022-04-02T17:23:15.753Z"
   },
   {
    "duration": 12,
    "start_time": "2022-04-02T17:23:24.427Z"
   },
   {
    "duration": 15,
    "start_time": "2022-04-02T17:23:35.117Z"
   },
   {
    "duration": 14,
    "start_time": "2022-04-02T17:23:40.810Z"
   },
   {
    "duration": 15,
    "start_time": "2022-04-02T17:25:48.139Z"
   },
   {
    "duration": 35,
    "start_time": "2022-04-02T17:25:58.856Z"
   },
   {
    "duration": 33,
    "start_time": "2022-04-02T17:27:55.048Z"
   },
   {
    "duration": 3,
    "start_time": "2022-04-02T17:28:12.048Z"
   },
   {
    "duration": 13,
    "start_time": "2022-04-02T17:28:18.535Z"
   },
   {
    "duration": 31,
    "start_time": "2022-04-02T17:29:48.691Z"
   },
   {
    "duration": 12,
    "start_time": "2022-04-02T17:29:52.546Z"
   },
   {
    "duration": 47,
    "start_time": "2022-04-02T17:42:35.625Z"
   },
   {
    "duration": 34,
    "start_time": "2022-04-02T17:43:55.292Z"
   },
   {
    "duration": 16,
    "start_time": "2022-04-02T17:44:31.786Z"
   },
   {
    "duration": 15,
    "start_time": "2022-04-02T17:44:32.343Z"
   },
   {
    "duration": 48,
    "start_time": "2022-04-02T17:45:41.219Z"
   },
   {
    "duration": 33,
    "start_time": "2022-04-02T17:45:42.293Z"
   },
   {
    "duration": 16,
    "start_time": "2022-04-02T17:45:42.658Z"
   },
   {
    "duration": 15,
    "start_time": "2022-04-02T17:45:43.188Z"
   },
   {
    "duration": 16,
    "start_time": "2022-04-02T17:45:53.229Z"
   },
   {
    "duration": 11,
    "start_time": "2022-04-02T17:46:51.900Z"
   },
   {
    "duration": 11,
    "start_time": "2022-04-02T17:47:04.721Z"
   },
   {
    "duration": 11,
    "start_time": "2022-04-02T17:47:07.782Z"
   },
   {
    "duration": 12,
    "start_time": "2022-04-02T17:52:24.775Z"
   },
   {
    "duration": 12,
    "start_time": "2022-04-02T17:53:43.019Z"
   },
   {
    "duration": 15,
    "start_time": "2022-04-02T17:53:57.009Z"
   },
   {
    "duration": 1021,
    "start_time": "2022-04-02T17:57:42.353Z"
   },
   {
    "duration": 259,
    "start_time": "2022-04-02T17:57:54.539Z"
   },
   {
    "duration": 17,
    "start_time": "2022-04-02T17:58:16.218Z"
   },
   {
    "duration": 13,
    "start_time": "2022-04-02T17:58:35.907Z"
   },
   {
    "duration": 10,
    "start_time": "2022-04-02T17:58:41.671Z"
   },
   {
    "duration": 11,
    "start_time": "2022-04-02T18:01:59.248Z"
   },
   {
    "duration": 7,
    "start_time": "2022-04-02T18:02:34.922Z"
   },
   {
    "duration": 7,
    "start_time": "2022-04-02T18:02:40.699Z"
   },
   {
    "duration": 14,
    "start_time": "2022-04-02T18:02:45.467Z"
   },
   {
    "duration": 2,
    "start_time": "2022-04-02T18:03:34.050Z"
   },
   {
    "duration": 370,
    "start_time": "2022-04-02T18:03:34.054Z"
   },
   {
    "duration": 53,
    "start_time": "2022-04-02T18:03:34.426Z"
   },
   {
    "duration": 48,
    "start_time": "2022-04-02T18:03:34.481Z"
   },
   {
    "duration": 34,
    "start_time": "2022-04-02T18:03:34.531Z"
   },
   {
    "duration": 65,
    "start_time": "2022-04-02T18:03:34.566Z"
   },
   {
    "duration": 26,
    "start_time": "2022-04-02T18:03:34.633Z"
   },
   {
    "duration": 54,
    "start_time": "2022-04-02T18:03:34.660Z"
   },
   {
    "duration": 25,
    "start_time": "2022-04-02T18:03:34.716Z"
   },
   {
    "duration": 21,
    "start_time": "2022-04-02T18:03:34.743Z"
   },
   {
    "duration": 7,
    "start_time": "2022-04-02T18:03:34.767Z"
   },
   {
    "duration": 5,
    "start_time": "2022-04-02T18:03:34.776Z"
   },
   {
    "duration": 36,
    "start_time": "2022-04-02T18:03:34.783Z"
   },
   {
    "duration": 47,
    "start_time": "2022-04-02T18:03:34.821Z"
   },
   {
    "duration": 47,
    "start_time": "2022-04-02T18:03:34.869Z"
   },
   {
    "duration": 17,
    "start_time": "2022-04-02T18:03:34.917Z"
   },
   {
    "duration": 14,
    "start_time": "2022-04-02T18:03:34.935Z"
   },
   {
    "duration": 10,
    "start_time": "2022-04-02T18:04:36.720Z"
   },
   {
    "duration": 11,
    "start_time": "2022-04-02T18:05:03.795Z"
   },
   {
    "duration": 8,
    "start_time": "2022-04-02T18:05:14.832Z"
   },
   {
    "duration": 7,
    "start_time": "2022-04-02T18:11:58.097Z"
   },
   {
    "duration": 4,
    "start_time": "2022-04-02T18:12:06.200Z"
   },
   {
    "duration": 11,
    "start_time": "2022-04-02T18:12:11.369Z"
   },
   {
    "duration": 22,
    "start_time": "2022-04-02T18:17:21.445Z"
   },
   {
    "duration": 20,
    "start_time": "2022-04-02T18:17:28.764Z"
   },
   {
    "duration": 11,
    "start_time": "2022-04-02T18:17:31.145Z"
   },
   {
    "duration": 20,
    "start_time": "2022-04-02T18:17:48.176Z"
   },
   {
    "duration": 12,
    "start_time": "2022-04-02T18:17:50.828Z"
   },
   {
    "duration": 75,
    "start_time": "2022-04-02T18:20:10.888Z"
   },
   {
    "duration": 18,
    "start_time": "2022-04-02T18:20:25.998Z"
   },
   {
    "duration": 22,
    "start_time": "2022-04-02T18:20:42.425Z"
   },
   {
    "duration": 18,
    "start_time": "2022-04-02T18:22:48.733Z"
   },
   {
    "duration": 8,
    "start_time": "2022-04-02T18:23:09.956Z"
   },
   {
    "duration": 16,
    "start_time": "2022-04-02T18:23:14.533Z"
   },
   {
    "duration": 2,
    "start_time": "2022-04-02T18:23:49.527Z"
   },
   {
    "duration": 368,
    "start_time": "2022-04-02T18:23:49.531Z"
   },
   {
    "duration": 57,
    "start_time": "2022-04-02T18:23:49.901Z"
   },
   {
    "duration": 65,
    "start_time": "2022-04-02T18:23:49.961Z"
   },
   {
    "duration": 35,
    "start_time": "2022-04-02T18:23:50.028Z"
   },
   {
    "duration": 64,
    "start_time": "2022-04-02T18:23:50.065Z"
   },
   {
    "duration": 28,
    "start_time": "2022-04-02T18:23:50.131Z"
   },
   {
    "duration": 61,
    "start_time": "2022-04-02T18:23:50.161Z"
   },
   {
    "duration": 24,
    "start_time": "2022-04-02T18:23:50.224Z"
   },
   {
    "duration": 20,
    "start_time": "2022-04-02T18:23:50.250Z"
   },
   {
    "duration": 7,
    "start_time": "2022-04-02T18:23:50.271Z"
   },
   {
    "duration": 28,
    "start_time": "2022-04-02T18:23:50.280Z"
   },
   {
    "duration": 14,
    "start_time": "2022-04-02T18:23:50.310Z"
   },
   {
    "duration": 50,
    "start_time": "2022-04-02T18:23:50.326Z"
   },
   {
    "duration": 54,
    "start_time": "2022-04-02T18:23:50.377Z"
   },
   {
    "duration": 18,
    "start_time": "2022-04-02T18:23:50.433Z"
   },
   {
    "duration": 15,
    "start_time": "2022-04-02T18:23:50.453Z"
   },
   {
    "duration": 39,
    "start_time": "2022-04-02T18:23:50.470Z"
   },
   {
    "duration": 22,
    "start_time": "2022-04-02T18:23:50.510Z"
   },
   {
    "duration": 998,
    "start_time": "2022-04-02T18:24:56.523Z"
   },
   {
    "duration": 13,
    "start_time": "2022-04-02T18:25:04.116Z"
   },
   {
    "duration": 79,
    "start_time": "2022-04-03T09:01:36.484Z"
   },
   {
    "duration": 505,
    "start_time": "2022-04-03T09:01:53.738Z"
   },
   {
    "duration": 515,
    "start_time": "2022-04-03T09:01:54.246Z"
   },
   {
    "duration": 90,
    "start_time": "2022-04-03T09:01:54.763Z"
   },
   {
    "duration": 96,
    "start_time": "2022-04-03T09:01:54.856Z"
   },
   {
    "duration": 55,
    "start_time": "2022-04-03T09:01:54.974Z"
   },
   {
    "duration": 87,
    "start_time": "2022-04-03T09:01:55.031Z"
   },
   {
    "duration": 59,
    "start_time": "2022-04-03T09:01:55.120Z"
   },
   {
    "duration": 56,
    "start_time": "2022-04-03T09:01:55.181Z"
   },
   {
    "duration": 65,
    "start_time": "2022-04-03T09:01:55.239Z"
   },
   {
    "duration": 31,
    "start_time": "2022-04-03T09:01:55.307Z"
   },
   {
    "duration": 15,
    "start_time": "2022-04-03T09:01:55.342Z"
   },
   {
    "duration": 11,
    "start_time": "2022-04-03T09:01:55.374Z"
   },
   {
    "duration": 25,
    "start_time": "2022-04-03T09:01:55.387Z"
   },
   {
    "duration": 94,
    "start_time": "2022-04-03T09:01:55.414Z"
   },
   {
    "duration": 79,
    "start_time": "2022-04-03T09:01:55.510Z"
   },
   {
    "duration": 30,
    "start_time": "2022-04-03T09:01:55.592Z"
   },
   {
    "duration": 20,
    "start_time": "2022-04-03T09:01:55.624Z"
   },
   {
    "duration": 66,
    "start_time": "2022-04-03T09:01:55.646Z"
   },
   {
    "duration": 30,
    "start_time": "2022-04-03T09:01:55.714Z"
   },
   {
    "duration": 34,
    "start_time": "2022-04-03T09:01:55.745Z"
   },
   {
    "duration": 13,
    "start_time": "2022-04-03T09:02:04.207Z"
   },
   {
    "duration": 31,
    "start_time": "2022-04-03T09:02:22.251Z"
   },
   {
    "duration": 114,
    "start_time": "2022-04-03T09:03:03.336Z"
   },
   {
    "duration": 10,
    "start_time": "2022-04-03T09:04:23.113Z"
   },
   {
    "duration": 10,
    "start_time": "2022-04-03T09:06:31.437Z"
   },
   {
    "duration": 11,
    "start_time": "2022-04-03T09:06:45.006Z"
   },
   {
    "duration": 12,
    "start_time": "2022-04-03T09:07:04.736Z"
   },
   {
    "duration": 10,
    "start_time": "2022-04-03T09:07:39.534Z"
   },
   {
    "duration": 10,
    "start_time": "2022-04-03T09:07:47.508Z"
   },
   {
    "duration": 10,
    "start_time": "2022-04-03T09:07:53.841Z"
   },
   {
    "duration": 12,
    "start_time": "2022-04-03T09:07:59.023Z"
   },
   {
    "duration": 9,
    "start_time": "2022-04-03T09:08:06.721Z"
   },
   {
    "duration": 11,
    "start_time": "2022-04-03T09:08:47.771Z"
   },
   {
    "duration": 14,
    "start_time": "2022-04-03T09:09:02.862Z"
   },
   {
    "duration": 20,
    "start_time": "2022-04-03T09:09:26.999Z"
   },
   {
    "duration": 23,
    "start_time": "2022-04-03T09:09:44.661Z"
   },
   {
    "duration": 25,
    "start_time": "2022-04-03T09:09:59.384Z"
   },
   {
    "duration": 12,
    "start_time": "2022-04-03T09:14:48.778Z"
   },
   {
    "duration": 20,
    "start_time": "2022-04-03T09:14:53.784Z"
   },
   {
    "duration": 23,
    "start_time": "2022-04-03T09:15:33.474Z"
   },
   {
    "duration": 21,
    "start_time": "2022-04-03T09:15:41.088Z"
   },
   {
    "duration": 15,
    "start_time": "2022-04-03T09:15:45.533Z"
   },
   {
    "duration": 6,
    "start_time": "2022-04-03T09:15:51.016Z"
   },
   {
    "duration": 6,
    "start_time": "2022-04-03T09:16:15.288Z"
   },
   {
    "duration": 59,
    "start_time": "2022-04-03T09:16:21.495Z"
   },
   {
    "duration": 22,
    "start_time": "2022-04-03T09:16:46.619Z"
   },
   {
    "duration": 1513,
    "start_time": "2022-04-03T09:18:51.173Z"
   },
   {
    "duration": 10,
    "start_time": "2022-04-03T09:19:02.724Z"
   },
   {
    "duration": 24,
    "start_time": "2022-04-03T09:19:06.432Z"
   },
   {
    "duration": 4,
    "start_time": "2022-04-03T09:19:32.844Z"
   },
   {
    "duration": 513,
    "start_time": "2022-04-03T09:19:32.851Z"
   },
   {
    "duration": 78,
    "start_time": "2022-04-03T09:19:33.366Z"
   },
   {
    "duration": 74,
    "start_time": "2022-04-03T09:19:33.446Z"
   },
   {
    "duration": 72,
    "start_time": "2022-04-03T09:19:33.523Z"
   },
   {
    "duration": 85,
    "start_time": "2022-04-03T09:19:33.598Z"
   },
   {
    "duration": 45,
    "start_time": "2022-04-03T09:19:33.686Z"
   },
   {
    "duration": 77,
    "start_time": "2022-04-03T09:19:33.733Z"
   },
   {
    "duration": 38,
    "start_time": "2022-04-03T09:19:33.812Z"
   },
   {
    "duration": 52,
    "start_time": "2022-04-03T09:19:33.852Z"
   },
   {
    "duration": 11,
    "start_time": "2022-04-03T09:19:33.909Z"
   },
   {
    "duration": 5,
    "start_time": "2022-04-03T09:19:33.923Z"
   },
   {
    "duration": 56,
    "start_time": "2022-04-03T09:19:33.930Z"
   },
   {
    "duration": 87,
    "start_time": "2022-04-03T09:19:33.989Z"
   },
   {
    "duration": 59,
    "start_time": "2022-04-03T09:19:34.078Z"
   },
   {
    "duration": 40,
    "start_time": "2022-04-03T09:19:34.139Z"
   },
   {
    "duration": 23,
    "start_time": "2022-04-03T09:19:34.181Z"
   },
   {
    "duration": 32,
    "start_time": "2022-04-03T09:19:34.207Z"
   },
   {
    "duration": 63,
    "start_time": "2022-04-03T09:19:34.242Z"
   },
   {
    "duration": 6,
    "start_time": "2022-04-03T09:19:34.307Z"
   },
   {
    "duration": 11,
    "start_time": "2022-04-03T09:19:34.315Z"
   },
   {
    "duration": 8,
    "start_time": "2022-04-03T09:19:34.329Z"
   },
   {
    "duration": 58,
    "start_time": "2022-04-03T09:19:34.339Z"
   },
   {
    "duration": 399,
    "start_time": "2022-04-03T09:20:51.766Z"
   },
   {
    "duration": 23,
    "start_time": "2022-04-03T09:21:05.603Z"
   },
   {
    "duration": 7,
    "start_time": "2022-04-03T09:21:32.287Z"
   },
   {
    "duration": 24,
    "start_time": "2022-04-03T09:21:35.288Z"
   },
   {
    "duration": 31,
    "start_time": "2022-04-03T09:23:43.450Z"
   },
   {
    "duration": 3,
    "start_time": "2022-04-03T09:23:49.214Z"
   },
   {
    "duration": 500,
    "start_time": "2022-04-03T09:23:49.221Z"
   },
   {
    "duration": 72,
    "start_time": "2022-04-03T09:23:49.723Z"
   },
   {
    "duration": 60,
    "start_time": "2022-04-03T09:23:49.798Z"
   },
   {
    "duration": 46,
    "start_time": "2022-04-03T09:23:49.885Z"
   },
   {
    "duration": 86,
    "start_time": "2022-04-03T09:23:49.933Z"
   },
   {
    "duration": 66,
    "start_time": "2022-04-03T09:23:50.021Z"
   },
   {
    "duration": 51,
    "start_time": "2022-04-03T09:23:50.090Z"
   },
   {
    "duration": 54,
    "start_time": "2022-04-03T09:23:50.143Z"
   },
   {
    "duration": 29,
    "start_time": "2022-04-03T09:23:50.199Z"
   },
   {
    "duration": 12,
    "start_time": "2022-04-03T09:23:50.231Z"
   },
   {
    "duration": 37,
    "start_time": "2022-04-03T09:23:50.246Z"
   },
   {
    "duration": 27,
    "start_time": "2022-04-03T09:23:50.294Z"
   },
   {
    "duration": 89,
    "start_time": "2022-04-03T09:23:50.323Z"
   },
   {
    "duration": 63,
    "start_time": "2022-04-03T09:23:50.414Z"
   },
   {
    "duration": 32,
    "start_time": "2022-04-03T09:23:50.480Z"
   },
   {
    "duration": 20,
    "start_time": "2022-04-03T09:23:50.514Z"
   },
   {
    "duration": 53,
    "start_time": "2022-04-03T09:23:50.536Z"
   },
   {
    "duration": 45,
    "start_time": "2022-04-03T09:23:50.591Z"
   },
   {
    "duration": 5,
    "start_time": "2022-04-03T09:23:50.638Z"
   },
   {
    "duration": 31,
    "start_time": "2022-04-03T09:23:50.645Z"
   },
   {
    "duration": 11,
    "start_time": "2022-04-03T09:23:50.679Z"
   },
   {
    "duration": 32,
    "start_time": "2022-04-03T09:23:50.692Z"
   },
   {
    "duration": 17,
    "start_time": "2022-04-03T09:24:17.487Z"
   },
   {
    "duration": 16,
    "start_time": "2022-04-03T09:24:38.546Z"
   },
   {
    "duration": 16,
    "start_time": "2022-04-03T09:25:10.416Z"
   },
   {
    "duration": 19,
    "start_time": "2022-04-03T09:25:22.337Z"
   },
   {
    "duration": 23,
    "start_time": "2022-04-03T09:28:27.268Z"
   },
   {
    "duration": 13,
    "start_time": "2022-04-03T09:28:38.811Z"
   },
   {
    "duration": 31,
    "start_time": "2022-04-03T09:28:42.594Z"
   },
   {
    "duration": 19,
    "start_time": "2022-04-03T09:30:30.239Z"
   },
   {
    "duration": 39,
    "start_time": "2022-04-03T09:30:51.060Z"
   },
   {
    "duration": 8,
    "start_time": "2022-04-03T09:46:42.721Z"
   },
   {
    "duration": 19,
    "start_time": "2022-04-03T09:46:57.108Z"
   },
   {
    "duration": 5,
    "start_time": "2022-04-03T09:47:10.942Z"
   },
   {
    "duration": 22,
    "start_time": "2022-04-03T09:47:15.674Z"
   },
   {
    "duration": 17,
    "start_time": "2022-04-03T09:47:43.450Z"
   },
   {
    "duration": 22,
    "start_time": "2022-04-03T09:47:45.875Z"
   },
   {
    "duration": 28,
    "start_time": "2022-04-03T09:47:49.015Z"
   },
   {
    "duration": 33,
    "start_time": "2022-04-03T09:48:33.770Z"
   },
   {
    "duration": 23,
    "start_time": "2022-04-03T09:48:42.111Z"
   },
   {
    "duration": 56,
    "start_time": "2022-04-03T09:48:59.805Z"
   },
   {
    "duration": 19,
    "start_time": "2022-04-03T09:49:16.896Z"
   },
   {
    "duration": 29,
    "start_time": "2022-04-03T10:55:51.069Z"
   },
   {
    "duration": 27,
    "start_time": "2022-04-03T10:55:58.345Z"
   },
   {
    "duration": 25,
    "start_time": "2022-04-03T10:55:59.467Z"
   },
   {
    "duration": 19,
    "start_time": "2022-04-03T10:55:59.749Z"
   },
   {
    "duration": 12,
    "start_time": "2022-04-03T10:56:00.037Z"
   },
   {
    "duration": 4,
    "start_time": "2022-04-03T10:56:04.301Z"
   },
   {
    "duration": 543,
    "start_time": "2022-04-03T10:56:04.307Z"
   },
   {
    "duration": 76,
    "start_time": "2022-04-03T10:56:04.853Z"
   },
   {
    "duration": 83,
    "start_time": "2022-04-03T10:56:04.931Z"
   },
   {
    "duration": 79,
    "start_time": "2022-04-03T10:56:05.017Z"
   },
   {
    "duration": 82,
    "start_time": "2022-04-03T10:56:05.098Z"
   },
   {
    "duration": 41,
    "start_time": "2022-04-03T10:56:05.187Z"
   },
   {
    "duration": 74,
    "start_time": "2022-04-03T10:56:05.229Z"
   },
   {
    "duration": 35,
    "start_time": "2022-04-03T10:56:05.305Z"
   },
   {
    "duration": 50,
    "start_time": "2022-04-03T10:56:05.342Z"
   },
   {
    "duration": 11,
    "start_time": "2022-04-03T10:56:05.397Z"
   },
   {
    "duration": 12,
    "start_time": "2022-04-03T10:56:05.410Z"
   },
   {
    "duration": 24,
    "start_time": "2022-04-03T10:56:05.424Z"
   },
   {
    "duration": 98,
    "start_time": "2022-04-03T10:56:05.450Z"
   },
   {
    "duration": 70,
    "start_time": "2022-04-03T10:56:05.550Z"
   },
   {
    "duration": 24,
    "start_time": "2022-04-03T10:56:05.622Z"
   },
   {
    "duration": 41,
    "start_time": "2022-04-03T10:56:05.649Z"
   },
   {
    "duration": 35,
    "start_time": "2022-04-03T10:56:05.693Z"
   },
   {
    "duration": 6,
    "start_time": "2022-04-03T10:56:05.730Z"
   },
   {
    "duration": 36,
    "start_time": "2022-04-03T10:56:05.739Z"
   },
   {
    "duration": 10,
    "start_time": "2022-04-03T10:56:05.783Z"
   },
   {
    "duration": 14,
    "start_time": "2022-04-03T10:56:05.795Z"
   },
   {
    "duration": 37,
    "start_time": "2022-04-03T10:56:05.811Z"
   },
   {
    "duration": 25,
    "start_time": "2022-04-03T10:56:05.874Z"
   },
   {
    "duration": 14,
    "start_time": "2022-04-03T10:57:10.505Z"
   },
   {
    "duration": 19,
    "start_time": "2022-04-03T10:57:14.293Z"
   },
   {
    "duration": 18,
    "start_time": "2022-04-03T10:57:57.870Z"
   },
   {
    "duration": 17,
    "start_time": "2022-04-03T10:58:03.196Z"
   },
   {
    "duration": 14,
    "start_time": "2022-04-03T10:58:15.881Z"
   },
   {
    "duration": 17,
    "start_time": "2022-04-03T10:58:37.754Z"
   },
   {
    "duration": 9,
    "start_time": "2022-04-03T10:58:40.853Z"
   },
   {
    "duration": 23,
    "start_time": "2022-04-03T10:59:20.511Z"
   },
   {
    "duration": 95,
    "start_time": "2022-04-03T10:59:27.511Z"
   },
   {
    "duration": 23,
    "start_time": "2022-04-03T10:59:49.891Z"
   },
   {
    "duration": 36,
    "start_time": "2022-04-03T11:00:12.727Z"
   },
   {
    "duration": 35,
    "start_time": "2022-04-03T11:01:00.417Z"
   },
   {
    "duration": 45,
    "start_time": "2022-04-03T11:01:11.945Z"
   },
   {
    "duration": 29,
    "start_time": "2022-04-03T11:01:57.665Z"
   },
   {
    "duration": 39,
    "start_time": "2022-04-03T11:02:02.806Z"
   },
   {
    "duration": 42,
    "start_time": "2022-04-03T11:02:08.138Z"
   },
   {
    "duration": 1638,
    "start_time": "2022-04-03T11:02:33.523Z"
   },
   {
    "duration": 37,
    "start_time": "2022-04-03T11:02:53.488Z"
   },
   {
    "duration": 26,
    "start_time": "2022-04-03T11:03:02.203Z"
   },
   {
    "duration": 18,
    "start_time": "2022-04-03T11:03:15.350Z"
   },
   {
    "duration": 34,
    "start_time": "2022-04-03T11:03:27.687Z"
   },
   {
    "duration": 29,
    "start_time": "2022-04-03T11:04:21.507Z"
   },
   {
    "duration": 33,
    "start_time": "2022-04-03T11:04:32.013Z"
   },
   {
    "duration": 31,
    "start_time": "2022-04-03T11:04:41.946Z"
   },
   {
    "duration": 29,
    "start_time": "2022-04-03T11:04:49.757Z"
   },
   {
    "duration": 34,
    "start_time": "2022-04-03T11:05:24.008Z"
   },
   {
    "duration": 62,
    "start_time": "2022-04-03T11:05:48.911Z"
   },
   {
    "duration": 57,
    "start_time": "2022-04-03T11:06:30.011Z"
   },
   {
    "duration": 61,
    "start_time": "2022-04-03T11:06:34.656Z"
   },
   {
    "duration": 79,
    "start_time": "2022-04-03T11:06:40.124Z"
   },
   {
    "duration": 54,
    "start_time": "2022-04-03T11:07:03.501Z"
   },
   {
    "duration": 43,
    "start_time": "2022-04-03T11:07:07.601Z"
   },
   {
    "duration": 4,
    "start_time": "2022-04-03T11:07:19.733Z"
   },
   {
    "duration": 573,
    "start_time": "2022-04-03T11:07:19.739Z"
   },
   {
    "duration": 73,
    "start_time": "2022-04-03T11:07:20.314Z"
   },
   {
    "duration": 92,
    "start_time": "2022-04-03T11:07:20.390Z"
   },
   {
    "duration": 57,
    "start_time": "2022-04-03T11:07:20.485Z"
   },
   {
    "duration": 94,
    "start_time": "2022-04-03T11:07:20.544Z"
   },
   {
    "duration": 87,
    "start_time": "2022-04-03T11:07:20.640Z"
   },
   {
    "duration": 50,
    "start_time": "2022-04-03T11:07:20.730Z"
   },
   {
    "duration": 56,
    "start_time": "2022-04-03T11:07:20.783Z"
   },
   {
    "duration": 61,
    "start_time": "2022-04-03T11:07:20.841Z"
   },
   {
    "duration": 12,
    "start_time": "2022-04-03T11:07:20.906Z"
   },
   {
    "duration": 15,
    "start_time": "2022-04-03T11:07:20.921Z"
   },
   {
    "duration": 112,
    "start_time": "2022-04-03T11:07:20.939Z"
   },
   {
    "duration": 77,
    "start_time": "2022-04-03T11:07:21.053Z"
   },
   {
    "duration": 28,
    "start_time": "2022-04-03T11:07:21.132Z"
   },
   {
    "duration": 44,
    "start_time": "2022-04-03T11:07:21.162Z"
   },
   {
    "duration": 38,
    "start_time": "2022-04-03T11:07:21.209Z"
   },
   {
    "duration": 5,
    "start_time": "2022-04-03T11:07:21.250Z"
   },
   {
    "duration": 28,
    "start_time": "2022-04-03T11:07:21.257Z"
   },
   {
    "duration": 29,
    "start_time": "2022-04-03T11:07:21.292Z"
   },
   {
    "duration": 14,
    "start_time": "2022-04-03T11:07:21.323Z"
   },
   {
    "duration": 51,
    "start_time": "2022-04-03T11:07:21.339Z"
   },
   {
    "duration": 27,
    "start_time": "2022-04-03T11:07:21.393Z"
   },
   {
    "duration": 9,
    "start_time": "2022-04-03T11:11:40.916Z"
   },
   {
    "duration": 8,
    "start_time": "2022-04-03T11:11:50.163Z"
   },
   {
    "duration": 15,
    "start_time": "2022-04-03T11:12:00.452Z"
   },
   {
    "duration": 3,
    "start_time": "2022-04-03T11:12:09.897Z"
   },
   {
    "duration": 505,
    "start_time": "2022-04-03T11:12:09.903Z"
   },
   {
    "duration": 77,
    "start_time": "2022-04-03T11:12:10.410Z"
   },
   {
    "duration": 61,
    "start_time": "2022-04-03T11:12:10.491Z"
   },
   {
    "duration": 71,
    "start_time": "2022-04-03T11:12:10.555Z"
   },
   {
    "duration": 80,
    "start_time": "2022-04-03T11:12:10.628Z"
   },
   {
    "duration": 69,
    "start_time": "2022-04-03T11:12:10.710Z"
   },
   {
    "duration": 47,
    "start_time": "2022-04-03T11:12:10.782Z"
   },
   {
    "duration": 52,
    "start_time": "2022-04-03T11:12:10.833Z"
   },
   {
    "duration": 28,
    "start_time": "2022-04-03T11:12:10.888Z"
   },
   {
    "duration": 11,
    "start_time": "2022-04-03T11:12:10.918Z"
   },
   {
    "duration": 6,
    "start_time": "2022-04-03T11:12:10.931Z"
   },
   {
    "duration": 104,
    "start_time": "2022-04-03T11:12:10.938Z"
   },
   {
    "duration": 62,
    "start_time": "2022-04-03T11:12:11.044Z"
   },
   {
    "duration": 26,
    "start_time": "2022-04-03T11:12:11.108Z"
   },
   {
    "duration": 38,
    "start_time": "2022-04-03T11:12:11.136Z"
   },
   {
    "duration": 38,
    "start_time": "2022-04-03T11:12:11.179Z"
   },
   {
    "duration": 6,
    "start_time": "2022-04-03T11:12:11.219Z"
   },
   {
    "duration": 10,
    "start_time": "2022-04-03T11:12:11.228Z"
   },
   {
    "duration": 50,
    "start_time": "2022-04-03T11:12:11.240Z"
   },
   {
    "duration": 0,
    "start_time": "2022-04-03T11:12:11.293Z"
   },
   {
    "duration": 0,
    "start_time": "2022-04-03T11:12:11.294Z"
   },
   {
    "duration": 0,
    "start_time": "2022-04-03T11:12:11.296Z"
   },
   {
    "duration": 21,
    "start_time": "2022-04-03T11:12:22.107Z"
   },
   {
    "duration": 13,
    "start_time": "2022-04-03T11:12:27.201Z"
   },
   {
    "duration": 33,
    "start_time": "2022-04-03T11:12:27.988Z"
   },
   {
    "duration": 7,
    "start_time": "2022-04-03T11:12:46.351Z"
   },
   {
    "duration": 23,
    "start_time": "2022-04-03T11:12:48.368Z"
   },
   {
    "duration": 15,
    "start_time": "2022-04-03T11:12:51.371Z"
   },
   {
    "duration": 30,
    "start_time": "2022-04-03T11:12:51.992Z"
   },
   {
    "duration": 18,
    "start_time": "2022-04-03T11:13:21.075Z"
   },
   {
    "duration": 50,
    "start_time": "2022-04-03T11:13:21.655Z"
   },
   {
    "duration": 4,
    "start_time": "2022-04-03T11:13:30.083Z"
   },
   {
    "duration": 762,
    "start_time": "2022-04-03T11:13:30.090Z"
   },
   {
    "duration": 89,
    "start_time": "2022-04-03T11:13:30.855Z"
   },
   {
    "duration": 85,
    "start_time": "2022-04-03T11:13:30.947Z"
   },
   {
    "duration": 73,
    "start_time": "2022-04-03T11:13:31.035Z"
   },
   {
    "duration": 96,
    "start_time": "2022-04-03T11:13:31.111Z"
   },
   {
    "duration": 43,
    "start_time": "2022-04-03T11:13:31.210Z"
   },
   {
    "duration": 91,
    "start_time": "2022-04-03T11:13:31.254Z"
   },
   {
    "duration": 80,
    "start_time": "2022-04-03T11:13:31.348Z"
   },
   {
    "duration": 53,
    "start_time": "2022-04-03T11:13:31.432Z"
   },
   {
    "duration": 17,
    "start_time": "2022-04-03T11:13:31.490Z"
   },
   {
    "duration": 7,
    "start_time": "2022-04-03T11:13:31.509Z"
   },
   {
    "duration": 127,
    "start_time": "2022-04-03T11:13:31.519Z"
   },
   {
    "duration": 60,
    "start_time": "2022-04-03T11:13:31.649Z"
   },
   {
    "duration": 29,
    "start_time": "2022-04-03T11:13:31.712Z"
   },
   {
    "duration": 56,
    "start_time": "2022-04-03T11:13:31.744Z"
   },
   {
    "duration": 35,
    "start_time": "2022-04-03T11:13:31.802Z"
   },
   {
    "duration": 11,
    "start_time": "2022-04-03T11:13:31.840Z"
   },
   {
    "duration": 24,
    "start_time": "2022-04-03T11:13:31.853Z"
   },
   {
    "duration": 9,
    "start_time": "2022-04-03T11:13:31.884Z"
   },
   {
    "duration": 17,
    "start_time": "2022-04-03T11:13:31.896Z"
   },
   {
    "duration": 34,
    "start_time": "2022-04-03T11:13:31.915Z"
   },
   {
    "duration": 49,
    "start_time": "2022-04-03T11:13:31.951Z"
   },
   {
    "duration": 5,
    "start_time": "2022-04-03T11:14:07.887Z"
   },
   {
    "duration": 516,
    "start_time": "2022-04-03T11:14:07.894Z"
   },
   {
    "duration": 70,
    "start_time": "2022-04-03T11:14:08.412Z"
   },
   {
    "duration": 62,
    "start_time": "2022-04-03T11:14:08.484Z"
   },
   {
    "duration": 78,
    "start_time": "2022-04-03T11:14:08.548Z"
   },
   {
    "duration": 79,
    "start_time": "2022-04-03T11:14:08.628Z"
   },
   {
    "duration": 40,
    "start_time": "2022-04-03T11:14:08.710Z"
   },
   {
    "duration": 46,
    "start_time": "2022-04-03T11:14:08.782Z"
   },
   {
    "duration": 48,
    "start_time": "2022-04-03T11:14:08.830Z"
   },
   {
    "duration": 31,
    "start_time": "2022-04-03T11:14:08.881Z"
   },
   {
    "duration": 12,
    "start_time": "2022-04-03T11:14:08.914Z"
   },
   {
    "duration": 38,
    "start_time": "2022-04-03T11:14:08.928Z"
   },
   {
    "duration": 123,
    "start_time": "2022-04-03T11:14:08.970Z"
   },
   {
    "duration": 53,
    "start_time": "2022-04-03T11:14:09.096Z"
   },
   {
    "duration": 43,
    "start_time": "2022-04-03T11:14:09.152Z"
   },
   {
    "duration": 22,
    "start_time": "2022-04-03T11:14:09.198Z"
   },
   {
    "duration": 39,
    "start_time": "2022-04-03T11:14:09.222Z"
   },
   {
    "duration": 7,
    "start_time": "2022-04-03T11:14:09.282Z"
   },
   {
    "duration": 26,
    "start_time": "2022-04-03T11:14:09.291Z"
   },
   {
    "duration": 21,
    "start_time": "2022-04-03T11:14:09.319Z"
   },
   {
    "duration": 18,
    "start_time": "2022-04-03T11:14:09.342Z"
   },
   {
    "duration": 40,
    "start_time": "2022-04-03T11:14:09.362Z"
   },
   {
    "duration": 33,
    "start_time": "2022-04-03T11:14:09.404Z"
   },
   {
    "duration": 37,
    "start_time": "2022-04-03T11:14:28.268Z"
   },
   {
    "duration": 33,
    "start_time": "2022-04-03T11:14:44.239Z"
   },
   {
    "duration": 23,
    "start_time": "2022-04-03T11:15:47.602Z"
   },
   {
    "duration": 37,
    "start_time": "2022-04-03T11:15:58.257Z"
   },
   {
    "duration": 4,
    "start_time": "2022-04-03T11:16:24.730Z"
   },
   {
    "duration": 518,
    "start_time": "2022-04-03T11:16:24.737Z"
   },
   {
    "duration": 74,
    "start_time": "2022-04-03T11:16:25.257Z"
   },
   {
    "duration": 82,
    "start_time": "2022-04-03T11:16:25.334Z"
   },
   {
    "duration": 69,
    "start_time": "2022-04-03T11:16:25.419Z"
   },
   {
    "duration": 86,
    "start_time": "2022-04-03T11:16:25.491Z"
   },
   {
    "duration": 44,
    "start_time": "2022-04-03T11:16:25.581Z"
   },
   {
    "duration": 74,
    "start_time": "2022-04-03T11:16:25.627Z"
   },
   {
    "duration": 39,
    "start_time": "2022-04-03T11:16:25.703Z"
   },
   {
    "duration": 52,
    "start_time": "2022-04-03T11:16:25.744Z"
   },
   {
    "duration": 11,
    "start_time": "2022-04-03T11:16:25.801Z"
   },
   {
    "duration": 11,
    "start_time": "2022-04-03T11:16:25.814Z"
   },
   {
    "duration": 95,
    "start_time": "2022-04-03T11:16:25.827Z"
   },
   {
    "duration": 74,
    "start_time": "2022-04-03T11:16:25.924Z"
   },
   {
    "duration": 28,
    "start_time": "2022-04-03T11:16:26.000Z"
   },
   {
    "duration": 51,
    "start_time": "2022-04-03T11:16:26.030Z"
   },
   {
    "duration": 37,
    "start_time": "2022-04-03T11:16:26.084Z"
   },
   {
    "duration": 6,
    "start_time": "2022-04-03T11:16:26.123Z"
   },
   {
    "duration": 12,
    "start_time": "2022-04-03T11:16:26.132Z"
   },
   {
    "duration": 35,
    "start_time": "2022-04-03T11:16:26.146Z"
   },
   {
    "duration": 13,
    "start_time": "2022-04-03T11:16:26.184Z"
   },
   {
    "duration": 22,
    "start_time": "2022-04-03T11:16:26.199Z"
   },
   {
    "duration": 15,
    "start_time": "2022-04-03T11:16:26.224Z"
   },
   {
    "duration": 10,
    "start_time": "2022-04-03T11:16:51.235Z"
   },
   {
    "duration": 24,
    "start_time": "2022-04-03T11:16:54.154Z"
   },
   {
    "duration": 16,
    "start_time": "2022-04-03T11:17:15.916Z"
   },
   {
    "duration": 35,
    "start_time": "2022-04-03T11:17:16.469Z"
   },
   {
    "duration": 21,
    "start_time": "2022-04-03T11:17:41.266Z"
   },
   {
    "duration": 8,
    "start_time": "2022-04-03T11:30:14.199Z"
   },
   {
    "duration": 12,
    "start_time": "2022-04-03T11:30:17.231Z"
   },
   {
    "duration": 98,
    "start_time": "2022-04-03T11:36:45.078Z"
   },
   {
    "duration": 92,
    "start_time": "2022-04-03T11:36:49.091Z"
   },
   {
    "duration": 4,
    "start_time": "2022-04-03T11:36:53.728Z"
   },
   {
    "duration": 5,
    "start_time": "2022-04-03T11:37:02.661Z"
   },
   {
    "duration": 8,
    "start_time": "2022-04-03T11:37:11.455Z"
   },
   {
    "duration": 9,
    "start_time": "2022-04-03T11:37:19.290Z"
   },
   {
    "duration": 8,
    "start_time": "2022-04-03T11:37:35.199Z"
   },
   {
    "duration": 5,
    "start_time": "2022-04-03T12:51:00.404Z"
   },
   {
    "duration": 9,
    "start_time": "2022-04-03T12:51:28.408Z"
   },
   {
    "duration": 13,
    "start_time": "2022-04-03T12:51:56.555Z"
   },
   {
    "duration": 2057,
    "start_time": "2022-04-03T12:52:05.311Z"
   },
   {
    "duration": 9,
    "start_time": "2022-04-03T12:52:21.403Z"
   },
   {
    "duration": 13,
    "start_time": "2022-04-03T12:52:32.109Z"
   },
   {
    "duration": 5,
    "start_time": "2022-04-03T12:52:49.013Z"
   },
   {
    "duration": 13,
    "start_time": "2022-04-03T12:52:50.096Z"
   },
   {
    "duration": 8,
    "start_time": "2022-04-03T15:35:58.501Z"
   },
   {
    "duration": 7,
    "start_time": "2022-04-03T15:36:06.661Z"
   },
   {
    "duration": 39,
    "start_time": "2022-04-03T15:36:13.677Z"
   },
   {
    "duration": 6,
    "start_time": "2022-04-03T15:36:29.755Z"
   },
   {
    "duration": 5,
    "start_time": "2022-04-03T15:36:33.908Z"
   },
   {
    "duration": 5,
    "start_time": "2022-04-03T15:36:36.110Z"
   },
   {
    "duration": 369,
    "start_time": "2022-04-03T15:36:41.690Z"
   },
   {
    "duration": 360,
    "start_time": "2022-04-03T15:36:42.061Z"
   },
   {
    "duration": 50,
    "start_time": "2022-04-03T15:36:42.422Z"
   },
   {
    "duration": 41,
    "start_time": "2022-04-03T15:36:42.475Z"
   },
   {
    "duration": 30,
    "start_time": "2022-04-03T15:36:42.517Z"
   },
   {
    "duration": 52,
    "start_time": "2022-04-03T15:36:42.548Z"
   },
   {
    "duration": 23,
    "start_time": "2022-04-03T15:36:42.601Z"
   },
   {
    "duration": 31,
    "start_time": "2022-04-03T15:36:42.625Z"
   },
   {
    "duration": 45,
    "start_time": "2022-04-03T15:36:42.657Z"
   },
   {
    "duration": 18,
    "start_time": "2022-04-03T15:36:42.704Z"
   },
   {
    "duration": 7,
    "start_time": "2022-04-03T15:36:42.724Z"
   },
   {
    "duration": 4,
    "start_time": "2022-04-03T15:36:42.732Z"
   },
   {
    "duration": 71,
    "start_time": "2022-04-03T15:36:42.738Z"
   },
   {
    "duration": 47,
    "start_time": "2022-04-03T15:36:42.810Z"
   },
   {
    "duration": 28,
    "start_time": "2022-04-03T15:36:42.858Z"
   },
   {
    "duration": 13,
    "start_time": "2022-04-03T15:36:42.888Z"
   },
   {
    "duration": 19,
    "start_time": "2022-04-03T15:36:42.903Z"
   },
   {
    "duration": 3,
    "start_time": "2022-04-03T15:36:42.923Z"
   },
   {
    "duration": 8,
    "start_time": "2022-04-03T15:36:42.927Z"
   },
   {
    "duration": 48,
    "start_time": "2022-04-03T15:36:42.936Z"
   },
   {
    "duration": 7,
    "start_time": "2022-04-03T15:36:42.985Z"
   },
   {
    "duration": 17,
    "start_time": "2022-04-03T15:36:42.993Z"
   },
   {
    "duration": 6,
    "start_time": "2022-04-03T15:36:43.011Z"
   },
   {
    "duration": 4,
    "start_time": "2022-04-03T15:36:43.018Z"
   },
   {
    "duration": 27,
    "start_time": "2022-04-03T15:36:43.023Z"
   },
   {
    "duration": 8,
    "start_time": "2022-04-03T15:37:09.624Z"
   },
   {
    "duration": 8,
    "start_time": "2022-04-03T15:37:38.555Z"
   },
   {
    "duration": 12115,
    "start_time": "2022-04-03T15:40:07.029Z"
   },
   {
    "duration": 4,
    "start_time": "2022-04-03T15:40:43.252Z"
   },
   {
    "duration": 12,
    "start_time": "2022-04-03T15:40:53.419Z"
   },
   {
    "duration": 8,
    "start_time": "2022-04-03T15:41:01.859Z"
   },
   {
    "duration": 4,
    "start_time": "2022-04-03T15:41:04.515Z"
   },
   {
    "duration": 82,
    "start_time": "2022-04-03T15:41:15.337Z"
   },
   {
    "duration": 3,
    "start_time": "2022-04-03T15:45:29.270Z"
   },
   {
    "duration": 11,
    "start_time": "2022-04-03T15:45:32.108Z"
   },
   {
    "duration": 6,
    "start_time": "2022-04-03T15:46:04.510Z"
   },
   {
    "duration": 5,
    "start_time": "2022-04-03T15:46:09.763Z"
   },
   {
    "duration": 6,
    "start_time": "2022-04-03T15:46:14.565Z"
   },
   {
    "duration": 3058,
    "start_time": "2022-04-03T15:46:26.033Z"
   },
   {
    "duration": 6,
    "start_time": "2022-04-03T15:47:13.789Z"
   },
   {
    "duration": 3110,
    "start_time": "2022-04-03T15:47:16.321Z"
   },
   {
    "duration": 4,
    "start_time": "2022-04-03T15:47:41.373Z"
   },
   {
    "duration": 3,
    "start_time": "2022-04-03T15:47:47.226Z"
   },
   {
    "duration": 6,
    "start_time": "2022-04-03T15:48:00.495Z"
   },
   {
    "duration": 3076,
    "start_time": "2022-04-03T15:48:07.394Z"
   },
   {
    "duration": 3,
    "start_time": "2022-04-03T15:48:27.495Z"
   },
   {
    "duration": 3256,
    "start_time": "2022-04-03T15:48:28.683Z"
   },
   {
    "duration": 3,
    "start_time": "2022-04-03T15:48:51.713Z"
   },
   {
    "duration": 12,
    "start_time": "2022-04-03T15:48:52.107Z"
   },
   {
    "duration": 5,
    "start_time": "2022-04-03T15:49:16.286Z"
   },
   {
    "duration": 9,
    "start_time": "2022-04-03T15:49:17.509Z"
   },
   {
    "duration": 3540,
    "start_time": "2022-04-03T15:56:43.328Z"
   },
   {
    "duration": 20,
    "start_time": "2022-04-03T15:56:56.322Z"
   },
   {
    "duration": 3754,
    "start_time": "2022-04-03T16:00:21.555Z"
   },
   {
    "duration": 19,
    "start_time": "2022-04-03T16:00:28.789Z"
   },
   {
    "duration": 28,
    "start_time": "2022-04-03T16:04:47.134Z"
   },
   {
    "duration": 3,
    "start_time": "2022-04-03T16:04:53.869Z"
   },
   {
    "duration": 382,
    "start_time": "2022-04-03T16:04:53.873Z"
   },
   {
    "duration": 48,
    "start_time": "2022-04-03T16:04:54.257Z"
   },
   {
    "duration": 40,
    "start_time": "2022-04-03T16:04:54.306Z"
   },
   {
    "duration": 49,
    "start_time": "2022-04-03T16:04:54.348Z"
   },
   {
    "duration": 30,
    "start_time": "2022-04-03T16:04:54.399Z"
   },
   {
    "duration": 52,
    "start_time": "2022-04-03T16:04:54.430Z"
   },
   {
    "duration": 29,
    "start_time": "2022-04-03T16:04:54.483Z"
   },
   {
    "duration": 24,
    "start_time": "2022-04-03T16:04:54.513Z"
   },
   {
    "duration": 19,
    "start_time": "2022-04-03T16:04:54.538Z"
   },
   {
    "duration": 7,
    "start_time": "2022-04-03T16:04:54.580Z"
   },
   {
    "duration": 6,
    "start_time": "2022-04-03T16:04:54.589Z"
   },
   {
    "duration": 49,
    "start_time": "2022-04-03T16:04:54.597Z"
   },
   {
    "duration": 58,
    "start_time": "2022-04-03T16:04:54.647Z"
   },
   {
    "duration": 20,
    "start_time": "2022-04-03T16:04:54.706Z"
   },
   {
    "duration": 14,
    "start_time": "2022-04-03T16:04:54.728Z"
   },
   {
    "duration": 39,
    "start_time": "2022-04-03T16:04:54.744Z"
   },
   {
    "duration": 4,
    "start_time": "2022-04-03T16:04:54.784Z"
   },
   {
    "duration": 11,
    "start_time": "2022-04-03T16:04:54.789Z"
   },
   {
    "duration": 6,
    "start_time": "2022-04-03T16:04:54.801Z"
   },
   {
    "duration": 8,
    "start_time": "2022-04-03T16:04:54.809Z"
   },
   {
    "duration": 20,
    "start_time": "2022-04-03T16:04:54.818Z"
   },
   {
    "duration": 8,
    "start_time": "2022-04-03T16:04:54.839Z"
   },
   {
    "duration": 6810,
    "start_time": "2022-04-03T16:04:54.849Z"
   },
   {
    "duration": 35,
    "start_time": "2022-04-03T16:05:01.661Z"
   },
   {
    "duration": 8,
    "start_time": "2022-04-03T16:09:04.866Z"
   },
   {
    "duration": 8,
    "start_time": "2022-04-03T16:09:08.139Z"
   },
   {
    "duration": 8,
    "start_time": "2022-04-03T16:12:13.719Z"
   },
   {
    "duration": 9,
    "start_time": "2022-04-03T16:12:18.264Z"
   },
   {
    "duration": 143,
    "start_time": "2022-04-03T16:12:25.593Z"
   },
   {
    "duration": 2,
    "start_time": "2022-04-03T16:12:47.344Z"
   },
   {
    "duration": 594,
    "start_time": "2022-04-03T16:13:09.711Z"
   },
   {
    "duration": 299,
    "start_time": "2022-04-03T16:13:20.065Z"
   },
   {
    "duration": 269,
    "start_time": "2022-04-03T16:13:29.050Z"
   },
   {
    "duration": 321,
    "start_time": "2022-04-03T16:13:35.286Z"
   },
   {
    "duration": 268,
    "start_time": "2022-04-03T16:13:38.156Z"
   },
   {
    "duration": 159,
    "start_time": "2022-04-03T16:14:39.014Z"
   },
   {
    "duration": 127,
    "start_time": "2022-04-03T16:15:04.257Z"
   },
   {
    "duration": 186,
    "start_time": "2022-04-03T16:15:08.824Z"
   },
   {
    "duration": 183,
    "start_time": "2022-04-03T16:15:25.968Z"
   },
   {
    "duration": 114,
    "start_time": "2022-04-03T16:15:42.225Z"
   },
   {
    "duration": 378,
    "start_time": "2022-04-03T16:15:51.390Z"
   },
   {
    "duration": 444,
    "start_time": "2022-04-03T16:16:05.827Z"
   },
   {
    "duration": 1557,
    "start_time": "2022-04-03T16:16:34.498Z"
   },
   {
    "duration": 478,
    "start_time": "2022-04-03T16:16:54.612Z"
   },
   {
    "duration": 1499,
    "start_time": "2022-04-03T16:16:59.918Z"
   },
   {
    "duration": 1810,
    "start_time": "2022-04-03T16:17:14.906Z"
   },
   {
    "duration": 18460,
    "start_time": "2022-04-03T16:17:40.132Z"
   },
   {
    "duration": 1016,
    "start_time": "2022-04-03T16:18:20.490Z"
   },
   {
    "duration": 1621,
    "start_time": "2022-04-03T16:18:26.387Z"
   },
   {
    "duration": 29,
    "start_time": "2022-04-03T16:21:00.355Z"
   },
   {
    "duration": 151,
    "start_time": "2022-04-03T16:23:41.875Z"
   },
   {
    "duration": 173,
    "start_time": "2022-04-03T16:24:00.830Z"
   },
   {
    "duration": 174,
    "start_time": "2022-04-03T16:24:11.229Z"
   },
   {
    "duration": 148,
    "start_time": "2022-04-03T16:24:17.679Z"
   },
   {
    "duration": 135,
    "start_time": "2022-04-03T16:24:49.497Z"
   },
   {
    "duration": 137,
    "start_time": "2022-04-03T16:25:00.974Z"
   },
   {
    "duration": 230,
    "start_time": "2022-04-03T16:25:23.816Z"
   },
   {
    "duration": 110,
    "start_time": "2022-04-03T16:25:37.902Z"
   },
   {
    "duration": 17,
    "start_time": "2022-04-03T16:27:14.410Z"
   },
   {
    "duration": 119,
    "start_time": "2022-04-03T16:27:25.998Z"
   },
   {
    "duration": 21,
    "start_time": "2022-04-03T16:28:22.766Z"
   },
   {
    "duration": 15,
    "start_time": "2022-04-03T16:28:32.444Z"
   },
   {
    "duration": 9,
    "start_time": "2022-04-03T16:28:50.081Z"
   },
   {
    "duration": 9,
    "start_time": "2022-04-03T16:29:04.829Z"
   },
   {
    "duration": 3921,
    "start_time": "2022-04-03T16:30:37.412Z"
   },
   {
    "duration": 20,
    "start_time": "2022-04-03T16:30:41.335Z"
   },
   {
    "duration": 37,
    "start_time": "2022-04-03T16:30:48.990Z"
   },
   {
    "duration": 5,
    "start_time": "2022-04-03T16:31:19.224Z"
   },
   {
    "duration": 5,
    "start_time": "2022-04-03T16:31:25.747Z"
   },
   {
    "duration": 111,
    "start_time": "2022-04-03T16:32:06.162Z"
   },
   {
    "duration": 98,
    "start_time": "2022-04-03T16:32:12.821Z"
   },
   {
    "duration": 44,
    "start_time": "2022-04-04T11:03:20.666Z"
   },
   {
    "duration": 491,
    "start_time": "2022-04-04T11:03:25.109Z"
   },
   {
    "duration": 399,
    "start_time": "2022-04-04T11:03:25.602Z"
   },
   {
    "duration": 59,
    "start_time": "2022-04-04T11:03:26.002Z"
   },
   {
    "duration": 57,
    "start_time": "2022-04-04T11:03:26.064Z"
   },
   {
    "duration": 62,
    "start_time": "2022-04-04T11:03:26.123Z"
   },
   {
    "duration": 73,
    "start_time": "2022-04-04T11:03:26.186Z"
   },
   {
    "duration": 42,
    "start_time": "2022-04-04T11:03:26.262Z"
   },
   {
    "duration": 32,
    "start_time": "2022-04-04T11:03:26.306Z"
   },
   {
    "duration": 43,
    "start_time": "2022-04-04T11:03:26.339Z"
   },
   {
    "duration": 21,
    "start_time": "2022-04-04T11:03:26.386Z"
   },
   {
    "duration": 10,
    "start_time": "2022-04-04T11:03:26.409Z"
   },
   {
    "duration": 17,
    "start_time": "2022-04-04T11:03:26.420Z"
   },
   {
    "duration": 73,
    "start_time": "2022-04-04T11:03:26.438Z"
   },
   {
    "duration": 48,
    "start_time": "2022-04-04T11:03:26.513Z"
   },
   {
    "duration": 33,
    "start_time": "2022-04-04T11:03:26.563Z"
   },
   {
    "duration": 14,
    "start_time": "2022-04-04T11:03:26.598Z"
   },
   {
    "duration": 30,
    "start_time": "2022-04-04T11:03:26.614Z"
   },
   {
    "duration": 21,
    "start_time": "2022-04-04T11:03:26.646Z"
   },
   {
    "duration": 43,
    "start_time": "2022-04-04T11:03:26.669Z"
   },
   {
    "duration": 16,
    "start_time": "2022-04-04T11:03:26.713Z"
   },
   {
    "duration": 25,
    "start_time": "2022-04-04T11:03:26.731Z"
   },
   {
    "duration": 35,
    "start_time": "2022-04-04T11:03:26.757Z"
   },
   {
    "duration": 14,
    "start_time": "2022-04-04T11:03:26.793Z"
   },
   {
    "duration": 3601,
    "start_time": "2022-04-04T11:03:26.809Z"
   },
   {
    "duration": 22,
    "start_time": "2022-04-04T11:03:30.412Z"
   },
   {
    "duration": 3928,
    "start_time": "2022-04-04T11:04:06.606Z"
   },
   {
    "duration": 20,
    "start_time": "2022-04-04T11:04:10.536Z"
   },
   {
    "duration": 4020,
    "start_time": "2022-04-04T11:04:51.300Z"
   },
   {
    "duration": 19,
    "start_time": "2022-04-04T11:04:55.322Z"
   },
   {
    "duration": 2,
    "start_time": "2022-04-04T12:02:50.452Z"
   },
   {
    "duration": 412,
    "start_time": "2022-04-04T12:02:50.456Z"
   },
   {
    "duration": 51,
    "start_time": "2022-04-04T12:02:50.869Z"
   },
   {
    "duration": 42,
    "start_time": "2022-04-04T12:02:50.922Z"
   },
   {
    "duration": 31,
    "start_time": "2022-04-04T12:02:50.980Z"
   },
   {
    "duration": 34,
    "start_time": "2022-04-04T12:02:51.012Z"
   },
   {
    "duration": 49,
    "start_time": "2022-04-04T12:02:51.047Z"
   },
   {
    "duration": 29,
    "start_time": "2022-04-04T12:02:51.097Z"
   },
   {
    "duration": 20,
    "start_time": "2022-04-04T12:02:51.128Z"
   },
   {
    "duration": 39,
    "start_time": "2022-04-04T12:02:51.149Z"
   },
   {
    "duration": 7,
    "start_time": "2022-04-04T12:02:51.189Z"
   },
   {
    "duration": 7,
    "start_time": "2022-04-04T12:02:51.197Z"
   },
   {
    "duration": 49,
    "start_time": "2022-04-04T12:02:51.206Z"
   },
   {
    "duration": 46,
    "start_time": "2022-04-04T12:02:51.256Z"
   },
   {
    "duration": 16,
    "start_time": "2022-04-04T12:02:51.304Z"
   },
   {
    "duration": 14,
    "start_time": "2022-04-04T12:02:51.321Z"
   },
   {
    "duration": 18,
    "start_time": "2022-04-04T12:02:51.336Z"
   },
   {
    "duration": 26,
    "start_time": "2022-04-04T12:02:51.356Z"
   },
   {
    "duration": 7,
    "start_time": "2022-04-04T12:02:51.383Z"
   },
   {
    "duration": 5,
    "start_time": "2022-04-04T12:02:51.391Z"
   },
   {
    "duration": 6,
    "start_time": "2022-04-04T12:02:51.397Z"
   },
   {
    "duration": 17,
    "start_time": "2022-04-04T12:02:51.404Z"
   },
   {
    "duration": 7,
    "start_time": "2022-04-04T12:02:51.422Z"
   },
   {
    "duration": 3403,
    "start_time": "2022-04-04T12:02:51.430Z"
   },
   {
    "duration": 0,
    "start_time": "2022-04-04T12:02:54.835Z"
   },
   {
    "duration": 10,
    "start_time": "2022-04-04T12:03:30.482Z"
   },
   {
    "duration": 2,
    "start_time": "2022-04-04T12:03:34.312Z"
   },
   {
    "duration": 387,
    "start_time": "2022-04-04T12:03:34.316Z"
   },
   {
    "duration": 46,
    "start_time": "2022-04-04T12:03:34.705Z"
   },
   {
    "duration": 39,
    "start_time": "2022-04-04T12:03:34.753Z"
   },
   {
    "duration": 28,
    "start_time": "2022-04-04T12:03:34.794Z"
   },
   {
    "duration": 32,
    "start_time": "2022-04-04T12:03:34.823Z"
   },
   {
    "duration": 47,
    "start_time": "2022-04-04T12:03:34.856Z"
   },
   {
    "duration": 30,
    "start_time": "2022-04-04T12:03:34.904Z"
   },
   {
    "duration": 52,
    "start_time": "2022-04-04T12:03:34.936Z"
   },
   {
    "duration": 29,
    "start_time": "2022-04-04T12:03:34.990Z"
   },
   {
    "duration": 10,
    "start_time": "2022-04-04T12:03:35.021Z"
   },
   {
    "duration": 12,
    "start_time": "2022-04-04T12:03:35.032Z"
   },
   {
    "duration": 57,
    "start_time": "2022-04-04T12:03:35.046Z"
   },
   {
    "duration": 31,
    "start_time": "2022-04-04T12:03:35.104Z"
   },
   {
    "duration": 16,
    "start_time": "2022-04-04T12:03:35.136Z"
   },
   {
    "duration": 30,
    "start_time": "2022-04-04T12:03:35.153Z"
   },
   {
    "duration": 18,
    "start_time": "2022-04-04T12:03:35.185Z"
   },
   {
    "duration": 8,
    "start_time": "2022-04-04T12:03:35.204Z"
   },
   {
    "duration": 15,
    "start_time": "2022-04-04T12:03:35.213Z"
   },
   {
    "duration": 0,
    "start_time": "2022-04-04T12:03:35.229Z"
   },
   {
    "duration": 0,
    "start_time": "2022-04-04T12:03:35.231Z"
   },
   {
    "duration": 0,
    "start_time": "2022-04-04T12:03:35.232Z"
   },
   {
    "duration": 0,
    "start_time": "2022-04-04T12:03:35.233Z"
   },
   {
    "duration": 0,
    "start_time": "2022-04-04T12:03:35.234Z"
   },
   {
    "duration": 0,
    "start_time": "2022-04-04T12:03:35.235Z"
   },
   {
    "duration": 14,
    "start_time": "2022-04-04T12:03:58.079Z"
   },
   {
    "duration": 13,
    "start_time": "2022-04-04T12:04:08.715Z"
   },
   {
    "duration": 7,
    "start_time": "2022-04-04T12:04:52.395Z"
   },
   {
    "duration": 14,
    "start_time": "2022-04-04T12:04:55.516Z"
   },
   {
    "duration": 6,
    "start_time": "2022-04-04T12:05:12.617Z"
   },
   {
    "duration": 14,
    "start_time": "2022-04-04T12:05:15.770Z"
   },
   {
    "duration": 8,
    "start_time": "2022-04-04T12:05:41.166Z"
   },
   {
    "duration": 19,
    "start_time": "2022-04-04T12:05:43.394Z"
   },
   {
    "duration": 16,
    "start_time": "2022-04-04T12:06:01.062Z"
   },
   {
    "duration": 9,
    "start_time": "2022-04-04T12:06:03.323Z"
   },
   {
    "duration": 12,
    "start_time": "2022-04-04T12:06:03.759Z"
   },
   {
    "duration": 6,
    "start_time": "2022-04-04T12:06:04.505Z"
   },
   {
    "duration": 6,
    "start_time": "2022-04-04T12:06:05.074Z"
   },
   {
    "duration": 8,
    "start_time": "2022-04-04T12:06:05.917Z"
   },
   {
    "duration": 19,
    "start_time": "2022-04-04T12:06:06.456Z"
   },
   {
    "duration": 3,
    "start_time": "2022-04-04T12:06:32.014Z"
   },
   {
    "duration": 391,
    "start_time": "2022-04-04T12:06:32.019Z"
   },
   {
    "duration": 45,
    "start_time": "2022-04-04T12:06:32.412Z"
   },
   {
    "duration": 40,
    "start_time": "2022-04-04T12:06:32.459Z"
   },
   {
    "duration": 30,
    "start_time": "2022-04-04T12:06:32.501Z"
   },
   {
    "duration": 31,
    "start_time": "2022-04-04T12:06:32.533Z"
   },
   {
    "duration": 27,
    "start_time": "2022-04-04T12:06:32.581Z"
   },
   {
    "duration": 30,
    "start_time": "2022-04-04T12:06:32.610Z"
   },
   {
    "duration": 43,
    "start_time": "2022-04-04T12:06:32.642Z"
   },
   {
    "duration": 18,
    "start_time": "2022-04-04T12:06:32.687Z"
   },
   {
    "duration": 7,
    "start_time": "2022-04-04T12:06:32.708Z"
   },
   {
    "duration": 5,
    "start_time": "2022-04-04T12:06:32.717Z"
   },
   {
    "duration": 65,
    "start_time": "2022-04-04T12:06:32.724Z"
   },
   {
    "duration": 43,
    "start_time": "2022-04-04T12:06:32.790Z"
   },
   {
    "duration": 19,
    "start_time": "2022-04-04T12:06:32.835Z"
   },
   {
    "duration": 30,
    "start_time": "2022-04-04T12:06:32.856Z"
   },
   {
    "duration": 19,
    "start_time": "2022-04-04T12:06:32.887Z"
   },
   {
    "duration": 4,
    "start_time": "2022-04-04T12:06:32.907Z"
   },
   {
    "duration": 40,
    "start_time": "2022-04-04T12:06:32.912Z"
   },
   {
    "duration": 5,
    "start_time": "2022-04-04T12:06:32.954Z"
   },
   {
    "duration": 21,
    "start_time": "2022-04-04T12:06:32.960Z"
   },
   {
    "duration": 19,
    "start_time": "2022-04-04T12:06:32.982Z"
   },
   {
    "duration": 7,
    "start_time": "2022-04-04T12:06:33.002Z"
   },
   {
    "duration": 7108,
    "start_time": "2022-04-04T12:06:33.011Z"
   },
   {
    "duration": 0,
    "start_time": "2022-04-04T12:06:40.121Z"
   },
   {
    "duration": 3,
    "start_time": "2022-04-04T12:07:17.442Z"
   },
   {
    "duration": 398,
    "start_time": "2022-04-04T12:07:17.447Z"
   },
   {
    "duration": 50,
    "start_time": "2022-04-04T12:07:17.847Z"
   },
   {
    "duration": 40,
    "start_time": "2022-04-04T12:07:17.899Z"
   },
   {
    "duration": 48,
    "start_time": "2022-04-04T12:07:17.941Z"
   },
   {
    "duration": 32,
    "start_time": "2022-04-04T12:07:17.990Z"
   },
   {
    "duration": 25,
    "start_time": "2022-04-04T12:07:18.023Z"
   },
   {
    "duration": 54,
    "start_time": "2022-04-04T12:07:18.049Z"
   },
   {
    "duration": 21,
    "start_time": "2022-04-04T12:07:18.106Z"
   },
   {
    "duration": 18,
    "start_time": "2022-04-04T12:07:18.129Z"
   },
   {
    "duration": 7,
    "start_time": "2022-04-04T12:07:18.149Z"
   },
   {
    "duration": 4,
    "start_time": "2022-04-04T12:07:18.181Z"
   },
   {
    "duration": 48,
    "start_time": "2022-04-04T12:07:18.187Z"
   },
   {
    "duration": 48,
    "start_time": "2022-04-04T12:07:18.236Z"
   },
   {
    "duration": 14,
    "start_time": "2022-04-04T12:07:18.286Z"
   },
   {
    "duration": 14,
    "start_time": "2022-04-04T12:07:18.301Z"
   },
   {
    "duration": 19,
    "start_time": "2022-04-04T12:07:18.317Z"
   },
   {
    "duration": 4,
    "start_time": "2022-04-04T12:07:18.337Z"
   },
   {
    "duration": 8,
    "start_time": "2022-04-04T12:07:18.342Z"
   },
   {
    "duration": 30,
    "start_time": "2022-04-04T12:07:18.352Z"
   },
   {
    "duration": 9,
    "start_time": "2022-04-04T12:07:18.383Z"
   },
   {
    "duration": 18,
    "start_time": "2022-04-04T12:07:18.394Z"
   },
   {
    "duration": 6,
    "start_time": "2022-04-04T12:07:18.413Z"
   },
   {
    "duration": 3328,
    "start_time": "2022-04-04T12:07:18.422Z"
   },
   {
    "duration": 0,
    "start_time": "2022-04-04T12:07:21.751Z"
   },
   {
    "duration": 7225,
    "start_time": "2022-04-04T12:07:51.990Z"
   },
   {
    "duration": 54,
    "start_time": "2022-04-04T14:35:41.975Z"
   },
   {
    "duration": 485,
    "start_time": "2022-04-04T14:35:46.550Z"
   },
   {
    "duration": 410,
    "start_time": "2022-04-04T14:35:47.037Z"
   },
   {
    "duration": 71,
    "start_time": "2022-04-04T14:35:47.449Z"
   },
   {
    "duration": 50,
    "start_time": "2022-04-04T14:35:47.522Z"
   },
   {
    "duration": 53,
    "start_time": "2022-04-04T14:35:47.574Z"
   },
   {
    "duration": 97,
    "start_time": "2022-04-04T14:35:47.629Z"
   },
   {
    "duration": 30,
    "start_time": "2022-04-04T14:35:47.728Z"
   },
   {
    "duration": 63,
    "start_time": "2022-04-04T14:35:47.760Z"
   },
   {
    "duration": 26,
    "start_time": "2022-04-04T14:35:47.825Z"
   },
   {
    "duration": 23,
    "start_time": "2022-04-04T14:35:47.853Z"
   },
   {
    "duration": 25,
    "start_time": "2022-04-04T14:35:47.878Z"
   },
   {
    "duration": 13,
    "start_time": "2022-04-04T14:35:47.905Z"
   },
   {
    "duration": 63,
    "start_time": "2022-04-04T14:35:47.920Z"
   },
   {
    "duration": 61,
    "start_time": "2022-04-04T14:35:47.986Z"
   },
   {
    "duration": 22,
    "start_time": "2022-04-04T14:35:48.049Z"
   },
   {
    "duration": 35,
    "start_time": "2022-04-04T14:35:48.073Z"
   },
   {
    "duration": 24,
    "start_time": "2022-04-04T14:35:48.110Z"
   },
   {
    "duration": 5,
    "start_time": "2022-04-04T14:35:48.136Z"
   },
   {
    "duration": 11,
    "start_time": "2022-04-04T14:35:48.143Z"
   },
   {
    "duration": 9,
    "start_time": "2022-04-04T14:35:48.156Z"
   },
   {
    "duration": 39,
    "start_time": "2022-04-04T14:35:48.167Z"
   },
   {
    "duration": 24,
    "start_time": "2022-04-04T14:35:48.208Z"
   },
   {
    "duration": 8,
    "start_time": "2022-04-04T14:35:48.234Z"
   },
   {
    "duration": 6995,
    "start_time": "2022-04-04T14:35:48.244Z"
   },
   {
    "duration": 0,
    "start_time": "2022-04-04T14:35:55.242Z"
   },
   {
    "duration": 7954,
    "start_time": "2022-04-04T14:38:15.611Z"
   },
   {
    "duration": 4,
    "start_time": "2022-04-04T14:38:35.750Z"
   },
   {
    "duration": 3,
    "start_time": "2022-04-04T14:38:38.597Z"
   },
   {
    "duration": 479,
    "start_time": "2022-04-04T14:38:38.602Z"
   },
   {
    "duration": 61,
    "start_time": "2022-04-04T14:38:39.082Z"
   },
   {
    "duration": 70,
    "start_time": "2022-04-04T14:38:39.145Z"
   },
   {
    "duration": 37,
    "start_time": "2022-04-04T14:38:39.219Z"
   },
   {
    "duration": 69,
    "start_time": "2022-04-04T14:38:39.258Z"
   },
   {
    "duration": 30,
    "start_time": "2022-04-04T14:38:39.328Z"
   },
   {
    "duration": 64,
    "start_time": "2022-04-04T14:38:39.360Z"
   },
   {
    "duration": 26,
    "start_time": "2022-04-04T14:38:39.426Z"
   },
   {
    "duration": 24,
    "start_time": "2022-04-04T14:38:39.454Z"
   },
   {
    "duration": 22,
    "start_time": "2022-04-04T14:38:39.480Z"
   },
   {
    "duration": 22,
    "start_time": "2022-04-04T14:38:39.504Z"
   },
   {
    "duration": 16,
    "start_time": "2022-04-04T14:38:39.528Z"
   },
   {
    "duration": 69,
    "start_time": "2022-04-04T14:38:39.547Z"
   },
   {
    "duration": 49,
    "start_time": "2022-04-04T14:38:39.618Z"
   },
   {
    "duration": 33,
    "start_time": "2022-04-04T14:38:39.669Z"
   },
   {
    "duration": 22,
    "start_time": "2022-04-04T14:38:39.705Z"
   },
   {
    "duration": 26,
    "start_time": "2022-04-04T14:38:39.729Z"
   },
   {
    "duration": 13,
    "start_time": "2022-04-04T14:38:39.757Z"
   },
   {
    "duration": 33,
    "start_time": "2022-04-04T14:38:39.772Z"
   },
   {
    "duration": 7,
    "start_time": "2022-04-04T14:38:39.807Z"
   },
   {
    "duration": 12,
    "start_time": "2022-04-04T14:38:39.816Z"
   },
   {
    "duration": 24,
    "start_time": "2022-04-04T14:38:39.829Z"
   },
   {
    "duration": 9,
    "start_time": "2022-04-04T14:38:39.855Z"
   },
   {
    "duration": 9433,
    "start_time": "2022-04-04T14:38:39.866Z"
   },
   {
    "duration": 0,
    "start_time": "2022-04-04T14:38:49.301Z"
   },
   {
    "duration": 6905,
    "start_time": "2022-04-04T14:41:31.177Z"
   },
   {
    "duration": 19,
    "start_time": "2022-04-04T14:42:24.744Z"
   },
   {
    "duration": 3,
    "start_time": "2022-04-04T14:42:28.046Z"
   },
   {
    "duration": 426,
    "start_time": "2022-04-04T14:42:28.051Z"
   },
   {
    "duration": 58,
    "start_time": "2022-04-04T14:42:28.479Z"
   },
   {
    "duration": 65,
    "start_time": "2022-04-04T14:42:28.539Z"
   },
   {
    "duration": 36,
    "start_time": "2022-04-04T14:42:28.606Z"
   },
   {
    "duration": 64,
    "start_time": "2022-04-04T14:42:28.644Z"
   },
   {
    "duration": 29,
    "start_time": "2022-04-04T14:42:28.710Z"
   },
   {
    "duration": 34,
    "start_time": "2022-04-04T14:42:28.741Z"
   },
   {
    "duration": 47,
    "start_time": "2022-04-04T14:42:28.777Z"
   },
   {
    "duration": 23,
    "start_time": "2022-04-04T14:42:28.826Z"
   },
   {
    "duration": 4,
    "start_time": "2022-04-04T14:42:28.852Z"
   },
   {
    "duration": 15,
    "start_time": "2022-04-04T14:42:28.857Z"
   },
   {
    "duration": 27,
    "start_time": "2022-04-04T14:42:28.874Z"
   },
   {
    "duration": 53,
    "start_time": "2022-04-04T14:42:28.903Z"
   },
   {
    "duration": 49,
    "start_time": "2022-04-04T14:42:28.958Z"
   },
   {
    "duration": 21,
    "start_time": "2022-04-04T14:42:29.009Z"
   },
   {
    "duration": 18,
    "start_time": "2022-04-04T14:42:29.032Z"
   },
   {
    "duration": 22,
    "start_time": "2022-04-04T14:42:29.053Z"
   },
   {
    "duration": 27,
    "start_time": "2022-04-04T14:42:29.077Z"
   },
   {
    "duration": 38,
    "start_time": "2022-04-04T14:42:29.106Z"
   },
   {
    "duration": 9,
    "start_time": "2022-04-04T14:42:29.146Z"
   },
   {
    "duration": 12,
    "start_time": "2022-04-04T14:42:29.157Z"
   },
   {
    "duration": 25,
    "start_time": "2022-04-04T14:42:29.170Z"
   },
   {
    "duration": 9,
    "start_time": "2022-04-04T14:42:29.196Z"
   },
   {
    "duration": 6997,
    "start_time": "2022-04-04T14:42:29.208Z"
   },
   {
    "duration": 0,
    "start_time": "2022-04-04T14:42:36.206Z"
   },
   {
    "duration": 1843,
    "start_time": "2022-04-04T14:49:37.009Z"
   },
   {
    "duration": 1730,
    "start_time": "2022-04-04T14:50:31.294Z"
   },
   {
    "duration": 1713,
    "start_time": "2022-04-04T14:51:18.247Z"
   },
   {
    "duration": 1650,
    "start_time": "2022-04-04T14:51:31.500Z"
   },
   {
    "duration": 1751,
    "start_time": "2022-04-04T15:24:45.326Z"
   },
   {
    "duration": 1887,
    "start_time": "2022-04-04T15:25:27.168Z"
   },
   {
    "duration": 8,
    "start_time": "2022-04-04T15:26:15.509Z"
   },
   {
    "duration": 9,
    "start_time": "2022-04-04T15:26:23.298Z"
   },
   {
    "duration": 11,
    "start_time": "2022-04-04T15:26:28.042Z"
   },
   {
    "duration": 50,
    "start_time": "2022-04-04T18:48:10.758Z"
   },
   {
    "duration": 6,
    "start_time": "2022-04-04T18:48:20.428Z"
   },
   {
    "duration": 606,
    "start_time": "2022-04-04T18:48:24.935Z"
   },
   {
    "duration": 361,
    "start_time": "2022-04-04T18:48:25.543Z"
   },
   {
    "duration": 60,
    "start_time": "2022-04-04T18:48:25.905Z"
   },
   {
    "duration": 42,
    "start_time": "2022-04-04T18:48:25.967Z"
   },
   {
    "duration": 53,
    "start_time": "2022-04-04T18:48:26.010Z"
   },
   {
    "duration": 73,
    "start_time": "2022-04-04T18:48:26.065Z"
   },
   {
    "duration": 36,
    "start_time": "2022-04-04T18:48:26.140Z"
   },
   {
    "duration": 32,
    "start_time": "2022-04-04T18:48:26.178Z"
   },
   {
    "duration": 22,
    "start_time": "2022-04-04T18:48:26.212Z"
   },
   {
    "duration": 68,
    "start_time": "2022-04-04T18:48:26.236Z"
   },
   {
    "duration": 0,
    "start_time": "2022-04-04T18:48:26.306Z"
   },
   {
    "duration": 0,
    "start_time": "2022-04-04T18:48:26.307Z"
   },
   {
    "duration": 0,
    "start_time": "2022-04-04T18:48:26.308Z"
   },
   {
    "duration": 0,
    "start_time": "2022-04-04T18:48:26.309Z"
   },
   {
    "duration": 0,
    "start_time": "2022-04-04T18:48:26.310Z"
   },
   {
    "duration": 0,
    "start_time": "2022-04-04T18:48:26.311Z"
   },
   {
    "duration": 0,
    "start_time": "2022-04-04T18:48:26.312Z"
   },
   {
    "duration": 0,
    "start_time": "2022-04-04T18:48:26.313Z"
   },
   {
    "duration": 0,
    "start_time": "2022-04-04T18:48:26.315Z"
   },
   {
    "duration": 0,
    "start_time": "2022-04-04T18:48:26.316Z"
   },
   {
    "duration": 0,
    "start_time": "2022-04-04T18:48:26.318Z"
   },
   {
    "duration": 0,
    "start_time": "2022-04-04T18:48:26.319Z"
   },
   {
    "duration": 0,
    "start_time": "2022-04-04T18:48:26.320Z"
   },
   {
    "duration": 0,
    "start_time": "2022-04-04T18:48:26.321Z"
   },
   {
    "duration": 0,
    "start_time": "2022-04-04T18:48:26.324Z"
   },
   {
    "duration": 16,
    "start_time": "2022-04-04T18:48:35.067Z"
   },
   {
    "duration": 15,
    "start_time": "2022-04-04T18:48:36.077Z"
   },
   {
    "duration": 20,
    "start_time": "2022-04-04T18:48:37.254Z"
   },
   {
    "duration": 33,
    "start_time": "2022-04-04T18:48:44.317Z"
   },
   {
    "duration": 21,
    "start_time": "2022-04-04T18:49:02.177Z"
   },
   {
    "duration": 6,
    "start_time": "2022-04-04T18:49:05.778Z"
   },
   {
    "duration": 8,
    "start_time": "2022-04-04T18:49:10.068Z"
   },
   {
    "duration": 7,
    "start_time": "2022-04-04T18:49:13.654Z"
   },
   {
    "duration": 3,
    "start_time": "2022-04-04T18:49:14.018Z"
   },
   {
    "duration": 44,
    "start_time": "2022-04-04T18:49:14.343Z"
   },
   {
    "duration": 53,
    "start_time": "2022-04-04T18:49:14.492Z"
   },
   {
    "duration": 22,
    "start_time": "2022-04-04T18:49:14.643Z"
   },
   {
    "duration": 18,
    "start_time": "2022-04-04T18:49:14.820Z"
   },
   {
    "duration": 22,
    "start_time": "2022-04-04T18:49:14.973Z"
   },
   {
    "duration": 5,
    "start_time": "2022-04-04T18:49:15.165Z"
   },
   {
    "duration": 8,
    "start_time": "2022-04-04T18:49:15.564Z"
   },
   {
    "duration": 7,
    "start_time": "2022-04-04T18:49:15.733Z"
   },
   {
    "duration": 8,
    "start_time": "2022-04-04T18:49:15.949Z"
   },
   {
    "duration": 519,
    "start_time": "2022-04-04T18:49:30.652Z"
   },
   {
    "duration": 370,
    "start_time": "2022-04-04T18:49:31.173Z"
   },
   {
    "duration": 63,
    "start_time": "2022-04-04T18:49:31.544Z"
   },
   {
    "duration": 73,
    "start_time": "2022-04-04T18:49:31.610Z"
   },
   {
    "duration": 56,
    "start_time": "2022-04-04T18:49:31.685Z"
   },
   {
    "duration": 98,
    "start_time": "2022-04-04T18:49:31.744Z"
   },
   {
    "duration": 41,
    "start_time": "2022-04-04T18:49:31.843Z"
   },
   {
    "duration": 57,
    "start_time": "2022-04-04T18:49:31.886Z"
   },
   {
    "duration": 42,
    "start_time": "2022-04-04T18:49:31.945Z"
   },
   {
    "duration": 93,
    "start_time": "2022-04-04T18:49:31.989Z"
   },
   {
    "duration": 0,
    "start_time": "2022-04-04T18:49:32.083Z"
   },
   {
    "duration": 0,
    "start_time": "2022-04-04T18:49:32.084Z"
   },
   {
    "duration": 0,
    "start_time": "2022-04-04T18:49:32.085Z"
   },
   {
    "duration": 0,
    "start_time": "2022-04-04T18:49:32.087Z"
   },
   {
    "duration": 0,
    "start_time": "2022-04-04T18:49:32.088Z"
   },
   {
    "duration": 0,
    "start_time": "2022-04-04T18:49:32.089Z"
   },
   {
    "duration": 0,
    "start_time": "2022-04-04T18:49:32.092Z"
   },
   {
    "duration": 0,
    "start_time": "2022-04-04T18:49:32.093Z"
   },
   {
    "duration": 0,
    "start_time": "2022-04-04T18:49:32.094Z"
   },
   {
    "duration": 0,
    "start_time": "2022-04-04T18:49:32.095Z"
   },
   {
    "duration": 0,
    "start_time": "2022-04-04T18:49:32.096Z"
   },
   {
    "duration": 0,
    "start_time": "2022-04-04T18:49:32.097Z"
   },
   {
    "duration": 0,
    "start_time": "2022-04-04T18:49:32.098Z"
   },
   {
    "duration": 0,
    "start_time": "2022-04-04T18:49:32.099Z"
   },
   {
    "duration": 0,
    "start_time": "2022-04-04T18:49:32.101Z"
   },
   {
    "duration": 21,
    "start_time": "2022-04-04T18:49:48.444Z"
   },
   {
    "duration": 2,
    "start_time": "2022-04-04T18:49:54.512Z"
   },
   {
    "duration": 368,
    "start_time": "2022-04-04T18:49:54.516Z"
   },
   {
    "duration": 55,
    "start_time": "2022-04-04T18:49:54.886Z"
   },
   {
    "duration": 52,
    "start_time": "2022-04-04T18:49:54.943Z"
   },
   {
    "duration": 67,
    "start_time": "2022-04-04T18:49:54.998Z"
   },
   {
    "duration": 49,
    "start_time": "2022-04-04T18:49:55.067Z"
   },
   {
    "duration": 51,
    "start_time": "2022-04-04T18:49:55.118Z"
   },
   {
    "duration": 31,
    "start_time": "2022-04-04T18:49:55.171Z"
   },
   {
    "duration": 24,
    "start_time": "2022-04-04T18:49:55.204Z"
   },
   {
    "duration": 40,
    "start_time": "2022-04-04T18:49:55.230Z"
   },
   {
    "duration": 7,
    "start_time": "2022-04-04T18:49:55.273Z"
   },
   {
    "duration": 5,
    "start_time": "2022-04-04T18:49:55.283Z"
   },
   {
    "duration": 59,
    "start_time": "2022-04-04T18:49:55.289Z"
   },
   {
    "duration": 57,
    "start_time": "2022-04-04T18:49:55.350Z"
   },
   {
    "duration": 19,
    "start_time": "2022-04-04T18:49:55.408Z"
   },
   {
    "duration": 15,
    "start_time": "2022-04-04T18:49:55.429Z"
   },
   {
    "duration": 20,
    "start_time": "2022-04-04T18:49:55.463Z"
   },
   {
    "duration": 4,
    "start_time": "2022-04-04T18:49:55.484Z"
   },
   {
    "duration": 11,
    "start_time": "2022-04-04T18:49:55.489Z"
   },
   {
    "duration": 8,
    "start_time": "2022-04-04T18:49:55.502Z"
   },
   {
    "duration": 10,
    "start_time": "2022-04-04T18:49:55.511Z"
   },
   {
    "duration": 42,
    "start_time": "2022-04-04T18:49:55.522Z"
   },
   {
    "duration": 8,
    "start_time": "2022-04-04T18:49:55.565Z"
   },
   {
    "duration": 1837,
    "start_time": "2022-04-04T18:49:55.574Z"
   },
   {
    "duration": 0,
    "start_time": "2022-04-04T18:49:57.414Z"
   },
   {
    "duration": 10,
    "start_time": "2022-04-04T18:50:26.500Z"
   },
   {
    "duration": 8,
    "start_time": "2022-04-04T18:50:31.566Z"
   },
   {
    "duration": 11,
    "start_time": "2022-04-04T18:50:41.297Z"
   },
   {
    "duration": 7,
    "start_time": "2022-04-04T18:50:51.993Z"
   },
   {
    "duration": 1602,
    "start_time": "2022-04-04T18:51:08.893Z"
   },
   {
    "duration": 2204,
    "start_time": "2022-04-04T18:51:20.063Z"
   },
   {
    "duration": 6242,
    "start_time": "2022-04-04T18:51:51.304Z"
   },
   {
    "duration": 5992,
    "start_time": "2022-04-04T18:52:36.467Z"
   },
   {
    "duration": 11,
    "start_time": "2022-04-04T18:53:12.429Z"
   },
   {
    "duration": 10,
    "start_time": "2022-04-04T18:53:17.740Z"
   },
   {
    "duration": 14,
    "start_time": "2022-04-04T18:53:26.223Z"
   },
   {
    "duration": 2271,
    "start_time": "2022-04-04T18:53:51.094Z"
   },
   {
    "duration": 5,
    "start_time": "2022-04-04T18:54:12.748Z"
   },
   {
    "duration": 7,
    "start_time": "2022-04-04T18:54:27.540Z"
   },
   {
    "duration": 4,
    "start_time": "2022-04-04T18:54:43.496Z"
   },
   {
    "duration": 9,
    "start_time": "2022-04-04T18:54:48.230Z"
   },
   {
    "duration": 2299,
    "start_time": "2022-04-04T18:54:57.827Z"
   },
   {
    "duration": 6,
    "start_time": "2022-04-04T18:55:35.833Z"
   },
   {
    "duration": 2104,
    "start_time": "2022-04-04T18:55:39.278Z"
   },
   {
    "duration": 9,
    "start_time": "2022-04-04T18:56:31.887Z"
   },
   {
    "duration": 9,
    "start_time": "2022-04-04T18:57:07.836Z"
   },
   {
    "duration": 12,
    "start_time": "2022-04-04T18:57:44.516Z"
   },
   {
    "duration": 10,
    "start_time": "2022-04-04T18:58:22.448Z"
   },
   {
    "duration": 6,
    "start_time": "2022-04-04T18:58:31.492Z"
   },
   {
    "duration": 3,
    "start_time": "2022-04-04T18:59:07.848Z"
   },
   {
    "duration": 22,
    "start_time": "2022-04-04T18:59:12.017Z"
   },
   {
    "duration": 6,
    "start_time": "2022-04-04T19:00:19.282Z"
   },
   {
    "duration": 2233,
    "start_time": "2022-04-04T19:00:24.722Z"
   },
   {
    "duration": 13,
    "start_time": "2022-04-04T19:00:59.553Z"
   },
   {
    "duration": 2236,
    "start_time": "2022-04-04T19:01:13.341Z"
   },
   {
    "duration": 14,
    "start_time": "2022-04-04T19:01:23.653Z"
   },
   {
    "duration": 3,
    "start_time": "2022-04-04T19:03:36.821Z"
   },
   {
    "duration": 402,
    "start_time": "2022-04-04T19:03:36.826Z"
   },
   {
    "duration": 48,
    "start_time": "2022-04-04T19:03:37.230Z"
   },
   {
    "duration": 41,
    "start_time": "2022-04-04T19:03:37.279Z"
   },
   {
    "duration": 51,
    "start_time": "2022-04-04T19:03:37.322Z"
   },
   {
    "duration": 33,
    "start_time": "2022-04-04T19:03:37.375Z"
   },
   {
    "duration": 25,
    "start_time": "2022-04-04T19:03:37.410Z"
   },
   {
    "duration": 33,
    "start_time": "2022-04-04T19:03:37.464Z"
   },
   {
    "duration": 25,
    "start_time": "2022-04-04T19:03:37.498Z"
   },
   {
    "duration": 46,
    "start_time": "2022-04-04T19:03:37.524Z"
   },
   {
    "duration": 7,
    "start_time": "2022-04-04T19:03:37.573Z"
   },
   {
    "duration": 5,
    "start_time": "2022-04-04T19:03:37.582Z"
   },
   {
    "duration": 75,
    "start_time": "2022-04-04T19:03:37.588Z"
   },
   {
    "duration": 39,
    "start_time": "2022-04-04T19:03:37.664Z"
   },
   {
    "duration": 20,
    "start_time": "2022-04-04T19:03:37.704Z"
   },
   {
    "duration": 15,
    "start_time": "2022-04-04T19:03:37.725Z"
   },
   {
    "duration": 27,
    "start_time": "2022-04-04T19:03:37.742Z"
   },
   {
    "duration": 4,
    "start_time": "2022-04-04T19:03:37.770Z"
   },
   {
    "duration": 14,
    "start_time": "2022-04-04T19:03:37.775Z"
   },
   {
    "duration": 5,
    "start_time": "2022-04-04T19:03:37.791Z"
   },
   {
    "duration": 12,
    "start_time": "2022-04-04T19:03:37.797Z"
   },
   {
    "duration": 19,
    "start_time": "2022-04-04T19:03:37.811Z"
   },
   {
    "duration": 6,
    "start_time": "2022-04-04T19:03:37.831Z"
   },
   {
    "duration": 14,
    "start_time": "2022-04-04T19:03:37.839Z"
   },
   {
    "duration": 0,
    "start_time": "2022-04-04T19:03:37.855Z"
   },
   {
    "duration": 12,
    "start_time": "2022-04-04T19:04:36.503Z"
   },
   {
    "duration": 25,
    "start_time": "2022-04-04T19:05:01.439Z"
   },
   {
    "duration": 1738,
    "start_time": "2022-04-04T19:05:16.484Z"
   },
   {
    "duration": 9,
    "start_time": "2022-04-04T19:05:48.840Z"
   },
   {
    "duration": 9,
    "start_time": "2022-04-04T19:05:54.827Z"
   },
   {
    "duration": 9,
    "start_time": "2022-04-04T19:05:59.902Z"
   },
   {
    "duration": 1663,
    "start_time": "2022-04-04T19:06:07.701Z"
   },
   {
    "duration": 1564,
    "start_time": "2022-04-04T19:07:48.683Z"
   },
   {
    "duration": 3,
    "start_time": "2022-04-04T19:08:04.764Z"
   },
   {
    "duration": 478,
    "start_time": "2022-04-04T19:08:04.769Z"
   },
   {
    "duration": 50,
    "start_time": "2022-04-04T19:08:05.249Z"
   },
   {
    "duration": 43,
    "start_time": "2022-04-04T19:08:05.301Z"
   },
   {
    "duration": 32,
    "start_time": "2022-04-04T19:08:05.363Z"
   },
   {
    "duration": 40,
    "start_time": "2022-04-04T19:08:05.397Z"
   },
   {
    "duration": 50,
    "start_time": "2022-04-04T19:08:05.439Z"
   },
   {
    "duration": 48,
    "start_time": "2022-04-04T19:08:05.491Z"
   },
   {
    "duration": 61,
    "start_time": "2022-04-04T19:08:05.541Z"
   },
   {
    "duration": 32,
    "start_time": "2022-04-04T19:08:05.604Z"
   },
   {
    "duration": 20,
    "start_time": "2022-04-04T19:08:05.638Z"
   },
   {
    "duration": 16,
    "start_time": "2022-04-04T19:08:05.660Z"
   },
   {
    "duration": 61,
    "start_time": "2022-04-04T19:08:05.678Z"
   },
   {
    "duration": 51,
    "start_time": "2022-04-04T19:08:05.741Z"
   },
   {
    "duration": 26,
    "start_time": "2022-04-04T19:08:05.793Z"
   },
   {
    "duration": 20,
    "start_time": "2022-04-04T19:08:05.821Z"
   },
   {
    "duration": 36,
    "start_time": "2022-04-04T19:08:05.843Z"
   },
   {
    "duration": 5,
    "start_time": "2022-04-04T19:08:05.881Z"
   },
   {
    "duration": 27,
    "start_time": "2022-04-04T19:08:05.887Z"
   },
   {
    "duration": 85,
    "start_time": "2022-04-04T19:08:05.916Z"
   },
   {
    "duration": 43,
    "start_time": "2022-04-04T19:08:06.003Z"
   },
   {
    "duration": 63,
    "start_time": "2022-04-04T19:08:06.048Z"
   },
   {
    "duration": 10,
    "start_time": "2022-04-04T19:08:06.113Z"
   },
   {
    "duration": 1649,
    "start_time": "2022-04-04T19:08:06.125Z"
   },
   {
    "duration": 0,
    "start_time": "2022-04-04T19:08:07.777Z"
   },
   {
    "duration": 1664,
    "start_time": "2022-04-04T19:10:22.404Z"
   },
   {
    "duration": 1614,
    "start_time": "2022-04-04T19:12:14.642Z"
   },
   {
    "duration": 1691,
    "start_time": "2022-04-04T19:13:22.095Z"
   },
   {
    "duration": 17,
    "start_time": "2022-04-04T19:14:14.876Z"
   },
   {
    "duration": 10,
    "start_time": "2022-04-04T19:14:53.342Z"
   },
   {
    "duration": 140,
    "start_time": "2022-04-04T19:15:05.794Z"
   },
   {
    "duration": 9,
    "start_time": "2022-04-04T19:15:12.787Z"
   },
   {
    "duration": 137,
    "start_time": "2022-04-04T19:15:40.572Z"
   },
   {
    "duration": 14,
    "start_time": "2022-04-04T19:15:53.675Z"
   },
   {
    "duration": 136,
    "start_time": "2022-04-04T19:17:34.660Z"
   },
   {
    "duration": 140,
    "start_time": "2022-04-04T19:18:22.808Z"
   },
   {
    "duration": 11,
    "start_time": "2022-04-04T19:18:37.144Z"
   },
   {
    "duration": 11,
    "start_time": "2022-04-04T19:18:40.277Z"
   },
   {
    "duration": 2177,
    "start_time": "2022-04-04T19:18:58.148Z"
   },
   {
    "duration": 19,
    "start_time": "2022-04-04T19:19:27.476Z"
   },
   {
    "duration": 7,
    "start_time": "2022-04-04T19:19:40.037Z"
   },
   {
    "duration": 10,
    "start_time": "2022-04-04T19:19:45.549Z"
   },
   {
    "duration": 10,
    "start_time": "2022-04-04T19:19:59.219Z"
   },
   {
    "duration": 3,
    "start_time": "2022-04-05T11:29:31.209Z"
   },
   {
    "duration": 55,
    "start_time": "2022-04-05T11:30:45.196Z"
   },
   {
    "duration": 638,
    "start_time": "2022-04-05T11:30:58.893Z"
   },
   {
    "duration": 367,
    "start_time": "2022-04-05T11:30:59.533Z"
   },
   {
    "duration": 73,
    "start_time": "2022-04-05T11:30:59.902Z"
   },
   {
    "duration": 47,
    "start_time": "2022-04-05T11:30:59.977Z"
   },
   {
    "duration": 50,
    "start_time": "2022-04-05T11:31:00.025Z"
   },
   {
    "duration": 88,
    "start_time": "2022-04-05T11:31:00.077Z"
   },
   {
    "duration": 26,
    "start_time": "2022-04-05T11:31:00.167Z"
   },
   {
    "duration": 34,
    "start_time": "2022-04-05T11:31:00.194Z"
   },
   {
    "duration": 51,
    "start_time": "2022-04-05T11:31:00.229Z"
   },
   {
    "duration": 20,
    "start_time": "2022-04-05T11:31:00.283Z"
   },
   {
    "duration": 11,
    "start_time": "2022-04-05T11:31:00.304Z"
   },
   {
    "duration": 12,
    "start_time": "2022-04-05T11:31:00.316Z"
   },
   {
    "duration": 70,
    "start_time": "2022-04-05T11:31:00.329Z"
   },
   {
    "duration": 62,
    "start_time": "2022-04-05T11:31:00.401Z"
   },
   {
    "duration": 22,
    "start_time": "2022-04-05T11:31:00.465Z"
   },
   {
    "duration": 15,
    "start_time": "2022-04-05T11:31:00.489Z"
   },
   {
    "duration": 39,
    "start_time": "2022-04-05T11:31:00.506Z"
   },
   {
    "duration": 12,
    "start_time": "2022-04-05T11:31:00.547Z"
   },
   {
    "duration": 19,
    "start_time": "2022-04-05T11:31:00.560Z"
   },
   {
    "duration": 17,
    "start_time": "2022-04-05T11:31:00.581Z"
   },
   {
    "duration": 28,
    "start_time": "2022-04-05T11:31:00.600Z"
   },
   {
    "duration": 24,
    "start_time": "2022-04-05T11:31:00.630Z"
   },
   {
    "duration": 15,
    "start_time": "2022-04-05T11:31:00.656Z"
   },
   {
    "duration": 17,
    "start_time": "2022-04-05T11:31:00.673Z"
   },
   {
    "duration": 7480,
    "start_time": "2022-04-05T11:31:00.692Z"
   },
   {
    "duration": 0,
    "start_time": "2022-04-05T11:31:08.174Z"
   },
   {
    "duration": 3680,
    "start_time": "2022-04-05T11:31:35.892Z"
   },
   {
    "duration": 7,
    "start_time": "2022-04-05T11:31:40.771Z"
   },
   {
    "duration": 7,
    "start_time": "2022-04-05T11:31:49.741Z"
   },
   {
    "duration": 20,
    "start_time": "2022-04-05T11:32:10.751Z"
   },
   {
    "duration": 10,
    "start_time": "2022-04-05T11:44:25.510Z"
   },
   {
    "duration": 21,
    "start_time": "2022-04-05T11:44:42.386Z"
   },
   {
    "duration": 3,
    "start_time": "2022-04-05T11:44:48.677Z"
   },
   {
    "duration": 396,
    "start_time": "2022-04-05T11:44:48.682Z"
   },
   {
    "duration": 49,
    "start_time": "2022-04-05T11:44:49.080Z"
   },
   {
    "duration": 53,
    "start_time": "2022-04-05T11:44:49.130Z"
   },
   {
    "duration": 31,
    "start_time": "2022-04-05T11:44:49.186Z"
   },
   {
    "duration": 65,
    "start_time": "2022-04-05T11:44:49.218Z"
   },
   {
    "duration": 25,
    "start_time": "2022-04-05T11:44:49.284Z"
   },
   {
    "duration": 30,
    "start_time": "2022-04-05T11:44:49.310Z"
   },
   {
    "duration": 50,
    "start_time": "2022-04-05T11:44:49.341Z"
   },
   {
    "duration": 22,
    "start_time": "2022-04-05T11:44:49.393Z"
   },
   {
    "duration": 9,
    "start_time": "2022-04-05T11:44:49.416Z"
   },
   {
    "duration": 6,
    "start_time": "2022-04-05T11:44:49.426Z"
   },
   {
    "duration": 79,
    "start_time": "2022-04-05T11:44:49.433Z"
   },
   {
    "duration": 36,
    "start_time": "2022-04-05T11:44:49.515Z"
   },
   {
    "duration": 32,
    "start_time": "2022-04-05T11:44:49.553Z"
   },
   {
    "duration": 15,
    "start_time": "2022-04-05T11:44:49.587Z"
   },
   {
    "duration": 19,
    "start_time": "2022-04-05T11:44:49.604Z"
   },
   {
    "duration": 4,
    "start_time": "2022-04-05T11:44:49.624Z"
   },
   {
    "duration": 10,
    "start_time": "2022-04-05T11:44:49.629Z"
   },
   {
    "duration": 29,
    "start_time": "2022-04-05T11:44:49.640Z"
   },
   {
    "duration": 10,
    "start_time": "2022-04-05T11:44:49.671Z"
   },
   {
    "duration": 19,
    "start_time": "2022-04-05T11:44:49.683Z"
   },
   {
    "duration": 7,
    "start_time": "2022-04-05T11:44:49.703Z"
   },
   {
    "duration": 10,
    "start_time": "2022-04-05T11:44:49.711Z"
   },
   {
    "duration": 0,
    "start_time": "2022-04-05T11:44:49.722Z"
   },
   {
    "duration": 8,
    "start_time": "2022-04-05T11:45:41.485Z"
   },
   {
    "duration": 13,
    "start_time": "2022-04-05T11:46:04.797Z"
   },
   {
    "duration": 9,
    "start_time": "2022-04-05T11:46:30.776Z"
   },
   {
    "duration": 15,
    "start_time": "2022-04-05T11:46:49.282Z"
   },
   {
    "duration": 3,
    "start_time": "2022-04-05T11:46:52.355Z"
   },
   {
    "duration": 376,
    "start_time": "2022-04-05T11:46:52.360Z"
   },
   {
    "duration": 53,
    "start_time": "2022-04-05T11:46:52.738Z"
   },
   {
    "duration": 40,
    "start_time": "2022-04-05T11:46:52.793Z"
   },
   {
    "duration": 54,
    "start_time": "2022-04-05T11:46:52.834Z"
   },
   {
    "duration": 30,
    "start_time": "2022-04-05T11:46:52.890Z"
   },
   {
    "duration": 54,
    "start_time": "2022-04-05T11:46:52.921Z"
   },
   {
    "duration": 30,
    "start_time": "2022-04-05T11:46:52.977Z"
   },
   {
    "duration": 26,
    "start_time": "2022-04-05T11:46:53.010Z"
   },
   {
    "duration": 48,
    "start_time": "2022-04-05T11:46:53.038Z"
   },
   {
    "duration": 10,
    "start_time": "2022-04-05T11:46:53.088Z"
   },
   {
    "duration": 5,
    "start_time": "2022-04-05T11:46:53.100Z"
   },
   {
    "duration": 69,
    "start_time": "2022-04-05T11:46:53.107Z"
   },
   {
    "duration": 34,
    "start_time": "2022-04-05T11:46:53.177Z"
   },
   {
    "duration": 17,
    "start_time": "2022-04-05T11:46:53.212Z"
   },
   {
    "duration": 33,
    "start_time": "2022-04-05T11:46:53.230Z"
   },
   {
    "duration": 25,
    "start_time": "2022-04-05T11:46:53.265Z"
   },
   {
    "duration": 4,
    "start_time": "2022-04-05T11:46:53.292Z"
   },
   {
    "duration": 12,
    "start_time": "2022-04-05T11:46:53.297Z"
   },
   {
    "duration": 5,
    "start_time": "2022-04-05T11:46:53.311Z"
   },
   {
    "duration": 7,
    "start_time": "2022-04-05T11:46:53.317Z"
   },
   {
    "duration": 46,
    "start_time": "2022-04-05T11:46:53.325Z"
   },
   {
    "duration": 10,
    "start_time": "2022-04-05T11:46:53.373Z"
   },
   {
    "duration": 10,
    "start_time": "2022-04-05T11:46:53.386Z"
   },
   {
    "duration": 0,
    "start_time": "2022-04-05T11:46:53.398Z"
   },
   {
    "duration": 11,
    "start_time": "2022-04-05T11:47:08.318Z"
   },
   {
    "duration": 28,
    "start_time": "2022-04-05T11:47:47.847Z"
   },
   {
    "duration": 14,
    "start_time": "2022-04-05T11:48:29.032Z"
   },
   {
    "duration": 9,
    "start_time": "2022-04-05T11:48:47.755Z"
   },
   {
    "duration": 8,
    "start_time": "2022-04-05T11:49:05.461Z"
   },
   {
    "duration": 5,
    "start_time": "2022-04-05T11:49:10.804Z"
   },
   {
    "duration": 8,
    "start_time": "2022-04-05T11:49:15.308Z"
   },
   {
    "duration": 5,
    "start_time": "2022-04-05T11:49:20.322Z"
   },
   {
    "duration": 1650,
    "start_time": "2022-04-05T11:51:29.900Z"
   },
   {
    "duration": 8,
    "start_time": "2022-04-05T11:52:18.610Z"
   },
   {
    "duration": 6476,
    "start_time": "2022-04-05T11:54:27.241Z"
   },
   {
    "duration": 2,
    "start_time": "2022-04-05T11:54:40.035Z"
   },
   {
    "duration": 364,
    "start_time": "2022-04-05T11:54:40.039Z"
   },
   {
    "duration": 49,
    "start_time": "2022-04-05T11:54:40.404Z"
   },
   {
    "duration": 42,
    "start_time": "2022-04-05T11:54:40.455Z"
   },
   {
    "duration": 30,
    "start_time": "2022-04-05T11:54:40.499Z"
   },
   {
    "duration": 58,
    "start_time": "2022-04-05T11:54:40.531Z"
   },
   {
    "duration": 23,
    "start_time": "2022-04-05T11:54:40.591Z"
   },
   {
    "duration": 55,
    "start_time": "2022-04-05T11:54:40.616Z"
   },
   {
    "duration": 24,
    "start_time": "2022-04-05T11:54:40.674Z"
   },
   {
    "duration": 19,
    "start_time": "2022-04-05T11:54:40.699Z"
   },
   {
    "duration": 9,
    "start_time": "2022-04-05T11:54:40.719Z"
   },
   {
    "duration": 7,
    "start_time": "2022-04-05T11:54:40.729Z"
   },
   {
    "duration": 66,
    "start_time": "2022-04-05T11:54:40.737Z"
   },
   {
    "duration": 45,
    "start_time": "2022-04-05T11:54:40.805Z"
   },
   {
    "duration": 28,
    "start_time": "2022-04-05T11:54:40.851Z"
   },
   {
    "duration": 14,
    "start_time": "2022-04-05T11:54:40.880Z"
   },
   {
    "duration": 17,
    "start_time": "2022-04-05T11:54:40.896Z"
   },
   {
    "duration": 14,
    "start_time": "2022-04-05T11:54:40.915Z"
   },
   {
    "duration": 6,
    "start_time": "2022-04-05T11:54:40.931Z"
   },
   {
    "duration": 11,
    "start_time": "2022-04-05T11:54:40.938Z"
   },
   {
    "duration": 17,
    "start_time": "2022-04-05T11:54:40.951Z"
   },
   {
    "duration": 0,
    "start_time": "2022-04-05T11:54:40.969Z"
   },
   {
    "duration": 0,
    "start_time": "2022-04-05T11:54:40.970Z"
   },
   {
    "duration": 0,
    "start_time": "2022-04-05T11:54:40.971Z"
   },
   {
    "duration": 0,
    "start_time": "2022-04-05T11:54:40.972Z"
   },
   {
    "duration": 9,
    "start_time": "2022-04-05T11:55:11.046Z"
   },
   {
    "duration": 9,
    "start_time": "2022-04-05T11:56:36.796Z"
   },
   {
    "duration": 14,
    "start_time": "2022-04-05T11:56:42.989Z"
   },
   {
    "duration": 3,
    "start_time": "2022-04-05T11:59:43.330Z"
   },
   {
    "duration": 358,
    "start_time": "2022-04-05T11:59:43.336Z"
   },
   {
    "duration": 52,
    "start_time": "2022-04-05T11:59:43.696Z"
   },
   {
    "duration": 45,
    "start_time": "2022-04-05T11:59:43.751Z"
   },
   {
    "duration": 29,
    "start_time": "2022-04-05T11:59:43.798Z"
   },
   {
    "duration": 54,
    "start_time": "2022-04-05T11:59:43.828Z"
   },
   {
    "duration": 24,
    "start_time": "2022-04-05T11:59:43.883Z"
   },
   {
    "duration": 29,
    "start_time": "2022-04-05T11:59:43.908Z"
   },
   {
    "duration": 23,
    "start_time": "2022-04-05T11:59:43.962Z"
   },
   {
    "duration": 20,
    "start_time": "2022-04-05T11:59:43.987Z"
   },
   {
    "duration": 9,
    "start_time": "2022-04-05T11:59:44.009Z"
   },
   {
    "duration": 12,
    "start_time": "2022-04-05T11:59:44.019Z"
   },
   {
    "duration": 85,
    "start_time": "2022-04-05T11:59:44.033Z"
   },
   {
    "duration": 70,
    "start_time": "2022-04-05T11:59:44.120Z"
   },
   {
    "duration": 24,
    "start_time": "2022-04-05T11:59:44.192Z"
   },
   {
    "duration": 21,
    "start_time": "2022-04-05T11:59:44.218Z"
   },
   {
    "duration": 49,
    "start_time": "2022-04-05T11:59:44.241Z"
   },
   {
    "duration": 4,
    "start_time": "2022-04-05T11:59:44.293Z"
   },
   {
    "duration": 15,
    "start_time": "2022-04-05T11:59:44.299Z"
   },
   {
    "duration": 14,
    "start_time": "2022-04-05T11:59:52.611Z"
   },
   {
    "duration": 691,
    "start_time": "2022-04-05T12:00:03.085Z"
   },
   {
    "duration": 371,
    "start_time": "2022-04-05T12:00:03.778Z"
   },
   {
    "duration": 63,
    "start_time": "2022-04-05T12:00:04.151Z"
   },
   {
    "duration": 60,
    "start_time": "2022-04-05T12:00:04.215Z"
   },
   {
    "duration": 38,
    "start_time": "2022-04-05T12:00:04.277Z"
   },
   {
    "duration": 97,
    "start_time": "2022-04-05T12:00:04.317Z"
   },
   {
    "duration": 25,
    "start_time": "2022-04-05T12:00:04.416Z"
   },
   {
    "duration": 33,
    "start_time": "2022-04-05T12:00:04.462Z"
   },
   {
    "duration": 24,
    "start_time": "2022-04-05T12:00:04.497Z"
   },
   {
    "duration": 42,
    "start_time": "2022-04-05T12:00:04.523Z"
   },
   {
    "duration": 9,
    "start_time": "2022-04-05T12:00:04.567Z"
   },
   {
    "duration": 27,
    "start_time": "2022-04-05T12:00:04.578Z"
   },
   {
    "duration": 79,
    "start_time": "2022-04-05T12:00:04.607Z"
   },
   {
    "duration": 50,
    "start_time": "2022-04-05T12:00:04.689Z"
   },
   {
    "duration": 27,
    "start_time": "2022-04-05T12:00:04.741Z"
   },
   {
    "duration": 22,
    "start_time": "2022-04-05T12:00:04.770Z"
   },
   {
    "duration": 28,
    "start_time": "2022-04-05T12:00:04.794Z"
   },
   {
    "duration": 12,
    "start_time": "2022-04-05T12:00:04.823Z"
   },
   {
    "duration": 76,
    "start_time": "2022-04-05T12:00:04.837Z"
   },
   {
    "duration": 0,
    "start_time": "2022-04-05T12:00:04.915Z"
   },
   {
    "duration": 15,
    "start_time": "2022-04-05T12:01:59.479Z"
   },
   {
    "duration": 24,
    "start_time": "2022-04-05T12:02:15.253Z"
   },
   {
    "duration": 7,
    "start_time": "2022-04-05T12:04:13.218Z"
   },
   {
    "duration": 9,
    "start_time": "2022-04-05T12:04:43.477Z"
   },
   {
    "duration": 5,
    "start_time": "2022-04-05T12:04:58.627Z"
   },
   {
    "duration": 14,
    "start_time": "2022-04-05T12:05:02.618Z"
   },
   {
    "duration": 5,
    "start_time": "2022-04-05T12:05:28.190Z"
   },
   {
    "duration": 12,
    "start_time": "2022-04-05T12:05:29.625Z"
   },
   {
    "duration": 16,
    "start_time": "2022-04-05T12:05:50.343Z"
   },
   {
    "duration": 14,
    "start_time": "2022-04-05T12:06:09.211Z"
   },
   {
    "duration": 1883,
    "start_time": "2022-04-05T12:06:21.284Z"
   },
   {
    "duration": 15,
    "start_time": "2022-04-05T12:06:34.099Z"
   },
   {
    "duration": 5,
    "start_time": "2022-04-05T12:06:42.574Z"
   },
   {
    "duration": 5,
    "start_time": "2022-04-05T12:07:10.120Z"
   },
   {
    "duration": 13,
    "start_time": "2022-04-05T12:07:13.605Z"
   },
   {
    "duration": 5,
    "start_time": "2022-04-05T12:07:28.943Z"
   },
   {
    "duration": 11,
    "start_time": "2022-04-05T12:07:29.943Z"
   },
   {
    "duration": 5,
    "start_time": "2022-04-05T12:07:34.122Z"
   },
   {
    "duration": 17,
    "start_time": "2022-04-05T12:07:34.612Z"
   },
   {
    "duration": 13,
    "start_time": "2022-04-05T12:07:39.147Z"
   },
   {
    "duration": 4,
    "start_time": "2022-04-05T12:09:02.495Z"
   },
   {
    "duration": 5,
    "start_time": "2022-04-05T12:09:07.906Z"
   },
   {
    "duration": 12,
    "start_time": "2022-04-05T12:09:13.926Z"
   },
   {
    "duration": 630,
    "start_time": "2022-04-05T12:10:19.241Z"
   },
   {
    "duration": 365,
    "start_time": "2022-04-05T12:10:19.873Z"
   },
   {
    "duration": 60,
    "start_time": "2022-04-05T12:10:20.240Z"
   },
   {
    "duration": 43,
    "start_time": "2022-04-05T12:10:20.301Z"
   },
   {
    "duration": 47,
    "start_time": "2022-04-05T12:10:20.346Z"
   },
   {
    "duration": 92,
    "start_time": "2022-04-05T12:10:20.394Z"
   },
   {
    "duration": 27,
    "start_time": "2022-04-05T12:10:20.487Z"
   },
   {
    "duration": 61,
    "start_time": "2022-04-05T12:10:20.516Z"
   },
   {
    "duration": 24,
    "start_time": "2022-04-05T12:10:20.579Z"
   },
   {
    "duration": 20,
    "start_time": "2022-04-05T12:10:20.605Z"
   },
   {
    "duration": 9,
    "start_time": "2022-04-05T12:10:20.627Z"
   },
   {
    "duration": 26,
    "start_time": "2022-04-05T12:10:20.637Z"
   },
   {
    "duration": 47,
    "start_time": "2022-04-05T12:10:20.664Z"
   },
   {
    "duration": 60,
    "start_time": "2022-04-05T12:10:20.713Z"
   },
   {
    "duration": 20,
    "start_time": "2022-04-05T12:10:20.775Z"
   },
   {
    "duration": 15,
    "start_time": "2022-04-05T12:10:20.797Z"
   },
   {
    "duration": 26,
    "start_time": "2022-04-05T12:10:20.813Z"
   },
   {
    "duration": 23,
    "start_time": "2022-04-05T12:10:20.840Z"
   },
   {
    "duration": 15,
    "start_time": "2022-04-05T12:10:27.187Z"
   },
   {
    "duration": 8,
    "start_time": "2022-04-05T12:10:47.888Z"
   },
   {
    "duration": 15,
    "start_time": "2022-04-05T12:11:07.418Z"
   },
   {
    "duration": 69,
    "start_time": "2022-04-05T12:11:22.563Z"
   },
   {
    "duration": 13,
    "start_time": "2022-04-05T12:12:11.098Z"
   },
   {
    "duration": 5,
    "start_time": "2022-04-05T12:12:29.733Z"
   },
   {
    "duration": 14,
    "start_time": "2022-04-05T12:12:57.158Z"
   },
   {
    "duration": 23,
    "start_time": "2022-04-05T12:13:06.284Z"
   },
   {
    "duration": 8,
    "start_time": "2022-04-05T12:13:18.026Z"
   },
   {
    "duration": 18,
    "start_time": "2022-04-05T12:13:20.287Z"
   },
   {
    "duration": 8,
    "start_time": "2022-04-05T12:13:48.907Z"
   },
   {
    "duration": 8,
    "start_time": "2022-04-05T12:13:53.296Z"
   },
   {
    "duration": 7,
    "start_time": "2022-04-05T12:14:10.327Z"
   },
   {
    "duration": 4,
    "start_time": "2022-04-05T12:14:24.410Z"
   },
   {
    "duration": 19,
    "start_time": "2022-04-05T12:15:05.483Z"
   },
   {
    "duration": 7,
    "start_time": "2022-04-05T12:17:07.298Z"
   },
   {
    "duration": 7,
    "start_time": "2022-04-05T12:17:16.519Z"
   },
   {
    "duration": 7,
    "start_time": "2022-04-05T12:18:07.034Z"
   },
   {
    "duration": 7,
    "start_time": "2022-04-05T12:18:25.107Z"
   },
   {
    "duration": 3760,
    "start_time": "2022-04-05T12:19:06.962Z"
   },
   {
    "duration": 3901,
    "start_time": "2022-04-05T12:19:20.565Z"
   },
   {
    "duration": 3533,
    "start_time": "2022-04-05T12:19:30.058Z"
   },
   {
    "duration": 1290,
    "start_time": "2022-04-05T12:19:41.799Z"
   },
   {
    "duration": 1678,
    "start_time": "2022-04-05T12:20:31.754Z"
   },
   {
    "duration": 2509,
    "start_time": "2022-04-05T12:20:41.212Z"
   },
   {
    "duration": 11,
    "start_time": "2022-04-05T12:23:14.666Z"
   },
   {
    "duration": 10,
    "start_time": "2022-04-05T12:23:30.665Z"
   },
   {
    "duration": 7,
    "start_time": "2022-04-05T12:23:47.604Z"
   },
   {
    "duration": 18,
    "start_time": "2022-04-05T12:24:03.719Z"
   },
   {
    "duration": 12,
    "start_time": "2022-04-05T12:24:26.298Z"
   },
   {
    "duration": 12,
    "start_time": "2022-04-05T12:24:39.863Z"
   },
   {
    "duration": 13,
    "start_time": "2022-04-05T12:24:52.607Z"
   },
   {
    "duration": 7,
    "start_time": "2022-04-05T12:26:04.484Z"
   },
   {
    "duration": 3,
    "start_time": "2022-04-05T12:26:10.517Z"
   },
   {
    "duration": 351,
    "start_time": "2022-04-05T12:26:10.521Z"
   },
   {
    "duration": 48,
    "start_time": "2022-04-05T12:26:10.873Z"
   },
   {
    "duration": 54,
    "start_time": "2022-04-05T12:26:10.923Z"
   },
   {
    "duration": 33,
    "start_time": "2022-04-05T12:26:10.979Z"
   },
   {
    "duration": 61,
    "start_time": "2022-04-05T12:26:11.013Z"
   },
   {
    "duration": 26,
    "start_time": "2022-04-05T12:26:11.075Z"
   },
   {
    "duration": 30,
    "start_time": "2022-04-05T12:26:11.103Z"
   },
   {
    "duration": 39,
    "start_time": "2022-04-05T12:26:11.135Z"
   },
   {
    "duration": 20,
    "start_time": "2022-04-05T12:26:11.175Z"
   },
   {
    "duration": 9,
    "start_time": "2022-04-05T12:26:11.196Z"
   },
   {
    "duration": 12,
    "start_time": "2022-04-05T12:26:11.207Z"
   },
   {
    "duration": 68,
    "start_time": "2022-04-05T12:26:11.221Z"
   },
   {
    "duration": 48,
    "start_time": "2022-04-05T12:26:11.291Z"
   },
   {
    "duration": 28,
    "start_time": "2022-04-05T12:26:11.340Z"
   },
   {
    "duration": 15,
    "start_time": "2022-04-05T12:26:11.370Z"
   },
   {
    "duration": 20,
    "start_time": "2022-04-05T12:26:11.386Z"
   },
   {
    "duration": 8,
    "start_time": "2022-04-05T12:26:11.408Z"
   },
   {
    "duration": 13,
    "start_time": "2022-04-05T12:26:11.417Z"
   },
   {
    "duration": 7,
    "start_time": "2022-04-05T12:26:11.432Z"
   },
   {
    "duration": 0,
    "start_time": "2022-04-05T12:26:11.440Z"
   },
   {
    "duration": 7,
    "start_time": "2022-04-05T12:26:24.205Z"
   },
   {
    "duration": 4,
    "start_time": "2022-04-05T12:26:27.190Z"
   },
   {
    "duration": 13,
    "start_time": "2022-04-05T12:27:02.591Z"
   },
   {
    "duration": 8,
    "start_time": "2022-04-05T12:27:30.288Z"
   },
   {
    "duration": 23,
    "start_time": "2022-04-05T12:28:03.695Z"
   },
   {
    "duration": 6,
    "start_time": "2022-04-05T12:28:15.651Z"
   },
   {
    "duration": 9,
    "start_time": "2022-04-05T12:28:16.712Z"
   },
   {
    "duration": 18,
    "start_time": "2022-04-05T12:28:20.141Z"
   },
   {
    "duration": 8,
    "start_time": "2022-04-05T12:32:28.607Z"
   },
   {
    "duration": 4,
    "start_time": "2022-04-05T12:38:23.407Z"
   },
   {
    "duration": 8106,
    "start_time": "2022-04-05T12:38:58.269Z"
   },
   {
    "duration": 735,
    "start_time": "2022-04-05T12:39:22.098Z"
   },
   {
    "duration": 395,
    "start_time": "2022-04-05T12:39:22.835Z"
   },
   {
    "duration": 61,
    "start_time": "2022-04-05T12:39:23.232Z"
   },
   {
    "duration": 46,
    "start_time": "2022-04-05T12:39:23.295Z"
   },
   {
    "duration": 45,
    "start_time": "2022-04-05T12:39:23.343Z"
   },
   {
    "duration": 76,
    "start_time": "2022-04-05T12:39:23.390Z"
   },
   {
    "duration": 0,
    "start_time": "2022-04-05T12:39:23.468Z"
   },
   {
    "duration": 0,
    "start_time": "2022-04-05T12:39:23.469Z"
   },
   {
    "duration": 0,
    "start_time": "2022-04-05T12:39:23.504Z"
   },
   {
    "duration": 0,
    "start_time": "2022-04-05T12:39:23.505Z"
   },
   {
    "duration": 0,
    "start_time": "2022-04-05T12:39:23.506Z"
   },
   {
    "duration": 0,
    "start_time": "2022-04-05T12:39:23.507Z"
   },
   {
    "duration": 0,
    "start_time": "2022-04-05T12:39:23.508Z"
   },
   {
    "duration": 0,
    "start_time": "2022-04-05T12:39:23.509Z"
   },
   {
    "duration": 0,
    "start_time": "2022-04-05T12:39:23.510Z"
   },
   {
    "duration": 0,
    "start_time": "2022-04-05T12:39:23.511Z"
   },
   {
    "duration": 0,
    "start_time": "2022-04-05T12:39:23.513Z"
   },
   {
    "duration": 0,
    "start_time": "2022-04-05T12:39:23.514Z"
   },
   {
    "duration": 0,
    "start_time": "2022-04-05T12:39:23.515Z"
   },
   {
    "duration": 0,
    "start_time": "2022-04-05T12:39:23.516Z"
   },
   {
    "duration": 0,
    "start_time": "2022-04-05T12:39:23.517Z"
   },
   {
    "duration": 0,
    "start_time": "2022-04-05T12:39:23.518Z"
   },
   {
    "duration": 0,
    "start_time": "2022-04-05T12:39:23.519Z"
   },
   {
    "duration": 7,
    "start_time": "2022-04-05T12:39:30.706Z"
   },
   {
    "duration": 3,
    "start_time": "2022-04-05T12:39:49.967Z"
   },
   {
    "duration": 397,
    "start_time": "2022-04-05T12:39:49.972Z"
   },
   {
    "duration": 49,
    "start_time": "2022-04-05T12:39:50.370Z"
   },
   {
    "duration": 59,
    "start_time": "2022-04-05T12:39:50.421Z"
   },
   {
    "duration": 29,
    "start_time": "2022-04-05T12:39:50.481Z"
   },
   {
    "duration": 7,
    "start_time": "2022-04-05T12:39:50.511Z"
   },
   {
    "duration": 0,
    "start_time": "2022-04-05T12:39:50.520Z"
   },
   {
    "duration": 0,
    "start_time": "2022-04-05T12:39:50.521Z"
   },
   {
    "duration": 0,
    "start_time": "2022-04-05T12:39:50.523Z"
   },
   {
    "duration": 0,
    "start_time": "2022-04-05T12:39:50.524Z"
   },
   {
    "duration": 0,
    "start_time": "2022-04-05T12:39:50.525Z"
   },
   {
    "duration": 0,
    "start_time": "2022-04-05T12:39:50.526Z"
   },
   {
    "duration": 0,
    "start_time": "2022-04-05T12:39:50.527Z"
   },
   {
    "duration": 0,
    "start_time": "2022-04-05T12:39:50.528Z"
   },
   {
    "duration": 0,
    "start_time": "2022-04-05T12:39:50.529Z"
   },
   {
    "duration": 0,
    "start_time": "2022-04-05T12:39:50.563Z"
   },
   {
    "duration": 0,
    "start_time": "2022-04-05T12:39:50.564Z"
   },
   {
    "duration": 0,
    "start_time": "2022-04-05T12:39:50.565Z"
   },
   {
    "duration": 0,
    "start_time": "2022-04-05T12:39:50.566Z"
   },
   {
    "duration": 0,
    "start_time": "2022-04-05T12:39:50.567Z"
   },
   {
    "duration": 0,
    "start_time": "2022-04-05T12:39:50.568Z"
   },
   {
    "duration": 0,
    "start_time": "2022-04-05T12:39:50.569Z"
   },
   {
    "duration": 0,
    "start_time": "2022-04-05T12:39:50.569Z"
   },
   {
    "duration": 0,
    "start_time": "2022-04-05T12:39:50.570Z"
   },
   {
    "duration": 3,
    "start_time": "2022-04-05T12:40:06.124Z"
   },
   {
    "duration": 396,
    "start_time": "2022-04-05T12:40:06.129Z"
   },
   {
    "duration": 48,
    "start_time": "2022-04-05T12:40:06.527Z"
   },
   {
    "duration": 41,
    "start_time": "2022-04-05T12:40:06.577Z"
   },
   {
    "duration": 46,
    "start_time": "2022-04-05T12:40:06.620Z"
   },
   {
    "duration": 40,
    "start_time": "2022-04-05T12:40:06.668Z"
   },
   {
    "duration": 30,
    "start_time": "2022-04-05T12:40:06.709Z"
   },
   {
    "duration": 53,
    "start_time": "2022-04-05T12:40:06.740Z"
   },
   {
    "duration": 23,
    "start_time": "2022-04-05T12:40:06.795Z"
   },
   {
    "duration": 21,
    "start_time": "2022-04-05T12:40:06.819Z"
   },
   {
    "duration": 9,
    "start_time": "2022-04-05T12:40:06.862Z"
   },
   {
    "duration": 6,
    "start_time": "2022-04-05T12:40:06.872Z"
   },
   {
    "duration": 52,
    "start_time": "2022-04-05T12:40:06.880Z"
   },
   {
    "duration": 71,
    "start_time": "2022-04-05T12:40:06.934Z"
   },
   {
    "duration": 25,
    "start_time": "2022-04-05T12:40:07.007Z"
   },
   {
    "duration": 30,
    "start_time": "2022-04-05T12:40:07.033Z"
   },
   {
    "duration": 22,
    "start_time": "2022-04-05T12:40:07.064Z"
   },
   {
    "duration": 5,
    "start_time": "2022-04-05T12:40:07.087Z"
   },
   {
    "duration": 10,
    "start_time": "2022-04-05T12:40:07.093Z"
   },
   {
    "duration": 6,
    "start_time": "2022-04-05T12:40:07.105Z"
   },
   {
    "duration": 15,
    "start_time": "2022-04-05T12:40:07.112Z"
   },
   {
    "duration": 4,
    "start_time": "2022-04-05T12:40:07.129Z"
   },
   {
    "duration": 22363,
    "start_time": "2022-04-05T12:40:07.135Z"
   },
   {
    "duration": 0,
    "start_time": "2022-04-05T12:40:29.500Z"
   },
   {
    "duration": 8,
    "start_time": "2022-04-05T12:41:17.899Z"
   },
   {
    "duration": 7,
    "start_time": "2022-04-05T12:42:34.346Z"
   },
   {
    "duration": 3997,
    "start_time": "2022-04-05T12:42:42.811Z"
   },
   {
    "duration": 21,
    "start_time": "2022-04-05T12:42:50.984Z"
   },
   {
    "duration": 455,
    "start_time": "2022-04-05T12:47:41.211Z"
   },
   {
    "duration": 129,
    "start_time": "2022-04-05T12:48:23.003Z"
   },
   {
    "duration": 147,
    "start_time": "2022-04-05T12:48:36.453Z"
   },
   {
    "duration": 137,
    "start_time": "2022-04-05T12:49:03.608Z"
   },
   {
    "duration": 136,
    "start_time": "2022-04-05T12:49:16.652Z"
   },
   {
    "duration": 148,
    "start_time": "2022-04-05T12:49:39.653Z"
   },
   {
    "duration": 133,
    "start_time": "2022-04-05T12:49:44.281Z"
   },
   {
    "duration": 356,
    "start_time": "2022-04-05T12:50:10.749Z"
   },
   {
    "duration": 18,
    "start_time": "2022-04-05T12:50:49.762Z"
   },
   {
    "duration": 277,
    "start_time": "2022-04-05T12:51:06.770Z"
   },
   {
    "duration": 5,
    "start_time": "2022-04-05T12:53:50.417Z"
   },
   {
    "duration": 139,
    "start_time": "2022-04-05T12:54:06.153Z"
   },
   {
    "duration": 136,
    "start_time": "2022-04-05T12:54:16.548Z"
   },
   {
    "duration": 132,
    "start_time": "2022-04-05T12:54:26.304Z"
   },
   {
    "duration": 206,
    "start_time": "2022-04-05T12:54:53.344Z"
   },
   {
    "duration": 208,
    "start_time": "2022-04-05T12:55:03.226Z"
   },
   {
    "duration": 339,
    "start_time": "2022-04-05T12:55:17.136Z"
   },
   {
    "duration": 231,
    "start_time": "2022-04-05T12:55:22.952Z"
   },
   {
    "duration": 252,
    "start_time": "2022-04-05T12:55:31.177Z"
   },
   {
    "duration": 247,
    "start_time": "2022-04-05T12:56:25.337Z"
   },
   {
    "duration": 243,
    "start_time": "2022-04-05T12:56:34.995Z"
   },
   {
    "duration": 17,
    "start_time": "2022-04-05T12:56:41.350Z"
   },
   {
    "duration": 242,
    "start_time": "2022-04-05T12:57:37.381Z"
   },
   {
    "duration": 9,
    "start_time": "2022-04-05T12:57:48.653Z"
   },
   {
    "duration": 342,
    "start_time": "2022-04-05T12:58:11.471Z"
   },
   {
    "duration": 150,
    "start_time": "2022-04-05T12:58:37.278Z"
   },
   {
    "duration": 158,
    "start_time": "2022-04-05T12:58:50.081Z"
   },
   {
    "duration": 151,
    "start_time": "2022-04-05T12:59:03.237Z"
   },
   {
    "duration": 152,
    "start_time": "2022-04-05T12:59:22.649Z"
   },
   {
    "duration": 150,
    "start_time": "2022-04-05T12:59:45.653Z"
   },
   {
    "duration": 148,
    "start_time": "2022-04-05T13:00:21.686Z"
   },
   {
    "duration": 141,
    "start_time": "2022-04-05T13:00:58.246Z"
   },
   {
    "duration": 18353,
    "start_time": "2022-04-05T13:01:22.543Z"
   },
   {
    "duration": 142,
    "start_time": "2022-04-05T13:01:42.271Z"
   },
   {
    "duration": 262,
    "start_time": "2022-04-05T13:02:14.817Z"
   },
   {
    "duration": 216,
    "start_time": "2022-04-05T13:02:26.685Z"
   },
   {
    "duration": 117,
    "start_time": "2022-04-05T13:02:48.983Z"
   },
   {
    "duration": 587,
    "start_time": "2022-04-05T13:02:58.435Z"
   },
   {
    "duration": 127,
    "start_time": "2022-04-05T13:03:03.082Z"
   },
   {
    "duration": 137,
    "start_time": "2022-04-05T13:03:23.508Z"
   },
   {
    "duration": 121,
    "start_time": "2022-04-05T13:03:51.796Z"
   },
   {
    "duration": 247,
    "start_time": "2022-04-05T13:04:28.438Z"
   },
   {
    "duration": 216,
    "start_time": "2022-04-05T13:04:45.708Z"
   },
   {
    "duration": 10,
    "start_time": "2022-04-05T13:05:52.027Z"
   },
   {
    "duration": 142,
    "start_time": "2022-04-05T13:05:57.264Z"
   },
   {
    "duration": 108,
    "start_time": "2022-04-05T13:15:06.216Z"
   },
   {
    "duration": 226,
    "start_time": "2022-04-05T13:15:17.161Z"
   },
   {
    "duration": 119,
    "start_time": "2022-04-05T13:15:48.757Z"
   },
   {
    "duration": 330,
    "start_time": "2022-04-05T13:16:00.274Z"
   },
   {
    "duration": 2294,
    "start_time": "2022-04-05T13:16:05.339Z"
   },
   {
    "duration": 161,
    "start_time": "2022-04-05T13:16:13.351Z"
   },
   {
    "duration": 178,
    "start_time": "2022-04-05T13:16:17.623Z"
   },
   {
    "duration": 885,
    "start_time": "2022-04-05T13:16:21.165Z"
   },
   {
    "duration": 92,
    "start_time": "2022-04-05T13:16:26.832Z"
   },
   {
    "duration": 85,
    "start_time": "2022-04-05T13:16:33.038Z"
   },
   {
    "duration": 3,
    "start_time": "2022-04-05T13:18:20.977Z"
   },
   {
    "duration": 4,
    "start_time": "2022-04-05T13:18:29.250Z"
   },
   {
    "duration": 8,
    "start_time": "2022-04-05T13:18:40.556Z"
   },
   {
    "duration": 27,
    "start_time": "2022-04-05T13:21:44.178Z"
   },
   {
    "duration": 26,
    "start_time": "2022-04-05T13:22:15.709Z"
   },
   {
    "duration": 22,
    "start_time": "2022-04-05T13:22:35.772Z"
   },
   {
    "duration": 29,
    "start_time": "2022-04-05T13:24:22.081Z"
   },
   {
    "duration": 21,
    "start_time": "2022-04-05T13:24:35.694Z"
   },
   {
    "duration": 18,
    "start_time": "2022-04-05T13:24:52.038Z"
   },
   {
    "duration": 146,
    "start_time": "2022-04-05T13:24:56.871Z"
   },
   {
    "duration": 17,
    "start_time": "2022-04-05T13:25:10.459Z"
   },
   {
    "duration": 16,
    "start_time": "2022-04-05T13:26:01.430Z"
   },
   {
    "duration": 9,
    "start_time": "2022-04-05T13:26:35.253Z"
   },
   {
    "duration": 13,
    "start_time": "2022-04-05T13:30:23.777Z"
   },
   {
    "duration": 15,
    "start_time": "2022-04-05T13:30:44.233Z"
   },
   {
    "duration": 138,
    "start_time": "2022-04-05T13:34:38.311Z"
   },
   {
    "duration": 132,
    "start_time": "2022-04-05T13:34:57.338Z"
   },
   {
    "duration": 127,
    "start_time": "2022-04-05T13:35:10.293Z"
   },
   {
    "duration": 14,
    "start_time": "2022-04-05T13:35:29.116Z"
   },
   {
    "duration": 18,
    "start_time": "2022-04-05T13:35:45.132Z"
   },
   {
    "duration": 20,
    "start_time": "2022-04-05T13:36:00.599Z"
   },
   {
    "duration": 20,
    "start_time": "2022-04-05T13:36:57.100Z"
   },
   {
    "duration": 14,
    "start_time": "2022-04-05T13:37:16.106Z"
   },
   {
    "duration": 14,
    "start_time": "2022-04-05T13:37:21.613Z"
   },
   {
    "duration": 20,
    "start_time": "2022-04-05T13:38:04.188Z"
   },
   {
    "duration": 18,
    "start_time": "2022-04-05T13:38:39.499Z"
   },
   {
    "duration": 15,
    "start_time": "2022-04-05T13:38:50.275Z"
   },
   {
    "duration": 14,
    "start_time": "2022-04-05T13:38:55.064Z"
   },
   {
    "duration": 14,
    "start_time": "2022-04-05T13:38:59.288Z"
   },
   {
    "duration": 129,
    "start_time": "2022-04-05T13:40:33.935Z"
   },
   {
    "duration": 14,
    "start_time": "2022-04-05T13:40:58.501Z"
   },
   {
    "duration": 138,
    "start_time": "2022-04-05T13:42:45.156Z"
   },
   {
    "duration": 15,
    "start_time": "2022-04-05T13:44:07.254Z"
   },
   {
    "duration": 17,
    "start_time": "2022-04-05T13:44:58.871Z"
   },
   {
    "duration": 16,
    "start_time": "2022-04-05T13:45:33.936Z"
   },
   {
    "duration": 111,
    "start_time": "2022-04-05T13:45:43.436Z"
   },
   {
    "duration": 134,
    "start_time": "2022-04-05T13:46:06.529Z"
   },
   {
    "duration": 3093,
    "start_time": "2022-04-05T13:46:34.953Z"
   },
   {
    "duration": 2505,
    "start_time": "2022-04-05T13:46:39.701Z"
   },
   {
    "duration": 95,
    "start_time": "2022-04-05T13:47:02.949Z"
   },
   {
    "duration": 11,
    "start_time": "2022-04-05T13:47:36.732Z"
   },
   {
    "duration": 26,
    "start_time": "2022-04-05T13:47:42.904Z"
   },
   {
    "duration": 4,
    "start_time": "2022-04-05T13:48:33.726Z"
   },
   {
    "duration": 5,
    "start_time": "2022-04-05T13:48:53.882Z"
   },
   {
    "duration": 787,
    "start_time": "2022-04-05T13:49:26.559Z"
   },
   {
    "duration": 4,
    "start_time": "2022-04-05T13:50:18.380Z"
   },
   {
    "duration": 4,
    "start_time": "2022-04-05T13:50:18.829Z"
   },
   {
    "duration": 14,
    "start_time": "2022-04-05T13:51:00.004Z"
   },
   {
    "duration": 119,
    "start_time": "2022-04-05T13:51:25.835Z"
   },
   {
    "duration": 127,
    "start_time": "2022-04-05T13:51:37.677Z"
   },
   {
    "duration": 133,
    "start_time": "2022-04-05T13:51:52.773Z"
   },
   {
    "duration": 262,
    "start_time": "2022-04-05T13:52:16.865Z"
   },
   {
    "duration": 262,
    "start_time": "2022-04-05T13:52:30.623Z"
   },
   {
    "duration": 251,
    "start_time": "2022-04-05T13:52:58.273Z"
   },
   {
    "duration": 264,
    "start_time": "2022-04-05T13:53:35.000Z"
   },
   {
    "duration": 252,
    "start_time": "2022-04-05T13:54:13.329Z"
   },
   {
    "duration": 262,
    "start_time": "2022-04-05T13:54:22.262Z"
   },
   {
    "duration": 276,
    "start_time": "2022-04-05T13:55:14.825Z"
   },
   {
    "duration": 8,
    "start_time": "2022-04-05T13:56:48.269Z"
   },
   {
    "duration": 22,
    "start_time": "2022-04-05T13:57:32.650Z"
   },
   {
    "duration": 21,
    "start_time": "2022-04-05T13:58:06.661Z"
   },
   {
    "duration": 8,
    "start_time": "2022-04-05T14:00:33.212Z"
   },
   {
    "duration": 18,
    "start_time": "2022-04-05T14:00:37.521Z"
   },
   {
    "duration": 8,
    "start_time": "2022-04-05T14:00:47.224Z"
   },
   {
    "duration": 10,
    "start_time": "2022-04-05T14:00:54.484Z"
   },
   {
    "duration": 13,
    "start_time": "2022-04-05T14:00:57.936Z"
   },
   {
    "duration": 16,
    "start_time": "2022-04-05T14:01:04.548Z"
   },
   {
    "duration": 6,
    "start_time": "2022-04-05T14:01:19.247Z"
   },
   {
    "duration": 6,
    "start_time": "2022-04-05T14:01:26.623Z"
   },
   {
    "duration": 8,
    "start_time": "2022-04-05T14:01:35.363Z"
   },
   {
    "duration": 15,
    "start_time": "2022-04-05T14:01:51.111Z"
   },
   {
    "duration": 9,
    "start_time": "2022-04-05T14:02:09.514Z"
   },
   {
    "duration": 6,
    "start_time": "2022-04-05T14:02:23.067Z"
   },
   {
    "duration": 22,
    "start_time": "2022-04-05T14:02:50.707Z"
   },
   {
    "duration": 20,
    "start_time": "2022-04-05T14:04:43.172Z"
   },
   {
    "duration": 12,
    "start_time": "2022-04-05T14:04:48.379Z"
   },
   {
    "duration": 19,
    "start_time": "2022-04-05T14:04:53.739Z"
   },
   {
    "duration": 426,
    "start_time": "2022-04-05T14:04:54.730Z"
   },
   {
    "duration": 32,
    "start_time": "2022-04-05T14:05:18.595Z"
   },
   {
    "duration": 12,
    "start_time": "2022-04-05T14:07:38.145Z"
   },
   {
    "duration": 479,
    "start_time": "2022-04-05T14:07:48.506Z"
   },
   {
    "duration": 380,
    "start_time": "2022-04-05T14:07:48.987Z"
   },
   {
    "duration": 67,
    "start_time": "2022-04-05T14:07:49.369Z"
   },
   {
    "duration": 95,
    "start_time": "2022-04-05T14:07:49.439Z"
   },
   {
    "duration": 47,
    "start_time": "2022-04-05T14:07:49.536Z"
   },
   {
    "duration": 34,
    "start_time": "2022-04-05T14:07:49.584Z"
   },
   {
    "duration": 49,
    "start_time": "2022-04-05T14:07:49.620Z"
   },
   {
    "duration": 36,
    "start_time": "2022-04-05T14:07:49.670Z"
   },
   {
    "duration": 23,
    "start_time": "2022-04-05T14:07:49.707Z"
   },
   {
    "duration": 41,
    "start_time": "2022-04-05T14:07:49.732Z"
   },
   {
    "duration": 7,
    "start_time": "2022-04-05T14:07:49.775Z"
   },
   {
    "duration": 7,
    "start_time": "2022-04-05T14:07:49.784Z"
   },
   {
    "duration": 57,
    "start_time": "2022-04-05T14:07:49.792Z"
   },
   {
    "duration": 63,
    "start_time": "2022-04-05T14:07:49.850Z"
   },
   {
    "duration": 22,
    "start_time": "2022-04-05T14:07:49.915Z"
   },
   {
    "duration": 29,
    "start_time": "2022-04-05T14:07:49.938Z"
   },
   {
    "duration": 20,
    "start_time": "2022-04-05T14:07:49.968Z"
   },
   {
    "duration": 10,
    "start_time": "2022-04-05T14:07:49.989Z"
   },
   {
    "duration": 17,
    "start_time": "2022-04-05T14:07:50.001Z"
   },
   {
    "duration": 8,
    "start_time": "2022-04-05T14:07:50.021Z"
   },
   {
    "duration": 11,
    "start_time": "2022-04-05T14:07:50.030Z"
   },
   {
    "duration": 22,
    "start_time": "2022-04-05T14:07:50.043Z"
   },
   {
    "duration": 3921,
    "start_time": "2022-04-05T14:07:50.068Z"
   },
   {
    "duration": 22,
    "start_time": "2022-04-05T14:07:53.991Z"
   },
   {
    "duration": 7,
    "start_time": "2022-04-05T14:07:54.015Z"
   },
   {
    "duration": 32,
    "start_time": "2022-04-05T14:07:54.024Z"
   },
   {
    "duration": 461,
    "start_time": "2022-04-05T14:07:54.062Z"
   },
   {
    "duration": 9,
    "start_time": "2022-04-05T14:07:54.527Z"
   },
   {
    "duration": 20,
    "start_time": "2022-04-05T14:08:32.205Z"
   },
   {
    "duration": 7,
    "start_time": "2022-04-05T14:08:57.124Z"
   },
   {
    "duration": 23,
    "start_time": "2022-04-05T14:08:58.511Z"
   },
   {
    "duration": 6,
    "start_time": "2022-04-05T14:09:17.180Z"
   },
   {
    "duration": 22,
    "start_time": "2022-04-05T14:09:17.599Z"
   },
   {
    "duration": 75,
    "start_time": "2022-04-05T14:09:30.077Z"
   },
   {
    "duration": 22,
    "start_time": "2022-04-05T14:09:36.736Z"
   },
   {
    "duration": 3,
    "start_time": "2022-04-05T14:09:40.374Z"
   },
   {
    "duration": 408,
    "start_time": "2022-04-05T14:09:40.380Z"
   },
   {
    "duration": 55,
    "start_time": "2022-04-05T14:09:40.790Z"
   },
   {
    "duration": 47,
    "start_time": "2022-04-05T14:09:40.847Z"
   },
   {
    "duration": 36,
    "start_time": "2022-04-05T14:09:40.897Z"
   },
   {
    "duration": 60,
    "start_time": "2022-04-05T14:09:40.935Z"
   },
   {
    "duration": 26,
    "start_time": "2022-04-05T14:09:40.997Z"
   },
   {
    "duration": 61,
    "start_time": "2022-04-05T14:09:41.024Z"
   },
   {
    "duration": 23,
    "start_time": "2022-04-05T14:09:41.087Z"
   },
   {
    "duration": 24,
    "start_time": "2022-04-05T14:09:41.111Z"
   },
   {
    "duration": 15,
    "start_time": "2022-04-05T14:09:41.136Z"
   },
   {
    "duration": 26,
    "start_time": "2022-04-05T14:09:41.153Z"
   },
   {
    "duration": 78,
    "start_time": "2022-04-05T14:09:41.180Z"
   },
   {
    "duration": 52,
    "start_time": "2022-04-05T14:09:41.260Z"
   },
   {
    "duration": 23,
    "start_time": "2022-04-05T14:09:41.314Z"
   },
   {
    "duration": 33,
    "start_time": "2022-04-05T14:09:41.338Z"
   },
   {
    "duration": 30,
    "start_time": "2022-04-05T14:09:41.373Z"
   },
   {
    "duration": 19,
    "start_time": "2022-04-05T14:09:41.405Z"
   },
   {
    "duration": 35,
    "start_time": "2022-04-05T14:09:41.426Z"
   },
   {
    "duration": 23,
    "start_time": "2022-04-05T14:09:41.463Z"
   },
   {
    "duration": 35,
    "start_time": "2022-04-05T14:09:41.487Z"
   },
   {
    "duration": 28,
    "start_time": "2022-04-05T14:09:41.523Z"
   },
   {
    "duration": 3879,
    "start_time": "2022-04-05T14:09:41.552Z"
   },
   {
    "duration": 4,
    "start_time": "2022-04-05T14:09:45.433Z"
   },
   {
    "duration": 44,
    "start_time": "2022-04-05T14:09:45.439Z"
   },
   {
    "duration": 11,
    "start_time": "2022-04-05T14:09:45.485Z"
   },
   {
    "duration": 35,
    "start_time": "2022-04-05T14:09:45.497Z"
   },
   {
    "duration": 270,
    "start_time": "2022-04-05T14:09:45.534Z"
   },
   {
    "duration": 7,
    "start_time": "2022-04-05T14:09:45.806Z"
   },
   {
    "duration": 9,
    "start_time": "2022-04-05T14:10:07.110Z"
   },
   {
    "duration": 7,
    "start_time": "2022-04-05T14:10:17.772Z"
   },
   {
    "duration": 8,
    "start_time": "2022-04-05T14:10:24.672Z"
   },
   {
    "duration": 27,
    "start_time": "2022-04-05T14:11:05.461Z"
   },
   {
    "duration": 32,
    "start_time": "2022-04-05T14:11:32.135Z"
   },
   {
    "duration": 12,
    "start_time": "2022-04-05T14:11:47.958Z"
   },
   {
    "duration": 22,
    "start_time": "2022-04-05T14:12:13.207Z"
   },
   {
    "duration": 16,
    "start_time": "2022-04-05T14:12:20.852Z"
   },
   {
    "duration": 6,
    "start_time": "2022-04-05T14:13:09.955Z"
   },
   {
    "duration": 7,
    "start_time": "2022-04-05T14:13:52.050Z"
   },
   {
    "duration": 8,
    "start_time": "2022-04-05T14:14:05.085Z"
   },
   {
    "duration": 8,
    "start_time": "2022-04-05T14:14:27.449Z"
   },
   {
    "duration": 8,
    "start_time": "2022-04-05T14:14:50.680Z"
   },
   {
    "duration": 7,
    "start_time": "2022-04-05T14:14:59.478Z"
   },
   {
    "duration": 7,
    "start_time": "2022-04-05T14:15:03.610Z"
   },
   {
    "duration": 130,
    "start_time": "2022-04-05T14:16:01.325Z"
   },
   {
    "duration": 21,
    "start_time": "2022-04-05T14:16:12.458Z"
   },
   {
    "duration": 261,
    "start_time": "2022-04-05T14:17:00.944Z"
   },
   {
    "duration": 11,
    "start_time": "2022-04-05T14:17:32.605Z"
   },
   {
    "duration": 322,
    "start_time": "2022-04-05T14:17:47.691Z"
   },
   {
    "duration": 277,
    "start_time": "2022-04-05T14:17:58.439Z"
   },
   {
    "duration": 271,
    "start_time": "2022-04-05T14:18:16.610Z"
   },
   {
    "duration": 270,
    "start_time": "2022-04-05T14:18:31.886Z"
   },
   {
    "duration": 283,
    "start_time": "2022-04-05T14:18:50.258Z"
   },
   {
    "duration": 508,
    "start_time": "2022-04-05T14:20:18.065Z"
   },
   {
    "duration": 437,
    "start_time": "2022-04-05T14:20:59.641Z"
   },
   {
    "duration": 479,
    "start_time": "2022-04-05T14:21:31.243Z"
   },
   {
    "duration": 503,
    "start_time": "2022-04-05T14:21:54.103Z"
   },
   {
    "duration": 8,
    "start_time": "2022-04-05T14:25:11.473Z"
   },
   {
    "duration": 5,
    "start_time": "2022-04-05T14:25:43.776Z"
   },
   {
    "duration": 28,
    "start_time": "2022-04-05T14:26:02.152Z"
   },
   {
    "duration": 7,
    "start_time": "2022-04-05T14:27:52.095Z"
   },
   {
    "duration": 7,
    "start_time": "2022-04-05T14:28:25.570Z"
   },
   {
    "duration": 10,
    "start_time": "2022-04-05T14:29:40.846Z"
   },
   {
    "duration": 11,
    "start_time": "2022-04-05T14:29:59.776Z"
   },
   {
    "duration": 19,
    "start_time": "2022-04-05T14:30:10.190Z"
   },
   {
    "duration": 4227,
    "start_time": "2022-04-05T14:30:49.239Z"
   },
   {
    "duration": 19,
    "start_time": "2022-04-05T14:31:04.467Z"
   },
   {
    "duration": 8,
    "start_time": "2022-04-05T14:32:42.438Z"
   },
   {
    "duration": 8,
    "start_time": "2022-04-05T14:33:15.583Z"
   },
   {
    "duration": 162,
    "start_time": "2022-04-05T14:34:45.039Z"
   },
   {
    "duration": 8,
    "start_time": "2022-04-05T14:34:58.591Z"
   },
   {
    "duration": 9,
    "start_time": "2022-04-05T14:35:04.208Z"
   },
   {
    "duration": 828,
    "start_time": "2022-04-05T14:35:57.477Z"
   },
   {
    "duration": 8,
    "start_time": "2022-04-05T14:36:08.479Z"
   },
   {
    "duration": 9,
    "start_time": "2022-04-05T14:36:50.598Z"
   },
   {
    "duration": 140,
    "start_time": "2022-04-05T14:37:30.351Z"
   },
   {
    "duration": 12,
    "start_time": "2022-04-05T14:37:58.178Z"
   },
   {
    "duration": 9,
    "start_time": "2022-04-05T14:39:00.201Z"
   },
   {
    "duration": 9,
    "start_time": "2022-04-05T14:39:06.436Z"
   },
   {
    "duration": 152,
    "start_time": "2022-04-05T14:39:14.572Z"
   },
   {
    "duration": 9,
    "start_time": "2022-04-05T14:39:37.034Z"
   },
   {
    "duration": 8,
    "start_time": "2022-04-05T14:39:46.651Z"
   },
   {
    "duration": 8,
    "start_time": "2022-04-05T14:40:06.022Z"
   },
   {
    "duration": 9,
    "start_time": "2022-04-05T14:41:20.544Z"
   },
   {
    "duration": 8,
    "start_time": "2022-04-05T14:41:24.947Z"
   },
   {
    "duration": 12,
    "start_time": "2022-04-05T14:44:43.247Z"
   },
   {
    "duration": 9,
    "start_time": "2022-04-05T14:46:39.897Z"
   },
   {
    "duration": 8,
    "start_time": "2022-04-05T14:46:49.008Z"
   },
   {
    "duration": 10,
    "start_time": "2022-04-05T14:46:49.883Z"
   },
   {
    "duration": 165,
    "start_time": "2022-04-05T14:52:55.204Z"
   },
   {
    "duration": 8,
    "start_time": "2022-04-05T14:53:23.357Z"
   },
   {
    "duration": 8,
    "start_time": "2022-04-05T14:53:28.502Z"
   },
   {
    "duration": 3,
    "start_time": "2022-04-05T14:53:57.733Z"
   },
   {
    "duration": 3,
    "start_time": "2022-04-05T14:55:00.032Z"
   },
   {
    "duration": 406,
    "start_time": "2022-04-05T14:55:00.037Z"
   },
   {
    "duration": 53,
    "start_time": "2022-04-05T14:55:00.445Z"
   },
   {
    "duration": 45,
    "start_time": "2022-04-05T14:55:00.500Z"
   },
   {
    "duration": 37,
    "start_time": "2022-04-05T14:55:00.564Z"
   },
   {
    "duration": 72,
    "start_time": "2022-04-05T14:55:00.604Z"
   },
   {
    "duration": 38,
    "start_time": "2022-04-05T14:55:00.678Z"
   },
   {
    "duration": 66,
    "start_time": "2022-04-05T14:55:00.718Z"
   },
   {
    "duration": 38,
    "start_time": "2022-04-05T14:55:00.787Z"
   },
   {
    "duration": 45,
    "start_time": "2022-04-05T14:55:00.828Z"
   },
   {
    "duration": 11,
    "start_time": "2022-04-05T14:55:00.875Z"
   },
   {
    "duration": 24,
    "start_time": "2022-04-05T14:55:00.888Z"
   },
   {
    "duration": 61,
    "start_time": "2022-04-05T14:55:00.917Z"
   },
   {
    "duration": 76,
    "start_time": "2022-04-05T14:55:00.981Z"
   },
   {
    "duration": 31,
    "start_time": "2022-04-05T14:55:01.063Z"
   },
   {
    "duration": 25,
    "start_time": "2022-04-05T14:55:01.096Z"
   },
   {
    "duration": 48,
    "start_time": "2022-04-05T14:55:01.123Z"
   },
   {
    "duration": 6,
    "start_time": "2022-04-05T14:55:01.174Z"
   },
   {
    "duration": 171,
    "start_time": "2022-04-05T14:55:01.182Z"
   },
   {
    "duration": 10,
    "start_time": "2022-04-05T14:55:01.355Z"
   },
   {
    "duration": 25,
    "start_time": "2022-04-05T14:55:01.367Z"
   },
   {
    "duration": 9,
    "start_time": "2022-04-05T14:55:01.394Z"
   },
   {
    "duration": 3963,
    "start_time": "2022-04-05T14:55:01.404Z"
   },
   {
    "duration": 4,
    "start_time": "2022-04-05T14:55:05.369Z"
   },
   {
    "duration": 9,
    "start_time": "2022-04-05T14:55:05.375Z"
   },
   {
    "duration": 284,
    "start_time": "2022-04-05T14:55:05.385Z"
   },
   {
    "duration": 294,
    "start_time": "2022-04-05T14:55:05.671Z"
   },
   {
    "duration": 598,
    "start_time": "2022-04-05T14:55:05.967Z"
   },
   {
    "duration": 9,
    "start_time": "2022-04-05T14:55:06.567Z"
   },
   {
    "duration": 10,
    "start_time": "2022-04-05T14:55:06.578Z"
   },
   {
    "duration": 11,
    "start_time": "2022-04-05T14:55:06.590Z"
   },
   {
    "duration": 9,
    "start_time": "2022-04-05T14:55:06.602Z"
   },
   {
    "duration": 55,
    "start_time": "2022-04-05T14:55:06.613Z"
   },
   {
    "duration": 10,
    "start_time": "2022-04-05T14:55:06.669Z"
   },
   {
    "duration": 20,
    "start_time": "2022-04-05T14:55:06.680Z"
   },
   {
    "duration": 6,
    "start_time": "2022-04-05T14:55:17.229Z"
   },
   {
    "duration": 9,
    "start_time": "2022-04-05T14:57:29.553Z"
   },
   {
    "duration": 126,
    "start_time": "2022-04-05T14:57:37.199Z"
   },
   {
    "duration": 125,
    "start_time": "2022-04-05T14:58:02.222Z"
   },
   {
    "duration": 152,
    "start_time": "2022-04-05T14:58:15.327Z"
   },
   {
    "duration": 199,
    "start_time": "2022-04-05T14:58:27.681Z"
   },
   {
    "duration": 121,
    "start_time": "2022-04-05T14:58:35.381Z"
   },
   {
    "duration": 140,
    "start_time": "2022-04-05T14:59:22.898Z"
   },
   {
    "duration": 127,
    "start_time": "2022-04-05T14:59:47.918Z"
   },
   {
    "duration": 4,
    "start_time": "2022-04-05T15:00:12.197Z"
   },
   {
    "duration": 241,
    "start_time": "2022-04-05T15:00:28.162Z"
   },
   {
    "duration": 5,
    "start_time": "2022-04-05T15:00:37.285Z"
   },
   {
    "duration": 5,
    "start_time": "2022-04-05T15:00:55.464Z"
   },
   {
    "duration": 27,
    "start_time": "2022-04-05T15:03:36.443Z"
   },
   {
    "duration": 4,
    "start_time": "2022-04-05T15:04:09.569Z"
   },
   {
    "duration": 5,
    "start_time": "2022-04-05T15:05:31.778Z"
   },
   {
    "duration": 20,
    "start_time": "2022-04-05T15:05:39.278Z"
   },
   {
    "duration": 6,
    "start_time": "2022-04-05T15:05:50.195Z"
   },
   {
    "duration": 147,
    "start_time": "2022-04-05T15:07:12.447Z"
   },
   {
    "duration": 165,
    "start_time": "2022-04-05T15:07:24.959Z"
   },
   {
    "duration": 157,
    "start_time": "2022-04-05T15:07:37.340Z"
   },
   {
    "duration": 142,
    "start_time": "2022-04-05T15:07:43.150Z"
   },
   {
    "duration": 145,
    "start_time": "2022-04-05T15:07:51.663Z"
   },
   {
    "duration": 168,
    "start_time": "2022-04-05T15:07:57.449Z"
   },
   {
    "duration": 8,
    "start_time": "2022-04-05T15:08:38.289Z"
   },
   {
    "duration": 6,
    "start_time": "2022-04-05T15:08:44.539Z"
   },
   {
    "duration": 23,
    "start_time": "2022-04-05T15:09:30.339Z"
   },
   {
    "duration": 6,
    "start_time": "2022-04-05T15:09:40.974Z"
   },
   {
    "duration": 18,
    "start_time": "2022-04-05T15:11:24.732Z"
   },
   {
    "duration": 10,
    "start_time": "2022-04-05T15:11:28.821Z"
   },
   {
    "duration": 4,
    "start_time": "2022-04-05T15:11:49.612Z"
   },
   {
    "duration": 8,
    "start_time": "2022-04-05T15:11:55.342Z"
   },
   {
    "duration": 5,
    "start_time": "2022-04-05T15:12:06.033Z"
   },
   {
    "duration": 9,
    "start_time": "2022-04-05T15:12:12.504Z"
   },
   {
    "duration": 5,
    "start_time": "2022-04-05T15:12:17.993Z"
   },
   {
    "duration": 6,
    "start_time": "2022-04-05T15:13:11.909Z"
   },
   {
    "duration": 9,
    "start_time": "2022-04-05T15:13:37.659Z"
   },
   {
    "duration": 511,
    "start_time": "2022-04-05T15:18:05.518Z"
   },
   {
    "duration": 380,
    "start_time": "2022-04-05T15:20:51.263Z"
   },
   {
    "duration": 48,
    "start_time": "2022-04-05T17:10:00.247Z"
   },
   {
    "duration": 902,
    "start_time": "2022-04-05T17:10:13.479Z"
   },
   {
    "duration": 393,
    "start_time": "2022-04-05T17:10:14.383Z"
   },
   {
    "duration": 62,
    "start_time": "2022-04-05T17:10:14.778Z"
   },
   {
    "duration": 45,
    "start_time": "2022-04-05T17:10:14.843Z"
   },
   {
    "duration": 55,
    "start_time": "2022-04-05T17:10:14.889Z"
   },
   {
    "duration": 36,
    "start_time": "2022-04-05T17:10:14.946Z"
   },
   {
    "duration": 57,
    "start_time": "2022-04-05T17:10:14.984Z"
   },
   {
    "duration": 37,
    "start_time": "2022-04-05T17:10:15.043Z"
   },
   {
    "duration": 26,
    "start_time": "2022-04-05T17:10:15.081Z"
   },
   {
    "duration": 42,
    "start_time": "2022-04-05T17:10:15.110Z"
   },
   {
    "duration": 8,
    "start_time": "2022-04-05T17:10:15.154Z"
   },
   {
    "duration": 8,
    "start_time": "2022-04-05T17:10:15.164Z"
   },
   {
    "duration": 66,
    "start_time": "2022-04-05T17:10:15.174Z"
   },
   {
    "duration": 57,
    "start_time": "2022-04-05T17:10:15.241Z"
   },
   {
    "duration": 36,
    "start_time": "2022-04-05T17:10:15.300Z"
   },
   {
    "duration": 17,
    "start_time": "2022-04-05T17:10:15.338Z"
   },
   {
    "duration": 24,
    "start_time": "2022-04-05T17:10:15.357Z"
   },
   {
    "duration": 4,
    "start_time": "2022-04-05T17:10:15.383Z"
   },
   {
    "duration": 9,
    "start_time": "2022-04-05T17:10:15.389Z"
   },
   {
    "duration": 35,
    "start_time": "2022-04-05T17:10:15.400Z"
   },
   {
    "duration": 10,
    "start_time": "2022-04-05T17:10:15.437Z"
   },
   {
    "duration": 8,
    "start_time": "2022-04-05T17:10:15.448Z"
   },
   {
    "duration": 4028,
    "start_time": "2022-04-05T17:10:15.458Z"
   },
   {
    "duration": 6,
    "start_time": "2022-04-05T17:10:19.487Z"
   },
   {
    "duration": 9,
    "start_time": "2022-04-05T17:10:19.495Z"
   },
   {
    "duration": 601,
    "start_time": "2022-04-05T17:10:19.505Z"
   },
   {
    "duration": 376,
    "start_time": "2022-04-05T17:10:20.108Z"
   },
   {
    "duration": 548,
    "start_time": "2022-04-05T17:10:20.489Z"
   },
   {
    "duration": 8,
    "start_time": "2022-04-05T17:10:21.039Z"
   },
   {
    "duration": 15,
    "start_time": "2022-04-05T17:10:21.049Z"
   },
   {
    "duration": 15,
    "start_time": "2022-04-05T17:10:21.066Z"
   },
   {
    "duration": 92,
    "start_time": "2022-04-05T17:10:21.082Z"
   },
   {
    "duration": 0,
    "start_time": "2022-04-05T17:10:21.176Z"
   },
   {
    "duration": 0,
    "start_time": "2022-04-05T17:10:21.177Z"
   },
   {
    "duration": 0,
    "start_time": "2022-04-05T17:10:21.178Z"
   },
   {
    "duration": 0,
    "start_time": "2022-04-05T17:10:21.179Z"
   },
   {
    "duration": 0,
    "start_time": "2022-04-05T17:10:21.180Z"
   },
   {
    "duration": 0,
    "start_time": "2022-04-05T17:10:21.181Z"
   },
   {
    "duration": 0,
    "start_time": "2022-04-05T17:10:21.183Z"
   },
   {
    "duration": 0,
    "start_time": "2022-04-05T17:10:21.184Z"
   },
   {
    "duration": 9,
    "start_time": "2022-04-05T17:10:54.141Z"
   },
   {
    "duration": 168,
    "start_time": "2022-04-05T17:12:06.413Z"
   },
   {
    "duration": 114,
    "start_time": "2022-04-05T17:12:20.597Z"
   },
   {
    "duration": 8,
    "start_time": "2022-04-05T17:12:38.382Z"
   },
   {
    "duration": 8,
    "start_time": "2022-04-05T17:12:49.357Z"
   },
   {
    "duration": 9,
    "start_time": "2022-04-05T17:12:55.664Z"
   },
   {
    "duration": 7,
    "start_time": "2022-04-05T17:13:40.840Z"
   },
   {
    "duration": 8,
    "start_time": "2022-04-05T17:14:03.175Z"
   },
   {
    "duration": 6,
    "start_time": "2022-04-05T17:14:52.576Z"
   },
   {
    "duration": 5,
    "start_time": "2022-04-05T17:14:59.896Z"
   },
   {
    "duration": 5,
    "start_time": "2022-04-05T17:15:13.807Z"
   },
   {
    "duration": 5,
    "start_time": "2022-04-05T17:15:21.640Z"
   },
   {
    "duration": 5,
    "start_time": "2022-04-05T17:15:25.694Z"
   },
   {
    "duration": 6,
    "start_time": "2022-04-05T17:15:34.173Z"
   },
   {
    "duration": 6,
    "start_time": "2022-04-05T17:18:21.933Z"
   },
   {
    "duration": 5,
    "start_time": "2022-04-05T17:19:30.430Z"
   },
   {
    "duration": 7,
    "start_time": "2022-04-05T17:20:04.511Z"
   },
   {
    "duration": 6,
    "start_time": "2022-04-05T17:20:16.514Z"
   },
   {
    "duration": 5,
    "start_time": "2022-04-05T17:20:30.088Z"
   },
   {
    "duration": 6,
    "start_time": "2022-04-05T17:22:11.863Z"
   },
   {
    "duration": 9,
    "start_time": "2022-04-05T17:22:12.521Z"
   },
   {
    "duration": 7,
    "start_time": "2022-04-05T17:22:15.947Z"
   },
   {
    "duration": 131,
    "start_time": "2022-04-05T17:22:18.518Z"
   },
   {
    "duration": 5,
    "start_time": "2022-04-05T17:22:22.669Z"
   },
   {
    "duration": 6,
    "start_time": "2022-04-05T17:25:38.899Z"
   },
   {
    "duration": 5,
    "start_time": "2022-04-05T17:26:39.987Z"
   },
   {
    "duration": 7,
    "start_time": "2022-04-05T17:27:57.407Z"
   },
   {
    "duration": 6,
    "start_time": "2022-04-05T17:28:47.713Z"
   },
   {
    "duration": 7,
    "start_time": "2022-04-05T17:29:53.309Z"
   },
   {
    "duration": 8,
    "start_time": "2022-04-05T17:31:18.045Z"
   },
   {
    "duration": 157,
    "start_time": "2022-04-05T17:31:18.876Z"
   },
   {
    "duration": 13,
    "start_time": "2022-04-05T17:31:32.255Z"
   },
   {
    "duration": 6,
    "start_time": "2022-04-05T17:31:38.447Z"
   },
   {
    "duration": 38,
    "start_time": "2022-04-05T17:34:36.211Z"
   },
   {
    "duration": 4,
    "start_time": "2022-04-05T17:36:04.116Z"
   },
   {
    "duration": 4,
    "start_time": "2022-04-05T17:36:22.087Z"
   },
   {
    "duration": 6,
    "start_time": "2022-04-05T17:36:49.402Z"
   },
   {
    "duration": 9,
    "start_time": "2022-04-05T17:36:58.578Z"
   },
   {
    "duration": 9,
    "start_time": "2022-04-05T17:37:16.488Z"
   },
   {
    "duration": 7,
    "start_time": "2022-04-05T17:37:18.447Z"
   },
   {
    "duration": 9,
    "start_time": "2022-04-05T17:37:24.422Z"
   },
   {
    "duration": 3,
    "start_time": "2022-04-05T17:37:31.291Z"
   },
   {
    "duration": 465,
    "start_time": "2022-04-05T17:37:31.296Z"
   },
   {
    "duration": 59,
    "start_time": "2022-04-05T17:37:31.763Z"
   },
   {
    "duration": 55,
    "start_time": "2022-04-05T17:37:31.823Z"
   },
   {
    "duration": 55,
    "start_time": "2022-04-05T17:37:31.880Z"
   },
   {
    "duration": 41,
    "start_time": "2022-04-05T17:37:31.937Z"
   },
   {
    "duration": 56,
    "start_time": "2022-04-05T17:37:31.979Z"
   },
   {
    "duration": 38,
    "start_time": "2022-04-05T17:37:32.037Z"
   },
   {
    "duration": 24,
    "start_time": "2022-04-05T17:37:32.077Z"
   },
   {
    "duration": 49,
    "start_time": "2022-04-05T17:37:32.103Z"
   },
   {
    "duration": 7,
    "start_time": "2022-04-05T17:37:32.155Z"
   },
   {
    "duration": 5,
    "start_time": "2022-04-05T17:37:32.164Z"
   },
   {
    "duration": 77,
    "start_time": "2022-04-05T17:37:32.171Z"
   },
   {
    "duration": 55,
    "start_time": "2022-04-05T17:37:32.249Z"
   },
   {
    "duration": 47,
    "start_time": "2022-04-05T17:37:32.306Z"
   },
   {
    "duration": 19,
    "start_time": "2022-04-05T17:37:32.354Z"
   },
   {
    "duration": 24,
    "start_time": "2022-04-05T17:37:32.375Z"
   },
   {
    "duration": 4,
    "start_time": "2022-04-05T17:37:32.401Z"
   },
   {
    "duration": 33,
    "start_time": "2022-04-05T17:37:32.407Z"
   },
   {
    "duration": 12,
    "start_time": "2022-04-05T17:37:32.444Z"
   },
   {
    "duration": 9,
    "start_time": "2022-04-05T17:37:32.457Z"
   },
   {
    "duration": 8,
    "start_time": "2022-04-05T17:37:32.468Z"
   },
   {
    "duration": 4306,
    "start_time": "2022-04-05T17:37:32.478Z"
   },
   {
    "duration": 5,
    "start_time": "2022-04-05T17:37:36.786Z"
   },
   {
    "duration": 8,
    "start_time": "2022-04-05T17:37:36.792Z"
   },
   {
    "duration": 340,
    "start_time": "2022-04-05T17:37:36.802Z"
   },
   {
    "duration": 405,
    "start_time": "2022-04-05T17:37:37.145Z"
   },
   {
    "duration": 861,
    "start_time": "2022-04-05T17:37:37.553Z"
   },
   {
    "duration": 13,
    "start_time": "2022-04-05T17:37:38.420Z"
   },
   {
    "duration": 16,
    "start_time": "2022-04-05T17:37:38.436Z"
   },
   {
    "duration": 12,
    "start_time": "2022-04-05T17:37:38.454Z"
   },
   {
    "duration": 9,
    "start_time": "2022-04-05T17:37:38.468Z"
   },
   {
    "duration": 7,
    "start_time": "2022-04-05T17:37:38.480Z"
   },
   {
    "duration": 8,
    "start_time": "2022-04-05T17:37:38.490Z"
   },
   {
    "duration": 305,
    "start_time": "2022-04-05T17:37:38.534Z"
   },
   {
    "duration": 10,
    "start_time": "2022-04-05T17:37:38.842Z"
   },
   {
    "duration": 10,
    "start_time": "2022-04-05T17:37:38.853Z"
   },
   {
    "duration": 197,
    "start_time": "2022-04-05T17:37:38.864Z"
   },
   {
    "duration": 5,
    "start_time": "2022-04-05T17:37:39.062Z"
   },
   {
    "duration": 5,
    "start_time": "2022-04-05T17:37:39.069Z"
   },
   {
    "duration": 10,
    "start_time": "2022-04-05T17:38:11.112Z"
   },
   {
    "duration": 9,
    "start_time": "2022-04-05T17:38:16.922Z"
   },
   {
    "duration": 3,
    "start_time": "2022-04-05T17:38:24.383Z"
   },
   {
    "duration": 438,
    "start_time": "2022-04-05T17:38:24.388Z"
   },
   {
    "duration": 59,
    "start_time": "2022-04-05T17:38:24.828Z"
   },
   {
    "duration": 67,
    "start_time": "2022-04-05T17:38:24.888Z"
   },
   {
    "duration": 32,
    "start_time": "2022-04-05T17:38:24.957Z"
   },
   {
    "duration": 70,
    "start_time": "2022-04-05T17:38:24.991Z"
   },
   {
    "duration": 27,
    "start_time": "2022-04-05T17:38:25.063Z"
   },
   {
    "duration": 57,
    "start_time": "2022-04-05T17:38:25.092Z"
   },
   {
    "duration": 23,
    "start_time": "2022-04-05T17:38:25.151Z"
   },
   {
    "duration": 19,
    "start_time": "2022-04-05T17:38:25.176Z"
   },
   {
    "duration": 7,
    "start_time": "2022-04-05T17:38:25.198Z"
   },
   {
    "duration": 27,
    "start_time": "2022-04-05T17:38:25.207Z"
   },
   {
    "duration": 53,
    "start_time": "2022-04-05T17:38:25.236Z"
   },
   {
    "duration": 69,
    "start_time": "2022-04-05T17:38:25.290Z"
   },
   {
    "duration": 24,
    "start_time": "2022-04-05T17:38:25.361Z"
   },
   {
    "duration": 16,
    "start_time": "2022-04-05T17:38:25.386Z"
   },
   {
    "duration": 37,
    "start_time": "2022-04-05T17:38:25.404Z"
   },
   {
    "duration": 11,
    "start_time": "2022-04-05T17:38:25.444Z"
   },
   {
    "duration": 7,
    "start_time": "2022-04-05T17:38:25.457Z"
   },
   {
    "duration": 6,
    "start_time": "2022-04-05T17:38:25.466Z"
   },
   {
    "duration": 8,
    "start_time": "2022-04-05T17:38:25.474Z"
   },
   {
    "duration": 6,
    "start_time": "2022-04-05T17:38:25.484Z"
   },
   {
    "duration": 4818,
    "start_time": "2022-04-05T17:38:25.492Z"
   },
   {
    "duration": 5,
    "start_time": "2022-04-05T17:38:30.312Z"
   },
   {
    "duration": 15,
    "start_time": "2022-04-05T17:38:30.318Z"
   },
   {
    "duration": 309,
    "start_time": "2022-04-05T17:38:30.335Z"
   },
   {
    "duration": 423,
    "start_time": "2022-04-05T17:38:30.647Z"
   },
   {
    "duration": 538,
    "start_time": "2022-04-05T17:38:31.072Z"
   },
   {
    "duration": 7,
    "start_time": "2022-04-05T17:38:31.614Z"
   },
   {
    "duration": 9,
    "start_time": "2022-04-05T17:38:31.634Z"
   },
   {
    "duration": 20,
    "start_time": "2022-04-05T17:38:31.645Z"
   },
   {
    "duration": 13,
    "start_time": "2022-04-05T17:38:31.667Z"
   },
   {
    "duration": 6,
    "start_time": "2022-04-05T17:38:31.682Z"
   },
   {
    "duration": 13,
    "start_time": "2022-04-05T17:38:31.689Z"
   },
   {
    "duration": 168,
    "start_time": "2022-04-05T17:38:31.703Z"
   },
   {
    "duration": 6,
    "start_time": "2022-04-05T17:38:31.872Z"
   },
   {
    "duration": 12,
    "start_time": "2022-04-05T17:38:31.879Z"
   },
   {
    "duration": 183,
    "start_time": "2022-04-05T17:38:31.892Z"
   },
   {
    "duration": 5,
    "start_time": "2022-04-05T17:38:32.077Z"
   },
   {
    "duration": 6,
    "start_time": "2022-04-05T17:38:32.084Z"
   },
   {
    "duration": 9,
    "start_time": "2022-04-05T17:39:59.913Z"
   },
   {
    "duration": 3,
    "start_time": "2022-04-05T17:40:04.177Z"
   },
   {
    "duration": 432,
    "start_time": "2022-04-05T17:40:04.183Z"
   },
   {
    "duration": 60,
    "start_time": "2022-04-05T17:40:04.617Z"
   },
   {
    "duration": 74,
    "start_time": "2022-04-05T17:40:04.679Z"
   },
   {
    "duration": 35,
    "start_time": "2022-04-05T17:40:04.756Z"
   },
   {
    "duration": 67,
    "start_time": "2022-04-05T17:40:04.793Z"
   },
   {
    "duration": 28,
    "start_time": "2022-04-05T17:40:04.862Z"
   },
   {
    "duration": 60,
    "start_time": "2022-04-05T17:40:04.892Z"
   },
   {
    "duration": 24,
    "start_time": "2022-04-05T17:40:04.954Z"
   },
   {
    "duration": 21,
    "start_time": "2022-04-05T17:40:04.980Z"
   },
   {
    "duration": 30,
    "start_time": "2022-04-05T17:40:05.004Z"
   },
   {
    "duration": 15,
    "start_time": "2022-04-05T17:40:05.037Z"
   },
   {
    "duration": 53,
    "start_time": "2022-04-05T17:40:05.054Z"
   },
   {
    "duration": 73,
    "start_time": "2022-04-05T17:40:05.109Z"
   },
   {
    "duration": 25,
    "start_time": "2022-04-05T17:40:05.184Z"
   },
   {
    "duration": 39,
    "start_time": "2022-04-05T17:40:05.210Z"
   },
   {
    "duration": 21,
    "start_time": "2022-04-05T17:40:05.251Z"
   },
   {
    "duration": 6,
    "start_time": "2022-04-05T17:40:05.274Z"
   },
   {
    "duration": 8,
    "start_time": "2022-04-05T17:40:05.281Z"
   },
   {
    "duration": 8,
    "start_time": "2022-04-05T17:40:05.291Z"
   },
   {
    "duration": 36,
    "start_time": "2022-04-05T17:40:05.301Z"
   },
   {
    "duration": 11,
    "start_time": "2022-04-05T17:40:05.339Z"
   },
   {
    "duration": 4503,
    "start_time": "2022-04-05T17:40:05.352Z"
   },
   {
    "duration": 5,
    "start_time": "2022-04-05T17:40:09.858Z"
   },
   {
    "duration": 9,
    "start_time": "2022-04-05T17:40:09.864Z"
   },
   {
    "duration": 321,
    "start_time": "2022-04-05T17:40:09.875Z"
   },
   {
    "duration": 331,
    "start_time": "2022-04-05T17:40:10.198Z"
   },
   {
    "duration": 555,
    "start_time": "2022-04-05T17:40:10.532Z"
   },
   {
    "duration": 6,
    "start_time": "2022-04-05T17:40:11.091Z"
   },
   {
    "duration": 7,
    "start_time": "2022-04-05T17:40:11.099Z"
   },
   {
    "duration": 33,
    "start_time": "2022-04-05T17:40:11.108Z"
   },
   {
    "duration": 18,
    "start_time": "2022-04-05T17:40:11.143Z"
   },
   {
    "duration": 6,
    "start_time": "2022-04-05T17:40:11.163Z"
   },
   {
    "duration": 12,
    "start_time": "2022-04-05T17:40:11.170Z"
   },
   {
    "duration": 174,
    "start_time": "2022-04-05T17:40:11.183Z"
   },
   {
    "duration": 6,
    "start_time": "2022-04-05T17:40:11.359Z"
   },
   {
    "duration": 10,
    "start_time": "2022-04-05T17:40:11.366Z"
   },
   {
    "duration": 311,
    "start_time": "2022-04-05T17:40:11.378Z"
   },
   {
    "duration": 5,
    "start_time": "2022-04-05T17:40:11.691Z"
   },
   {
    "duration": 4,
    "start_time": "2022-04-05T17:42:03.597Z"
   },
   {
    "duration": 4,
    "start_time": "2022-04-05T17:42:28.227Z"
   },
   {
    "duration": 16,
    "start_time": "2022-04-05T17:42:35.251Z"
   },
   {
    "duration": 10,
    "start_time": "2022-04-05T17:50:58.079Z"
   },
   {
    "duration": 111,
    "start_time": "2022-04-05T17:52:02.950Z"
   },
   {
    "duration": 6,
    "start_time": "2022-04-05T17:52:09.499Z"
   },
   {
    "duration": 9,
    "start_time": "2022-04-05T17:53:38.421Z"
   },
   {
    "duration": 3,
    "start_time": "2022-04-05T17:53:42.464Z"
   },
   {
    "duration": 400,
    "start_time": "2022-04-05T17:53:42.468Z"
   },
   {
    "duration": 51,
    "start_time": "2022-04-05T17:53:42.870Z"
   },
   {
    "duration": 44,
    "start_time": "2022-04-05T17:53:42.923Z"
   },
   {
    "duration": 30,
    "start_time": "2022-04-05T17:53:42.969Z"
   },
   {
    "duration": 58,
    "start_time": "2022-04-05T17:53:43.001Z"
   },
   {
    "duration": 28,
    "start_time": "2022-04-05T17:53:43.061Z"
   },
   {
    "duration": 56,
    "start_time": "2022-04-05T17:53:43.090Z"
   },
   {
    "duration": 25,
    "start_time": "2022-04-05T17:53:43.147Z"
   },
   {
    "duration": 22,
    "start_time": "2022-04-05T17:53:43.173Z"
   },
   {
    "duration": 9,
    "start_time": "2022-04-05T17:53:43.197Z"
   },
   {
    "duration": 29,
    "start_time": "2022-04-05T17:53:43.207Z"
   },
   {
    "duration": 52,
    "start_time": "2022-04-05T17:53:43.238Z"
   },
   {
    "duration": 66,
    "start_time": "2022-04-05T17:53:43.292Z"
   },
   {
    "duration": 19,
    "start_time": "2022-04-05T17:53:43.360Z"
   },
   {
    "duration": 16,
    "start_time": "2022-04-05T17:53:43.381Z"
   },
   {
    "duration": 37,
    "start_time": "2022-04-05T17:53:43.398Z"
   },
   {
    "duration": 5,
    "start_time": "2022-04-05T17:53:43.437Z"
   },
   {
    "duration": 10,
    "start_time": "2022-04-05T17:53:43.443Z"
   },
   {
    "duration": 8,
    "start_time": "2022-04-05T17:53:43.455Z"
   },
   {
    "duration": 10,
    "start_time": "2022-04-05T17:53:43.465Z"
   },
   {
    "duration": 7,
    "start_time": "2022-04-05T17:53:43.477Z"
   },
   {
    "duration": 3930,
    "start_time": "2022-04-05T17:53:43.486Z"
   },
   {
    "duration": 5,
    "start_time": "2022-04-05T17:53:47.417Z"
   },
   {
    "duration": 12,
    "start_time": "2022-04-05T17:53:47.424Z"
   },
   {
    "duration": 278,
    "start_time": "2022-04-05T17:53:47.438Z"
   },
   {
    "duration": 412,
    "start_time": "2022-04-05T17:53:47.718Z"
   },
   {
    "duration": 500,
    "start_time": "2022-04-05T17:53:48.133Z"
   },
   {
    "duration": 6,
    "start_time": "2022-04-05T17:53:48.636Z"
   },
   {
    "duration": 13,
    "start_time": "2022-04-05T17:53:48.643Z"
   },
   {
    "duration": 9,
    "start_time": "2022-04-05T17:53:48.658Z"
   },
   {
    "duration": 6,
    "start_time": "2022-04-05T17:53:48.669Z"
   },
   {
    "duration": 5,
    "start_time": "2022-04-05T17:53:48.677Z"
   },
   {
    "duration": 12,
    "start_time": "2022-04-05T17:53:48.684Z"
   },
   {
    "duration": 176,
    "start_time": "2022-04-05T17:53:48.698Z"
   },
   {
    "duration": 6,
    "start_time": "2022-04-05T17:53:48.876Z"
   },
   {
    "duration": 8,
    "start_time": "2022-04-05T17:53:48.884Z"
   },
   {
    "duration": 175,
    "start_time": "2022-04-05T17:53:48.893Z"
   },
   {
    "duration": 22,
    "start_time": "2022-04-05T17:53:49.069Z"
   },
   {
    "duration": 10,
    "start_time": "2022-04-05T17:53:49.093Z"
   },
   {
    "duration": 5,
    "start_time": "2022-04-05T17:54:21.400Z"
   },
   {
    "duration": 443,
    "start_time": "2022-04-05T17:55:22.283Z"
   },
   {
    "duration": 9,
    "start_time": "2022-04-05T17:57:20.760Z"
   },
   {
    "duration": 140,
    "start_time": "2022-04-05T17:59:38.219Z"
   },
   {
    "duration": 123,
    "start_time": "2022-04-05T18:00:03.695Z"
   },
   {
    "duration": 5,
    "start_time": "2022-04-05T18:01:19.316Z"
   },
   {
    "duration": 140,
    "start_time": "2022-04-05T18:01:42.369Z"
   },
   {
    "duration": 4,
    "start_time": "2022-04-05T18:01:55.877Z"
   },
   {
    "duration": 4,
    "start_time": "2022-04-05T18:02:10.483Z"
   },
   {
    "duration": 4,
    "start_time": "2022-04-05T18:08:23.268Z"
   },
   {
    "duration": 20,
    "start_time": "2022-04-05T18:08:28.403Z"
   },
   {
    "duration": 23,
    "start_time": "2022-04-05T18:08:42.120Z"
   },
   {
    "duration": 20,
    "start_time": "2022-04-05T18:09:02.829Z"
   },
   {
    "duration": 4,
    "start_time": "2022-04-05T18:09:18.593Z"
   },
   {
    "duration": 21,
    "start_time": "2022-04-05T18:09:22.601Z"
   },
   {
    "duration": 9,
    "start_time": "2022-04-05T18:09:36.036Z"
   },
   {
    "duration": 105,
    "start_time": "2022-04-05T18:09:54.196Z"
   },
   {
    "duration": 11,
    "start_time": "2022-04-05T18:09:58.000Z"
   },
   {
    "duration": 12,
    "start_time": "2022-04-05T18:10:07.164Z"
   },
   {
    "duration": 5,
    "start_time": "2022-04-05T18:10:13.615Z"
   },
   {
    "duration": 23,
    "start_time": "2022-04-05T18:10:16.146Z"
   },
   {
    "duration": 22,
    "start_time": "2022-04-05T18:10:19.395Z"
   },
   {
    "duration": 6,
    "start_time": "2022-04-05T18:10:33.820Z"
   },
   {
    "duration": 5,
    "start_time": "2022-04-05T18:11:29.382Z"
   },
   {
    "duration": 109,
    "start_time": "2022-04-05T18:11:41.524Z"
   },
   {
    "duration": 5,
    "start_time": "2022-04-05T18:11:46.729Z"
   },
   {
    "duration": 3,
    "start_time": "2022-04-05T18:54:40.819Z"
   },
   {
    "duration": 387,
    "start_time": "2022-04-05T18:54:40.824Z"
   },
   {
    "duration": 50,
    "start_time": "2022-04-05T18:54:41.213Z"
   },
   {
    "duration": 45,
    "start_time": "2022-04-05T18:54:41.264Z"
   },
   {
    "duration": 54,
    "start_time": "2022-04-05T18:54:41.311Z"
   },
   {
    "duration": 36,
    "start_time": "2022-04-05T18:54:41.366Z"
   },
   {
    "duration": 53,
    "start_time": "2022-04-05T18:54:41.404Z"
   },
   {
    "duration": 29,
    "start_time": "2022-04-05T18:54:41.459Z"
   },
   {
    "duration": 47,
    "start_time": "2022-04-05T18:54:41.491Z"
   },
   {
    "duration": 20,
    "start_time": "2022-04-05T18:54:41.540Z"
   },
   {
    "duration": 8,
    "start_time": "2022-04-05T18:54:41.563Z"
   },
   {
    "duration": 6,
    "start_time": "2022-04-05T18:54:41.572Z"
   },
   {
    "duration": 67,
    "start_time": "2022-04-05T18:54:41.579Z"
   },
   {
    "duration": 38,
    "start_time": "2022-04-05T18:54:41.648Z"
   },
   {
    "duration": 18,
    "start_time": "2022-04-05T18:54:41.688Z"
   },
   {
    "duration": 38,
    "start_time": "2022-04-05T18:54:41.708Z"
   },
   {
    "duration": 20,
    "start_time": "2022-04-05T18:54:41.747Z"
   },
   {
    "duration": 4,
    "start_time": "2022-04-05T18:54:41.769Z"
   },
   {
    "duration": 9,
    "start_time": "2022-04-05T18:54:41.774Z"
   },
   {
    "duration": 8,
    "start_time": "2022-04-05T18:54:41.784Z"
   },
   {
    "duration": 10,
    "start_time": "2022-04-05T18:54:41.793Z"
   },
   {
    "duration": 8,
    "start_time": "2022-04-05T18:54:41.833Z"
   },
   {
    "duration": 3991,
    "start_time": "2022-04-05T18:54:41.843Z"
   },
   {
    "duration": 4,
    "start_time": "2022-04-05T18:54:45.836Z"
   },
   {
    "duration": 7,
    "start_time": "2022-04-05T18:54:45.842Z"
   },
   {
    "duration": 289,
    "start_time": "2022-04-05T18:54:45.851Z"
   },
   {
    "duration": 297,
    "start_time": "2022-04-05T18:54:46.142Z"
   },
   {
    "duration": 495,
    "start_time": "2022-04-05T18:54:46.441Z"
   },
   {
    "duration": 7,
    "start_time": "2022-04-05T18:54:46.940Z"
   },
   {
    "duration": 7,
    "start_time": "2022-04-05T18:54:46.949Z"
   },
   {
    "duration": 7,
    "start_time": "2022-04-05T18:54:46.958Z"
   },
   {
    "duration": 8,
    "start_time": "2022-04-05T18:54:46.967Z"
   },
   {
    "duration": 9,
    "start_time": "2022-04-05T18:54:46.976Z"
   },
   {
    "duration": 7,
    "start_time": "2022-04-05T18:54:46.986Z"
   },
   {
    "duration": 150,
    "start_time": "2022-04-05T18:54:47.033Z"
   },
   {
    "duration": 6,
    "start_time": "2022-04-05T18:54:47.185Z"
   },
   {
    "duration": 9,
    "start_time": "2022-04-05T18:54:47.193Z"
   },
   {
    "duration": 180,
    "start_time": "2022-04-05T18:54:47.204Z"
   },
   {
    "duration": 6,
    "start_time": "2022-04-05T18:54:47.385Z"
   },
   {
    "duration": 137,
    "start_time": "2022-04-05T18:55:33.861Z"
   },
   {
    "duration": 272,
    "start_time": "2022-04-05T18:56:39.425Z"
   },
   {
    "duration": 219,
    "start_time": "2022-04-05T18:57:23.543Z"
   },
   {
    "duration": 205,
    "start_time": "2022-04-05T18:58:06.736Z"
   },
   {
    "duration": 287,
    "start_time": "2022-04-05T18:58:20.679Z"
   },
   {
    "duration": 10,
    "start_time": "2022-04-05T18:58:50.191Z"
   },
   {
    "duration": 100,
    "start_time": "2022-04-05T18:59:14.418Z"
   },
   {
    "duration": 1755,
    "start_time": "2022-04-05T18:59:37.892Z"
   },
   {
    "duration": 16,
    "start_time": "2022-04-05T18:59:59.446Z"
   },
   {
    "duration": 170,
    "start_time": "2022-04-05T19:00:07.917Z"
   },
   {
    "duration": 58,
    "start_time": "2022-04-05T19:03:12.166Z"
   },
   {
    "duration": 11,
    "start_time": "2022-04-05T19:03:41.592Z"
   },
   {
    "duration": 21,
    "start_time": "2022-04-05T19:04:46.166Z"
   },
   {
    "duration": 16,
    "start_time": "2022-04-05T19:04:56.811Z"
   },
   {
    "duration": 24,
    "start_time": "2022-04-05T19:05:01.876Z"
   },
   {
    "duration": 21,
    "start_time": "2022-04-05T19:05:09.208Z"
   },
   {
    "duration": 10,
    "start_time": "2022-04-05T19:07:45.502Z"
   },
   {
    "duration": 3,
    "start_time": "2022-04-05T19:07:48.619Z"
   },
   {
    "duration": 10,
    "start_time": "2022-04-05T19:08:01.677Z"
   },
   {
    "duration": 4,
    "start_time": "2022-04-05T19:10:12.291Z"
   },
   {
    "duration": 5,
    "start_time": "2022-04-05T19:11:25.226Z"
   },
   {
    "duration": 109,
    "start_time": "2022-04-05T19:12:52.200Z"
   },
   {
    "duration": 5,
    "start_time": "2022-04-05T19:13:00.606Z"
   },
   {
    "duration": 5,
    "start_time": "2022-04-05T19:13:28.479Z"
   },
   {
    "duration": 9,
    "start_time": "2022-04-05T19:14:09.992Z"
   },
   {
    "duration": 5,
    "start_time": "2022-04-05T19:14:15.670Z"
   },
   {
    "duration": 4,
    "start_time": "2022-04-05T19:26:11.202Z"
   },
   {
    "duration": 5,
    "start_time": "2022-04-05T19:26:23.376Z"
   },
   {
    "duration": 131,
    "start_time": "2022-04-05T19:26:32.372Z"
   },
   {
    "duration": 147,
    "start_time": "2022-04-05T19:27:21.089Z"
   },
   {
    "duration": 139,
    "start_time": "2022-04-05T19:28:49.163Z"
   },
   {
    "duration": 20,
    "start_time": "2022-04-05T19:29:41.897Z"
   },
   {
    "duration": 20,
    "start_time": "2022-04-05T19:29:48.000Z"
   },
   {
    "duration": 22,
    "start_time": "2022-04-05T19:30:15.809Z"
   },
   {
    "duration": 3,
    "start_time": "2022-04-05T19:30:34.797Z"
   },
   {
    "duration": 21,
    "start_time": "2022-04-05T19:30:42.482Z"
   },
   {
    "duration": 7,
    "start_time": "2022-04-05T19:30:57.212Z"
   },
   {
    "duration": 8,
    "start_time": "2022-04-05T19:31:11.025Z"
   },
   {
    "duration": 6,
    "start_time": "2022-04-05T19:31:30.546Z"
   },
   {
    "duration": 5,
    "start_time": "2022-04-05T19:32:19.082Z"
   },
   {
    "duration": 4,
    "start_time": "2022-04-05T19:32:32.566Z"
   },
   {
    "duration": 5,
    "start_time": "2022-04-05T19:32:59.716Z"
   },
   {
    "duration": 4,
    "start_time": "2022-04-05T19:33:26.847Z"
   },
   {
    "duration": 4,
    "start_time": "2022-04-05T19:33:27.250Z"
   },
   {
    "duration": 5,
    "start_time": "2022-04-05T19:33:27.805Z"
   },
   {
    "duration": 3,
    "start_time": "2022-04-05T19:33:31.616Z"
   },
   {
    "duration": 396,
    "start_time": "2022-04-05T19:33:31.621Z"
   },
   {
    "duration": 51,
    "start_time": "2022-04-05T19:33:32.019Z"
   },
   {
    "duration": 64,
    "start_time": "2022-04-05T19:33:32.071Z"
   },
   {
    "duration": 32,
    "start_time": "2022-04-05T19:33:32.137Z"
   },
   {
    "duration": 62,
    "start_time": "2022-04-05T19:33:32.171Z"
   },
   {
    "duration": 28,
    "start_time": "2022-04-05T19:33:32.235Z"
   },
   {
    "duration": 34,
    "start_time": "2022-04-05T19:33:32.265Z"
   },
   {
    "duration": 49,
    "start_time": "2022-04-05T19:33:32.301Z"
   },
   {
    "duration": 19,
    "start_time": "2022-04-05T19:33:32.351Z"
   },
   {
    "duration": 7,
    "start_time": "2022-04-05T19:33:32.373Z"
   },
   {
    "duration": 5,
    "start_time": "2022-04-05T19:33:32.382Z"
   },
   {
    "duration": 71,
    "start_time": "2022-04-05T19:33:32.389Z"
   },
   {
    "duration": 49,
    "start_time": "2022-04-05T19:33:32.461Z"
   },
   {
    "duration": 36,
    "start_time": "2022-04-05T19:33:32.512Z"
   },
   {
    "duration": 17,
    "start_time": "2022-04-05T19:33:32.549Z"
   },
   {
    "duration": 22,
    "start_time": "2022-04-05T19:33:32.568Z"
   },
   {
    "duration": 4,
    "start_time": "2022-04-05T19:33:32.592Z"
   },
   {
    "duration": 8,
    "start_time": "2022-04-05T19:33:32.598Z"
   },
   {
    "duration": 7,
    "start_time": "2022-04-05T19:33:32.632Z"
   },
   {
    "duration": 8,
    "start_time": "2022-04-05T19:33:32.641Z"
   },
   {
    "duration": 7,
    "start_time": "2022-04-05T19:33:32.651Z"
   },
   {
    "duration": 4062,
    "start_time": "2022-04-05T19:33:32.660Z"
   },
   {
    "duration": 10,
    "start_time": "2022-04-05T19:33:36.724Z"
   },
   {
    "duration": 7,
    "start_time": "2022-04-05T19:33:36.736Z"
   },
   {
    "duration": 273,
    "start_time": "2022-04-05T19:33:36.744Z"
   },
   {
    "duration": 296,
    "start_time": "2022-04-05T19:33:37.019Z"
   },
   {
    "duration": 485,
    "start_time": "2022-04-05T19:33:37.317Z"
   },
   {
    "duration": 6,
    "start_time": "2022-04-05T19:33:37.805Z"
   },
   {
    "duration": 23,
    "start_time": "2022-04-05T19:33:37.813Z"
   },
   {
    "duration": 8,
    "start_time": "2022-04-05T19:33:37.837Z"
   },
   {
    "duration": 6,
    "start_time": "2022-04-05T19:33:37.847Z"
   },
   {
    "duration": 6,
    "start_time": "2022-04-05T19:33:37.854Z"
   },
   {
    "duration": 5,
    "start_time": "2022-04-05T19:33:37.862Z"
   },
   {
    "duration": 171,
    "start_time": "2022-04-05T19:33:37.868Z"
   },
   {
    "duration": 4,
    "start_time": "2022-04-05T19:33:38.041Z"
   },
   {
    "duration": 9,
    "start_time": "2022-04-05T19:33:38.047Z"
   },
   {
    "duration": 171,
    "start_time": "2022-04-05T19:33:38.058Z"
   },
   {
    "duration": 5,
    "start_time": "2022-04-05T19:33:38.232Z"
   },
   {
    "duration": 6,
    "start_time": "2022-04-05T19:33:38.239Z"
   },
   {
    "duration": 5,
    "start_time": "2022-04-05T19:33:38.246Z"
   },
   {
    "duration": 5,
    "start_time": "2022-04-05T19:33:38.253Z"
   },
   {
    "duration": 5,
    "start_time": "2022-04-05T19:34:57.615Z"
   },
   {
    "duration": 3,
    "start_time": "2022-04-05T19:35:07.758Z"
   },
   {
    "duration": 413,
    "start_time": "2022-04-05T19:35:07.764Z"
   },
   {
    "duration": 54,
    "start_time": "2022-04-05T19:35:08.179Z"
   },
   {
    "duration": 45,
    "start_time": "2022-04-05T19:35:08.235Z"
   },
   {
    "duration": 55,
    "start_time": "2022-04-05T19:35:08.282Z"
   },
   {
    "duration": 35,
    "start_time": "2022-04-05T19:35:08.338Z"
   },
   {
    "duration": 58,
    "start_time": "2022-04-05T19:35:08.375Z"
   },
   {
    "duration": 31,
    "start_time": "2022-04-05T19:35:08.435Z"
   },
   {
    "duration": 23,
    "start_time": "2022-04-05T19:35:08.468Z"
   },
   {
    "duration": 46,
    "start_time": "2022-04-05T19:35:08.493Z"
   },
   {
    "duration": 8,
    "start_time": "2022-04-05T19:35:08.542Z"
   },
   {
    "duration": 5,
    "start_time": "2022-04-05T19:35:08.552Z"
   },
   {
    "duration": 51,
    "start_time": "2022-04-05T19:35:08.558Z"
   },
   {
    "duration": 62,
    "start_time": "2022-04-05T19:35:08.611Z"
   },
   {
    "duration": 21,
    "start_time": "2022-04-05T19:35:08.675Z"
   },
   {
    "duration": 36,
    "start_time": "2022-04-05T19:35:08.697Z"
   },
   {
    "duration": 21,
    "start_time": "2022-04-05T19:35:08.734Z"
   },
   {
    "duration": 6,
    "start_time": "2022-04-05T19:35:08.757Z"
   },
   {
    "duration": 9,
    "start_time": "2022-04-05T19:35:08.764Z"
   },
   {
    "duration": 8,
    "start_time": "2022-04-05T19:35:08.775Z"
   },
   {
    "duration": 9,
    "start_time": "2022-04-05T19:35:08.784Z"
   },
   {
    "duration": 7,
    "start_time": "2022-04-05T19:35:08.795Z"
   },
   {
    "duration": 4260,
    "start_time": "2022-04-05T19:35:08.804Z"
   },
   {
    "duration": 5,
    "start_time": "2022-04-05T19:35:13.066Z"
   },
   {
    "duration": 8,
    "start_time": "2022-04-05T19:35:13.072Z"
   },
   {
    "duration": 284,
    "start_time": "2022-04-05T19:35:13.081Z"
   },
   {
    "duration": 293,
    "start_time": "2022-04-05T19:35:13.367Z"
   },
   {
    "duration": 485,
    "start_time": "2022-04-05T19:35:13.662Z"
   },
   {
    "duration": 7,
    "start_time": "2022-04-05T19:35:14.151Z"
   },
   {
    "duration": 7,
    "start_time": "2022-04-05T19:35:14.160Z"
   },
   {
    "duration": 7,
    "start_time": "2022-04-05T19:35:14.169Z"
   },
   {
    "duration": 9,
    "start_time": "2022-04-05T19:35:14.178Z"
   },
   {
    "duration": 16,
    "start_time": "2022-04-05T19:35:14.189Z"
   },
   {
    "duration": 30,
    "start_time": "2022-04-05T19:35:14.207Z"
   },
   {
    "duration": 143,
    "start_time": "2022-04-05T19:35:14.239Z"
   },
   {
    "duration": 5,
    "start_time": "2022-04-05T19:35:14.384Z"
   },
   {
    "duration": 10,
    "start_time": "2022-04-05T19:35:14.390Z"
   },
   {
    "duration": 176,
    "start_time": "2022-04-05T19:35:14.402Z"
   },
   {
    "duration": 5,
    "start_time": "2022-04-05T19:35:14.580Z"
   },
   {
    "duration": 6,
    "start_time": "2022-04-05T19:35:14.586Z"
   },
   {
    "duration": 6,
    "start_time": "2022-04-05T19:35:14.594Z"
   },
   {
    "duration": 6,
    "start_time": "2022-04-05T19:35:14.602Z"
   },
   {
    "duration": 3,
    "start_time": "2022-04-05T19:35:37.796Z"
   },
   {
    "duration": 393,
    "start_time": "2022-04-05T19:35:37.801Z"
   },
   {
    "duration": 52,
    "start_time": "2022-04-05T19:35:38.196Z"
   },
   {
    "duration": 45,
    "start_time": "2022-04-05T19:35:38.249Z"
   },
   {
    "duration": 51,
    "start_time": "2022-04-05T19:35:38.296Z"
   },
   {
    "duration": 38,
    "start_time": "2022-04-05T19:35:38.348Z"
   },
   {
    "duration": 60,
    "start_time": "2022-04-05T19:35:38.388Z"
   },
   {
    "duration": 33,
    "start_time": "2022-04-05T19:35:38.449Z"
   },
   {
    "duration": 53,
    "start_time": "2022-04-05T19:35:38.484Z"
   },
   {
    "duration": 22,
    "start_time": "2022-04-05T19:35:38.539Z"
   },
   {
    "duration": 9,
    "start_time": "2022-04-05T19:35:38.564Z"
   },
   {
    "duration": 5,
    "start_time": "2022-04-05T19:35:38.575Z"
   },
   {
    "duration": 75,
    "start_time": "2022-04-05T19:35:38.582Z"
   },
   {
    "duration": 49,
    "start_time": "2022-04-05T19:35:38.659Z"
   },
   {
    "duration": 41,
    "start_time": "2022-04-05T19:35:38.710Z"
   },
   {
    "duration": 20,
    "start_time": "2022-04-05T19:35:38.752Z"
   },
   {
    "duration": 22,
    "start_time": "2022-04-05T19:35:38.774Z"
   },
   {
    "duration": 5,
    "start_time": "2022-04-05T19:35:38.798Z"
   },
   {
    "duration": 35,
    "start_time": "2022-04-05T19:35:38.804Z"
   },
   {
    "duration": 8,
    "start_time": "2022-04-05T19:35:38.841Z"
   },
   {
    "duration": 12,
    "start_time": "2022-04-05T19:35:38.851Z"
   },
   {
    "duration": 7,
    "start_time": "2022-04-05T19:35:38.865Z"
   },
   {
    "duration": 4116,
    "start_time": "2022-04-05T19:35:38.873Z"
   },
   {
    "duration": 4,
    "start_time": "2022-04-05T19:35:42.991Z"
   },
   {
    "duration": 7,
    "start_time": "2022-04-05T19:35:42.997Z"
   },
   {
    "duration": 287,
    "start_time": "2022-04-05T19:35:43.006Z"
   },
   {
    "duration": 299,
    "start_time": "2022-04-05T19:35:43.295Z"
   },
   {
    "duration": 482,
    "start_time": "2022-04-05T19:35:43.595Z"
   },
   {
    "duration": 7,
    "start_time": "2022-04-05T19:35:44.081Z"
   },
   {
    "duration": 12,
    "start_time": "2022-04-05T19:35:44.089Z"
   },
   {
    "duration": 9,
    "start_time": "2022-04-05T19:35:44.102Z"
   },
   {
    "duration": 26,
    "start_time": "2022-04-05T19:35:44.113Z"
   },
   {
    "duration": 8,
    "start_time": "2022-04-05T19:35:44.141Z"
   },
   {
    "duration": 11,
    "start_time": "2022-04-05T19:35:44.151Z"
   },
   {
    "duration": 151,
    "start_time": "2022-04-05T19:35:44.164Z"
   },
   {
    "duration": 4,
    "start_time": "2022-04-05T19:35:44.318Z"
   },
   {
    "duration": 9,
    "start_time": "2022-04-05T19:35:44.333Z"
   },
   {
    "duration": 166,
    "start_time": "2022-04-05T19:35:44.344Z"
   },
   {
    "duration": 4,
    "start_time": "2022-04-05T19:35:44.512Z"
   },
   {
    "duration": 4,
    "start_time": "2022-04-05T19:35:44.517Z"
   },
   {
    "duration": 10,
    "start_time": "2022-04-05T19:35:44.523Z"
   },
   {
    "duration": 6,
    "start_time": "2022-04-05T19:35:44.535Z"
   },
   {
    "duration": 21,
    "start_time": "2022-04-05T19:36:45.200Z"
   },
   {
    "duration": 3,
    "start_time": "2022-04-05T19:36:57.368Z"
   },
   {
    "duration": 406,
    "start_time": "2022-04-05T19:36:57.373Z"
   },
   {
    "duration": 53,
    "start_time": "2022-04-05T19:36:57.781Z"
   },
   {
    "duration": 45,
    "start_time": "2022-04-05T19:36:57.835Z"
   },
   {
    "duration": 57,
    "start_time": "2022-04-05T19:36:57.882Z"
   },
   {
    "duration": 35,
    "start_time": "2022-04-05T19:36:57.941Z"
   },
   {
    "duration": 26,
    "start_time": "2022-04-05T19:36:57.978Z"
   },
   {
    "duration": 56,
    "start_time": "2022-04-05T19:36:58.005Z"
   },
   {
    "duration": 24,
    "start_time": "2022-04-05T19:36:58.063Z"
   },
   {
    "duration": 21,
    "start_time": "2022-04-05T19:36:58.089Z"
   },
   {
    "duration": 8,
    "start_time": "2022-04-05T19:36:58.134Z"
   },
   {
    "duration": 5,
    "start_time": "2022-04-05T19:36:58.144Z"
   },
   {
    "duration": 50,
    "start_time": "2022-04-05T19:36:58.150Z"
   },
   {
    "duration": 68,
    "start_time": "2022-04-05T19:36:58.202Z"
   },
   {
    "duration": 20,
    "start_time": "2022-04-05T19:36:58.272Z"
   },
   {
    "duration": 16,
    "start_time": "2022-04-05T19:36:58.294Z"
   },
   {
    "duration": 31,
    "start_time": "2022-04-05T19:36:58.312Z"
   },
   {
    "duration": 5,
    "start_time": "2022-04-05T19:36:58.345Z"
   },
   {
    "duration": 14,
    "start_time": "2022-04-05T19:36:58.351Z"
   },
   {
    "duration": 8,
    "start_time": "2022-04-05T19:36:58.367Z"
   },
   {
    "duration": 10,
    "start_time": "2022-04-05T19:36:58.377Z"
   },
   {
    "duration": 5,
    "start_time": "2022-04-05T19:36:58.389Z"
   },
   {
    "duration": 40,
    "start_time": "2022-04-05T19:36:58.396Z"
   },
   {
    "duration": 4144,
    "start_time": "2022-04-05T19:36:58.438Z"
   },
   {
    "duration": 5,
    "start_time": "2022-04-05T19:37:02.584Z"
   },
   {
    "duration": 10,
    "start_time": "2022-04-05T19:37:02.590Z"
   },
   {
    "duration": 297,
    "start_time": "2022-04-05T19:37:02.602Z"
   },
   {
    "duration": 296,
    "start_time": "2022-04-05T19:37:02.900Z"
   },
   {
    "duration": 488,
    "start_time": "2022-04-05T19:37:03.199Z"
   },
   {
    "duration": 7,
    "start_time": "2022-04-05T19:37:03.688Z"
   },
   {
    "duration": 7,
    "start_time": "2022-04-05T19:37:03.697Z"
   },
   {
    "duration": 30,
    "start_time": "2022-04-05T19:37:03.706Z"
   },
   {
    "duration": 7,
    "start_time": "2022-04-05T19:37:03.737Z"
   },
   {
    "duration": 5,
    "start_time": "2022-04-05T19:37:03.745Z"
   },
   {
    "duration": 9,
    "start_time": "2022-04-05T19:37:03.752Z"
   },
   {
    "duration": 156,
    "start_time": "2022-04-05T19:37:03.763Z"
   },
   {
    "duration": 4,
    "start_time": "2022-04-05T19:37:03.921Z"
   },
   {
    "duration": 8,
    "start_time": "2022-04-05T19:37:03.933Z"
   },
   {
    "duration": 173,
    "start_time": "2022-04-05T19:37:03.943Z"
   },
   {
    "duration": 4,
    "start_time": "2022-04-05T19:37:04.118Z"
   },
   {
    "duration": 9,
    "start_time": "2022-04-05T19:37:04.124Z"
   },
   {
    "duration": 10,
    "start_time": "2022-04-05T19:37:04.135Z"
   },
   {
    "duration": 6,
    "start_time": "2022-04-05T19:37:04.147Z"
   },
   {
    "duration": 5,
    "start_time": "2022-04-05T19:38:42.046Z"
   },
   {
    "duration": 5,
    "start_time": "2022-04-05T19:40:27.153Z"
   },
   {
    "duration": 5,
    "start_time": "2022-04-05T19:41:43.416Z"
   },
   {
    "duration": 5,
    "start_time": "2022-04-05T19:42:05.475Z"
   },
   {
    "duration": 5,
    "start_time": "2022-04-05T19:43:50.091Z"
   },
   {
    "duration": 5,
    "start_time": "2022-04-05T19:44:01.424Z"
   },
   {
    "duration": 6,
    "start_time": "2022-04-05T19:44:55.079Z"
   },
   {
    "duration": 5,
    "start_time": "2022-04-05T19:45:02.416Z"
   },
   {
    "duration": 3,
    "start_time": "2022-04-05T19:46:15.449Z"
   },
   {
    "duration": 5,
    "start_time": "2022-04-05T19:55:25.523Z"
   },
   {
    "duration": 492,
    "start_time": "2022-04-05T20:13:47.647Z"
   },
   {
    "duration": 4,
    "start_time": "2022-04-05T20:27:05.335Z"
   },
   {
    "duration": 5,
    "start_time": "2022-04-05T20:35:26.658Z"
   },
   {
    "duration": 4,
    "start_time": "2022-04-05T20:35:53.246Z"
   },
   {
    "duration": 3,
    "start_time": "2022-04-05T20:44:43.213Z"
   },
   {
    "duration": 428,
    "start_time": "2022-04-05T20:44:43.218Z"
   },
   {
    "duration": 54,
    "start_time": "2022-04-05T20:44:43.648Z"
   },
   {
    "duration": 54,
    "start_time": "2022-04-05T20:44:43.704Z"
   },
   {
    "duration": 34,
    "start_time": "2022-04-05T20:44:43.760Z"
   },
   {
    "duration": 62,
    "start_time": "2022-04-05T20:44:43.795Z"
   },
   {
    "duration": 27,
    "start_time": "2022-04-05T20:44:43.859Z"
   },
   {
    "duration": 74,
    "start_time": "2022-04-05T20:44:43.888Z"
   },
   {
    "duration": 40,
    "start_time": "2022-04-05T20:44:43.964Z"
   },
   {
    "duration": 49,
    "start_time": "2022-04-05T20:44:44.006Z"
   },
   {
    "duration": 8,
    "start_time": "2022-04-05T20:44:44.058Z"
   },
   {
    "duration": 6,
    "start_time": "2022-04-05T20:44:44.068Z"
   },
   {
    "duration": 57,
    "start_time": "2022-04-05T20:44:44.076Z"
   },
   {
    "duration": 19,
    "start_time": "2022-04-05T20:44:44.135Z"
   },
   {
    "duration": 17,
    "start_time": "2022-04-05T20:44:44.156Z"
   },
   {
    "duration": 20,
    "start_time": "2022-04-05T20:44:44.175Z"
   },
   {
    "duration": 5,
    "start_time": "2022-04-05T20:44:44.197Z"
   },
   {
    "duration": 35,
    "start_time": "2022-04-05T20:44:44.203Z"
   },
   {
    "duration": 8,
    "start_time": "2022-04-05T20:44:44.240Z"
   },
   {
    "duration": 10,
    "start_time": "2022-04-05T20:44:44.249Z"
   },
   {
    "duration": 6,
    "start_time": "2022-04-05T20:44:44.260Z"
   },
   {
    "duration": 9,
    "start_time": "2022-04-05T20:44:44.268Z"
   },
   {
    "duration": 4224,
    "start_time": "2022-04-05T20:44:44.278Z"
   },
   {
    "duration": 6,
    "start_time": "2022-04-05T20:44:48.504Z"
   },
   {
    "duration": 10,
    "start_time": "2022-04-05T20:44:48.511Z"
   },
   {
    "duration": 283,
    "start_time": "2022-04-05T20:44:48.534Z"
   },
   {
    "duration": 299,
    "start_time": "2022-04-05T20:44:48.819Z"
   },
   {
    "duration": 505,
    "start_time": "2022-04-05T20:44:49.119Z"
   },
   {
    "duration": 6,
    "start_time": "2022-04-05T20:44:49.632Z"
   },
   {
    "duration": 7,
    "start_time": "2022-04-05T20:44:49.640Z"
   },
   {
    "duration": 7,
    "start_time": "2022-04-05T20:44:49.649Z"
   },
   {
    "duration": 9,
    "start_time": "2022-04-05T20:44:49.658Z"
   },
   {
    "duration": 9,
    "start_time": "2022-04-05T20:44:49.669Z"
   },
   {
    "duration": 11,
    "start_time": "2022-04-05T20:44:49.679Z"
   },
   {
    "duration": 170,
    "start_time": "2022-04-05T20:44:49.691Z"
   },
   {
    "duration": 4,
    "start_time": "2022-04-05T20:44:49.862Z"
   },
   {
    "duration": 7,
    "start_time": "2022-04-05T20:44:49.868Z"
   },
   {
    "duration": 10,
    "start_time": "2022-04-05T20:44:49.877Z"
   },
   {
    "duration": 178,
    "start_time": "2022-04-05T20:44:49.889Z"
   },
   {
    "duration": 5,
    "start_time": "2022-04-05T20:44:50.068Z"
   },
   {
    "duration": 10,
    "start_time": "2022-04-05T20:44:50.075Z"
   },
   {
    "duration": 882,
    "start_time": "2022-04-05T20:44:53.345Z"
   },
   {
    "duration": 387,
    "start_time": "2022-04-05T20:44:54.232Z"
   },
   {
    "duration": 63,
    "start_time": "2022-04-05T20:44:54.621Z"
   },
   {
    "duration": 63,
    "start_time": "2022-04-05T20:44:54.687Z"
   },
   {
    "duration": 33,
    "start_time": "2022-04-05T20:44:54.752Z"
   },
   {
    "duration": 62,
    "start_time": "2022-04-05T20:44:54.787Z"
   },
   {
    "duration": 28,
    "start_time": "2022-04-05T20:44:54.850Z"
   },
   {
    "duration": 74,
    "start_time": "2022-04-05T20:44:54.880Z"
   },
   {
    "duration": 38,
    "start_time": "2022-04-05T20:44:54.955Z"
   },
   {
    "duration": 50,
    "start_time": "2022-04-05T20:44:54.996Z"
   },
   {
    "duration": 8,
    "start_time": "2022-04-05T20:44:55.047Z"
   },
   {
    "duration": 5,
    "start_time": "2022-04-05T20:44:55.057Z"
   },
   {
    "duration": 71,
    "start_time": "2022-04-05T20:44:55.064Z"
   },
   {
    "duration": 25,
    "start_time": "2022-04-05T20:44:55.137Z"
   },
   {
    "duration": 16,
    "start_time": "2022-04-05T20:44:55.163Z"
   },
   {
    "duration": 22,
    "start_time": "2022-04-05T20:44:55.181Z"
   },
   {
    "duration": 29,
    "start_time": "2022-04-05T20:44:55.204Z"
   },
   {
    "duration": 8,
    "start_time": "2022-04-05T20:44:55.235Z"
   },
   {
    "duration": 7,
    "start_time": "2022-04-05T20:44:55.244Z"
   },
   {
    "duration": 9,
    "start_time": "2022-04-05T20:44:55.252Z"
   },
   {
    "duration": 4,
    "start_time": "2022-04-05T20:44:55.263Z"
   },
   {
    "duration": 7,
    "start_time": "2022-04-05T20:44:55.269Z"
   },
   {
    "duration": 3880,
    "start_time": "2022-04-05T20:44:55.278Z"
   },
   {
    "duration": 5,
    "start_time": "2022-04-05T20:44:59.159Z"
   },
   {
    "duration": 20,
    "start_time": "2022-04-05T20:44:59.165Z"
   },
   {
    "duration": 423,
    "start_time": "2022-04-05T20:44:59.187Z"
   },
   {
    "duration": 357,
    "start_time": "2022-04-05T20:44:59.612Z"
   },
   {
    "duration": 518,
    "start_time": "2022-04-05T20:44:59.973Z"
   },
   {
    "duration": 7,
    "start_time": "2022-04-05T20:45:00.493Z"
   },
   {
    "duration": 18,
    "start_time": "2022-04-05T20:45:00.502Z"
   },
   {
    "duration": 12,
    "start_time": "2022-04-05T20:45:00.532Z"
   },
   {
    "duration": 12,
    "start_time": "2022-04-05T20:45:00.546Z"
   },
   {
    "duration": 6,
    "start_time": "2022-04-05T20:45:00.560Z"
   },
   {
    "duration": 11,
    "start_time": "2022-04-05T20:45:00.568Z"
   },
   {
    "duration": 159,
    "start_time": "2022-04-05T20:45:00.581Z"
   },
   {
    "duration": 4,
    "start_time": "2022-04-05T20:45:00.742Z"
   },
   {
    "duration": 8,
    "start_time": "2022-04-05T20:45:00.748Z"
   },
   {
    "duration": 10,
    "start_time": "2022-04-05T20:45:00.758Z"
   },
   {
    "duration": 185,
    "start_time": "2022-04-05T20:45:00.770Z"
   },
   {
    "duration": 4,
    "start_time": "2022-04-05T20:45:00.957Z"
   },
   {
    "duration": 9,
    "start_time": "2022-04-05T20:45:00.963Z"
   },
   {
    "duration": 1176,
    "start_time": "2022-04-16T10:00:16.515Z"
   },
   {
    "duration": 493,
    "start_time": "2022-04-16T10:00:17.693Z"
   },
   {
    "duration": 81,
    "start_time": "2022-04-16T10:00:18.188Z"
   },
   {
    "duration": 60,
    "start_time": "2022-04-16T10:00:18.271Z"
   },
   {
    "duration": 44,
    "start_time": "2022-04-16T10:00:18.353Z"
   },
   {
    "duration": 86,
    "start_time": "2022-04-16T10:00:18.399Z"
   },
   {
    "duration": 70,
    "start_time": "2022-04-16T10:00:18.487Z"
   },
   {
    "duration": 95,
    "start_time": "2022-04-16T10:00:18.559Z"
   },
   {
    "duration": 56,
    "start_time": "2022-04-16T10:00:18.656Z"
   },
   {
    "duration": 63,
    "start_time": "2022-04-16T10:00:18.715Z"
   },
   {
    "duration": 11,
    "start_time": "2022-04-16T10:00:18.781Z"
   },
   {
    "duration": 15,
    "start_time": "2022-04-16T10:00:18.795Z"
   },
   {
    "duration": 97,
    "start_time": "2022-04-16T10:00:18.813Z"
   },
   {
    "duration": 42,
    "start_time": "2022-04-16T10:00:18.914Z"
   },
   {
    "duration": 22,
    "start_time": "2022-04-16T10:00:18.958Z"
   },
   {
    "duration": 38,
    "start_time": "2022-04-16T10:00:18.981Z"
   },
   {
    "duration": 36,
    "start_time": "2022-04-16T10:00:19.021Z"
   },
   {
    "duration": 16,
    "start_time": "2022-04-16T10:00:19.059Z"
   },
   {
    "duration": 13,
    "start_time": "2022-04-16T10:00:19.077Z"
   },
   {
    "duration": 15,
    "start_time": "2022-04-16T10:00:19.092Z"
   },
   {
    "duration": 43,
    "start_time": "2022-04-16T10:00:19.109Z"
   },
   {
    "duration": 10,
    "start_time": "2022-04-16T10:00:19.154Z"
   },
   {
    "duration": 8014,
    "start_time": "2022-04-16T10:00:19.166Z"
   },
   {
    "duration": 6,
    "start_time": "2022-04-16T10:00:27.183Z"
   },
   {
    "duration": 10,
    "start_time": "2022-04-16T10:00:27.191Z"
   },
   {
    "duration": 735,
    "start_time": "2022-04-16T10:00:27.204Z"
   },
   {
    "duration": 579,
    "start_time": "2022-04-16T10:00:27.943Z"
   },
   {
    "duration": 891,
    "start_time": "2022-04-16T10:00:28.524Z"
   },
   {
    "duration": 9,
    "start_time": "2022-04-16T10:00:29.418Z"
   },
   {
    "duration": 28,
    "start_time": "2022-04-16T10:00:29.429Z"
   },
   {
    "duration": 7,
    "start_time": "2022-04-16T10:00:29.460Z"
   },
   {
    "duration": 8,
    "start_time": "2022-04-16T10:00:29.470Z"
   },
   {
    "duration": 12,
    "start_time": "2022-04-16T10:00:29.480Z"
   },
   {
    "duration": 61,
    "start_time": "2022-04-16T10:00:29.494Z"
   },
   {
    "duration": 258,
    "start_time": "2022-04-16T10:00:29.557Z"
   },
   {
    "duration": 5,
    "start_time": "2022-04-16T10:00:29.817Z"
   },
   {
    "duration": 28,
    "start_time": "2022-04-16T10:00:29.824Z"
   },
   {
    "duration": 11,
    "start_time": "2022-04-16T10:00:29.855Z"
   },
   {
    "duration": 296,
    "start_time": "2022-04-16T10:00:29.869Z"
   },
   {
    "duration": 6,
    "start_time": "2022-04-16T10:00:30.168Z"
   },
   {
    "duration": 13,
    "start_time": "2022-04-16T10:00:30.179Z"
   },
   {
    "duration": 17,
    "start_time": "2022-04-16T10:07:53.089Z"
   },
   {
    "duration": 18,
    "start_time": "2022-04-16T10:07:57.969Z"
   },
   {
    "duration": 21,
    "start_time": "2022-04-16T10:08:03.547Z"
   },
   {
    "duration": 161,
    "start_time": "2022-04-16T10:10:14.248Z"
   },
   {
    "duration": 5,
    "start_time": "2022-04-16T10:10:18.522Z"
   },
   {
    "duration": 495,
    "start_time": "2022-04-16T10:10:18.530Z"
   },
   {
    "duration": 71,
    "start_time": "2022-04-16T10:10:19.028Z"
   },
   {
    "duration": 78,
    "start_time": "2022-04-16T10:10:19.101Z"
   },
   {
    "duration": 45,
    "start_time": "2022-04-16T10:10:19.181Z"
   },
   {
    "duration": 56,
    "start_time": "2022-04-16T10:10:19.252Z"
   },
   {
    "duration": 63,
    "start_time": "2022-04-16T10:10:19.310Z"
   },
   {
    "duration": 100,
    "start_time": "2022-04-16T10:10:19.375Z"
   },
   {
    "duration": 54,
    "start_time": "2022-04-16T10:10:19.477Z"
   },
   {
    "duration": 54,
    "start_time": "2022-04-16T10:10:19.534Z"
   },
   {
    "duration": 11,
    "start_time": "2022-04-16T10:10:19.590Z"
   },
   {
    "duration": 7,
    "start_time": "2022-04-16T10:10:19.603Z"
   },
   {
    "duration": 82,
    "start_time": "2022-04-16T10:10:19.612Z"
   },
   {
    "duration": 28,
    "start_time": "2022-04-16T10:10:19.696Z"
   },
   {
    "duration": 33,
    "start_time": "2022-04-16T10:10:19.726Z"
   },
   {
    "duration": 36,
    "start_time": "2022-04-16T10:10:21.643Z"
   },
   {
    "duration": 9,
    "start_time": "2022-04-16T10:10:54.642Z"
   },
   {
    "duration": 6,
    "start_time": "2022-04-16T10:11:58.007Z"
   },
   {
    "duration": 10,
    "start_time": "2022-04-16T10:12:00.167Z"
   },
   {
    "duration": 9,
    "start_time": "2022-04-16T10:12:08.932Z"
   },
   {
    "duration": 14,
    "start_time": "2022-04-16T10:12:09.622Z"
   },
   {
    "duration": 7,
    "start_time": "2022-04-16T10:12:15.731Z"
   },
   {
    "duration": 30,
    "start_time": "2022-04-16T10:12:21.851Z"
   },
   {
    "duration": 20,
    "start_time": "2022-04-16T10:15:01.223Z"
   },
   {
    "duration": 1416,
    "start_time": "2022-04-16T10:15:12.247Z"
   },
   {
    "duration": 1435,
    "start_time": "2022-04-16T10:15:27.851Z"
   },
   {
    "duration": 86,
    "start_time": "2022-04-16T10:15:46.039Z"
   },
   {
    "duration": 24,
    "start_time": "2022-04-16T10:15:52.766Z"
   },
   {
    "duration": 1992,
    "start_time": "2022-04-16T10:15:56.509Z"
   },
   {
    "duration": 8,
    "start_time": "2022-04-16T10:16:05.551Z"
   },
   {
    "duration": 1473,
    "start_time": "2022-04-16T10:16:21.909Z"
   },
   {
    "duration": 10,
    "start_time": "2022-04-16T10:16:54.074Z"
   },
   {
    "duration": 11,
    "start_time": "2022-04-16T10:17:07.277Z"
   },
   {
    "duration": 31,
    "start_time": "2022-04-16T10:17:21.482Z"
   },
   {
    "duration": 14,
    "start_time": "2022-04-16T10:17:34.896Z"
   },
   {
    "duration": 11,
    "start_time": "2022-04-16T10:20:35.617Z"
   },
   {
    "duration": 9010,
    "start_time": "2022-04-16T10:20:36.602Z"
   },
   {
    "duration": 6,
    "start_time": "2022-04-16T10:20:50.646Z"
   },
   {
    "duration": 8,
    "start_time": "2022-04-16T10:22:40.585Z"
   },
   {
    "duration": 607,
    "start_time": "2022-04-16T10:22:44.778Z"
   },
   {
    "duration": 480,
    "start_time": "2022-04-16T10:22:59.487Z"
   },
   {
    "duration": 476,
    "start_time": "2022-04-16T10:27:06.588Z"
   },
   {
    "duration": 487,
    "start_time": "2022-04-16T10:27:22.849Z"
   },
   {
    "duration": 33,
    "start_time": "2022-04-16T10:27:50.763Z"
   },
   {
    "duration": 26,
    "start_time": "2022-04-16T10:28:19.732Z"
   },
   {
    "duration": 31,
    "start_time": "2022-04-16T10:28:36.816Z"
   },
   {
    "duration": 27,
    "start_time": "2022-04-16T10:29:00.808Z"
   },
   {
    "duration": 1681,
    "start_time": "2022-04-16T10:32:21.678Z"
   },
   {
    "duration": 1147,
    "start_time": "2022-04-16T10:32:32.721Z"
   },
   {
    "duration": 523,
    "start_time": "2022-04-16T10:32:57.194Z"
   },
   {
    "duration": 498,
    "start_time": "2022-04-16T10:35:35.699Z"
   },
   {
    "duration": 1199,
    "start_time": "2022-04-16T13:02:25.625Z"
   },
   {
    "duration": 86,
    "start_time": "2022-04-16T13:03:45.082Z"
   },
   {
    "duration": 3,
    "start_time": "2022-04-16T13:03:57.618Z"
   },
   {
    "duration": 388,
    "start_time": "2022-04-16T13:04:01.074Z"
   },
   {
    "duration": 19,
    "start_time": "2022-04-16T13:06:50.670Z"
   },
   {
    "duration": 3,
    "start_time": "2022-04-16T13:06:58.757Z"
   },
   {
    "duration": 408,
    "start_time": "2022-04-16T13:06:58.765Z"
   },
   {
    "duration": 54,
    "start_time": "2022-04-16T13:06:59.175Z"
   },
   {
    "duration": 42,
    "start_time": "2022-04-16T13:06:59.230Z"
   },
   {
    "duration": 44,
    "start_time": "2022-04-16T13:06:59.273Z"
   },
   {
    "duration": 32,
    "start_time": "2022-04-16T13:06:59.319Z"
   },
   {
    "duration": 49,
    "start_time": "2022-04-16T13:06:59.352Z"
   },
   {
    "duration": 47,
    "start_time": "2022-04-16T13:06:59.403Z"
   },
   {
    "duration": 69,
    "start_time": "2022-04-16T13:06:59.451Z"
   },
   {
    "duration": 45,
    "start_time": "2022-04-16T13:06:59.522Z"
   },
   {
    "duration": 9,
    "start_time": "2022-04-16T13:06:59.570Z"
   },
   {
    "duration": 19,
    "start_time": "2022-04-16T13:06:59.581Z"
   },
   {
    "duration": 69,
    "start_time": "2022-04-16T13:06:59.602Z"
   },
   {
    "duration": 30,
    "start_time": "2022-04-16T13:06:59.673Z"
   },
   {
    "duration": 21,
    "start_time": "2022-04-16T13:06:59.705Z"
   },
   {
    "duration": 28,
    "start_time": "2022-04-16T13:06:59.728Z"
   },
   {
    "duration": 4,
    "start_time": "2022-04-16T13:06:59.758Z"
   },
   {
    "duration": 9,
    "start_time": "2022-04-16T13:06:59.764Z"
   },
   {
    "duration": 25,
    "start_time": "2022-04-16T13:06:59.775Z"
   },
   {
    "duration": 9,
    "start_time": "2022-04-16T13:06:59.802Z"
   },
   {
    "duration": 5,
    "start_time": "2022-04-16T13:06:59.812Z"
   },
   {
    "duration": 8,
    "start_time": "2022-04-16T13:06:59.819Z"
   },
   {
    "duration": 6099,
    "start_time": "2022-04-16T13:06:59.828Z"
   },
   {
    "duration": 4,
    "start_time": "2022-04-16T13:07:05.929Z"
   },
   {
    "duration": 8,
    "start_time": "2022-04-16T13:07:05.935Z"
   },
   {
    "duration": 412,
    "start_time": "2022-04-16T13:07:05.945Z"
   },
   {
    "duration": 457,
    "start_time": "2022-04-16T13:07:06.359Z"
   },
   {
    "duration": 687,
    "start_time": "2022-04-16T13:07:06.818Z"
   },
   {
    "duration": 7,
    "start_time": "2022-04-16T13:07:07.509Z"
   },
   {
    "duration": 8,
    "start_time": "2022-04-16T13:07:07.517Z"
   },
   {
    "duration": 10,
    "start_time": "2022-04-16T13:07:07.527Z"
   },
   {
    "duration": 6,
    "start_time": "2022-04-16T13:07:07.539Z"
   },
   {
    "duration": 9,
    "start_time": "2022-04-16T13:07:07.546Z"
   },
   {
    "duration": 7,
    "start_time": "2022-04-16T13:07:07.557Z"
   },
   {
    "duration": 153,
    "start_time": "2022-04-16T13:07:07.565Z"
   },
   {
    "duration": 4,
    "start_time": "2022-04-16T13:07:07.720Z"
   },
   {
    "duration": 9,
    "start_time": "2022-04-16T13:07:07.726Z"
   },
   {
    "duration": 13,
    "start_time": "2022-04-16T13:07:07.736Z"
   },
   {
    "duration": 168,
    "start_time": "2022-04-16T13:07:07.751Z"
   },
   {
    "duration": 4,
    "start_time": "2022-04-16T13:07:07.921Z"
   },
   {
    "duration": 7,
    "start_time": "2022-04-16T13:07:07.926Z"
   },
   {
    "duration": 51,
    "start_time": "2022-04-16T13:09:23.656Z"
   },
   {
    "duration": 5,
    "start_time": "2022-04-16T13:09:29.461Z"
   },
   {
    "duration": 53,
    "start_time": "2022-04-16T13:09:32.377Z"
   },
   {
    "duration": 63,
    "start_time": "2022-04-16T13:10:12.474Z"
   },
   {
    "duration": 49,
    "start_time": "2022-04-16T13:10:41.630Z"
   },
   {
    "duration": 33,
    "start_time": "2022-04-16T13:11:02.581Z"
   },
   {
    "duration": 49,
    "start_time": "2022-04-16T13:13:38.251Z"
   },
   {
    "duration": 50,
    "start_time": "2022-04-16T13:16:11.618Z"
   },
   {
    "duration": 50,
    "start_time": "2022-04-16T13:16:22.036Z"
   },
   {
    "duration": 371,
    "start_time": "2022-04-16T13:16:26.130Z"
   },
   {
    "duration": 40,
    "start_time": "2022-04-16T13:16:33.347Z"
   },
   {
    "duration": 376,
    "start_time": "2022-04-16T13:16:48.413Z"
   },
   {
    "duration": 343,
    "start_time": "2022-04-16T13:16:56.850Z"
   },
   {
    "duration": 41,
    "start_time": "2022-04-16T13:18:03.350Z"
   },
   {
    "duration": 38,
    "start_time": "2022-04-16T13:18:08.447Z"
   },
   {
    "duration": 38,
    "start_time": "2022-04-16T13:18:37.434Z"
   },
   {
    "duration": 922,
    "start_time": "2022-04-16T13:19:00.519Z"
   },
   {
    "duration": 44,
    "start_time": "2022-04-16T13:19:08.082Z"
   },
   {
    "duration": 43,
    "start_time": "2022-04-16T13:21:23.967Z"
   },
   {
    "duration": 39,
    "start_time": "2022-04-16T13:21:28.815Z"
   },
   {
    "duration": 42,
    "start_time": "2022-04-16T13:22:29.599Z"
   },
   {
    "duration": 39,
    "start_time": "2022-04-16T13:22:38.454Z"
   },
   {
    "duration": 37,
    "start_time": "2022-04-16T13:22:48.136Z"
   },
   {
    "duration": 42,
    "start_time": "2022-04-16T13:22:56.074Z"
   },
   {
    "duration": 46,
    "start_time": "2022-04-16T13:23:05.391Z"
   },
   {
    "duration": 31,
    "start_time": "2022-04-16T13:23:45.050Z"
   },
   {
    "duration": 30,
    "start_time": "2022-04-16T13:23:54.550Z"
   },
   {
    "duration": 38,
    "start_time": "2022-04-16T13:23:59.261Z"
   },
   {
    "duration": 31,
    "start_time": "2022-04-16T13:24:02.967Z"
   },
   {
    "duration": 12,
    "start_time": "2022-04-16T13:24:11.638Z"
   },
   {
    "duration": 12,
    "start_time": "2022-04-16T13:24:29.224Z"
   },
   {
    "duration": 11,
    "start_time": "2022-04-16T13:24:42.188Z"
   },
   {
    "duration": 2,
    "start_time": "2022-04-16T13:24:48.567Z"
   },
   {
    "duration": 11,
    "start_time": "2022-04-16T13:24:57.068Z"
   },
   {
    "duration": 10,
    "start_time": "2022-04-16T13:25:16.304Z"
   },
   {
    "duration": 8,
    "start_time": "2022-04-16T13:25:30.105Z"
   },
   {
    "duration": 4,
    "start_time": "2022-04-16T13:25:52.269Z"
   },
   {
    "duration": 16,
    "start_time": "2022-04-16T13:25:56.701Z"
   },
   {
    "duration": 63,
    "start_time": "2022-04-16T13:26:26.528Z"
   },
   {
    "duration": 66,
    "start_time": "2022-04-16T13:26:55.332Z"
   },
   {
    "duration": 47,
    "start_time": "2022-04-16T13:27:12.216Z"
   },
   {
    "duration": 47,
    "start_time": "2022-04-16T13:27:39.556Z"
   },
   {
    "duration": 40,
    "start_time": "2022-04-16T13:27:50.362Z"
   },
   {
    "duration": 32,
    "start_time": "2022-04-16T13:27:54.335Z"
   },
   {
    "duration": 42,
    "start_time": "2022-04-16T13:28:00.638Z"
   },
   {
    "duration": 31,
    "start_time": "2022-04-16T13:28:10.789Z"
   },
   {
    "duration": 39,
    "start_time": "2022-04-16T13:28:12.963Z"
   },
   {
    "duration": 31,
    "start_time": "2022-04-16T13:28:18.762Z"
   },
   {
    "duration": 24,
    "start_time": "2022-04-16T13:29:50.216Z"
   },
   {
    "duration": 14,
    "start_time": "2022-04-16T13:29:56.241Z"
   },
   {
    "duration": 3096,
    "start_time": "2022-04-16T13:30:19.591Z"
   },
   {
    "duration": 3,
    "start_time": "2022-04-16T13:30:29.416Z"
   },
   {
    "duration": 507,
    "start_time": "2022-04-16T13:30:29.421Z"
   },
   {
    "duration": 47,
    "start_time": "2022-04-16T13:30:29.930Z"
   },
   {
    "duration": 43,
    "start_time": "2022-04-16T13:30:29.979Z"
   },
   {
    "duration": 31,
    "start_time": "2022-04-16T13:30:30.025Z"
   },
   {
    "duration": 62,
    "start_time": "2022-04-16T13:30:30.058Z"
   },
   {
    "duration": 25,
    "start_time": "2022-04-16T13:30:30.122Z"
   },
   {
    "duration": 75,
    "start_time": "2022-04-16T13:30:30.149Z"
   },
   {
    "duration": 56,
    "start_time": "2022-04-16T13:30:30.227Z"
   },
   {
    "duration": 50,
    "start_time": "2022-04-16T13:30:30.285Z"
   },
   {
    "duration": 8,
    "start_time": "2022-04-16T13:30:30.337Z"
   },
   {
    "duration": 8,
    "start_time": "2022-04-16T13:30:30.347Z"
   },
   {
    "duration": 62,
    "start_time": "2022-04-16T13:30:30.357Z"
   },
   {
    "duration": 21,
    "start_time": "2022-04-16T13:30:30.420Z"
   },
   {
    "duration": 14,
    "start_time": "2022-04-16T13:30:30.443Z"
   },
   {
    "duration": 3,
    "start_time": "2022-04-16T13:30:30.459Z"
   },
   {
    "duration": 12,
    "start_time": "2022-04-16T13:30:30.463Z"
   },
   {
    "duration": 13,
    "start_time": "2022-04-16T13:30:30.476Z"
   },
   {
    "duration": 11,
    "start_time": "2022-04-16T13:30:30.501Z"
   },
   {
    "duration": 24,
    "start_time": "2022-04-16T13:30:30.514Z"
   },
   {
    "duration": 4,
    "start_time": "2022-04-16T13:30:30.541Z"
   },
   {
    "duration": 11,
    "start_time": "2022-04-16T13:30:30.547Z"
   },
   {
    "duration": 4047,
    "start_time": "2022-04-16T13:30:30.560Z"
   },
   {
    "duration": 5,
    "start_time": "2022-04-16T13:30:34.609Z"
   },
   {
    "duration": 14,
    "start_time": "2022-04-16T13:30:34.615Z"
   },
   {
    "duration": 293,
    "start_time": "2022-04-16T13:30:34.631Z"
   },
   {
    "duration": 299,
    "start_time": "2022-04-16T13:30:34.926Z"
   },
   {
    "duration": 506,
    "start_time": "2022-04-16T13:30:35.227Z"
   },
   {
    "duration": 6,
    "start_time": "2022-04-16T13:30:35.736Z"
   },
   {
    "duration": 8,
    "start_time": "2022-04-16T13:30:35.744Z"
   },
   {
    "duration": 7,
    "start_time": "2022-04-16T13:30:35.753Z"
   },
   {
    "duration": 7,
    "start_time": "2022-04-16T13:30:35.762Z"
   },
   {
    "duration": 33,
    "start_time": "2022-04-16T13:30:35.771Z"
   },
   {
    "duration": 11,
    "start_time": "2022-04-16T13:30:35.806Z"
   },
   {
    "duration": 148,
    "start_time": "2022-04-16T13:30:35.819Z"
   },
   {
    "duration": 5,
    "start_time": "2022-04-16T13:30:35.968Z"
   },
   {
    "duration": 8,
    "start_time": "2022-04-16T13:30:35.974Z"
   },
   {
    "duration": 32,
    "start_time": "2022-04-16T13:30:35.983Z"
   },
   {
    "duration": 235,
    "start_time": "2022-04-16T13:30:36.016Z"
   },
   {
    "duration": 5,
    "start_time": "2022-04-16T13:30:36.252Z"
   },
   {
    "duration": 6,
    "start_time": "2022-04-16T13:30:36.259Z"
   },
   {
    "duration": 14,
    "start_time": "2022-04-16T13:31:16.451Z"
   },
   {
    "duration": 4,
    "start_time": "2022-04-16T13:31:25.022Z"
   },
   {
    "duration": 560,
    "start_time": "2022-04-16T13:31:25.028Z"
   },
   {
    "duration": 64,
    "start_time": "2022-04-16T13:31:25.590Z"
   },
   {
    "duration": 55,
    "start_time": "2022-04-16T13:31:25.656Z"
   },
   {
    "duration": 36,
    "start_time": "2022-04-16T13:31:25.713Z"
   },
   {
    "duration": 55,
    "start_time": "2022-04-16T13:31:25.751Z"
   },
   {
    "duration": 29,
    "start_time": "2022-04-16T13:31:25.807Z"
   },
   {
    "duration": 69,
    "start_time": "2022-04-16T13:31:25.838Z"
   },
   {
    "duration": 56,
    "start_time": "2022-04-16T13:31:25.909Z"
   },
   {
    "duration": 57,
    "start_time": "2022-04-16T13:31:25.967Z"
   },
   {
    "duration": 8,
    "start_time": "2022-04-16T13:31:26.028Z"
   },
   {
    "duration": 8,
    "start_time": "2022-04-16T13:31:26.038Z"
   },
   {
    "duration": 67,
    "start_time": "2022-04-16T13:31:26.047Z"
   },
   {
    "duration": 16,
    "start_time": "2022-04-16T13:31:26.116Z"
   },
   {
    "duration": 15,
    "start_time": "2022-04-16T13:31:26.134Z"
   },
   {
    "duration": 4,
    "start_time": "2022-04-16T13:31:26.150Z"
   },
   {
    "duration": 18,
    "start_time": "2022-04-16T13:31:26.156Z"
   },
   {
    "duration": 34,
    "start_time": "2022-04-16T13:31:26.176Z"
   },
   {
    "duration": 11,
    "start_time": "2022-04-16T13:31:26.214Z"
   },
   {
    "duration": 9,
    "start_time": "2022-04-16T13:31:26.227Z"
   },
   {
    "duration": 6,
    "start_time": "2022-04-16T13:31:26.237Z"
   },
   {
    "duration": 7,
    "start_time": "2022-04-16T13:31:26.244Z"
   },
   {
    "duration": 3990,
    "start_time": "2022-04-16T13:31:26.252Z"
   },
   {
    "duration": 5,
    "start_time": "2022-04-16T13:31:30.243Z"
   },
   {
    "duration": 10,
    "start_time": "2022-04-16T13:31:30.249Z"
   },
   {
    "duration": 295,
    "start_time": "2022-04-16T13:31:30.261Z"
   },
   {
    "duration": 395,
    "start_time": "2022-04-16T13:31:30.557Z"
   },
   {
    "duration": 548,
    "start_time": "2022-04-16T13:31:30.954Z"
   },
   {
    "duration": 8,
    "start_time": "2022-04-16T13:31:31.506Z"
   },
   {
    "duration": 18,
    "start_time": "2022-04-16T13:31:31.515Z"
   },
   {
    "duration": 7,
    "start_time": "2022-04-16T13:31:31.534Z"
   },
   {
    "duration": 11,
    "start_time": "2022-04-16T13:31:31.542Z"
   },
   {
    "duration": 8,
    "start_time": "2022-04-16T13:31:31.555Z"
   },
   {
    "duration": 8,
    "start_time": "2022-04-16T13:31:31.565Z"
   },
   {
    "duration": 160,
    "start_time": "2022-04-16T13:31:31.574Z"
   },
   {
    "duration": 4,
    "start_time": "2022-04-16T13:31:31.736Z"
   },
   {
    "duration": 12,
    "start_time": "2022-04-16T13:31:31.742Z"
   },
   {
    "duration": 13,
    "start_time": "2022-04-16T13:31:31.755Z"
   },
   {
    "duration": 171,
    "start_time": "2022-04-16T13:31:31.770Z"
   },
   {
    "duration": 5,
    "start_time": "2022-04-16T13:31:31.943Z"
   },
   {
    "duration": 14,
    "start_time": "2022-04-16T13:31:31.949Z"
   },
   {
    "duration": 5,
    "start_time": "2022-04-16T13:32:07.936Z"
   },
   {
    "duration": 20,
    "start_time": "2022-04-16T13:32:10.926Z"
   },
   {
    "duration": 787,
    "start_time": "2022-04-16T13:38:51.862Z"
   },
   {
    "duration": 885,
    "start_time": "2022-04-16T13:39:04.882Z"
   },
   {
    "duration": 5,
    "start_time": "2022-04-16T13:39:08.136Z"
   },
   {
    "duration": 7,
    "start_time": "2022-04-16T13:39:10.326Z"
   },
   {
    "duration": 17,
    "start_time": "2022-04-16T13:39:15.204Z"
   },
   {
    "duration": 6,
    "start_time": "2022-04-16T13:39:26.515Z"
   },
   {
    "duration": 14,
    "start_time": "2022-04-16T13:39:33.231Z"
   },
   {
    "duration": 5,
    "start_time": "2022-04-16T13:39:41.230Z"
   },
   {
    "duration": 3,
    "start_time": "2022-04-16T13:39:56.272Z"
   },
   {
    "duration": 3,
    "start_time": "2022-04-16T13:41:01.594Z"
   },
   {
    "duration": 2,
    "start_time": "2022-04-16T13:41:02.321Z"
   },
   {
    "duration": 3,
    "start_time": "2022-04-16T13:41:03.038Z"
   },
   {
    "duration": 809,
    "start_time": "2022-04-16T13:42:34.742Z"
   },
   {
    "duration": 864,
    "start_time": "2022-04-16T13:42:43.747Z"
   },
   {
    "duration": 821,
    "start_time": "2022-04-16T13:42:53.290Z"
   },
   {
    "duration": 2,
    "start_time": "2022-04-16T13:42:57.736Z"
   },
   {
    "duration": 413,
    "start_time": "2022-04-16T13:42:57.740Z"
   },
   {
    "duration": 50,
    "start_time": "2022-04-16T13:42:58.154Z"
   },
   {
    "duration": 46,
    "start_time": "2022-04-16T13:42:58.205Z"
   },
   {
    "duration": 49,
    "start_time": "2022-04-16T13:42:58.253Z"
   },
   {
    "duration": 46,
    "start_time": "2022-04-16T13:42:58.304Z"
   },
   {
    "duration": 58,
    "start_time": "2022-04-16T13:42:58.351Z"
   },
   {
    "duration": 50,
    "start_time": "2022-04-16T13:42:58.412Z"
   },
   {
    "duration": 46,
    "start_time": "2022-04-16T13:42:58.464Z"
   },
   {
    "duration": 31,
    "start_time": "2022-04-16T13:42:58.512Z"
   },
   {
    "duration": 7,
    "start_time": "2022-04-16T13:42:58.546Z"
   },
   {
    "duration": 6,
    "start_time": "2022-04-16T13:42:58.555Z"
   },
   {
    "duration": 820,
    "start_time": "2022-04-16T13:42:58.563Z"
   },
   {
    "duration": 0,
    "start_time": "2022-04-16T13:42:59.385Z"
   },
   {
    "duration": 0,
    "start_time": "2022-04-16T13:42:59.386Z"
   },
   {
    "duration": 0,
    "start_time": "2022-04-16T13:42:59.387Z"
   },
   {
    "duration": 0,
    "start_time": "2022-04-16T13:42:59.389Z"
   },
   {
    "duration": 0,
    "start_time": "2022-04-16T13:42:59.390Z"
   },
   {
    "duration": 0,
    "start_time": "2022-04-16T13:42:59.391Z"
   },
   {
    "duration": 0,
    "start_time": "2022-04-16T13:42:59.392Z"
   },
   {
    "duration": 0,
    "start_time": "2022-04-16T13:42:59.393Z"
   },
   {
    "duration": 0,
    "start_time": "2022-04-16T13:42:59.394Z"
   },
   {
    "duration": 0,
    "start_time": "2022-04-16T13:42:59.395Z"
   },
   {
    "duration": 0,
    "start_time": "2022-04-16T13:42:59.396Z"
   },
   {
    "duration": 0,
    "start_time": "2022-04-16T13:42:59.397Z"
   },
   {
    "duration": 0,
    "start_time": "2022-04-16T13:42:59.398Z"
   },
   {
    "duration": 0,
    "start_time": "2022-04-16T13:42:59.403Z"
   },
   {
    "duration": 0,
    "start_time": "2022-04-16T13:42:59.404Z"
   },
   {
    "duration": 0,
    "start_time": "2022-04-16T13:42:59.405Z"
   },
   {
    "duration": 0,
    "start_time": "2022-04-16T13:42:59.406Z"
   },
   {
    "duration": 0,
    "start_time": "2022-04-16T13:42:59.407Z"
   },
   {
    "duration": 0,
    "start_time": "2022-04-16T13:42:59.408Z"
   },
   {
    "duration": 0,
    "start_time": "2022-04-16T13:42:59.409Z"
   },
   {
    "duration": 0,
    "start_time": "2022-04-16T13:42:59.410Z"
   },
   {
    "duration": 0,
    "start_time": "2022-04-16T13:42:59.411Z"
   },
   {
    "duration": 0,
    "start_time": "2022-04-16T13:42:59.412Z"
   },
   {
    "duration": 0,
    "start_time": "2022-04-16T13:42:59.413Z"
   },
   {
    "duration": 0,
    "start_time": "2022-04-16T13:42:59.414Z"
   },
   {
    "duration": 0,
    "start_time": "2022-04-16T13:42:59.415Z"
   },
   {
    "duration": 0,
    "start_time": "2022-04-16T13:42:59.415Z"
   },
   {
    "duration": 32,
    "start_time": "2022-04-16T13:46:55.341Z"
   },
   {
    "duration": 843,
    "start_time": "2022-04-16T13:46:58.759Z"
   },
   {
    "duration": 17,
    "start_time": "2022-04-16T13:47:03.757Z"
   },
   {
    "duration": 16,
    "start_time": "2022-04-16T13:47:09.055Z"
   },
   {
    "duration": 6,
    "start_time": "2022-04-16T13:47:11.518Z"
   },
   {
    "duration": 15,
    "start_time": "2022-04-16T13:48:15.256Z"
   },
   {
    "duration": 22,
    "start_time": "2022-04-16T13:48:36.493Z"
   },
   {
    "duration": 11,
    "start_time": "2022-04-16T13:49:29.165Z"
   },
   {
    "duration": 201,
    "start_time": "2022-04-16T13:49:40.935Z"
   },
   {
    "duration": 30,
    "start_time": "2022-04-16T13:53:31.281Z"
   },
   {
    "duration": 14,
    "start_time": "2022-04-16T13:53:53.764Z"
   },
   {
    "duration": 14,
    "start_time": "2022-04-16T13:53:56.847Z"
   },
   {
    "duration": 14,
    "start_time": "2022-04-16T13:54:03.438Z"
   },
   {
    "duration": 15,
    "start_time": "2022-04-16T13:54:16.257Z"
   },
   {
    "duration": 14,
    "start_time": "2022-04-16T13:54:22.768Z"
   },
   {
    "duration": 3,
    "start_time": "2022-04-16T13:54:32.079Z"
   },
   {
    "duration": 4145,
    "start_time": "2022-04-16T13:54:32.085Z"
   },
   {
    "duration": 49,
    "start_time": "2022-04-16T13:54:36.231Z"
   },
   {
    "duration": 56,
    "start_time": "2022-04-16T13:54:36.282Z"
   },
   {
    "duration": 31,
    "start_time": "2022-04-16T13:54:36.340Z"
   },
   {
    "duration": 46,
    "start_time": "2022-04-16T13:54:36.373Z"
   },
   {
    "duration": 23,
    "start_time": "2022-04-16T13:54:36.421Z"
   },
   {
    "duration": 70,
    "start_time": "2022-04-16T13:54:36.445Z"
   },
   {
    "duration": 36,
    "start_time": "2022-04-16T13:54:36.517Z"
   },
   {
    "duration": 29,
    "start_time": "2022-04-16T13:54:36.556Z"
   },
   {
    "duration": 20,
    "start_time": "2022-04-16T13:54:36.587Z"
   },
   {
    "duration": 14,
    "start_time": "2022-04-16T13:54:36.609Z"
   },
   {
    "duration": 40,
    "start_time": "2022-04-16T13:54:36.624Z"
   },
   {
    "duration": 17,
    "start_time": "2022-04-16T13:54:36.666Z"
   },
   {
    "duration": 26,
    "start_time": "2022-04-16T13:54:36.684Z"
   },
   {
    "duration": 7,
    "start_time": "2022-04-16T13:54:36.714Z"
   },
   {
    "duration": 19,
    "start_time": "2022-04-16T13:54:36.723Z"
   },
   {
    "duration": 2,
    "start_time": "2022-04-16T13:54:36.743Z"
   },
   {
    "duration": 7,
    "start_time": "2022-04-16T13:54:36.747Z"
   },
   {
    "duration": 9,
    "start_time": "2022-04-16T13:54:36.755Z"
   },
   {
    "duration": 5,
    "start_time": "2022-04-16T13:54:36.765Z"
   },
   {
    "duration": 9,
    "start_time": "2022-04-16T13:54:36.772Z"
   },
   {
    "duration": 5052,
    "start_time": "2022-04-16T13:54:36.782Z"
   },
   {
    "duration": 0,
    "start_time": "2022-04-16T13:54:41.836Z"
   },
   {
    "duration": 1,
    "start_time": "2022-04-16T13:54:41.837Z"
   },
   {
    "duration": 0,
    "start_time": "2022-04-16T13:54:41.839Z"
   },
   {
    "duration": 0,
    "start_time": "2022-04-16T13:54:41.840Z"
   },
   {
    "duration": 0,
    "start_time": "2022-04-16T13:54:41.841Z"
   },
   {
    "duration": 0,
    "start_time": "2022-04-16T13:54:41.842Z"
   },
   {
    "duration": 0,
    "start_time": "2022-04-16T13:54:41.843Z"
   },
   {
    "duration": 0,
    "start_time": "2022-04-16T13:54:41.844Z"
   },
   {
    "duration": 0,
    "start_time": "2022-04-16T13:54:41.845Z"
   },
   {
    "duration": 0,
    "start_time": "2022-04-16T13:54:41.845Z"
   },
   {
    "duration": 0,
    "start_time": "2022-04-16T13:54:41.846Z"
   },
   {
    "duration": 0,
    "start_time": "2022-04-16T13:54:41.847Z"
   },
   {
    "duration": 0,
    "start_time": "2022-04-16T13:54:41.848Z"
   },
   {
    "duration": 0,
    "start_time": "2022-04-16T13:54:41.849Z"
   },
   {
    "duration": 0,
    "start_time": "2022-04-16T13:54:41.850Z"
   },
   {
    "duration": 0,
    "start_time": "2022-04-16T13:54:41.851Z"
   },
   {
    "duration": 0,
    "start_time": "2022-04-16T13:54:41.852Z"
   },
   {
    "duration": 0,
    "start_time": "2022-04-16T13:54:41.853Z"
   },
   {
    "duration": 12,
    "start_time": "2022-04-16T13:54:53.885Z"
   },
   {
    "duration": 11,
    "start_time": "2022-04-16T13:54:56.232Z"
   },
   {
    "duration": 2,
    "start_time": "2022-04-16T13:55:02.093Z"
   },
   {
    "duration": 458,
    "start_time": "2022-04-16T13:55:02.097Z"
   },
   {
    "duration": 51,
    "start_time": "2022-04-16T13:55:02.556Z"
   },
   {
    "duration": 51,
    "start_time": "2022-04-16T13:55:02.608Z"
   },
   {
    "duration": 57,
    "start_time": "2022-04-16T13:55:02.662Z"
   },
   {
    "duration": 34,
    "start_time": "2022-04-16T13:55:02.721Z"
   },
   {
    "duration": 48,
    "start_time": "2022-04-16T13:55:02.756Z"
   },
   {
    "duration": 57,
    "start_time": "2022-04-16T13:55:02.806Z"
   },
   {
    "duration": 55,
    "start_time": "2022-04-16T13:55:02.865Z"
   },
   {
    "duration": 31,
    "start_time": "2022-04-16T13:55:02.922Z"
   },
   {
    "duration": 8,
    "start_time": "2022-04-16T13:55:02.956Z"
   },
   {
    "duration": 8,
    "start_time": "2022-04-16T13:55:02.966Z"
   },
   {
    "duration": 59,
    "start_time": "2022-04-16T13:55:02.976Z"
   },
   {
    "duration": 18,
    "start_time": "2022-04-16T13:55:03.036Z"
   },
   {
    "duration": 15,
    "start_time": "2022-04-16T13:55:03.056Z"
   },
   {
    "duration": 7,
    "start_time": "2022-04-16T13:55:03.073Z"
   },
   {
    "duration": 20,
    "start_time": "2022-04-16T13:55:03.107Z"
   },
   {
    "duration": 9,
    "start_time": "2022-04-16T13:55:03.129Z"
   },
   {
    "duration": 7,
    "start_time": "2022-04-16T13:55:03.139Z"
   },
   {
    "duration": 7,
    "start_time": "2022-04-16T13:55:03.147Z"
   },
   {
    "duration": 6,
    "start_time": "2022-04-16T13:55:03.155Z"
   },
   {
    "duration": 11,
    "start_time": "2022-04-16T13:55:03.163Z"
   },
   {
    "duration": 3309,
    "start_time": "2022-04-16T13:55:03.175Z"
   },
   {
    "duration": 0,
    "start_time": "2022-04-16T13:55:06.486Z"
   },
   {
    "duration": 0,
    "start_time": "2022-04-16T13:55:06.488Z"
   },
   {
    "duration": 0,
    "start_time": "2022-04-16T13:55:06.490Z"
   },
   {
    "duration": 0,
    "start_time": "2022-04-16T13:55:06.491Z"
   },
   {
    "duration": 0,
    "start_time": "2022-04-16T13:55:06.492Z"
   },
   {
    "duration": 0,
    "start_time": "2022-04-16T13:55:06.493Z"
   },
   {
    "duration": 0,
    "start_time": "2022-04-16T13:55:06.494Z"
   },
   {
    "duration": 0,
    "start_time": "2022-04-16T13:55:06.495Z"
   },
   {
    "duration": 0,
    "start_time": "2022-04-16T13:55:06.496Z"
   },
   {
    "duration": 0,
    "start_time": "2022-04-16T13:55:06.498Z"
   },
   {
    "duration": 0,
    "start_time": "2022-04-16T13:55:06.498Z"
   },
   {
    "duration": 0,
    "start_time": "2022-04-16T13:55:06.499Z"
   },
   {
    "duration": 0,
    "start_time": "2022-04-16T13:55:06.507Z"
   },
   {
    "duration": 0,
    "start_time": "2022-04-16T13:55:06.508Z"
   },
   {
    "duration": 0,
    "start_time": "2022-04-16T13:55:06.509Z"
   },
   {
    "duration": 0,
    "start_time": "2022-04-16T13:55:06.511Z"
   },
   {
    "duration": 0,
    "start_time": "2022-04-16T13:55:06.512Z"
   },
   {
    "duration": 0,
    "start_time": "2022-04-16T13:55:06.513Z"
   },
   {
    "duration": 3,
    "start_time": "2022-04-16T13:55:10.598Z"
   },
   {
    "duration": 13,
    "start_time": "2022-04-16T14:03:20.041Z"
   },
   {
    "duration": 3,
    "start_time": "2022-04-16T14:03:23.974Z"
   },
   {
    "duration": 410,
    "start_time": "2022-04-16T14:03:23.979Z"
   },
   {
    "duration": 48,
    "start_time": "2022-04-16T14:03:24.390Z"
   },
   {
    "duration": 39,
    "start_time": "2022-04-16T14:03:24.440Z"
   },
   {
    "duration": 48,
    "start_time": "2022-04-16T14:03:24.481Z"
   },
   {
    "duration": 43,
    "start_time": "2022-04-16T14:03:24.531Z"
   },
   {
    "duration": 48,
    "start_time": "2022-04-16T14:03:24.575Z"
   },
   {
    "duration": 47,
    "start_time": "2022-04-16T14:03:24.625Z"
   },
   {
    "duration": 53,
    "start_time": "2022-04-16T14:03:24.674Z"
   },
   {
    "duration": 33,
    "start_time": "2022-04-16T14:03:24.728Z"
   },
   {
    "duration": 7,
    "start_time": "2022-04-16T14:03:24.763Z"
   },
   {
    "duration": 5,
    "start_time": "2022-04-16T14:03:24.772Z"
   },
   {
    "duration": 55,
    "start_time": "2022-04-16T14:03:24.779Z"
   },
   {
    "duration": 17,
    "start_time": "2022-04-16T14:03:24.837Z"
   },
   {
    "duration": 16,
    "start_time": "2022-04-16T14:03:24.855Z"
   },
   {
    "duration": 29,
    "start_time": "2022-04-16T14:03:24.873Z"
   },
   {
    "duration": 18,
    "start_time": "2022-04-16T14:03:24.904Z"
   },
   {
    "duration": 6,
    "start_time": "2022-04-16T14:03:24.924Z"
   },
   {
    "duration": 7,
    "start_time": "2022-04-16T14:03:24.931Z"
   },
   {
    "duration": 7,
    "start_time": "2022-04-16T14:03:24.939Z"
   },
   {
    "duration": 5,
    "start_time": "2022-04-16T14:03:24.947Z"
   },
   {
    "duration": 4,
    "start_time": "2022-04-16T14:03:24.953Z"
   },
   {
    "duration": 8,
    "start_time": "2022-04-16T14:03:24.959Z"
   },
   {
    "duration": 3012,
    "start_time": "2022-04-16T14:03:24.968Z"
   },
   {
    "duration": 0,
    "start_time": "2022-04-16T14:03:27.983Z"
   },
   {
    "duration": 0,
    "start_time": "2022-04-16T14:03:27.984Z"
   },
   {
    "duration": 0,
    "start_time": "2022-04-16T14:03:27.985Z"
   },
   {
    "duration": 0,
    "start_time": "2022-04-16T14:03:27.987Z"
   },
   {
    "duration": 0,
    "start_time": "2022-04-16T14:03:27.988Z"
   },
   {
    "duration": 0,
    "start_time": "2022-04-16T14:03:27.989Z"
   },
   {
    "duration": 0,
    "start_time": "2022-04-16T14:03:27.990Z"
   },
   {
    "duration": 0,
    "start_time": "2022-04-16T14:03:27.991Z"
   },
   {
    "duration": 1,
    "start_time": "2022-04-16T14:03:27.992Z"
   },
   {
    "duration": 0,
    "start_time": "2022-04-16T14:03:27.993Z"
   },
   {
    "duration": 0,
    "start_time": "2022-04-16T14:03:27.994Z"
   },
   {
    "duration": 0,
    "start_time": "2022-04-16T14:03:27.996Z"
   },
   {
    "duration": 0,
    "start_time": "2022-04-16T14:03:27.997Z"
   },
   {
    "duration": 0,
    "start_time": "2022-04-16T14:03:27.998Z"
   },
   {
    "duration": 0,
    "start_time": "2022-04-16T14:03:28.000Z"
   },
   {
    "duration": 0,
    "start_time": "2022-04-16T14:03:28.001Z"
   },
   {
    "duration": 0,
    "start_time": "2022-04-16T14:03:28.002Z"
   },
   {
    "duration": 0,
    "start_time": "2022-04-16T14:03:28.003Z"
   },
   {
    "duration": 1125,
    "start_time": "2022-04-16T14:03:57.891Z"
   },
   {
    "duration": 396,
    "start_time": "2022-04-16T14:03:59.018Z"
   },
   {
    "duration": 55,
    "start_time": "2022-04-16T14:03:59.416Z"
   },
   {
    "duration": 46,
    "start_time": "2022-04-16T14:03:59.473Z"
   },
   {
    "duration": 32,
    "start_time": "2022-04-16T14:03:59.521Z"
   },
   {
    "duration": 72,
    "start_time": "2022-04-16T14:03:59.555Z"
   },
   {
    "duration": 32,
    "start_time": "2022-04-16T14:03:59.629Z"
   },
   {
    "duration": 98,
    "start_time": "2022-04-16T14:03:59.662Z"
   },
   {
    "duration": 65,
    "start_time": "2022-04-16T14:03:59.762Z"
   },
   {
    "duration": 48,
    "start_time": "2022-04-16T14:03:59.829Z"
   },
   {
    "duration": 9,
    "start_time": "2022-04-16T14:03:59.879Z"
   },
   {
    "duration": 13,
    "start_time": "2022-04-16T14:03:59.890Z"
   },
   {
    "duration": 69,
    "start_time": "2022-04-16T14:03:59.905Z"
   },
   {
    "duration": 35,
    "start_time": "2022-04-16T14:03:59.978Z"
   },
   {
    "duration": 16,
    "start_time": "2022-04-16T14:04:00.015Z"
   },
   {
    "duration": 4,
    "start_time": "2022-04-16T14:04:00.033Z"
   },
   {
    "duration": 101,
    "start_time": "2022-04-16T14:04:00.039Z"
   },
   {
    "duration": 0,
    "start_time": "2022-04-16T14:04:00.142Z"
   },
   {
    "duration": 1,
    "start_time": "2022-04-16T14:04:00.143Z"
   },
   {
    "duration": 0,
    "start_time": "2022-04-16T14:04:00.144Z"
   },
   {
    "duration": 0,
    "start_time": "2022-04-16T14:04:00.145Z"
   },
   {
    "duration": 0,
    "start_time": "2022-04-16T14:04:00.146Z"
   },
   {
    "duration": 0,
    "start_time": "2022-04-16T14:04:00.147Z"
   },
   {
    "duration": 0,
    "start_time": "2022-04-16T14:04:00.148Z"
   },
   {
    "duration": 0,
    "start_time": "2022-04-16T14:04:00.149Z"
   },
   {
    "duration": 0,
    "start_time": "2022-04-16T14:04:00.150Z"
   },
   {
    "duration": 0,
    "start_time": "2022-04-16T14:04:00.151Z"
   },
   {
    "duration": 0,
    "start_time": "2022-04-16T14:04:00.152Z"
   },
   {
    "duration": 0,
    "start_time": "2022-04-16T14:04:00.153Z"
   },
   {
    "duration": 0,
    "start_time": "2022-04-16T14:04:00.154Z"
   },
   {
    "duration": 0,
    "start_time": "2022-04-16T14:04:00.155Z"
   },
   {
    "duration": 0,
    "start_time": "2022-04-16T14:04:00.156Z"
   },
   {
    "duration": 0,
    "start_time": "2022-04-16T14:04:00.157Z"
   },
   {
    "duration": 0,
    "start_time": "2022-04-16T14:04:00.158Z"
   },
   {
    "duration": 0,
    "start_time": "2022-04-16T14:04:00.159Z"
   },
   {
    "duration": 0,
    "start_time": "2022-04-16T14:04:00.160Z"
   },
   {
    "duration": 0,
    "start_time": "2022-04-16T14:04:00.161Z"
   },
   {
    "duration": 0,
    "start_time": "2022-04-16T14:04:00.162Z"
   },
   {
    "duration": 0,
    "start_time": "2022-04-16T14:04:00.163Z"
   },
   {
    "duration": 0,
    "start_time": "2022-04-16T14:04:00.200Z"
   },
   {
    "duration": 0,
    "start_time": "2022-04-16T14:04:00.201Z"
   },
   {
    "duration": 0,
    "start_time": "2022-04-16T14:04:00.202Z"
   },
   {
    "duration": 7,
    "start_time": "2022-04-16T14:04:33.144Z"
   },
   {
    "duration": 6,
    "start_time": "2022-04-16T14:04:43.598Z"
   },
   {
    "duration": 8,
    "start_time": "2022-04-16T14:04:53.395Z"
   },
   {
    "duration": 12,
    "start_time": "2022-04-16T14:04:58.210Z"
   },
   {
    "duration": 9,
    "start_time": "2022-04-16T14:05:03.220Z"
   },
   {
    "duration": 6,
    "start_time": "2022-04-16T14:05:05.407Z"
   },
   {
    "duration": 21,
    "start_time": "2022-04-16T14:05:25.861Z"
   },
   {
    "duration": 31,
    "start_time": "2022-04-16T14:05:46.811Z"
   },
   {
    "duration": 108,
    "start_time": "2022-04-16T14:06:01.678Z"
   },
   {
    "duration": 15,
    "start_time": "2022-04-16T14:06:11.038Z"
   },
   {
    "duration": 790,
    "start_time": "2022-04-16T14:07:07.966Z"
   },
   {
    "duration": 0,
    "start_time": "2022-04-16T14:07:08.757Z"
   },
   {
    "duration": 751,
    "start_time": "2022-04-16T14:07:09.017Z"
   },
   {
    "duration": 1347,
    "start_time": "2022-04-16T14:07:17.922Z"
   },
   {
    "duration": 538,
    "start_time": "2022-04-16T14:07:19.271Z"
   },
   {
    "duration": 73,
    "start_time": "2022-04-16T14:07:19.811Z"
   },
   {
    "duration": 50,
    "start_time": "2022-04-16T14:07:19.886Z"
   },
   {
    "duration": 31,
    "start_time": "2022-04-16T14:07:19.938Z"
   },
   {
    "duration": 64,
    "start_time": "2022-04-16T14:07:19.970Z"
   },
   {
    "duration": 34,
    "start_time": "2022-04-16T14:07:20.036Z"
   },
   {
    "duration": 98,
    "start_time": "2022-04-16T14:07:20.071Z"
   },
   {
    "duration": 66,
    "start_time": "2022-04-16T14:07:20.171Z"
   },
   {
    "duration": 47,
    "start_time": "2022-04-16T14:07:20.240Z"
   },
   {
    "duration": 19,
    "start_time": "2022-04-16T14:07:20.288Z"
   },
   {
    "duration": 7,
    "start_time": "2022-04-16T14:07:20.309Z"
   },
   {
    "duration": 1006,
    "start_time": "2022-04-16T14:07:20.318Z"
   },
   {
    "duration": 0,
    "start_time": "2022-04-16T14:07:21.327Z"
   },
   {
    "duration": 0,
    "start_time": "2022-04-16T14:07:21.328Z"
   },
   {
    "duration": 0,
    "start_time": "2022-04-16T14:07:21.329Z"
   },
   {
    "duration": 0,
    "start_time": "2022-04-16T14:07:21.331Z"
   },
   {
    "duration": 0,
    "start_time": "2022-04-16T14:07:21.332Z"
   },
   {
    "duration": 0,
    "start_time": "2022-04-16T14:07:21.333Z"
   },
   {
    "duration": 0,
    "start_time": "2022-04-16T14:07:21.334Z"
   },
   {
    "duration": 0,
    "start_time": "2022-04-16T14:07:21.335Z"
   },
   {
    "duration": 0,
    "start_time": "2022-04-16T14:07:21.336Z"
   },
   {
    "duration": 0,
    "start_time": "2022-04-16T14:07:21.337Z"
   },
   {
    "duration": 0,
    "start_time": "2022-04-16T14:07:21.338Z"
   },
   {
    "duration": 0,
    "start_time": "2022-04-16T14:07:21.339Z"
   },
   {
    "duration": 0,
    "start_time": "2022-04-16T14:07:21.340Z"
   },
   {
    "duration": 0,
    "start_time": "2022-04-16T14:07:21.341Z"
   },
   {
    "duration": 0,
    "start_time": "2022-04-16T14:07:21.342Z"
   },
   {
    "duration": 0,
    "start_time": "2022-04-16T14:07:21.343Z"
   },
   {
    "duration": 0,
    "start_time": "2022-04-16T14:07:21.344Z"
   },
   {
    "duration": 0,
    "start_time": "2022-04-16T14:07:21.346Z"
   },
   {
    "duration": 0,
    "start_time": "2022-04-16T14:07:21.347Z"
   },
   {
    "duration": 0,
    "start_time": "2022-04-16T14:07:21.348Z"
   },
   {
    "duration": 0,
    "start_time": "2022-04-16T14:07:21.350Z"
   },
   {
    "duration": 0,
    "start_time": "2022-04-16T14:07:21.351Z"
   },
   {
    "duration": 0,
    "start_time": "2022-04-16T14:07:21.352Z"
   },
   {
    "duration": 0,
    "start_time": "2022-04-16T14:07:21.354Z"
   },
   {
    "duration": 0,
    "start_time": "2022-04-16T14:07:21.355Z"
   },
   {
    "duration": 0,
    "start_time": "2022-04-16T14:07:21.356Z"
   },
   {
    "duration": 0,
    "start_time": "2022-04-16T14:07:21.357Z"
   },
   {
    "duration": 0,
    "start_time": "2022-04-16T14:07:21.358Z"
   },
   {
    "duration": 0,
    "start_time": "2022-04-16T14:07:21.360Z"
   },
   {
    "duration": 0,
    "start_time": "2022-04-16T14:07:21.361Z"
   },
   {
    "duration": 0,
    "start_time": "2022-04-16T14:07:21.362Z"
   },
   {
    "duration": 0,
    "start_time": "2022-04-16T14:07:21.363Z"
   },
   {
    "duration": 48,
    "start_time": "2022-04-16T14:07:46.106Z"
   },
   {
    "duration": 825,
    "start_time": "2022-04-16T14:07:48.237Z"
   },
   {
    "duration": 17,
    "start_time": "2022-04-16T14:07:53.796Z"
   },
   {
    "duration": 788,
    "start_time": "2022-04-16T14:07:58.195Z"
   },
   {
    "duration": 20,
    "start_time": "2022-04-16T14:08:01.897Z"
   },
   {
    "duration": 7,
    "start_time": "2022-04-16T14:08:05.644Z"
   },
   {
    "duration": 8,
    "start_time": "2022-04-16T14:08:08.354Z"
   },
   {
    "duration": 7,
    "start_time": "2022-04-16T14:08:08.870Z"
   },
   {
    "duration": 7,
    "start_time": "2022-04-16T14:08:09.221Z"
   },
   {
    "duration": 7,
    "start_time": "2022-04-16T14:08:33.468Z"
   },
   {
    "duration": 22,
    "start_time": "2022-04-16T14:09:55.596Z"
   },
   {
    "duration": 192,
    "start_time": "2022-04-16T14:10:37.721Z"
   },
   {
    "duration": 6,
    "start_time": "2022-04-16T14:10:40.624Z"
   },
   {
    "duration": 14,
    "start_time": "2022-04-16T14:12:13.785Z"
   },
   {
    "duration": 4,
    "start_time": "2022-04-16T14:12:21.370Z"
   },
   {
    "duration": 14,
    "start_time": "2022-04-16T14:15:13.099Z"
   },
   {
    "duration": 25,
    "start_time": "2022-04-16T14:15:16.367Z"
   },
   {
    "duration": 15,
    "start_time": "2022-04-16T14:17:11.209Z"
   },
   {
    "duration": 14,
    "start_time": "2022-04-16T14:17:13.016Z"
   },
   {
    "duration": 25,
    "start_time": "2022-04-16T14:17:16.747Z"
   },
   {
    "duration": 17,
    "start_time": "2022-04-16T14:18:52.258Z"
   },
   {
    "duration": 17,
    "start_time": "2022-04-16T14:18:55.446Z"
   },
   {
    "duration": 48,
    "start_time": "2022-04-16T14:18:57.755Z"
   },
   {
    "duration": 51,
    "start_time": "2022-04-16T14:19:17.189Z"
   },
   {
    "duration": 47,
    "start_time": "2022-04-16T14:19:19.921Z"
   },
   {
    "duration": 47,
    "start_time": "2022-04-16T14:19:39.610Z"
   },
   {
    "duration": 50,
    "start_time": "2022-04-16T14:20:01.520Z"
   },
   {
    "duration": 34,
    "start_time": "2022-04-16T14:20:49.732Z"
   },
   {
    "duration": 5,
    "start_time": "2022-04-16T14:21:25.462Z"
   },
   {
    "duration": 21,
    "start_time": "2022-04-16T14:21:27.669Z"
   },
   {
    "duration": 19,
    "start_time": "2022-04-16T14:23:33.632Z"
   },
   {
    "duration": 2,
    "start_time": "2022-04-16T14:23:40.386Z"
   },
   {
    "duration": 500,
    "start_time": "2022-04-16T14:23:40.390Z"
   },
   {
    "duration": 72,
    "start_time": "2022-04-16T14:23:40.892Z"
   },
   {
    "duration": 66,
    "start_time": "2022-04-16T14:23:40.966Z"
   },
   {
    "duration": 29,
    "start_time": "2022-04-16T14:23:41.034Z"
   },
   {
    "duration": 52,
    "start_time": "2022-04-16T14:23:41.065Z"
   },
   {
    "duration": 25,
    "start_time": "2022-04-16T14:23:41.119Z"
   },
   {
    "duration": 66,
    "start_time": "2022-04-16T14:23:41.145Z"
   },
   {
    "duration": 37,
    "start_time": "2022-04-16T14:23:41.213Z"
   },
   {
    "duration": 30,
    "start_time": "2022-04-16T14:23:41.251Z"
   },
   {
    "duration": 19,
    "start_time": "2022-04-16T14:23:41.283Z"
   },
   {
    "duration": 8,
    "start_time": "2022-04-16T14:23:41.306Z"
   },
   {
    "duration": 44,
    "start_time": "2022-04-16T14:23:41.316Z"
   },
   {
    "duration": 15,
    "start_time": "2022-04-16T14:23:41.362Z"
   },
   {
    "duration": 28,
    "start_time": "2022-04-16T14:23:41.379Z"
   },
   {
    "duration": 5,
    "start_time": "2022-04-16T14:23:41.410Z"
   },
   {
    "duration": 38,
    "start_time": "2022-04-16T14:23:41.416Z"
   },
   {
    "duration": 19,
    "start_time": "2022-04-16T14:23:41.456Z"
   },
   {
    "duration": 27,
    "start_time": "2022-04-16T14:23:41.477Z"
   },
   {
    "duration": 4817,
    "start_time": "2022-04-16T14:23:41.506Z"
   },
   {
    "duration": 4,
    "start_time": "2022-04-16T14:23:46.325Z"
   },
   {
    "duration": 7,
    "start_time": "2022-04-16T14:23:46.331Z"
   },
   {
    "duration": 387,
    "start_time": "2022-04-16T14:23:46.339Z"
   },
   {
    "duration": 477,
    "start_time": "2022-04-16T14:23:46.728Z"
   },
   {
    "duration": 695,
    "start_time": "2022-04-16T14:23:47.207Z"
   },
   {
    "duration": 9,
    "start_time": "2022-04-16T14:23:47.904Z"
   },
   {
    "duration": 15,
    "start_time": "2022-04-16T14:23:47.915Z"
   },
   {
    "duration": 6,
    "start_time": "2022-04-16T14:23:47.931Z"
   },
   {
    "duration": 6,
    "start_time": "2022-04-16T14:23:47.940Z"
   },
   {
    "duration": 9,
    "start_time": "2022-04-16T14:23:47.948Z"
   },
   {
    "duration": 15,
    "start_time": "2022-04-16T14:23:47.958Z"
   },
   {
    "duration": 221,
    "start_time": "2022-04-16T14:23:47.975Z"
   },
   {
    "duration": 8,
    "start_time": "2022-04-16T14:23:48.198Z"
   },
   {
    "duration": 16,
    "start_time": "2022-04-16T14:23:48.208Z"
   },
   {
    "duration": 11,
    "start_time": "2022-04-16T14:23:48.226Z"
   },
   {
    "duration": 205,
    "start_time": "2022-04-16T14:23:48.238Z"
   },
   {
    "duration": 5,
    "start_time": "2022-04-16T14:23:48.445Z"
   },
   {
    "duration": 6,
    "start_time": "2022-04-16T14:23:48.452Z"
   },
   {
    "duration": 29,
    "start_time": "2022-04-16T14:24:10.581Z"
   },
   {
    "duration": 7,
    "start_time": "2022-04-16T14:24:14.982Z"
   },
   {
    "duration": 11,
    "start_time": "2022-04-16T14:24:26.724Z"
   },
   {
    "duration": 8,
    "start_time": "2022-04-16T14:24:29.809Z"
   },
   {
    "duration": 427,
    "start_time": "2022-04-16T14:24:29.819Z"
   },
   {
    "duration": 53,
    "start_time": "2022-04-16T14:24:30.247Z"
   },
   {
    "duration": 49,
    "start_time": "2022-04-16T14:24:30.302Z"
   },
   {
    "duration": 60,
    "start_time": "2022-04-16T14:24:30.354Z"
   },
   {
    "duration": 37,
    "start_time": "2022-04-16T14:24:30.419Z"
   },
   {
    "duration": 48,
    "start_time": "2022-04-16T14:24:30.457Z"
   },
   {
    "duration": 59,
    "start_time": "2022-04-16T14:24:30.506Z"
   },
   {
    "duration": 61,
    "start_time": "2022-04-16T14:24:30.566Z"
   },
   {
    "duration": 31,
    "start_time": "2022-04-16T14:24:30.629Z"
   },
   {
    "duration": 8,
    "start_time": "2022-04-16T14:24:30.661Z"
   },
   {
    "duration": 11,
    "start_time": "2022-04-16T14:24:30.671Z"
   },
   {
    "duration": 88,
    "start_time": "2022-04-16T14:24:30.684Z"
   },
   {
    "duration": 28,
    "start_time": "2022-04-16T14:24:30.776Z"
   },
   {
    "duration": 18,
    "start_time": "2022-04-16T14:24:30.805Z"
   },
   {
    "duration": 13,
    "start_time": "2022-04-16T14:24:30.825Z"
   },
   {
    "duration": 40,
    "start_time": "2022-04-16T14:24:30.840Z"
   },
   {
    "duration": 36,
    "start_time": "2022-04-16T14:24:30.882Z"
   },
   {
    "duration": 8,
    "start_time": "2022-04-16T14:24:30.919Z"
   },
   {
    "duration": 4016,
    "start_time": "2022-04-16T14:24:30.928Z"
   },
   {
    "duration": 5,
    "start_time": "2022-04-16T14:24:34.945Z"
   },
   {
    "duration": 7,
    "start_time": "2022-04-16T14:24:34.951Z"
   },
   {
    "duration": 293,
    "start_time": "2022-04-16T14:24:34.960Z"
   },
   {
    "duration": 307,
    "start_time": "2022-04-16T14:24:35.254Z"
   },
   {
    "duration": 564,
    "start_time": "2022-04-16T14:24:35.563Z"
   },
   {
    "duration": 7,
    "start_time": "2022-04-16T14:24:36.129Z"
   },
   {
    "duration": 8,
    "start_time": "2022-04-16T14:24:36.137Z"
   },
   {
    "duration": 8,
    "start_time": "2022-04-16T14:24:36.147Z"
   },
   {
    "duration": 6,
    "start_time": "2022-04-16T14:24:36.157Z"
   },
   {
    "duration": 5,
    "start_time": "2022-04-16T14:24:36.165Z"
   },
   {
    "duration": 7,
    "start_time": "2022-04-16T14:24:36.208Z"
   },
   {
    "duration": 146,
    "start_time": "2022-04-16T14:24:36.217Z"
   },
   {
    "duration": 3,
    "start_time": "2022-04-16T14:24:36.365Z"
   },
   {
    "duration": 6,
    "start_time": "2022-04-16T14:24:36.370Z"
   },
   {
    "duration": 24,
    "start_time": "2022-04-16T14:24:36.378Z"
   },
   {
    "duration": 152,
    "start_time": "2022-04-16T14:24:36.404Z"
   },
   {
    "duration": 4,
    "start_time": "2022-04-16T14:24:36.558Z"
   },
   {
    "duration": 10,
    "start_time": "2022-04-16T14:24:36.564Z"
   },
   {
    "duration": 23,
    "start_time": "2022-04-16T14:25:50.328Z"
   },
   {
    "duration": 26,
    "start_time": "2022-04-16T14:26:03.494Z"
   },
   {
    "duration": 23,
    "start_time": "2022-04-16T14:26:11.126Z"
   },
   {
    "duration": 22,
    "start_time": "2022-04-16T14:26:21.339Z"
   },
   {
    "duration": 25,
    "start_time": "2022-04-16T14:26:30.182Z"
   },
   {
    "duration": 22,
    "start_time": "2022-04-16T14:26:42.200Z"
   },
   {
    "duration": 20,
    "start_time": "2022-04-16T14:27:12.493Z"
   },
   {
    "duration": 848,
    "start_time": "2022-04-16T14:29:00.042Z"
   },
   {
    "duration": 26,
    "start_time": "2022-04-16T14:31:09.992Z"
   },
   {
    "duration": 22,
    "start_time": "2022-04-16T14:31:24.588Z"
   },
   {
    "duration": 474,
    "start_time": "2022-04-16T14:32:35.865Z"
   },
   {
    "duration": 132,
    "start_time": "2022-04-16T14:33:47.893Z"
   },
   {
    "duration": 244,
    "start_time": "2022-04-16T14:34:01.918Z"
   },
   {
    "duration": 8,
    "start_time": "2022-04-16T14:36:16.718Z"
   },
   {
    "duration": 193,
    "start_time": "2022-04-16T14:36:49.599Z"
   },
   {
    "duration": 4152,
    "start_time": "2022-04-16T14:36:56.826Z"
   },
   {
    "duration": 2762,
    "start_time": "2022-04-16T14:37:33.873Z"
   },
   {
    "duration": 107,
    "start_time": "2022-04-16T14:43:52.218Z"
   },
   {
    "duration": 317,
    "start_time": "2022-04-16T14:44:44.333Z"
   },
   {
    "duration": 192,
    "start_time": "2022-04-16T14:44:52.222Z"
   },
   {
    "duration": 107,
    "start_time": "2022-04-16T14:45:07.991Z"
   },
   {
    "duration": 104,
    "start_time": "2022-04-16T14:45:35.520Z"
   },
   {
    "duration": 115,
    "start_time": "2022-04-16T14:46:02.555Z"
   },
   {
    "duration": 121,
    "start_time": "2022-04-16T14:46:16.222Z"
   },
   {
    "duration": 157,
    "start_time": "2022-04-16T14:46:52.400Z"
   },
   {
    "duration": 126,
    "start_time": "2022-04-16T14:47:04.897Z"
   },
   {
    "duration": 115,
    "start_time": "2022-04-16T14:47:55.104Z"
   },
   {
    "duration": 120,
    "start_time": "2022-04-16T14:49:11.280Z"
   },
   {
    "duration": 115,
    "start_time": "2022-04-16T14:49:28.088Z"
   },
   {
    "duration": 130,
    "start_time": "2022-04-16T14:49:57.983Z"
   },
   {
    "duration": 44,
    "start_time": "2022-04-16T16:33:54.387Z"
   },
   {
    "duration": 6,
    "start_time": "2022-04-16T16:33:57.025Z"
   },
   {
    "duration": 1309,
    "start_time": "2022-04-16T16:34:01.479Z"
   },
   {
    "duration": 507,
    "start_time": "2022-04-16T16:34:02.790Z"
   },
   {
    "duration": 62,
    "start_time": "2022-04-16T16:34:03.299Z"
   },
   {
    "duration": 46,
    "start_time": "2022-04-16T16:34:03.364Z"
   },
   {
    "duration": 48,
    "start_time": "2022-04-16T16:34:03.412Z"
   },
   {
    "duration": 32,
    "start_time": "2022-04-16T16:34:03.462Z"
   },
   {
    "duration": 54,
    "start_time": "2022-04-16T16:34:03.495Z"
   },
   {
    "duration": 50,
    "start_time": "2022-04-16T16:34:03.551Z"
   },
   {
    "duration": 52,
    "start_time": "2022-04-16T16:34:03.603Z"
   },
   {
    "duration": 32,
    "start_time": "2022-04-16T16:34:03.658Z"
   },
   {
    "duration": 8,
    "start_time": "2022-04-16T16:34:03.691Z"
   },
   {
    "duration": 7,
    "start_time": "2022-04-16T16:34:03.700Z"
   },
   {
    "duration": 74,
    "start_time": "2022-04-16T16:34:03.709Z"
   },
   {
    "duration": 21,
    "start_time": "2022-04-16T16:34:03.785Z"
   },
   {
    "duration": 14,
    "start_time": "2022-04-16T16:34:03.808Z"
   },
   {
    "duration": 5,
    "start_time": "2022-04-16T16:34:03.824Z"
   },
   {
    "duration": 34,
    "start_time": "2022-04-16T16:34:03.848Z"
   },
   {
    "duration": 21,
    "start_time": "2022-04-16T16:34:03.884Z"
   },
   {
    "duration": 8,
    "start_time": "2022-04-16T16:34:03.907Z"
   },
   {
    "duration": 3775,
    "start_time": "2022-04-16T16:34:03.916Z"
   },
   {
    "duration": 4,
    "start_time": "2022-04-16T16:34:07.693Z"
   },
   {
    "duration": 9,
    "start_time": "2022-04-16T16:34:07.698Z"
   },
   {
    "duration": 120,
    "start_time": "2022-04-16T16:34:07.708Z"
   },
   {
    "duration": 119,
    "start_time": "2022-04-16T16:34:07.830Z"
   },
   {
    "duration": 275,
    "start_time": "2022-04-16T16:34:07.950Z"
   },
   {
    "duration": 185,
    "start_time": "2022-04-16T16:34:08.227Z"
   },
   {
    "duration": 381,
    "start_time": "2022-04-16T16:34:08.414Z"
   },
   {
    "duration": 598,
    "start_time": "2022-04-16T16:34:08.799Z"
   },
   {
    "duration": 6,
    "start_time": "2022-04-16T16:34:09.399Z"
   },
   {
    "duration": 10,
    "start_time": "2022-04-16T16:34:09.406Z"
   },
   {
    "duration": 7,
    "start_time": "2022-04-16T16:34:09.417Z"
   },
   {
    "duration": 25,
    "start_time": "2022-04-16T16:34:09.425Z"
   },
   {
    "duration": 9,
    "start_time": "2022-04-16T16:34:09.452Z"
   },
   {
    "duration": 5,
    "start_time": "2022-04-16T16:34:09.462Z"
   },
   {
    "duration": 155,
    "start_time": "2022-04-16T16:34:09.469Z"
   },
   {
    "duration": 3,
    "start_time": "2022-04-16T16:34:09.626Z"
   },
   {
    "duration": 17,
    "start_time": "2022-04-16T16:34:09.631Z"
   },
   {
    "duration": 8,
    "start_time": "2022-04-16T16:34:09.649Z"
   },
   {
    "duration": 162,
    "start_time": "2022-04-16T16:34:09.658Z"
   },
   {
    "duration": 4,
    "start_time": "2022-04-16T16:34:09.822Z"
   },
   {
    "duration": 20,
    "start_time": "2022-04-16T16:34:09.827Z"
   },
   {
    "duration": 64,
    "start_time": "2022-04-16T16:35:03.491Z"
   },
   {
    "duration": 244,
    "start_time": "2022-04-16T16:35:12.757Z"
   },
   {
    "duration": 4550,
    "start_time": "2022-04-16T16:35:43.893Z"
   },
   {
    "duration": 188,
    "start_time": "2022-04-16T16:37:27.687Z"
   },
   {
    "duration": 13,
    "start_time": "2022-04-16T16:37:39.433Z"
   },
   {
    "duration": 184,
    "start_time": "2022-04-16T16:38:01.979Z"
   },
   {
    "duration": 112,
    "start_time": "2022-04-16T16:38:10.675Z"
   },
   {
    "duration": 18,
    "start_time": "2022-04-16T16:38:36.924Z"
   },
   {
    "duration": 10,
    "start_time": "2022-04-16T16:39:22.105Z"
   },
   {
    "duration": 5,
    "start_time": "2022-04-16T16:39:27.671Z"
   },
   {
    "duration": 2769,
    "start_time": "2022-04-16T16:39:33.241Z"
   },
   {
    "duration": 5,
    "start_time": "2022-04-16T16:42:22.238Z"
   },
   {
    "duration": 4,
    "start_time": "2022-04-16T16:42:33.168Z"
   },
   {
    "duration": 4,
    "start_time": "2022-04-16T16:43:03.109Z"
   },
   {
    "duration": 13,
    "start_time": "2022-04-16T16:43:25.178Z"
   },
   {
    "duration": 13,
    "start_time": "2022-04-16T16:43:45.933Z"
   },
   {
    "duration": 11,
    "start_time": "2022-04-16T16:43:51.500Z"
   },
   {
    "duration": 10,
    "start_time": "2022-04-16T16:44:00.558Z"
   },
   {
    "duration": 0,
    "start_time": "2022-04-16T16:45:05.519Z"
   },
   {
    "duration": 125,
    "start_time": "2022-04-16T16:45:09.340Z"
   },
   {
    "duration": 10,
    "start_time": "2022-04-16T16:45:33.175Z"
   },
   {
    "duration": 130,
    "start_time": "2022-04-16T16:45:38.045Z"
   },
   {
    "duration": 19,
    "start_time": "2022-04-16T16:46:31.248Z"
   },
   {
    "duration": 4,
    "start_time": "2022-04-16T16:47:28.492Z"
   },
   {
    "duration": 8732,
    "start_time": "2022-04-16T16:47:32.473Z"
   },
   {
    "duration": 235,
    "start_time": "2022-04-16T16:47:57.941Z"
   },
   {
    "duration": 7,
    "start_time": "2022-04-16T16:50:06.692Z"
   },
   {
    "duration": 6,
    "start_time": "2022-04-16T16:50:31.662Z"
   },
   {
    "duration": 5,
    "start_time": "2022-04-16T16:50:59.964Z"
   },
   {
    "duration": 5,
    "start_time": "2022-04-16T16:51:25.747Z"
   },
   {
    "duration": 7,
    "start_time": "2022-04-16T16:54:59.442Z"
   },
   {
    "duration": 7,
    "start_time": "2022-04-16T16:56:29.498Z"
   },
   {
    "duration": 6,
    "start_time": "2022-04-16T16:57:14.943Z"
   },
   {
    "duration": 115,
    "start_time": "2022-04-16T17:00:40.860Z"
   },
   {
    "duration": 119,
    "start_time": "2022-04-16T17:00:47.262Z"
   },
   {
    "duration": 122,
    "start_time": "2022-04-16T17:01:14.804Z"
   },
   {
    "duration": 123,
    "start_time": "2022-04-16T17:01:40.364Z"
   },
   {
    "duration": 123,
    "start_time": "2022-04-16T17:01:53.971Z"
   },
   {
    "duration": 118,
    "start_time": "2022-04-16T17:04:31.868Z"
   },
   {
    "duration": 159,
    "start_time": "2022-04-16T17:04:53.640Z"
   },
   {
    "duration": 130,
    "start_time": "2022-04-16T17:05:03.130Z"
   },
   {
    "duration": 125,
    "start_time": "2022-04-16T17:05:08.687Z"
   },
   {
    "duration": 128,
    "start_time": "2022-04-16T17:13:10.244Z"
   },
   {
    "duration": 146,
    "start_time": "2022-04-16T17:13:14.918Z"
   },
   {
    "duration": 8,
    "start_time": "2022-04-16T17:15:44.747Z"
   },
   {
    "duration": 133,
    "start_time": "2022-04-16T17:18:09.596Z"
   },
   {
    "duration": 143,
    "start_time": "2022-04-16T17:18:31.752Z"
   },
   {
    "duration": 134,
    "start_time": "2022-04-16T17:18:44.615Z"
   },
   {
    "duration": 114,
    "start_time": "2022-04-16T17:44:04.393Z"
   },
   {
    "duration": 5,
    "start_time": "2022-04-16T17:44:16.747Z"
   },
   {
    "duration": 164,
    "start_time": "2022-04-16T17:51:54.420Z"
   },
   {
    "duration": 5,
    "start_time": "2022-04-16T17:54:04.308Z"
   },
   {
    "duration": 4,
    "start_time": "2022-04-16T17:58:02.417Z"
   },
   {
    "duration": 5,
    "start_time": "2022-04-16T17:59:13.320Z"
   },
   {
    "duration": 5,
    "start_time": "2022-04-16T18:03:03.749Z"
   },
   {
    "duration": 5,
    "start_time": "2022-04-16T18:03:27.269Z"
   },
   {
    "duration": 5,
    "start_time": "2022-04-16T18:03:36.246Z"
   },
   {
    "duration": 12,
    "start_time": "2022-04-16T18:05:39.421Z"
   },
   {
    "duration": 110,
    "start_time": "2022-04-16T18:06:20.816Z"
   },
   {
    "duration": 105,
    "start_time": "2022-04-16T18:09:08.993Z"
   },
   {
    "duration": 10,
    "start_time": "2022-04-16T18:10:51.048Z"
   },
   {
    "duration": 10,
    "start_time": "2022-04-16T18:11:15.875Z"
   },
   {
    "duration": 9,
    "start_time": "2022-04-16T18:11:35.438Z"
   },
   {
    "duration": 1774,
    "start_time": "2022-04-16T18:11:43.127Z"
   },
   {
    "duration": 10,
    "start_time": "2022-04-16T18:11:53.137Z"
   },
   {
    "duration": 10,
    "start_time": "2022-04-16T18:12:18.025Z"
   },
   {
    "duration": 105,
    "start_time": "2022-04-16T18:13:10.501Z"
   },
   {
    "duration": 3,
    "start_time": "2022-04-16T18:13:16.446Z"
   },
   {
    "duration": 12,
    "start_time": "2022-04-16T18:13:33.296Z"
   },
   {
    "duration": 9,
    "start_time": "2022-04-16T18:13:39.509Z"
   },
   {
    "duration": 8,
    "start_time": "2022-04-16T18:13:44.122Z"
   },
   {
    "duration": 24,
    "start_time": "2022-04-16T18:14:15.372Z"
   },
   {
    "duration": 10,
    "start_time": "2022-04-16T18:14:20.415Z"
   },
   {
    "duration": 9,
    "start_time": "2022-04-16T18:14:35.625Z"
   },
   {
    "duration": 9,
    "start_time": "2022-04-16T18:14:42.615Z"
   },
   {
    "duration": 8,
    "start_time": "2022-04-16T18:14:54.830Z"
   },
   {
    "duration": 20,
    "start_time": "2022-04-16T18:15:01.751Z"
   },
   {
    "duration": 19,
    "start_time": "2022-04-16T18:16:00.882Z"
   },
   {
    "duration": 5,
    "start_time": "2022-04-16T18:16:12.899Z"
   },
   {
    "duration": 6,
    "start_time": "2022-04-16T18:16:19.532Z"
   },
   {
    "duration": 19,
    "start_time": "2022-04-16T18:16:32.929Z"
   },
   {
    "duration": 6,
    "start_time": "2022-04-16T18:16:51.488Z"
   },
   {
    "duration": 5,
    "start_time": "2022-04-16T18:17:00.889Z"
   },
   {
    "duration": 4,
    "start_time": "2022-04-16T18:17:18.221Z"
   },
   {
    "duration": 20,
    "start_time": "2022-04-16T18:17:27.079Z"
   },
   {
    "duration": 11,
    "start_time": "2022-04-16T18:17:56.114Z"
   },
   {
    "duration": 5,
    "start_time": "2022-04-16T18:18:04.452Z"
   },
   {
    "duration": 5,
    "start_time": "2022-04-16T18:18:21.108Z"
   },
   {
    "duration": 162,
    "start_time": "2022-04-16T18:18:38.539Z"
   },
   {
    "duration": 112,
    "start_time": "2022-04-16T18:18:53.211Z"
   },
   {
    "duration": 125,
    "start_time": "2022-04-16T18:19:02.337Z"
   },
   {
    "duration": 140,
    "start_time": "2022-04-16T18:19:09.279Z"
   },
   {
    "duration": 140,
    "start_time": "2022-04-16T18:19:16.688Z"
   },
   {
    "duration": 120,
    "start_time": "2022-04-16T18:19:42.842Z"
   },
   {
    "duration": 123,
    "start_time": "2022-04-16T18:20:26.668Z"
   },
   {
    "duration": 6,
    "start_time": "2022-04-16T18:20:54.565Z"
   },
   {
    "duration": 6,
    "start_time": "2022-04-16T18:21:02.560Z"
   },
   {
    "duration": 120,
    "start_time": "2022-04-16T18:21:21.729Z"
   },
   {
    "duration": 119,
    "start_time": "2022-04-16T18:22:02.988Z"
   },
   {
    "duration": 121,
    "start_time": "2022-04-16T18:22:10.241Z"
   },
   {
    "duration": 123,
    "start_time": "2022-04-16T18:22:29.203Z"
   },
   {
    "duration": 119,
    "start_time": "2022-04-16T18:22:59.299Z"
   },
   {
    "duration": 5,
    "start_time": "2022-04-16T18:24:11.158Z"
   },
   {
    "duration": 5,
    "start_time": "2022-04-16T18:24:44.918Z"
   },
   {
    "duration": 133,
    "start_time": "2022-04-16T18:25:30.414Z"
   },
   {
    "duration": 6,
    "start_time": "2022-04-16T18:25:45.780Z"
   },
   {
    "duration": 134,
    "start_time": "2022-04-16T18:25:49.118Z"
   },
   {
    "duration": 148,
    "start_time": "2022-04-16T18:26:03.348Z"
   },
   {
    "duration": 5,
    "start_time": "2022-04-16T18:26:15.048Z"
   },
   {
    "duration": 143,
    "start_time": "2022-04-16T18:26:19.913Z"
   },
   {
    "duration": 105,
    "start_time": "2022-04-16T18:26:36.660Z"
   },
   {
    "duration": 119,
    "start_time": "2022-04-16T18:26:52.307Z"
   },
   {
    "duration": 190,
    "start_time": "2022-04-16T18:27:23.014Z"
   },
   {
    "duration": 121,
    "start_time": "2022-04-16T18:27:29.821Z"
   },
   {
    "duration": 119,
    "start_time": "2022-04-16T18:28:21.506Z"
   },
   {
    "duration": 112,
    "start_time": "2022-04-16T18:29:04.408Z"
   },
   {
    "duration": 121,
    "start_time": "2022-04-16T18:29:18.910Z"
   },
   {
    "duration": 122,
    "start_time": "2022-04-16T18:29:59.963Z"
   },
   {
    "duration": 3,
    "start_time": "2022-04-16T18:30:10.089Z"
   },
   {
    "duration": 127,
    "start_time": "2022-04-16T18:30:19.922Z"
   },
   {
    "duration": 124,
    "start_time": "2022-04-16T18:30:57.952Z"
   },
   {
    "duration": 5,
    "start_time": "2022-04-16T18:32:32.668Z"
   },
   {
    "duration": 9,
    "start_time": "2022-04-16T18:32:43.055Z"
   },
   {
    "duration": 6,
    "start_time": "2022-04-16T18:32:49.162Z"
   },
   {
    "duration": 1247,
    "start_time": "2022-04-16T18:52:11.480Z"
   },
   {
    "duration": 443,
    "start_time": "2022-04-16T18:52:12.728Z"
   },
   {
    "duration": 68,
    "start_time": "2022-04-16T18:52:13.173Z"
   },
   {
    "duration": 43,
    "start_time": "2022-04-16T18:52:13.246Z"
   },
   {
    "duration": 31,
    "start_time": "2022-04-16T18:52:13.291Z"
   },
   {
    "duration": 57,
    "start_time": "2022-04-16T18:52:13.323Z"
   },
   {
    "duration": 26,
    "start_time": "2022-04-16T18:52:13.382Z"
   },
   {
    "duration": 82,
    "start_time": "2022-04-16T18:52:13.409Z"
   },
   {
    "duration": 38,
    "start_time": "2022-04-16T18:52:13.493Z"
   },
   {
    "duration": 41,
    "start_time": "2022-04-16T18:52:13.534Z"
   },
   {
    "duration": 7,
    "start_time": "2022-04-16T18:52:13.577Z"
   },
   {
    "duration": 6,
    "start_time": "2022-04-16T18:52:13.586Z"
   },
   {
    "duration": 81,
    "start_time": "2022-04-16T18:52:13.593Z"
   },
   {
    "duration": 24,
    "start_time": "2022-04-16T18:52:13.676Z"
   },
   {
    "duration": 16,
    "start_time": "2022-04-16T18:52:13.702Z"
   },
   {
    "duration": 5,
    "start_time": "2022-04-16T18:52:13.719Z"
   },
   {
    "duration": 55,
    "start_time": "2022-04-16T18:52:13.725Z"
   },
   {
    "duration": 20,
    "start_time": "2022-04-16T18:52:13.782Z"
   },
   {
    "duration": 7,
    "start_time": "2022-04-16T18:52:13.803Z"
   },
   {
    "duration": 4209,
    "start_time": "2022-04-16T18:52:13.811Z"
   },
   {
    "duration": 4,
    "start_time": "2022-04-16T18:52:18.021Z"
   },
   {
    "duration": 22,
    "start_time": "2022-04-16T18:52:18.027Z"
   },
   {
    "duration": 12,
    "start_time": "2022-04-16T18:52:18.051Z"
   },
   {
    "duration": 149,
    "start_time": "2022-04-16T18:52:18.065Z"
   },
   {
    "duration": 138,
    "start_time": "2022-04-16T18:52:18.216Z"
   },
   {
    "duration": 204,
    "start_time": "2022-04-16T18:52:18.357Z"
   },
   {
    "duration": 139,
    "start_time": "2022-04-16T18:52:18.563Z"
   },
   {
    "duration": 127,
    "start_time": "2022-04-16T18:52:18.705Z"
   },
   {
    "duration": 15,
    "start_time": "2022-04-16T18:52:18.833Z"
   },
   {
    "duration": 8,
    "start_time": "2022-04-16T18:52:18.849Z"
   },
   {
    "duration": 11,
    "start_time": "2022-04-16T18:52:18.858Z"
   },
   {
    "duration": 17,
    "start_time": "2022-04-16T18:52:18.870Z"
   },
   {
    "duration": 150,
    "start_time": "2022-04-16T18:52:18.889Z"
   },
   {
    "duration": 9,
    "start_time": "2022-04-16T18:52:19.041Z"
   },
   {
    "duration": 9,
    "start_time": "2022-04-16T18:52:19.052Z"
   },
   {
    "duration": 9,
    "start_time": "2022-04-16T18:52:19.063Z"
   },
   {
    "duration": 169,
    "start_time": "2022-04-16T18:52:19.073Z"
   },
   {
    "duration": 4,
    "start_time": "2022-04-16T18:52:19.247Z"
   },
   {
    "duration": 6,
    "start_time": "2022-04-16T18:52:19.252Z"
   },
   {
    "duration": 70,
    "start_time": "2022-04-17T08:06:35.866Z"
   },
   {
    "duration": 8,
    "start_time": "2022-04-17T08:06:51.368Z"
   },
   {
    "duration": 8,
    "start_time": "2022-04-17T08:12:55.428Z"
   },
   {
    "duration": 11,
    "start_time": "2022-04-17T08:12:58.494Z"
   },
   {
    "duration": 1820,
    "start_time": "2022-04-17T08:13:04.360Z"
   },
   {
    "duration": 523,
    "start_time": "2022-04-17T08:13:06.183Z"
   },
   {
    "duration": 81,
    "start_time": "2022-04-17T08:13:06.709Z"
   },
   {
    "duration": 79,
    "start_time": "2022-04-17T08:13:06.793Z"
   },
   {
    "duration": 72,
    "start_time": "2022-04-17T08:13:06.874Z"
   },
   {
    "duration": 78,
    "start_time": "2022-04-17T08:13:06.948Z"
   },
   {
    "duration": 42,
    "start_time": "2022-04-17T08:13:07.028Z"
   },
   {
    "duration": 114,
    "start_time": "2022-04-17T08:13:07.073Z"
   },
   {
    "duration": 67,
    "start_time": "2022-04-17T08:13:07.189Z"
   },
   {
    "duration": 49,
    "start_time": "2022-04-17T08:13:07.260Z"
   },
   {
    "duration": 11,
    "start_time": "2022-04-17T08:13:07.324Z"
   },
   {
    "duration": 10,
    "start_time": "2022-04-17T08:13:07.337Z"
   },
   {
    "duration": 92,
    "start_time": "2022-04-17T08:13:07.349Z"
   },
   {
    "duration": 31,
    "start_time": "2022-04-17T08:13:07.443Z"
   },
   {
    "duration": 21,
    "start_time": "2022-04-17T08:13:07.476Z"
   },
   {
    "duration": 30,
    "start_time": "2022-04-17T08:13:07.499Z"
   },
   {
    "duration": 64,
    "start_time": "2022-04-17T08:13:07.531Z"
   },
   {
    "duration": 49,
    "start_time": "2022-04-17T08:13:07.597Z"
   },
   {
    "duration": 12,
    "start_time": "2022-04-17T08:13:07.648Z"
   },
   {
    "duration": 8237,
    "start_time": "2022-04-17T08:13:07.662Z"
   },
   {
    "duration": 7,
    "start_time": "2022-04-17T08:13:15.901Z"
   },
   {
    "duration": 9,
    "start_time": "2022-04-17T08:13:15.924Z"
   },
   {
    "duration": 20,
    "start_time": "2022-04-17T08:13:15.936Z"
   },
   {
    "duration": 284,
    "start_time": "2022-04-17T08:13:15.959Z"
   },
   {
    "duration": 343,
    "start_time": "2022-04-17T08:13:16.246Z"
   },
   {
    "duration": 495,
    "start_time": "2022-04-17T08:13:16.592Z"
   },
   {
    "duration": 385,
    "start_time": "2022-04-17T08:13:17.090Z"
   },
   {
    "duration": 328,
    "start_time": "2022-04-17T08:13:17.482Z"
   },
   {
    "duration": 20,
    "start_time": "2022-04-17T08:13:17.813Z"
   },
   {
    "duration": 15,
    "start_time": "2022-04-17T08:13:17.835Z"
   },
   {
    "duration": 13,
    "start_time": "2022-04-17T08:13:17.853Z"
   },
   {
    "duration": 11,
    "start_time": "2022-04-17T08:13:17.868Z"
   },
   {
    "duration": 302,
    "start_time": "2022-04-17T08:13:17.881Z"
   },
   {
    "duration": 6,
    "start_time": "2022-04-17T08:13:18.185Z"
   },
   {
    "duration": 38,
    "start_time": "2022-04-17T08:13:18.194Z"
   },
   {
    "duration": 8,
    "start_time": "2022-04-17T08:13:18.236Z"
   },
   {
    "duration": 19,
    "start_time": "2022-04-17T08:13:18.247Z"
   },
   {
    "duration": 481,
    "start_time": "2022-04-17T08:13:18.269Z"
   },
   {
    "duration": 7,
    "start_time": "2022-04-17T08:13:18.753Z"
   },
   {
    "duration": 9,
    "start_time": "2022-04-17T08:13:18.763Z"
   },
   {
    "duration": 8,
    "start_time": "2022-04-17T08:13:52.928Z"
   },
   {
    "duration": 6,
    "start_time": "2022-04-17T08:14:07.976Z"
   },
   {
    "duration": 63,
    "start_time": "2022-04-17T16:12:59.118Z"
   },
   {
    "duration": 1242,
    "start_time": "2022-04-17T16:16:30.639Z"
   },
   {
    "duration": 391,
    "start_time": "2022-04-17T16:16:31.883Z"
   },
   {
    "duration": 52,
    "start_time": "2022-04-17T16:16:32.276Z"
   },
   {
    "duration": 41,
    "start_time": "2022-04-17T16:16:32.330Z"
   },
   {
    "duration": 49,
    "start_time": "2022-04-17T16:16:32.373Z"
   },
   {
    "duration": 31,
    "start_time": "2022-04-17T16:16:32.424Z"
   },
   {
    "duration": 49,
    "start_time": "2022-04-17T16:16:32.457Z"
   },
   {
    "duration": 50,
    "start_time": "2022-04-17T16:16:32.508Z"
   },
   {
    "duration": 52,
    "start_time": "2022-04-17T16:16:32.560Z"
   },
   {
    "duration": 33,
    "start_time": "2022-04-17T16:16:32.614Z"
   },
   {
    "duration": 7,
    "start_time": "2022-04-17T16:16:32.648Z"
   },
   {
    "duration": 6,
    "start_time": "2022-04-17T16:16:32.657Z"
   },
   {
    "duration": 73,
    "start_time": "2022-04-17T16:16:32.665Z"
   },
   {
    "duration": 29,
    "start_time": "2022-04-17T16:16:32.740Z"
   },
   {
    "duration": 31,
    "start_time": "2022-04-17T16:16:32.771Z"
   },
   {
    "duration": 5,
    "start_time": "2022-04-17T16:16:32.804Z"
   },
   {
    "duration": 38,
    "start_time": "2022-04-17T16:16:32.810Z"
   },
   {
    "duration": 22,
    "start_time": "2022-04-17T16:16:32.849Z"
   },
   {
    "duration": 30,
    "start_time": "2022-04-17T16:16:32.873Z"
   },
   {
    "duration": 3945,
    "start_time": "2022-04-17T16:16:32.905Z"
   },
   {
    "duration": 5,
    "start_time": "2022-04-17T16:16:36.851Z"
   },
   {
    "duration": 10,
    "start_time": "2022-04-17T16:16:36.858Z"
   },
   {
    "duration": 30,
    "start_time": "2022-04-17T16:16:36.870Z"
   },
   {
    "duration": 198,
    "start_time": "2022-04-17T16:16:36.902Z"
   },
   {
    "duration": 174,
    "start_time": "2022-04-17T16:16:37.102Z"
   },
   {
    "duration": 260,
    "start_time": "2022-04-17T16:16:37.278Z"
   },
   {
    "duration": 185,
    "start_time": "2022-04-17T16:16:37.539Z"
   },
   {
    "duration": 182,
    "start_time": "2022-04-17T16:16:37.727Z"
   },
   {
    "duration": 7,
    "start_time": "2022-04-17T16:16:37.911Z"
   },
   {
    "duration": 7,
    "start_time": "2022-04-17T16:16:37.920Z"
   },
   {
    "duration": 7,
    "start_time": "2022-04-17T16:16:37.929Z"
   },
   {
    "duration": 5,
    "start_time": "2022-04-17T16:16:37.938Z"
   },
   {
    "duration": 173,
    "start_time": "2022-04-17T16:16:37.944Z"
   },
   {
    "duration": 4,
    "start_time": "2022-04-17T16:16:38.118Z"
   },
   {
    "duration": 6,
    "start_time": "2022-04-17T16:16:38.124Z"
   },
   {
    "duration": 9,
    "start_time": "2022-04-17T16:16:38.131Z"
   },
   {
    "duration": 10,
    "start_time": "2022-04-17T16:16:38.141Z"
   },
   {
    "duration": 170,
    "start_time": "2022-04-17T16:16:38.153Z"
   },
   {
    "duration": 3,
    "start_time": "2022-04-17T16:16:38.325Z"
   },
   {
    "duration": 8,
    "start_time": "2022-04-17T16:16:38.330Z"
   },
   {
    "duration": 5,
    "start_time": "2022-04-17T16:17:50.467Z"
   },
   {
    "duration": 7,
    "start_time": "2022-04-17T16:18:32.501Z"
   },
   {
    "duration": 5,
    "start_time": "2022-04-17T16:25:54.395Z"
   },
   {
    "duration": 6,
    "start_time": "2022-04-17T16:26:19.367Z"
   },
   {
    "duration": 77,
    "start_time": "2022-04-23T13:31:24.232Z"
   },
   {
    "duration": 1865,
    "start_time": "2022-04-23T13:31:29.680Z"
   },
   {
    "duration": 576,
    "start_time": "2022-04-23T13:31:31.549Z"
   },
   {
    "duration": 86,
    "start_time": "2022-04-23T13:31:32.127Z"
   },
   {
    "duration": 92,
    "start_time": "2022-04-23T13:31:32.218Z"
   },
   {
    "duration": 53,
    "start_time": "2022-04-23T13:31:32.313Z"
   },
   {
    "duration": 58,
    "start_time": "2022-04-23T13:31:32.386Z"
   },
   {
    "duration": 74,
    "start_time": "2022-04-23T13:31:32.446Z"
   },
   {
    "duration": 94,
    "start_time": "2022-04-23T13:31:32.522Z"
   },
   {
    "duration": 74,
    "start_time": "2022-04-23T13:31:32.618Z"
   },
   {
    "duration": 68,
    "start_time": "2022-04-23T13:31:32.697Z"
   },
   {
    "duration": 30,
    "start_time": "2022-04-23T13:31:32.770Z"
   },
   {
    "duration": 7,
    "start_time": "2022-04-23T13:31:32.802Z"
   },
   {
    "duration": 93,
    "start_time": "2022-04-23T13:31:32.812Z"
   },
   {
    "duration": 32,
    "start_time": "2022-04-23T13:31:32.907Z"
   },
   {
    "duration": 22,
    "start_time": "2022-04-23T13:31:32.941Z"
   },
   {
    "duration": 24,
    "start_time": "2022-04-23T13:31:32.966Z"
   },
   {
    "duration": 89,
    "start_time": "2022-04-23T13:31:32.992Z"
   },
   {
    "duration": 36,
    "start_time": "2022-04-23T13:31:33.086Z"
   },
   {
    "duration": 10,
    "start_time": "2022-04-23T13:31:33.125Z"
   },
   {
    "duration": 8931,
    "start_time": "2022-04-23T13:31:33.137Z"
   },
   {
    "duration": 19,
    "start_time": "2022-04-23T13:31:42.070Z"
   },
   {
    "duration": 20,
    "start_time": "2022-04-23T13:31:42.091Z"
   },
   {
    "duration": 24,
    "start_time": "2022-04-23T13:31:42.113Z"
   },
   {
    "duration": 372,
    "start_time": "2022-04-23T13:31:42.139Z"
   },
   {
    "duration": 249,
    "start_time": "2022-04-23T13:31:42.513Z"
   },
   {
    "duration": 418,
    "start_time": "2022-04-23T13:31:42.764Z"
   },
   {
    "duration": 246,
    "start_time": "2022-04-23T13:31:43.185Z"
   },
   {
    "duration": 314,
    "start_time": "2022-04-23T13:31:43.436Z"
   },
   {
    "duration": 10,
    "start_time": "2022-04-23T13:31:43.752Z"
   },
   {
    "duration": 26,
    "start_time": "2022-04-23T13:31:43.764Z"
   },
   {
    "duration": 19,
    "start_time": "2022-04-23T13:31:43.792Z"
   },
   {
    "duration": 13,
    "start_time": "2022-04-23T13:31:43.814Z"
   },
   {
    "duration": 297,
    "start_time": "2022-04-23T13:31:43.830Z"
   },
   {
    "duration": 6,
    "start_time": "2022-04-23T13:31:44.129Z"
   },
   {
    "duration": 9,
    "start_time": "2022-04-23T13:31:44.137Z"
   },
   {
    "duration": 33,
    "start_time": "2022-04-23T13:31:44.148Z"
   },
   {
    "duration": 19,
    "start_time": "2022-04-23T13:31:44.183Z"
   },
   {
    "duration": 299,
    "start_time": "2022-04-23T13:31:44.204Z"
   },
   {
    "duration": 6,
    "start_time": "2022-04-23T13:31:44.505Z"
   },
   {
    "duration": 10,
    "start_time": "2022-04-23T13:31:44.513Z"
   },
   {
    "duration": 9,
    "start_time": "2022-04-23T13:31:56.839Z"
   },
   {
    "duration": 12,
    "start_time": "2022-04-23T13:32:07.038Z"
   },
   {
    "duration": 1331,
    "start_time": "2022-05-07T17:35:39.747Z"
   },
   {
    "duration": 406,
    "start_time": "2022-05-07T17:35:41.081Z"
   },
   {
    "duration": 64,
    "start_time": "2022-05-07T17:35:41.489Z"
   },
   {
    "duration": 69,
    "start_time": "2022-05-07T17:35:41.555Z"
   },
   {
    "duration": 44,
    "start_time": "2022-05-07T17:35:41.626Z"
   },
   {
    "duration": 68,
    "start_time": "2022-05-07T17:35:41.671Z"
   },
   {
    "duration": 35,
    "start_time": "2022-05-07T17:35:41.741Z"
   },
   {
    "duration": 83,
    "start_time": "2022-05-07T17:35:41.777Z"
   },
   {
    "duration": 59,
    "start_time": "2022-05-07T17:35:41.862Z"
   },
   {
    "duration": 36,
    "start_time": "2022-05-07T17:35:41.925Z"
   },
   {
    "duration": 9,
    "start_time": "2022-05-07T17:35:41.962Z"
   },
   {
    "duration": 19,
    "start_time": "2022-05-07T17:35:41.972Z"
   },
   {
    "duration": 65,
    "start_time": "2022-05-07T17:35:41.993Z"
   },
   {
    "duration": 23,
    "start_time": "2022-05-07T17:35:42.060Z"
   },
   {
    "duration": 35,
    "start_time": "2022-05-07T17:35:42.085Z"
   },
   {
    "duration": 10,
    "start_time": "2022-05-07T17:35:42.122Z"
   },
   {
    "duration": 46,
    "start_time": "2022-05-07T17:35:42.134Z"
   },
   {
    "duration": 50,
    "start_time": "2022-05-07T17:35:42.182Z"
   },
   {
    "duration": 8,
    "start_time": "2022-05-07T17:35:42.233Z"
   },
   {
    "duration": 5161,
    "start_time": "2022-05-07T17:35:42.242Z"
   },
   {
    "duration": 6,
    "start_time": "2022-05-07T17:35:47.404Z"
   },
   {
    "duration": 6,
    "start_time": "2022-05-07T17:35:47.412Z"
   },
   {
    "duration": 14,
    "start_time": "2022-05-07T17:35:47.421Z"
   },
   {
    "duration": 211,
    "start_time": "2022-05-07T17:35:47.437Z"
   },
   {
    "duration": 169,
    "start_time": "2022-05-07T17:35:47.650Z"
   },
   {
    "duration": 222,
    "start_time": "2022-05-07T17:35:47.822Z"
   },
   {
    "duration": 165,
    "start_time": "2022-05-07T17:35:48.046Z"
   },
   {
    "duration": 171,
    "start_time": "2022-05-07T17:35:48.215Z"
   },
   {
    "duration": 7,
    "start_time": "2022-05-07T17:35:48.388Z"
   },
   {
    "duration": 21,
    "start_time": "2022-05-07T17:35:48.396Z"
   },
   {
    "duration": 10,
    "start_time": "2022-05-07T17:35:48.419Z"
   },
   {
    "duration": 11,
    "start_time": "2022-05-07T17:35:48.431Z"
   },
   {
    "duration": 199,
    "start_time": "2022-05-07T17:35:48.443Z"
   },
   {
    "duration": 5,
    "start_time": "2022-05-07T17:35:48.644Z"
   },
   {
    "duration": 12,
    "start_time": "2022-05-07T17:35:48.651Z"
   },
   {
    "duration": 8,
    "start_time": "2022-05-07T17:35:48.664Z"
   },
   {
    "duration": 10,
    "start_time": "2022-05-07T17:35:48.673Z"
   },
   {
    "duration": 159,
    "start_time": "2022-05-07T17:35:48.717Z"
   },
   {
    "duration": 5,
    "start_time": "2022-05-07T17:35:48.877Z"
   },
   {
    "duration": 7,
    "start_time": "2022-05-07T17:35:48.883Z"
   },
   {
    "duration": 1389,
    "start_time": "2022-05-08T09:14:00.205Z"
   },
   {
    "duration": 372,
    "start_time": "2022-05-08T09:14:05.799Z"
   },
   {
    "duration": 4,
    "start_time": "2022-05-08T09:14:17.182Z"
   },
   {
    "duration": 193,
    "start_time": "2022-05-08T09:14:34.573Z"
   },
   {
    "duration": 316,
    "start_time": "2022-05-08T09:15:09.705Z"
   },
   {
    "duration": 431,
    "start_time": "2022-05-08T09:15:53.730Z"
   },
   {
    "duration": 470,
    "start_time": "2022-05-08T09:17:22.938Z"
   },
   {
    "duration": 479,
    "start_time": "2022-05-08T09:17:44.182Z"
   },
   {
    "duration": 481,
    "start_time": "2022-05-08T09:18:04.378Z"
   },
   {
    "duration": 44,
    "start_time": "2022-05-08T09:19:48.281Z"
   },
   {
    "duration": 37,
    "start_time": "2022-05-08T09:19:49.225Z"
   },
   {
    "duration": 28,
    "start_time": "2022-05-08T09:19:49.931Z"
   },
   {
    "duration": 8,
    "start_time": "2022-05-08T09:19:50.812Z"
   },
   {
    "duration": 4,
    "start_time": "2022-05-08T09:20:02.445Z"
   },
   {
    "duration": 4,
    "start_time": "2022-05-08T09:20:16.108Z"
   },
   {
    "duration": 9,
    "start_time": "2022-05-08T09:20:28.893Z"
   },
   {
    "duration": 11,
    "start_time": "2022-05-08T09:22:30.052Z"
   },
   {
    "duration": 1384,
    "start_time": "2022-05-09T11:05:23.461Z"
   },
   {
    "duration": 431,
    "start_time": "2022-05-09T11:05:24.847Z"
   },
   {
    "duration": 3,
    "start_time": "2022-05-09T11:05:25.280Z"
   },
   {
    "duration": 572,
    "start_time": "2022-05-09T11:05:25.285Z"
   },
   {
    "duration": 46,
    "start_time": "2022-05-09T11:05:25.859Z"
   },
   {
    "duration": 52,
    "start_time": "2022-05-09T11:05:25.907Z"
   },
   {
    "duration": 29,
    "start_time": "2022-05-09T11:05:25.961Z"
   },
   {
    "duration": 7,
    "start_time": "2022-05-09T11:05:25.992Z"
   },
   {
    "duration": 32,
    "start_time": "2022-05-09T11:05:26.001Z"
   },
   {
    "duration": 121,
    "start_time": "2022-05-09T11:05:26.036Z"
   },
   {
    "duration": 0,
    "start_time": "2022-05-09T11:05:26.159Z"
   },
   {
    "duration": 0,
    "start_time": "2022-05-09T11:05:26.161Z"
   },
   {
    "duration": 0,
    "start_time": "2022-05-09T11:05:26.162Z"
   },
   {
    "duration": 0,
    "start_time": "2022-05-09T11:05:26.163Z"
   },
   {
    "duration": 0,
    "start_time": "2022-05-09T11:05:26.165Z"
   },
   {
    "duration": 0,
    "start_time": "2022-05-09T11:05:26.166Z"
   },
   {
    "duration": 0,
    "start_time": "2022-05-09T11:05:26.167Z"
   },
   {
    "duration": 0,
    "start_time": "2022-05-09T11:05:26.168Z"
   },
   {
    "duration": 0,
    "start_time": "2022-05-09T11:05:26.170Z"
   },
   {
    "duration": 0,
    "start_time": "2022-05-09T11:05:26.171Z"
   },
   {
    "duration": 0,
    "start_time": "2022-05-09T11:05:26.173Z"
   },
   {
    "duration": 0,
    "start_time": "2022-05-09T11:05:26.174Z"
   },
   {
    "duration": 0,
    "start_time": "2022-05-09T11:05:26.176Z"
   },
   {
    "duration": 1,
    "start_time": "2022-05-09T11:05:26.177Z"
   },
   {
    "duration": 0,
    "start_time": "2022-05-09T11:05:26.179Z"
   },
   {
    "duration": 0,
    "start_time": "2022-05-09T11:05:26.181Z"
   },
   {
    "duration": 0,
    "start_time": "2022-05-09T11:05:26.182Z"
   },
   {
    "duration": 0,
    "start_time": "2022-05-09T11:05:26.183Z"
   },
   {
    "duration": 0,
    "start_time": "2022-05-09T11:05:26.185Z"
   },
   {
    "duration": 0,
    "start_time": "2022-05-09T11:05:26.186Z"
   },
   {
    "duration": 1,
    "start_time": "2022-05-09T11:05:26.187Z"
   },
   {
    "duration": 0,
    "start_time": "2022-05-09T11:05:26.234Z"
   },
   {
    "duration": 0,
    "start_time": "2022-05-09T11:05:26.236Z"
   },
   {
    "duration": 0,
    "start_time": "2022-05-09T11:05:26.237Z"
   },
   {
    "duration": 0,
    "start_time": "2022-05-09T11:05:26.239Z"
   },
   {
    "duration": 0,
    "start_time": "2022-05-09T11:05:26.240Z"
   },
   {
    "duration": 0,
    "start_time": "2022-05-09T11:05:26.242Z"
   },
   {
    "duration": 17,
    "start_time": "2022-05-09T11:06:09.794Z"
   },
   {
    "duration": 11,
    "start_time": "2022-05-09T11:06:18.789Z"
   },
   {
    "duration": 97,
    "start_time": "2022-05-09T11:06:47.343Z"
   },
   {
    "duration": 90,
    "start_time": "2022-05-09T11:06:53.410Z"
   },
   {
    "duration": 77,
    "start_time": "2022-05-09T11:07:02.547Z"
   },
   {
    "duration": 13,
    "start_time": "2022-05-09T11:07:32.051Z"
   },
   {
    "duration": 34,
    "start_time": "2022-05-09T11:07:41.995Z"
   },
   {
    "duration": 47,
    "start_time": "2022-05-09T11:07:53.155Z"
   },
   {
    "duration": 12,
    "start_time": "2022-05-09T11:08:07.224Z"
   },
   {
    "duration": 31,
    "start_time": "2022-05-09T11:08:14.699Z"
   },
   {
    "duration": 33,
    "start_time": "2022-05-09T11:08:29.882Z"
   },
   {
    "duration": 29,
    "start_time": "2022-05-09T11:08:33.816Z"
   },
   {
    "duration": 6,
    "start_time": "2022-05-09T11:08:38.868Z"
   },
   {
    "duration": 17,
    "start_time": "2022-05-09T11:08:50.623Z"
   },
   {
    "duration": 62,
    "start_time": "2022-05-09T11:12:09.157Z"
   },
   {
    "duration": 12,
    "start_time": "2022-05-09T11:12:12.727Z"
   },
   {
    "duration": 42,
    "start_time": "2022-05-09T11:12:59.381Z"
   },
   {
    "duration": 47,
    "start_time": "2022-05-09T11:13:05.469Z"
   },
   {
    "duration": 36,
    "start_time": "2022-05-09T11:13:14.335Z"
   },
   {
    "duration": 51,
    "start_time": "2022-05-09T11:13:59.404Z"
   },
   {
    "duration": 47,
    "start_time": "2022-05-09T11:14:23.762Z"
   },
   {
    "duration": 6,
    "start_time": "2022-05-09T11:14:56.814Z"
   },
   {
    "duration": 14,
    "start_time": "2022-05-09T11:15:25.728Z"
   },
   {
    "duration": 3,
    "start_time": "2022-05-09T11:15:30.319Z"
   },
   {
    "duration": 457,
    "start_time": "2022-05-09T11:15:30.327Z"
   },
   {
    "duration": 4,
    "start_time": "2022-05-09T11:15:30.786Z"
   },
   {
    "duration": 608,
    "start_time": "2022-05-09T11:15:30.792Z"
   },
   {
    "duration": 180,
    "start_time": "2022-05-09T11:15:31.403Z"
   },
   {
    "duration": 76,
    "start_time": "2022-05-09T11:15:31.585Z"
   },
   {
    "duration": 53,
    "start_time": "2022-05-09T11:15:31.663Z"
   },
   {
    "duration": 17,
    "start_time": "2022-05-09T11:15:31.718Z"
   },
   {
    "duration": 9,
    "start_time": "2022-05-09T11:15:31.737Z"
   },
   {
    "duration": 57,
    "start_time": "2022-05-09T11:15:31.747Z"
   },
   {
    "duration": 42,
    "start_time": "2022-05-09T11:15:31.808Z"
   },
   {
    "duration": 16,
    "start_time": "2022-05-09T11:15:31.852Z"
   },
   {
    "duration": 8,
    "start_time": "2022-05-09T11:15:31.870Z"
   },
   {
    "duration": 62,
    "start_time": "2022-05-09T11:15:31.880Z"
   },
   {
    "duration": 40,
    "start_time": "2022-05-09T11:15:31.944Z"
   },
   {
    "duration": 11,
    "start_time": "2022-05-09T11:15:31.986Z"
   },
   {
    "duration": 5340,
    "start_time": "2022-05-09T11:15:31.999Z"
   },
   {
    "duration": 5,
    "start_time": "2022-05-09T11:15:37.341Z"
   },
   {
    "duration": 9,
    "start_time": "2022-05-09T11:15:37.348Z"
   },
   {
    "duration": 16,
    "start_time": "2022-05-09T11:15:37.358Z"
   },
   {
    "duration": 192,
    "start_time": "2022-05-09T11:15:37.376Z"
   },
   {
    "duration": 236,
    "start_time": "2022-05-09T11:15:37.569Z"
   },
   {
    "duration": 172,
    "start_time": "2022-05-09T11:15:37.807Z"
   },
   {
    "duration": 164,
    "start_time": "2022-05-09T11:15:37.981Z"
   },
   {
    "duration": 181,
    "start_time": "2022-05-09T11:15:38.146Z"
   },
   {
    "duration": 8,
    "start_time": "2022-05-09T11:15:38.329Z"
   },
   {
    "duration": 13,
    "start_time": "2022-05-09T11:15:38.339Z"
   },
   {
    "duration": 10,
    "start_time": "2022-05-09T11:15:38.354Z"
   },
   {
    "duration": 6,
    "start_time": "2022-05-09T11:15:38.368Z"
   },
   {
    "duration": 206,
    "start_time": "2022-05-09T11:15:38.376Z"
   },
   {
    "duration": 5,
    "start_time": "2022-05-09T11:15:38.584Z"
   },
   {
    "duration": 11,
    "start_time": "2022-05-09T11:15:38.590Z"
   },
   {
    "duration": 8,
    "start_time": "2022-05-09T11:15:38.602Z"
   },
   {
    "duration": 27,
    "start_time": "2022-05-09T11:15:38.611Z"
   },
   {
    "duration": 177,
    "start_time": "2022-05-09T11:15:38.639Z"
   },
   {
    "duration": 5,
    "start_time": "2022-05-09T11:15:38.817Z"
   },
   {
    "duration": 13,
    "start_time": "2022-05-09T11:15:38.832Z"
   },
   {
    "duration": 42,
    "start_time": "2022-05-09T11:44:58.100Z"
   },
   {
    "duration": 27,
    "start_time": "2022-05-09T11:45:06.739Z"
   },
   {
    "duration": 6,
    "start_time": "2022-05-09T11:45:14.125Z"
   },
   {
    "duration": 17,
    "start_time": "2022-05-09T11:45:18.308Z"
   },
   {
    "duration": 17,
    "start_time": "2022-05-09T11:45:33.136Z"
   },
   {
    "duration": 13,
    "start_time": "2022-05-09T11:45:38.550Z"
   },
   {
    "duration": 13,
    "start_time": "2022-05-09T11:46:05.606Z"
   },
   {
    "duration": 24,
    "start_time": "2022-05-09T11:46:12.327Z"
   },
   {
    "duration": 78,
    "start_time": "2022-05-12T08:17:52.795Z"
   },
   {
    "duration": 1843,
    "start_time": "2022-05-12T08:29:20.267Z"
   },
   {
    "duration": 533,
    "start_time": "2022-05-12T08:29:22.113Z"
   },
   {
    "duration": 6,
    "start_time": "2022-05-12T08:29:22.648Z"
   },
   {
    "duration": 762,
    "start_time": "2022-05-12T08:29:22.657Z"
   },
   {
    "duration": 146,
    "start_time": "2022-05-12T08:29:23.421Z"
   },
   {
    "duration": 102,
    "start_time": "2022-05-12T08:29:23.570Z"
   },
   {
    "duration": 78,
    "start_time": "2022-05-12T08:29:23.674Z"
   },
   {
    "duration": 15,
    "start_time": "2022-05-12T08:29:23.755Z"
   },
   {
    "duration": 9,
    "start_time": "2022-05-12T08:29:23.772Z"
   },
   {
    "duration": 102,
    "start_time": "2022-05-12T08:29:23.784Z"
   },
   {
    "duration": 29,
    "start_time": "2022-05-12T08:29:23.889Z"
   },
   {
    "duration": 52,
    "start_time": "2022-05-12T08:29:23.920Z"
   },
   {
    "duration": 8,
    "start_time": "2022-05-12T08:29:23.974Z"
   },
   {
    "duration": 76,
    "start_time": "2022-05-12T08:29:23.984Z"
   },
   {
    "duration": 40,
    "start_time": "2022-05-12T08:29:24.063Z"
   },
   {
    "duration": 15,
    "start_time": "2022-05-12T08:29:24.107Z"
   },
   {
    "duration": 8775,
    "start_time": "2022-05-12T08:29:24.154Z"
   },
   {
    "duration": 6,
    "start_time": "2022-05-12T08:29:32.934Z"
   },
   {
    "duration": 18,
    "start_time": "2022-05-12T08:29:32.952Z"
   },
   {
    "duration": 40,
    "start_time": "2022-05-12T08:29:32.972Z"
   },
   {
    "duration": 268,
    "start_time": "2022-05-12T08:29:33.015Z"
   },
   {
    "duration": 273,
    "start_time": "2022-05-12T08:29:33.286Z"
   },
   {
    "duration": 271,
    "start_time": "2022-05-12T08:29:33.562Z"
   },
   {
    "duration": 241,
    "start_time": "2022-05-12T08:29:33.835Z"
   },
   {
    "duration": 274,
    "start_time": "2022-05-12T08:29:34.078Z"
   },
   {
    "duration": 11,
    "start_time": "2022-05-12T08:29:34.355Z"
   },
   {
    "duration": 33,
    "start_time": "2022-05-12T08:29:34.368Z"
   },
   {
    "duration": 27,
    "start_time": "2022-05-12T08:29:34.407Z"
   },
   {
    "duration": 23,
    "start_time": "2022-05-12T08:29:34.436Z"
   },
   {
    "duration": 282,
    "start_time": "2022-05-12T08:29:34.462Z"
   },
   {
    "duration": 6,
    "start_time": "2022-05-12T08:29:34.746Z"
   },
   {
    "duration": 25,
    "start_time": "2022-05-12T08:29:34.755Z"
   },
   {
    "duration": 17,
    "start_time": "2022-05-12T08:29:34.783Z"
   },
   {
    "duration": 30,
    "start_time": "2022-05-12T08:29:34.803Z"
   },
   {
    "duration": 273,
    "start_time": "2022-05-12T08:29:34.835Z"
   },
   {
    "duration": 6,
    "start_time": "2022-05-12T08:29:35.110Z"
   },
   {
    "duration": 8,
    "start_time": "2022-05-12T08:29:35.118Z"
   },
   {
    "duration": 39,
    "start_time": "2022-05-12T08:30:12.715Z"
   },
   {
    "duration": 51,
    "start_time": "2022-05-12T08:30:24.037Z"
   },
   {
    "duration": 4,
    "start_time": "2022-05-12T08:30:47.075Z"
   },
   {
    "duration": 524,
    "start_time": "2022-05-12T08:30:47.082Z"
   },
   {
    "duration": 4,
    "start_time": "2022-05-12T08:30:47.608Z"
   },
   {
    "duration": 700,
    "start_time": "2022-05-12T08:30:47.615Z"
   },
   {
    "duration": 145,
    "start_time": "2022-05-12T08:30:48.318Z"
   },
   {
    "duration": 159,
    "start_time": "2022-05-12T08:30:48.465Z"
   },
   {
    "duration": 87,
    "start_time": "2022-05-12T08:30:48.626Z"
   },
   {
    "duration": 12,
    "start_time": "2022-05-12T08:30:48.715Z"
   },
   {
    "duration": 27,
    "start_time": "2022-05-12T08:30:48.733Z"
   },
   {
    "duration": 60,
    "start_time": "2022-05-12T08:30:48.763Z"
   },
   {
    "duration": 47,
    "start_time": "2022-05-12T08:30:48.825Z"
   },
   {
    "duration": 24,
    "start_time": "2022-05-12T08:30:48.875Z"
   },
   {
    "duration": 8,
    "start_time": "2022-05-12T08:30:48.901Z"
   },
   {
    "duration": 94,
    "start_time": "2022-05-12T08:30:48.912Z"
   },
   {
    "duration": 38,
    "start_time": "2022-05-12T08:30:49.008Z"
   },
   {
    "duration": 13,
    "start_time": "2022-05-12T08:30:49.057Z"
   },
   {
    "duration": 10135,
    "start_time": "2022-05-12T08:30:49.073Z"
   },
   {
    "duration": 6,
    "start_time": "2022-05-12T08:30:59.210Z"
   },
   {
    "duration": 11,
    "start_time": "2022-05-12T08:30:59.218Z"
   },
   {
    "duration": 35,
    "start_time": "2022-05-12T08:30:59.231Z"
   },
   {
    "duration": 271,
    "start_time": "2022-05-12T08:30:59.268Z"
   },
   {
    "duration": 256,
    "start_time": "2022-05-12T08:30:59.541Z"
   },
   {
    "duration": 265,
    "start_time": "2022-05-12T08:30:59.799Z"
   },
   {
    "duration": 362,
    "start_time": "2022-05-12T08:31:00.071Z"
   },
   {
    "duration": 263,
    "start_time": "2022-05-12T08:31:00.436Z"
   },
   {
    "duration": 9,
    "start_time": "2022-05-12T08:31:00.701Z"
   },
   {
    "duration": 19,
    "start_time": "2022-05-12T08:31:00.712Z"
   },
   {
    "duration": 17,
    "start_time": "2022-05-12T08:31:00.756Z"
   },
   {
    "duration": 17,
    "start_time": "2022-05-12T08:31:00.775Z"
   },
   {
    "duration": 361,
    "start_time": "2022-05-12T08:31:00.794Z"
   },
   {
    "duration": 7,
    "start_time": "2022-05-12T08:31:01.159Z"
   },
   {
    "duration": 18,
    "start_time": "2022-05-12T08:31:01.169Z"
   },
   {
    "duration": 36,
    "start_time": "2022-05-12T08:31:01.189Z"
   },
   {
    "duration": 63,
    "start_time": "2022-05-12T08:31:01.228Z"
   },
   {
    "duration": 296,
    "start_time": "2022-05-12T08:31:01.293Z"
   },
   {
    "duration": 7,
    "start_time": "2022-05-12T08:31:01.592Z"
   },
   {
    "duration": 27,
    "start_time": "2022-05-12T08:31:01.601Z"
   },
   {
    "duration": 7,
    "start_time": "2022-05-12T08:31:02.750Z"
   },
   {
    "duration": 551,
    "start_time": "2022-05-12T08:31:02.760Z"
   },
   {
    "duration": 4,
    "start_time": "2022-05-12T08:31:03.314Z"
   },
   {
    "duration": 782,
    "start_time": "2022-05-12T08:31:03.321Z"
   },
   {
    "duration": 139,
    "start_time": "2022-05-12T08:31:04.106Z"
   },
   {
    "duration": 103,
    "start_time": "2022-05-12T08:31:04.253Z"
   },
   {
    "duration": 83,
    "start_time": "2022-05-12T08:31:04.359Z"
   },
   {
    "duration": 28,
    "start_time": "2022-05-12T08:31:04.445Z"
   },
   {
    "duration": 29,
    "start_time": "2022-05-12T08:31:04.475Z"
   },
   {
    "duration": 73,
    "start_time": "2022-05-12T08:31:04.506Z"
   },
   {
    "duration": 25,
    "start_time": "2022-05-12T08:31:04.583Z"
   },
   {
    "duration": 22,
    "start_time": "2022-05-12T08:31:04.611Z"
   },
   {
    "duration": 11,
    "start_time": "2022-05-12T08:31:04.656Z"
   },
   {
    "duration": 72,
    "start_time": "2022-05-12T08:31:04.669Z"
   },
   {
    "duration": 49,
    "start_time": "2022-05-12T08:31:04.744Z"
   },
   {
    "duration": 11,
    "start_time": "2022-05-12T08:31:04.795Z"
   },
   {
    "duration": 9196,
    "start_time": "2022-05-12T08:31:04.808Z"
   },
   {
    "duration": 6,
    "start_time": "2022-05-12T08:31:14.007Z"
   },
   {
    "duration": 14,
    "start_time": "2022-05-12T08:31:14.015Z"
   },
   {
    "duration": 53,
    "start_time": "2022-05-12T08:31:14.031Z"
   },
   {
    "duration": 272,
    "start_time": "2022-05-12T08:31:14.087Z"
   },
   {
    "duration": 306,
    "start_time": "2022-05-12T08:31:14.362Z"
   },
   {
    "duration": 269,
    "start_time": "2022-05-12T08:31:14.671Z"
   },
   {
    "duration": 274,
    "start_time": "2022-05-12T08:31:14.943Z"
   },
   {
    "duration": 271,
    "start_time": "2022-05-12T08:31:15.219Z"
   },
   {
    "duration": 10,
    "start_time": "2022-05-12T08:31:15.494Z"
   },
   {
    "duration": 10,
    "start_time": "2022-05-12T08:31:15.506Z"
   },
   {
    "duration": 52,
    "start_time": "2022-05-12T08:31:15.519Z"
   },
   {
    "duration": 9,
    "start_time": "2022-05-12T08:31:15.576Z"
   },
   {
    "duration": 321,
    "start_time": "2022-05-12T08:31:15.587Z"
   },
   {
    "duration": 5,
    "start_time": "2022-05-12T08:31:15.910Z"
   },
   {
    "duration": 13,
    "start_time": "2022-05-12T08:31:15.917Z"
   },
   {
    "duration": 26,
    "start_time": "2022-05-12T08:31:15.932Z"
   },
   {
    "duration": 18,
    "start_time": "2022-05-12T08:31:15.961Z"
   },
   {
    "duration": 477,
    "start_time": "2022-05-12T08:31:15.982Z"
   },
   {
    "duration": 7,
    "start_time": "2022-05-12T08:31:16.462Z"
   },
   {
    "duration": 33,
    "start_time": "2022-05-12T08:31:16.472Z"
   },
   {
    "duration": 108,
    "start_time": "2022-05-12T08:34:27.887Z"
   },
   {
    "duration": 24,
    "start_time": "2022-05-12T08:34:37.880Z"
   },
   {
    "duration": 26,
    "start_time": "2022-05-12T08:35:01.620Z"
   },
   {
    "duration": 51,
    "start_time": "2022-05-12T10:59:42.741Z"
   },
   {
    "duration": 1557,
    "start_time": "2022-05-12T10:59:46.403Z"
   },
   {
    "duration": 4003,
    "start_time": "2022-05-12T10:59:47.962Z"
   },
   {
    "duration": 3,
    "start_time": "2022-05-12T10:59:51.967Z"
   },
   {
    "duration": 565,
    "start_time": "2022-05-12T10:59:51.973Z"
   },
   {
    "duration": 92,
    "start_time": "2022-05-12T10:59:52.540Z"
   },
   {
    "duration": 67,
    "start_time": "2022-05-12T10:59:52.634Z"
   },
   {
    "duration": 69,
    "start_time": "2022-05-12T10:59:52.703Z"
   },
   {
    "duration": 8,
    "start_time": "2022-05-12T10:59:52.774Z"
   },
   {
    "duration": 12,
    "start_time": "2022-05-12T10:59:52.784Z"
   },
   {
    "duration": 85,
    "start_time": "2022-05-12T10:59:52.799Z"
   },
   {
    "duration": 23,
    "start_time": "2022-05-12T10:59:52.886Z"
   },
   {
    "duration": 24,
    "start_time": "2022-05-12T10:59:52.911Z"
   },
   {
    "duration": 7,
    "start_time": "2022-05-12T10:59:52.937Z"
   },
   {
    "duration": 51,
    "start_time": "2022-05-12T10:59:52.946Z"
   },
   {
    "duration": 39,
    "start_time": "2022-05-12T10:59:52.999Z"
   },
   {
    "duration": 10,
    "start_time": "2022-05-12T10:59:53.040Z"
   },
   {
    "duration": 4965,
    "start_time": "2022-05-12T10:59:53.054Z"
   },
   {
    "duration": 4,
    "start_time": "2022-05-12T10:59:58.023Z"
   },
   {
    "duration": 18,
    "start_time": "2022-05-12T10:59:58.029Z"
   },
   {
    "duration": 26,
    "start_time": "2022-05-12T10:59:58.049Z"
   },
   {
    "duration": 169,
    "start_time": "2022-05-12T10:59:58.076Z"
   },
   {
    "duration": 150,
    "start_time": "2022-05-12T10:59:58.247Z"
   },
   {
    "duration": 166,
    "start_time": "2022-05-12T10:59:58.399Z"
   },
   {
    "duration": 168,
    "start_time": "2022-05-12T10:59:58.568Z"
   },
   {
    "duration": 162,
    "start_time": "2022-05-12T10:59:58.738Z"
   },
   {
    "duration": 6,
    "start_time": "2022-05-12T10:59:58.902Z"
   },
   {
    "duration": 27,
    "start_time": "2022-05-12T10:59:58.910Z"
   },
   {
    "duration": 28,
    "start_time": "2022-05-12T10:59:58.941Z"
   },
   {
    "duration": 18,
    "start_time": "2022-05-12T10:59:58.971Z"
   },
   {
    "duration": 197,
    "start_time": "2022-05-12T10:59:58.991Z"
   },
   {
    "duration": 4,
    "start_time": "2022-05-12T10:59:59.189Z"
   },
   {
    "duration": 12,
    "start_time": "2022-05-12T10:59:59.195Z"
   },
   {
    "duration": 31,
    "start_time": "2022-05-12T10:59:59.209Z"
   },
   {
    "duration": 9,
    "start_time": "2022-05-12T10:59:59.244Z"
   },
   {
    "duration": 189,
    "start_time": "2022-05-12T10:59:59.255Z"
   },
   {
    "duration": 5,
    "start_time": "2022-05-12T10:59:59.446Z"
   },
   {
    "duration": 14,
    "start_time": "2022-05-12T10:59:59.453Z"
   },
   {
    "duration": 48,
    "start_time": "2022-05-13T15:56:32.819Z"
   },
   {
    "duration": 1533,
    "start_time": "2022-05-13T15:56:44.549Z"
   },
   {
    "duration": 400,
    "start_time": "2022-05-13T15:56:49.200Z"
   },
   {
    "duration": 3,
    "start_time": "2022-05-13T15:56:50.396Z"
   },
   {
    "duration": 496,
    "start_time": "2022-05-13T15:56:51.753Z"
   },
   {
    "duration": 75,
    "start_time": "2022-05-13T15:57:01.065Z"
   },
   {
    "duration": 56,
    "start_time": "2022-05-13T15:57:02.622Z"
   },
   {
    "duration": 47,
    "start_time": "2022-05-13T15:57:04.485Z"
   },
   {
    "duration": 7,
    "start_time": "2022-05-13T15:57:06.460Z"
   },
   {
    "duration": 11,
    "start_time": "2022-05-13T15:57:08.616Z"
   },
   {
    "duration": 56,
    "start_time": "2022-05-13T15:57:23.881Z"
   },
   {
    "duration": 24,
    "start_time": "2022-05-13T15:57:40.596Z"
   },
   {
    "duration": 28,
    "start_time": "2022-05-13T15:58:35.539Z"
   },
   {
    "duration": 845,
    "start_time": "2022-05-13T15:58:51.137Z"
   },
   {
    "duration": 36,
    "start_time": "2022-05-13T15:59:17.785Z"
   },
   {
    "duration": 34,
    "start_time": "2022-05-13T15:59:36.433Z"
   },
   {
    "duration": 37,
    "start_time": "2022-05-13T16:00:01.750Z"
   },
   {
    "duration": 36,
    "start_time": "2022-05-13T16:00:11.329Z"
   },
   {
    "duration": 37,
    "start_time": "2022-05-13T16:00:18.388Z"
   },
   {
    "duration": 35,
    "start_time": "2022-05-13T16:00:25.560Z"
   },
   {
    "duration": 3146,
    "start_time": "2022-05-13T16:00:48.078Z"
   },
   {
    "duration": 3358,
    "start_time": "2022-05-13T16:00:53.100Z"
   },
   {
    "duration": 35,
    "start_time": "2022-05-13T16:00:58.602Z"
   },
   {
    "duration": 38,
    "start_time": "2022-05-13T16:01:15.141Z"
   },
   {
    "duration": 36,
    "start_time": "2022-05-13T16:02:05.208Z"
   },
   {
    "duration": 39,
    "start_time": "2022-05-13T16:02:22.174Z"
   },
   {
    "duration": 37,
    "start_time": "2022-05-13T16:02:30.322Z"
   },
   {
    "duration": 3100,
    "start_time": "2022-05-13T16:05:50.384Z"
   },
   {
    "duration": 3162,
    "start_time": "2022-05-13T16:06:14.651Z"
   },
   {
    "duration": 25,
    "start_time": "2022-05-13T16:06:28.393Z"
   },
   {
    "duration": 25,
    "start_time": "2022-05-13T16:08:16.118Z"
   },
   {
    "duration": 29,
    "start_time": "2022-05-13T16:08:18.397Z"
   },
   {
    "duration": 8,
    "start_time": "2022-05-13T16:08:20.280Z"
   },
   {
    "duration": 59,
    "start_time": "2022-05-13T16:08:56.927Z"
   },
   {
    "duration": 34,
    "start_time": "2022-05-13T16:09:07.403Z"
   },
   {
    "duration": 10,
    "start_time": "2022-05-13T16:09:12.421Z"
   },
   {
    "duration": 8787,
    "start_time": "2022-05-13T16:09:14.355Z"
   },
   {
    "duration": 6,
    "start_time": "2022-05-13T16:09:23.145Z"
   },
   {
    "duration": 27,
    "start_time": "2022-05-13T16:09:23.153Z"
   },
   {
    "duration": 15,
    "start_time": "2022-05-13T16:09:23.183Z"
   },
   {
    "duration": 175,
    "start_time": "2022-05-13T16:09:26.467Z"
   },
   {
    "duration": 219,
    "start_time": "2022-05-13T16:09:28.866Z"
   },
   {
    "duration": 226,
    "start_time": "2022-05-13T16:09:31.142Z"
   },
   {
    "duration": 224,
    "start_time": "2022-05-13T16:09:35.684Z"
   },
   {
    "duration": 219,
    "start_time": "2022-05-13T16:09:38.466Z"
   },
   {
    "duration": 6,
    "start_time": "2022-05-13T16:09:40.295Z"
   },
   {
    "duration": 7,
    "start_time": "2022-05-13T16:09:43.542Z"
   },
   {
    "duration": 8,
    "start_time": "2022-05-13T16:09:45.174Z"
   },
   {
    "duration": 6,
    "start_time": "2022-05-13T16:09:47.111Z"
   },
   {
    "duration": 166,
    "start_time": "2022-05-13T16:09:51.149Z"
   },
   {
    "duration": 4,
    "start_time": "2022-05-13T16:09:53.341Z"
   },
   {
    "duration": 4,
    "start_time": "2022-05-13T16:09:58.774Z"
   },
   {
    "duration": 5,
    "start_time": "2022-05-13T16:10:01.530Z"
   },
   {
    "duration": 8,
    "start_time": "2022-05-13T16:10:08.843Z"
   },
   {
    "duration": 148,
    "start_time": "2022-05-13T16:10:10.159Z"
   },
   {
    "duration": 4,
    "start_time": "2022-05-13T16:10:13.498Z"
   },
   {
    "duration": 5,
    "start_time": "2022-05-13T16:10:16.327Z"
   }
  ],
  "kernelspec": {
   "display_name": "Python 3 (ipykernel)",
   "language": "python",
   "name": "python3"
  },
  "language_info": {
   "codemirror_mode": {
    "name": "ipython",
    "version": 3
   },
   "file_extension": ".py",
   "mimetype": "text/x-python",
   "name": "python",
   "nbconvert_exporter": "python",
   "pygments_lexer": "ipython3",
   "version": "3.9.5"
  },
  "toc": {
   "base_numbering": 1,
   "nav_menu": {
    "height": "139px",
    "width": "160px"
   },
   "number_sections": true,
   "sideBar": true,
   "skip_h1_title": true,
   "title_cell": "Table of Contents",
   "title_sidebar": "Contents",
   "toc_cell": false,
   "toc_position": {},
   "toc_section_display": true,
   "toc_window_display": false
  }
 },
 "nbformat": 4,
 "nbformat_minor": 2
}
