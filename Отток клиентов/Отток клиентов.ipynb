{
 "cells": [
  {
   "cell_type": "markdown",
   "metadata": {
    "toc": true
   },
   "source": [
    "<h1>Содержание<span class=\"tocSkip\"></span></h1>\n",
    "<div class=\"toc\"><ul class=\"toc-item\"><li><span><a href=\"#Подготовка-данных\" data-toc-modified-id=\"Подготовка-данных-1\"><span class=\"toc-item-num\">1&nbsp;&nbsp;</span>Подготовка данных</a></span></li><li><span><a href=\"#Исследование-задачи\" data-toc-modified-id=\"Исследование-задачи-2\"><span class=\"toc-item-num\">2&nbsp;&nbsp;</span>Исследование задачи</a></span></li><li><span><a href=\"#Борьба-с-дисбалансом\" data-toc-modified-id=\"Борьба-с-дисбалансом-3\"><span class=\"toc-item-num\">3&nbsp;&nbsp;</span>Борьба с дисбалансом</a></span><ul class=\"toc-item\"><li><span><a href=\"#Дерево-решений\" data-toc-modified-id=\"Дерево-решений-3.1\"><span class=\"toc-item-num\">3.1&nbsp;&nbsp;</span>Дерево решений</a></span></li></ul></li><li><span><a href=\"#Тестирование-модели\" data-toc-modified-id=\"Тестирование-модели-4\"><span class=\"toc-item-num\">4&nbsp;&nbsp;</span>Тестирование модели</a></span><ul class=\"toc-item\"><li><span><a href=\"#случайный-лес\" data-toc-modified-id=\"случайный-лес-4.1\"><span class=\"toc-item-num\">4.1&nbsp;&nbsp;</span>случайный лес</a></span></li></ul></li></ul></div>"
   ]
  },
  {
   "cell_type": "markdown",
   "metadata": {},
   "source": [
    "# Отток клиентов"
   ]
  },
  {
   "cell_type": "markdown",
   "metadata": {},
   "source": [
    "Из «Бета-Банка» стали уходить клиенты. Каждый месяц. Немного, но заметно. Банковские маркетологи посчитали: сохранять текущих клиентов дешевле, чем привлекать новых.\n",
    "\n",
    "Нужно спрогнозировать, уйдёт клиент из банка в ближайшее время или нет. Вам предоставлены исторические данные о поведении клиентов и расторжении договоров с банком. \n",
    "\n",
    "Постройте модель с предельно большим значением *F1*-меры. Чтобы сдать проект успешно, нужно довести метрику до 0.59. Проверьте *F1*-меру на тестовой выборке самостоятельно.\n",
    "\n",
    "Дополнительно измеряйте *AUC-ROC*, сравнивайте её значение с *F1*-мерой.\n",
    "\n",
    "Источник данных: [https://www.kaggle.com/barelydedicated/bank-customer-churn-modeling](https://www.kaggle.com/barelydedicated/bank-customer-churn-modeling)"
   ]
  },
  {
   "cell_type": "markdown",
   "metadata": {},
   "source": [
    "# Описание данных"
   ]
  },
  {
   "cell_type": "markdown",
   "metadata": {},
   "source": [
    "`Признаки`\n",
    "\n",
    "*RowNumber* — индекс строки в данных\n",
    "\n",
    "*CustomerId* — уникальный идентификатор клиента\n",
    "\n",
    "*Surname* — фамилия\n",
    "\n",
    "*CreditScore* — кредитный рейтинг\n",
    "\n",
    "*Geography* — страна проживания\n",
    "\n",
    "*Gender* — пол\n",
    "\n",
    "*Age* — возраст\n",
    "\n",
    "*Tenure* — сколько лет человек является клиентом банка\n",
    "\n",
    "*Balance* — баланс на счёте\n",
    "\n",
    "*NumOfProducts* — количество продуктов банка, используемых клиентом\n",
    "\n",
    "*HasCrCard* — наличие кредитной карты\n",
    "\n",
    "*IsActiveMember* — активность клиента\n",
    "\n",
    "*EstmatedSalary* — предполагаемая зарплата\n",
    "\n",
    "\n",
    "`Целевой признак`\n",
    "\n",
    "*Exited* — факт ухода клиента"
   ]
  },
  {
   "cell_type": "markdown",
   "metadata": {},
   "source": [
    "## Подготовка данных"
   ]
  },
  {
   "cell_type": "markdown",
   "metadata": {},
   "source": [
    "Сразу импортируем все библиотеки которые нам могут понадобиться."
   ]
  },
  {
   "cell_type": "code",
   "execution_count": 1,
   "metadata": {},
   "outputs": [],
   "source": [
    "import pandas as pd\n",
    "import seaborn as sns\n",
    "import numpy as np\n",
    "import matplotlib.pyplot as plt\n",
    "from sklearn.tree import DecisionTreeClassifier\n",
    "from sklearn.metrics import accuracy_score, recall_score, precision_score, confusion_matrix, f1_score, roc_curve,precision_recall_curve\n",
    "from sklearn.metrics import  mean_absolute_error, roc_auc_score\n",
    "from sklearn.ensemble import RandomForestClassifier, RandomForestRegressor\n",
    "\n",
    "from sklearn.linear_model import LinearRegression\n",
    "\n",
    "from sklearn.model_selection import GridSearchCV, RandomizedSearchCV, train_test_split\n",
    "from sklearn.linear_model import LogisticRegression\n",
    "from sklearn.dummy import DummyClassifier\n",
    "from sklearn.preprocessing import OrdinalEncoder,StandardScaler\n",
    "from sklearn.utils import shuffle"
   ]
  },
  {
   "cell_type": "markdown",
   "metadata": {},
   "source": [
    "вынесем константы в самый вверх ноутбука"
   ]
  },
  {
   "cell_type": "code",
   "execution_count": 2,
   "metadata": {},
   "outputs": [],
   "source": [
    "RANDOM_STATE = 12345\n",
    "TEST_SIZE = 0.25\n",
    "CV = 2"
   ]
  },
  {
   "cell_type": "code",
   "execution_count": 3,
   "metadata": {},
   "outputs": [],
   "source": [
    "df = pd.read_csv('/datasets/Churn.csv')"
   ]
  },
  {
   "cell_type": "code",
   "execution_count": 4,
   "metadata": {},
   "outputs": [
    {
     "data": {
      "text/plain": [
       "(10000, 14)"
      ]
     },
     "execution_count": 4,
     "metadata": {},
     "output_type": "execute_result"
    }
   ],
   "source": [
    "df.shape"
   ]
  },
  {
   "cell_type": "code",
   "execution_count": 5,
   "metadata": {
    "scrolled": false
   },
   "outputs": [
    {
     "name": "stdout",
     "output_type": "stream",
     "text": [
      "<class 'pandas.core.frame.DataFrame'>\n",
      "RangeIndex: 10000 entries, 0 to 9999\n",
      "Data columns (total 14 columns):\n",
      " #   Column           Non-Null Count  Dtype  \n",
      "---  ------           --------------  -----  \n",
      " 0   RowNumber        10000 non-null  int64  \n",
      " 1   CustomerId       10000 non-null  int64  \n",
      " 2   Surname          10000 non-null  object \n",
      " 3   CreditScore      10000 non-null  int64  \n",
      " 4   Geography        10000 non-null  object \n",
      " 5   Gender           10000 non-null  object \n",
      " 6   Age              10000 non-null  int64  \n",
      " 7   Tenure           9091 non-null   float64\n",
      " 8   Balance          10000 non-null  float64\n",
      " 9   NumOfProducts    10000 non-null  int64  \n",
      " 10  HasCrCard        10000 non-null  int64  \n",
      " 11  IsActiveMember   10000 non-null  int64  \n",
      " 12  EstimatedSalary  10000 non-null  float64\n",
      " 13  Exited           10000 non-null  int64  \n",
      "dtypes: float64(3), int64(8), object(3)\n",
      "memory usage: 1.1+ MB\n"
     ]
    }
   ],
   "source": [
    "df.info()"
   ]
  },
  {
   "cell_type": "code",
   "execution_count": 6,
   "metadata": {},
   "outputs": [
    {
     "data": {
      "text/html": [
       "<div>\n",
       "<style scoped>\n",
       "    .dataframe tbody tr th:only-of-type {\n",
       "        vertical-align: middle;\n",
       "    }\n",
       "\n",
       "    .dataframe tbody tr th {\n",
       "        vertical-align: top;\n",
       "    }\n",
       "\n",
       "    .dataframe thead th {\n",
       "        text-align: right;\n",
       "    }\n",
       "</style>\n",
       "<table border=\"1\" class=\"dataframe\">\n",
       "  <thead>\n",
       "    <tr style=\"text-align: right;\">\n",
       "      <th></th>\n",
       "      <th>RowNumber</th>\n",
       "      <th>CustomerId</th>\n",
       "      <th>Surname</th>\n",
       "      <th>CreditScore</th>\n",
       "      <th>Geography</th>\n",
       "      <th>Gender</th>\n",
       "      <th>Age</th>\n",
       "      <th>Tenure</th>\n",
       "      <th>Balance</th>\n",
       "      <th>NumOfProducts</th>\n",
       "      <th>HasCrCard</th>\n",
       "      <th>IsActiveMember</th>\n",
       "      <th>EstimatedSalary</th>\n",
       "      <th>Exited</th>\n",
       "    </tr>\n",
       "  </thead>\n",
       "  <tbody>\n",
       "    <tr>\n",
       "      <th>0</th>\n",
       "      <td>1</td>\n",
       "      <td>15634602</td>\n",
       "      <td>Hargrave</td>\n",
       "      <td>619</td>\n",
       "      <td>France</td>\n",
       "      <td>Female</td>\n",
       "      <td>42</td>\n",
       "      <td>2.0</td>\n",
       "      <td>0.00</td>\n",
       "      <td>1</td>\n",
       "      <td>1</td>\n",
       "      <td>1</td>\n",
       "      <td>101348.88</td>\n",
       "      <td>1</td>\n",
       "    </tr>\n",
       "    <tr>\n",
       "      <th>1</th>\n",
       "      <td>2</td>\n",
       "      <td>15647311</td>\n",
       "      <td>Hill</td>\n",
       "      <td>608</td>\n",
       "      <td>Spain</td>\n",
       "      <td>Female</td>\n",
       "      <td>41</td>\n",
       "      <td>1.0</td>\n",
       "      <td>83807.86</td>\n",
       "      <td>1</td>\n",
       "      <td>0</td>\n",
       "      <td>1</td>\n",
       "      <td>112542.58</td>\n",
       "      <td>0</td>\n",
       "    </tr>\n",
       "    <tr>\n",
       "      <th>2</th>\n",
       "      <td>3</td>\n",
       "      <td>15619304</td>\n",
       "      <td>Onio</td>\n",
       "      <td>502</td>\n",
       "      <td>France</td>\n",
       "      <td>Female</td>\n",
       "      <td>42</td>\n",
       "      <td>8.0</td>\n",
       "      <td>159660.80</td>\n",
       "      <td>3</td>\n",
       "      <td>1</td>\n",
       "      <td>0</td>\n",
       "      <td>113931.57</td>\n",
       "      <td>1</td>\n",
       "    </tr>\n",
       "    <tr>\n",
       "      <th>3</th>\n",
       "      <td>4</td>\n",
       "      <td>15701354</td>\n",
       "      <td>Boni</td>\n",
       "      <td>699</td>\n",
       "      <td>France</td>\n",
       "      <td>Female</td>\n",
       "      <td>39</td>\n",
       "      <td>1.0</td>\n",
       "      <td>0.00</td>\n",
       "      <td>2</td>\n",
       "      <td>0</td>\n",
       "      <td>0</td>\n",
       "      <td>93826.63</td>\n",
       "      <td>0</td>\n",
       "    </tr>\n",
       "    <tr>\n",
       "      <th>4</th>\n",
       "      <td>5</td>\n",
       "      <td>15737888</td>\n",
       "      <td>Mitchell</td>\n",
       "      <td>850</td>\n",
       "      <td>Spain</td>\n",
       "      <td>Female</td>\n",
       "      <td>43</td>\n",
       "      <td>2.0</td>\n",
       "      <td>125510.82</td>\n",
       "      <td>1</td>\n",
       "      <td>1</td>\n",
       "      <td>1</td>\n",
       "      <td>79084.10</td>\n",
       "      <td>0</td>\n",
       "    </tr>\n",
       "    <tr>\n",
       "      <th>5</th>\n",
       "      <td>6</td>\n",
       "      <td>15574012</td>\n",
       "      <td>Chu</td>\n",
       "      <td>645</td>\n",
       "      <td>Spain</td>\n",
       "      <td>Male</td>\n",
       "      <td>44</td>\n",
       "      <td>8.0</td>\n",
       "      <td>113755.78</td>\n",
       "      <td>2</td>\n",
       "      <td>1</td>\n",
       "      <td>0</td>\n",
       "      <td>149756.71</td>\n",
       "      <td>1</td>\n",
       "    </tr>\n",
       "    <tr>\n",
       "      <th>6</th>\n",
       "      <td>7</td>\n",
       "      <td>15592531</td>\n",
       "      <td>Bartlett</td>\n",
       "      <td>822</td>\n",
       "      <td>France</td>\n",
       "      <td>Male</td>\n",
       "      <td>50</td>\n",
       "      <td>7.0</td>\n",
       "      <td>0.00</td>\n",
       "      <td>2</td>\n",
       "      <td>1</td>\n",
       "      <td>1</td>\n",
       "      <td>10062.80</td>\n",
       "      <td>0</td>\n",
       "    </tr>\n",
       "    <tr>\n",
       "      <th>7</th>\n",
       "      <td>8</td>\n",
       "      <td>15656148</td>\n",
       "      <td>Obinna</td>\n",
       "      <td>376</td>\n",
       "      <td>Germany</td>\n",
       "      <td>Female</td>\n",
       "      <td>29</td>\n",
       "      <td>4.0</td>\n",
       "      <td>115046.74</td>\n",
       "      <td>4</td>\n",
       "      <td>1</td>\n",
       "      <td>0</td>\n",
       "      <td>119346.88</td>\n",
       "      <td>1</td>\n",
       "    </tr>\n",
       "  </tbody>\n",
       "</table>\n",
       "</div>"
      ],
      "text/plain": [
       "   RowNumber  CustomerId   Surname  CreditScore Geography  Gender  Age  \\\n",
       "0          1    15634602  Hargrave          619    France  Female   42   \n",
       "1          2    15647311      Hill          608     Spain  Female   41   \n",
       "2          3    15619304      Onio          502    France  Female   42   \n",
       "3          4    15701354      Boni          699    France  Female   39   \n",
       "4          5    15737888  Mitchell          850     Spain  Female   43   \n",
       "5          6    15574012       Chu          645     Spain    Male   44   \n",
       "6          7    15592531  Bartlett          822    France    Male   50   \n",
       "7          8    15656148    Obinna          376   Germany  Female   29   \n",
       "\n",
       "   Tenure    Balance  NumOfProducts  HasCrCard  IsActiveMember  \\\n",
       "0     2.0       0.00              1          1               1   \n",
       "1     1.0   83807.86              1          0               1   \n",
       "2     8.0  159660.80              3          1               0   \n",
       "3     1.0       0.00              2          0               0   \n",
       "4     2.0  125510.82              1          1               1   \n",
       "5     8.0  113755.78              2          1               0   \n",
       "6     7.0       0.00              2          1               1   \n",
       "7     4.0  115046.74              4          1               0   \n",
       "\n",
       "   EstimatedSalary  Exited  \n",
       "0        101348.88       1  \n",
       "1        112542.58       0  \n",
       "2        113931.57       1  \n",
       "3         93826.63       0  \n",
       "4         79084.10       0  \n",
       "5        149756.71       1  \n",
       "6         10062.80       0  \n",
       "7        119346.88       1  "
      ]
     },
     "execution_count": 6,
     "metadata": {},
     "output_type": "execute_result"
    }
   ],
   "source": [
    "df.head(8)"
   ]
  },
  {
   "cell_type": "code",
   "execution_count": 7,
   "metadata": {},
   "outputs": [
    {
     "data": {
      "text/html": [
       "<div>\n",
       "<style scoped>\n",
       "    .dataframe tbody tr th:only-of-type {\n",
       "        vertical-align: middle;\n",
       "    }\n",
       "\n",
       "    .dataframe tbody tr th {\n",
       "        vertical-align: top;\n",
       "    }\n",
       "\n",
       "    .dataframe thead th {\n",
       "        text-align: right;\n",
       "    }\n",
       "</style>\n",
       "<table border=\"1\" class=\"dataframe\">\n",
       "  <thead>\n",
       "    <tr style=\"text-align: right;\">\n",
       "      <th></th>\n",
       "      <th>RowNumber</th>\n",
       "      <th>CustomerId</th>\n",
       "      <th>CreditScore</th>\n",
       "      <th>Age</th>\n",
       "      <th>Tenure</th>\n",
       "      <th>Balance</th>\n",
       "      <th>NumOfProducts</th>\n",
       "      <th>HasCrCard</th>\n",
       "      <th>IsActiveMember</th>\n",
       "      <th>EstimatedSalary</th>\n",
       "      <th>Exited</th>\n",
       "    </tr>\n",
       "  </thead>\n",
       "  <tbody>\n",
       "    <tr>\n",
       "      <th>count</th>\n",
       "      <td>10000.00000</td>\n",
       "      <td>1.000000e+04</td>\n",
       "      <td>10000.000000</td>\n",
       "      <td>10000.000000</td>\n",
       "      <td>9091.000000</td>\n",
       "      <td>10000.000000</td>\n",
       "      <td>10000.000000</td>\n",
       "      <td>10000.00000</td>\n",
       "      <td>10000.000000</td>\n",
       "      <td>10000.000000</td>\n",
       "      <td>10000.000000</td>\n",
       "    </tr>\n",
       "    <tr>\n",
       "      <th>mean</th>\n",
       "      <td>5000.50000</td>\n",
       "      <td>1.569094e+07</td>\n",
       "      <td>650.528800</td>\n",
       "      <td>38.921800</td>\n",
       "      <td>4.997690</td>\n",
       "      <td>76485.889288</td>\n",
       "      <td>1.530200</td>\n",
       "      <td>0.70550</td>\n",
       "      <td>0.515100</td>\n",
       "      <td>100090.239881</td>\n",
       "      <td>0.203700</td>\n",
       "    </tr>\n",
       "    <tr>\n",
       "      <th>std</th>\n",
       "      <td>2886.89568</td>\n",
       "      <td>7.193619e+04</td>\n",
       "      <td>96.653299</td>\n",
       "      <td>10.487806</td>\n",
       "      <td>2.894723</td>\n",
       "      <td>62397.405202</td>\n",
       "      <td>0.581654</td>\n",
       "      <td>0.45584</td>\n",
       "      <td>0.499797</td>\n",
       "      <td>57510.492818</td>\n",
       "      <td>0.402769</td>\n",
       "    </tr>\n",
       "    <tr>\n",
       "      <th>min</th>\n",
       "      <td>1.00000</td>\n",
       "      <td>1.556570e+07</td>\n",
       "      <td>350.000000</td>\n",
       "      <td>18.000000</td>\n",
       "      <td>0.000000</td>\n",
       "      <td>0.000000</td>\n",
       "      <td>1.000000</td>\n",
       "      <td>0.00000</td>\n",
       "      <td>0.000000</td>\n",
       "      <td>11.580000</td>\n",
       "      <td>0.000000</td>\n",
       "    </tr>\n",
       "    <tr>\n",
       "      <th>25%</th>\n",
       "      <td>2500.75000</td>\n",
       "      <td>1.562853e+07</td>\n",
       "      <td>584.000000</td>\n",
       "      <td>32.000000</td>\n",
       "      <td>2.000000</td>\n",
       "      <td>0.000000</td>\n",
       "      <td>1.000000</td>\n",
       "      <td>0.00000</td>\n",
       "      <td>0.000000</td>\n",
       "      <td>51002.110000</td>\n",
       "      <td>0.000000</td>\n",
       "    </tr>\n",
       "    <tr>\n",
       "      <th>50%</th>\n",
       "      <td>5000.50000</td>\n",
       "      <td>1.569074e+07</td>\n",
       "      <td>652.000000</td>\n",
       "      <td>37.000000</td>\n",
       "      <td>5.000000</td>\n",
       "      <td>97198.540000</td>\n",
       "      <td>1.000000</td>\n",
       "      <td>1.00000</td>\n",
       "      <td>1.000000</td>\n",
       "      <td>100193.915000</td>\n",
       "      <td>0.000000</td>\n",
       "    </tr>\n",
       "    <tr>\n",
       "      <th>75%</th>\n",
       "      <td>7500.25000</td>\n",
       "      <td>1.575323e+07</td>\n",
       "      <td>718.000000</td>\n",
       "      <td>44.000000</td>\n",
       "      <td>7.000000</td>\n",
       "      <td>127644.240000</td>\n",
       "      <td>2.000000</td>\n",
       "      <td>1.00000</td>\n",
       "      <td>1.000000</td>\n",
       "      <td>149388.247500</td>\n",
       "      <td>0.000000</td>\n",
       "    </tr>\n",
       "    <tr>\n",
       "      <th>max</th>\n",
       "      <td>10000.00000</td>\n",
       "      <td>1.581569e+07</td>\n",
       "      <td>850.000000</td>\n",
       "      <td>92.000000</td>\n",
       "      <td>10.000000</td>\n",
       "      <td>250898.090000</td>\n",
       "      <td>4.000000</td>\n",
       "      <td>1.00000</td>\n",
       "      <td>1.000000</td>\n",
       "      <td>199992.480000</td>\n",
       "      <td>1.000000</td>\n",
       "    </tr>\n",
       "  </tbody>\n",
       "</table>\n",
       "</div>"
      ],
      "text/plain": [
       "         RowNumber    CustomerId   CreditScore           Age       Tenure  \\\n",
       "count  10000.00000  1.000000e+04  10000.000000  10000.000000  9091.000000   \n",
       "mean    5000.50000  1.569094e+07    650.528800     38.921800     4.997690   \n",
       "std     2886.89568  7.193619e+04     96.653299     10.487806     2.894723   \n",
       "min        1.00000  1.556570e+07    350.000000     18.000000     0.000000   \n",
       "25%     2500.75000  1.562853e+07    584.000000     32.000000     2.000000   \n",
       "50%     5000.50000  1.569074e+07    652.000000     37.000000     5.000000   \n",
       "75%     7500.25000  1.575323e+07    718.000000     44.000000     7.000000   \n",
       "max    10000.00000  1.581569e+07    850.000000     92.000000    10.000000   \n",
       "\n",
       "             Balance  NumOfProducts    HasCrCard  IsActiveMember  \\\n",
       "count   10000.000000   10000.000000  10000.00000    10000.000000   \n",
       "mean    76485.889288       1.530200      0.70550        0.515100   \n",
       "std     62397.405202       0.581654      0.45584        0.499797   \n",
       "min         0.000000       1.000000      0.00000        0.000000   \n",
       "25%         0.000000       1.000000      0.00000        0.000000   \n",
       "50%     97198.540000       1.000000      1.00000        1.000000   \n",
       "75%    127644.240000       2.000000      1.00000        1.000000   \n",
       "max    250898.090000       4.000000      1.00000        1.000000   \n",
       "\n",
       "       EstimatedSalary        Exited  \n",
       "count     10000.000000  10000.000000  \n",
       "mean     100090.239881      0.203700  \n",
       "std       57510.492818      0.402769  \n",
       "min          11.580000      0.000000  \n",
       "25%       51002.110000      0.000000  \n",
       "50%      100193.915000      0.000000  \n",
       "75%      149388.247500      0.000000  \n",
       "max      199992.480000      1.000000  "
      ]
     },
     "execution_count": 7,
     "metadata": {},
     "output_type": "execute_result"
    }
   ],
   "source": [
    "df.describe()"
   ]
  },
  {
   "cell_type": "markdown",
   "metadata": {},
   "source": [
    "**Вывод**\n",
    "\n",
    "* Данных достаточно для анализа.\n",
    "* Есть пропущенные значения.\n",
    "* Есть нарушения стиля в названиях."
   ]
  },
  {
   "cell_type": "code",
   "execution_count": 8,
   "metadata": {
    "scrolled": true
   },
   "outputs": [
    {
     "data": {
      "text/plain": [
       "Index(['RowNumber', 'CustomerId', 'Surname', 'CreditScore', 'Geography',\n",
       "       'Gender', 'Age', 'Tenure', 'Balance', 'NumOfProducts', 'HasCrCard',\n",
       "       'IsActiveMember', 'EstimatedSalary', 'Exited'],\n",
       "      dtype='object')"
      ]
     },
     "execution_count": 8,
     "metadata": {},
     "output_type": "execute_result"
    }
   ],
   "source": [
    "df.columns"
   ]
  },
  {
   "cell_type": "code",
   "execution_count": 9,
   "metadata": {},
   "outputs": [],
   "source": [
    "df = df.rename(columns={\n",
    "    'RowNumber': 'row_number','CustomerId': 'customer_id','Surname': 'surname','CreditScore': 'credit_score', 'Geography': 'geography',\n",
    "    'Gender': 'gender', 'Age': 'age', 'Tenure': 'tenure', 'Balance': 'balance', 'NumOfProducts': 'num_of_products',\n",
    "    'HasCrCard': 'has_cr_card','IsActiveMember': 'is_active_member', 'EstimatedSalary': 'estimated_salary','Exited': 'exited'\n",
    "})"
   ]
  },
  {
   "cell_type": "markdown",
   "metadata": {},
   "source": [
    "пропуски просто будем удалять так как замена на, что либо будет мешать нашему обучению модели."
   ]
  },
  {
   "cell_type": "code",
   "execution_count": 10,
   "metadata": {},
   "outputs": [
    {
     "data": {
      "text/plain": [
       "909"
      ]
     },
     "execution_count": 10,
     "metadata": {},
     "output_type": "execute_result"
    }
   ],
   "source": [
    "df.tenure.isna().sum()"
   ]
  },
  {
   "cell_type": "code",
   "execution_count": 11,
   "metadata": {},
   "outputs": [],
   "source": [
    "df = df.dropna(subset=['tenure'])"
   ]
  },
  {
   "cell_type": "code",
   "execution_count": 12,
   "metadata": {},
   "outputs": [
    {
     "data": {
      "text/plain": [
       "row_number          0\n",
       "customer_id         0\n",
       "surname             0\n",
       "credit_score        0\n",
       "geography           0\n",
       "gender              0\n",
       "age                 0\n",
       "tenure              0\n",
       "balance             0\n",
       "num_of_products     0\n",
       "has_cr_card         0\n",
       "is_active_member    0\n",
       "estimated_salary    0\n",
       "exited              0\n",
       "dtype: int64"
      ]
     },
     "execution_count": 12,
     "metadata": {},
     "output_type": "execute_result"
    }
   ],
   "source": [
    "df.isna().sum()"
   ]
  },
  {
   "cell_type": "markdown",
   "metadata": {},
   "source": [
    "а так же удалил ненужные для обучения столбцы типа: `row_number,customer_id,surname`"
   ]
  },
  {
   "cell_type": "code",
   "execution_count": 13,
   "metadata": {
    "scrolled": true
   },
   "outputs": [],
   "source": [
    "df = df.drop(['row_number','customer_id','surname'],axis=1)"
   ]
  },
  {
   "cell_type": "markdown",
   "metadata": {},
   "source": [
    "## Исследование задачи"
   ]
  },
  {
   "cell_type": "markdown",
   "metadata": {},
   "source": [
    "выполним кодирование техникой OHE так как она подходит под нашу задачу и без неё не получиться обучать модель.\n",
    "\n",
    "**Были преобразованы такие признаки как:**\n",
    "\n",
    "* geography -----> geography_Germany и geography_Spain\n",
    "* gender -----> gender_Male "
   ]
  },
  {
   "cell_type": "code",
   "execution_count": 14,
   "metadata": {},
   "outputs": [],
   "source": [
    "df_ohe = pd.get_dummies(df, drop_first=True)\n",
    "target = df_ohe['exited']\n",
    "features = df_ohe.drop('exited', axis=1)"
   ]
  },
  {
   "cell_type": "markdown",
   "metadata": {},
   "source": [
    "разделим наши выборки"
   ]
  },
  {
   "cell_type": "code",
   "execution_count": 15,
   "metadata": {},
   "outputs": [],
   "source": [
    "features_train_valid, features_test, target_train_valid, target_test= train_test_split(features,target, test_size=0.4, random_state= RANDOM_STATE)\n",
    "\n",
    "features_train, features_valid, target_train, target_valid = train_test_split(features_train_valid,target_train_valid, test_size=0.5, random_state= RANDOM_STATE)"
   ]
  },
  {
   "cell_type": "markdown",
   "metadata": {},
   "source": [
    "далее масштабируем наши признаки методом скалер."
   ]
  },
  {
   "cell_type": "code",
   "execution_count": 16,
   "metadata": {
    "scrolled": true
   },
   "outputs": [],
   "source": [
    "pd.options.mode.chained_assignment = None\n",
    "numeric = [ 'tenure','credit_score', 'balance', 'age','estimated_salary']\n",
    "scaler = StandardScaler()\n",
    "scaler.fit(features_train[numeric])\n",
    "features_train[numeric]= scaler.transform(features_train[numeric])\n",
    "features_valid[numeric] = scaler.transform(features_valid[numeric])"
   ]
  },
  {
   "cell_type": "markdown",
   "metadata": {},
   "source": [
    "accuracy получилось не высоким,но хорошим."
   ]
  },
  {
   "cell_type": "code",
   "execution_count": 17,
   "metadata": {
    "scrolled": true
   },
   "outputs": [
    {
     "name": "stdout",
     "output_type": "stream",
     "text": [
      "accuracy нашей модели: 0.7744774477447744\n"
     ]
    }
   ],
   "source": [
    "model = DecisionTreeClassifier(random_state=RANDOM_STATE) # обучите модель с заданной глубиной дерева\n",
    "model.fit(features_train,target_train) # обучите модель\n",
    "# обучите модель\n",
    "predicted_valid = model.predict(features_valid) # получите предсказания модели\n",
    "accuracy_valid = accuracy_score(target_valid,predicted_valid) # посчитайте качество модели\n",
    "print('accuracy нашей модели:',accuracy_valid)"
   ]
  },
  {
   "cell_type": "markdown",
   "metadata": {},
   "source": [
    "## Борьба с дисбалансом"
   ]
  },
  {
   "cell_type": "markdown",
   "metadata": {},
   "source": [
    "### Дерево решений"
   ]
  },
  {
   "cell_type": "markdown",
   "metadata": {},
   "source": [
    "константная модель показывает уже лучше результат"
   ]
  },
  {
   "cell_type": "code",
   "execution_count": 18,
   "metadata": {
    "scrolled": true
   },
   "outputs": [
    {
     "name": "stdout",
     "output_type": "stream",
     "text": [
      "0.7960620393796062\n"
     ]
    }
   ],
   "source": [
    "target_pred_constant = pd.Series(0, index=target.index)\n",
    "print(accuracy_score(target, target_pred_constant))"
   ]
  },
  {
   "cell_type": "markdown",
   "metadata": {},
   "source": [
    "нашли нашу проблему с дисбалансом. Наша модель видит в основном True Negative"
   ]
  },
  {
   "cell_type": "code",
   "execution_count": 19,
   "metadata": {},
   "outputs": [
    {
     "name": "stdout",
     "output_type": "stream",
     "text": [
      "матрица ошибок нашей модели\n"
     ]
    },
    {
     "data": {
      "text/plain": [
       "array([[1855,  291],\n",
       "       [ 324,  257]])"
      ]
     },
     "execution_count": 19,
     "metadata": {},
     "output_type": "execute_result"
    }
   ],
   "source": [
    "print('матрица ошибок нашей модели')\n",
    "confusion_matrix(target_valid,predicted_valid)"
   ]
  },
  {
   "cell_type": "markdown",
   "metadata": {},
   "source": [
    "Полнота выявляет, какую долю положительных среди всех ответов выделила модель. Показатель я считаю не плохой!"
   ]
  },
  {
   "cell_type": "code",
   "execution_count": 20,
   "metadata": {},
   "outputs": [
    {
     "name": "stdout",
     "output_type": "stream",
     "text": [
      "Доля положительных ответов нашей модели: 0.4423407917383821\n"
     ]
    }
   ],
   "source": [
    "print('Доля положительных ответов нашей модели:',recall_score(target_valid,predicted_valid))"
   ]
  },
  {
   "cell_type": "markdown",
   "metadata": {},
   "source": [
    "Точность тоже"
   ]
  },
  {
   "cell_type": "code",
   "execution_count": 21,
   "metadata": {},
   "outputs": [
    {
     "name": "stdout",
     "output_type": "stream",
     "text": [
      "Количество отрицательных ответов нашей модели: 0.46897810218978103\n"
     ]
    }
   ],
   "source": [
    "print('Количество отрицательных ответов нашей модели:',precision_score(target_valid,predicted_valid))"
   ]
  },
  {
   "cell_type": "markdown",
   "metadata": {},
   "source": [
    "до поставленной задачи нам ещё долеко"
   ]
  },
  {
   "cell_type": "code",
   "execution_count": 22,
   "metadata": {
    "scrolled": true
   },
   "outputs": [
    {
     "name": "stdout",
     "output_type": "stream",
     "text": [
      "f1 мера: 0.4552701505757307\n"
     ]
    }
   ],
   "source": [
    "print('f1 мера:',f1_score(target_valid,predicted_valid))"
   ]
  },
  {
   "cell_type": "markdown",
   "metadata": {},
   "source": [
    "f1 на логистической получилось нормальным После увелечение выборки."
   ]
  },
  {
   "cell_type": "code",
   "execution_count": 23,
   "metadata": {},
   "outputs": [
    {
     "name": "stdout",
     "output_type": "stream",
     "text": [
      "F1: 0.4925469863901492\n"
     ]
    }
   ],
   "source": [
    "def upsample(features, target, repeat):\n",
    "    features_zeros = features[target == 0]\n",
    "    features_ones = features[target == 1]\n",
    "    target_zeros = target[target == 0]\n",
    "    target_ones = target[target == 1]\n",
    "\n",
    "    features_upsampled = pd.concat([features_zeros] + [features_ones] * repeat)\n",
    "    target_upsampled = pd.concat([target_zeros] + [target_ones] * repeat)\n",
    "    \n",
    "    features_upsampled, target_upsampled = shuffle(\n",
    "        features_upsampled, target_upsampled, random_state=12345)\n",
    "    \n",
    "    return features_upsampled, target_upsampled\n",
    "\n",
    "features_upsampled, target_upsampled = upsample(features_train, target_train,4)\n",
    "\n",
    "# < напишите код здесь >\n",
    "model_up = LogisticRegression(random_state=RANDOM_STATE,solver='liblinear').fit(features_upsampled, target_upsampled)\n",
    "predicted_valid = model_up.predict(features_valid)\n",
    "print(\"F1:\", f1_score(target_valid, predicted_valid))"
   ]
  },
  {
   "cell_type": "code",
   "execution_count": 24,
   "metadata": {},
   "outputs": [
    {
     "name": "stdout",
     "output_type": "stream",
     "text": [
      "Accuracy: 0.727906123945728\n",
      "F1: 0.5\n"
     ]
    }
   ],
   "source": [
    "def downsample(features, target, repeat):\n",
    "    features_zeros = features[target == 0]\n",
    "    features_ones = features[target == 1]\n",
    "    target_zeros = target[target == 0]\n",
    "    target_ones = target[target == 1]\n",
    "\n",
    "    features_downsampled = pd.concat(\n",
    "    [features_zeros.sample(frac=repeat, random_state=RANDOM_STATE)] + [features_ones])\n",
    "    target_downsampled = pd.concat(\n",
    "    [target_zeros.sample(frac=repeat, random_state=RANDOM_STATE)] + [target_ones])\n",
    "    \n",
    "    features_downsampled, target_downsampled = shuffle(\n",
    "    features_downsampled, target_downsampled, random_state=RANDOM_STATE)\n",
    "    \n",
    "    return features_downsampled, target_downsampled\n",
    "features_downsampled, target_downsampled = downsample(features_train, target_train, 0.27)\n",
    "model_down = LogisticRegression(solver='liblinear').fit(features_downsampled,target_downsampled)\n",
    "predicted_valid = model_down.predict(features_valid)\n",
    "print(\"Accuracy:\", accuracy_score(predicted_valid, target_valid))\n",
    "print(\"F1:\", f1_score(target_valid, predicted_valid))"
   ]
  },
  {
   "cell_type": "code",
   "execution_count": 25,
   "metadata": {},
   "outputs": [
    {
     "name": "stdout",
     "output_type": "stream",
     "text": [
      "Fitting 2 folds for each of 24 candidates, totalling 48 fits\n"
     ]
    },
    {
     "data": {
      "text/plain": [
       "GridSearchCV(cv=2, estimator=RandomForestClassifier(), n_jobs=-1,\n",
       "             param_grid={'criterion': ['gini', 'entropy'],\n",
       "                         'max_features': ['auto', 'sqrt', 'log2'],\n",
       "                         'n_estimators': [100, 200, 500, 1000]},\n",
       "             verbose=1)"
      ]
     },
     "execution_count": 25,
     "metadata": {},
     "output_type": "execute_result"
    }
   ],
   "source": [
    "search_space = {\n",
    "    'n_estimators' : [100, 200, 500, 1000],\n",
    "    'criterion': ['gini','entropy'],\n",
    "    'max_features': ['auto','sqrt','log2'],\n",
    "}\n",
    "GS = GridSearchCV(RandomForestClassifier(),\n",
    "                  search_space,\n",
    "                  cv = 2,\n",
    "                  verbose = 1,\n",
    "                  n_jobs=-1\n",
    ")\n",
    "#GS.fit(features_train_valid,target_train_valid)\n",
    "GS.fit(features_upsampled, target_upsampled)"
   ]
  },
  {
   "cell_type": "code",
   "execution_count": 26,
   "metadata": {},
   "outputs": [
    {
     "name": "stdout",
     "output_type": "stream",
     "text": [
      "f1 мера: 0.5922330097087378\n",
      "accuracy на лучших показателях: 0.845984598459846\n"
     ]
    }
   ],
   "source": [
    "predicted_gs = GS.predict(features_valid) # получите предсказания модели\n",
    "accuracy_gs = accuracy_score(target_valid,predicted_gs) # посчитайте качество модели\n",
    "print('f1 мера:',f1_score(target_valid,predicted_gs))\n",
    "print('accuracy на лучших показателях:',accuracy_gs)"
   ]
  },
  {
   "cell_type": "markdown",
   "metadata": {},
   "source": [
    "f1 мера: 0.5922330097087378\n",
    "\n",
    "accuracy на лучших показателях: 0.845984598459846\n",
    "\n",
    "Отличные показатели! на валидационной выборке!!"
   ]
  },
  {
   "cell_type": "markdown",
   "metadata": {},
   "source": [
    "попробуем установить пороги для нашей регрессии.\n"
   ]
  },
  {
   "cell_type": "code",
   "execution_count": 27,
   "metadata": {
    "scrolled": true
   },
   "outputs": [
    {
     "name": "stdout",
     "output_type": "stream",
     "text": [
      "Порог = 0.00 | Точность = 0.213, Полнота = 1.000\n",
      "Порог = 0.03 | Точность = 0.217, Полнота = 0.990\n",
      "Порог = 0.06 | Точность = 0.242, Полнота = 0.950\n",
      "Порог = 0.09 | Точность = 0.273, Полнота = 0.904\n",
      "Порог = 0.12 | Точность = 0.304, Полнота = 0.842\n",
      "Порог = 0.15 | Точность = 0.329, Полнота = 0.764\n",
      "Порог = 0.18 | Точность = 0.366, Полнота = 0.694\n",
      "Порог = 0.21 | Точность = 0.398, Полнота = 0.633\n",
      "Порог = 0.24 | Точность = 0.422, Полнота = 0.571\n",
      "Порог = 0.27 | Точность = 0.456, Полнота = 0.523\n",
      "------------------------------------------------\n",
      "на валидационной выборке AUC-ROC: 0.7474298739358981\n"
     ]
    }
   ],
   "source": [
    "model = LogisticRegression(random_state=RANDOM_STATE, solver='liblinear')\n",
    "model.fit(features_train, target_train)\n",
    "probabilities_valid = model.predict_proba(features_valid)\n",
    "probabilities_one_valid = probabilities_valid[:, 1]\n",
    "\n",
    "for threshold in np.arange(0, 0.3, 0.03):\n",
    "    predicted_valid = probabilities_one_valid > threshold# < напишите код здесь >\n",
    "    precision = precision_score(target_valid,predicted_valid)# < напишите код здесь >\n",
    "    recall = recall_score(target_valid,predicted_valid)# < напишите код здесь >\n",
    "    print(\"Порог = {:.2f} | Точность = {:.3f}, Полнота = {:.3f}\".format(\n",
    "        threshold, precision, recall))\n",
    "auc_roc = roc_auc_score(target_valid,probabilities_one_valid)\n",
    "print('------------------------------------------------')\n",
    "print(F'на валидационной выборке AUC-ROC: {auc_roc}')"
   ]
  },
  {
   "cell_type": "code",
   "execution_count": 28,
   "metadata": {
    "scrolled": true
   },
   "outputs": [
    {
     "data": {
      "image/png": "[encoded data removed]",
      "text/plain": [
       "<Figure size 432x432 with 1 Axes>"
      ]
     },
     "metadata": {
      "needs_background": "light"
     },
     "output_type": "display_data"
    }
   ],
   "source": [
    "precision, recall, thresholds = precision_recall_curve(target_valid, probabilities_valid[:, 1])\n",
    "\n",
    "plt.figure(figsize=(6, 6))\n",
    "plt.step(recall, precision, where='post')\n",
    "plt.xlabel('Recall')\n",
    "plt.ylabel('Precision')\n",
    "plt.ylim([0.0, 1.00])\n",
    "plt.xlim([0.0, 1.0])\n",
    "plt.title('Кривая Precision-Recall')\n",
    "plt.show() "
   ]
  },
  {
   "cell_type": "markdown",
   "metadata": {},
   "source": [
    "AUC-ROC отличный результат на валидационной выборке!!"
   ]
  },
  {
   "cell_type": "code",
   "execution_count": 29,
   "metadata": {},
   "outputs": [
    {
     "name": "stdout",
     "output_type": "stream",
     "text": [
      "Порог = 0.00 | Точность = 0.200, Полнота = 1.000\n",
      "Порог = 0.03 | Точность = 0.200, Полнота = 1.000\n",
      "Порог = 0.06 | Точность = 0.203, Полнота = 0.999\n",
      "Порог = 0.09 | Точность = 0.211, Полнота = 0.970\n",
      "Порог = 0.12 | Точность = 0.228, Полнота = 0.913\n",
      "Порог = 0.15 | Точность = 0.252, Полнота = 0.838\n",
      "Порог = 0.18 | Точность = 0.278, Полнота = 0.739\n",
      "Порог = 0.21 | Точность = 0.304, Полнота = 0.641\n",
      "Порог = 0.24 | Точность = 0.332, Полнота = 0.541\n",
      "Порог = 0.27 | Точность = 0.357, Полнота = 0.434\n",
      "------------------------------------------------\n",
      "на тестовой выборке AUC-ROC: 0.6878595794030651\n"
     ]
    }
   ],
   "source": [
    "model = LogisticRegression(random_state=RANDOM_STATE, solver='liblinear')\n",
    "model.fit(features_train_valid, target_train_valid)\n",
    "probabilities_test = model.predict_proba(features_test)\n",
    "probabilities_one_test = probabilities_test[:, 1]\n",
    "\n",
    "for threshold in np.arange(0, 0.3, 0.03):\n",
    "    predicted_valid_test = probabilities_one_test > threshold# < напишите код здесь >\n",
    "    precision = precision_score(target_test,predicted_valid_test)# < напишите код здесь >\n",
    "    recall = recall_score(target_test,predicted_valid_test)# < напишите код здесь >\n",
    "    print(\"Порог = {:.2f} | Точность = {:.3f}, Полнота = {:.3f}\".format(\n",
    "        threshold, precision, recall))\n",
    "auc_roc_test = roc_auc_score(target_test,probabilities_one_test)\n",
    "print('------------------------------------------------')\n",
    "print(F'на тестовой выборке AUC-ROC: {auc_roc_test}')"
   ]
  },
  {
   "cell_type": "code",
   "execution_count": 30,
   "metadata": {
    "scrolled": false
   },
   "outputs": [
    {
     "data": {
      "image/png": "[encoded data removed]",
      "text/plain": [
       "<Figure size 432x432 with 1 Axes>"
      ]
     },
     "metadata": {
      "needs_background": "light"
     },
     "output_type": "display_data"
    }
   ],
   "source": [
    "precision, recall, thresholds = precision_recall_curve(target_test, probabilities_test[:, 1])\n",
    "\n",
    "plt.figure(figsize=(6, 6))\n",
    "plt.step(recall, precision, where='post')\n",
    "plt.xlabel('Recall')\n",
    "plt.ylabel('Precision')\n",
    "plt.ylim([0.0, 1.00])\n",
    "plt.xlim([0.0, 1.0])\n",
    "plt.title('Кривая Precision-Recall')\n",
    "plt.show() "
   ]
  },
  {
   "cell_type": "markdown",
   "metadata": {},
   "source": [
    "AUC-ROC отличный результат на тестовой выборке!!"
   ]
  },
  {
   "cell_type": "markdown",
   "metadata": {},
   "source": [
    "## Тестирование модели"
   ]
  },
  {
   "cell_type": "markdown",
   "metadata": {},
   "source": [
    "### случайный лес"
   ]
  },
  {
   "cell_type": "code",
   "execution_count": 31,
   "metadata": {},
   "outputs": [],
   "source": [
    "numeric_test = [ 'tenure','credit_score', 'balance', 'age','estimated_salary']\n",
    "scaler = StandardScaler()\n",
    "scaler.fit(features_train_valid[numeric_test])\n",
    "features_train_valid[numeric_test]= scaler.transform(features_train_valid[numeric_test])\n",
    "features_test[numeric_test] = scaler.transform(features_test[numeric_test])"
   ]
  },
  {
   "cell_type": "code",
   "execution_count": 32,
   "metadata": {},
   "outputs": [],
   "source": [
    "features_upsampled_valid, target_upsampled_valid = upsample(features_train_valid, target_train_valid, 4)\n",
    "features_downsampled, target_downsampled = downsample(features_train_valid, target_train_valid, 0.52)"
   ]
  },
  {
   "cell_type": "markdown",
   "metadata": {},
   "source": [
    "Knn показала хуже результат чем рандом форест."
   ]
  },
  {
   "cell_type": "code",
   "execution_count": 33,
   "metadata": {},
   "outputs": [
    {
     "name": "stdout",
     "output_type": "stream",
     "text": [
      "Fitting 10 folds for each of 9 candidates, totalling 90 fits\n",
      "f1 мера: 0.5352727272727273\n",
      "accuracy на лучших показателях: 0.8243057464943635\n"
     ]
    }
   ],
   "source": [
    "from sklearn.neighbors import KNeighborsClassifier\n",
    "from sklearn.pipeline import Pipeline\n",
    "knn_pipe = Pipeline([('knn', KNeighborsClassifier(n_jobs=-1))])\n",
    "knn_params = {'knn__n_neighbors': range(1, 10)}\n",
    "knn_grid = GridSearchCV(knn_pipe, knn_params, cv=10, n_jobs=-1, verbose=1)\n",
    "\n",
    "knn_grid.fit(features_downsampled, target_downsampled)\n",
    "predicted_knn = knn_grid.predict(features_test) # получите предсказания модели\n",
    "accuracy_knn = accuracy_score(target_test,predicted_knn) # посчитайте качество модели\n",
    "print('f1 мера:',f1_score(target_test,predicted_knn))\n",
    "print('accuracy на лучших показателях:',accuracy_knn)"
   ]
  },
  {
   "cell_type": "code",
   "execution_count": 34,
   "metadata": {},
   "outputs": [
    {
     "name": "stdout",
     "output_type": "stream",
     "text": [
      "Fitting 5 folds for each of 3 candidates, totalling 15 fits\n",
      "[CV 1/5] END ..........................................C=0.1; total time=   0.1s\n",
      "[CV 2/5] END ..........................................C=0.1; total time=   0.2s\n",
      "[CV 3/5] END ..........................................C=0.1; total time=   0.2s\n",
      "[CV 4/5] END ..........................................C=0.1; total time=   0.2s\n",
      "[CV 5/5] END ..........................................C=0.1; total time=   0.2s\n",
      "[CV 1/5] END ............................................C=1; total time=   0.3s\n",
      "[CV 2/5] END ............................................C=1; total time=   0.2s\n",
      "[CV 3/5] END ............................................C=1; total time=   0.2s\n",
      "[CV 4/5] END ............................................C=1; total time=   0.1s\n",
      "[CV 5/5] END ............................................C=1; total time=   0.3s\n",
      "[CV 1/5] END .........................................C=10.0; total time=   0.2s\n",
      "[CV 2/5] END .........................................C=10.0; total time=   0.2s\n",
      "[CV 3/5] END .........................................C=10.0; total time=   0.2s\n",
      "[CV 4/5] END .........................................C=10.0; total time=   0.3s\n",
      "[CV 5/5] END .........................................C=10.0; total time=   0.2s\n",
      "f1 мера: 0.5030849549121974\n",
      "accuracy на лучших показателях: 0.7121253780588397\n"
     ]
    }
   ],
   "source": [
    "grid_log = GridSearchCV(LogisticRegression(random_state=RANDOM_STATE),\n",
    "                       param_grid={'C':[0.1,1,10.]},\n",
    "                       cv=5,\n",
    "                       verbose=4)\n",
    "grid_log.fit(features_upsampled_valid, target_upsampled_valid)\n",
    "predicted_log = grid_log.predict(features_test) # получите предсказания модели\n",
    "accuracy_log = accuracy_score(target_test,predicted_log) # посчитайте качество модели\n",
    "print('f1 мера:',f1_score(target_test,predicted_log))\n",
    "print('accuracy на лучших показателях:',accuracy_log)"
   ]
  },
  {
   "cell_type": "code",
   "execution_count": 35,
   "metadata": {},
   "outputs": [
    {
     "name": "stdout",
     "output_type": "stream",
     "text": [
      "Fitting 5 folds for each of 24 candidates, totalling 120 fits\n",
      "f1 мера: 0.6096654275092936\n",
      "accuracy на лучших показателях: 0.8556502612042892\n"
     ]
    }
   ],
   "source": [
    "rfc = RandomForestClassifier(class_weight='balanced',random_state=RANDOM_STATE)\n",
    "search_space = {\n",
    "    'n_estimators': [100,200,500,1000],\n",
    "    'criterion': ['gini','entropy'],\n",
    "    'max_features': ['auto','sqrt','log2']\n",
    "}\n",
    "GS_test = GridSearchCV(rfc,\n",
    "                  search_space,\n",
    "                  cv = 5,\n",
    "                verbose = 1,\n",
    "                  n_jobs=-1\n",
    "\n",
    ")\n",
    "#GS.fit(features_train_valid,target_train_valid)\n",
    "GS_test.fit(features_upsampled_valid, target_upsampled_valid)\n",
    "predicted_test = GS_test.predict(features_test) # получите предсказания модели\n",
    "accuracy_test = accuracy_score(target_test,predicted_test) # посчитайте качество модели\n",
    "print('f1 мера:',f1_score(target_test,predicted_test))\n",
    "print('accuracy на лучших показателях:',accuracy_test)"
   ]
  },
  {
   "cell_type": "code",
   "execution_count": 36,
   "metadata": {},
   "outputs": [
    {
     "name": "stdout",
     "output_type": "stream",
     "text": [
      "Accuracy Dummy-модели на тестовой выборке: 0.7998350288699477\n"
     ]
    }
   ],
   "source": [
    "dummy = DummyClassifier(strategy='most_frequent', random_state=RANDOM_STATE).fit(features_train_valid, target_train_valid)\n",
    "print('Accuracy Dummy-модели на тестовой выборке:', dummy.score(features_test,target_test))"
   ]
  },
  {
   "cell_type": "markdown",
   "metadata": {},
   "source": [
    "**Вывод:**\n",
    "\n",
    "Нашу задачу мы выполнили F1 мера - 0.60 на тестовой выборке. Мы устранили дисбаланс классов и при помощи GridSearchCV нашли наилучший параметр для нашей регрессионной модели.\n",
    "\n",
    "Так же мы проверили нашу модель на адекватностью . Тут результат тоже очень хороший получился Accuracy Dummy-модели на тестовой выборке: 0.79"
   ]
  }
 ],
 "metadata": {
  "ExecuteTimeLog": [
   {
    "duration": 1206,
    "start_time": "2022-05-02T19:13:36.321Z"
   },
   {
    "duration": 516,
    "start_time": "2022-05-02T19:15:28.090Z"
   },
   {
    "duration": 11,
    "start_time": "2022-05-02T19:15:37.768Z"
   },
   {
    "duration": 3,
    "start_time": "2022-05-02T19:15:51.009Z"
   },
   {
    "duration": 4,
    "start_time": "2022-05-02T19:16:32.232Z"
   },
   {
    "duration": 186,
    "start_time": "2022-05-02T19:16:42.565Z"
   },
   {
    "duration": 4,
    "start_time": "2022-05-02T19:16:48.334Z"
   },
   {
    "duration": 3,
    "start_time": "2022-05-02T19:18:30.998Z"
   },
   {
    "duration": 4,
    "start_time": "2022-05-02T19:19:02.402Z"
   },
   {
    "duration": 220,
    "start_time": "2022-05-02T19:19:12.051Z"
   },
   {
    "duration": 3,
    "start_time": "2022-05-02T19:19:16.804Z"
   },
   {
    "duration": 204,
    "start_time": "2022-05-02T19:19:31.280Z"
   },
   {
    "duration": 3,
    "start_time": "2022-05-02T19:19:41.247Z"
   },
   {
    "duration": 3,
    "start_time": "2022-05-02T19:20:55.887Z"
   },
   {
    "duration": 3,
    "start_time": "2022-05-02T19:22:05.104Z"
   },
   {
    "duration": 4,
    "start_time": "2022-05-02T19:25:17.173Z"
   },
   {
    "duration": 4,
    "start_time": "2022-05-02T19:25:40.173Z"
   },
   {
    "duration": 4,
    "start_time": "2022-05-02T19:25:45.730Z"
   },
   {
    "duration": 4,
    "start_time": "2022-05-02T19:25:59.452Z"
   },
   {
    "duration": 177,
    "start_time": "2022-05-02T19:30:23.313Z"
   },
   {
    "duration": 40,
    "start_time": "2022-05-02T19:31:02.953Z"
   },
   {
    "duration": 15,
    "start_time": "2022-05-02T19:31:30.833Z"
   },
   {
    "duration": 4,
    "start_time": "2022-05-02T19:31:49.315Z"
   },
   {
    "duration": 10,
    "start_time": "2022-05-02T19:32:00.176Z"
   },
   {
    "duration": 33,
    "start_time": "2022-05-02T19:32:06.821Z"
   },
   {
    "duration": 28,
    "start_time": "2022-05-02T19:32:13.215Z"
   },
   {
    "duration": 10,
    "start_time": "2022-05-02T19:32:13.433Z"
   },
   {
    "duration": 3,
    "start_time": "2022-05-02T19:32:19.034Z"
   },
   {
    "duration": 33,
    "start_time": "2022-05-02T19:32:19.039Z"
   },
   {
    "duration": 11,
    "start_time": "2022-05-02T19:32:19.073Z"
   },
   {
    "duration": 35,
    "start_time": "2022-05-02T19:32:19.085Z"
   },
   {
    "duration": 3,
    "start_time": "2022-05-02T19:32:19.123Z"
   },
   {
    "duration": 17,
    "start_time": "2022-05-02T19:32:19.128Z"
   },
   {
    "duration": 2,
    "start_time": "2022-05-02T19:32:38.276Z"
   },
   {
    "duration": 34,
    "start_time": "2022-05-02T19:33:27.436Z"
   },
   {
    "duration": 4,
    "start_time": "2022-05-02T19:33:48.877Z"
   },
   {
    "duration": 3,
    "start_time": "2022-05-02T19:41:06.431Z"
   },
   {
    "duration": 3,
    "start_time": "2022-05-02T19:42:44.689Z"
   },
   {
    "duration": 197,
    "start_time": "2022-05-02T19:47:18.372Z"
   },
   {
    "duration": 218,
    "start_time": "2022-05-02T19:48:14.914Z"
   },
   {
    "duration": 194,
    "start_time": "2022-05-02T19:48:34.020Z"
   },
   {
    "duration": 199,
    "start_time": "2022-05-02T19:49:24.970Z"
   },
   {
    "duration": 4,
    "start_time": "2022-05-02T19:50:07.960Z"
   },
   {
    "duration": 4,
    "start_time": "2022-05-02T19:50:15.901Z"
   },
   {
    "duration": 5,
    "start_time": "2022-05-02T19:50:47.626Z"
   },
   {
    "duration": 5,
    "start_time": "2022-05-02T19:51:04.613Z"
   },
   {
    "duration": 4,
    "start_time": "2022-05-02T19:51:20.588Z"
   },
   {
    "duration": 74,
    "start_time": "2022-05-03T06:18:07.736Z"
   },
   {
    "duration": 10,
    "start_time": "2022-05-03T06:18:15.645Z"
   },
   {
    "duration": 2283,
    "start_time": "2022-05-03T06:18:21.360Z"
   },
   {
    "duration": 5,
    "start_time": "2022-05-03T06:18:26.158Z"
   },
   {
    "duration": 38,
    "start_time": "2022-05-03T06:18:26.372Z"
   },
   {
    "duration": 7,
    "start_time": "2022-05-03T06:18:26.575Z"
   },
   {
    "duration": 22,
    "start_time": "2022-05-03T06:18:26.783Z"
   },
   {
    "duration": 24,
    "start_time": "2022-05-03T06:18:27.040Z"
   },
   {
    "duration": 61,
    "start_time": "2022-05-03T06:18:27.290Z"
   },
   {
    "duration": 7,
    "start_time": "2022-05-03T06:18:27.739Z"
   },
   {
    "duration": 6,
    "start_time": "2022-05-03T06:18:28.044Z"
   },
   {
    "duration": 7,
    "start_time": "2022-05-03T06:18:28.349Z"
   },
   {
    "duration": 116,
    "start_time": "2022-05-03T06:18:29.108Z"
   },
   {
    "duration": 50,
    "start_time": "2022-05-03T06:19:16.513Z"
   },
   {
    "duration": 12,
    "start_time": "2022-05-03T06:19:22.189Z"
   },
   {
    "duration": 8,
    "start_time": "2022-05-03T06:19:27.138Z"
   },
   {
    "duration": 50,
    "start_time": "2022-05-03T06:19:36.578Z"
   },
   {
    "duration": 6,
    "start_time": "2022-05-03T06:19:58.149Z"
   },
   {
    "duration": 7,
    "start_time": "2022-05-03T06:20:03.610Z"
   },
   {
    "duration": 7,
    "start_time": "2022-05-03T06:20:04.303Z"
   },
   {
    "duration": 17,
    "start_time": "2022-05-03T06:20:12.188Z"
   },
   {
    "duration": 11,
    "start_time": "2022-05-03T06:20:24.569Z"
   },
   {
    "duration": 12,
    "start_time": "2022-05-03T06:20:33.784Z"
   },
   {
    "duration": 12,
    "start_time": "2022-05-03T06:21:11.538Z"
   },
   {
    "duration": 13,
    "start_time": "2022-05-03T06:21:19.457Z"
   },
   {
    "duration": 10,
    "start_time": "2022-05-03T06:21:20.450Z"
   },
   {
    "duration": 1516,
    "start_time": "2022-05-03T06:35:35.573Z"
   },
   {
    "duration": 194,
    "start_time": "2022-05-03T06:36:14.553Z"
   },
   {
    "duration": 192,
    "start_time": "2022-05-03T06:36:44.306Z"
   },
   {
    "duration": 14213,
    "start_time": "2022-05-03T06:37:04.835Z"
   },
   {
    "duration": 90313,
    "start_time": "2022-05-03T06:37:29.862Z"
   },
   {
    "duration": 18,
    "start_time": "2022-05-03T06:39:52.468Z"
   },
   {
    "duration": 7,
    "start_time": "2022-05-03T06:45:43.348Z"
   },
   {
    "duration": 19,
    "start_time": "2022-05-03T06:51:19.617Z"
   },
   {
    "duration": 27,
    "start_time": "2022-05-03T06:51:24.561Z"
   },
   {
    "duration": 0,
    "start_time": "2022-05-03T06:54:12.029Z"
   },
   {
    "duration": 2169,
    "start_time": "2022-05-03T06:55:11.677Z"
   },
   {
    "duration": 3,
    "start_time": "2022-05-03T06:55:13.849Z"
   },
   {
    "duration": 50,
    "start_time": "2022-05-03T06:55:13.854Z"
   },
   {
    "duration": 8,
    "start_time": "2022-05-03T06:55:13.907Z"
   },
   {
    "duration": 31,
    "start_time": "2022-05-03T06:55:13.924Z"
   },
   {
    "duration": 26,
    "start_time": "2022-05-03T06:55:13.957Z"
   },
   {
    "duration": 87,
    "start_time": "2022-05-03T06:55:13.986Z"
   },
   {
    "duration": 6,
    "start_time": "2022-05-03T06:55:14.076Z"
   },
   {
    "duration": 35,
    "start_time": "2022-05-03T06:55:14.085Z"
   },
   {
    "duration": 22,
    "start_time": "2022-05-03T06:55:14.125Z"
   },
   {
    "duration": 36,
    "start_time": "2022-05-03T06:55:14.149Z"
   },
   {
    "duration": 28,
    "start_time": "2022-05-03T06:55:14.187Z"
   },
   {
    "duration": 39,
    "start_time": "2022-05-03T06:55:14.217Z"
   },
   {
    "duration": 86227,
    "start_time": "2022-05-03T06:55:14.259Z"
   },
   {
    "duration": 0,
    "start_time": "2022-05-03T07:00:15.879Z"
   },
   {
    "duration": 2527,
    "start_time": "2022-05-03T07:00:21.183Z"
   },
   {
    "duration": 60,
    "start_time": "2022-05-03T10:33:46.582Z"
   },
   {
    "duration": 2235,
    "start_time": "2022-05-03T10:33:53.437Z"
   },
   {
    "duration": 3,
    "start_time": "2022-05-03T10:33:55.675Z"
   },
   {
    "duration": 40,
    "start_time": "2022-05-03T10:33:55.680Z"
   },
   {
    "duration": 7,
    "start_time": "2022-05-03T10:33:55.722Z"
   },
   {
    "duration": 23,
    "start_time": "2022-05-03T10:33:55.732Z"
   },
   {
    "duration": 18,
    "start_time": "2022-05-03T10:33:55.757Z"
   },
   {
    "duration": 62,
    "start_time": "2022-05-03T10:33:55.777Z"
   },
   {
    "duration": 4,
    "start_time": "2022-05-03T10:33:55.841Z"
   },
   {
    "duration": 7,
    "start_time": "2022-05-03T10:33:55.847Z"
   },
   {
    "duration": 7,
    "start_time": "2022-05-03T10:33:55.855Z"
   },
   {
    "duration": 10,
    "start_time": "2022-05-03T10:33:55.864Z"
   },
   {
    "duration": 6,
    "start_time": "2022-05-03T10:33:55.876Z"
   },
   {
    "duration": 53,
    "start_time": "2022-05-03T10:33:55.884Z"
   },
   {
    "duration": 92,
    "start_time": "2022-05-03T10:33:55.939Z"
   },
   {
    "duration": 12,
    "start_time": "2022-05-03T10:34:53.566Z"
   },
   {
    "duration": 15,
    "start_time": "2022-05-03T10:34:57.307Z"
   },
   {
    "duration": 9,
    "start_time": "2022-05-03T10:36:58.944Z"
   },
   {
    "duration": 45,
    "start_time": "2022-05-03T10:37:39.757Z"
   },
   {
    "duration": 12,
    "start_time": "2022-05-03T10:37:53.837Z"
   },
   {
    "duration": 13,
    "start_time": "2022-05-03T10:38:21.516Z"
   },
   {
    "duration": 2057,
    "start_time": "2022-05-03T10:39:26.862Z"
   },
   {
    "duration": 20,
    "start_time": "2022-05-03T10:39:33.067Z"
   },
   {
    "duration": 7,
    "start_time": "2022-05-03T10:39:43.050Z"
   },
   {
    "duration": 223,
    "start_time": "2022-05-03T10:42:00.949Z"
   },
   {
    "duration": 222,
    "start_time": "2022-05-03T10:42:08.350Z"
   },
   {
    "duration": 227,
    "start_time": "2022-05-03T10:42:12.244Z"
   },
   {
    "duration": 158,
    "start_time": "2022-05-03T10:43:31.825Z"
   },
   {
    "duration": 9,
    "start_time": "2022-05-03T10:44:09.218Z"
   },
   {
    "duration": 17,
    "start_time": "2022-05-03T10:44:13.072Z"
   },
   {
    "duration": 156,
    "start_time": "2022-05-03T10:44:33.382Z"
   },
   {
    "duration": 17,
    "start_time": "2022-05-03T10:44:36.797Z"
   },
   {
    "duration": 16,
    "start_time": "2022-05-03T10:44:39.673Z"
   },
   {
    "duration": 80,
    "start_time": "2022-05-03T10:45:09.059Z"
   },
   {
    "duration": 191,
    "start_time": "2022-05-03T10:46:45.341Z"
   },
   {
    "duration": 8,
    "start_time": "2022-05-03T10:47:23.054Z"
   },
   {
    "duration": 612,
    "start_time": "2022-05-03T10:48:31.953Z"
   },
   {
    "duration": 30,
    "start_time": "2022-05-03T10:50:44.948Z"
   },
   {
    "duration": 35,
    "start_time": "2022-05-03T10:50:57.780Z"
   },
   {
    "duration": 35,
    "start_time": "2022-05-03T10:51:03.246Z"
   },
   {
    "duration": 43,
    "start_time": "2022-05-03T10:51:05.886Z"
   },
   {
    "duration": 37,
    "start_time": "2022-05-03T10:51:22.974Z"
   },
   {
    "duration": 48,
    "start_time": "2022-05-03T10:51:34.435Z"
   },
   {
    "duration": 29,
    "start_time": "2022-05-03T10:51:55.187Z"
   },
   {
    "duration": 35,
    "start_time": "2022-05-03T10:52:42.921Z"
   },
   {
    "duration": 587,
    "start_time": "2022-05-03T10:53:45.470Z"
   },
   {
    "duration": 5,
    "start_time": "2022-05-03T10:56:08.584Z"
   },
   {
    "duration": 16,
    "start_time": "2022-05-03T10:56:09.223Z"
   },
   {
    "duration": 4,
    "start_time": "2022-05-03T10:57:03.879Z"
   },
   {
    "duration": 98,
    "start_time": "2022-05-03T10:57:05.047Z"
   },
   {
    "duration": 132,
    "start_time": "2022-05-03T11:09:03.292Z"
   },
   {
    "duration": 5,
    "start_time": "2022-05-03T11:09:44.378Z"
   },
   {
    "duration": 6,
    "start_time": "2022-05-03T11:09:44.386Z"
   },
   {
    "duration": 30,
    "start_time": "2022-05-03T11:09:44.394Z"
   },
   {
    "duration": 4,
    "start_time": "2022-05-03T11:09:44.427Z"
   },
   {
    "duration": 13,
    "start_time": "2022-05-03T11:09:44.432Z"
   },
   {
    "duration": 12,
    "start_time": "2022-05-03T11:09:44.446Z"
   },
   {
    "duration": 36,
    "start_time": "2022-05-03T11:09:44.459Z"
   },
   {
    "duration": 28,
    "start_time": "2022-05-03T11:09:44.496Z"
   },
   {
    "duration": 4,
    "start_time": "2022-05-03T11:09:44.526Z"
   },
   {
    "duration": 6,
    "start_time": "2022-05-03T11:09:44.532Z"
   },
   {
    "duration": 7,
    "start_time": "2022-05-03T11:09:44.540Z"
   },
   {
    "duration": 9,
    "start_time": "2022-05-03T11:09:44.548Z"
   },
   {
    "duration": 17,
    "start_time": "2022-05-03T11:09:44.558Z"
   },
   {
    "duration": 244,
    "start_time": "2022-05-03T11:09:44.577Z"
   },
   {
    "duration": 10,
    "start_time": "2022-05-03T11:09:44.823Z"
   },
   {
    "duration": 0,
    "start_time": "2022-05-03T11:09:44.835Z"
   },
   {
    "duration": 10,
    "start_time": "2022-05-03T11:10:00.016Z"
   },
   {
    "duration": 695,
    "start_time": "2022-05-03T11:10:03.044Z"
   },
   {
    "duration": 11,
    "start_time": "2022-05-03T11:10:19.991Z"
   },
   {
    "duration": 11,
    "start_time": "2022-05-03T11:19:16.220Z"
   },
   {
    "duration": 18,
    "start_time": "2022-05-03T11:19:31.284Z"
   },
   {
    "duration": 12,
    "start_time": "2022-05-03T11:19:56.573Z"
   },
   {
    "duration": 5,
    "start_time": "2022-05-03T11:21:34.102Z"
   },
   {
    "duration": 10,
    "start_time": "2022-05-03T11:21:40.058Z"
   },
   {
    "duration": 13,
    "start_time": "2022-05-03T11:22:57.005Z"
   },
   {
    "duration": 8,
    "start_time": "2022-05-03T11:23:06.630Z"
   },
   {
    "duration": 665,
    "start_time": "2022-05-03T11:23:07.059Z"
   },
   {
    "duration": 12,
    "start_time": "2022-05-03T11:23:08.579Z"
   },
   {
    "duration": 13,
    "start_time": "2022-05-03T11:23:09.825Z"
   },
   {
    "duration": 27,
    "start_time": "2022-05-03T11:23:25.202Z"
   },
   {
    "duration": 18,
    "start_time": "2022-05-03T11:24:00.005Z"
   },
   {
    "duration": 26,
    "start_time": "2022-05-03T11:24:22.169Z"
   },
   {
    "duration": 15,
    "start_time": "2022-05-03T11:24:36.192Z"
   },
   {
    "duration": 3,
    "start_time": "2022-05-03T11:24:42.535Z"
   },
   {
    "duration": 9,
    "start_time": "2022-05-03T11:24:42.540Z"
   },
   {
    "duration": 25,
    "start_time": "2022-05-03T11:24:42.550Z"
   },
   {
    "duration": 3,
    "start_time": "2022-05-03T11:24:42.577Z"
   },
   {
    "duration": 15,
    "start_time": "2022-05-03T11:24:42.582Z"
   },
   {
    "duration": 13,
    "start_time": "2022-05-03T11:24:42.598Z"
   },
   {
    "duration": 103,
    "start_time": "2022-05-03T11:24:42.613Z"
   },
   {
    "duration": 6,
    "start_time": "2022-05-03T11:24:42.718Z"
   },
   {
    "duration": 5,
    "start_time": "2022-05-03T11:24:42.726Z"
   },
   {
    "duration": 6,
    "start_time": "2022-05-03T11:24:42.732Z"
   },
   {
    "duration": 10,
    "start_time": "2022-05-03T11:24:42.740Z"
   },
   {
    "duration": 9,
    "start_time": "2022-05-03T11:24:42.752Z"
   },
   {
    "duration": 61,
    "start_time": "2022-05-03T11:24:42.763Z"
   },
   {
    "duration": 234,
    "start_time": "2022-05-03T11:24:42.827Z"
   },
   {
    "duration": 13,
    "start_time": "2022-05-03T11:24:43.063Z"
   },
   {
    "duration": 782,
    "start_time": "2022-05-03T11:24:43.078Z"
   },
   {
    "duration": 106,
    "start_time": "2022-05-03T11:24:43.925Z"
   },
   {
    "duration": 45,
    "start_time": "2022-05-03T11:24:44.033Z"
   },
   {
    "duration": 22,
    "start_time": "2022-05-03T11:37:24.676Z"
   },
   {
    "duration": 49,
    "start_time": "2022-05-03T11:37:51.953Z"
   },
   {
    "duration": 10,
    "start_time": "2022-05-03T11:37:52.268Z"
   },
   {
    "duration": 22,
    "start_time": "2022-05-03T11:37:53.480Z"
   },
   {
    "duration": 22,
    "start_time": "2022-05-03T11:38:20.440Z"
   },
   {
    "duration": 978,
    "start_time": "2022-05-03T11:39:30.161Z"
   },
   {
    "duration": 1003,
    "start_time": "2022-05-03T11:40:38.584Z"
   },
   {
    "duration": 1592,
    "start_time": "2022-05-03T11:40:57.047Z"
   },
   {
    "duration": 11,
    "start_time": "2022-05-03T11:42:18.329Z"
   },
   {
    "duration": 4,
    "start_time": "2022-05-03T11:44:09.263Z"
   },
   {
    "duration": 6,
    "start_time": "2022-05-03T11:46:01.000Z"
   },
   {
    "duration": 5,
    "start_time": "2022-05-03T11:48:06.906Z"
   },
   {
    "duration": 7,
    "start_time": "2022-05-03T11:50:23.951Z"
   },
   {
    "duration": 7,
    "start_time": "2022-05-03T11:50:54.672Z"
   },
   {
    "duration": 5,
    "start_time": "2022-05-03T11:51:01.782Z"
   },
   {
    "duration": 9,
    "start_time": "2022-05-03T11:52:13.313Z"
   },
   {
    "duration": 6,
    "start_time": "2022-05-03T11:52:21.001Z"
   },
   {
    "duration": 5,
    "start_time": "2022-05-03T11:54:27.361Z"
   },
   {
    "duration": 5,
    "start_time": "2022-05-03T11:54:35.237Z"
   },
   {
    "duration": 7,
    "start_time": "2022-05-03T11:56:00.256Z"
   },
   {
    "duration": 492,
    "start_time": "2022-05-03T11:56:05.838Z"
   },
   {
    "duration": 468,
    "start_time": "2022-05-03T11:56:31.658Z"
   },
   {
    "duration": 421,
    "start_time": "2022-05-03T11:56:37.651Z"
   },
   {
    "duration": 687,
    "start_time": "2022-05-03T11:57:43.006Z"
   },
   {
    "duration": 5,
    "start_time": "2022-05-03T11:57:47.777Z"
   },
   {
    "duration": 7,
    "start_time": "2022-05-03T11:57:49.379Z"
   },
   {
    "duration": 5,
    "start_time": "2022-05-03T11:58:03.373Z"
   },
   {
    "duration": 5,
    "start_time": "2022-05-03T11:58:10.001Z"
   },
   {
    "duration": 5,
    "start_time": "2022-05-03T11:58:11.679Z"
   },
   {
    "duration": 1150,
    "start_time": "2022-05-03T11:58:34.313Z"
   },
   {
    "duration": 5,
    "start_time": "2022-05-03T11:58:36.839Z"
   },
   {
    "duration": 7,
    "start_time": "2022-05-03T11:58:37.608Z"
   },
   {
    "duration": 6,
    "start_time": "2022-05-03T11:58:40.363Z"
   },
   {
    "duration": 6,
    "start_time": "2022-05-03T11:58:41.345Z"
   },
   {
    "duration": 6,
    "start_time": "2022-05-03T11:58:42.468Z"
   },
   {
    "duration": 532,
    "start_time": "2022-05-03T11:58:43.592Z"
   },
   {
    "duration": 273,
    "start_time": "2022-05-03T12:00:29.467Z"
   },
   {
    "duration": 3490,
    "start_time": "2022-05-03T12:00:38.812Z"
   },
   {
    "duration": 1292,
    "start_time": "2022-05-03T12:01:43.342Z"
   },
   {
    "duration": 222,
    "start_time": "2022-05-03T12:03:19.012Z"
   },
   {
    "duration": 504,
    "start_time": "2022-05-03T12:04:39.723Z"
   },
   {
    "duration": 3,
    "start_time": "2022-05-03T12:04:59.149Z"
   },
   {
    "duration": 648,
    "start_time": "2022-05-03T12:05:03.517Z"
   },
   {
    "duration": 543,
    "start_time": "2022-05-03T12:06:23.694Z"
   },
   {
    "duration": 638,
    "start_time": "2022-05-03T12:06:31.187Z"
   },
   {
    "duration": 722,
    "start_time": "2022-05-03T12:06:43.818Z"
   },
   {
    "duration": 608,
    "start_time": "2022-05-03T12:06:54.337Z"
   },
   {
    "duration": 567,
    "start_time": "2022-05-03T12:08:00.372Z"
   },
   {
    "duration": 10,
    "start_time": "2022-05-03T12:08:10.050Z"
   },
   {
    "duration": 4,
    "start_time": "2022-05-03T12:08:44.684Z"
   },
   {
    "duration": 135,
    "start_time": "2022-05-03T12:08:50.517Z"
   },
   {
    "duration": 11,
    "start_time": "2022-05-03T12:09:23.854Z"
   },
   {
    "duration": 9,
    "start_time": "2022-05-03T12:18:27.748Z"
   },
   {
    "duration": 4,
    "start_time": "2022-05-03T12:18:46.917Z"
   },
   {
    "duration": 1541,
    "start_time": "2022-05-03T12:21:19.167Z"
   },
   {
    "duration": 13,
    "start_time": "2022-05-03T12:21:20.713Z"
   },
   {
    "duration": 45,
    "start_time": "2022-05-03T12:21:20.729Z"
   },
   {
    "duration": 6,
    "start_time": "2022-05-03T12:21:20.776Z"
   },
   {
    "duration": 22,
    "start_time": "2022-05-03T12:21:20.784Z"
   },
   {
    "duration": 30,
    "start_time": "2022-05-03T12:21:20.808Z"
   },
   {
    "duration": 52,
    "start_time": "2022-05-03T12:21:20.840Z"
   },
   {
    "duration": 6,
    "start_time": "2022-05-03T12:21:20.894Z"
   },
   {
    "duration": 6,
    "start_time": "2022-05-03T12:21:20.902Z"
   },
   {
    "duration": 22,
    "start_time": "2022-05-03T12:21:20.910Z"
   },
   {
    "duration": 10,
    "start_time": "2022-05-03T12:21:20.936Z"
   },
   {
    "duration": 15,
    "start_time": "2022-05-03T12:21:20.948Z"
   },
   {
    "duration": 28,
    "start_time": "2022-05-03T12:21:20.965Z"
   },
   {
    "duration": 211,
    "start_time": "2022-05-03T12:21:20.995Z"
   },
   {
    "duration": 21,
    "start_time": "2022-05-03T12:21:21.207Z"
   },
   {
    "duration": 56,
    "start_time": "2022-05-03T12:21:21.230Z"
   },
   {
    "duration": 13,
    "start_time": "2022-05-03T12:21:21.287Z"
   },
   {
    "duration": 43,
    "start_time": "2022-05-03T12:21:21.301Z"
   },
   {
    "duration": 982,
    "start_time": "2022-05-03T12:21:21.346Z"
   },
   {
    "duration": 5,
    "start_time": "2022-05-03T12:21:22.334Z"
   },
   {
    "duration": 18,
    "start_time": "2022-05-03T12:21:22.341Z"
   },
   {
    "duration": 6,
    "start_time": "2022-05-03T12:21:22.361Z"
   },
   {
    "duration": 8,
    "start_time": "2022-05-03T12:21:22.368Z"
   },
   {
    "duration": 7,
    "start_time": "2022-05-03T12:21:22.378Z"
   },
   {
    "duration": 1445,
    "start_time": "2022-05-03T12:21:22.387Z"
   },
   {
    "duration": 718,
    "start_time": "2022-05-03T12:21:23.834Z"
   },
   {
    "duration": 143,
    "start_time": "2022-05-03T12:21:24.556Z"
   },
   {
    "duration": 7,
    "start_time": "2022-05-03T12:21:24.701Z"
   },
   {
    "duration": 1867,
    "start_time": "2022-05-03T12:22:27.323Z"
   },
   {
    "duration": 3,
    "start_time": "2022-05-03T12:22:29.192Z"
   },
   {
    "duration": 39,
    "start_time": "2022-05-03T12:22:29.197Z"
   },
   {
    "duration": 7,
    "start_time": "2022-05-03T12:22:29.239Z"
   },
   {
    "duration": 23,
    "start_time": "2022-05-03T12:22:29.248Z"
   },
   {
    "duration": 23,
    "start_time": "2022-05-03T12:22:29.273Z"
   },
   {
    "duration": 64,
    "start_time": "2022-05-03T12:22:29.298Z"
   },
   {
    "duration": 5,
    "start_time": "2022-05-03T12:22:29.364Z"
   },
   {
    "duration": 12,
    "start_time": "2022-05-03T12:22:29.371Z"
   },
   {
    "duration": 17,
    "start_time": "2022-05-03T12:22:29.386Z"
   },
   {
    "duration": 12,
    "start_time": "2022-05-03T12:22:29.406Z"
   },
   {
    "duration": 17,
    "start_time": "2022-05-03T12:22:29.420Z"
   },
   {
    "duration": 34,
    "start_time": "2022-05-03T12:22:29.439Z"
   },
   {
    "duration": 216,
    "start_time": "2022-05-03T12:22:29.475Z"
   },
   {
    "duration": 11,
    "start_time": "2022-05-03T12:22:29.693Z"
   },
   {
    "duration": 72,
    "start_time": "2022-05-03T12:22:29.706Z"
   },
   {
    "duration": 12,
    "start_time": "2022-05-03T12:22:29.780Z"
   },
   {
    "duration": 48,
    "start_time": "2022-05-03T12:22:29.794Z"
   },
   {
    "duration": 1010,
    "start_time": "2022-05-03T12:22:29.846Z"
   },
   {
    "duration": 6,
    "start_time": "2022-05-03T12:22:30.859Z"
   },
   {
    "duration": 22,
    "start_time": "2022-05-03T12:22:30.868Z"
   },
   {
    "duration": 8,
    "start_time": "2022-05-03T12:22:30.892Z"
   },
   {
    "duration": 30,
    "start_time": "2022-05-03T12:22:30.902Z"
   },
   {
    "duration": 29,
    "start_time": "2022-05-03T12:22:30.936Z"
   },
   {
    "duration": 1564,
    "start_time": "2022-05-03T12:22:30.967Z"
   },
   {
    "duration": 818,
    "start_time": "2022-05-03T12:22:32.532Z"
   },
   {
    "duration": 263,
    "start_time": "2022-05-03T12:22:33.356Z"
   },
   {
    "duration": 12,
    "start_time": "2022-05-03T12:22:33.625Z"
   },
   {
    "duration": 17,
    "start_time": "2022-05-03T12:22:33.639Z"
   },
   {
    "duration": 67,
    "start_time": "2022-05-03T17:33:06.868Z"
   },
   {
    "duration": 1759,
    "start_time": "2022-05-03T17:33:20.773Z"
   },
   {
    "duration": 13,
    "start_time": "2022-05-03T17:33:22.534Z"
   },
   {
    "duration": 50,
    "start_time": "2022-05-03T17:33:22.549Z"
   },
   {
    "duration": 6,
    "start_time": "2022-05-03T17:33:22.601Z"
   },
   {
    "duration": 21,
    "start_time": "2022-05-03T17:33:22.610Z"
   },
   {
    "duration": 20,
    "start_time": "2022-05-03T17:33:22.633Z"
   },
   {
    "duration": 44,
    "start_time": "2022-05-03T17:33:22.655Z"
   },
   {
    "duration": 4,
    "start_time": "2022-05-03T17:33:22.701Z"
   },
   {
    "duration": 12,
    "start_time": "2022-05-03T17:33:22.707Z"
   },
   {
    "duration": 21,
    "start_time": "2022-05-03T17:33:22.721Z"
   },
   {
    "duration": 9,
    "start_time": "2022-05-03T17:33:22.751Z"
   },
   {
    "duration": 18,
    "start_time": "2022-05-03T17:33:22.762Z"
   },
   {
    "duration": 25,
    "start_time": "2022-05-03T17:33:22.782Z"
   },
   {
    "duration": 222,
    "start_time": "2022-05-03T17:33:22.809Z"
   },
   {
    "duration": 21,
    "start_time": "2022-05-03T17:33:23.032Z"
   },
   {
    "duration": 80,
    "start_time": "2022-05-03T17:33:23.054Z"
   },
   {
    "duration": 18,
    "start_time": "2022-05-03T17:33:23.136Z"
   },
   {
    "duration": 56,
    "start_time": "2022-05-03T17:33:23.156Z"
   },
   {
    "duration": 1455,
    "start_time": "2022-05-03T17:33:23.214Z"
   },
   {
    "duration": 9,
    "start_time": "2022-05-03T17:33:24.673Z"
   },
   {
    "duration": 7,
    "start_time": "2022-05-03T17:33:24.684Z"
   },
   {
    "duration": 9,
    "start_time": "2022-05-03T17:33:24.693Z"
   },
   {
    "duration": 8,
    "start_time": "2022-05-03T17:33:24.706Z"
   },
   {
    "duration": 5,
    "start_time": "2022-05-03T17:33:24.716Z"
   },
   {
    "duration": 1315,
    "start_time": "2022-05-03T17:33:24.757Z"
   },
   {
    "duration": 779,
    "start_time": "2022-05-03T17:33:26.074Z"
   },
   {
    "duration": 168,
    "start_time": "2022-05-03T17:33:26.855Z"
   },
   {
    "duration": 6,
    "start_time": "2022-05-03T17:33:27.025Z"
   },
   {
    "duration": 15,
    "start_time": "2022-05-03T17:33:27.032Z"
   },
   {
    "duration": 149,
    "start_time": "2022-05-03T17:34:08.688Z"
   },
   {
    "duration": 109,
    "start_time": "2022-05-03T17:35:01.726Z"
   },
   {
    "duration": 4,
    "start_time": "2022-05-03T17:37:05.297Z"
   },
   {
    "duration": 14605,
    "start_time": "2022-05-03T17:38:09.202Z"
   },
   {
    "duration": 4,
    "start_time": "2022-05-03T17:39:29.010Z"
   },
   {
    "duration": 5,
    "start_time": "2022-05-03T17:39:32.662Z"
   },
   {
    "duration": 195,
    "start_time": "2022-05-03T17:44:02.595Z"
   },
   {
    "duration": 51,
    "start_time": "2022-05-03T17:44:03.346Z"
   },
   {
    "duration": 26,
    "start_time": "2022-05-03T17:44:04.138Z"
   },
   {
    "duration": 950,
    "start_time": "2022-05-03T17:44:06.640Z"
   },
   {
    "duration": 11,
    "start_time": "2022-05-03T17:45:27.391Z"
   },
   {
    "duration": 694,
    "start_time": "2022-05-03T17:46:13.437Z"
   },
   {
    "duration": 11,
    "start_time": "2022-05-03T17:49:04.420Z"
   },
   {
    "duration": 12,
    "start_time": "2022-05-03T18:18:32.200Z"
   },
   {
    "duration": 10,
    "start_time": "2022-05-03T18:19:05.123Z"
   },
   {
    "duration": 11,
    "start_time": "2022-05-03T18:19:27.200Z"
   },
   {
    "duration": 614,
    "start_time": "2022-05-03T18:19:32.913Z"
   },
   {
    "duration": 10,
    "start_time": "2022-05-03T18:19:35.566Z"
   },
   {
    "duration": 113,
    "start_time": "2022-05-03T18:24:29.434Z"
   },
   {
    "duration": 3,
    "start_time": "2022-05-03T18:25:33.562Z"
   },
   {
    "duration": 3,
    "start_time": "2022-05-03T18:30:14.939Z"
   },
   {
    "duration": 4,
    "start_time": "2022-05-03T18:33:32.438Z"
   },
   {
    "duration": 1578,
    "start_time": "2022-05-03T18:50:55.604Z"
   },
   {
    "duration": 3,
    "start_time": "2022-05-03T18:50:57.184Z"
   },
   {
    "duration": 43,
    "start_time": "2022-05-03T18:50:57.188Z"
   },
   {
    "duration": 7,
    "start_time": "2022-05-03T18:50:57.234Z"
   },
   {
    "duration": 24,
    "start_time": "2022-05-03T18:50:57.243Z"
   },
   {
    "duration": 18,
    "start_time": "2022-05-03T18:50:57.268Z"
   },
   {
    "duration": 61,
    "start_time": "2022-05-03T18:50:57.288Z"
   },
   {
    "duration": 5,
    "start_time": "2022-05-03T18:50:57.350Z"
   },
   {
    "duration": 17,
    "start_time": "2022-05-03T18:50:57.357Z"
   },
   {
    "duration": 7,
    "start_time": "2022-05-03T18:50:57.377Z"
   },
   {
    "duration": 11,
    "start_time": "2022-05-03T18:50:57.385Z"
   },
   {
    "duration": 8,
    "start_time": "2022-05-03T18:50:57.398Z"
   },
   {
    "duration": 48,
    "start_time": "2022-05-03T18:50:57.408Z"
   },
   {
    "duration": 273,
    "start_time": "2022-05-03T18:50:57.458Z"
   },
   {
    "duration": 67,
    "start_time": "2022-05-03T18:50:57.733Z"
   },
   {
    "duration": 30,
    "start_time": "2022-05-03T18:50:57.802Z"
   },
   {
    "duration": 1119,
    "start_time": "2022-05-03T18:50:57.834Z"
   },
   {
    "duration": 10,
    "start_time": "2022-05-03T18:50:58.958Z"
   },
   {
    "duration": 9,
    "start_time": "2022-05-03T18:50:58.970Z"
   },
   {
    "duration": 7,
    "start_time": "2022-05-03T18:50:58.981Z"
   },
   {
    "duration": 6,
    "start_time": "2022-05-03T18:50:58.989Z"
   },
   {
    "duration": 6,
    "start_time": "2022-05-03T18:50:58.997Z"
   },
   {
    "duration": 1464,
    "start_time": "2022-05-03T18:50:59.005Z"
   },
   {
    "duration": 733,
    "start_time": "2022-05-03T18:51:00.547Z"
   },
   {
    "duration": 148,
    "start_time": "2022-05-03T18:51:01.282Z"
   },
   {
    "duration": 6,
    "start_time": "2022-05-03T18:51:01.432Z"
   },
   {
    "duration": 12750,
    "start_time": "2022-05-03T18:51:01.450Z"
   },
   {
    "duration": 698,
    "start_time": "2022-05-03T18:51:14.204Z"
   },
   {
    "duration": 94,
    "start_time": "2022-05-03T18:51:14.904Z"
   },
   {
    "duration": 4,
    "start_time": "2022-05-03T18:51:15.000Z"
   },
   {
    "duration": 8,
    "start_time": "2022-05-03T18:51:15.007Z"
   },
   {
    "duration": 4,
    "start_time": "2022-05-03T18:51:41.665Z"
   },
   {
    "duration": 129,
    "start_time": "2022-05-03T18:51:49.581Z"
   },
   {
    "duration": 4,
    "start_time": "2022-05-03T18:52:15.540Z"
   },
   {
    "duration": 3,
    "start_time": "2022-05-03T18:52:37.075Z"
   },
   {
    "duration": 1600,
    "start_time": "2022-05-04T04:50:33.031Z"
   },
   {
    "duration": 3,
    "start_time": "2022-05-04T04:50:34.632Z"
   },
   {
    "duration": 55,
    "start_time": "2022-05-04T04:50:34.638Z"
   },
   {
    "duration": 5,
    "start_time": "2022-05-04T04:50:34.695Z"
   },
   {
    "duration": 15,
    "start_time": "2022-05-04T04:50:34.701Z"
   },
   {
    "duration": 16,
    "start_time": "2022-05-04T04:50:34.717Z"
   },
   {
    "duration": 40,
    "start_time": "2022-05-04T04:50:34.734Z"
   },
   {
    "duration": 3,
    "start_time": "2022-05-04T04:50:34.776Z"
   },
   {
    "duration": 4,
    "start_time": "2022-05-04T04:50:34.782Z"
   },
   {
    "duration": 9,
    "start_time": "2022-05-04T04:50:34.787Z"
   },
   {
    "duration": 131,
    "start_time": "2022-05-04T04:50:34.797Z"
   },
   {
    "duration": 0,
    "start_time": "2022-05-04T04:50:34.930Z"
   },
   {
    "duration": 0,
    "start_time": "2022-05-04T04:50:34.931Z"
   },
   {
    "duration": 0,
    "start_time": "2022-05-04T04:50:34.932Z"
   },
   {
    "duration": 0,
    "start_time": "2022-05-04T04:50:34.933Z"
   },
   {
    "duration": 0,
    "start_time": "2022-05-04T04:50:34.934Z"
   },
   {
    "duration": 0,
    "start_time": "2022-05-04T04:50:34.935Z"
   },
   {
    "duration": 0,
    "start_time": "2022-05-04T04:50:34.947Z"
   },
   {
    "duration": 0,
    "start_time": "2022-05-04T04:50:34.948Z"
   },
   {
    "duration": 0,
    "start_time": "2022-05-04T04:50:34.949Z"
   },
   {
    "duration": 0,
    "start_time": "2022-05-04T04:50:34.951Z"
   },
   {
    "duration": 0,
    "start_time": "2022-05-04T04:50:34.955Z"
   },
   {
    "duration": 0,
    "start_time": "2022-05-04T04:50:34.956Z"
   },
   {
    "duration": 0,
    "start_time": "2022-05-04T04:50:34.958Z"
   },
   {
    "duration": 0,
    "start_time": "2022-05-04T04:50:34.961Z"
   },
   {
    "duration": 0,
    "start_time": "2022-05-04T04:50:34.962Z"
   },
   {
    "duration": 0,
    "start_time": "2022-05-04T04:50:34.963Z"
   },
   {
    "duration": 0,
    "start_time": "2022-05-04T04:50:34.964Z"
   },
   {
    "duration": 0,
    "start_time": "2022-05-04T04:50:34.965Z"
   },
   {
    "duration": 0,
    "start_time": "2022-05-04T04:50:34.966Z"
   },
   {
    "duration": 0,
    "start_time": "2022-05-04T04:50:34.967Z"
   },
   {
    "duration": 0,
    "start_time": "2022-05-04T04:50:34.968Z"
   },
   {
    "duration": 0,
    "start_time": "2022-05-04T04:50:34.970Z"
   },
   {
    "duration": 7,
    "start_time": "2022-05-04T04:51:07.279Z"
   },
   {
    "duration": 8,
    "start_time": "2022-05-04T04:51:08.705Z"
   },
   {
    "duration": 6,
    "start_time": "2022-05-04T04:51:12.842Z"
   },
   {
    "duration": 18,
    "start_time": "2022-05-04T04:51:13.735Z"
   },
   {
    "duration": 12,
    "start_time": "2022-05-04T04:51:40.168Z"
   },
   {
    "duration": 6,
    "start_time": "2022-05-04T04:51:45.973Z"
   },
   {
    "duration": 22,
    "start_time": "2022-05-04T04:51:53.629Z"
   },
   {
    "duration": 39,
    "start_time": "2022-05-04T04:52:03.610Z"
   },
   {
    "duration": 5,
    "start_time": "2022-05-04T04:52:12.596Z"
   },
   {
    "duration": 5,
    "start_time": "2022-05-04T04:52:33.316Z"
   },
   {
    "duration": 4,
    "start_time": "2022-05-04T04:52:41.317Z"
   },
   {
    "duration": 8,
    "start_time": "2022-05-04T04:52:41.323Z"
   },
   {
    "duration": 39,
    "start_time": "2022-05-04T04:52:41.333Z"
   },
   {
    "duration": 3,
    "start_time": "2022-05-04T04:52:41.374Z"
   },
   {
    "duration": 12,
    "start_time": "2022-05-04T04:52:41.380Z"
   },
   {
    "duration": 14,
    "start_time": "2022-05-04T04:52:41.393Z"
   },
   {
    "duration": 68,
    "start_time": "2022-05-04T04:52:41.408Z"
   },
   {
    "duration": 5,
    "start_time": "2022-05-04T04:52:41.480Z"
   },
   {
    "duration": 10,
    "start_time": "2022-05-04T04:52:41.486Z"
   },
   {
    "duration": 5,
    "start_time": "2022-05-04T04:52:41.498Z"
   },
   {
    "duration": 8,
    "start_time": "2022-05-04T04:52:41.506Z"
   },
   {
    "duration": 9,
    "start_time": "2022-05-04T04:52:41.515Z"
   },
   {
    "duration": 6,
    "start_time": "2022-05-04T04:52:41.548Z"
   },
   {
    "duration": 37,
    "start_time": "2022-05-04T04:52:41.556Z"
   },
   {
    "duration": 12,
    "start_time": "2022-05-04T04:52:41.594Z"
   },
   {
    "duration": 5,
    "start_time": "2022-05-04T04:52:41.607Z"
   },
   {
    "duration": 21,
    "start_time": "2022-05-04T04:52:41.613Z"
   },
   {
    "duration": 51,
    "start_time": "2022-05-04T04:52:41.636Z"
   },
   {
    "duration": 5,
    "start_time": "2022-05-04T04:52:41.689Z"
   },
   {
    "duration": 8,
    "start_time": "2022-05-04T04:52:41.696Z"
   },
   {
    "duration": 6,
    "start_time": "2022-05-04T04:52:41.705Z"
   },
   {
    "duration": 5,
    "start_time": "2022-05-04T04:52:41.713Z"
   },
   {
    "duration": 36,
    "start_time": "2022-05-04T04:52:41.720Z"
   },
   {
    "duration": 106,
    "start_time": "2022-05-04T04:52:41.757Z"
   },
   {
    "duration": 286,
    "start_time": "2022-05-04T04:52:41.865Z"
   },
   {
    "duration": 130,
    "start_time": "2022-05-04T04:52:42.155Z"
   },
   {
    "duration": 6,
    "start_time": "2022-05-04T04:52:42.286Z"
   },
   {
    "duration": 883,
    "start_time": "2022-05-04T04:52:42.294Z"
   },
   {
    "duration": 37,
    "start_time": "2022-05-04T04:52:43.180Z"
   },
   {
    "duration": 86,
    "start_time": "2022-05-04T04:52:43.219Z"
   },
   {
    "duration": 3,
    "start_time": "2022-05-04T04:52:43.307Z"
   },
   {
    "duration": 5,
    "start_time": "2022-05-04T04:52:43.312Z"
   },
   {
    "duration": 15,
    "start_time": "2022-05-04T04:52:43.318Z"
   },
   {
    "duration": 138,
    "start_time": "2022-05-04T04:56:15.998Z"
   },
   {
    "duration": 3,
    "start_time": "2022-05-04T04:56:23.731Z"
   },
   {
    "duration": 147,
    "start_time": "2022-05-04T04:57:32.255Z"
   },
   {
    "duration": 3,
    "start_time": "2022-05-04T04:57:39.596Z"
   },
   {
    "duration": 3,
    "start_time": "2022-05-04T04:57:49.543Z"
   },
   {
    "duration": 3,
    "start_time": "2022-05-04T04:57:52.170Z"
   },
   {
    "duration": 43252,
    "start_time": "2022-05-04T04:57:52.591Z"
   },
   {
    "duration": 41,
    "start_time": "2022-05-04T05:00:09.670Z"
   },
   {
    "duration": 123,
    "start_time": "2022-05-04T05:00:14.117Z"
   },
   {
    "duration": 39,
    "start_time": "2022-05-04T05:00:18.387Z"
   },
   {
    "duration": 46227,
    "start_time": "2022-05-04T05:01:11.305Z"
   },
   {
    "duration": 45245,
    "start_time": "2022-05-04T05:03:08.387Z"
   },
   {
    "duration": 231,
    "start_time": "2022-05-04T05:03:53.634Z"
   },
   {
    "duration": 121,
    "start_time": "2022-05-04T05:05:09.022Z"
   },
   {
    "duration": 188949,
    "start_time": "2022-05-04T05:05:13.971Z"
   },
   {
    "duration": 105,
    "start_time": "2022-05-04T05:08:28.922Z"
   },
   {
    "duration": 99589,
    "start_time": "2022-05-04T05:08:40.227Z"
   },
   {
    "duration": 223,
    "start_time": "2022-05-04T05:10:26.315Z"
   },
   {
    "duration": 41076,
    "start_time": "2022-05-04T05:13:32.695Z"
   },
   {
    "duration": 141,
    "start_time": "2022-05-04T05:17:53.122Z"
   },
   {
    "duration": 7,
    "start_time": "2022-05-04T05:18:05.383Z"
   },
   {
    "duration": 21,
    "start_time": "2022-05-04T05:18:07.430Z"
   },
   {
    "duration": 31,
    "start_time": "2022-05-04T05:18:09.859Z"
   },
   {
    "duration": 4,
    "start_time": "2022-05-04T05:18:15.198Z"
   },
   {
    "duration": 7,
    "start_time": "2022-05-04T05:18:17.535Z"
   },
   {
    "duration": 5,
    "start_time": "2022-05-04T05:18:25.574Z"
   },
   {
    "duration": 5,
    "start_time": "2022-05-04T05:18:27.377Z"
   },
   {
    "duration": 6,
    "start_time": "2022-05-04T05:18:29.992Z"
   },
   {
    "duration": 123,
    "start_time": "2022-05-04T05:18:32.428Z"
   },
   {
    "duration": 222,
    "start_time": "2022-05-04T05:18:46.343Z"
   },
   {
    "duration": 109,
    "start_time": "2022-05-04T05:18:49.707Z"
   },
   {
    "duration": 5,
    "start_time": "2022-05-04T05:18:52.709Z"
   },
   {
    "duration": 666,
    "start_time": "2022-05-04T05:18:57.130Z"
   },
   {
    "duration": 80210,
    "start_time": "2022-05-04T05:19:06.690Z"
   },
   {
    "duration": 79,
    "start_time": "2022-05-04T05:20:32.880Z"
   },
   {
    "duration": 41608,
    "start_time": "2022-05-04T05:20:36.462Z"
   },
   {
    "duration": 4,
    "start_time": "2022-05-04T05:23:02.899Z"
   },
   {
    "duration": 8,
    "start_time": "2022-05-04T05:23:04.389Z"
   },
   {
    "duration": 21,
    "start_time": "2022-05-04T05:23:06.414Z"
   },
   {
    "duration": 18,
    "start_time": "2022-05-04T05:23:14.967Z"
   },
   {
    "duration": 20,
    "start_time": "2022-05-04T05:23:17.582Z"
   },
   {
    "duration": 12,
    "start_time": "2022-05-04T05:24:12.514Z"
   },
   {
    "duration": 8,
    "start_time": "2022-05-04T05:24:12.796Z"
   },
   {
    "duration": 20,
    "start_time": "2022-05-04T05:24:13.677Z"
   },
   {
    "duration": 30,
    "start_time": "2022-05-04T05:24:16.196Z"
   },
   {
    "duration": 6,
    "start_time": "2022-05-04T05:24:25.717Z"
   },
   {
    "duration": 4,
    "start_time": "2022-05-04T05:24:34.777Z"
   },
   {
    "duration": 5,
    "start_time": "2022-05-04T05:24:35.900Z"
   },
   {
    "duration": 79,
    "start_time": "2022-05-04T05:26:10.439Z"
   },
   {
    "duration": 639,
    "start_time": "2022-05-04T05:26:28.048Z"
   },
   {
    "duration": 133,
    "start_time": "2022-05-04T05:27:26.176Z"
   },
   {
    "duration": 100470,
    "start_time": "2022-05-04T05:27:53.391Z"
   },
   {
    "duration": 33298,
    "start_time": "2022-05-04T05:29:33.863Z"
   },
   {
    "duration": 0,
    "start_time": "2022-05-04T05:30:07.166Z"
   },
   {
    "duration": 516,
    "start_time": "2022-05-04T05:30:31.316Z"
   },
   {
    "duration": 224,
    "start_time": "2022-05-04T05:30:55.561Z"
   },
   {
    "duration": 25770,
    "start_time": "2022-05-04T05:31:07.260Z"
   },
   {
    "duration": 106,
    "start_time": "2022-05-04T05:31:58.311Z"
   },
   {
    "duration": 189855,
    "start_time": "2022-05-04T05:32:02.407Z"
   },
   {
    "duration": 70,
    "start_time": "2022-05-04T05:35:53.926Z"
   },
   {
    "duration": 99253,
    "start_time": "2022-05-04T05:36:14.311Z"
   },
   {
    "duration": 234,
    "start_time": "2022-05-04T05:37:53.565Z"
   },
   {
    "duration": 107,
    "start_time": "2022-05-04T10:40:45.149Z"
   },
   {
    "duration": 11,
    "start_time": "2022-05-04T10:40:56.067Z"
   },
   {
    "duration": 2776,
    "start_time": "2022-05-04T10:40:59.797Z"
   },
   {
    "duration": 5,
    "start_time": "2022-05-04T10:41:02.577Z"
   },
   {
    "duration": 50,
    "start_time": "2022-05-04T10:41:02.585Z"
   },
   {
    "duration": 10,
    "start_time": "2022-05-04T10:41:02.638Z"
   },
   {
    "duration": 34,
    "start_time": "2022-05-04T10:41:02.653Z"
   },
   {
    "duration": 27,
    "start_time": "2022-05-04T10:41:02.690Z"
   },
   {
    "duration": 83,
    "start_time": "2022-05-04T10:41:02.719Z"
   },
   {
    "duration": 6,
    "start_time": "2022-05-04T10:41:02.805Z"
   },
   {
    "duration": 8,
    "start_time": "2022-05-04T10:41:02.814Z"
   },
   {
    "duration": 12,
    "start_time": "2022-05-04T10:41:02.823Z"
   },
   {
    "duration": 45,
    "start_time": "2022-05-04T10:41:02.837Z"
   },
   {
    "duration": 10,
    "start_time": "2022-05-04T10:41:02.885Z"
   },
   {
    "duration": 13,
    "start_time": "2022-05-04T10:41:02.897Z"
   },
   {
    "duration": 52124,
    "start_time": "2022-05-04T10:41:02.914Z"
   },
   {
    "duration": 16,
    "start_time": "2022-05-04T10:41:55.041Z"
   },
   {
    "duration": 22,
    "start_time": "2022-05-04T10:41:55.059Z"
   },
   {
    "duration": 211,
    "start_time": "2022-05-04T10:41:55.084Z"
   },
   {
    "duration": 44,
    "start_time": "2022-05-04T10:41:55.298Z"
   },
   {
    "duration": 7,
    "start_time": "2022-05-04T10:41:55.345Z"
   },
   {
    "duration": 32,
    "start_time": "2022-05-04T10:41:55.354Z"
   },
   {
    "duration": 11,
    "start_time": "2022-05-04T10:41:55.388Z"
   },
   {
    "duration": 7,
    "start_time": "2022-05-04T10:41:55.402Z"
   },
   {
    "duration": 7,
    "start_time": "2022-05-04T10:41:55.411Z"
   },
   {
    "duration": 170,
    "start_time": "2022-05-04T10:41:55.421Z"
   },
   {
    "duration": 334,
    "start_time": "2022-05-04T10:41:55.681Z"
   },
   {
    "duration": 296,
    "start_time": "2022-05-04T10:41:56.017Z"
   },
   {
    "duration": 9,
    "start_time": "2022-05-04T10:41:56.315Z"
   },
   {
    "duration": 894,
    "start_time": "2022-05-04T10:41:56.326Z"
   },
   {
    "duration": 153228,
    "start_time": "2022-05-04T10:41:57.222Z"
   },
   {
    "duration": 309,
    "start_time": "2022-05-04T10:44:30.452Z"
   },
   {
    "duration": 65119,
    "start_time": "2022-05-04T10:44:30.763Z"
   },
   {
    "duration": 4,
    "start_time": "2022-05-04T11:47:02.165Z"
   },
   {
    "duration": 4,
    "start_time": "2022-05-04T11:47:16.911Z"
   },
   {
    "duration": 181,
    "start_time": "2022-05-04T11:48:43.974Z"
   },
   {
    "duration": 13,
    "start_time": "2022-05-04T11:48:46.917Z"
   },
   {
    "duration": 14,
    "start_time": "2022-05-04T11:48:59.670Z"
   },
   {
    "duration": 13,
    "start_time": "2022-05-04T11:49:08.310Z"
   },
   {
    "duration": 12,
    "start_time": "2022-05-04T11:49:10.781Z"
   },
   {
    "duration": 23,
    "start_time": "2022-05-04T11:50:12.028Z"
   },
   {
    "duration": 0,
    "start_time": "2022-05-04T11:50:12.054Z"
   },
   {
    "duration": 0,
    "start_time": "2022-05-04T11:50:12.056Z"
   },
   {
    "duration": 0,
    "start_time": "2022-05-04T11:50:12.057Z"
   },
   {
    "duration": 0,
    "start_time": "2022-05-04T11:50:12.082Z"
   },
   {
    "duration": 0,
    "start_time": "2022-05-04T11:50:12.084Z"
   },
   {
    "duration": 18,
    "start_time": "2022-05-04T11:50:43.313Z"
   },
   {
    "duration": 19,
    "start_time": "2022-05-04T11:52:21.474Z"
   },
   {
    "duration": 19,
    "start_time": "2022-05-04T11:52:27.884Z"
   },
   {
    "duration": 24,
    "start_time": "2022-05-04T11:52:32.180Z"
   },
   {
    "duration": 19,
    "start_time": "2022-05-04T11:52:36.380Z"
   },
   {
    "duration": 865,
    "start_time": "2022-05-04T11:53:08.164Z"
   },
   {
    "duration": 169177,
    "start_time": "2022-05-04T11:53:10.309Z"
   },
   {
    "duration": 586,
    "start_time": "2022-05-04T11:56:07.679Z"
   },
   {
    "duration": 593,
    "start_time": "2022-05-04T11:56:28.471Z"
   },
   {
    "duration": 591,
    "start_time": "2022-05-04T11:56:56.271Z"
   },
   {
    "duration": 593,
    "start_time": "2022-05-04T11:57:27.603Z"
   },
   {
    "duration": 593,
    "start_time": "2022-05-04T11:57:34.151Z"
   },
   {
    "duration": 13,
    "start_time": "2022-05-04T11:58:44.819Z"
   },
   {
    "duration": 19,
    "start_time": "2022-05-04T12:00:11.044Z"
   },
   {
    "duration": 17,
    "start_time": "2022-05-04T12:00:56.794Z"
   },
   {
    "duration": 639,
    "start_time": "2022-05-04T12:02:22.642Z"
   },
   {
    "duration": 10,
    "start_time": "2022-05-04T12:03:08.403Z"
   },
   {
    "duration": 12,
    "start_time": "2022-05-04T12:03:39.361Z"
   },
   {
    "duration": 281378,
    "start_time": "2022-05-04T12:04:59.726Z"
   },
   {
    "duration": 563,
    "start_time": "2022-05-04T12:09:48.793Z"
   },
   {
    "duration": 492,
    "start_time": "2022-05-04T12:13:58.569Z"
   },
   {
    "duration": 251168,
    "start_time": "2022-05-04T12:14:03.952Z"
   },
   {
    "duration": 60,
    "start_time": "2022-05-04T12:19:51.142Z"
   },
   {
    "duration": 379791,
    "start_time": "2022-05-04T12:21:04.663Z"
   },
   {
    "duration": 397361,
    "start_time": "2022-05-04T12:30:28.665Z"
   },
   {
    "duration": 66,
    "start_time": "2022-05-04T12:37:36.527Z"
   },
   {
    "duration": 8,
    "start_time": "2022-05-04T12:38:13.247Z"
   },
   {
    "duration": 50,
    "start_time": "2022-05-04T12:39:13.775Z"
   },
   {
    "duration": 372968,
    "start_time": "2022-05-04T12:39:16.601Z"
   },
   {
    "duration": 16,
    "start_time": "2022-05-04T12:45:29.571Z"
   },
   {
    "duration": 53,
    "start_time": "2022-05-04T12:46:23.934Z"
   },
   {
    "duration": 7,
    "start_time": "2022-05-04T12:46:38.689Z"
   },
   {
    "duration": 32,
    "start_time": "2022-05-04T12:58:12.082Z"
   },
   {
    "duration": 25,
    "start_time": "2022-05-04T12:58:15.983Z"
   },
   {
    "duration": 380073,
    "start_time": "2022-05-04T12:58:42.548Z"
   },
   {
    "duration": 70,
    "start_time": "2022-05-04T13:06:47.815Z"
   },
   {
    "duration": 7,
    "start_time": "2022-05-04T13:06:51.105Z"
   },
   {
    "duration": 5,
    "start_time": "2022-05-04T13:07:49.648Z"
   },
   {
    "duration": 4,
    "start_time": "2022-05-04T13:08:00.020Z"
   },
   {
    "duration": 400642,
    "start_time": "2022-05-04T13:09:16.540Z"
   },
   {
    "duration": 781,
    "start_time": "2022-05-04T13:16:17.607Z"
   },
   {
    "duration": 9,
    "start_time": "2022-05-04T13:20:20.565Z"
   },
   {
    "duration": 2685,
    "start_time": "2022-05-04T13:20:39.924Z"
   },
   {
    "duration": 4,
    "start_time": "2022-05-04T13:20:42.612Z"
   },
   {
    "duration": 71,
    "start_time": "2022-05-04T13:20:42.618Z"
   },
   {
    "duration": 7,
    "start_time": "2022-05-04T13:20:42.692Z"
   },
   {
    "duration": 20,
    "start_time": "2022-05-04T13:20:42.703Z"
   },
   {
    "duration": 25,
    "start_time": "2022-05-04T13:20:42.725Z"
   },
   {
    "duration": 57,
    "start_time": "2022-05-04T13:20:42.782Z"
   },
   {
    "duration": 5,
    "start_time": "2022-05-04T13:20:42.842Z"
   },
   {
    "duration": 33,
    "start_time": "2022-05-04T13:20:42.849Z"
   },
   {
    "duration": 7,
    "start_time": "2022-05-04T13:20:42.884Z"
   },
   {
    "duration": 21,
    "start_time": "2022-05-04T13:20:42.894Z"
   },
   {
    "duration": 12,
    "start_time": "2022-05-04T13:20:42.917Z"
   },
   {
    "duration": 7,
    "start_time": "2022-05-04T13:20:42.932Z"
   },
   {
    "duration": 57589,
    "start_time": "2022-05-04T13:20:42.981Z"
   },
   {
    "duration": 22,
    "start_time": "2022-05-04T13:21:40.573Z"
   },
   {
    "duration": 14,
    "start_time": "2022-05-04T13:21:40.597Z"
   },
   {
    "duration": 227,
    "start_time": "2022-05-04T13:21:40.615Z"
   },
   {
    "duration": 64,
    "start_time": "2022-05-04T13:21:40.845Z"
   },
   {
    "duration": 7,
    "start_time": "2022-05-04T13:21:40.912Z"
   },
   {
    "duration": 13,
    "start_time": "2022-05-04T13:21:40.922Z"
   },
   {
    "duration": 8,
    "start_time": "2022-05-04T13:21:40.939Z"
   },
   {
    "duration": 39,
    "start_time": "2022-05-04T13:21:40.949Z"
   },
   {
    "duration": 11,
    "start_time": "2022-05-04T13:21:40.991Z"
   },
   {
    "duration": 177,
    "start_time": "2022-05-04T13:21:41.005Z"
   },
   {
    "duration": 289685,
    "start_time": "2022-05-04T13:21:41.185Z"
   },
   {
    "duration": 84,
    "start_time": "2022-05-04T13:26:30.873Z"
   },
   {
    "duration": 256,
    "start_time": "2022-05-04T13:26:30.960Z"
   },
   {
    "duration": 221,
    "start_time": "2022-05-04T13:26:31.219Z"
   },
   {
    "duration": 8,
    "start_time": "2022-05-04T13:26:31.443Z"
   },
   {
    "duration": 51,
    "start_time": "2022-05-04T13:26:31.453Z"
   },
   {
    "duration": 16,
    "start_time": "2022-05-04T13:26:31.506Z"
   },
   {
    "duration": 367786,
    "start_time": "2022-05-04T13:26:31.525Z"
   },
   {
    "duration": 652,
    "start_time": "2022-05-04T13:32:39.314Z"
   },
   {
    "duration": 18,
    "start_time": "2022-05-04T13:32:39.968Z"
   },
   {
    "duration": 2039,
    "start_time": "2022-05-05T11:50:24.726Z"
   },
   {
    "duration": 3,
    "start_time": "2022-05-05T11:50:26.767Z"
   },
   {
    "duration": 70,
    "start_time": "2022-05-05T11:50:26.772Z"
   },
   {
    "duration": 7,
    "start_time": "2022-05-05T11:50:26.843Z"
   },
   {
    "duration": 19,
    "start_time": "2022-05-05T11:50:26.853Z"
   },
   {
    "duration": 23,
    "start_time": "2022-05-05T11:50:26.874Z"
   },
   {
    "duration": 41,
    "start_time": "2022-05-05T11:50:26.899Z"
   },
   {
    "duration": 4,
    "start_time": "2022-05-05T11:50:26.942Z"
   },
   {
    "duration": 34,
    "start_time": "2022-05-05T11:50:26.947Z"
   },
   {
    "duration": 7,
    "start_time": "2022-05-05T11:50:26.983Z"
   },
   {
    "duration": 11,
    "start_time": "2022-05-05T11:50:26.992Z"
   },
   {
    "duration": 10,
    "start_time": "2022-05-05T11:50:27.005Z"
   },
   {
    "duration": 6,
    "start_time": "2022-05-05T11:50:27.017Z"
   },
   {
    "duration": 31167,
    "start_time": "2022-05-05T11:50:27.026Z"
   },
   {
    "duration": 13,
    "start_time": "2022-05-05T11:50:58.196Z"
   },
   {
    "duration": 10,
    "start_time": "2022-05-05T11:50:58.210Z"
   },
   {
    "duration": 169,
    "start_time": "2022-05-05T11:50:58.222Z"
   },
   {
    "duration": 30,
    "start_time": "2022-05-05T11:50:58.393Z"
   },
   {
    "duration": 5,
    "start_time": "2022-05-05T11:50:58.425Z"
   },
   {
    "duration": 11,
    "start_time": "2022-05-05T11:50:58.432Z"
   },
   {
    "duration": 33,
    "start_time": "2022-05-05T11:50:58.445Z"
   },
   {
    "duration": 6,
    "start_time": "2022-05-05T11:50:58.480Z"
   },
   {
    "duration": 6,
    "start_time": "2022-05-05T11:50:58.488Z"
   },
   {
    "duration": 82,
    "start_time": "2022-05-05T11:50:58.496Z"
   },
   {
    "duration": 158607,
    "start_time": "2022-05-05T11:50:58.580Z"
   },
   {
    "duration": 51,
    "start_time": "2022-05-05T11:53:37.189Z"
   },
   {
    "duration": 154,
    "start_time": "2022-05-05T11:53:37.241Z"
   },
   {
    "duration": 120,
    "start_time": "2022-05-05T11:53:37.475Z"
   },
   {
    "duration": 0,
    "start_time": "2022-05-05T11:53:37.597Z"
   },
   {
    "duration": 0,
    "start_time": "2022-05-05T11:53:37.598Z"
   },
   {
    "duration": 0,
    "start_time": "2022-05-05T11:53:37.599Z"
   },
   {
    "duration": 0,
    "start_time": "2022-05-05T11:53:37.600Z"
   },
   {
    "duration": 1,
    "start_time": "2022-05-05T11:53:37.601Z"
   },
   {
    "duration": 0,
    "start_time": "2022-05-05T11:53:37.603Z"
   },
   {
    "duration": 0,
    "start_time": "2022-05-05T11:53:37.604Z"
   },
   {
    "duration": 123,
    "start_time": "2022-05-05T11:54:20.591Z"
   },
   {
    "duration": 20,
    "start_time": "2022-05-05T11:55:46.347Z"
   },
   {
    "duration": 13,
    "start_time": "2022-05-05T11:56:06.698Z"
   },
   {
    "duration": 21,
    "start_time": "2022-05-05T11:56:08.856Z"
   },
   {
    "duration": 12,
    "start_time": "2022-05-05T11:56:10.357Z"
   },
   {
    "duration": 218779,
    "start_time": "2022-05-05T11:56:11.156Z"
   },
   {
    "duration": 291,
    "start_time": "2022-05-05T11:59:49.938Z"
   },
   {
    "duration": 5,
    "start_time": "2022-05-05T11:59:50.231Z"
   },
   {
    "duration": 10,
    "start_time": "2022-05-05T12:02:00.296Z"
   },
   {
    "duration": 8,
    "start_time": "2022-05-05T12:02:14.463Z"
   },
   {
    "duration": 7,
    "start_time": "2022-05-05T12:02:25.810Z"
   },
   {
    "duration": 15,
    "start_time": "2022-05-05T12:03:08.261Z"
   },
   {
    "duration": 12,
    "start_time": "2022-05-05T12:03:17.627Z"
   },
   {
    "duration": 126,
    "start_time": "2022-05-05T12:44:08.635Z"
   },
   {
    "duration": 6,
    "start_time": "2022-05-05T12:44:14.621Z"
   },
   {
    "duration": 6,
    "start_time": "2022-05-05T12:44:21.016Z"
   },
   {
    "duration": 30,
    "start_time": "2022-05-05T12:44:27.432Z"
   },
   {
    "duration": 5,
    "start_time": "2022-05-05T12:44:32.439Z"
   },
   {
    "duration": 8,
    "start_time": "2022-05-05T12:44:34.756Z"
   },
   {
    "duration": 7,
    "start_time": "2022-05-05T12:44:37.866Z"
   },
   {
    "duration": 8,
    "start_time": "2022-05-05T12:44:39.541Z"
   },
   {
    "duration": 7,
    "start_time": "2022-05-05T12:44:42.760Z"
   },
   {
    "duration": 23,
    "start_time": "2022-05-05T12:44:45.681Z"
   },
   {
    "duration": 36,
    "start_time": "2022-05-05T12:45:13.554Z"
   },
   {
    "duration": 85,
    "start_time": "2022-05-05T12:45:18.891Z"
   },
   {
    "duration": 53,
    "start_time": "2022-05-05T12:45:35.266Z"
   },
   {
    "duration": 125,
    "start_time": "2022-05-05T12:49:11.952Z"
   },
   {
    "duration": 14,
    "start_time": "2022-05-05T12:50:10.957Z"
   },
   {
    "duration": 11,
    "start_time": "2022-05-05T12:50:20.865Z"
   },
   {
    "duration": 49,
    "start_time": "2022-05-05T12:50:38.502Z"
   },
   {
    "duration": 336,
    "start_time": "2022-05-05T12:50:43.240Z"
   },
   {
    "duration": 117,
    "start_time": "2022-05-05T12:50:48.859Z"
   },
   {
    "duration": 26,
    "start_time": "2022-05-05T12:50:54.847Z"
   },
   {
    "duration": 30,
    "start_time": "2022-05-05T12:51:02.443Z"
   },
   {
    "duration": 33,
    "start_time": "2022-05-05T12:51:07.335Z"
   },
   {
    "duration": 41,
    "start_time": "2022-05-05T12:51:12.742Z"
   },
   {
    "duration": 44,
    "start_time": "2022-05-05T12:51:16.114Z"
   },
   {
    "duration": 43,
    "start_time": "2022-05-05T12:51:20.769Z"
   },
   {
    "duration": 46,
    "start_time": "2022-05-05T12:51:25.039Z"
   },
   {
    "duration": 193,
    "start_time": "2022-05-05T12:51:35.180Z"
   },
   {
    "duration": 52,
    "start_time": "2022-05-05T12:51:42.331Z"
   },
   {
    "duration": 112,
    "start_time": "2022-05-05T12:51:48.362Z"
   },
   {
    "duration": 62,
    "start_time": "2022-05-05T12:51:52.295Z"
   },
   {
    "duration": 3841,
    "start_time": "2022-05-05T12:51:55.934Z"
   },
   {
    "duration": 391,
    "start_time": "2022-05-05T12:52:06.204Z"
   },
   {
    "duration": 47,
    "start_time": "2022-05-05T12:52:13.665Z"
   },
   {
    "duration": 47,
    "start_time": "2022-05-05T12:52:20.729Z"
   },
   {
    "duration": 36,
    "start_time": "2022-05-05T12:52:25.969Z"
   },
   {
    "duration": 44,
    "start_time": "2022-05-05T12:52:36.341Z"
   },
   {
    "duration": 44,
    "start_time": "2022-05-05T12:52:40.336Z"
   },
   {
    "duration": 39,
    "start_time": "2022-05-05T12:52:44.338Z"
   },
   {
    "duration": 99,
    "start_time": "2022-05-05T12:52:50.879Z"
   },
   {
    "duration": 98,
    "start_time": "2022-05-05T12:53:10.483Z"
   },
   {
    "duration": 48,
    "start_time": "2022-05-05T12:53:15.054Z"
   },
   {
    "duration": 39,
    "start_time": "2022-05-05T12:53:20.127Z"
   },
   {
    "duration": 49,
    "start_time": "2022-05-05T12:53:23.673Z"
   },
   {
    "duration": 73,
    "start_time": "2022-05-05T12:53:59.906Z"
   },
   {
    "duration": 40,
    "start_time": "2022-05-05T12:56:58.278Z"
   },
   {
    "duration": 37,
    "start_time": "2022-05-05T13:08:19.006Z"
   },
   {
    "duration": 38,
    "start_time": "2022-05-05T13:08:41.519Z"
   },
   {
    "duration": 297,
    "start_time": "2022-05-05T13:08:54.525Z"
   },
   {
    "duration": 10,
    "start_time": "2022-05-05T13:09:26.882Z"
   },
   {
    "duration": 26,
    "start_time": "2022-05-05T13:09:29.671Z"
   },
   {
    "duration": 19,
    "start_time": "2022-05-05T13:09:32.260Z"
   },
   {
    "duration": 13,
    "start_time": "2022-05-05T13:09:48.112Z"
   },
   {
    "duration": 9,
    "start_time": "2022-05-05T13:09:49.425Z"
   },
   {
    "duration": 22,
    "start_time": "2022-05-05T13:09:50.592Z"
   },
   {
    "duration": 33,
    "start_time": "2022-05-05T13:09:53.343Z"
   },
   {
    "duration": 5,
    "start_time": "2022-05-05T13:09:58.909Z"
   },
   {
    "duration": 7,
    "start_time": "2022-05-05T13:10:00.699Z"
   },
   {
    "duration": 7,
    "start_time": "2022-05-05T13:10:02.501Z"
   },
   {
    "duration": 6,
    "start_time": "2022-05-05T13:10:03.278Z"
   },
   {
    "duration": 5,
    "start_time": "2022-05-05T13:10:03.961Z"
   },
   {
    "duration": 50,
    "start_time": "2022-05-05T13:10:05.932Z"
   },
   {
    "duration": 26,
    "start_time": "2022-05-05T13:11:06.672Z"
   },
   {
    "duration": 31,
    "start_time": "2022-05-05T13:11:24.758Z"
   },
   {
    "duration": 25,
    "start_time": "2022-05-05T13:11:48.258Z"
   },
   {
    "duration": 34,
    "start_time": "2022-05-05T13:11:54.346Z"
   },
   {
    "duration": 112076,
    "start_time": "2022-05-05T13:12:02.332Z"
   },
   {
    "duration": 11,
    "start_time": "2022-05-05T13:19:08.685Z"
   },
   {
    "duration": 151092,
    "start_time": "2022-05-05T13:19:12.553Z"
   },
   {
    "duration": 12,
    "start_time": "2022-05-05T14:03:41.704Z"
   },
   {
    "duration": 148908,
    "start_time": "2022-05-05T14:03:42.473Z"
   },
   {
    "duration": 0,
    "start_time": "2022-05-05T14:06:11.500Z"
   },
   {
    "duration": 61,
    "start_time": "2022-05-05T14:08:22.220Z"
   },
   {
    "duration": 6,
    "start_time": "2022-05-05T14:08:29.101Z"
   },
   {
    "duration": 154973,
    "start_time": "2022-05-05T14:08:59.396Z"
   },
   {
    "duration": 125,
    "start_time": "2022-05-05T14:11:34.372Z"
   },
   {
    "duration": 0,
    "start_time": "2022-05-05T14:11:34.499Z"
   },
   {
    "duration": 111,
    "start_time": "2022-05-05T14:11:39.151Z"
   },
   {
    "duration": 10,
    "start_time": "2022-05-05T14:11:59.558Z"
   },
   {
    "duration": 3,
    "start_time": "2022-05-05T14:12:05.634Z"
   },
   {
    "duration": 67,
    "start_time": "2022-05-05T17:11:42.294Z"
   },
   {
    "duration": 1956,
    "start_time": "2022-05-05T17:11:55.721Z"
   },
   {
    "duration": 3,
    "start_time": "2022-05-05T17:11:57.679Z"
   },
   {
    "duration": 34,
    "start_time": "2022-05-05T17:11:57.684Z"
   },
   {
    "duration": 6,
    "start_time": "2022-05-05T17:11:57.722Z"
   },
   {
    "duration": 18,
    "start_time": "2022-05-05T17:11:57.729Z"
   },
   {
    "duration": 22,
    "start_time": "2022-05-05T17:11:57.749Z"
   },
   {
    "duration": 60,
    "start_time": "2022-05-05T17:11:57.773Z"
   },
   {
    "duration": 5,
    "start_time": "2022-05-05T17:11:57.834Z"
   },
   {
    "duration": 7,
    "start_time": "2022-05-05T17:11:57.841Z"
   },
   {
    "duration": 6,
    "start_time": "2022-05-05T17:11:57.851Z"
   },
   {
    "duration": 10,
    "start_time": "2022-05-05T17:11:57.858Z"
   },
   {
    "duration": 7,
    "start_time": "2022-05-05T17:11:57.869Z"
   },
   {
    "duration": 5,
    "start_time": "2022-05-05T17:11:57.877Z"
   },
   {
    "duration": 32721,
    "start_time": "2022-05-05T17:11:57.883Z"
   },
   {
    "duration": 17,
    "start_time": "2022-05-05T17:12:30.607Z"
   },
   {
    "duration": 8,
    "start_time": "2022-05-05T17:12:30.626Z"
   },
   {
    "duration": 170,
    "start_time": "2022-05-05T17:12:30.636Z"
   },
   {
    "duration": 43,
    "start_time": "2022-05-05T17:12:30.808Z"
   },
   {
    "duration": 6,
    "start_time": "2022-05-05T17:12:30.853Z"
   },
   {
    "duration": 11,
    "start_time": "2022-05-05T17:12:30.861Z"
   },
   {
    "duration": 13,
    "start_time": "2022-05-05T17:12:30.873Z"
   },
   {
    "duration": 6,
    "start_time": "2022-05-05T17:12:30.888Z"
   },
   {
    "duration": 28,
    "start_time": "2022-05-05T17:12:30.896Z"
   },
   {
    "duration": 35,
    "start_time": "2022-05-05T17:12:30.926Z"
   },
   {
    "duration": 129068,
    "start_time": "2022-05-05T17:12:30.965Z"
   },
   {
    "duration": 59,
    "start_time": "2022-05-05T17:14:40.035Z"
   },
   {
    "duration": 258,
    "start_time": "2022-05-05T17:14:40.096Z"
   },
   {
    "duration": 187,
    "start_time": "2022-05-05T17:14:40.358Z"
   },
   {
    "duration": 6,
    "start_time": "2022-05-05T17:14:40.548Z"
   },
   {
    "duration": 352,
    "start_time": "2022-05-05T17:14:40.556Z"
   },
   {
    "duration": 0,
    "start_time": "2022-05-05T17:14:40.909Z"
   },
   {
    "duration": 0,
    "start_time": "2022-05-05T17:14:40.911Z"
   },
   {
    "duration": 0,
    "start_time": "2022-05-05T17:14:40.912Z"
   },
   {
    "duration": 0,
    "start_time": "2022-05-05T17:14:40.913Z"
   },
   {
    "duration": 0,
    "start_time": "2022-05-05T17:14:40.923Z"
   },
   {
    "duration": 0,
    "start_time": "2022-05-05T17:14:40.925Z"
   },
   {
    "duration": 0,
    "start_time": "2022-05-05T17:14:40.926Z"
   },
   {
    "duration": 195,
    "start_time": "2022-05-05T17:16:31.740Z"
   },
   {
    "duration": 207,
    "start_time": "2022-05-05T17:17:25.326Z"
   },
   {
    "duration": 233,
    "start_time": "2022-05-05T17:17:30.413Z"
   },
   {
    "duration": 253,
    "start_time": "2022-05-05T17:17:40.395Z"
   },
   {
    "duration": 215,
    "start_time": "2022-05-05T17:17:46.339Z"
   },
   {
    "duration": 249,
    "start_time": "2022-05-05T17:17:49.801Z"
   },
   {
    "duration": 205,
    "start_time": "2022-05-05T17:18:43.936Z"
   },
   {
    "duration": 241,
    "start_time": "2022-05-05T17:19:11.712Z"
   },
   {
    "duration": 108,
    "start_time": "2022-05-05T17:19:15.736Z"
   },
   {
    "duration": 105,
    "start_time": "2022-05-05T17:19:57.359Z"
   },
   {
    "duration": 21,
    "start_time": "2022-05-05T17:38:09.339Z"
   },
   {
    "duration": 10,
    "start_time": "2022-05-05T17:38:13.139Z"
   },
   {
    "duration": 160233,
    "start_time": "2022-05-05T17:38:14.441Z"
   },
   {
    "duration": 500,
    "start_time": "2022-05-05T17:40:54.675Z"
   },
   {
    "duration": 5,
    "start_time": "2022-05-05T17:40:55.177Z"
   },
   {
    "duration": 129,
    "start_time": "2022-05-05T17:48:50.173Z"
   },
   {
    "duration": 41,
    "start_time": "2022-05-05T17:49:03.976Z"
   },
   {
    "duration": 24,
    "start_time": "2022-05-05T17:49:22.784Z"
   },
   {
    "duration": 122,
    "start_time": "2022-05-05T17:51:04.299Z"
   },
   {
    "duration": 11,
    "start_time": "2022-05-05T17:51:10.109Z"
   },
   {
    "duration": 26,
    "start_time": "2022-05-05T17:52:09.268Z"
   },
   {
    "duration": 155541,
    "start_time": "2022-05-05T17:52:16.804Z"
   },
   {
    "duration": 10,
    "start_time": "2022-05-05T17:55:17.267Z"
   },
   {
    "duration": 26,
    "start_time": "2022-05-05T17:56:01.179Z"
   },
   {
    "duration": 16,
    "start_time": "2022-05-05T17:56:05.657Z"
   },
   {
    "duration": 11,
    "start_time": "2022-05-05T17:56:28.504Z"
   },
   {
    "duration": 11,
    "start_time": "2022-05-05T17:56:46.186Z"
   },
   {
    "duration": 12,
    "start_time": "2022-05-05T17:57:04.703Z"
   },
   {
    "duration": 11,
    "start_time": "2022-05-05T17:57:08.196Z"
   },
   {
    "duration": 23,
    "start_time": "2022-05-05T17:57:13.506Z"
   },
   {
    "duration": 1592,
    "start_time": "2022-05-05T18:06:39.586Z"
   },
   {
    "duration": 3,
    "start_time": "2022-05-05T18:06:41.180Z"
   },
   {
    "duration": 32,
    "start_time": "2022-05-05T18:06:41.184Z"
   },
   {
    "duration": 6,
    "start_time": "2022-05-05T18:06:41.218Z"
   },
   {
    "duration": 20,
    "start_time": "2022-05-05T18:06:41.225Z"
   },
   {
    "duration": 17,
    "start_time": "2022-05-05T18:06:41.246Z"
   },
   {
    "duration": 36,
    "start_time": "2022-05-05T18:06:41.265Z"
   },
   {
    "duration": 4,
    "start_time": "2022-05-05T18:06:41.303Z"
   },
   {
    "duration": 6,
    "start_time": "2022-05-05T18:06:41.309Z"
   },
   {
    "duration": 8,
    "start_time": "2022-05-05T18:06:41.318Z"
   },
   {
    "duration": 10,
    "start_time": "2022-05-05T18:06:41.327Z"
   },
   {
    "duration": 7,
    "start_time": "2022-05-05T18:06:41.338Z"
   },
   {
    "duration": 4,
    "start_time": "2022-05-05T18:06:41.347Z"
   },
   {
    "duration": 31419,
    "start_time": "2022-05-05T18:06:41.353Z"
   },
   {
    "duration": 11,
    "start_time": "2022-05-05T18:07:12.774Z"
   },
   {
    "duration": 6,
    "start_time": "2022-05-05T18:07:12.787Z"
   },
   {
    "duration": 161,
    "start_time": "2022-05-05T18:07:12.795Z"
   },
   {
    "duration": 29,
    "start_time": "2022-05-05T18:07:12.958Z"
   },
   {
    "duration": 4,
    "start_time": "2022-05-05T18:07:12.989Z"
   },
   {
    "duration": 33,
    "start_time": "2022-05-05T18:07:12.994Z"
   },
   {
    "duration": 6,
    "start_time": "2022-05-05T18:07:13.029Z"
   },
   {
    "duration": 6,
    "start_time": "2022-05-05T18:07:13.037Z"
   },
   {
    "duration": 24,
    "start_time": "2022-05-05T18:07:13.044Z"
   },
   {
    "duration": 56,
    "start_time": "2022-05-05T18:07:13.069Z"
   },
   {
    "duration": 114334,
    "start_time": "2022-05-05T18:07:13.127Z"
   },
   {
    "duration": 45,
    "start_time": "2022-05-05T18:09:07.463Z"
   },
   {
    "duration": 224,
    "start_time": "2022-05-05T18:09:07.510Z"
   },
   {
    "duration": 126,
    "start_time": "2022-05-05T18:09:07.738Z"
   },
   {
    "duration": 174,
    "start_time": "2022-05-05T18:09:07.866Z"
   },
   {
    "duration": 136,
    "start_time": "2022-05-05T18:09:08.042Z"
   },
   {
    "duration": 21,
    "start_time": "2022-05-05T18:09:08.179Z"
   },
   {
    "duration": 22,
    "start_time": "2022-05-05T18:09:08.201Z"
   },
   {
    "duration": 509535,
    "start_time": "2022-05-05T18:09:08.225Z"
   },
   {
    "duration": 112,
    "start_time": "2022-05-05T18:17:37.762Z"
   },
   {
    "duration": 5,
    "start_time": "2022-05-05T18:17:37.876Z"
   },
   {
    "duration": 106,
    "start_time": "2022-05-05T18:18:02.983Z"
   },
   {
    "duration": 10,
    "start_time": "2022-05-05T18:18:58.050Z"
   },
   {
    "duration": 10,
    "start_time": "2022-05-05T18:26:10.623Z"
   },
   {
    "duration": 4,
    "start_time": "2022-05-05T18:28:39.006Z"
   },
   {
    "duration": 3,
    "start_time": "2022-05-05T18:28:56.945Z"
   },
   {
    "duration": 127,
    "start_time": "2022-05-05T18:29:13.253Z"
   },
   {
    "duration": 116,
    "start_time": "2022-05-05T18:29:27.862Z"
   },
   {
    "duration": 138,
    "start_time": "2022-05-05T18:29:35.353Z"
   },
   {
    "duration": 132,
    "start_time": "2022-05-05T18:29:55.323Z"
   },
   {
    "duration": 151,
    "start_time": "2022-05-05T18:30:03.157Z"
   },
   {
    "duration": 137,
    "start_time": "2022-05-05T18:30:05.258Z"
   },
   {
    "duration": 176,
    "start_time": "2022-05-05T18:30:10.138Z"
   },
   {
    "duration": 150,
    "start_time": "2022-05-05T18:30:14.818Z"
   },
   {
    "duration": 146,
    "start_time": "2022-05-05T18:31:47.583Z"
   },
   {
    "duration": 116,
    "start_time": "2022-05-05T18:31:58.365Z"
   },
   {
    "duration": 140,
    "start_time": "2022-05-05T18:32:05.478Z"
   },
   {
    "duration": 3,
    "start_time": "2022-05-05T18:32:14.253Z"
   },
   {
    "duration": 129,
    "start_time": "2022-05-05T18:32:22.671Z"
   },
   {
    "duration": 136,
    "start_time": "2022-05-05T18:32:31.246Z"
   },
   {
    "duration": 16,
    "start_time": "2022-05-05T18:32:36.432Z"
   },
   {
    "duration": 7,
    "start_time": "2022-05-05T18:33:43.333Z"
   },
   {
    "duration": 14,
    "start_time": "2022-05-05T18:33:58.148Z"
   },
   {
    "duration": 12,
    "start_time": "2022-05-05T18:34:19.086Z"
   },
   {
    "duration": 8,
    "start_time": "2022-05-05T18:34:21.822Z"
   },
   {
    "duration": 15,
    "start_time": "2022-05-05T18:34:51.374Z"
   },
   {
    "duration": 6,
    "start_time": "2022-05-05T18:35:04.580Z"
   },
   {
    "duration": 6,
    "start_time": "2022-05-05T18:39:40.755Z"
   },
   {
    "duration": 19,
    "start_time": "2022-05-05T18:41:34.368Z"
   },
   {
    "duration": 18,
    "start_time": "2022-05-05T18:41:38.971Z"
   },
   {
    "duration": 14,
    "start_time": "2022-05-05T18:41:42.081Z"
   },
   {
    "duration": 14,
    "start_time": "2022-05-05T18:41:48.582Z"
   },
   {
    "duration": 7,
    "start_time": "2022-05-05T18:42:42.419Z"
   },
   {
    "duration": 27,
    "start_time": "2022-05-05T18:43:30.352Z"
   },
   {
    "duration": 9,
    "start_time": "2022-05-05T18:44:23.557Z"
   },
   {
    "duration": 117,
    "start_time": "2022-05-05T18:51:34.535Z"
   },
   {
    "duration": 128,
    "start_time": "2022-05-05T18:51:51.652Z"
   },
   {
    "duration": 26,
    "start_time": "2022-05-05T18:51:57.498Z"
   },
   {
    "duration": 78,
    "start_time": "2022-05-05T18:52:08.454Z"
   },
   {
    "duration": 48,
    "start_time": "2022-05-05T18:52:12.383Z"
   },
   {
    "duration": 18,
    "start_time": "2022-05-05T18:52:27.352Z"
   },
   {
    "duration": 62,
    "start_time": "2022-05-05T18:52:38.363Z"
   },
   {
    "duration": 81,
    "start_time": "2022-05-05T18:52:43.051Z"
   },
   {
    "duration": 170,
    "start_time": "2022-05-05T18:52:45.960Z"
   },
   {
    "duration": 47,
    "start_time": "2022-05-05T18:52:48.781Z"
   },
   {
    "duration": 91,
    "start_time": "2022-05-05T18:52:52.538Z"
   },
   {
    "duration": 43,
    "start_time": "2022-05-05T18:52:59.384Z"
   },
   {
    "duration": 77,
    "start_time": "2022-05-05T18:53:03.849Z"
   },
   {
    "duration": 29,
    "start_time": "2022-05-05T18:53:07.403Z"
   },
   {
    "duration": 103,
    "start_time": "2022-05-05T18:53:11.022Z"
   },
   {
    "duration": 80,
    "start_time": "2022-05-05T18:53:20.952Z"
   },
   {
    "duration": 41,
    "start_time": "2022-05-05T18:53:27.784Z"
   },
   {
    "duration": 46,
    "start_time": "2022-05-05T18:53:32.179Z"
   },
   {
    "duration": 57,
    "start_time": "2022-05-05T18:53:35.968Z"
   },
   {
    "duration": 29,
    "start_time": "2022-05-05T18:53:39.804Z"
   },
   {
    "duration": 16,
    "start_time": "2022-05-05T18:53:55.283Z"
   },
   {
    "duration": 39,
    "start_time": "2022-05-05T18:54:00.171Z"
   },
   {
    "duration": 39,
    "start_time": "2022-05-05T18:54:03.901Z"
   },
   {
    "duration": 34,
    "start_time": "2022-05-05T18:54:07.037Z"
   },
   {
    "duration": 33,
    "start_time": "2022-05-05T18:54:09.660Z"
   },
   {
    "duration": 31,
    "start_time": "2022-05-05T18:54:12.285Z"
   },
   {
    "duration": 23,
    "start_time": "2022-05-05T18:54:59.580Z"
   },
   {
    "duration": 15,
    "start_time": "2022-05-05T18:56:46.633Z"
   },
   {
    "duration": 177545,
    "start_time": "2022-05-05T18:57:38.030Z"
   },
   {
    "duration": 430,
    "start_time": "2022-05-05T19:01:28.151Z"
   },
   {
    "duration": 159536,
    "start_time": "2022-05-05T19:02:09.336Z"
   },
   {
    "duration": 489,
    "start_time": "2022-05-05T19:04:48.874Z"
   },
   {
    "duration": 5,
    "start_time": "2022-05-05T19:04:49.364Z"
   },
   {
    "duration": 22,
    "start_time": "2022-05-05T19:10:07.909Z"
   },
   {
    "duration": 37,
    "start_time": "2022-05-05T19:10:21.393Z"
   },
   {
    "duration": 37,
    "start_time": "2022-05-05T19:11:39.458Z"
   },
   {
    "duration": 43,
    "start_time": "2022-05-05T19:11:42.885Z"
   },
   {
    "duration": 42,
    "start_time": "2022-05-05T19:11:45.780Z"
   },
   {
    "duration": 44,
    "start_time": "2022-05-05T19:11:48.443Z"
   },
   {
    "duration": 60,
    "start_time": "2022-05-05T19:11:51.120Z"
   },
   {
    "duration": 31,
    "start_time": "2022-05-05T19:11:56.944Z"
   },
   {
    "duration": 37,
    "start_time": "2022-05-05T19:12:00.603Z"
   },
   {
    "duration": 36,
    "start_time": "2022-05-05T19:12:04.002Z"
   },
   {
    "duration": 38,
    "start_time": "2022-05-05T19:12:24.428Z"
   },
   {
    "duration": 38,
    "start_time": "2022-05-05T19:12:27.576Z"
   },
   {
    "duration": 41,
    "start_time": "2022-05-05T19:12:30.104Z"
   },
   {
    "duration": 40,
    "start_time": "2022-05-05T19:12:33.651Z"
   },
   {
    "duration": 33,
    "start_time": "2022-05-05T19:12:54.788Z"
   },
   {
    "duration": 30,
    "start_time": "2022-05-05T19:13:22.234Z"
   },
   {
    "duration": 25,
    "start_time": "2022-05-05T19:13:28.259Z"
   },
   {
    "duration": 26,
    "start_time": "2022-05-05T19:13:31.763Z"
   },
   {
    "duration": 29,
    "start_time": "2022-05-05T19:13:36.285Z"
   },
   {
    "duration": 24,
    "start_time": "2022-05-05T19:13:39.973Z"
   },
   {
    "duration": 25,
    "start_time": "2022-05-05T19:13:45.490Z"
   },
   {
    "duration": 28,
    "start_time": "2022-05-05T19:13:48.302Z"
   },
   {
    "duration": 28,
    "start_time": "2022-05-05T19:13:51.025Z"
   },
   {
    "duration": 489,
    "start_time": "2022-05-05T19:14:10.795Z"
   },
   {
    "duration": 29,
    "start_time": "2022-05-05T19:15:39.247Z"
   },
   {
    "duration": 84,
    "start_time": "2022-05-05T19:15:44.441Z"
   },
   {
    "duration": 79,
    "start_time": "2022-05-05T19:15:47.955Z"
   },
   {
    "duration": 55,
    "start_time": "2022-05-05T19:15:50.685Z"
   },
   {
    "duration": 1656,
    "start_time": "2022-05-05T19:16:05.741Z"
   },
   {
    "duration": 5,
    "start_time": "2022-05-05T19:16:07.401Z"
   },
   {
    "duration": 42,
    "start_time": "2022-05-05T19:16:07.409Z"
   },
   {
    "duration": 9,
    "start_time": "2022-05-05T19:16:07.455Z"
   },
   {
    "duration": 22,
    "start_time": "2022-05-05T19:16:07.466Z"
   },
   {
    "duration": 49,
    "start_time": "2022-05-05T19:16:07.490Z"
   },
   {
    "duration": 87,
    "start_time": "2022-05-05T19:16:07.541Z"
   },
   {
    "duration": 6,
    "start_time": "2022-05-05T19:16:07.632Z"
   },
   {
    "duration": 7,
    "start_time": "2022-05-05T19:16:07.640Z"
   },
   {
    "duration": 10,
    "start_time": "2022-05-05T19:16:07.651Z"
   },
   {
    "duration": 11,
    "start_time": "2022-05-05T19:16:07.663Z"
   },
   {
    "duration": 7,
    "start_time": "2022-05-05T19:16:07.676Z"
   },
   {
    "duration": 42,
    "start_time": "2022-05-05T19:16:07.686Z"
   },
   {
    "duration": 39141,
    "start_time": "2022-05-05T19:16:07.731Z"
   },
   {
    "duration": 13,
    "start_time": "2022-05-05T19:16:46.875Z"
   },
   {
    "duration": 13,
    "start_time": "2022-05-05T19:16:46.890Z"
   },
   {
    "duration": 184,
    "start_time": "2022-05-05T19:16:46.905Z"
   },
   {
    "duration": 53,
    "start_time": "2022-05-05T19:16:47.091Z"
   },
   {
    "duration": 5,
    "start_time": "2022-05-05T19:16:47.146Z"
   },
   {
    "duration": 7,
    "start_time": "2022-05-05T19:16:47.153Z"
   },
   {
    "duration": 5,
    "start_time": "2022-05-05T19:16:47.162Z"
   },
   {
    "duration": 5,
    "start_time": "2022-05-05T19:16:47.169Z"
   },
   {
    "duration": 48,
    "start_time": "2022-05-05T19:16:47.176Z"
   },
   {
    "duration": 53,
    "start_time": "2022-05-05T19:16:47.231Z"
   },
   {
    "duration": 144,
    "start_time": "2022-05-05T19:16:47.287Z"
   },
   {
    "duration": 126349,
    "start_time": "2022-05-05T19:16:47.435Z"
   },
   {
    "duration": 59,
    "start_time": "2022-05-05T19:18:53.785Z"
   },
   {
    "duration": 196,
    "start_time": "2022-05-05T19:18:53.848Z"
   },
   {
    "duration": 131,
    "start_time": "2022-05-05T19:18:54.046Z"
   },
   {
    "duration": 182,
    "start_time": "2022-05-05T19:18:54.179Z"
   },
   {
    "duration": 232,
    "start_time": "2022-05-05T19:18:54.363Z"
   },
   {
    "duration": 35,
    "start_time": "2022-05-05T19:18:54.597Z"
   },
   {
    "duration": 18,
    "start_time": "2022-05-05T19:18:54.635Z"
   },
   {
    "duration": 233231,
    "start_time": "2022-05-05T19:18:54.655Z"
   },
   {
    "duration": 99,
    "start_time": "2022-05-05T19:22:47.888Z"
   },
   {
    "duration": 5,
    "start_time": "2022-05-05T19:22:47.989Z"
   },
   {
    "duration": 94,
    "start_time": "2022-05-05T19:26:00.941Z"
   },
   {
    "duration": 521031,
    "start_time": "2022-05-05T19:26:04.430Z"
   },
   {
    "duration": 110,
    "start_time": "2022-05-05T19:35:19.737Z"
   },
   {
    "duration": 137,
    "start_time": "2022-05-05T19:37:11.184Z"
   },
   {
    "duration": 119,
    "start_time": "2022-05-05T19:37:15.812Z"
   },
   {
    "duration": 42,
    "start_time": "2022-05-05T19:38:00.006Z"
   },
   {
    "duration": 24,
    "start_time": "2022-05-05T19:38:35.967Z"
   },
   {
    "duration": 25,
    "start_time": "2022-05-05T19:39:24.532Z"
   },
   {
    "duration": 26,
    "start_time": "2022-05-05T19:39:41.771Z"
   },
   {
    "duration": 173,
    "start_time": "2022-05-05T19:40:18.975Z"
   },
   {
    "duration": 27,
    "start_time": "2022-05-05T19:41:04.866Z"
   },
   {
    "duration": 458372,
    "start_time": "2022-05-05T19:41:42.679Z"
   },
   {
    "duration": 483,
    "start_time": "2022-05-05T19:51:54.467Z"
   },
   {
    "duration": 8,
    "start_time": "2022-05-05T19:51:57.668Z"
   },
   {
    "duration": 462435,
    "start_time": "2022-05-05T19:53:07.152Z"
   },
   {
    "duration": 335,
    "start_time": "2022-05-05T20:01:07.482Z"
   },
   {
    "duration": 635890,
    "start_time": "2022-05-05T20:02:03.607Z"
   },
   {
    "duration": 146,
    "start_time": "2022-05-05T20:13:00.397Z"
   },
   {
    "duration": 196,
    "start_time": "2022-05-05T20:13:11.919Z"
   },
   {
    "duration": 16,
    "start_time": "2022-05-05T20:13:34.786Z"
   },
   {
    "duration": 12,
    "start_time": "2022-05-05T20:13:45.714Z"
   },
   {
    "duration": 13,
    "start_time": "2022-05-05T20:13:50.691Z"
   },
   {
    "duration": 183,
    "start_time": "2022-05-05T20:13:55.772Z"
   },
   {
    "duration": 12,
    "start_time": "2022-05-05T20:15:18.198Z"
   },
   {
    "duration": 177,
    "start_time": "2022-05-05T20:15:23.235Z"
   },
   {
    "duration": 19,
    "start_time": "2022-05-05T20:17:44.862Z"
   },
   {
    "duration": 2773,
    "start_time": "2022-05-05T20:18:02.300Z"
   },
   {
    "duration": 11,
    "start_time": "2022-05-05T20:18:27.141Z"
   },
   {
    "duration": 11,
    "start_time": "2022-05-05T20:22:42.594Z"
   },
   {
    "duration": 5475,
    "start_time": "2022-05-05T20:24:12.922Z"
   },
   {
    "duration": 5321,
    "start_time": "2022-05-05T20:24:26.640Z"
   },
   {
    "duration": 5501,
    "start_time": "2022-05-05T20:25:33.059Z"
   },
   {
    "duration": 9777,
    "start_time": "2022-05-05T20:26:01.634Z"
   },
   {
    "duration": 4286,
    "start_time": "2022-05-05T20:26:58.269Z"
   },
   {
    "duration": 3486,
    "start_time": "2022-05-05T20:27:21.123Z"
   },
   {
    "duration": 7740,
    "start_time": "2022-05-05T20:27:49.743Z"
   },
   {
    "duration": 1976,
    "start_time": "2022-05-05T20:28:12.897Z"
   },
   {
    "duration": 17,
    "start_time": "2022-05-05T20:28:20.087Z"
   },
   {
    "duration": 1780,
    "start_time": "2022-05-05T20:28:23.108Z"
   },
   {
    "duration": 16,
    "start_time": "2022-05-05T20:28:30.027Z"
   },
   {
    "duration": 1884,
    "start_time": "2022-05-05T20:28:31.987Z"
   },
   {
    "duration": 16,
    "start_time": "2022-05-05T20:28:39.065Z"
   },
   {
    "duration": 2090,
    "start_time": "2022-05-05T20:28:42.507Z"
   },
   {
    "duration": 17,
    "start_time": "2022-05-05T20:28:51.365Z"
   },
   {
    "duration": 2348,
    "start_time": "2022-05-05T20:28:53.094Z"
   },
   {
    "duration": 17,
    "start_time": "2022-05-05T20:29:01.007Z"
   },
   {
    "duration": 4201,
    "start_time": "2022-05-05T20:29:03.023Z"
   },
   {
    "duration": 15,
    "start_time": "2022-05-05T20:29:10.865Z"
   },
   {
    "duration": 3801,
    "start_time": "2022-05-05T20:29:12.778Z"
   },
   {
    "duration": 17,
    "start_time": "2022-05-05T20:29:21.951Z"
   },
   {
    "duration": 2618,
    "start_time": "2022-05-05T20:29:24.653Z"
   },
   {
    "duration": 16,
    "start_time": "2022-05-05T20:29:32.626Z"
   },
   {
    "duration": 3307,
    "start_time": "2022-05-05T20:29:34.902Z"
   },
   {
    "duration": 3242,
    "start_time": "2022-05-05T20:29:44.183Z"
   },
   {
    "duration": 18,
    "start_time": "2022-05-05T20:29:50.888Z"
   },
   {
    "duration": 2264,
    "start_time": "2022-05-05T20:29:57.609Z"
   },
   {
    "duration": 15,
    "start_time": "2022-05-05T20:30:04.785Z"
   },
   {
    "duration": 2880,
    "start_time": "2022-05-05T20:30:07.174Z"
   },
   {
    "duration": 18,
    "start_time": "2022-05-05T20:30:13.821Z"
   },
   {
    "duration": 2639,
    "start_time": "2022-05-05T20:30:15.673Z"
   },
   {
    "duration": 10651,
    "start_time": "2022-05-05T20:31:09.451Z"
   },
   {
    "duration": 4637,
    "start_time": "2022-05-05T20:31:26.293Z"
   },
   {
    "duration": 4771,
    "start_time": "2022-05-05T20:31:42.809Z"
   },
   {
    "duration": 2752,
    "start_time": "2022-05-05T20:31:56.077Z"
   },
   {
    "duration": 8042,
    "start_time": "2022-05-05T20:32:35.423Z"
   },
   {
    "duration": 2701,
    "start_time": "2022-05-05T20:33:12.831Z"
   },
   {
    "duration": 2703,
    "start_time": "2022-05-05T20:33:44.008Z"
   },
   {
    "duration": 1514,
    "start_time": "2022-05-05T20:36:01.383Z"
   },
   {
    "duration": 2,
    "start_time": "2022-05-05T20:36:02.900Z"
   },
   {
    "duration": 40,
    "start_time": "2022-05-05T20:36:02.904Z"
   },
   {
    "duration": 5,
    "start_time": "2022-05-05T20:36:02.947Z"
   },
   {
    "duration": 33,
    "start_time": "2022-05-05T20:36:02.954Z"
   },
   {
    "duration": 17,
    "start_time": "2022-05-05T20:36:02.988Z"
   },
   {
    "duration": 42,
    "start_time": "2022-05-05T20:36:03.007Z"
   },
   {
    "duration": 4,
    "start_time": "2022-05-05T20:36:03.051Z"
   },
   {
    "duration": 6,
    "start_time": "2022-05-05T20:36:03.056Z"
   },
   {
    "duration": 4,
    "start_time": "2022-05-05T20:36:03.065Z"
   },
   {
    "duration": 16,
    "start_time": "2022-05-05T20:36:03.070Z"
   },
   {
    "duration": 7,
    "start_time": "2022-05-05T20:36:03.087Z"
   },
   {
    "duration": 32,
    "start_time": "2022-05-05T20:36:03.095Z"
   },
   {
    "duration": 38496,
    "start_time": "2022-05-05T20:36:03.129Z"
   },
   {
    "duration": 12,
    "start_time": "2022-05-05T20:36:41.626Z"
   },
   {
    "duration": 6,
    "start_time": "2022-05-05T20:36:41.640Z"
   },
   {
    "duration": 149,
    "start_time": "2022-05-05T20:36:41.648Z"
   },
   {
    "duration": 42,
    "start_time": "2022-05-05T20:36:41.799Z"
   },
   {
    "duration": 5,
    "start_time": "2022-05-05T20:36:41.843Z"
   },
   {
    "duration": 11,
    "start_time": "2022-05-05T20:36:41.849Z"
   },
   {
    "duration": 6,
    "start_time": "2022-05-05T20:36:41.861Z"
   },
   {
    "duration": 7,
    "start_time": "2022-05-05T20:36:41.868Z"
   },
   {
    "duration": 6,
    "start_time": "2022-05-05T20:36:41.876Z"
   },
   {
    "duration": 48,
    "start_time": "2022-05-05T20:36:41.884Z"
   },
   {
    "duration": 201,
    "start_time": "2022-05-05T20:36:41.935Z"
   },
   {
    "duration": 125689,
    "start_time": "2022-05-05T20:36:42.139Z"
   },
   {
    "duration": 408,
    "start_time": "2022-05-05T20:38:47.830Z"
   },
   {
    "duration": 195,
    "start_time": "2022-05-05T20:38:48.242Z"
   },
   {
    "duration": 126,
    "start_time": "2022-05-05T20:38:48.439Z"
   },
   {
    "duration": 176,
    "start_time": "2022-05-05T20:38:48.567Z"
   },
   {
    "duration": 160,
    "start_time": "2022-05-05T20:38:48.745Z"
   },
   {
    "duration": 25,
    "start_time": "2022-05-05T20:38:48.908Z"
   },
   {
    "duration": 16,
    "start_time": "2022-05-05T20:38:48.935Z"
   },
   {
    "duration": 2814,
    "start_time": "2022-05-05T20:38:48.953Z"
   },
   {
    "duration": 122,
    "start_time": "2022-05-05T20:48:19.476Z"
   },
   {
    "duration": 1500,
    "start_time": "2022-05-05T20:54:04.296Z"
   },
   {
    "duration": 2,
    "start_time": "2022-05-05T20:54:05.798Z"
   },
   {
    "duration": 48,
    "start_time": "2022-05-05T20:54:05.802Z"
   },
   {
    "duration": 5,
    "start_time": "2022-05-05T20:54:05.853Z"
   },
   {
    "duration": 18,
    "start_time": "2022-05-05T20:54:05.860Z"
   },
   {
    "duration": 18,
    "start_time": "2022-05-05T20:54:05.880Z"
   },
   {
    "duration": 60,
    "start_time": "2022-05-05T20:54:05.900Z"
   },
   {
    "duration": 5,
    "start_time": "2022-05-05T20:54:05.962Z"
   },
   {
    "duration": 6,
    "start_time": "2022-05-05T20:54:05.969Z"
   },
   {
    "duration": 6,
    "start_time": "2022-05-05T20:54:05.978Z"
   },
   {
    "duration": 14,
    "start_time": "2022-05-05T20:54:05.986Z"
   },
   {
    "duration": 28,
    "start_time": "2022-05-05T20:54:06.002Z"
   },
   {
    "duration": 6,
    "start_time": "2022-05-05T20:54:06.031Z"
   },
   {
    "duration": 37695,
    "start_time": "2022-05-05T20:54:06.041Z"
   },
   {
    "duration": 14,
    "start_time": "2022-05-05T20:54:43.740Z"
   },
   {
    "duration": 11,
    "start_time": "2022-05-05T20:54:43.756Z"
   },
   {
    "duration": 195,
    "start_time": "2022-05-05T20:54:43.770Z"
   },
   {
    "duration": 59,
    "start_time": "2022-05-05T20:54:43.967Z"
   },
   {
    "duration": 6,
    "start_time": "2022-05-05T20:54:44.029Z"
   },
   {
    "duration": 17,
    "start_time": "2022-05-05T20:54:44.040Z"
   },
   {
    "duration": 6,
    "start_time": "2022-05-05T20:54:44.059Z"
   },
   {
    "duration": 11,
    "start_time": "2022-05-05T20:54:44.067Z"
   },
   {
    "duration": 7,
    "start_time": "2022-05-05T20:54:44.080Z"
   },
   {
    "duration": 145,
    "start_time": "2022-05-05T20:54:44.089Z"
   },
   {
    "duration": 120,
    "start_time": "2022-05-05T20:54:44.236Z"
   },
   {
    "duration": 122440,
    "start_time": "2022-05-05T20:54:44.358Z"
   },
   {
    "duration": 56,
    "start_time": "2022-05-05T20:56:46.801Z"
   },
   {
    "duration": 201,
    "start_time": "2022-05-05T20:56:46.861Z"
   },
   {
    "duration": 130,
    "start_time": "2022-05-05T20:56:47.063Z"
   },
   {
    "duration": 246,
    "start_time": "2022-05-05T20:56:47.195Z"
   },
   {
    "duration": 179,
    "start_time": "2022-05-05T20:56:47.444Z"
   },
   {
    "duration": 30,
    "start_time": "2022-05-05T20:56:47.625Z"
   },
   {
    "duration": 22,
    "start_time": "2022-05-05T20:56:47.657Z"
   },
   {
    "duration": 2933,
    "start_time": "2022-05-05T20:56:47.681Z"
   },
   {
    "duration": 2003,
    "start_time": "2022-05-05T20:56:50.623Z"
   },
   {
    "duration": 589511,
    "start_time": "2022-05-05T20:56:52.634Z"
   },
   {
    "duration": 8,
    "start_time": "2022-05-05T21:06:42.149Z"
   },
   {
    "duration": 12301,
    "start_time": "2022-05-05T21:06:59.549Z"
   },
   {
    "duration": 1665,
    "start_time": "2022-05-06T11:00:20.752Z"
   },
   {
    "duration": 4,
    "start_time": "2022-05-06T11:00:24.424Z"
   },
   {
    "duration": 31,
    "start_time": "2022-05-06T11:00:24.735Z"
   },
   {
    "duration": 6,
    "start_time": "2022-05-06T11:00:24.903Z"
   },
   {
    "duration": 14,
    "start_time": "2022-05-06T11:00:25.090Z"
   },
   {
    "duration": 18,
    "start_time": "2022-05-06T11:00:25.218Z"
   },
   {
    "duration": 49,
    "start_time": "2022-05-06T11:00:25.375Z"
   },
   {
    "duration": 4,
    "start_time": "2022-05-06T11:00:25.885Z"
   },
   {
    "duration": 6,
    "start_time": "2022-05-06T11:00:26.065Z"
   },
   {
    "duration": 5,
    "start_time": "2022-05-06T11:00:26.832Z"
   },
   {
    "duration": 8,
    "start_time": "2022-05-06T11:00:27.056Z"
   },
   {
    "duration": 8,
    "start_time": "2022-05-06T11:00:27.421Z"
   },
   {
    "duration": 9,
    "start_time": "2022-05-06T11:00:28.015Z"
   },
   {
    "duration": 37438,
    "start_time": "2022-05-06T11:00:30.080Z"
   },
   {
    "duration": 14,
    "start_time": "2022-05-06T11:01:17.915Z"
   },
   {
    "duration": 8,
    "start_time": "2022-05-06T11:02:44.763Z"
   },
   {
    "duration": 136,
    "start_time": "2022-05-06T11:02:48.563Z"
   },
   {
    "duration": 20,
    "start_time": "2022-05-06T11:03:01.517Z"
   },
   {
    "duration": 5,
    "start_time": "2022-05-06T11:03:06.996Z"
   },
   {
    "duration": 7,
    "start_time": "2022-05-06T11:03:09.197Z"
   },
   {
    "duration": 6,
    "start_time": "2022-05-06T11:03:11.289Z"
   },
   {
    "duration": 6,
    "start_time": "2022-05-06T11:03:13.051Z"
   },
   {
    "duration": 6,
    "start_time": "2022-05-06T11:03:14.757Z"
   },
   {
    "duration": 115,
    "start_time": "2022-05-06T11:03:19.991Z"
   },
   {
    "duration": 22,
    "start_time": "2022-05-06T11:03:24.776Z"
   },
   {
    "duration": 68736,
    "start_time": "2022-05-06T11:03:29.004Z"
   },
   {
    "duration": 57,
    "start_time": "2022-05-06T11:05:11.137Z"
   },
   {
    "duration": 234,
    "start_time": "2022-05-06T11:05:18.091Z"
   },
   {
    "duration": 152,
    "start_time": "2022-05-06T11:05:21.983Z"
   },
   {
    "duration": 194,
    "start_time": "2022-05-06T11:05:26.162Z"
   },
   {
    "duration": 131,
    "start_time": "2022-05-06T11:05:27.875Z"
   },
   {
    "duration": 24,
    "start_time": "2022-05-06T11:05:32.844Z"
   },
   {
    "duration": 21,
    "start_time": "2022-05-06T11:05:35.492Z"
   },
   {
    "duration": 2189,
    "start_time": "2022-05-06T11:05:40.820Z"
   },
   {
    "duration": 5386,
    "start_time": "2022-05-06T11:05:46.249Z"
   },
   {
    "duration": 354912,
    "start_time": "2022-05-06T11:06:13.791Z"
   },
   {
    "duration": 8,
    "start_time": "2022-05-06T11:12:14.104Z"
   },
   {
    "duration": 6,
    "start_time": "2022-05-06T11:43:46.411Z"
   },
   {
    "duration": 4,
    "start_time": "2022-05-06T11:43:46.419Z"
   },
   {
    "duration": 25,
    "start_time": "2022-05-06T11:43:46.425Z"
   },
   {
    "duration": 3,
    "start_time": "2022-05-06T11:43:46.452Z"
   },
   {
    "duration": 15,
    "start_time": "2022-05-06T11:43:46.457Z"
   },
   {
    "duration": 59,
    "start_time": "2022-05-06T11:43:46.473Z"
   },
   {
    "duration": 41,
    "start_time": "2022-05-06T11:43:46.537Z"
   },
   {
    "duration": 5,
    "start_time": "2022-05-06T11:43:46.580Z"
   },
   {
    "duration": 24,
    "start_time": "2022-05-06T11:43:46.587Z"
   },
   {
    "duration": 8,
    "start_time": "2022-05-06T11:43:46.613Z"
   },
   {
    "duration": 19,
    "start_time": "2022-05-06T11:43:46.624Z"
   },
   {
    "duration": 7,
    "start_time": "2022-05-06T11:43:46.645Z"
   },
   {
    "duration": 4,
    "start_time": "2022-05-06T11:43:46.654Z"
   },
   {
    "duration": 39855,
    "start_time": "2022-05-06T11:43:46.659Z"
   },
   {
    "duration": 21,
    "start_time": "2022-05-06T11:44:26.519Z"
   },
   {
    "duration": 8,
    "start_time": "2022-05-06T11:44:26.542Z"
   },
   {
    "duration": 65,
    "start_time": "2022-05-06T11:44:26.551Z"
   },
   {
    "duration": 27,
    "start_time": "2022-05-06T11:44:26.618Z"
   },
   {
    "duration": 4,
    "start_time": "2022-05-06T11:44:26.647Z"
   },
   {
    "duration": 7,
    "start_time": "2022-05-06T11:44:26.653Z"
   },
   {
    "duration": 6,
    "start_time": "2022-05-06T11:44:26.661Z"
   },
   {
    "duration": 5,
    "start_time": "2022-05-06T11:44:26.668Z"
   },
   {
    "duration": 43,
    "start_time": "2022-05-06T11:44:26.674Z"
   },
   {
    "duration": 114,
    "start_time": "2022-05-06T11:44:26.719Z"
   },
   {
    "duration": 177,
    "start_time": "2022-05-06T11:44:26.838Z"
   },
   {
    "duration": 84353,
    "start_time": "2022-05-06T11:44:27.034Z"
   },
   {
    "duration": 299,
    "start_time": "2022-05-06T11:45:51.389Z"
   },
   {
    "duration": 243,
    "start_time": "2022-05-06T11:45:51.691Z"
   },
   {
    "duration": 146,
    "start_time": "2022-05-06T11:45:51.939Z"
   },
   {
    "duration": 259,
    "start_time": "2022-05-06T11:45:52.087Z"
   },
   {
    "duration": 135,
    "start_time": "2022-05-06T11:45:52.348Z"
   },
   {
    "duration": 29,
    "start_time": "2022-05-06T11:45:52.485Z"
   },
   {
    "duration": 20,
    "start_time": "2022-05-06T11:45:52.516Z"
   },
   {
    "duration": 2831,
    "start_time": "2022-05-06T11:45:52.538Z"
   },
   {
    "duration": 16355,
    "start_time": "2022-05-06T11:45:55.371Z"
   },
   {
    "duration": 501898,
    "start_time": "2022-05-06T11:46:11.733Z"
   },
   {
    "duration": 7,
    "start_time": "2022-05-06T11:54:33.633Z"
   },
   {
    "duration": 288,
    "start_time": "2022-05-06T11:59:02.395Z"
   },
   {
    "duration": 64,
    "start_time": "2022-05-06T11:59:16.476Z"
   },
   {
    "duration": 30,
    "start_time": "2022-05-06T11:59:20.476Z"
   },
   {
    "duration": 36,
    "start_time": "2022-05-06T11:59:23.694Z"
   },
   {
    "duration": 104,
    "start_time": "2022-05-06T11:59:26.610Z"
   },
   {
    "duration": 22,
    "start_time": "2022-05-06T11:59:28.852Z"
   },
   {
    "duration": 54,
    "start_time": "2022-05-06T11:59:32.404Z"
   },
   {
    "duration": 87,
    "start_time": "2022-05-06T11:59:34.633Z"
   },
   {
    "duration": 25,
    "start_time": "2022-05-06T11:59:36.687Z"
   },
   {
    "duration": 24,
    "start_time": "2022-05-06T11:59:39.175Z"
   },
   {
    "duration": 96,
    "start_time": "2022-05-06T11:59:41.820Z"
   },
   {
    "duration": 29,
    "start_time": "2022-05-06T11:59:44.886Z"
   },
   {
    "duration": 46,
    "start_time": "2022-05-06T11:59:48.089Z"
   },
   {
    "duration": 22,
    "start_time": "2022-05-06T11:59:51.749Z"
   },
   {
    "duration": 121,
    "start_time": "2022-05-06T11:59:59.685Z"
   },
   {
    "duration": 38,
    "start_time": "2022-05-06T12:00:04.718Z"
   },
   {
    "duration": 27,
    "start_time": "2022-05-06T12:00:07.053Z"
   },
   {
    "duration": 43,
    "start_time": "2022-05-06T12:00:09.274Z"
   },
   {
    "duration": 47,
    "start_time": "2022-05-06T12:00:11.299Z"
   },
   {
    "duration": 43,
    "start_time": "2022-05-06T19:49:15.637Z"
   },
   {
    "duration": 8,
    "start_time": "2022-05-06T19:49:30.714Z"
   },
   {
    "duration": 1852,
    "start_time": "2022-05-06T19:49:37.111Z"
   },
   {
    "duration": 3,
    "start_time": "2022-05-06T19:49:40.049Z"
   },
   {
    "duration": 30,
    "start_time": "2022-05-06T19:49:40.514Z"
   },
   {
    "duration": 5,
    "start_time": "2022-05-06T19:49:40.699Z"
   },
   {
    "duration": 14,
    "start_time": "2022-05-06T19:49:40.995Z"
   },
   {
    "duration": 15,
    "start_time": "2022-05-06T19:49:41.417Z"
   },
   {
    "duration": 35,
    "start_time": "2022-05-06T19:49:41.714Z"
   },
   {
    "duration": 4,
    "start_time": "2022-05-06T19:49:42.352Z"
   },
   {
    "duration": 5,
    "start_time": "2022-05-06T19:49:42.566Z"
   },
   {
    "duration": 5,
    "start_time": "2022-05-06T19:49:43.145Z"
   },
   {
    "duration": 9,
    "start_time": "2022-05-06T19:49:43.544Z"
   },
   {
    "duration": 6,
    "start_time": "2022-05-06T19:49:43.965Z"
   },
   {
    "duration": 4,
    "start_time": "2022-05-06T19:49:44.748Z"
   },
   {
    "duration": 31620,
    "start_time": "2022-05-06T19:49:46.413Z"
   },
   {
    "duration": 11,
    "start_time": "2022-05-06T19:50:18.035Z"
   },
   {
    "duration": 8,
    "start_time": "2022-05-06T19:50:25.320Z"
   },
   {
    "duration": 159,
    "start_time": "2022-05-06T19:50:28.257Z"
   },
   {
    "duration": 28,
    "start_time": "2022-05-06T19:50:31.733Z"
   },
   {
    "duration": 24,
    "start_time": "2022-05-06T19:51:00.145Z"
   },
   {
    "duration": 4,
    "start_time": "2022-05-06T19:51:02.148Z"
   },
   {
    "duration": 7,
    "start_time": "2022-05-06T19:51:13.926Z"
   },
   {
    "duration": 125,
    "start_time": "2022-05-06T19:51:16.842Z"
   },
   {
    "duration": 78,
    "start_time": "2022-05-06T19:51:37.741Z"
   },
   {
    "duration": 716,
    "start_time": "2022-05-06T19:52:28.096Z"
   },
   {
    "duration": 183,
    "start_time": "2022-05-06T19:52:49.818Z"
   },
   {
    "duration": 679,
    "start_time": "2022-05-06T19:53:08.321Z"
   },
   {
    "duration": 454,
    "start_time": "2022-05-06T19:53:46.421Z"
   },
   {
    "duration": 489,
    "start_time": "2022-05-06T19:55:49.792Z"
   },
   {
    "duration": 429,
    "start_time": "2022-05-06T19:56:07.354Z"
   },
   {
    "duration": 19,
    "start_time": "2022-05-06T19:57:17.023Z"
   },
   {
    "duration": 5,
    "start_time": "2022-05-06T19:57:21.017Z"
   },
   {
    "duration": 8,
    "start_time": "2022-05-06T19:57:22.612Z"
   },
   {
    "duration": 1559,
    "start_time": "2022-06-04T12:01:48.590Z"
   },
   {
    "duration": 3,
    "start_time": "2022-06-04T12:01:50.151Z"
   },
   {
    "duration": 169,
    "start_time": "2022-06-04T12:01:50.156Z"
   },
   {
    "duration": 6,
    "start_time": "2022-06-04T12:01:50.327Z"
   },
   {
    "duration": 20,
    "start_time": "2022-06-04T12:01:50.336Z"
   },
   {
    "duration": 24,
    "start_time": "2022-06-04T12:01:50.358Z"
   },
   {
    "duration": 85,
    "start_time": "2022-06-04T12:01:50.384Z"
   },
   {
    "duration": 6,
    "start_time": "2022-06-04T12:01:50.471Z"
   },
   {
    "duration": 11,
    "start_time": "2022-06-04T12:01:50.478Z"
   },
   {
    "duration": 13,
    "start_time": "2022-06-04T12:01:50.491Z"
   },
   {
    "duration": 24,
    "start_time": "2022-06-04T12:01:50.507Z"
   },
   {
    "duration": 10,
    "start_time": "2022-06-04T12:01:50.533Z"
   },
   {
    "duration": 5,
    "start_time": "2022-06-04T12:01:50.545Z"
   },
   {
    "duration": 43788,
    "start_time": "2022-06-04T12:01:50.553Z"
   },
   {
    "duration": 15,
    "start_time": "2022-06-04T12:02:34.343Z"
   },
   {
    "duration": 38,
    "start_time": "2022-06-04T12:02:34.360Z"
   },
   {
    "duration": 45,
    "start_time": "2022-06-04T12:02:34.400Z"
   },
   {
    "duration": 28,
    "start_time": "2022-06-04T12:02:34.447Z"
   },
   {
    "duration": 13,
    "start_time": "2022-06-04T12:02:34.476Z"
   },
   {
    "duration": 40,
    "start_time": "2022-06-04T12:02:34.490Z"
   },
   {
    "duration": 42,
    "start_time": "2022-06-04T12:02:34.533Z"
   },
   {
    "duration": 38,
    "start_time": "2022-06-04T12:02:34.577Z"
   },
   {
    "duration": 38,
    "start_time": "2022-06-04T12:02:34.618Z"
   },
   {
    "duration": 211,
    "start_time": "2022-06-04T12:02:34.658Z"
   },
   {
    "duration": 199,
    "start_time": "2022-06-04T12:02:34.927Z"
   },
   {
    "duration": 79359,
    "start_time": "2022-06-04T12:02:35.128Z"
   },
   {
    "duration": 75,
    "start_time": "2022-06-04T12:03:54.489Z"
   },
   {
    "duration": 208,
    "start_time": "2022-06-04T12:03:54.566Z"
   },
   {
    "duration": 187,
    "start_time": "2022-06-04T12:03:54.776Z"
   },
   {
    "duration": 198,
    "start_time": "2022-06-04T12:03:54.966Z"
   },
   {
    "duration": 141,
    "start_time": "2022-06-04T12:03:55.165Z"
   },
   {
    "duration": 34,
    "start_time": "2022-06-04T12:03:55.308Z"
   },
   {
    "duration": 17,
    "start_time": "2022-06-04T12:03:55.344Z"
   },
   {
    "duration": 2635,
    "start_time": "2022-06-04T12:03:55.363Z"
   },
   {
    "duration": 8626,
    "start_time": "2022-06-04T12:03:58.000Z"
   },
   {
    "duration": 566279,
    "start_time": "2022-06-04T12:04:06.629Z"
   },
   {
    "duration": 14,
    "start_time": "2022-06-04T12:13:32.910Z"
   },
   {
    "duration": 43,
    "start_time": "2022-06-10T11:53:38.529Z"
   },
   {
    "duration": 6,
    "start_time": "2022-06-10T11:53:50.125Z"
   },
   {
    "duration": 6,
    "start_time": "2022-06-10T11:58:52.583Z"
   },
   {
    "duration": 1332,
    "start_time": "2022-06-10T11:58:55.987Z"
   },
   {
    "duration": 3,
    "start_time": "2022-06-10T11:58:57.320Z"
   },
   {
    "duration": 89,
    "start_time": "2022-06-10T11:58:57.324Z"
   },
   {
    "duration": 5,
    "start_time": "2022-06-10T11:58:57.414Z"
   },
   {
    "duration": 17,
    "start_time": "2022-06-10T11:58:57.421Z"
   },
   {
    "duration": 15,
    "start_time": "2022-06-10T11:58:57.439Z"
   },
   {
    "duration": 34,
    "start_time": "2022-06-10T11:58:57.456Z"
   },
   {
    "duration": 3,
    "start_time": "2022-06-10T11:58:57.492Z"
   },
   {
    "duration": 6,
    "start_time": "2022-06-10T11:58:57.497Z"
   },
   {
    "duration": 24,
    "start_time": "2022-06-10T11:58:57.504Z"
   },
   {
    "duration": 7,
    "start_time": "2022-06-10T11:58:57.530Z"
   },
   {
    "duration": 8,
    "start_time": "2022-06-10T11:58:57.539Z"
   },
   {
    "duration": 8,
    "start_time": "2022-06-10T11:58:57.549Z"
   },
   {
    "duration": 4213,
    "start_time": "2022-06-10T11:58:57.560Z"
   },
   {
    "duration": 0,
    "start_time": "2022-06-10T11:59:01.775Z"
   },
   {
    "duration": 0,
    "start_time": "2022-06-10T11:59:01.776Z"
   },
   {
    "duration": 0,
    "start_time": "2022-06-10T11:59:01.777Z"
   },
   {
    "duration": 0,
    "start_time": "2022-06-10T11:59:01.778Z"
   },
   {
    "duration": 0,
    "start_time": "2022-06-10T11:59:01.779Z"
   },
   {
    "duration": 0,
    "start_time": "2022-06-10T11:59:01.781Z"
   },
   {
    "duration": 0,
    "start_time": "2022-06-10T11:59:01.782Z"
   },
   {
    "duration": 0,
    "start_time": "2022-06-10T11:59:01.783Z"
   },
   {
    "duration": 0,
    "start_time": "2022-06-10T11:59:01.784Z"
   },
   {
    "duration": 0,
    "start_time": "2022-06-10T11:59:01.785Z"
   },
   {
    "duration": 0,
    "start_time": "2022-06-10T11:59:01.786Z"
   },
   {
    "duration": 0,
    "start_time": "2022-06-10T11:59:01.787Z"
   },
   {
    "duration": 1,
    "start_time": "2022-06-10T11:59:01.787Z"
   },
   {
    "duration": 0,
    "start_time": "2022-06-10T11:59:01.788Z"
   },
   {
    "duration": 0,
    "start_time": "2022-06-10T11:59:01.790Z"
   },
   {
    "duration": 0,
    "start_time": "2022-06-10T11:59:01.791Z"
   },
   {
    "duration": 0,
    "start_time": "2022-06-10T11:59:01.792Z"
   },
   {
    "duration": 0,
    "start_time": "2022-06-10T11:59:01.793Z"
   },
   {
    "duration": 0,
    "start_time": "2022-06-10T11:59:01.826Z"
   },
   {
    "duration": 0,
    "start_time": "2022-06-10T11:59:01.828Z"
   },
   {
    "duration": 0,
    "start_time": "2022-06-10T11:59:01.829Z"
   },
   {
    "duration": 0,
    "start_time": "2022-06-10T11:59:01.831Z"
   },
   {
    "duration": 0,
    "start_time": "2022-06-10T11:59:01.832Z"
   },
   {
    "duration": 4,
    "start_time": "2022-06-10T11:59:22.774Z"
   },
   {
    "duration": 11,
    "start_time": "2022-06-10T11:59:22.779Z"
   },
   {
    "duration": 41,
    "start_time": "2022-06-10T11:59:22.792Z"
   },
   {
    "duration": 3,
    "start_time": "2022-06-10T11:59:22.835Z"
   },
   {
    "duration": 14,
    "start_time": "2022-06-10T11:59:22.840Z"
   },
   {
    "duration": 12,
    "start_time": "2022-06-10T11:59:22.855Z"
   },
   {
    "duration": 39,
    "start_time": "2022-06-10T11:59:22.868Z"
   },
   {
    "duration": 19,
    "start_time": "2022-06-10T11:59:22.908Z"
   },
   {
    "duration": 3,
    "start_time": "2022-06-10T11:59:22.929Z"
   },
   {
    "duration": 6,
    "start_time": "2022-06-10T11:59:22.934Z"
   },
   {
    "duration": 8,
    "start_time": "2022-06-10T11:59:22.942Z"
   },
   {
    "duration": 8,
    "start_time": "2022-06-10T11:59:22.951Z"
   },
   {
    "duration": 4,
    "start_time": "2022-06-10T11:59:22.960Z"
   },
   {
    "duration": 4700,
    "start_time": "2022-06-10T11:59:22.966Z"
   },
   {
    "duration": 0,
    "start_time": "2022-06-10T11:59:27.667Z"
   },
   {
    "duration": 0,
    "start_time": "2022-06-10T11:59:27.668Z"
   },
   {
    "duration": 0,
    "start_time": "2022-06-10T11:59:27.669Z"
   },
   {
    "duration": 0,
    "start_time": "2022-06-10T11:59:27.670Z"
   },
   {
    "duration": 0,
    "start_time": "2022-06-10T11:59:27.671Z"
   },
   {
    "duration": 0,
    "start_time": "2022-06-10T11:59:27.672Z"
   },
   {
    "duration": 0,
    "start_time": "2022-06-10T11:59:27.673Z"
   },
   {
    "duration": 0,
    "start_time": "2022-06-10T11:59:27.674Z"
   },
   {
    "duration": 0,
    "start_time": "2022-06-10T11:59:27.675Z"
   },
   {
    "duration": 0,
    "start_time": "2022-06-10T11:59:27.676Z"
   },
   {
    "duration": 0,
    "start_time": "2022-06-10T11:59:27.677Z"
   },
   {
    "duration": 0,
    "start_time": "2022-06-10T11:59:27.678Z"
   },
   {
    "duration": 0,
    "start_time": "2022-06-10T11:59:27.679Z"
   },
   {
    "duration": 0,
    "start_time": "2022-06-10T11:59:27.680Z"
   },
   {
    "duration": 0,
    "start_time": "2022-06-10T11:59:27.681Z"
   },
   {
    "duration": 0,
    "start_time": "2022-06-10T11:59:27.682Z"
   },
   {
    "duration": 0,
    "start_time": "2022-06-10T11:59:27.683Z"
   },
   {
    "duration": 0,
    "start_time": "2022-06-10T11:59:27.684Z"
   },
   {
    "duration": 0,
    "start_time": "2022-06-10T11:59:27.685Z"
   },
   {
    "duration": 0,
    "start_time": "2022-06-10T11:59:27.686Z"
   },
   {
    "duration": 0,
    "start_time": "2022-06-10T11:59:27.688Z"
   },
   {
    "duration": 0,
    "start_time": "2022-06-10T11:59:27.689Z"
   },
   {
    "duration": 0,
    "start_time": "2022-06-10T11:59:27.727Z"
   },
   {
    "duration": 9,
    "start_time": "2022-06-10T12:01:07.623Z"
   },
   {
    "duration": 10,
    "start_time": "2022-06-10T12:02:43.583Z"
   },
   {
    "duration": 8,
    "start_time": "2022-06-10T12:02:48.359Z"
   },
   {
    "duration": 2993,
    "start_time": "2022-06-10T12:02:58.902Z"
   },
   {
    "duration": 2410,
    "start_time": "2022-06-10T12:03:41.227Z"
   },
   {
    "duration": 2164,
    "start_time": "2022-06-10T12:03:52.749Z"
   },
   {
    "duration": 1628,
    "start_time": "2022-07-23T15:31:17.159Z"
   },
   {
    "duration": 2,
    "start_time": "2022-07-23T15:31:18.789Z"
   },
   {
    "duration": 97,
    "start_time": "2022-07-23T15:31:18.793Z"
   },
   {
    "duration": 6,
    "start_time": "2022-07-23T15:31:18.892Z"
   },
   {
    "duration": 20,
    "start_time": "2022-07-23T15:31:18.901Z"
   },
   {
    "duration": 16,
    "start_time": "2022-07-23T15:31:18.923Z"
   },
   {
    "duration": 51,
    "start_time": "2022-07-23T15:31:18.941Z"
   },
   {
    "duration": 3,
    "start_time": "2022-07-23T15:31:18.994Z"
   },
   {
    "duration": 6,
    "start_time": "2022-07-23T15:31:18.999Z"
   },
   {
    "duration": 6,
    "start_time": "2022-07-23T15:31:19.007Z"
   },
   {
    "duration": 8,
    "start_time": "2022-07-23T15:31:19.015Z"
   },
   {
    "duration": 7,
    "start_time": "2022-07-23T15:31:19.025Z"
   },
   {
    "duration": 31,
    "start_time": "2022-07-23T15:31:19.033Z"
   },
   {
    "duration": 7478,
    "start_time": "2022-07-23T15:31:19.068Z"
   },
   {
    "duration": 0,
    "start_time": "2022-07-23T15:31:26.548Z"
   },
   {
    "duration": 0,
    "start_time": "2022-07-23T15:31:26.550Z"
   },
   {
    "duration": 0,
    "start_time": "2022-07-23T15:31:26.551Z"
   },
   {
    "duration": 0,
    "start_time": "2022-07-23T15:31:26.553Z"
   },
   {
    "duration": 0,
    "start_time": "2022-07-23T15:31:26.563Z"
   },
   {
    "duration": 0,
    "start_time": "2022-07-23T15:31:26.565Z"
   },
   {
    "duration": 0,
    "start_time": "2022-07-23T15:31:26.566Z"
   },
   {
    "duration": 0,
    "start_time": "2022-07-23T15:31:26.567Z"
   },
   {
    "duration": 0,
    "start_time": "2022-07-23T15:31:26.569Z"
   },
   {
    "duration": 0,
    "start_time": "2022-07-23T15:31:26.570Z"
   },
   {
    "duration": 0,
    "start_time": "2022-07-23T15:31:26.571Z"
   },
   {
    "duration": 0,
    "start_time": "2022-07-23T15:31:26.573Z"
   },
   {
    "duration": 0,
    "start_time": "2022-07-23T15:31:26.574Z"
   },
   {
    "duration": 0,
    "start_time": "2022-07-23T15:31:26.575Z"
   },
   {
    "duration": 0,
    "start_time": "2022-07-23T15:31:26.577Z"
   },
   {
    "duration": 0,
    "start_time": "2022-07-23T15:31:26.578Z"
   },
   {
    "duration": 0,
    "start_time": "2022-07-23T15:31:26.579Z"
   },
   {
    "duration": 0,
    "start_time": "2022-07-23T15:31:26.580Z"
   },
   {
    "duration": 0,
    "start_time": "2022-07-23T15:31:26.582Z"
   },
   {
    "duration": 0,
    "start_time": "2022-07-23T15:31:26.583Z"
   },
   {
    "duration": 0,
    "start_time": "2022-07-23T15:31:26.585Z"
   },
   {
    "duration": 0,
    "start_time": "2022-07-23T15:31:26.586Z"
   },
   {
    "duration": 0,
    "start_time": "2022-07-23T15:31:26.588Z"
   },
   {
    "duration": 14258,
    "start_time": "2022-07-23T15:31:57.482Z"
   },
   {
    "duration": 1445,
    "start_time": "2022-07-23T15:32:26.386Z"
   },
   {
    "duration": 3,
    "start_time": "2022-07-23T15:32:27.833Z"
   },
   {
    "duration": 71,
    "start_time": "2022-07-23T15:32:27.837Z"
   },
   {
    "duration": 6,
    "start_time": "2022-07-23T15:32:27.910Z"
   },
   {
    "duration": 14,
    "start_time": "2022-07-23T15:32:27.918Z"
   },
   {
    "duration": 18,
    "start_time": "2022-07-23T15:32:27.934Z"
   },
   {
    "duration": 47,
    "start_time": "2022-07-23T15:32:27.953Z"
   },
   {
    "duration": 4,
    "start_time": "2022-07-23T15:32:28.001Z"
   },
   {
    "duration": 19,
    "start_time": "2022-07-23T15:32:28.007Z"
   },
   {
    "duration": 6,
    "start_time": "2022-07-23T15:32:28.028Z"
   },
   {
    "duration": 11,
    "start_time": "2022-07-23T15:32:28.035Z"
   },
   {
    "duration": 7,
    "start_time": "2022-07-23T15:32:28.047Z"
   },
   {
    "duration": 10,
    "start_time": "2022-07-23T15:32:28.056Z"
   },
   {
    "duration": 25,
    "start_time": "2022-07-23T15:32:28.070Z"
   },
   {
    "duration": 8,
    "start_time": "2022-07-23T15:32:28.096Z"
   },
   {
    "duration": 17,
    "start_time": "2022-07-23T15:32:28.106Z"
   },
   {
    "duration": 19,
    "start_time": "2022-07-23T15:32:28.125Z"
   },
   {
    "duration": 6,
    "start_time": "2022-07-23T15:32:28.165Z"
   },
   {
    "duration": 22,
    "start_time": "2022-07-23T15:32:28.173Z"
   },
   {
    "duration": 7,
    "start_time": "2022-07-23T15:32:28.197Z"
   },
   {
    "duration": 8,
    "start_time": "2022-07-23T15:32:28.206Z"
   },
   {
    "duration": 8,
    "start_time": "2022-07-23T15:32:28.216Z"
   },
   {
    "duration": 144,
    "start_time": "2022-07-23T15:32:28.226Z"
   },
   {
    "duration": 196,
    "start_time": "2022-07-23T15:32:28.374Z"
   },
   {
    "duration": 76625,
    "start_time": "2022-07-23T15:32:28.573Z"
   },
   {
    "duration": 65,
    "start_time": "2022-07-23T15:33:45.199Z"
   },
   {
    "duration": 229,
    "start_time": "2022-07-23T15:33:45.266Z"
   },
   {
    "duration": 143,
    "start_time": "2022-07-23T15:33:45.497Z"
   },
   {
    "duration": 260,
    "start_time": "2022-07-23T15:33:45.642Z"
   },
   {
    "duration": 147,
    "start_time": "2022-07-23T15:33:45.904Z"
   },
   {
    "duration": 36,
    "start_time": "2022-07-23T15:33:46.053Z"
   },
   {
    "duration": 17,
    "start_time": "2022-07-23T15:33:46.091Z"
   },
   {
    "duration": 2415,
    "start_time": "2022-07-23T15:33:46.110Z"
   },
   {
    "duration": 3457,
    "start_time": "2022-07-23T15:33:48.526Z"
   },
   {
    "duration": 453248,
    "start_time": "2022-07-23T15:33:51.990Z"
   },
   {
    "duration": 5,
    "start_time": "2022-07-23T15:41:25.239Z"
   }
  ],
  "kernelspec": {
   "display_name": "Python 3 (ipykernel)",
   "language": "python",
   "name": "python3"
  },
  "language_info": {
   "codemirror_mode": {
    "name": "ipython",
    "version": 3
   },
   "file_extension": ".py",
   "mimetype": "text/x-python",
   "name": "python",
   "nbconvert_exporter": "python",
   "pygments_lexer": "ipython3",
   "version": "3.9.5"
  },
  "toc": {
   "base_numbering": 1,
   "nav_menu": {},
   "number_sections": true,
   "sideBar": true,
   "skip_h1_title": true,
   "title_cell": "Содержание",
   "title_sidebar": "Contents",
   "toc_cell": true,
   "toc_position": {
    "height": "calc(100% - 180px)",
    "left": "10px",
    "top": "150px",
    "width": "165px"
   },
   "toc_section_display": true,
   "toc_window_display": true
  }
 },
 "nbformat": 4,
 "nbformat_minor": 2
}
